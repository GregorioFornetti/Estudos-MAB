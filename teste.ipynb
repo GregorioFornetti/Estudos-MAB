{
 "cells": [
  {
   "cell_type": "code",
   "execution_count": 4,
   "metadata": {},
   "outputs": [
    {
     "name": "stdout",
     "output_type": "stream",
     "text": [
      "{'C': 0.1, 'gamma': 0.001, 'kernel': 'linear'}\n",
      "{'C': 0.1, 'gamma': 0.001, 'kernel': 'rbf'}\n",
      "{'C': 0.1, 'gamma': 0.01, 'kernel': 'linear'}\n",
      "{'C': 0.1, 'gamma': 0.01, 'kernel': 'rbf'}\n",
      "{'C': 0.1, 'gamma': 0.1, 'kernel': 'linear'}\n",
      "{'C': 0.1, 'gamma': 0.1, 'kernel': 'rbf'}\n",
      "{'C': 1, 'gamma': 0.001, 'kernel': 'linear'}\n",
      "{'C': 1, 'gamma': 0.001, 'kernel': 'rbf'}\n",
      "{'C': 1, 'gamma': 0.01, 'kernel': 'linear'}\n",
      "{'C': 1, 'gamma': 0.01, 'kernel': 'rbf'}\n",
      "{'C': 1, 'gamma': 0.1, 'kernel': 'linear'}\n",
      "{'C': 1, 'gamma': 0.1, 'kernel': 'rbf'}\n",
      "{'C': 10, 'gamma': 0.001, 'kernel': 'linear'}\n",
      "{'C': 10, 'gamma': 0.001, 'kernel': 'rbf'}\n",
      "{'C': 10, 'gamma': 0.01, 'kernel': 'linear'}\n",
      "{'C': 10, 'gamma': 0.01, 'kernel': 'rbf'}\n",
      "{'C': 10, 'gamma': 0.1, 'kernel': 'linear'}\n",
      "{'C': 10, 'gamma': 0.1, 'kernel': 'rbf'}\n",
      "18\n"
     ]
    }
   ],
   "source": [
    "from sklearn.model_selection import ParameterGrid\n",
    "\n",
    "# Define your hyperparameters and their respective values\n",
    "param_grid = {\n",
    "    'C': [0.1, 1, 10],\n",
    "    'kernel': ['linear', 'rbf'],\n",
    "    'gamma': [0.001, 0.01, 0.1]\n",
    "}\n",
    "\n",
    "# Create an instance of ParameterGrid\n",
    "param_grid_instance = ParameterGrid(param_grid)\n",
    "\n",
    "# Loop over each combination of hyperparameters\n",
    "for params in param_grid_instance:\n",
    "    print(params)\n",
    "print(len(param_grid_instance))"
   ]
  },
  {
   "cell_type": "code",
   "execution_count": 6,
   "metadata": {},
   "outputs": [
    {
     "name": "stdout",
     "output_type": "stream",
     "text": [
      "<sklearn.model_selection._search.ParameterGrid object at 0x000001C81C9C4370>\n",
      "{}\n"
     ]
    }
   ],
   "source": [
    "teste = ParameterGrid({})\n",
    "\n",
    "print(teste)\n",
    "\n",
    "for params in teste:\n",
    "    print(params)"
   ]
  },
  {
   "cell_type": "code",
   "execution_count": 9,
   "metadata": {},
   "outputs": [
    {
     "data": {
      "text/plain": [
       "'params 1'"
      ]
     },
     "execution_count": 9,
     "metadata": {},
     "output_type": "execute_result"
    }
   ],
   "source": [
    "teste = {\n",
    "    'params 1': [1, 2, 3, 10],\n",
    "    'param 2': [1, 3, 5, 9],\n",
    "}\n",
    "\n",
    "best_params = max(teste, key=lambda x: teste[x][-1])  # Parâmetros que geraram a maior recompensa média acumulada na última interação\n",
    "\n",
    "best_params"
   ]
  }
 ],
 "metadata": {
  "kernelspec": {
   "display_name": "RLRS-rllib",
   "language": "python",
   "name": "python3"
  },
  "language_info": {
   "codemirror_mode": {
    "name": "ipython",
    "version": 3
   },
   "file_extension": ".py",
   "mimetype": "text/x-python",
   "name": "python",
   "nbconvert_exporter": "python",
   "pygments_lexer": "ipython3",
   "version": "3.8.16"
  }
 },
 "nbformat": 4,
 "nbformat_minor": 2
}
