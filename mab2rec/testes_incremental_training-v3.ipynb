{
 "cells": [
  {
   "cell_type": "markdown",
   "metadata": {},
   "source": [
    "# Testes de treinamento incremental"
   ]
  },
  {
   "cell_type": "markdown",
   "metadata": {},
   "source": [
    "## Abordagem antiga\n",
    "\n",
    "Nos experimentos anteriores, foi testado diferentes train/test splits e como isso influencia no aprendizado dos modelos. Neles, os algoritmos de MAB iam aprendendo incrementalmente na partição de teste. Porém, nesses experimentos, a partição de teste é sempre modificada ao se mudar o train/test split, gerando problemas para analisar os resultados de diferentes splits.\n",
    "\n",
    "## Abordagem nova\n",
    "\n",
    "Abordando o problema de uma forma diferente, agora vamos fazer um train/test split inicial. Depois desse split inicial, parte da partição de treino será selecionado para filtrar a partição de teste (removendo cold-start). Por exemplo, podemos escolher começar apenas com 50% da base de treino, então, será considerado apenas as 50% primeiras interações de treino para fazer a filtragem da partição de teste (removendo os usuários e itens que nunca foram vistos nesses 50% da partição de teste).\n",
    "\n",
    "Agora, com uma base de teste fixa, vamos treinando os modelos usando diferentes tamanhos da base de treino,. Primeiro, é usado o tamanho que foi utilizado para fazer a filtragem do teste (no exemplo foi 50%), e depois, vamos incrementando esse tamanho de pouco em pouco (por exemplo, podemos incrementar de 5 em 5%, ficando 55%, depois 60%, … e assim por diante, até chegar em 100%)."
   ]
  },
  {
   "cell_type": "code",
   "execution_count": 1,
   "metadata": {},
   "outputs": [],
   "source": [
    "import pandas as pd\n",
    "from mab2rec import BanditRecommender, LearningPolicy\n",
    "from mab2rec.pipeline import train\n",
    "from sklearn.preprocessing import LabelEncoder\n",
    "import implicit\n",
    "from scipy.sparse import csr_matrix\n",
    "from implicit.nearest_neighbours import bm25_weight\n",
    "import plotly.express as px\n",
    "import time\n",
    "import os\n",
    "import math\n",
    "\n",
    "train_data = \"../data/ml100k/data_train.csv\"\n",
    "test_data = \"../data/ml100k/data_test.csv\""
   ]
  },
  {
   "cell_type": "code",
   "execution_count": 7,
   "metadata": {},
   "outputs": [],
   "source": [
    "FACTORS = 10\n",
    "K1 = 100\n",
    "B = 0.8"
   ]
  },
  {
   "cell_type": "code",
   "execution_count": 8,
   "metadata": {},
   "outputs": [],
   "source": [
    "\n",
    "def train_embeddings_model(Model, df, num_users, num_items, generate_embeddings=False):\n",
    "    sparse_matrix = csr_matrix((df['response'], (df['user_id'], df['item_id'])), shape=(num_users, num_items))\n",
    "\n",
    "    model = Model(factors=FACTORS, random_state=1)\n",
    "    model.fit(sparse_matrix)\n",
    "\n",
    "    if not generate_embeddings:\n",
    "        return model, sparse_matrix\n",
    "    \n",
    "    user_features_list = []\n",
    "\n",
    "    for user_id in df['user_id'].unique():\n",
    "        user_factors = model.user_factors[user_id][:FACTORS]  # O BPR coloca 1 no final dos vetores latentes ?\n",
    "        user_features_list.append([user_id] + list(user_factors))\n",
    "\n",
    "    \n",
    "    df_user_features = pd.DataFrame(user_features_list, columns=['user_id'] + [f'u{i}' for i in range(FACTORS)])\n",
    "\n",
    "    return model, sparse_matrix, df_user_features"
   ]
  },
  {
   "cell_type": "code",
   "execution_count": 9,
   "metadata": {},
   "outputs": [],
   "source": [
    "\n",
    "def test_embeddings_model(model, sparse_matrix, df_test):\n",
    "    all_recs = []\n",
    "\n",
    "    start_time = time.time()\n",
    "    hits = 0\n",
    "    for i, interaction in df_test.iterrows():\n",
    "        ids_recs, _ = model.recommend(userid=interaction['user_id'], user_items=sparse_matrix[interaction['user_id']], N=10)\n",
    "        if interaction['item_id'] in ids_recs:\n",
    "            hits += 1\n",
    "        all_recs.append(ids_recs.tolist())\n",
    "    \n",
    "    recs_df = pd.DataFrame({\n",
    "        'interaction_number': [i for i in range(len(df_test))],\n",
    "        'user_id': df_test['user_id'],\n",
    "        'item_id': df_test['item_id'],\n",
    "        'recommendations': all_recs\n",
    "    })\n",
    "    \n",
    "\n",
    "    return hits, hits/len(df_test), time.time() - start_time, recs_df"
   ]
  },
  {
   "cell_type": "code",
   "execution_count": 10,
   "metadata": {},
   "outputs": [],
   "source": [
    "\n",
    "def test_non_incremental(mab_algo, user_features, df_test):\n",
    "    start_time = time.time()\n",
    "    hits = 0\n",
    "\n",
    "    contexts = df_test.merge(user_features, on='user_id').drop(columns=['user_id', 'item_id', 'response']).values\n",
    "\n",
    "    recomendations = mab_algo.recommend(contexts)\n",
    "\n",
    "    df_test = df_test.reset_index(drop=True)\n",
    "\n",
    "    hits = 0\n",
    "    for i, interaction in df_test.iterrows():\n",
    "        if interaction['item_id'] in recomendations[i]:\n",
    "            hits += 1\n",
    "    \n",
    "    recs_df = pd.DataFrame({\n",
    "        'interaction_number': [i for i in range(len(df_test))],\n",
    "        'user_id': df_test['user_id'],\n",
    "        'item_id': df_test['item_id'],\n",
    "        'recommendations': recomendations\n",
    "    })\n",
    "\n",
    "    return hits, hits/len(df_test), time.time() - start_time, recs_df"
   ]
  },
  {
   "cell_type": "code",
   "execution_count": 11,
   "metadata": {},
   "outputs": [],
   "source": [
    "\n",
    "def test_incremental(mab_algo, user_features, df_test, df_test_for_evaluation, batch_size):\n",
    "    recs = []\n",
    "\n",
    "    start_time = time.time()\n",
    "    hits = 0\n",
    "\n",
    "    for i in range(0, len(df_test), batch_size):\n",
    "        # Fazendo recomendações para teste\n",
    "        df_batch_test = df_test_for_evaluation.loc[i:i+batch_size-1]\n",
    "        contexts = df_batch_test.merge(user_features, on='user_id').drop(columns=['user_id', 'item_id', 'response']).values\n",
    "\n",
    "        if len(contexts) > 0: # Se não tiver nenhuma interação positiva, não faz sentido fazer recomendações\n",
    "            recomendations = mab_algo.recommend(contexts)\n",
    "            if isinstance(recomendations, list) and isinstance(recomendations[0], int):\n",
    "                # Quando o contexto tem tamanho 1, a recomendação é uma lista, e não uma lista de listas\n",
    "                recomendations = [recomendations]\n",
    "\n",
    "            df_batch_test = df_batch_test.reset_index(drop=True)\n",
    "\n",
    "            for j, interaction in df_batch_test.iterrows():\n",
    "                if interaction['item_id'] in recomendations[j]:\n",
    "                    hits += 1\n",
    "            \n",
    "            recs.extend(recomendations)\n",
    "        \n",
    "        # Treinando com o batch\n",
    "        df_batch_train = df_test.loc[i:i+batch_size-1]\n",
    "        contexts = df_batch_train.merge(user_features, on='user_id').drop(columns=['user_id', 'item_id', 'response']).values\n",
    "\n",
    "        mab_algo.partial_fit(df_batch_train['item_id'], df_batch_train['response'], contexts)\n",
    "    \n",
    "    recs_df = pd.DataFrame({\n",
    "        'interaction_number': [i for i in range(len(df_test_for_evaluation))],\n",
    "        'user_id': df_test_for_evaluation['user_id'],\n",
    "        'item_id': df_test_for_evaluation['item_id'],\n",
    "        'recommendations': recs\n",
    "    })\n",
    "\n",
    "    return hits, hits/len(df_test_for_evaluation), time.time() - start_time, recs_df"
   ]
  },
  {
   "cell_type": "code",
   "execution_count": 12,
   "metadata": {},
   "outputs": [],
   "source": [
    "\n",
    "def test(test_size, train_initial_size, train_increment_step_size):\n",
    "    '''\n",
    "    - `test_size`: define o tamanho da partição de teste no train/test split inicial. Por exemplo, se for escolhido 0.1 (10%), a partição de teste terá 10% das interações e a partição de treino terá 90% das interações. O tamanho da partição de teste passará ainda por um filtro com o tamanho do treino inicial, definido no próximo parâmetro.\n",
    "    - `train_initial_size`: define o tamanho inicial que será usado para treino dos modelos. Esse tamanho é uma porcentagem da partição de treino, por exemplo, 0.5 (50%) quer dizer que o treino será feito inicialmente com 50% das interações separadas para treino. Vale ressaltar que essa porcentagem é relacionada apenas à partição de treino, então, se temos uma partição de treino de 0.9 (90%) e o “train_initial_size” é definido como 0.5 (50%), então, teremos 45% (0.9 * 0.5) das interações todas para o treino inicial. Com a base de treino separada com essa porcentagem inicial, a base de teste passara por um filtro, removendo todas as interações com itens ou usuários que nunca foram vistos nesse treino inicial.\n",
    "    - `train_increment_step_size`: define de quanto em quanto a base de treino irá crescer para o treino dos modelos. Esse incremento será feito sobre o tamanho inicial de treino. Por exemplo, se temos “train_initial_size” como 0.5 (50%), e temos “train_increment_step_size” como 0.05 (5%), então, iremos incrementar para 55%, depois para 60%, … e assim por diante até chegar em 100%.\n",
    "    '''\n",
    "    results = []\n",
    "    df_recs = pd.DataFrame(columns=['algorithm', 'interaction_number', 'user_id', 'item_id', 'recommendations'])\n",
    "    df_train = pd.read_csv(train_data)\n",
    "    df_test = pd.read_csv(test_data)\n",
    "\n",
    "    df_full = pd.concat([df_train, df_test])\n",
    "\n",
    "    df_full['user_id'] = LabelEncoder().fit_transform(df_full['user_id'])\n",
    "    df_full['item_id'] = LabelEncoder().fit_transform(df_full['item_id'])\n",
    "\n",
    "    num_users = df_full['user_id'].nunique()\n",
    "    num_items = df_full['item_id'].nunique()\n",
    "\n",
    "    split_index = int(len(df_full) * (1 - test_size))\n",
    "    df_train_full = df_full[:split_index]\n",
    "    df_test = df_full[split_index:]\n",
    "\n",
    "    current_df_train = df_train_full[:int(len(df_train_full) * train_initial_size)]\n",
    "\n",
    "    df_test = df_test[(df_test['user_id'].isin(current_df_train['user_id'])) & (df_test['item_id'].isin(current_df_train['item_id']))]\n",
    "    df_test = df_test.reset_index(drop=True)\n",
    "    df_test_for_evaluation = df_test[df_test['response'] == 1]\n",
    "\n",
    "    print('Generating ALS embeddings')\n",
    "    ALS_model, _, ALS_user_features = train_embeddings_model(implicit.als.AlternatingLeastSquares, current_df_train, num_users, num_items, generate_embeddings=True)\n",
    "\n",
    "    print('Generating BPR embeddings')\n",
    "    BPR_model, _, BPR_user_features = train_embeddings_model(implicit.bpr.BayesianPersonalizedRanking, current_df_train, num_users, num_items, generate_embeddings=True)\n",
    "\n",
    "    current_train_size = train_initial_size\n",
    "    while current_train_size <= 1:\n",
    "        print(f\"Current train size: {current_train_size}\")\n",
    "\n",
    "        current_df_train = df_train_full[:int(len(df_train_full) * current_train_size)]\n",
    "\n",
    "        # -------------- ALS -----------------\n",
    "        print('Training ALS')\n",
    "        ALS_model, sparse_matrix = train_embeddings_model(implicit.als.AlternatingLeastSquares, current_df_train, num_users, num_items)\n",
    "\n",
    "        print('Testing ALS')\n",
    "        hits, hr, spent_time, df_recs_als = test_embeddings_model(ALS_model, sparse_matrix, df_test_for_evaluation)\n",
    "        df_recs_als['algorithm'] = 'ALS'\n",
    "        df_recs_als['train_size'] = current_train_size\n",
    "        df_recs = pd.concat([df_recs, df_recs_als])\n",
    "        results.append({'algorithm': 'ALS', 'hits': hits, 'hr': hr, 'time': spent_time, 'train_size': current_train_size})\n",
    "\n",
    "\n",
    "        # -------------- BPR -----------------\n",
    "        print('Training BPR')\n",
    "        BPR_model, sparse_matrix = train_embeddings_model(implicit.bpr.BayesianPersonalizedRanking, current_df_train, num_users, num_items)\n",
    "\n",
    "        print('Testing BPR')\n",
    "        hits, hr, spent_time, df_recs_bpr = test_embeddings_model(BPR_model, sparse_matrix, df_test_for_evaluation)\n",
    "        df_recs_bpr['algorithm'] = 'BPR'\n",
    "        df_recs_bpr['train_size'] = current_train_size\n",
    "        df_recs = pd.concat([df_recs, df_recs_bpr])\n",
    "        results.append({'algorithm': 'BPR', 'hits': hits, 'hr': hr, 'time': spent_time, 'train_size': current_train_size})\n",
    "\n",
    "\n",
    "        # ------ LinUCB - non-incremental - ALS embeddings -------\n",
    "        print('Training LinUCB - non-incremental - ALS embeddings')\n",
    "        linUCB_model = BanditRecommender(learning_policy=LearningPolicy.LinUCB(alpha=0.1), top_k=10)\n",
    "        train(linUCB_model, data=current_df_train, user_features=ALS_user_features)\n",
    "\n",
    "        print('Testing LinUCB - non-incremental - ALS embeddings')\n",
    "        hits, hr, spent_time, df_recs_linUCB = test_non_incremental(linUCB_model, ALS_user_features, df_test_for_evaluation)\n",
    "        df_recs_linUCB['algorithm'] = 'LinUCB - non-incremental - ALS embeddings'\n",
    "        df_recs_linUCB['train_size'] = current_train_size\n",
    "        df_recs = pd.concat([df_recs, df_recs_linUCB])\n",
    "        results.append({'algorithm': 'LinUCB - non-incremental - ALS embeddings', 'hits': hits, 'hr': hr, 'time': spent_time, 'train_size': current_train_size})\n",
    "\n",
    "\n",
    "        # ------ LinUCB - non-incremental - BPR embeddings -------\n",
    "        print('Training LinUCB - non-incremental - BPR embeddings')\n",
    "        linUCB_model = BanditRecommender(learning_policy=LearningPolicy.LinUCB(alpha=0.1), top_k=10)\n",
    "        train(linUCB_model, data=current_df_train, user_features=BPR_user_features)\n",
    "\n",
    "        print('Testing LinUCB - non-incremental - BPR embeddings')\n",
    "        hits, hr, spent_time, df_recs_linUCB = test_non_incremental(linUCB_model, BPR_user_features, df_test_for_evaluation)\n",
    "        df_recs_linUCB['algorithm'] = 'LinUCB - non-incremental - BPR embeddings'\n",
    "        df_recs_linUCB['train_size'] = current_train_size\n",
    "        df_recs = pd.concat([df_recs, df_recs_linUCB])\n",
    "        results.append({'algorithm': 'LinUCB - non-incremental - BPR embeddings', 'hits': hits, 'hr': hr, 'time': spent_time, 'train_size': current_train_size})\n",
    "\n",
    "\n",
    "        # ------ LinUCB - incremental - ALS embeddings -------\n",
    "        print('Training LinUCB - incremental - ALS embeddings')\n",
    "        linUCB_model = BanditRecommender(learning_policy=LearningPolicy.LinUCB(alpha=0.1), top_k=10)\n",
    "        train(linUCB_model, data=current_df_train, user_features=ALS_user_features)\n",
    "\n",
    "        print('Testing LinUCB - incremental - ALS embeddings')\n",
    "        hits, hr, spent_time, df_recs_linUCB = test_incremental(linUCB_model, ALS_user_features, df_test, df_test_for_evaluation, batch_size=10)\n",
    "        df_recs_linUCB['algorithm'] = 'LinUCB - incremental - ALS embeddings'\n",
    "        df_recs_linUCB['train_size'] = current_train_size\n",
    "        df_recs = pd.concat([df_recs, df_recs_linUCB])\n",
    "        results.append({'algorithm': 'LinUCB - incremental - ALS embeddings', 'hits': hits, 'hr': hr, 'time': spent_time, 'train_size': current_train_size})\n",
    "\n",
    "\n",
    "        # ------ LinUCB - incremental - BPR embeddings -------\n",
    "        print('Training LinUCB - incremental - BPR embeddings')\n",
    "        linUCB_model = BanditRecommender(learning_policy=LearningPolicy.LinUCB(alpha=0.1), top_k=10)\n",
    "        train(linUCB_model, data=current_df_train, user_features=BPR_user_features)\n",
    "\n",
    "        print('Testing LinUCB - incremental - BPR embeddings')\n",
    "        hits, hr, spent_time, df_recs_linUCB = test_incremental(linUCB_model, BPR_user_features, df_test, df_test_for_evaluation, batch_size=10)\n",
    "        df_recs_linUCB['algorithm'] = 'LinUCB - incremental - BPR embeddings'\n",
    "        df_recs_linUCB['train_size'] = current_train_size\n",
    "        df_recs = pd.concat([df_recs, df_recs_linUCB])\n",
    "        results.append({'algorithm': 'LinUCB - incremental - BPR embeddings', 'hits': hits, 'hr': hr, 'time': spent_time, 'train_size': current_train_size})\n",
    "\n",
    "\n",
    "        # ------ LinGreedy - non-incremental - ALS embeddings -------\n",
    "        print('Training LinGreedy - non-incremental - ALS embeddings')\n",
    "        linGreedy_model = BanditRecommender(learning_policy=LearningPolicy.LinGreedy(epsilon=0.01), top_k=10)\n",
    "        train(linGreedy_model, data=current_df_train, user_features=ALS_user_features)\n",
    "\n",
    "        print('Testing LinGreedy - non-incremental - ALS embeddings')\n",
    "        hits, hr, spent_time, df_recs_linGreedy = test_non_incremental(linGreedy_model, ALS_user_features, df_test_for_evaluation)\n",
    "        df_recs_linGreedy['algorithm'] = 'LinGreedy - non-incremental - ALS embeddings'\n",
    "        df_recs_linGreedy['train_size'] = current_train_size\n",
    "        df_recs = pd.concat([df_recs, df_recs_linGreedy])\n",
    "        results.append({'algorithm': 'LinGreedy - non-incremental - ALS embeddings', 'hits': hits, 'hr': hr, 'time': spent_time, 'train_size': current_train_size})\n",
    "\n",
    "\n",
    "        # ------ LinGreedy - non-incremental - BPR embeddings -------\n",
    "        print('Training LinGreedy - non-incremental - BPR embeddings')\n",
    "        linGreedy_model = BanditRecommender(learning_policy=LearningPolicy.LinGreedy(epsilon=0.01), top_k=10)\n",
    "        train(linGreedy_model, data=current_df_train, user_features=BPR_user_features)\n",
    "\n",
    "        print('Testing LinGreedy - non-incremental - BPR embeddings')\n",
    "        hits, hr, spent_time, df_recs_linGreedy = test_non_incremental(linGreedy_model, BPR_user_features, df_test_for_evaluation)\n",
    "        df_recs_linGreedy['algorithm'] = 'LinGreedy - non-incremental - BPR embeddings'\n",
    "        df_recs_linGreedy['train_size'] = current_train_size\n",
    "        df_recs = pd.concat([df_recs, df_recs_linGreedy])\n",
    "        results.append({'algorithm': 'LinGreedy - non-incremental - BPR embeddings', 'hits': hits, 'hr': hr, 'time': spent_time, 'train_size': current_train_size})\n",
    "\n",
    "\n",
    "        # ------ LinGreedy - incremental - ALS embeddings -------\n",
    "        print('Training LinGreedy - incremental - ALS embeddings')\n",
    "        linGreedy_model = BanditRecommender(learning_policy=LearningPolicy.LinGreedy(epsilon=0.01), top_k=10)\n",
    "        train(linGreedy_model, data=current_df_train, user_features=ALS_user_features)\n",
    "\n",
    "        print('Testing LinGreedy - incremental - ALS embeddings')\n",
    "        hits, hr, spent_time, df_recs_linGreedy = test_incremental(linGreedy_model, ALS_user_features, df_test, df_test_for_evaluation, batch_size=10)\n",
    "        df_recs_linGreedy['algorithm'] = 'LinGreedy - incremental - ALS embeddings'\n",
    "        df_recs_linGreedy['train_size'] = current_train_size\n",
    "        df_recs = pd.concat([df_recs, df_recs_linGreedy])\n",
    "        results.append({'algorithm': 'LinGreedy - incremental - ALS embeddings', 'hits': hits, 'hr': hr, 'time': spent_time, 'train_size': current_train_size})\n",
    "\n",
    "\n",
    "        # ------ LinGreedy - incremental - BPR embeddings -------\n",
    "        print('Training LinGreedy - incremental - BPR embeddings')\n",
    "        linGreedy_model = BanditRecommender(learning_policy=LearningPolicy.LinGreedy(epsilon=0.01), top_k=10)\n",
    "        train(linGreedy_model, data=current_df_train, user_features=BPR_user_features)\n",
    "\n",
    "        print('Testing LinGreedy - incremental - BPR embeddings')\n",
    "        hits, hr, spent_time, df_recs_linGreedy = test_incremental(linGreedy_model, BPR_user_features, df_test, df_test_for_evaluation, batch_size=10)\n",
    "        df_recs_linGreedy['algorithm'] = 'LinGreedy - incremental - BPR embeddings'\n",
    "        df_recs_linGreedy['train_size'] = current_train_size\n",
    "        df_recs = pd.concat([df_recs, df_recs_linGreedy])\n",
    "        results.append({'algorithm': 'LinGreedy - incremental - BPR embeddings', 'hits': hits, 'hr': hr, 'time': spent_time, 'train_size': current_train_size})\n",
    "        \n",
    "        # Incrementando o tamanho do treino para próxima iteração\n",
    "        current_train_size = round(current_train_size + train_increment_step_size, 2)\n",
    "    \n",
    "    save_path = f'results-v4/'\n",
    "    if not os.path.exists(save_path):\n",
    "        os.makedirs(save_path)\n",
    "\n",
    "    df_results = pd.DataFrame(results)\n",
    "    df_results = df_results.astype({'hits': int, 'hr': float, 'time': float})\n",
    "    df_results['test_size'] = round(test_size, 2)\n",
    "    df_results['test_interactions'] = len(df_test_for_evaluation)\n",
    "\n",
    "    df_results.to_csv(f'{save_path}/results.csv', index=False)\n",
    "    df_recs.to_csv(f'{save_path}/recs.csv', index=False)"
   ]
  },
  {
   "cell_type": "code",
   "execution_count": null,
   "metadata": {},
   "outputs": [],
   "source": [
    "test(test_size=0.1, train_initial_size=0.5, train_increment_step_size=0.05)"
   ]
  },
  {
   "cell_type": "code",
   "execution_count": 2,
   "metadata": {},
   "outputs": [],
   "source": [
    "df_results = pd.read_csv('results-v4/results.csv')"
   ]
  },
  {
   "cell_type": "code",
   "execution_count": 3,
   "metadata": {},
   "outputs": [
    {
     "data": {
      "application/vnd.plotly.v1+json": {
       "config": {
        "plotlyServerURL": "https://plot.ly"
       },
       "data": [
        {
         "hovertemplate": "algorithm=ALS<br>train_size=%{x}<br>hr=%{y}<extra></extra>",
         "legendgroup": "ALS",
         "line": {
          "color": "#636efa",
          "dash": "solid"
         },
         "marker": {
          "symbol": "circle"
         },
         "mode": "lines",
         "name": "ALS",
         "orientation": "v",
         "showlegend": true,
         "type": "scatter",
         "x": [
          0.5,
          0.55,
          0.6,
          0.65,
          0.7,
          0.75,
          0.8,
          0.85,
          0.9,
          0.95,
          1
         ],
         "xaxis": "x",
         "y": [
          0.1175468483816013,
          0.1090289608177172,
          0.1073253833049403,
          0.1056218057921635,
          0.1124361158432708,
          0.110732538330494,
          0.1243611584327086,
          0.120954003407155,
          0.120954003407155,
          0.1226575809199318,
          0.131621187800963
         ],
         "yaxis": "y"
        },
        {
         "hovertemplate": "algorithm=BPR<br>train_size=%{x}<br>hr=%{y}<extra></extra>",
         "legendgroup": "BPR",
         "line": {
          "color": "#EF553B",
          "dash": "solid"
         },
         "marker": {
          "symbol": "circle"
         },
         "mode": "lines",
         "name": "BPR",
         "orientation": "v",
         "showlegend": true,
         "type": "scatter",
         "x": [
          0.5,
          0.55,
          0.6,
          0.65,
          0.7,
          0.75,
          0.8,
          0.85,
          0.9,
          0.95,
          1
         ],
         "xaxis": "x",
         "y": [
          0.080068143100511,
          0.0613287904599659,
          0.0681431005110732,
          0.0681431005110732,
          0.0528109028960817,
          0.0545144804088586,
          0.0664395229982964,
          0.0732538330494037,
          0.0681431005110732,
          0.0749574105621805,
          0.1059390048154093
         ],
         "yaxis": "y"
        },
        {
         "hovertemplate": "algorithm=LinUCB - non-incremental - ALS embeddings<br>train_size=%{x}<br>hr=%{y}<extra></extra>",
         "legendgroup": "LinUCB - non-incremental - ALS embeddings",
         "line": {
          "color": "#00cc96",
          "dash": "solid"
         },
         "marker": {
          "symbol": "circle"
         },
         "mode": "lines",
         "name": "LinUCB - non-incremental - ALS embeddings",
         "orientation": "v",
         "showlegend": true,
         "type": "scatter",
         "x": [
          0.5,
          0.55,
          0.6,
          0.65,
          0.7,
          0.75,
          0.8,
          0.85,
          0.9,
          0.95,
          1
         ],
         "xaxis": "x",
         "y": [
          0.080068143100511,
          0.06984667802385,
          0.0681431005110732,
          0.0545144804088586,
          0.0289608177172061,
          0.0340715502555366,
          0.0408858603066439,
          0.0477001703577512,
          0.0715502555366269,
          0.0630323679727427,
          0.0786516853932584
         ],
         "yaxis": "y"
        },
        {
         "hovertemplate": "algorithm=LinUCB - non-incremental - BPR embeddings<br>train_size=%{x}<br>hr=%{y}<extra></extra>",
         "legendgroup": "LinUCB - non-incremental - BPR embeddings",
         "line": {
          "color": "#ab63fa",
          "dash": "solid"
         },
         "marker": {
          "symbol": "circle"
         },
         "mode": "lines",
         "name": "LinUCB - non-incremental - BPR embeddings",
         "orientation": "v",
         "showlegend": true,
         "type": "scatter",
         "x": [
          0.5,
          0.55,
          0.6,
          0.65,
          0.7,
          0.75,
          0.8,
          0.85,
          0.9,
          0.95,
          1
         ],
         "xaxis": "x",
         "y": [
          0.059625212947189,
          0.0545144804088586,
          0.0681431005110732,
          0.0459965928449744,
          0.0289608177172061,
          0.0374787052810902,
          0.0442930153321976,
          0.0545144804088586,
          0.0664395229982964,
          0.0613287904599659,
          0.0609951845906902
         ],
         "yaxis": "y"
        },
        {
         "hovertemplate": "algorithm=LinUCB - incremental - ALS embeddings<br>train_size=%{x}<br>hr=%{y}<extra></extra>",
         "legendgroup": "LinUCB - incremental - ALS embeddings",
         "line": {
          "color": "#FFA15A",
          "dash": "solid"
         },
         "marker": {
          "symbol": "circle"
         },
         "mode": "lines",
         "name": "LinUCB - incremental - ALS embeddings",
         "orientation": "v",
         "showlegend": true,
         "type": "scatter",
         "x": [
          0.5,
          0.55,
          0.6,
          0.65,
          0.7,
          0.75,
          0.8,
          0.85,
          0.9,
          0.95,
          1
         ],
         "xaxis": "x",
         "y": [
          0.0817717206132879,
          0.0613287904599659,
          0.0647359454855195,
          0.0408858603066439,
          0.0289608177172061,
          0.0340715502555366,
          0.0477001703577512,
          0.0528109028960817,
          0.0613287904599659,
          0.0681431005110732,
          0.0866773675762439
         ],
         "yaxis": "y"
        },
        {
         "hovertemplate": "algorithm=LinUCB - incremental - BPR embeddings<br>train_size=%{x}<br>hr=%{y}<extra></extra>",
         "legendgroup": "LinUCB - incremental - BPR embeddings",
         "line": {
          "color": "#19d3f3",
          "dash": "solid"
         },
         "marker": {
          "symbol": "circle"
         },
         "mode": "lines",
         "name": "LinUCB - incremental - BPR embeddings",
         "orientation": "v",
         "showlegend": true,
         "type": "scatter",
         "x": [
          0.5,
          0.55,
          0.6,
          0.65,
          0.7,
          0.75,
          0.8,
          0.85,
          0.9,
          0.95,
          1
         ],
         "xaxis": "x",
         "y": [
          0.0613287904599659,
          0.0613287904599659,
          0.0579216354344122,
          0.0459965928449744,
          0.0289608177172061,
          0.0340715502555366,
          0.0494037478705281,
          0.0613287904599659,
          0.06984667802385,
          0.0681431005110732,
          0.0674157303370786
         ],
         "yaxis": "y"
        },
        {
         "hovertemplate": "algorithm=LinGreedy - non-incremental - ALS embeddings<br>train_size=%{x}<br>hr=%{y}<extra></extra>",
         "legendgroup": "LinGreedy - non-incremental - ALS embeddings",
         "line": {
          "color": "#FF6692",
          "dash": "solid"
         },
         "marker": {
          "symbol": "circle"
         },
         "mode": "lines",
         "name": "LinGreedy - non-incremental - ALS embeddings",
         "orientation": "v",
         "showlegend": true,
         "type": "scatter",
         "x": [
          0.5,
          0.55,
          0.6,
          0.65,
          0.7,
          0.75,
          0.8,
          0.85,
          0.9,
          0.95,
          1
         ],
         "xaxis": "x",
         "y": [
          0.080068143100511,
          0.0732538330494037,
          0.0715502555366269,
          0.0579216354344122,
          0.0306643952299829,
          0.0357751277683134,
          0.0511073253833049,
          0.059625212947189,
          0.0511073253833049,
          0.0715502555366269,
          0.0770465489566613
         ],
         "yaxis": "y"
        },
        {
         "hovertemplate": "algorithm=LinGreedy - non-incremental - BPR embeddings<br>train_size=%{x}<br>hr=%{y}<extra></extra>",
         "legendgroup": "LinGreedy - non-incremental - BPR embeddings",
         "line": {
          "color": "#B6E880",
          "dash": "solid"
         },
         "marker": {
          "symbol": "circle"
         },
         "mode": "lines",
         "name": "LinGreedy - non-incremental - BPR embeddings",
         "orientation": "v",
         "showlegend": true,
         "type": "scatter",
         "x": [
          0.5,
          0.55,
          0.6,
          0.65,
          0.7,
          0.75,
          0.8,
          0.85,
          0.9,
          0.95,
          1
         ],
         "xaxis": "x",
         "y": [
          0.059625212947189,
          0.0562180579216354,
          0.0715502555366269,
          0.0477001703577512,
          0.0306643952299829,
          0.0391822827938671,
          0.0459965928449744,
          0.0562180579216354,
          0.0681431005110732,
          0.0647359454855195,
          0.0642054574638844
         ],
         "yaxis": "y"
        },
        {
         "hovertemplate": "algorithm=LinGreedy - incremental - ALS embeddings<br>train_size=%{x}<br>hr=%{y}<extra></extra>",
         "legendgroup": "LinGreedy - incremental - ALS embeddings",
         "line": {
          "color": "#FF97FF",
          "dash": "solid"
         },
         "marker": {
          "symbol": "circle"
         },
         "mode": "lines",
         "name": "LinGreedy - incremental - ALS embeddings",
         "orientation": "v",
         "showlegend": true,
         "type": "scatter",
         "x": [
          0.5,
          0.55,
          0.6,
          0.65,
          0.7,
          0.75,
          0.8,
          0.85,
          0.9,
          0.95,
          1
         ],
         "xaxis": "x",
         "y": [
          0.080068143100511,
          0.0613287904599659,
          0.0647359454855195,
          0.0408858603066439,
          0.0289608177172061,
          0.0357751277683134,
          0.0511073253833049,
          0.0528109028960817,
          0.0562180579216354,
          0.059625212947189,
          0.0834670947030497
         ],
         "yaxis": "y"
        },
        {
         "hovertemplate": "algorithm=LinGreedy - incremental - BPR embeddings<br>train_size=%{x}<br>hr=%{y}<extra></extra>",
         "legendgroup": "LinGreedy - incremental - BPR embeddings",
         "line": {
          "color": "#FECB52",
          "dash": "solid"
         },
         "marker": {
          "symbol": "circle"
         },
         "mode": "lines",
         "name": "LinGreedy - incremental - BPR embeddings",
         "orientation": "v",
         "showlegend": true,
         "type": "scatter",
         "x": [
          0.5,
          0.55,
          0.6,
          0.65,
          0.7,
          0.75,
          0.8,
          0.85,
          0.9,
          0.95,
          1
         ],
         "xaxis": "x",
         "y": [
          0.0579216354344122,
          0.0630323679727427,
          0.059625212947189,
          0.0442930153321976,
          0.0289608177172061,
          0.0374787052810902,
          0.0528109028960817,
          0.0579216354344122,
          0.0630323679727427,
          0.0715502555366269,
          0.0674157303370786
         ],
         "yaxis": "y"
        }
       ],
       "layout": {
        "legend": {
         "title": {
          "text": "algorithm"
         },
         "tracegroupgap": 0
        },
        "template": {
         "data": {
          "bar": [
           {
            "error_x": {
             "color": "#2a3f5f"
            },
            "error_y": {
             "color": "#2a3f5f"
            },
            "marker": {
             "line": {
              "color": "#E5ECF6",
              "width": 0.5
             },
             "pattern": {
              "fillmode": "overlay",
              "size": 10,
              "solidity": 0.2
             }
            },
            "type": "bar"
           }
          ],
          "barpolar": [
           {
            "marker": {
             "line": {
              "color": "#E5ECF6",
              "width": 0.5
             },
             "pattern": {
              "fillmode": "overlay",
              "size": 10,
              "solidity": 0.2
             }
            },
            "type": "barpolar"
           }
          ],
          "carpet": [
           {
            "aaxis": {
             "endlinecolor": "#2a3f5f",
             "gridcolor": "white",
             "linecolor": "white",
             "minorgridcolor": "white",
             "startlinecolor": "#2a3f5f"
            },
            "baxis": {
             "endlinecolor": "#2a3f5f",
             "gridcolor": "white",
             "linecolor": "white",
             "minorgridcolor": "white",
             "startlinecolor": "#2a3f5f"
            },
            "type": "carpet"
           }
          ],
          "choropleth": [
           {
            "colorbar": {
             "outlinewidth": 0,
             "ticks": ""
            },
            "type": "choropleth"
           }
          ],
          "contour": [
           {
            "colorbar": {
             "outlinewidth": 0,
             "ticks": ""
            },
            "colorscale": [
             [
              0,
              "#0d0887"
             ],
             [
              0.1111111111111111,
              "#46039f"
             ],
             [
              0.2222222222222222,
              "#7201a8"
             ],
             [
              0.3333333333333333,
              "#9c179e"
             ],
             [
              0.4444444444444444,
              "#bd3786"
             ],
             [
              0.5555555555555556,
              "#d8576b"
             ],
             [
              0.6666666666666666,
              "#ed7953"
             ],
             [
              0.7777777777777778,
              "#fb9f3a"
             ],
             [
              0.8888888888888888,
              "#fdca26"
             ],
             [
              1,
              "#f0f921"
             ]
            ],
            "type": "contour"
           }
          ],
          "contourcarpet": [
           {
            "colorbar": {
             "outlinewidth": 0,
             "ticks": ""
            },
            "type": "contourcarpet"
           }
          ],
          "heatmap": [
           {
            "colorbar": {
             "outlinewidth": 0,
             "ticks": ""
            },
            "colorscale": [
             [
              0,
              "#0d0887"
             ],
             [
              0.1111111111111111,
              "#46039f"
             ],
             [
              0.2222222222222222,
              "#7201a8"
             ],
             [
              0.3333333333333333,
              "#9c179e"
             ],
             [
              0.4444444444444444,
              "#bd3786"
             ],
             [
              0.5555555555555556,
              "#d8576b"
             ],
             [
              0.6666666666666666,
              "#ed7953"
             ],
             [
              0.7777777777777778,
              "#fb9f3a"
             ],
             [
              0.8888888888888888,
              "#fdca26"
             ],
             [
              1,
              "#f0f921"
             ]
            ],
            "type": "heatmap"
           }
          ],
          "heatmapgl": [
           {
            "colorbar": {
             "outlinewidth": 0,
             "ticks": ""
            },
            "colorscale": [
             [
              0,
              "#0d0887"
             ],
             [
              0.1111111111111111,
              "#46039f"
             ],
             [
              0.2222222222222222,
              "#7201a8"
             ],
             [
              0.3333333333333333,
              "#9c179e"
             ],
             [
              0.4444444444444444,
              "#bd3786"
             ],
             [
              0.5555555555555556,
              "#d8576b"
             ],
             [
              0.6666666666666666,
              "#ed7953"
             ],
             [
              0.7777777777777778,
              "#fb9f3a"
             ],
             [
              0.8888888888888888,
              "#fdca26"
             ],
             [
              1,
              "#f0f921"
             ]
            ],
            "type": "heatmapgl"
           }
          ],
          "histogram": [
           {
            "marker": {
             "pattern": {
              "fillmode": "overlay",
              "size": 10,
              "solidity": 0.2
             }
            },
            "type": "histogram"
           }
          ],
          "histogram2d": [
           {
            "colorbar": {
             "outlinewidth": 0,
             "ticks": ""
            },
            "colorscale": [
             [
              0,
              "#0d0887"
             ],
             [
              0.1111111111111111,
              "#46039f"
             ],
             [
              0.2222222222222222,
              "#7201a8"
             ],
             [
              0.3333333333333333,
              "#9c179e"
             ],
             [
              0.4444444444444444,
              "#bd3786"
             ],
             [
              0.5555555555555556,
              "#d8576b"
             ],
             [
              0.6666666666666666,
              "#ed7953"
             ],
             [
              0.7777777777777778,
              "#fb9f3a"
             ],
             [
              0.8888888888888888,
              "#fdca26"
             ],
             [
              1,
              "#f0f921"
             ]
            ],
            "type": "histogram2d"
           }
          ],
          "histogram2dcontour": [
           {
            "colorbar": {
             "outlinewidth": 0,
             "ticks": ""
            },
            "colorscale": [
             [
              0,
              "#0d0887"
             ],
             [
              0.1111111111111111,
              "#46039f"
             ],
             [
              0.2222222222222222,
              "#7201a8"
             ],
             [
              0.3333333333333333,
              "#9c179e"
             ],
             [
              0.4444444444444444,
              "#bd3786"
             ],
             [
              0.5555555555555556,
              "#d8576b"
             ],
             [
              0.6666666666666666,
              "#ed7953"
             ],
             [
              0.7777777777777778,
              "#fb9f3a"
             ],
             [
              0.8888888888888888,
              "#fdca26"
             ],
             [
              1,
              "#f0f921"
             ]
            ],
            "type": "histogram2dcontour"
           }
          ],
          "mesh3d": [
           {
            "colorbar": {
             "outlinewidth": 0,
             "ticks": ""
            },
            "type": "mesh3d"
           }
          ],
          "parcoords": [
           {
            "line": {
             "colorbar": {
              "outlinewidth": 0,
              "ticks": ""
             }
            },
            "type": "parcoords"
           }
          ],
          "pie": [
           {
            "automargin": true,
            "type": "pie"
           }
          ],
          "scatter": [
           {
            "fillpattern": {
             "fillmode": "overlay",
             "size": 10,
             "solidity": 0.2
            },
            "type": "scatter"
           }
          ],
          "scatter3d": [
           {
            "line": {
             "colorbar": {
              "outlinewidth": 0,
              "ticks": ""
             }
            },
            "marker": {
             "colorbar": {
              "outlinewidth": 0,
              "ticks": ""
             }
            },
            "type": "scatter3d"
           }
          ],
          "scattercarpet": [
           {
            "marker": {
             "colorbar": {
              "outlinewidth": 0,
              "ticks": ""
             }
            },
            "type": "scattercarpet"
           }
          ],
          "scattergeo": [
           {
            "marker": {
             "colorbar": {
              "outlinewidth": 0,
              "ticks": ""
             }
            },
            "type": "scattergeo"
           }
          ],
          "scattergl": [
           {
            "marker": {
             "colorbar": {
              "outlinewidth": 0,
              "ticks": ""
             }
            },
            "type": "scattergl"
           }
          ],
          "scattermapbox": [
           {
            "marker": {
             "colorbar": {
              "outlinewidth": 0,
              "ticks": ""
             }
            },
            "type": "scattermapbox"
           }
          ],
          "scatterpolar": [
           {
            "marker": {
             "colorbar": {
              "outlinewidth": 0,
              "ticks": ""
             }
            },
            "type": "scatterpolar"
           }
          ],
          "scatterpolargl": [
           {
            "marker": {
             "colorbar": {
              "outlinewidth": 0,
              "ticks": ""
             }
            },
            "type": "scatterpolargl"
           }
          ],
          "scatterternary": [
           {
            "marker": {
             "colorbar": {
              "outlinewidth": 0,
              "ticks": ""
             }
            },
            "type": "scatterternary"
           }
          ],
          "surface": [
           {
            "colorbar": {
             "outlinewidth": 0,
             "ticks": ""
            },
            "colorscale": [
             [
              0,
              "#0d0887"
             ],
             [
              0.1111111111111111,
              "#46039f"
             ],
             [
              0.2222222222222222,
              "#7201a8"
             ],
             [
              0.3333333333333333,
              "#9c179e"
             ],
             [
              0.4444444444444444,
              "#bd3786"
             ],
             [
              0.5555555555555556,
              "#d8576b"
             ],
             [
              0.6666666666666666,
              "#ed7953"
             ],
             [
              0.7777777777777778,
              "#fb9f3a"
             ],
             [
              0.8888888888888888,
              "#fdca26"
             ],
             [
              1,
              "#f0f921"
             ]
            ],
            "type": "surface"
           }
          ],
          "table": [
           {
            "cells": {
             "fill": {
              "color": "#EBF0F8"
             },
             "line": {
              "color": "white"
             }
            },
            "header": {
             "fill": {
              "color": "#C8D4E3"
             },
             "line": {
              "color": "white"
             }
            },
            "type": "table"
           }
          ]
         },
         "layout": {
          "annotationdefaults": {
           "arrowcolor": "#2a3f5f",
           "arrowhead": 0,
           "arrowwidth": 1
          },
          "autotypenumbers": "strict",
          "coloraxis": {
           "colorbar": {
            "outlinewidth": 0,
            "ticks": ""
           }
          },
          "colorscale": {
           "diverging": [
            [
             0,
             "#8e0152"
            ],
            [
             0.1,
             "#c51b7d"
            ],
            [
             0.2,
             "#de77ae"
            ],
            [
             0.3,
             "#f1b6da"
            ],
            [
             0.4,
             "#fde0ef"
            ],
            [
             0.5,
             "#f7f7f7"
            ],
            [
             0.6,
             "#e6f5d0"
            ],
            [
             0.7,
             "#b8e186"
            ],
            [
             0.8,
             "#7fbc41"
            ],
            [
             0.9,
             "#4d9221"
            ],
            [
             1,
             "#276419"
            ]
           ],
           "sequential": [
            [
             0,
             "#0d0887"
            ],
            [
             0.1111111111111111,
             "#46039f"
            ],
            [
             0.2222222222222222,
             "#7201a8"
            ],
            [
             0.3333333333333333,
             "#9c179e"
            ],
            [
             0.4444444444444444,
             "#bd3786"
            ],
            [
             0.5555555555555556,
             "#d8576b"
            ],
            [
             0.6666666666666666,
             "#ed7953"
            ],
            [
             0.7777777777777778,
             "#fb9f3a"
            ],
            [
             0.8888888888888888,
             "#fdca26"
            ],
            [
             1,
             "#f0f921"
            ]
           ],
           "sequentialminus": [
            [
             0,
             "#0d0887"
            ],
            [
             0.1111111111111111,
             "#46039f"
            ],
            [
             0.2222222222222222,
             "#7201a8"
            ],
            [
             0.3333333333333333,
             "#9c179e"
            ],
            [
             0.4444444444444444,
             "#bd3786"
            ],
            [
             0.5555555555555556,
             "#d8576b"
            ],
            [
             0.6666666666666666,
             "#ed7953"
            ],
            [
             0.7777777777777778,
             "#fb9f3a"
            ],
            [
             0.8888888888888888,
             "#fdca26"
            ],
            [
             1,
             "#f0f921"
            ]
           ]
          },
          "colorway": [
           "#636efa",
           "#EF553B",
           "#00cc96",
           "#ab63fa",
           "#FFA15A",
           "#19d3f3",
           "#FF6692",
           "#B6E880",
           "#FF97FF",
           "#FECB52"
          ],
          "font": {
           "color": "#2a3f5f"
          },
          "geo": {
           "bgcolor": "white",
           "lakecolor": "white",
           "landcolor": "#E5ECF6",
           "showlakes": true,
           "showland": true,
           "subunitcolor": "white"
          },
          "hoverlabel": {
           "align": "left"
          },
          "hovermode": "closest",
          "mapbox": {
           "style": "light"
          },
          "paper_bgcolor": "white",
          "plot_bgcolor": "#E5ECF6",
          "polar": {
           "angularaxis": {
            "gridcolor": "white",
            "linecolor": "white",
            "ticks": ""
           },
           "bgcolor": "#E5ECF6",
           "radialaxis": {
            "gridcolor": "white",
            "linecolor": "white",
            "ticks": ""
           }
          },
          "scene": {
           "xaxis": {
            "backgroundcolor": "#E5ECF6",
            "gridcolor": "white",
            "gridwidth": 2,
            "linecolor": "white",
            "showbackground": true,
            "ticks": "",
            "zerolinecolor": "white"
           },
           "yaxis": {
            "backgroundcolor": "#E5ECF6",
            "gridcolor": "white",
            "gridwidth": 2,
            "linecolor": "white",
            "showbackground": true,
            "ticks": "",
            "zerolinecolor": "white"
           },
           "zaxis": {
            "backgroundcolor": "#E5ECF6",
            "gridcolor": "white",
            "gridwidth": 2,
            "linecolor": "white",
            "showbackground": true,
            "ticks": "",
            "zerolinecolor": "white"
           }
          },
          "shapedefaults": {
           "line": {
            "color": "#2a3f5f"
           }
          },
          "ternary": {
           "aaxis": {
            "gridcolor": "white",
            "linecolor": "white",
            "ticks": ""
           },
           "baxis": {
            "gridcolor": "white",
            "linecolor": "white",
            "ticks": ""
           },
           "bgcolor": "#E5ECF6",
           "caxis": {
            "gridcolor": "white",
            "linecolor": "white",
            "ticks": ""
           }
          },
          "title": {
           "x": 0.05
          },
          "xaxis": {
           "automargin": true,
           "gridcolor": "white",
           "linecolor": "white",
           "ticks": "",
           "title": {
            "standoff": 15
           },
           "zerolinecolor": "white",
           "zerolinewidth": 2
          },
          "yaxis": {
           "automargin": true,
           "gridcolor": "white",
           "linecolor": "white",
           "ticks": "",
           "title": {
            "standoff": 15
           },
           "zerolinecolor": "white",
           "zerolinewidth": 2
          }
         }
        },
        "title": {
         "text": "HR x Train size"
        },
        "xaxis": {
         "anchor": "y",
         "domain": [
          0,
          1
         ],
         "title": {
          "text": "train_size"
         }
        },
        "yaxis": {
         "anchor": "x",
         "domain": [
          0,
          1
         ],
         "title": {
          "text": "hr"
         }
        }
       }
      }
     },
     "metadata": {},
     "output_type": "display_data"
    }
   ],
   "source": [
    "fig = px.line(df_results, x=\"train_size\", y=\"hr\", color='algorithm', title='HR x Train size')\n",
    "fig.show()\n",
    "fig.write_html('results-v4/hr_x_train_size.html')"
   ]
  }
 ],
 "metadata": {
  "kernelspec": {
   "display_name": "RLRS-rllib",
   "language": "python",
   "name": "python3"
  },
  "language_info": {
   "codemirror_mode": {
    "name": "ipython",
    "version": 3
   },
   "file_extension": ".py",
   "mimetype": "text/x-python",
   "name": "python",
   "nbconvert_exporter": "python",
   "pygments_lexer": "ipython3",
   "version": "undefined.undefined.undefined"
  }
 },
 "nbformat": 4,
 "nbformat_minor": 2
}
