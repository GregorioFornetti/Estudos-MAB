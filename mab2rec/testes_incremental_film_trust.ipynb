{
 "cells": [
  {
   "cell_type": "code",
   "execution_count": 2,
   "metadata": {},
   "outputs": [],
   "source": [
    "import pandas as pd\n",
    "import numpy as np"
   ]
  },
  {
   "cell_type": "markdown",
   "metadata": {},
   "source": [
    "## Testando os modelos MAB usando concatenações de diferentes formas de fazer o contexto"
   ]
  },
  {
   "cell_type": "code",
   "execution_count": 3,
   "metadata": {},
   "outputs": [],
   "source": [
    "from sklearn.preprocessing import LabelEncoder\n",
    "from scipy.sparse import csr_matrix\n",
    "import plotly.express as px\n",
    "import time\n",
    "import os\n",
    "import implicit\n",
    "from mab2rec import BanditRecommender, LearningPolicy\n",
    "\n",
    "train_data = \"../data/ml100k/data_train.csv\"\n",
    "test_data = \"../data/ml100k/data_test.csv\""
   ]
  },
  {
   "cell_type": "code",
   "execution_count": 3,
   "metadata": {},
   "outputs": [],
   "source": [
    "FACTORS = 10"
   ]
  },
  {
   "cell_type": "code",
   "execution_count": 4,
   "metadata": {},
   "outputs": [],
   "source": [
    "\n",
    "def train_embeddings_model(Model, df, num_users, num_items, generate_embeddings=False):\n",
    "    sparse_matrix = csr_matrix((df['response'], (df['user_id'], df['item_id'])), shape=(num_users, num_items))\n",
    "\n",
    "    model = Model(factors=FACTORS, random_state=1, num_threads=1)\n",
    "    model.fit(sparse_matrix)\n",
    "\n",
    "    if not generate_embeddings:\n",
    "        return model, sparse_matrix\n",
    "    \n",
    "    # # Não precisamos mais do código abaixo, ele funcina para embeddings de usuário, não de itens\n",
    "    # user_features_list = []\n",
    "\n",
    "    # for user_id in df['user_id'].unique():\n",
    "    #    user_factors = model.user_factors[user_id][:FACTORS]  # O BPR coloca 1 no final dos vetores latentes ?\n",
    "    #    user_features_list.append([user_id] + list(user_factors))\n",
    "\n",
    "    # df_user_features = pd.DataFrame(user_features_list, columns=['user_id'] + [f'u{i}' for i in range(FACTORS)])\n",
    "\n",
    "    return model, sparse_matrix, model.item_factors, model.user_factors"
   ]
  },
  {
   "cell_type": "code",
   "execution_count": 5,
   "metadata": {},
   "outputs": [],
   "source": [
    "\n",
    "def test_embeddings_model(model, sparse_matrix, df_test):\n",
    "    all_recs = []\n",
    "\n",
    "    start_time = time.time()\n",
    "    hits = 0\n",
    "    for _, interaction in df_test.iterrows():\n",
    "        ids_recs, _ = model.recommend(userid=interaction['user_id'], user_items=sparse_matrix[interaction['user_id']], N=10)\n",
    "        if interaction['item_id'] in ids_recs:\n",
    "            hits += 1\n",
    "        all_recs.append(ids_recs.tolist())\n",
    "    \n",
    "    recs_df = pd.DataFrame({\n",
    "        'interaction_number': [i for i in range(len(df_test))],\n",
    "        'user_id': df_test['user_id'],\n",
    "        'item_id': df_test['item_id'],\n",
    "        'recommendations': all_recs\n",
    "    })\n",
    "    \n",
    "    return hits, hits/len(df_test), time.time() - start_time, recs_df"
   ]
  },
  {
   "cell_type": "code",
   "execution_count": 6,
   "metadata": {},
   "outputs": [],
   "source": [
    "\n",
    "def train_mab(mab_algo, df_train_with_contexts, contexts_col):\n",
    "    contexts = get_concat_context(df_train_with_contexts, contexts_col)\n",
    "    mab_algo.fit(\n",
    "        decisions=df_train_with_contexts['item_id'],\n",
    "        rewards=df_train_with_contexts['response'],\n",
    "        contexts=contexts\n",
    "    )"
   ]
  },
  {
   "cell_type": "code",
   "execution_count": 7,
   "metadata": {},
   "outputs": [],
   "source": [
    "\n",
    "def test_non_incremental(mab_algo, contexts_col, df_test, interactions_by_user):\n",
    "    start_time = time.time()\n",
    "    hits = 0\n",
    "\n",
    "    # contexts = df_test.merge(user_features, how='left', on='user_id').drop(columns=['user_id', 'item_id', 'response']).values\n",
    "    # contexts = np.array(df_test[contexts_col].tolist())\n",
    "    contexts = get_concat_context(df_test, contexts_col)\n",
    "    filters = df_test.merge(interactions_by_user, how='left', on='user_id')[['interactions']].values.squeeze(axis=1) \n",
    "\n",
    "    recomendations = mab_algo.recommend(contexts, filters)\n",
    "\n",
    "    df_test = df_test.reset_index(drop=True)\n",
    "\n",
    "    hits = 0\n",
    "    for i, interaction in df_test.iterrows():\n",
    "        if interaction['item_id'] in recomendations[i]:\n",
    "            hits += 1\n",
    "    \n",
    "    recs_df = pd.DataFrame({\n",
    "        'interaction_number': [i for i in range(len(df_test))],\n",
    "        'user_id': df_test['user_id'],\n",
    "        'item_id': df_test['item_id'],\n",
    "        'recommendations': recomendations\n",
    "    })\n",
    "\n",
    "    return hits, hits/len(df_test), time.time() - start_time, recs_df"
   ]
  },
  {
   "cell_type": "code",
   "execution_count": 8,
   "metadata": {},
   "outputs": [],
   "source": [
    "def group_interactions_by_user(interactions_df):\n",
    "    interactions_by_user = interactions_df\\\n",
    "                        .groupby('user_id')[['item_id']]\\\n",
    "                        .apply(lambda df_user: df_user['item_id'].tolist())\\\n",
    "                        .reset_index(name='interactions')\n",
    "    interactions_by_user = interactions_by_user.reset_index(drop=True)\n",
    "    return interactions_by_user"
   ]
  },
  {
   "cell_type": "code",
   "execution_count": 9,
   "metadata": {},
   "outputs": [],
   "source": [
    "def create_contexts_list_items_mean(interactions_df, items_embeddings):\n",
    "    users_current_info = {}\n",
    "    contexts = []\n",
    "\n",
    "    for _, row in interactions_df.iterrows():\n",
    "        user_id = row[\"user_id\"]\n",
    "        item_id = row[\"item_id\"]\n",
    "\n",
    "        if user_id not in users_current_info:\n",
    "            users_current_info[user_id] = {\n",
    "                'acum_emb': np.zeros((FACTORS, )),\n",
    "                'count': 0\n",
    "            }\n",
    "        \n",
    "        contexts.append(users_current_info[user_id]['acum_emb'] / max(1, users_current_info[user_id]['count']))\n",
    "\n",
    "        users_current_info[user_id]['acum_emb'] += items_embeddings[item_id][:FACTORS]\n",
    "        users_current_info[user_id]['count'] += 1\n",
    "\n",
    "    return contexts"
   ]
  },
  {
   "cell_type": "code",
   "execution_count": 10,
   "metadata": {},
   "outputs": [],
   "source": [
    "def create_contexts_list_items_concat(interactions_df, items_embeddings, window_size):\n",
    "    users_current_info = {}\n",
    "    contexts = []\n",
    "\n",
    "    for _, row in interactions_df.iterrows():\n",
    "        user_id = row[\"user_id\"]\n",
    "        item_id = row[\"item_id\"]\n",
    "\n",
    "        if user_id not in users_current_info:\n",
    "            users_current_info[user_id] = np.zeros((window_size, FACTORS))\n",
    "        \n",
    "        contexts.append(users_current_info[user_id].flatten())\n",
    "\n",
    "        users_current_info[user_id][1:] = users_current_info[user_id][:-1]\n",
    "        users_current_info[user_id][0] = items_embeddings[item_id][:FACTORS]\n",
    "\n",
    "    return contexts"
   ]
  },
  {
   "cell_type": "code",
   "execution_count": 11,
   "metadata": {},
   "outputs": [],
   "source": [
    "def create_contexts_list_user(interactions_df, users_embeddings):\n",
    "    contexts = []\n",
    "\n",
    "    for _, row in interactions_df.iterrows():\n",
    "        user_id = row[\"user_id\"]\n",
    "        contexts.append(users_embeddings[user_id][:FACTORS])\n",
    "\n",
    "    return contexts"
   ]
  },
  {
   "cell_type": "code",
   "execution_count": 12,
   "metadata": {},
   "outputs": [],
   "source": [
    "def get_concat_context(interactions, context_cols):\n",
    "    # Concat multiple array columns into a single array column\n",
    "    return np.array(interactions[context_cols].apply(lambda x: np.concatenate(x), axis=1).tolist())"
   ]
  },
  {
   "cell_type": "code",
   "execution_count": 13,
   "metadata": {},
   "outputs": [],
   "source": [
    "def load_data():\n",
    "    df = pd.read_csv('../data/Filmtrust/interactions.csv', sep=';')\n",
    "    df = df.rename(columns={\n",
    "        'id_user': 'user_id',\n",
    "        'id_item': 'item_id',\n",
    "        'interaction': 'response'\n",
    "    })\n",
    "    df['response'] = (df['response'] >= 4).astype(int)\n",
    "    df = df.sample(frac=1, random_state=1)\n",
    "    return df"
   ]
  },
  {
   "cell_type": "code",
   "execution_count": 14,
   "metadata": {},
   "outputs": [],
   "source": [
    "\n",
    "def test(test_size, train_initial_size, train_extra_increment_step_size, windows_sizes):\n",
    "    '''\n",
    "    - `test_size`: define o tamanho da partição de teste no train/test split inicial. Por exemplo, se for escolhido 0.1 (10%), a partição de teste terá 10% das interações e a partição de treino terá 90% das interações. O tamanho da partição de teste passará ainda por um filtro com o tamanho do treino inicial, definido no próximo parâmetro.\n",
    "    - `train_initial_size`: define o tamanho inicial que será usado para treino dos modelos. Esse tamanho é uma porcentagem da partição de treino, por exemplo, 0.5 (50%) quer dizer que o treino será feito inicialmente com 50% das interações separadas para treino. Vale ressaltar que essa porcentagem é relacionada apenas à partição de treino, então, se temos uma partição de treino de 0.9 (90%) e o “train_initial_size” é definido como 0.5 (50%), então, teremos 45% (0.9 * 0.5) das interações todas para o treino inicial. Com a base de treino separada com essa porcentagem inicial, a base de teste passara por um filtro, removendo todas as interações com itens ou usuários que nunca foram vistos nesse treino inicial.\n",
    "    - `train_extra_increment_step_size`: define a porcentagem do \"treinamento extra\" que será usado. No início a base de dados é separada em treino inicial (train_initial_size), \"treinamento extra\" e teste. O \"treinamento extra\", assim como o teste, passa por um filtro para remover interações com itens ou usuários que nunca foram vistos no treino inicial. Após o treino inicial, o \"treinamento extra\" é usado para treinar os modelos de embeddings e os modelos de bandit. O \"treinamento extra\" é incrementado a cada iteração, de acordo com o valor desse parâmetro. Por exemplo, se o `train_extra_increment_step_size` é 0.1 (10%), então, a cada iteração, 10% das interações são adicionadas ao treino, até que todo o \"treinamento extra\" seja usado.\n",
    "    - `windows_sizes`: tamanho das janelas de contextos que serão usadas para teste. Por exemplo, se for passado [3, 5, 7], as janelas de tamanho de 3, 5 e 7 serão usadas como contexto para treinar os modelos de MAB (gerando resultados diferentes para cada tamanho de janela).\n",
    "    '''\n",
    "    results = []\n",
    "    df_recs = pd.DataFrame(columns=['algorithm', 'interaction_number', 'user_id', 'item_id', 'recommendations'])\n",
    "    # df_train = pd.read_csv(train_data)\n",
    "    # df_test = pd.read_csv(test_data)\n",
    "\n",
    "    df_full = load_data()\n",
    "\n",
    "    df_full['user_id'] = LabelEncoder().fit_transform(df_full['user_id'])\n",
    "    df_full['item_id'] = LabelEncoder().fit_transform(df_full['item_id'])\n",
    "\n",
    "    num_users = df_full['user_id'].nunique()\n",
    "    num_items = df_full['item_id'].nunique()\n",
    "\n",
    "    split_index = int(len(df_full) * (1 - test_size))\n",
    "    df_train_full = df_full[:split_index]\n",
    "    df_test = df_full[split_index:]\n",
    "\n",
    "    initial_df_train = df_train_full[:int(len(df_train_full) * train_initial_size)]\n",
    "    extra_df_train = df_train_full[int(len(df_train_full) * train_initial_size):]\n",
    "    extra_df_train = extra_df_train[(extra_df_train['user_id'].isin(initial_df_train['user_id'])) & (extra_df_train['item_id'].isin(initial_df_train['item_id']))]\n",
    "    extra_df_train = extra_df_train.reset_index(drop=True)\n",
    "\n",
    "    df_test = df_test[(df_test['user_id'].isin(initial_df_train['user_id'])) & (df_test['item_id'].isin(initial_df_train['item_id']))]\n",
    "    df_test = df_test.reset_index(drop=True)\n",
    "    df_test_for_evaluation = df_test[df_test['response'] == 1]\n",
    "    df_test_for_evaluation = df_test_for_evaluation.reset_index(drop=True)\n",
    "\n",
    "    print('Generating ALS embeddings')\n",
    "    ALS_model, _, ALS_item_embeddings, ALS_user_embeddings = train_embeddings_model(implicit.als.AlternatingLeastSquares, initial_df_train, num_users, num_items, generate_embeddings=True)\n",
    "\n",
    "    print('Generating BPR embeddings')\n",
    "    BPR_model, _, BPR_item_embeddings, BPR_user_embeddings = train_embeddings_model(implicit.bpr.BayesianPersonalizedRanking, initial_df_train, num_users, num_items, generate_embeddings=True)\n",
    "\n",
    "    for window_size in windows_sizes:\n",
    "        print(f'Generating contexts for window size of {window_size} (contat items emb)')\n",
    "        df_full_new = pd.concat([initial_df_train, extra_df_train, df_test_for_evaluation])\n",
    "        als_contexts = create_contexts_list_items_concat(df_full_new, ALS_item_embeddings, window_size)\n",
    "        bpr_contexts = create_contexts_list_items_concat(df_full_new, BPR_item_embeddings, window_size)\n",
    "\n",
    "        initial_df_train[f'als_context_item_concat_{window_size}'] = als_contexts[:len(initial_df_train)]\n",
    "        initial_df_train[f'bpr_context_item_concat_{window_size}'] = bpr_contexts[:len(initial_df_train)]\n",
    "\n",
    "        extra_df_train[f'als_context_item_concat_{window_size}'] = als_contexts[len(initial_df_train):len(initial_df_train) + len(extra_df_train)]\n",
    "        extra_df_train[f'bpr_context_item_concat_{window_size}'] = bpr_contexts[len(initial_df_train):len(initial_df_train) + len(extra_df_train)]\n",
    "\n",
    "        df_test_for_evaluation[f'als_context_item_concat_{window_size}'] = als_contexts[len(initial_df_train) + len(extra_df_train):]\n",
    "        df_test_for_evaluation[f'bpr_context_item_concat_{window_size}'] = bpr_contexts[len(initial_df_train) + len(extra_df_train):]\n",
    "\n",
    "    print('Generating contexts for user embeddings')\n",
    "    df_full_new = pd.concat([initial_df_train, extra_df_train, df_test_for_evaluation])\n",
    "    als_contexts = create_contexts_list_user(df_full_new, ALS_user_embeddings)\n",
    "    bpr_contexts = create_contexts_list_user(df_full_new, BPR_user_embeddings)\n",
    "\n",
    "    initial_df_train['als_context_user'] = als_contexts[:len(initial_df_train)]\n",
    "    initial_df_train['bpr_context_user'] = bpr_contexts[:len(initial_df_train)]\n",
    "\n",
    "    extra_df_train['als_context_user'] = als_contexts[len(initial_df_train):len(initial_df_train) + len(extra_df_train)]\n",
    "    extra_df_train['bpr_context_user'] = bpr_contexts[len(initial_df_train):len(initial_df_train) + len(extra_df_train)]\n",
    "\n",
    "    df_test_for_evaluation['als_context_user'] = als_contexts[len(initial_df_train) + len(extra_df_train):]\n",
    "    df_test_for_evaluation['bpr_context_user'] = bpr_contexts[len(initial_df_train) + len(extra_df_train):]\n",
    "\n",
    "    print('Generating contexts for item mean embeddings')\n",
    "    df_full_new = pd.concat([initial_df_train, extra_df_train, df_test_for_evaluation])\n",
    "    als_contexts = create_contexts_list_items_mean(df_full_new, ALS_item_embeddings)\n",
    "    bpr_contexts = create_contexts_list_items_mean(df_full_new, BPR_item_embeddings)\n",
    "\n",
    "    initial_df_train['als_context_items_mean'] = als_contexts[:len(initial_df_train)]\n",
    "    initial_df_train['bpr_context_items_mean'] = bpr_contexts[:len(initial_df_train)]\n",
    "\n",
    "    extra_df_train['als_context_items_mean'] = als_contexts[len(initial_df_train):len(initial_df_train) + len(extra_df_train)]\n",
    "    extra_df_train['bpr_context_items_mean'] = bpr_contexts[len(initial_df_train):len(initial_df_train) + len(extra_df_train)]\n",
    "\n",
    "    df_test_for_evaluation['als_context_items_mean'] = als_contexts[len(initial_df_train) + len(extra_df_train):]\n",
    "    df_test_for_evaluation['bpr_context_items_mean'] = bpr_contexts[len(initial_df_train) + len(extra_df_train):]\n",
    "\n",
    "    algos_dict = {\n",
    "        'item_concat': {\n",
    "            'item_concat': True,\n",
    "            'item_mean': False,\n",
    "            'user': False\n",
    "        },\n",
    "        'item_mean': {\n",
    "            'item_concat': False,\n",
    "            'item_mean': True,\n",
    "            'user': False\n",
    "        },\n",
    "        'user': {\n",
    "            'item_concat': False,\n",
    "            'item_mean': False,\n",
    "            'user': True\n",
    "        },\n",
    "        'item_concat-item_mean': {\n",
    "            'item_concat': True,\n",
    "            'item_mean': True,\n",
    "            'user': False\n",
    "        },\n",
    "        'item_concat-user': {\n",
    "            'item_concat': True,\n",
    "            'item_mean': False,\n",
    "            'user': True\n",
    "        },\n",
    "        'item_mean-user': {\n",
    "            'item_concat': False,\n",
    "            'item_mean': True,\n",
    "            'user': True\n",
    "        },\n",
    "        'all': {\n",
    "            'item_concat': True,\n",
    "            'item_mean': True,\n",
    "            'user': True\n",
    "        }\n",
    "    }\n",
    "\n",
    "    for algo_name, _ in algos_dict.items():\n",
    "        algos_dict[algo_name]['results'] = []\n",
    "        algos_dict[algo_name]['df_recs'] = pd.DataFrame(columns=['algorithm', 'interaction_number', 'user_id', 'item_id', 'recommendations'])\n",
    "\n",
    "    def save_algo_result(algo_name, hits, hr, spent_time, df_recs_algo, current_extra_train_size, results):\n",
    "        df_recs_algo['algorithm'] = algo_name\n",
    "        df_recs_algo['train_size'] = current_extra_train_size\n",
    "        df_recs_new = pd.concat([df_recs, df_recs_algo])\n",
    "        results.append({'algorithm': algo_name, 'hits': hits, 'hr': hr, 'time': spent_time, 'train_size': current_extra_train_size})\n",
    "        return df_recs_new\n",
    "\n",
    "    current_extra_train_size = 0\n",
    "    while current_extra_train_size <= 1:\n",
    "        print(f\"Current extra train size: {current_extra_train_size}\")\n",
    "\n",
    "        current_df_train = pd.concat([initial_df_train, extra_df_train[:int(len(extra_df_train) * current_extra_train_size)]])\n",
    "        interactions_by_user = group_interactions_by_user(current_df_train)  # MUDANÇA AQUI\n",
    "\n",
    "        # -------------- ALS -----------------\n",
    "        print('Training ALS')\n",
    "        ALS_model, sparse_matrix = train_embeddings_model(implicit.als.AlternatingLeastSquares, current_df_train, num_users, num_items)\n",
    "\n",
    "        print('Testing ALS')\n",
    "        hits, hr, spent_time, df_recs_als = test_embeddings_model(ALS_model, sparse_matrix, df_test_for_evaluation)\n",
    "        df_recs = save_algo_result('ALS', hits, hr, spent_time, df_recs_als, current_extra_train_size, results)\n",
    "\n",
    "        # -------------- BPR -----------------\n",
    "        print('Training BPR')\n",
    "        BPR_model, sparse_matrix = train_embeddings_model(implicit.bpr.BayesianPersonalizedRanking, current_df_train, num_users, num_items)\n",
    "\n",
    "        print('Testing BPR')\n",
    "        hits, hr, spent_time, df_recs_bpr = test_embeddings_model(BPR_model, sparse_matrix, df_test_for_evaluation)\n",
    "        df_recs = save_algo_result('BPR', hits, hr, spent_time, df_recs_bpr, current_extra_train_size, results)\n",
    "        \n",
    "        for algo_name, algo_dict in algos_dict.items():\n",
    "            if algo_dict['item_concat']:\n",
    "                windows = windows_sizes\n",
    "            else:\n",
    "                windows = [None]\n",
    "            \n",
    "            for window_size in windows:\n",
    "                als_embeddings_cols = []\n",
    "                bpr_embeddings_cols = []\n",
    "                print_extra = f' - {algo_name}'\n",
    "                algo_name_extra = ''\n",
    "                if algo_dict['item_concat']:\n",
    "                    als_embeddings_cols.append(f'als_context_item_concat_{window_size}')\n",
    "                    bpr_embeddings_cols.append(f'bpr_context_item_concat_{window_size}')\n",
    "                    print_extra = f' - {algo_name} - {window_size}'\n",
    "                    algo_name_extra = f' - {window_size}'\n",
    "                if algo_dict['item_mean']:\n",
    "                    als_embeddings_cols.append('als_context_items_mean')\n",
    "                    bpr_embeddings_cols.append('bpr_context_items_mean')\n",
    "                if algo_dict['user']:\n",
    "                    als_embeddings_cols.append('als_context_user')\n",
    "                    bpr_embeddings_cols.append('bpr_context_user')\n",
    "                \n",
    "                # ------ LinUCB - ALS embeddings -------\n",
    "                print(f'Training LinUCB - ALS embeddings{print_extra}')\n",
    "                linUCB_model = BanditRecommender(learning_policy=LearningPolicy.LinUCB(alpha=0.1), top_k=10)\n",
    "                train_mab(linUCB_model, current_df_train, als_embeddings_cols)  # Mudança no treinamento dos MAB\n",
    "\n",
    "                print(f'Testing LinUCB - ALS embeddings{print_extra}')\n",
    "                hits, hr, spent_time, df_recs_linUCB = test_non_incremental(linUCB_model, als_embeddings_cols, df_test_for_evaluation, interactions_by_user)\n",
    "                algo_dict['df_recs'] = save_algo_result(f'LinUCB - ALS embeddings{algo_name_extra}', hits, hr, spent_time, df_recs_linUCB, current_extra_train_size, algo_dict['results'])\n",
    "\n",
    "\n",
    "                # ------ LinUCB - BPR embeddings -------\n",
    "                print(f'Training LinUCB - BPR embeddings{print_extra}')\n",
    "                linUCB_model = BanditRecommender(learning_policy=LearningPolicy.LinUCB(alpha=0.1), top_k=10)\n",
    "                train_mab(linUCB_model, current_df_train, bpr_embeddings_cols)\n",
    "\n",
    "                print(f'Testing LinUCB - BPR embeddings{print_extra}')\n",
    "                hits, hr, spent_time, df_recs_linUCB = test_non_incremental(linUCB_model, bpr_embeddings_cols, df_test_for_evaluation, interactions_by_user)\n",
    "                algo_dict['df_recs'] = save_algo_result(f'LinUCB - BPR embeddings{algo_name_extra}', hits, hr, spent_time, df_recs_linUCB, current_extra_train_size, algo_dict['results'])\n",
    "\n",
    "                # ------ LinGreedy - ALS embeddings -------\n",
    "                print(f'Training LinGreedy - ALS embeddings{print_extra}')\n",
    "                linGreedy_model = BanditRecommender(learning_policy=LearningPolicy.LinGreedy(epsilon=0.01), top_k=10)\n",
    "                train_mab(linGreedy_model, current_df_train, als_embeddings_cols)\n",
    "\n",
    "                print(f'Testing LinGreedy - ALS embeddings{print_extra}')\n",
    "                hits, hr, spent_time, df_recs_linGreedy = test_non_incremental(linGreedy_model, als_embeddings_cols, df_test_for_evaluation, interactions_by_user)\n",
    "                algo_dict['df_recs'] = save_algo_result(f'LinGreedy - ALS embeddings{algo_name_extra}', hits, hr, spent_time, df_recs_linGreedy, current_extra_train_size, algo_dict['results'])\n",
    "\n",
    "\n",
    "                # ------ LinGreedy - BPR embeddings -------\n",
    "                print(f'Training LinGreedy - BPR embeddings{print_extra}')\n",
    "                linGreedy_model = BanditRecommender(learning_policy=LearningPolicy.LinGreedy(epsilon=0.01), top_k=10)\n",
    "                train_mab(linGreedy_model, current_df_train, bpr_embeddings_cols)\n",
    "\n",
    "                print(f'Testing LinGreedy - BPR embeddings{print_extra}')\n",
    "                hits, hr, spent_time, df_recs_linGreedy = test_non_incremental(linGreedy_model, bpr_embeddings_cols, df_test_for_evaluation, interactions_by_user)\n",
    "                algo_dict['df_recs'] = save_algo_result(f'LinGreedy - BPR embeddings{algo_name_extra}', hits, hr, spent_time, df_recs_linGreedy, current_extra_train_size, algo_dict['results'])\n",
    "        \n",
    "        # Incrementando o tamanho do treino para próxima iteração\n",
    "        current_extra_train_size = round(current_extra_train_size + train_extra_increment_step_size, 2)\n",
    "    \n",
    "    save_path = f'results-v10/'\n",
    "    if not os.path.exists(save_path):\n",
    "        os.makedirs(save_path)\n",
    "\n",
    "    df_results_als_bpr = pd.DataFrame(results)\n",
    "    for algo_name, algo_dict in algos_dict.items():\n",
    "        df_results_final = pd.DataFrame(algo_dict['results'])\n",
    "        df_results_final = pd.concat([df_results_final, df_results_als_bpr])\n",
    "        df_results_final = df_results_final.astype({'hits': int, 'hr': float, 'time': float})\n",
    "        df_results_final['test_size'] = round(test_size, 2)\n",
    "        df_results_final['test_interactions'] = len(df_test_for_evaluation)\n",
    "\n",
    "        df_results_final.to_csv(f'{save_path}/results-{algo_name}.csv', index=False)\n",
    "\n",
    "        df_recs_final = pd.concat([df_recs, algo_dict['df_recs']])\n",
    "        df_recs_final.to_csv(f'{save_path}/recs-{algo_name}.csv', index=False)"
   ]
  },
  {
   "cell_type": "code",
   "execution_count": 16,
   "metadata": {},
   "outputs": [
    {
     "name": "stdout",
     "output_type": "stream",
     "text": [
      "Generating ALS embeddings\n"
     ]
    },
    {
     "data": {
      "application/vnd.jupyter.widget-view+json": {
       "model_id": "62315f58d35143febf65c79343503028",
       "version_major": 2,
       "version_minor": 0
      },
      "text/plain": [
       "  0%|          | 0/15 [00:00<?, ?it/s]"
      ]
     },
     "metadata": {},
     "output_type": "display_data"
    },
    {
     "name": "stdout",
     "output_type": "stream",
     "text": [
      "Generating BPR embeddings\n"
     ]
    },
    {
     "data": {
      "application/vnd.jupyter.widget-view+json": {
       "model_id": "14fc31182ea041478323d9e1acac4e57",
       "version_major": 2,
       "version_minor": 0
      },
      "text/plain": [
       "  0%|          | 0/100 [00:00<?, ?it/s]"
      ]
     },
     "metadata": {},
     "output_type": "display_data"
    },
    {
     "name": "stdout",
     "output_type": "stream",
     "text": [
      "Generating contexts for window size of 1 (contat items emb)\n"
     ]
    },
    {
     "name": "stderr",
     "output_type": "stream",
     "text": [
      "C:\\Users\\gregf\\AppData\\Local\\Temp\\ipykernel_5300\\4212112566.py:47: SettingWithCopyWarning: \n",
      "A value is trying to be set on a copy of a slice from a DataFrame.\n",
      "Try using .loc[row_indexer,col_indexer] = value instead\n",
      "\n",
      "See the caveats in the documentation: https://pandas.pydata.org/pandas-docs/stable/user_guide/indexing.html#returning-a-view-versus-a-copy\n",
      "  initial_df_train[f'als_context_item_concat_{window_size}'] = als_contexts[:len(initial_df_train)]\n",
      "C:\\Users\\gregf\\AppData\\Local\\Temp\\ipykernel_5300\\4212112566.py:48: SettingWithCopyWarning: \n",
      "A value is trying to be set on a copy of a slice from a DataFrame.\n",
      "Try using .loc[row_indexer,col_indexer] = value instead\n",
      "\n",
      "See the caveats in the documentation: https://pandas.pydata.org/pandas-docs/stable/user_guide/indexing.html#returning-a-view-versus-a-copy\n",
      "  initial_df_train[f'bpr_context_item_concat_{window_size}'] = bpr_contexts[:len(initial_df_train)]\n"
     ]
    },
    {
     "name": "stdout",
     "output_type": "stream",
     "text": [
      "Generating contexts for window size of 2 (contat items emb)\n"
     ]
    },
    {
     "name": "stderr",
     "output_type": "stream",
     "text": [
      "C:\\Users\\gregf\\AppData\\Local\\Temp\\ipykernel_5300\\4212112566.py:47: SettingWithCopyWarning: \n",
      "A value is trying to be set on a copy of a slice from a DataFrame.\n",
      "Try using .loc[row_indexer,col_indexer] = value instead\n",
      "\n",
      "See the caveats in the documentation: https://pandas.pydata.org/pandas-docs/stable/user_guide/indexing.html#returning-a-view-versus-a-copy\n",
      "  initial_df_train[f'als_context_item_concat_{window_size}'] = als_contexts[:len(initial_df_train)]\n",
      "C:\\Users\\gregf\\AppData\\Local\\Temp\\ipykernel_5300\\4212112566.py:48: SettingWithCopyWarning: \n",
      "A value is trying to be set on a copy of a slice from a DataFrame.\n",
      "Try using .loc[row_indexer,col_indexer] = value instead\n",
      "\n",
      "See the caveats in the documentation: https://pandas.pydata.org/pandas-docs/stable/user_guide/indexing.html#returning-a-view-versus-a-copy\n",
      "  initial_df_train[f'bpr_context_item_concat_{window_size}'] = bpr_contexts[:len(initial_df_train)]\n"
     ]
    },
    {
     "name": "stdout",
     "output_type": "stream",
     "text": [
      "Generating contexts for window size of 3 (contat items emb)\n"
     ]
    },
    {
     "name": "stderr",
     "output_type": "stream",
     "text": [
      "C:\\Users\\gregf\\AppData\\Local\\Temp\\ipykernel_5300\\4212112566.py:47: SettingWithCopyWarning: \n",
      "A value is trying to be set on a copy of a slice from a DataFrame.\n",
      "Try using .loc[row_indexer,col_indexer] = value instead\n",
      "\n",
      "See the caveats in the documentation: https://pandas.pydata.org/pandas-docs/stable/user_guide/indexing.html#returning-a-view-versus-a-copy\n",
      "  initial_df_train[f'als_context_item_concat_{window_size}'] = als_contexts[:len(initial_df_train)]\n",
      "C:\\Users\\gregf\\AppData\\Local\\Temp\\ipykernel_5300\\4212112566.py:48: SettingWithCopyWarning: \n",
      "A value is trying to be set on a copy of a slice from a DataFrame.\n",
      "Try using .loc[row_indexer,col_indexer] = value instead\n",
      "\n",
      "See the caveats in the documentation: https://pandas.pydata.org/pandas-docs/stable/user_guide/indexing.html#returning-a-view-versus-a-copy\n",
      "  initial_df_train[f'bpr_context_item_concat_{window_size}'] = bpr_contexts[:len(initial_df_train)]\n"
     ]
    },
    {
     "name": "stdout",
     "output_type": "stream",
     "text": [
      "Generating contexts for window size of 4 (contat items emb)\n"
     ]
    },
    {
     "name": "stderr",
     "output_type": "stream",
     "text": [
      "C:\\Users\\gregf\\AppData\\Local\\Temp\\ipykernel_5300\\4212112566.py:47: SettingWithCopyWarning: \n",
      "A value is trying to be set on a copy of a slice from a DataFrame.\n",
      "Try using .loc[row_indexer,col_indexer] = value instead\n",
      "\n",
      "See the caveats in the documentation: https://pandas.pydata.org/pandas-docs/stable/user_guide/indexing.html#returning-a-view-versus-a-copy\n",
      "  initial_df_train[f'als_context_item_concat_{window_size}'] = als_contexts[:len(initial_df_train)]\n",
      "C:\\Users\\gregf\\AppData\\Local\\Temp\\ipykernel_5300\\4212112566.py:48: SettingWithCopyWarning: \n",
      "A value is trying to be set on a copy of a slice from a DataFrame.\n",
      "Try using .loc[row_indexer,col_indexer] = value instead\n",
      "\n",
      "See the caveats in the documentation: https://pandas.pydata.org/pandas-docs/stable/user_guide/indexing.html#returning-a-view-versus-a-copy\n",
      "  initial_df_train[f'bpr_context_item_concat_{window_size}'] = bpr_contexts[:len(initial_df_train)]\n"
     ]
    },
    {
     "name": "stdout",
     "output_type": "stream",
     "text": [
      "Generating contexts for window size of 5 (contat items emb)\n"
     ]
    },
    {
     "name": "stderr",
     "output_type": "stream",
     "text": [
      "C:\\Users\\gregf\\AppData\\Local\\Temp\\ipykernel_5300\\4212112566.py:47: SettingWithCopyWarning: \n",
      "A value is trying to be set on a copy of a slice from a DataFrame.\n",
      "Try using .loc[row_indexer,col_indexer] = value instead\n",
      "\n",
      "See the caveats in the documentation: https://pandas.pydata.org/pandas-docs/stable/user_guide/indexing.html#returning-a-view-versus-a-copy\n",
      "  initial_df_train[f'als_context_item_concat_{window_size}'] = als_contexts[:len(initial_df_train)]\n",
      "C:\\Users\\gregf\\AppData\\Local\\Temp\\ipykernel_5300\\4212112566.py:48: SettingWithCopyWarning: \n",
      "A value is trying to be set on a copy of a slice from a DataFrame.\n",
      "Try using .loc[row_indexer,col_indexer] = value instead\n",
      "\n",
      "See the caveats in the documentation: https://pandas.pydata.org/pandas-docs/stable/user_guide/indexing.html#returning-a-view-versus-a-copy\n",
      "  initial_df_train[f'bpr_context_item_concat_{window_size}'] = bpr_contexts[:len(initial_df_train)]\n"
     ]
    },
    {
     "name": "stdout",
     "output_type": "stream",
     "text": [
      "Generating contexts for user embeddings\n"
     ]
    },
    {
     "name": "stderr",
     "output_type": "stream",
     "text": [
      "C:\\Users\\gregf\\AppData\\Local\\Temp\\ipykernel_5300\\4212112566.py:61: SettingWithCopyWarning: \n",
      "A value is trying to be set on a copy of a slice from a DataFrame.\n",
      "Try using .loc[row_indexer,col_indexer] = value instead\n",
      "\n",
      "See the caveats in the documentation: https://pandas.pydata.org/pandas-docs/stable/user_guide/indexing.html#returning-a-view-versus-a-copy\n",
      "  initial_df_train['als_context_user'] = als_contexts[:len(initial_df_train)]\n",
      "C:\\Users\\gregf\\AppData\\Local\\Temp\\ipykernel_5300\\4212112566.py:62: SettingWithCopyWarning: \n",
      "A value is trying to be set on a copy of a slice from a DataFrame.\n",
      "Try using .loc[row_indexer,col_indexer] = value instead\n",
      "\n",
      "See the caveats in the documentation: https://pandas.pydata.org/pandas-docs/stable/user_guide/indexing.html#returning-a-view-versus-a-copy\n",
      "  initial_df_train['bpr_context_user'] = bpr_contexts[:len(initial_df_train)]\n"
     ]
    },
    {
     "name": "stdout",
     "output_type": "stream",
     "text": [
      "Generating contexts for item mean embeddings\n",
      "Current extra train size: 0\n",
      "Training ALS\n"
     ]
    },
    {
     "name": "stderr",
     "output_type": "stream",
     "text": [
      "C:\\Users\\gregf\\AppData\\Local\\Temp\\ipykernel_5300\\4212112566.py:75: SettingWithCopyWarning: \n",
      "A value is trying to be set on a copy of a slice from a DataFrame.\n",
      "Try using .loc[row_indexer,col_indexer] = value instead\n",
      "\n",
      "See the caveats in the documentation: https://pandas.pydata.org/pandas-docs/stable/user_guide/indexing.html#returning-a-view-versus-a-copy\n",
      "  initial_df_train['als_context_items_mean'] = als_contexts[:len(initial_df_train)]\n",
      "C:\\Users\\gregf\\AppData\\Local\\Temp\\ipykernel_5300\\4212112566.py:76: SettingWithCopyWarning: \n",
      "A value is trying to be set on a copy of a slice from a DataFrame.\n",
      "Try using .loc[row_indexer,col_indexer] = value instead\n",
      "\n",
      "See the caveats in the documentation: https://pandas.pydata.org/pandas-docs/stable/user_guide/indexing.html#returning-a-view-versus-a-copy\n",
      "  initial_df_train['bpr_context_items_mean'] = bpr_contexts[:len(initial_df_train)]\n"
     ]
    },
    {
     "data": {
      "application/vnd.jupyter.widget-view+json": {
       "model_id": "b92a923ce93b4d38b2a9e89d25df5577",
       "version_major": 2,
       "version_minor": 0
      },
      "text/plain": [
       "  0%|          | 0/15 [00:00<?, ?it/s]"
      ]
     },
     "metadata": {},
     "output_type": "display_data"
    },
    {
     "name": "stdout",
     "output_type": "stream",
     "text": [
      "Testing ALS\n",
      "Training BPR\n"
     ]
    },
    {
     "data": {
      "application/vnd.jupyter.widget-view+json": {
       "model_id": "71dbeaa8046b470abad097a1682b7896",
       "version_major": 2,
       "version_minor": 0
      },
      "text/plain": [
       "  0%|          | 0/100 [00:00<?, ?it/s]"
      ]
     },
     "metadata": {},
     "output_type": "display_data"
    },
    {
     "name": "stdout",
     "output_type": "stream",
     "text": [
      "Testing BPR\n",
      "Training LinUCB - ALS embeddings - item_concat - 1\n",
      "Testing LinUCB - ALS embeddings - item_concat - 1\n",
      "Training LinUCB - BPR embeddings - item_concat - 1\n",
      "Testing LinUCB - BPR embeddings - item_concat - 1\n",
      "Training LinGreedy - ALS embeddings - item_concat - 1\n",
      "Testing LinGreedy - ALS embeddings - item_concat - 1\n",
      "Training LinGreedy - BPR embeddings - item_concat - 1\n",
      "Testing LinGreedy - BPR embeddings - item_concat - 1\n",
      "Training LinUCB - ALS embeddings - item_concat - 2\n",
      "Testing LinUCB - ALS embeddings - item_concat - 2\n",
      "Training LinUCB - BPR embeddings - item_concat - 2\n",
      "Testing LinUCB - BPR embeddings - item_concat - 2\n",
      "Training LinGreedy - ALS embeddings - item_concat - 2\n",
      "Testing LinGreedy - ALS embeddings - item_concat - 2\n",
      "Training LinGreedy - BPR embeddings - item_concat - 2\n",
      "Testing LinGreedy - BPR embeddings - item_concat - 2\n",
      "Training LinUCB - ALS embeddings - item_concat - 3\n",
      "Testing LinUCB - ALS embeddings - item_concat - 3\n",
      "Training LinUCB - BPR embeddings - item_concat - 3\n",
      "Testing LinUCB - BPR embeddings - item_concat - 3\n",
      "Training LinGreedy - ALS embeddings - item_concat - 3\n",
      "Testing LinGreedy - ALS embeddings - item_concat - 3\n",
      "Training LinGreedy - BPR embeddings - item_concat - 3\n",
      "Testing LinGreedy - BPR embeddings - item_concat - 3\n",
      "Training LinUCB - ALS embeddings - item_concat - 4\n",
      "Testing LinUCB - ALS embeddings - item_concat - 4\n",
      "Training LinUCB - BPR embeddings - item_concat - 4\n",
      "Testing LinUCB - BPR embeddings - item_concat - 4\n",
      "Training LinGreedy - ALS embeddings - item_concat - 4\n",
      "Testing LinGreedy - ALS embeddings - item_concat - 4\n",
      "Training LinGreedy - BPR embeddings - item_concat - 4\n",
      "Testing LinGreedy - BPR embeddings - item_concat - 4\n",
      "Training LinUCB - ALS embeddings - item_concat - 5\n",
      "Testing LinUCB - ALS embeddings - item_concat - 5\n",
      "Training LinUCB - BPR embeddings - item_concat - 5\n",
      "Testing LinUCB - BPR embeddings - item_concat - 5\n",
      "Training LinGreedy - ALS embeddings - item_concat - 5\n",
      "Testing LinGreedy - ALS embeddings - item_concat - 5\n",
      "Training LinGreedy - BPR embeddings - item_concat - 5\n",
      "Testing LinGreedy - BPR embeddings - item_concat - 5\n",
      "Training LinUCB - ALS embeddings - item_mean\n",
      "Testing LinUCB - ALS embeddings - item_mean\n",
      "Training LinUCB - BPR embeddings - item_mean\n",
      "Testing LinUCB - BPR embeddings - item_mean\n",
      "Training LinGreedy - ALS embeddings - item_mean\n",
      "Testing LinGreedy - ALS embeddings - item_mean\n",
      "Training LinGreedy - BPR embeddings - item_mean\n",
      "Testing LinGreedy - BPR embeddings - item_mean\n",
      "Training LinUCB - ALS embeddings - user\n",
      "Testing LinUCB - ALS embeddings - user\n",
      "Training LinUCB - BPR embeddings - user\n",
      "Testing LinUCB - BPR embeddings - user\n",
      "Training LinGreedy - ALS embeddings - user\n",
      "Testing LinGreedy - ALS embeddings - user\n",
      "Training LinGreedy - BPR embeddings - user\n",
      "Testing LinGreedy - BPR embeddings - user\n",
      "Training LinUCB - ALS embeddings - item_concat-item_mean - 1\n",
      "Testing LinUCB - ALS embeddings - item_concat-item_mean - 1\n",
      "Training LinUCB - BPR embeddings - item_concat-item_mean - 1\n",
      "Testing LinUCB - BPR embeddings - item_concat-item_mean - 1\n",
      "Training LinGreedy - ALS embeddings - item_concat-item_mean - 1\n",
      "Testing LinGreedy - ALS embeddings - item_concat-item_mean - 1\n",
      "Training LinGreedy - BPR embeddings - item_concat-item_mean - 1\n",
      "Testing LinGreedy - BPR embeddings - item_concat-item_mean - 1\n",
      "Training LinUCB - ALS embeddings - item_concat-item_mean - 2\n",
      "Testing LinUCB - ALS embeddings - item_concat-item_mean - 2\n",
      "Training LinUCB - BPR embeddings - item_concat-item_mean - 2\n",
      "Testing LinUCB - BPR embeddings - item_concat-item_mean - 2\n",
      "Training LinGreedy - ALS embeddings - item_concat-item_mean - 2\n",
      "Testing LinGreedy - ALS embeddings - item_concat-item_mean - 2\n",
      "Training LinGreedy - BPR embeddings - item_concat-item_mean - 2\n",
      "Testing LinGreedy - BPR embeddings - item_concat-item_mean - 2\n",
      "Training LinUCB - ALS embeddings - item_concat-item_mean - 3\n",
      "Testing LinUCB - ALS embeddings - item_concat-item_mean - 3\n",
      "Training LinUCB - BPR embeddings - item_concat-item_mean - 3\n",
      "Testing LinUCB - BPR embeddings - item_concat-item_mean - 3\n",
      "Training LinGreedy - ALS embeddings - item_concat-item_mean - 3\n",
      "Testing LinGreedy - ALS embeddings - item_concat-item_mean - 3\n",
      "Training LinGreedy - BPR embeddings - item_concat-item_mean - 3\n",
      "Testing LinGreedy - BPR embeddings - item_concat-item_mean - 3\n",
      "Training LinUCB - ALS embeddings - item_concat-item_mean - 4\n",
      "Testing LinUCB - ALS embeddings - item_concat-item_mean - 4\n",
      "Training LinUCB - BPR embeddings - item_concat-item_mean - 4\n",
      "Testing LinUCB - BPR embeddings - item_concat-item_mean - 4\n",
      "Training LinGreedy - ALS embeddings - item_concat-item_mean - 4\n",
      "Testing LinGreedy - ALS embeddings - item_concat-item_mean - 4\n",
      "Training LinGreedy - BPR embeddings - item_concat-item_mean - 4\n",
      "Testing LinGreedy - BPR embeddings - item_concat-item_mean - 4\n",
      "Training LinUCB - ALS embeddings - item_concat-item_mean - 5\n",
      "Testing LinUCB - ALS embeddings - item_concat-item_mean - 5\n",
      "Training LinUCB - BPR embeddings - item_concat-item_mean - 5\n",
      "Testing LinUCB - BPR embeddings - item_concat-item_mean - 5\n",
      "Training LinGreedy - ALS embeddings - item_concat-item_mean - 5\n",
      "Testing LinGreedy - ALS embeddings - item_concat-item_mean - 5\n",
      "Training LinGreedy - BPR embeddings - item_concat-item_mean - 5\n",
      "Testing LinGreedy - BPR embeddings - item_concat-item_mean - 5\n",
      "Training LinUCB - ALS embeddings - item_concat-user - 1\n",
      "Testing LinUCB - ALS embeddings - item_concat-user - 1\n",
      "Training LinUCB - BPR embeddings - item_concat-user - 1\n",
      "Testing LinUCB - BPR embeddings - item_concat-user - 1\n",
      "Training LinGreedy - ALS embeddings - item_concat-user - 1\n",
      "Testing LinGreedy - ALS embeddings - item_concat-user - 1\n",
      "Training LinGreedy - BPR embeddings - item_concat-user - 1\n",
      "Testing LinGreedy - BPR embeddings - item_concat-user - 1\n",
      "Training LinUCB - ALS embeddings - item_concat-user - 2\n",
      "Testing LinUCB - ALS embeddings - item_concat-user - 2\n",
      "Training LinUCB - BPR embeddings - item_concat-user - 2\n",
      "Testing LinUCB - BPR embeddings - item_concat-user - 2\n",
      "Training LinGreedy - ALS embeddings - item_concat-user - 2\n",
      "Testing LinGreedy - ALS embeddings - item_concat-user - 2\n",
      "Training LinGreedy - BPR embeddings - item_concat-user - 2\n",
      "Testing LinGreedy - BPR embeddings - item_concat-user - 2\n",
      "Training LinUCB - ALS embeddings - item_concat-user - 3\n",
      "Testing LinUCB - ALS embeddings - item_concat-user - 3\n",
      "Training LinUCB - BPR embeddings - item_concat-user - 3\n",
      "Testing LinUCB - BPR embeddings - item_concat-user - 3\n",
      "Training LinGreedy - ALS embeddings - item_concat-user - 3\n",
      "Testing LinGreedy - ALS embeddings - item_concat-user - 3\n",
      "Training LinGreedy - BPR embeddings - item_concat-user - 3\n",
      "Testing LinGreedy - BPR embeddings - item_concat-user - 3\n",
      "Training LinUCB - ALS embeddings - item_concat-user - 4\n",
      "Testing LinUCB - ALS embeddings - item_concat-user - 4\n",
      "Training LinUCB - BPR embeddings - item_concat-user - 4\n",
      "Testing LinUCB - BPR embeddings - item_concat-user - 4\n",
      "Training LinGreedy - ALS embeddings - item_concat-user - 4\n",
      "Testing LinGreedy - ALS embeddings - item_concat-user - 4\n",
      "Training LinGreedy - BPR embeddings - item_concat-user - 4\n",
      "Testing LinGreedy - BPR embeddings - item_concat-user - 4\n",
      "Training LinUCB - ALS embeddings - item_concat-user - 5\n",
      "Testing LinUCB - ALS embeddings - item_concat-user - 5\n",
      "Training LinUCB - BPR embeddings - item_concat-user - 5\n",
      "Testing LinUCB - BPR embeddings - item_concat-user - 5\n",
      "Training LinGreedy - ALS embeddings - item_concat-user - 5\n",
      "Testing LinGreedy - ALS embeddings - item_concat-user - 5\n",
      "Training LinGreedy - BPR embeddings - item_concat-user - 5\n",
      "Testing LinGreedy - BPR embeddings - item_concat-user - 5\n",
      "Training LinUCB - ALS embeddings - item_mean-user\n",
      "Testing LinUCB - ALS embeddings - item_mean-user\n",
      "Training LinUCB - BPR embeddings - item_mean-user\n",
      "Testing LinUCB - BPR embeddings - item_mean-user\n",
      "Training LinGreedy - ALS embeddings - item_mean-user\n",
      "Testing LinGreedy - ALS embeddings - item_mean-user\n",
      "Training LinGreedy - BPR embeddings - item_mean-user\n",
      "Testing LinGreedy - BPR embeddings - item_mean-user\n",
      "Training LinUCB - ALS embeddings - all - 1\n",
      "Testing LinUCB - ALS embeddings - all - 1\n",
      "Training LinUCB - BPR embeddings - all - 1\n",
      "Testing LinUCB - BPR embeddings - all - 1\n",
      "Training LinGreedy - ALS embeddings - all - 1\n",
      "Testing LinGreedy - ALS embeddings - all - 1\n",
      "Training LinGreedy - BPR embeddings - all - 1\n",
      "Testing LinGreedy - BPR embeddings - all - 1\n",
      "Training LinUCB - ALS embeddings - all - 2\n",
      "Testing LinUCB - ALS embeddings - all - 2\n",
      "Training LinUCB - BPR embeddings - all - 2\n",
      "Testing LinUCB - BPR embeddings - all - 2\n",
      "Training LinGreedy - ALS embeddings - all - 2\n",
      "Testing LinGreedy - ALS embeddings - all - 2\n",
      "Training LinGreedy - BPR embeddings - all - 2\n",
      "Testing LinGreedy - BPR embeddings - all - 2\n",
      "Training LinUCB - ALS embeddings - all - 3\n",
      "Testing LinUCB - ALS embeddings - all - 3\n",
      "Training LinUCB - BPR embeddings - all - 3\n",
      "Testing LinUCB - BPR embeddings - all - 3\n",
      "Training LinGreedy - ALS embeddings - all - 3\n",
      "Testing LinGreedy - ALS embeddings - all - 3\n",
      "Training LinGreedy - BPR embeddings - all - 3\n",
      "Testing LinGreedy - BPR embeddings - all - 3\n",
      "Training LinUCB - ALS embeddings - all - 4\n",
      "Testing LinUCB - ALS embeddings - all - 4\n",
      "Training LinUCB - BPR embeddings - all - 4\n",
      "Testing LinUCB - BPR embeddings - all - 4\n",
      "Training LinGreedy - ALS embeddings - all - 4\n",
      "Testing LinGreedy - ALS embeddings - all - 4\n",
      "Training LinGreedy - BPR embeddings - all - 4\n",
      "Testing LinGreedy - BPR embeddings - all - 4\n",
      "Training LinUCB - ALS embeddings - all - 5\n",
      "Testing LinUCB - ALS embeddings - all - 5\n",
      "Training LinUCB - BPR embeddings - all - 5\n",
      "Testing LinUCB - BPR embeddings - all - 5\n",
      "Training LinGreedy - ALS embeddings - all - 5\n",
      "Testing LinGreedy - ALS embeddings - all - 5\n",
      "Training LinGreedy - BPR embeddings - all - 5\n",
      "Testing LinGreedy - BPR embeddings - all - 5\n",
      "Current extra train size: 0.1\n",
      "Training ALS\n"
     ]
    },
    {
     "data": {
      "application/vnd.jupyter.widget-view+json": {
       "model_id": "43d900ff0dd74fdc84ec0cf9503c92b8",
       "version_major": 2,
       "version_minor": 0
      },
      "text/plain": [
       "  0%|          | 0/15 [00:00<?, ?it/s]"
      ]
     },
     "metadata": {},
     "output_type": "display_data"
    },
    {
     "name": "stdout",
     "output_type": "stream",
     "text": [
      "Testing ALS\n",
      "Training BPR\n"
     ]
    },
    {
     "data": {
      "application/vnd.jupyter.widget-view+json": {
       "model_id": "87db7c321e1c45b9b96c8251064656bf",
       "version_major": 2,
       "version_minor": 0
      },
      "text/plain": [
       "  0%|          | 0/100 [00:00<?, ?it/s]"
      ]
     },
     "metadata": {},
     "output_type": "display_data"
    },
    {
     "name": "stdout",
     "output_type": "stream",
     "text": [
      "Testing BPR\n",
      "Training LinUCB - ALS embeddings - item_concat - 1\n",
      "Testing LinUCB - ALS embeddings - item_concat - 1\n",
      "Training LinUCB - BPR embeddings - item_concat - 1\n",
      "Testing LinUCB - BPR embeddings - item_concat - 1\n",
      "Training LinGreedy - ALS embeddings - item_concat - 1\n",
      "Testing LinGreedy - ALS embeddings - item_concat - 1\n",
      "Training LinGreedy - BPR embeddings - item_concat - 1\n",
      "Testing LinGreedy - BPR embeddings - item_concat - 1\n",
      "Training LinUCB - ALS embeddings - item_concat - 2\n",
      "Testing LinUCB - ALS embeddings - item_concat - 2\n",
      "Training LinUCB - BPR embeddings - item_concat - 2\n",
      "Testing LinUCB - BPR embeddings - item_concat - 2\n",
      "Training LinGreedy - ALS embeddings - item_concat - 2\n",
      "Testing LinGreedy - ALS embeddings - item_concat - 2\n",
      "Training LinGreedy - BPR embeddings - item_concat - 2\n",
      "Testing LinGreedy - BPR embeddings - item_concat - 2\n",
      "Training LinUCB - ALS embeddings - item_concat - 3\n",
      "Testing LinUCB - ALS embeddings - item_concat - 3\n",
      "Training LinUCB - BPR embeddings - item_concat - 3\n",
      "Testing LinUCB - BPR embeddings - item_concat - 3\n",
      "Training LinGreedy - ALS embeddings - item_concat - 3\n",
      "Testing LinGreedy - ALS embeddings - item_concat - 3\n",
      "Training LinGreedy - BPR embeddings - item_concat - 3\n",
      "Testing LinGreedy - BPR embeddings - item_concat - 3\n",
      "Training LinUCB - ALS embeddings - item_concat - 4\n",
      "Testing LinUCB - ALS embeddings - item_concat - 4\n",
      "Training LinUCB - BPR embeddings - item_concat - 4\n",
      "Testing LinUCB - BPR embeddings - item_concat - 4\n",
      "Training LinGreedy - ALS embeddings - item_concat - 4\n",
      "Testing LinGreedy - ALS embeddings - item_concat - 4\n",
      "Training LinGreedy - BPR embeddings - item_concat - 4\n",
      "Testing LinGreedy - BPR embeddings - item_concat - 4\n",
      "Training LinUCB - ALS embeddings - item_concat - 5\n",
      "Testing LinUCB - ALS embeddings - item_concat - 5\n",
      "Training LinUCB - BPR embeddings - item_concat - 5\n",
      "Testing LinUCB - BPR embeddings - item_concat - 5\n",
      "Training LinGreedy - ALS embeddings - item_concat - 5\n",
      "Testing LinGreedy - ALS embeddings - item_concat - 5\n",
      "Training LinGreedy - BPR embeddings - item_concat - 5\n",
      "Testing LinGreedy - BPR embeddings - item_concat - 5\n",
      "Training LinUCB - ALS embeddings - item_mean\n",
      "Testing LinUCB - ALS embeddings - item_mean\n",
      "Training LinUCB - BPR embeddings - item_mean\n",
      "Testing LinUCB - BPR embeddings - item_mean\n",
      "Training LinGreedy - ALS embeddings - item_mean\n",
      "Testing LinGreedy - ALS embeddings - item_mean\n",
      "Training LinGreedy - BPR embeddings - item_mean\n",
      "Testing LinGreedy - BPR embeddings - item_mean\n",
      "Training LinUCB - ALS embeddings - user\n",
      "Testing LinUCB - ALS embeddings - user\n",
      "Training LinUCB - BPR embeddings - user\n",
      "Testing LinUCB - BPR embeddings - user\n",
      "Training LinGreedy - ALS embeddings - user\n",
      "Testing LinGreedy - ALS embeddings - user\n",
      "Training LinGreedy - BPR embeddings - user\n",
      "Testing LinGreedy - BPR embeddings - user\n",
      "Training LinUCB - ALS embeddings - item_concat-item_mean - 1\n",
      "Testing LinUCB - ALS embeddings - item_concat-item_mean - 1\n",
      "Training LinUCB - BPR embeddings - item_concat-item_mean - 1\n",
      "Testing LinUCB - BPR embeddings - item_concat-item_mean - 1\n",
      "Training LinGreedy - ALS embeddings - item_concat-item_mean - 1\n",
      "Testing LinGreedy - ALS embeddings - item_concat-item_mean - 1\n",
      "Training LinGreedy - BPR embeddings - item_concat-item_mean - 1\n",
      "Testing LinGreedy - BPR embeddings - item_concat-item_mean - 1\n",
      "Training LinUCB - ALS embeddings - item_concat-item_mean - 2\n",
      "Testing LinUCB - ALS embeddings - item_concat-item_mean - 2\n",
      "Training LinUCB - BPR embeddings - item_concat-item_mean - 2\n",
      "Testing LinUCB - BPR embeddings - item_concat-item_mean - 2\n",
      "Training LinGreedy - ALS embeddings - item_concat-item_mean - 2\n",
      "Testing LinGreedy - ALS embeddings - item_concat-item_mean - 2\n",
      "Training LinGreedy - BPR embeddings - item_concat-item_mean - 2\n",
      "Testing LinGreedy - BPR embeddings - item_concat-item_mean - 2\n",
      "Training LinUCB - ALS embeddings - item_concat-item_mean - 3\n",
      "Testing LinUCB - ALS embeddings - item_concat-item_mean - 3\n",
      "Training LinUCB - BPR embeddings - item_concat-item_mean - 3\n",
      "Testing LinUCB - BPR embeddings - item_concat-item_mean - 3\n",
      "Training LinGreedy - ALS embeddings - item_concat-item_mean - 3\n",
      "Testing LinGreedy - ALS embeddings - item_concat-item_mean - 3\n",
      "Training LinGreedy - BPR embeddings - item_concat-item_mean - 3\n",
      "Testing LinGreedy - BPR embeddings - item_concat-item_mean - 3\n",
      "Training LinUCB - ALS embeddings - item_concat-item_mean - 4\n",
      "Testing LinUCB - ALS embeddings - item_concat-item_mean - 4\n",
      "Training LinUCB - BPR embeddings - item_concat-item_mean - 4\n",
      "Testing LinUCB - BPR embeddings - item_concat-item_mean - 4\n",
      "Training LinGreedy - ALS embeddings - item_concat-item_mean - 4\n",
      "Testing LinGreedy - ALS embeddings - item_concat-item_mean - 4\n",
      "Training LinGreedy - BPR embeddings - item_concat-item_mean - 4\n",
      "Testing LinGreedy - BPR embeddings - item_concat-item_mean - 4\n",
      "Training LinUCB - ALS embeddings - item_concat-item_mean - 5\n",
      "Testing LinUCB - ALS embeddings - item_concat-item_mean - 5\n",
      "Training LinUCB - BPR embeddings - item_concat-item_mean - 5\n",
      "Testing LinUCB - BPR embeddings - item_concat-item_mean - 5\n",
      "Training LinGreedy - ALS embeddings - item_concat-item_mean - 5\n",
      "Testing LinGreedy - ALS embeddings - item_concat-item_mean - 5\n",
      "Training LinGreedy - BPR embeddings - item_concat-item_mean - 5\n",
      "Testing LinGreedy - BPR embeddings - item_concat-item_mean - 5\n",
      "Training LinUCB - ALS embeddings - item_concat-user - 1\n",
      "Testing LinUCB - ALS embeddings - item_concat-user - 1\n",
      "Training LinUCB - BPR embeddings - item_concat-user - 1\n",
      "Testing LinUCB - BPR embeddings - item_concat-user - 1\n",
      "Training LinGreedy - ALS embeddings - item_concat-user - 1\n",
      "Testing LinGreedy - ALS embeddings - item_concat-user - 1\n",
      "Training LinGreedy - BPR embeddings - item_concat-user - 1\n",
      "Testing LinGreedy - BPR embeddings - item_concat-user - 1\n",
      "Training LinUCB - ALS embeddings - item_concat-user - 2\n",
      "Testing LinUCB - ALS embeddings - item_concat-user - 2\n",
      "Training LinUCB - BPR embeddings - item_concat-user - 2\n",
      "Testing LinUCB - BPR embeddings - item_concat-user - 2\n",
      "Training LinGreedy - ALS embeddings - item_concat-user - 2\n",
      "Testing LinGreedy - ALS embeddings - item_concat-user - 2\n",
      "Training LinGreedy - BPR embeddings - item_concat-user - 2\n",
      "Testing LinGreedy - BPR embeddings - item_concat-user - 2\n",
      "Training LinUCB - ALS embeddings - item_concat-user - 3\n",
      "Testing LinUCB - ALS embeddings - item_concat-user - 3\n",
      "Training LinUCB - BPR embeddings - item_concat-user - 3\n",
      "Testing LinUCB - BPR embeddings - item_concat-user - 3\n",
      "Training LinGreedy - ALS embeddings - item_concat-user - 3\n",
      "Testing LinGreedy - ALS embeddings - item_concat-user - 3\n",
      "Training LinGreedy - BPR embeddings - item_concat-user - 3\n",
      "Testing LinGreedy - BPR embeddings - item_concat-user - 3\n",
      "Training LinUCB - ALS embeddings - item_concat-user - 4\n",
      "Testing LinUCB - ALS embeddings - item_concat-user - 4\n",
      "Training LinUCB - BPR embeddings - item_concat-user - 4\n",
      "Testing LinUCB - BPR embeddings - item_concat-user - 4\n",
      "Training LinGreedy - ALS embeddings - item_concat-user - 4\n",
      "Testing LinGreedy - ALS embeddings - item_concat-user - 4\n",
      "Training LinGreedy - BPR embeddings - item_concat-user - 4\n",
      "Testing LinGreedy - BPR embeddings - item_concat-user - 4\n",
      "Training LinUCB - ALS embeddings - item_concat-user - 5\n",
      "Testing LinUCB - ALS embeddings - item_concat-user - 5\n",
      "Training LinUCB - BPR embeddings - item_concat-user - 5\n",
      "Testing LinUCB - BPR embeddings - item_concat-user - 5\n",
      "Training LinGreedy - ALS embeddings - item_concat-user - 5\n",
      "Testing LinGreedy - ALS embeddings - item_concat-user - 5\n",
      "Training LinGreedy - BPR embeddings - item_concat-user - 5\n",
      "Testing LinGreedy - BPR embeddings - item_concat-user - 5\n",
      "Training LinUCB - ALS embeddings - item_mean-user\n",
      "Testing LinUCB - ALS embeddings - item_mean-user\n",
      "Training LinUCB - BPR embeddings - item_mean-user\n",
      "Testing LinUCB - BPR embeddings - item_mean-user\n",
      "Training LinGreedy - ALS embeddings - item_mean-user\n",
      "Testing LinGreedy - ALS embeddings - item_mean-user\n",
      "Training LinGreedy - BPR embeddings - item_mean-user\n",
      "Testing LinGreedy - BPR embeddings - item_mean-user\n",
      "Training LinUCB - ALS embeddings - all - 1\n",
      "Testing LinUCB - ALS embeddings - all - 1\n",
      "Training LinUCB - BPR embeddings - all - 1\n",
      "Testing LinUCB - BPR embeddings - all - 1\n",
      "Training LinGreedy - ALS embeddings - all - 1\n",
      "Testing LinGreedy - ALS embeddings - all - 1\n",
      "Training LinGreedy - BPR embeddings - all - 1\n",
      "Testing LinGreedy - BPR embeddings - all - 1\n",
      "Training LinUCB - ALS embeddings - all - 2\n",
      "Testing LinUCB - ALS embeddings - all - 2\n",
      "Training LinUCB - BPR embeddings - all - 2\n",
      "Testing LinUCB - BPR embeddings - all - 2\n",
      "Training LinGreedy - ALS embeddings - all - 2\n",
      "Testing LinGreedy - ALS embeddings - all - 2\n",
      "Training LinGreedy - BPR embeddings - all - 2\n",
      "Testing LinGreedy - BPR embeddings - all - 2\n",
      "Training LinUCB - ALS embeddings - all - 3\n",
      "Testing LinUCB - ALS embeddings - all - 3\n",
      "Training LinUCB - BPR embeddings - all - 3\n",
      "Testing LinUCB - BPR embeddings - all - 3\n",
      "Training LinGreedy - ALS embeddings - all - 3\n",
      "Testing LinGreedy - ALS embeddings - all - 3\n",
      "Training LinGreedy - BPR embeddings - all - 3\n",
      "Testing LinGreedy - BPR embeddings - all - 3\n",
      "Training LinUCB - ALS embeddings - all - 4\n",
      "Testing LinUCB - ALS embeddings - all - 4\n",
      "Training LinUCB - BPR embeddings - all - 4\n",
      "Testing LinUCB - BPR embeddings - all - 4\n",
      "Training LinGreedy - ALS embeddings - all - 4\n",
      "Testing LinGreedy - ALS embeddings - all - 4\n",
      "Training LinGreedy - BPR embeddings - all - 4\n",
      "Testing LinGreedy - BPR embeddings - all - 4\n",
      "Training LinUCB - ALS embeddings - all - 5\n",
      "Testing LinUCB - ALS embeddings - all - 5\n",
      "Training LinUCB - BPR embeddings - all - 5\n",
      "Testing LinUCB - BPR embeddings - all - 5\n",
      "Training LinGreedy - ALS embeddings - all - 5\n",
      "Testing LinGreedy - ALS embeddings - all - 5\n",
      "Training LinGreedy - BPR embeddings - all - 5\n",
      "Testing LinGreedy - BPR embeddings - all - 5\n",
      "Current extra train size: 0.2\n",
      "Training ALS\n"
     ]
    },
    {
     "data": {
      "application/vnd.jupyter.widget-view+json": {
       "model_id": "c76bb66f0a6e49d3b44a916597399591",
       "version_major": 2,
       "version_minor": 0
      },
      "text/plain": [
       "  0%|          | 0/15 [00:00<?, ?it/s]"
      ]
     },
     "metadata": {},
     "output_type": "display_data"
    },
    {
     "name": "stdout",
     "output_type": "stream",
     "text": [
      "Testing ALS\n",
      "Training BPR\n"
     ]
    },
    {
     "data": {
      "application/vnd.jupyter.widget-view+json": {
       "model_id": "c520962904d544d8821379f8c982819f",
       "version_major": 2,
       "version_minor": 0
      },
      "text/plain": [
       "  0%|          | 0/100 [00:00<?, ?it/s]"
      ]
     },
     "metadata": {},
     "output_type": "display_data"
    },
    {
     "name": "stdout",
     "output_type": "stream",
     "text": [
      "Testing BPR\n",
      "Training LinUCB - ALS embeddings - item_concat - 1\n",
      "Testing LinUCB - ALS embeddings - item_concat - 1\n",
      "Training LinUCB - BPR embeddings - item_concat - 1\n",
      "Testing LinUCB - BPR embeddings - item_concat - 1\n",
      "Training LinGreedy - ALS embeddings - item_concat - 1\n",
      "Testing LinGreedy - ALS embeddings - item_concat - 1\n",
      "Training LinGreedy - BPR embeddings - item_concat - 1\n",
      "Testing LinGreedy - BPR embeddings - item_concat - 1\n",
      "Training LinUCB - ALS embeddings - item_concat - 2\n",
      "Testing LinUCB - ALS embeddings - item_concat - 2\n",
      "Training LinUCB - BPR embeddings - item_concat - 2\n",
      "Testing LinUCB - BPR embeddings - item_concat - 2\n",
      "Training LinGreedy - ALS embeddings - item_concat - 2\n",
      "Testing LinGreedy - ALS embeddings - item_concat - 2\n",
      "Training LinGreedy - BPR embeddings - item_concat - 2\n",
      "Testing LinGreedy - BPR embeddings - item_concat - 2\n",
      "Training LinUCB - ALS embeddings - item_concat - 3\n",
      "Testing LinUCB - ALS embeddings - item_concat - 3\n",
      "Training LinUCB - BPR embeddings - item_concat - 3\n",
      "Testing LinUCB - BPR embeddings - item_concat - 3\n",
      "Training LinGreedy - ALS embeddings - item_concat - 3\n",
      "Testing LinGreedy - ALS embeddings - item_concat - 3\n",
      "Training LinGreedy - BPR embeddings - item_concat - 3\n",
      "Testing LinGreedy - BPR embeddings - item_concat - 3\n",
      "Training LinUCB - ALS embeddings - item_concat - 4\n",
      "Testing LinUCB - ALS embeddings - item_concat - 4\n",
      "Training LinUCB - BPR embeddings - item_concat - 4\n",
      "Testing LinUCB - BPR embeddings - item_concat - 4\n",
      "Training LinGreedy - ALS embeddings - item_concat - 4\n",
      "Testing LinGreedy - ALS embeddings - item_concat - 4\n",
      "Training LinGreedy - BPR embeddings - item_concat - 4\n",
      "Testing LinGreedy - BPR embeddings - item_concat - 4\n",
      "Training LinUCB - ALS embeddings - item_concat - 5\n",
      "Testing LinUCB - ALS embeddings - item_concat - 5\n",
      "Training LinUCB - BPR embeddings - item_concat - 5\n",
      "Testing LinUCB - BPR embeddings - item_concat - 5\n",
      "Training LinGreedy - ALS embeddings - item_concat - 5\n",
      "Testing LinGreedy - ALS embeddings - item_concat - 5\n",
      "Training LinGreedy - BPR embeddings - item_concat - 5\n",
      "Testing LinGreedy - BPR embeddings - item_concat - 5\n",
      "Training LinUCB - ALS embeddings - item_mean\n",
      "Testing LinUCB - ALS embeddings - item_mean\n",
      "Training LinUCB - BPR embeddings - item_mean\n",
      "Testing LinUCB - BPR embeddings - item_mean\n",
      "Training LinGreedy - ALS embeddings - item_mean\n",
      "Testing LinGreedy - ALS embeddings - item_mean\n",
      "Training LinGreedy - BPR embeddings - item_mean\n",
      "Testing LinGreedy - BPR embeddings - item_mean\n",
      "Training LinUCB - ALS embeddings - user\n",
      "Testing LinUCB - ALS embeddings - user\n",
      "Training LinUCB - BPR embeddings - user\n",
      "Testing LinUCB - BPR embeddings - user\n",
      "Training LinGreedy - ALS embeddings - user\n",
      "Testing LinGreedy - ALS embeddings - user\n",
      "Training LinGreedy - BPR embeddings - user\n",
      "Testing LinGreedy - BPR embeddings - user\n",
      "Training LinUCB - ALS embeddings - item_concat-item_mean - 1\n",
      "Testing LinUCB - ALS embeddings - item_concat-item_mean - 1\n",
      "Training LinUCB - BPR embeddings - item_concat-item_mean - 1\n",
      "Testing LinUCB - BPR embeddings - item_concat-item_mean - 1\n",
      "Training LinGreedy - ALS embeddings - item_concat-item_mean - 1\n",
      "Testing LinGreedy - ALS embeddings - item_concat-item_mean - 1\n",
      "Training LinGreedy - BPR embeddings - item_concat-item_mean - 1\n",
      "Testing LinGreedy - BPR embeddings - item_concat-item_mean - 1\n",
      "Training LinUCB - ALS embeddings - item_concat-item_mean - 2\n",
      "Testing LinUCB - ALS embeddings - item_concat-item_mean - 2\n",
      "Training LinUCB - BPR embeddings - item_concat-item_mean - 2\n",
      "Testing LinUCB - BPR embeddings - item_concat-item_mean - 2\n",
      "Training LinGreedy - ALS embeddings - item_concat-item_mean - 2\n",
      "Testing LinGreedy - ALS embeddings - item_concat-item_mean - 2\n",
      "Training LinGreedy - BPR embeddings - item_concat-item_mean - 2\n",
      "Testing LinGreedy - BPR embeddings - item_concat-item_mean - 2\n",
      "Training LinUCB - ALS embeddings - item_concat-item_mean - 3\n",
      "Testing LinUCB - ALS embeddings - item_concat-item_mean - 3\n",
      "Training LinUCB - BPR embeddings - item_concat-item_mean - 3\n",
      "Testing LinUCB - BPR embeddings - item_concat-item_mean - 3\n",
      "Training LinGreedy - ALS embeddings - item_concat-item_mean - 3\n",
      "Testing LinGreedy - ALS embeddings - item_concat-item_mean - 3\n",
      "Training LinGreedy - BPR embeddings - item_concat-item_mean - 3\n",
      "Testing LinGreedy - BPR embeddings - item_concat-item_mean - 3\n",
      "Training LinUCB - ALS embeddings - item_concat-item_mean - 4\n",
      "Testing LinUCB - ALS embeddings - item_concat-item_mean - 4\n",
      "Training LinUCB - BPR embeddings - item_concat-item_mean - 4\n",
      "Testing LinUCB - BPR embeddings - item_concat-item_mean - 4\n",
      "Training LinGreedy - ALS embeddings - item_concat-item_mean - 4\n",
      "Testing LinGreedy - ALS embeddings - item_concat-item_mean - 4\n",
      "Training LinGreedy - BPR embeddings - item_concat-item_mean - 4\n",
      "Testing LinGreedy - BPR embeddings - item_concat-item_mean - 4\n",
      "Training LinUCB - ALS embeddings - item_concat-item_mean - 5\n",
      "Testing LinUCB - ALS embeddings - item_concat-item_mean - 5\n",
      "Training LinUCB - BPR embeddings - item_concat-item_mean - 5\n",
      "Testing LinUCB - BPR embeddings - item_concat-item_mean - 5\n",
      "Training LinGreedy - ALS embeddings - item_concat-item_mean - 5\n",
      "Testing LinGreedy - ALS embeddings - item_concat-item_mean - 5\n",
      "Training LinGreedy - BPR embeddings - item_concat-item_mean - 5\n",
      "Testing LinGreedy - BPR embeddings - item_concat-item_mean - 5\n",
      "Training LinUCB - ALS embeddings - item_concat-user - 1\n",
      "Testing LinUCB - ALS embeddings - item_concat-user - 1\n",
      "Training LinUCB - BPR embeddings - item_concat-user - 1\n",
      "Testing LinUCB - BPR embeddings - item_concat-user - 1\n",
      "Training LinGreedy - ALS embeddings - item_concat-user - 1\n",
      "Testing LinGreedy - ALS embeddings - item_concat-user - 1\n",
      "Training LinGreedy - BPR embeddings - item_concat-user - 1\n",
      "Testing LinGreedy - BPR embeddings - item_concat-user - 1\n",
      "Training LinUCB - ALS embeddings - item_concat-user - 2\n",
      "Testing LinUCB - ALS embeddings - item_concat-user - 2\n",
      "Training LinUCB - BPR embeddings - item_concat-user - 2\n",
      "Testing LinUCB - BPR embeddings - item_concat-user - 2\n",
      "Training LinGreedy - ALS embeddings - item_concat-user - 2\n",
      "Testing LinGreedy - ALS embeddings - item_concat-user - 2\n",
      "Training LinGreedy - BPR embeddings - item_concat-user - 2\n",
      "Testing LinGreedy - BPR embeddings - item_concat-user - 2\n",
      "Training LinUCB - ALS embeddings - item_concat-user - 3\n",
      "Testing LinUCB - ALS embeddings - item_concat-user - 3\n",
      "Training LinUCB - BPR embeddings - item_concat-user - 3\n",
      "Testing LinUCB - BPR embeddings - item_concat-user - 3\n",
      "Training LinGreedy - ALS embeddings - item_concat-user - 3\n",
      "Testing LinGreedy - ALS embeddings - item_concat-user - 3\n",
      "Training LinGreedy - BPR embeddings - item_concat-user - 3\n",
      "Testing LinGreedy - BPR embeddings - item_concat-user - 3\n",
      "Training LinUCB - ALS embeddings - item_concat-user - 4\n",
      "Testing LinUCB - ALS embeddings - item_concat-user - 4\n",
      "Training LinUCB - BPR embeddings - item_concat-user - 4\n",
      "Testing LinUCB - BPR embeddings - item_concat-user - 4\n",
      "Training LinGreedy - ALS embeddings - item_concat-user - 4\n",
      "Testing LinGreedy - ALS embeddings - item_concat-user - 4\n",
      "Training LinGreedy - BPR embeddings - item_concat-user - 4\n",
      "Testing LinGreedy - BPR embeddings - item_concat-user - 4\n",
      "Training LinUCB - ALS embeddings - item_concat-user - 5\n",
      "Testing LinUCB - ALS embeddings - item_concat-user - 5\n",
      "Training LinUCB - BPR embeddings - item_concat-user - 5\n",
      "Testing LinUCB - BPR embeddings - item_concat-user - 5\n",
      "Training LinGreedy - ALS embeddings - item_concat-user - 5\n",
      "Testing LinGreedy - ALS embeddings - item_concat-user - 5\n",
      "Training LinGreedy - BPR embeddings - item_concat-user - 5\n",
      "Testing LinGreedy - BPR embeddings - item_concat-user - 5\n",
      "Training LinUCB - ALS embeddings - item_mean-user\n",
      "Testing LinUCB - ALS embeddings - item_mean-user\n",
      "Training LinUCB - BPR embeddings - item_mean-user\n",
      "Testing LinUCB - BPR embeddings - item_mean-user\n",
      "Training LinGreedy - ALS embeddings - item_mean-user\n",
      "Testing LinGreedy - ALS embeddings - item_mean-user\n",
      "Training LinGreedy - BPR embeddings - item_mean-user\n",
      "Testing LinGreedy - BPR embeddings - item_mean-user\n",
      "Training LinUCB - ALS embeddings - all - 1\n",
      "Testing LinUCB - ALS embeddings - all - 1\n",
      "Training LinUCB - BPR embeddings - all - 1\n",
      "Testing LinUCB - BPR embeddings - all - 1\n",
      "Training LinGreedy - ALS embeddings - all - 1\n",
      "Testing LinGreedy - ALS embeddings - all - 1\n",
      "Training LinGreedy - BPR embeddings - all - 1\n",
      "Testing LinGreedy - BPR embeddings - all - 1\n",
      "Training LinUCB - ALS embeddings - all - 2\n",
      "Testing LinUCB - ALS embeddings - all - 2\n",
      "Training LinUCB - BPR embeddings - all - 2\n",
      "Testing LinUCB - BPR embeddings - all - 2\n",
      "Training LinGreedy - ALS embeddings - all - 2\n",
      "Testing LinGreedy - ALS embeddings - all - 2\n",
      "Training LinGreedy - BPR embeddings - all - 2\n",
      "Testing LinGreedy - BPR embeddings - all - 2\n",
      "Training LinUCB - ALS embeddings - all - 3\n",
      "Testing LinUCB - ALS embeddings - all - 3\n",
      "Training LinUCB - BPR embeddings - all - 3\n",
      "Testing LinUCB - BPR embeddings - all - 3\n",
      "Training LinGreedy - ALS embeddings - all - 3\n",
      "Testing LinGreedy - ALS embeddings - all - 3\n",
      "Training LinGreedy - BPR embeddings - all - 3\n",
      "Testing LinGreedy - BPR embeddings - all - 3\n",
      "Training LinUCB - ALS embeddings - all - 4\n",
      "Testing LinUCB - ALS embeddings - all - 4\n",
      "Training LinUCB - BPR embeddings - all - 4\n",
      "Testing LinUCB - BPR embeddings - all - 4\n",
      "Training LinGreedy - ALS embeddings - all - 4\n",
      "Testing LinGreedy - ALS embeddings - all - 4\n",
      "Training LinGreedy - BPR embeddings - all - 4\n",
      "Testing LinGreedy - BPR embeddings - all - 4\n",
      "Training LinUCB - ALS embeddings - all - 5\n",
      "Testing LinUCB - ALS embeddings - all - 5\n",
      "Training LinUCB - BPR embeddings - all - 5\n",
      "Testing LinUCB - BPR embeddings - all - 5\n",
      "Training LinGreedy - ALS embeddings - all - 5\n",
      "Testing LinGreedy - ALS embeddings - all - 5\n",
      "Training LinGreedy - BPR embeddings - all - 5\n",
      "Testing LinGreedy - BPR embeddings - all - 5\n",
      "Current extra train size: 0.3\n",
      "Training ALS\n"
     ]
    },
    {
     "data": {
      "application/vnd.jupyter.widget-view+json": {
       "model_id": "792f24a134c44cf99791dab07e1f7757",
       "version_major": 2,
       "version_minor": 0
      },
      "text/plain": [
       "  0%|          | 0/15 [00:00<?, ?it/s]"
      ]
     },
     "metadata": {},
     "output_type": "display_data"
    },
    {
     "name": "stdout",
     "output_type": "stream",
     "text": [
      "Testing ALS\n",
      "Training BPR\n"
     ]
    },
    {
     "data": {
      "application/vnd.jupyter.widget-view+json": {
       "model_id": "a5bc7beaa6714a379f23c536d678a417",
       "version_major": 2,
       "version_minor": 0
      },
      "text/plain": [
       "  0%|          | 0/100 [00:00<?, ?it/s]"
      ]
     },
     "metadata": {},
     "output_type": "display_data"
    },
    {
     "name": "stdout",
     "output_type": "stream",
     "text": [
      "Testing BPR\n",
      "Training LinUCB - ALS embeddings - item_concat - 1\n",
      "Testing LinUCB - ALS embeddings - item_concat - 1\n",
      "Training LinUCB - BPR embeddings - item_concat - 1\n",
      "Testing LinUCB - BPR embeddings - item_concat - 1\n",
      "Training LinGreedy - ALS embeddings - item_concat - 1\n",
      "Testing LinGreedy - ALS embeddings - item_concat - 1\n",
      "Training LinGreedy - BPR embeddings - item_concat - 1\n",
      "Testing LinGreedy - BPR embeddings - item_concat - 1\n",
      "Training LinUCB - ALS embeddings - item_concat - 2\n",
      "Testing LinUCB - ALS embeddings - item_concat - 2\n",
      "Training LinUCB - BPR embeddings - item_concat - 2\n",
      "Testing LinUCB - BPR embeddings - item_concat - 2\n",
      "Training LinGreedy - ALS embeddings - item_concat - 2\n",
      "Testing LinGreedy - ALS embeddings - item_concat - 2\n",
      "Training LinGreedy - BPR embeddings - item_concat - 2\n",
      "Testing LinGreedy - BPR embeddings - item_concat - 2\n",
      "Training LinUCB - ALS embeddings - item_concat - 3\n",
      "Testing LinUCB - ALS embeddings - item_concat - 3\n",
      "Training LinUCB - BPR embeddings - item_concat - 3\n",
      "Testing LinUCB - BPR embeddings - item_concat - 3\n",
      "Training LinGreedy - ALS embeddings - item_concat - 3\n",
      "Testing LinGreedy - ALS embeddings - item_concat - 3\n",
      "Training LinGreedy - BPR embeddings - item_concat - 3\n",
      "Testing LinGreedy - BPR embeddings - item_concat - 3\n",
      "Training LinUCB - ALS embeddings - item_concat - 4\n",
      "Testing LinUCB - ALS embeddings - item_concat - 4\n",
      "Training LinUCB - BPR embeddings - item_concat - 4\n",
      "Testing LinUCB - BPR embeddings - item_concat - 4\n",
      "Training LinGreedy - ALS embeddings - item_concat - 4\n",
      "Testing LinGreedy - ALS embeddings - item_concat - 4\n",
      "Training LinGreedy - BPR embeddings - item_concat - 4\n",
      "Testing LinGreedy - BPR embeddings - item_concat - 4\n",
      "Training LinUCB - ALS embeddings - item_concat - 5\n",
      "Testing LinUCB - ALS embeddings - item_concat - 5\n",
      "Training LinUCB - BPR embeddings - item_concat - 5\n",
      "Testing LinUCB - BPR embeddings - item_concat - 5\n",
      "Training LinGreedy - ALS embeddings - item_concat - 5\n",
      "Testing LinGreedy - ALS embeddings - item_concat - 5\n",
      "Training LinGreedy - BPR embeddings - item_concat - 5\n",
      "Testing LinGreedy - BPR embeddings - item_concat - 5\n",
      "Training LinUCB - ALS embeddings - item_mean\n",
      "Testing LinUCB - ALS embeddings - item_mean\n",
      "Training LinUCB - BPR embeddings - item_mean\n",
      "Testing LinUCB - BPR embeddings - item_mean\n",
      "Training LinGreedy - ALS embeddings - item_mean\n",
      "Testing LinGreedy - ALS embeddings - item_mean\n",
      "Training LinGreedy - BPR embeddings - item_mean\n",
      "Testing LinGreedy - BPR embeddings - item_mean\n",
      "Training LinUCB - ALS embeddings - user\n",
      "Testing LinUCB - ALS embeddings - user\n",
      "Training LinUCB - BPR embeddings - user\n",
      "Testing LinUCB - BPR embeddings - user\n",
      "Training LinGreedy - ALS embeddings - user\n",
      "Testing LinGreedy - ALS embeddings - user\n",
      "Training LinGreedy - BPR embeddings - user\n",
      "Testing LinGreedy - BPR embeddings - user\n",
      "Training LinUCB - ALS embeddings - item_concat-item_mean - 1\n",
      "Testing LinUCB - ALS embeddings - item_concat-item_mean - 1\n",
      "Training LinUCB - BPR embeddings - item_concat-item_mean - 1\n",
      "Testing LinUCB - BPR embeddings - item_concat-item_mean - 1\n",
      "Training LinGreedy - ALS embeddings - item_concat-item_mean - 1\n",
      "Testing LinGreedy - ALS embeddings - item_concat-item_mean - 1\n",
      "Training LinGreedy - BPR embeddings - item_concat-item_mean - 1\n",
      "Testing LinGreedy - BPR embeddings - item_concat-item_mean - 1\n",
      "Training LinUCB - ALS embeddings - item_concat-item_mean - 2\n",
      "Testing LinUCB - ALS embeddings - item_concat-item_mean - 2\n",
      "Training LinUCB - BPR embeddings - item_concat-item_mean - 2\n",
      "Testing LinUCB - BPR embeddings - item_concat-item_mean - 2\n",
      "Training LinGreedy - ALS embeddings - item_concat-item_mean - 2\n",
      "Testing LinGreedy - ALS embeddings - item_concat-item_mean - 2\n",
      "Training LinGreedy - BPR embeddings - item_concat-item_mean - 2\n",
      "Testing LinGreedy - BPR embeddings - item_concat-item_mean - 2\n",
      "Training LinUCB - ALS embeddings - item_concat-item_mean - 3\n",
      "Testing LinUCB - ALS embeddings - item_concat-item_mean - 3\n",
      "Training LinUCB - BPR embeddings - item_concat-item_mean - 3\n",
      "Testing LinUCB - BPR embeddings - item_concat-item_mean - 3\n",
      "Training LinGreedy - ALS embeddings - item_concat-item_mean - 3\n",
      "Testing LinGreedy - ALS embeddings - item_concat-item_mean - 3\n",
      "Training LinGreedy - BPR embeddings - item_concat-item_mean - 3\n",
      "Testing LinGreedy - BPR embeddings - item_concat-item_mean - 3\n",
      "Training LinUCB - ALS embeddings - item_concat-item_mean - 4\n",
      "Testing LinUCB - ALS embeddings - item_concat-item_mean - 4\n",
      "Training LinUCB - BPR embeddings - item_concat-item_mean - 4\n",
      "Testing LinUCB - BPR embeddings - item_concat-item_mean - 4\n",
      "Training LinGreedy - ALS embeddings - item_concat-item_mean - 4\n",
      "Testing LinGreedy - ALS embeddings - item_concat-item_mean - 4\n",
      "Training LinGreedy - BPR embeddings - item_concat-item_mean - 4\n",
      "Testing LinGreedy - BPR embeddings - item_concat-item_mean - 4\n",
      "Training LinUCB - ALS embeddings - item_concat-item_mean - 5\n",
      "Testing LinUCB - ALS embeddings - item_concat-item_mean - 5\n",
      "Training LinUCB - BPR embeddings - item_concat-item_mean - 5\n",
      "Testing LinUCB - BPR embeddings - item_concat-item_mean - 5\n",
      "Training LinGreedy - ALS embeddings - item_concat-item_mean - 5\n",
      "Testing LinGreedy - ALS embeddings - item_concat-item_mean - 5\n",
      "Training LinGreedy - BPR embeddings - item_concat-item_mean - 5\n",
      "Testing LinGreedy - BPR embeddings - item_concat-item_mean - 5\n",
      "Training LinUCB - ALS embeddings - item_concat-user - 1\n",
      "Testing LinUCB - ALS embeddings - item_concat-user - 1\n",
      "Training LinUCB - BPR embeddings - item_concat-user - 1\n",
      "Testing LinUCB - BPR embeddings - item_concat-user - 1\n",
      "Training LinGreedy - ALS embeddings - item_concat-user - 1\n",
      "Testing LinGreedy - ALS embeddings - item_concat-user - 1\n",
      "Training LinGreedy - BPR embeddings - item_concat-user - 1\n",
      "Testing LinGreedy - BPR embeddings - item_concat-user - 1\n",
      "Training LinUCB - ALS embeddings - item_concat-user - 2\n",
      "Testing LinUCB - ALS embeddings - item_concat-user - 2\n",
      "Training LinUCB - BPR embeddings - item_concat-user - 2\n",
      "Testing LinUCB - BPR embeddings - item_concat-user - 2\n",
      "Training LinGreedy - ALS embeddings - item_concat-user - 2\n",
      "Testing LinGreedy - ALS embeddings - item_concat-user - 2\n",
      "Training LinGreedy - BPR embeddings - item_concat-user - 2\n",
      "Testing LinGreedy - BPR embeddings - item_concat-user - 2\n",
      "Training LinUCB - ALS embeddings - item_concat-user - 3\n",
      "Testing LinUCB - ALS embeddings - item_concat-user - 3\n",
      "Training LinUCB - BPR embeddings - item_concat-user - 3\n",
      "Testing LinUCB - BPR embeddings - item_concat-user - 3\n",
      "Training LinGreedy - ALS embeddings - item_concat-user - 3\n",
      "Testing LinGreedy - ALS embeddings - item_concat-user - 3\n",
      "Training LinGreedy - BPR embeddings - item_concat-user - 3\n",
      "Testing LinGreedy - BPR embeddings - item_concat-user - 3\n",
      "Training LinUCB - ALS embeddings - item_concat-user - 4\n",
      "Testing LinUCB - ALS embeddings - item_concat-user - 4\n",
      "Training LinUCB - BPR embeddings - item_concat-user - 4\n",
      "Testing LinUCB - BPR embeddings - item_concat-user - 4\n",
      "Training LinGreedy - ALS embeddings - item_concat-user - 4\n",
      "Testing LinGreedy - ALS embeddings - item_concat-user - 4\n",
      "Training LinGreedy - BPR embeddings - item_concat-user - 4\n",
      "Testing LinGreedy - BPR embeddings - item_concat-user - 4\n",
      "Training LinUCB - ALS embeddings - item_concat-user - 5\n",
      "Testing LinUCB - ALS embeddings - item_concat-user - 5\n",
      "Training LinUCB - BPR embeddings - item_concat-user - 5\n",
      "Testing LinUCB - BPR embeddings - item_concat-user - 5\n",
      "Training LinGreedy - ALS embeddings - item_concat-user - 5\n",
      "Testing LinGreedy - ALS embeddings - item_concat-user - 5\n",
      "Training LinGreedy - BPR embeddings - item_concat-user - 5\n",
      "Testing LinGreedy - BPR embeddings - item_concat-user - 5\n",
      "Training LinUCB - ALS embeddings - item_mean-user\n",
      "Testing LinUCB - ALS embeddings - item_mean-user\n",
      "Training LinUCB - BPR embeddings - item_mean-user\n",
      "Testing LinUCB - BPR embeddings - item_mean-user\n",
      "Training LinGreedy - ALS embeddings - item_mean-user\n",
      "Testing LinGreedy - ALS embeddings - item_mean-user\n",
      "Training LinGreedy - BPR embeddings - item_mean-user\n",
      "Testing LinGreedy - BPR embeddings - item_mean-user\n",
      "Training LinUCB - ALS embeddings - all - 1\n",
      "Testing LinUCB - ALS embeddings - all - 1\n",
      "Training LinUCB - BPR embeddings - all - 1\n",
      "Testing LinUCB - BPR embeddings - all - 1\n",
      "Training LinGreedy - ALS embeddings - all - 1\n",
      "Testing LinGreedy - ALS embeddings - all - 1\n",
      "Training LinGreedy - BPR embeddings - all - 1\n",
      "Testing LinGreedy - BPR embeddings - all - 1\n",
      "Training LinUCB - ALS embeddings - all - 2\n",
      "Testing LinUCB - ALS embeddings - all - 2\n",
      "Training LinUCB - BPR embeddings - all - 2\n",
      "Testing LinUCB - BPR embeddings - all - 2\n",
      "Training LinGreedy - ALS embeddings - all - 2\n",
      "Testing LinGreedy - ALS embeddings - all - 2\n",
      "Training LinGreedy - BPR embeddings - all - 2\n",
      "Testing LinGreedy - BPR embeddings - all - 2\n",
      "Training LinUCB - ALS embeddings - all - 3\n",
      "Testing LinUCB - ALS embeddings - all - 3\n",
      "Training LinUCB - BPR embeddings - all - 3\n",
      "Testing LinUCB - BPR embeddings - all - 3\n",
      "Training LinGreedy - ALS embeddings - all - 3\n",
      "Testing LinGreedy - ALS embeddings - all - 3\n",
      "Training LinGreedy - BPR embeddings - all - 3\n",
      "Testing LinGreedy - BPR embeddings - all - 3\n",
      "Training LinUCB - ALS embeddings - all - 4\n",
      "Testing LinUCB - ALS embeddings - all - 4\n",
      "Training LinUCB - BPR embeddings - all - 4\n",
      "Testing LinUCB - BPR embeddings - all - 4\n",
      "Training LinGreedy - ALS embeddings - all - 4\n",
      "Testing LinGreedy - ALS embeddings - all - 4\n",
      "Training LinGreedy - BPR embeddings - all - 4\n",
      "Testing LinGreedy - BPR embeddings - all - 4\n",
      "Training LinUCB - ALS embeddings - all - 5\n",
      "Testing LinUCB - ALS embeddings - all - 5\n",
      "Training LinUCB - BPR embeddings - all - 5\n",
      "Testing LinUCB - BPR embeddings - all - 5\n",
      "Training LinGreedy - ALS embeddings - all - 5\n",
      "Testing LinGreedy - ALS embeddings - all - 5\n",
      "Training LinGreedy - BPR embeddings - all - 5\n",
      "Testing LinGreedy - BPR embeddings - all - 5\n",
      "Current extra train size: 0.4\n",
      "Training ALS\n"
     ]
    },
    {
     "data": {
      "application/vnd.jupyter.widget-view+json": {
       "model_id": "163dbe456dcd4827a60c354538831be2",
       "version_major": 2,
       "version_minor": 0
      },
      "text/plain": [
       "  0%|          | 0/15 [00:00<?, ?it/s]"
      ]
     },
     "metadata": {},
     "output_type": "display_data"
    },
    {
     "name": "stdout",
     "output_type": "stream",
     "text": [
      "Testing ALS\n",
      "Training BPR\n"
     ]
    },
    {
     "data": {
      "application/vnd.jupyter.widget-view+json": {
       "model_id": "bc5cdc8ab33245faba0f16077273d439",
       "version_major": 2,
       "version_minor": 0
      },
      "text/plain": [
       "  0%|          | 0/100 [00:00<?, ?it/s]"
      ]
     },
     "metadata": {},
     "output_type": "display_data"
    },
    {
     "name": "stdout",
     "output_type": "stream",
     "text": [
      "Testing BPR\n",
      "Training LinUCB - ALS embeddings - item_concat - 1\n",
      "Testing LinUCB - ALS embeddings - item_concat - 1\n",
      "Training LinUCB - BPR embeddings - item_concat - 1\n",
      "Testing LinUCB - BPR embeddings - item_concat - 1\n",
      "Training LinGreedy - ALS embeddings - item_concat - 1\n",
      "Testing LinGreedy - ALS embeddings - item_concat - 1\n",
      "Training LinGreedy - BPR embeddings - item_concat - 1\n",
      "Testing LinGreedy - BPR embeddings - item_concat - 1\n",
      "Training LinUCB - ALS embeddings - item_concat - 2\n",
      "Testing LinUCB - ALS embeddings - item_concat - 2\n",
      "Training LinUCB - BPR embeddings - item_concat - 2\n",
      "Testing LinUCB - BPR embeddings - item_concat - 2\n",
      "Training LinGreedy - ALS embeddings - item_concat - 2\n",
      "Testing LinGreedy - ALS embeddings - item_concat - 2\n",
      "Training LinGreedy - BPR embeddings - item_concat - 2\n",
      "Testing LinGreedy - BPR embeddings - item_concat - 2\n",
      "Training LinUCB - ALS embeddings - item_concat - 3\n",
      "Testing LinUCB - ALS embeddings - item_concat - 3\n",
      "Training LinUCB - BPR embeddings - item_concat - 3\n",
      "Testing LinUCB - BPR embeddings - item_concat - 3\n",
      "Training LinGreedy - ALS embeddings - item_concat - 3\n",
      "Testing LinGreedy - ALS embeddings - item_concat - 3\n",
      "Training LinGreedy - BPR embeddings - item_concat - 3\n",
      "Testing LinGreedy - BPR embeddings - item_concat - 3\n",
      "Training LinUCB - ALS embeddings - item_concat - 4\n",
      "Testing LinUCB - ALS embeddings - item_concat - 4\n",
      "Training LinUCB - BPR embeddings - item_concat - 4\n",
      "Testing LinUCB - BPR embeddings - item_concat - 4\n",
      "Training LinGreedy - ALS embeddings - item_concat - 4\n",
      "Testing LinGreedy - ALS embeddings - item_concat - 4\n",
      "Training LinGreedy - BPR embeddings - item_concat - 4\n",
      "Testing LinGreedy - BPR embeddings - item_concat - 4\n",
      "Training LinUCB - ALS embeddings - item_concat - 5\n",
      "Testing LinUCB - ALS embeddings - item_concat - 5\n",
      "Training LinUCB - BPR embeddings - item_concat - 5\n",
      "Testing LinUCB - BPR embeddings - item_concat - 5\n",
      "Training LinGreedy - ALS embeddings - item_concat - 5\n",
      "Testing LinGreedy - ALS embeddings - item_concat - 5\n",
      "Training LinGreedy - BPR embeddings - item_concat - 5\n",
      "Testing LinGreedy - BPR embeddings - item_concat - 5\n",
      "Training LinUCB - ALS embeddings - item_mean\n",
      "Testing LinUCB - ALS embeddings - item_mean\n",
      "Training LinUCB - BPR embeddings - item_mean\n",
      "Testing LinUCB - BPR embeddings - item_mean\n",
      "Training LinGreedy - ALS embeddings - item_mean\n",
      "Testing LinGreedy - ALS embeddings - item_mean\n",
      "Training LinGreedy - BPR embeddings - item_mean\n",
      "Testing LinGreedy - BPR embeddings - item_mean\n",
      "Training LinUCB - ALS embeddings - user\n",
      "Testing LinUCB - ALS embeddings - user\n",
      "Training LinUCB - BPR embeddings - user\n",
      "Testing LinUCB - BPR embeddings - user\n",
      "Training LinGreedy - ALS embeddings - user\n",
      "Testing LinGreedy - ALS embeddings - user\n",
      "Training LinGreedy - BPR embeddings - user\n",
      "Testing LinGreedy - BPR embeddings - user\n",
      "Training LinUCB - ALS embeddings - item_concat-item_mean - 1\n",
      "Testing LinUCB - ALS embeddings - item_concat-item_mean - 1\n",
      "Training LinUCB - BPR embeddings - item_concat-item_mean - 1\n",
      "Testing LinUCB - BPR embeddings - item_concat-item_mean - 1\n",
      "Training LinGreedy - ALS embeddings - item_concat-item_mean - 1\n",
      "Testing LinGreedy - ALS embeddings - item_concat-item_mean - 1\n",
      "Training LinGreedy - BPR embeddings - item_concat-item_mean - 1\n",
      "Testing LinGreedy - BPR embeddings - item_concat-item_mean - 1\n",
      "Training LinUCB - ALS embeddings - item_concat-item_mean - 2\n",
      "Testing LinUCB - ALS embeddings - item_concat-item_mean - 2\n",
      "Training LinUCB - BPR embeddings - item_concat-item_mean - 2\n",
      "Testing LinUCB - BPR embeddings - item_concat-item_mean - 2\n",
      "Training LinGreedy - ALS embeddings - item_concat-item_mean - 2\n",
      "Testing LinGreedy - ALS embeddings - item_concat-item_mean - 2\n",
      "Training LinGreedy - BPR embeddings - item_concat-item_mean - 2\n",
      "Testing LinGreedy - BPR embeddings - item_concat-item_mean - 2\n",
      "Training LinUCB - ALS embeddings - item_concat-item_mean - 3\n",
      "Testing LinUCB - ALS embeddings - item_concat-item_mean - 3\n",
      "Training LinUCB - BPR embeddings - item_concat-item_mean - 3\n",
      "Testing LinUCB - BPR embeddings - item_concat-item_mean - 3\n",
      "Training LinGreedy - ALS embeddings - item_concat-item_mean - 3\n",
      "Testing LinGreedy - ALS embeddings - item_concat-item_mean - 3\n",
      "Training LinGreedy - BPR embeddings - item_concat-item_mean - 3\n",
      "Testing LinGreedy - BPR embeddings - item_concat-item_mean - 3\n",
      "Training LinUCB - ALS embeddings - item_concat-item_mean - 4\n",
      "Testing LinUCB - ALS embeddings - item_concat-item_mean - 4\n",
      "Training LinUCB - BPR embeddings - item_concat-item_mean - 4\n",
      "Testing LinUCB - BPR embeddings - item_concat-item_mean - 4\n",
      "Training LinGreedy - ALS embeddings - item_concat-item_mean - 4\n",
      "Testing LinGreedy - ALS embeddings - item_concat-item_mean - 4\n",
      "Training LinGreedy - BPR embeddings - item_concat-item_mean - 4\n",
      "Testing LinGreedy - BPR embeddings - item_concat-item_mean - 4\n",
      "Training LinUCB - ALS embeddings - item_concat-item_mean - 5\n",
      "Testing LinUCB - ALS embeddings - item_concat-item_mean - 5\n",
      "Training LinUCB - BPR embeddings - item_concat-item_mean - 5\n",
      "Testing LinUCB - BPR embeddings - item_concat-item_mean - 5\n",
      "Training LinGreedy - ALS embeddings - item_concat-item_mean - 5\n",
      "Testing LinGreedy - ALS embeddings - item_concat-item_mean - 5\n",
      "Training LinGreedy - BPR embeddings - item_concat-item_mean - 5\n",
      "Testing LinGreedy - BPR embeddings - item_concat-item_mean - 5\n",
      "Training LinUCB - ALS embeddings - item_concat-user - 1\n",
      "Testing LinUCB - ALS embeddings - item_concat-user - 1\n",
      "Training LinUCB - BPR embeddings - item_concat-user - 1\n",
      "Testing LinUCB - BPR embeddings - item_concat-user - 1\n",
      "Training LinGreedy - ALS embeddings - item_concat-user - 1\n",
      "Testing LinGreedy - ALS embeddings - item_concat-user - 1\n",
      "Training LinGreedy - BPR embeddings - item_concat-user - 1\n",
      "Testing LinGreedy - BPR embeddings - item_concat-user - 1\n",
      "Training LinUCB - ALS embeddings - item_concat-user - 2\n",
      "Testing LinUCB - ALS embeddings - item_concat-user - 2\n",
      "Training LinUCB - BPR embeddings - item_concat-user - 2\n",
      "Testing LinUCB - BPR embeddings - item_concat-user - 2\n",
      "Training LinGreedy - ALS embeddings - item_concat-user - 2\n",
      "Testing LinGreedy - ALS embeddings - item_concat-user - 2\n",
      "Training LinGreedy - BPR embeddings - item_concat-user - 2\n",
      "Testing LinGreedy - BPR embeddings - item_concat-user - 2\n",
      "Training LinUCB - ALS embeddings - item_concat-user - 3\n",
      "Testing LinUCB - ALS embeddings - item_concat-user - 3\n",
      "Training LinUCB - BPR embeddings - item_concat-user - 3\n",
      "Testing LinUCB - BPR embeddings - item_concat-user - 3\n",
      "Training LinGreedy - ALS embeddings - item_concat-user - 3\n",
      "Testing LinGreedy - ALS embeddings - item_concat-user - 3\n",
      "Training LinGreedy - BPR embeddings - item_concat-user - 3\n",
      "Testing LinGreedy - BPR embeddings - item_concat-user - 3\n",
      "Training LinUCB - ALS embeddings - item_concat-user - 4\n",
      "Testing LinUCB - ALS embeddings - item_concat-user - 4\n",
      "Training LinUCB - BPR embeddings - item_concat-user - 4\n",
      "Testing LinUCB - BPR embeddings - item_concat-user - 4\n",
      "Training LinGreedy - ALS embeddings - item_concat-user - 4\n",
      "Testing LinGreedy - ALS embeddings - item_concat-user - 4\n",
      "Training LinGreedy - BPR embeddings - item_concat-user - 4\n",
      "Testing LinGreedy - BPR embeddings - item_concat-user - 4\n",
      "Training LinUCB - ALS embeddings - item_concat-user - 5\n",
      "Testing LinUCB - ALS embeddings - item_concat-user - 5\n",
      "Training LinUCB - BPR embeddings - item_concat-user - 5\n",
      "Testing LinUCB - BPR embeddings - item_concat-user - 5\n",
      "Training LinGreedy - ALS embeddings - item_concat-user - 5\n",
      "Testing LinGreedy - ALS embeddings - item_concat-user - 5\n",
      "Training LinGreedy - BPR embeddings - item_concat-user - 5\n",
      "Testing LinGreedy - BPR embeddings - item_concat-user - 5\n",
      "Training LinUCB - ALS embeddings - item_mean-user\n",
      "Testing LinUCB - ALS embeddings - item_mean-user\n",
      "Training LinUCB - BPR embeddings - item_mean-user\n",
      "Testing LinUCB - BPR embeddings - item_mean-user\n",
      "Training LinGreedy - ALS embeddings - item_mean-user\n",
      "Testing LinGreedy - ALS embeddings - item_mean-user\n",
      "Training LinGreedy - BPR embeddings - item_mean-user\n",
      "Testing LinGreedy - BPR embeddings - item_mean-user\n",
      "Training LinUCB - ALS embeddings - all - 1\n",
      "Testing LinUCB - ALS embeddings - all - 1\n",
      "Training LinUCB - BPR embeddings - all - 1\n",
      "Testing LinUCB - BPR embeddings - all - 1\n",
      "Training LinGreedy - ALS embeddings - all - 1\n",
      "Testing LinGreedy - ALS embeddings - all - 1\n",
      "Training LinGreedy - BPR embeddings - all - 1\n",
      "Testing LinGreedy - BPR embeddings - all - 1\n",
      "Training LinUCB - ALS embeddings - all - 2\n",
      "Testing LinUCB - ALS embeddings - all - 2\n",
      "Training LinUCB - BPR embeddings - all - 2\n",
      "Testing LinUCB - BPR embeddings - all - 2\n",
      "Training LinGreedy - ALS embeddings - all - 2\n",
      "Testing LinGreedy - ALS embeddings - all - 2\n",
      "Training LinGreedy - BPR embeddings - all - 2\n",
      "Testing LinGreedy - BPR embeddings - all - 2\n",
      "Training LinUCB - ALS embeddings - all - 3\n",
      "Testing LinUCB - ALS embeddings - all - 3\n",
      "Training LinUCB - BPR embeddings - all - 3\n",
      "Testing LinUCB - BPR embeddings - all - 3\n",
      "Training LinGreedy - ALS embeddings - all - 3\n",
      "Testing LinGreedy - ALS embeddings - all - 3\n",
      "Training LinGreedy - BPR embeddings - all - 3\n",
      "Testing LinGreedy - BPR embeddings - all - 3\n",
      "Training LinUCB - ALS embeddings - all - 4\n",
      "Testing LinUCB - ALS embeddings - all - 4\n",
      "Training LinUCB - BPR embeddings - all - 4\n",
      "Testing LinUCB - BPR embeddings - all - 4\n",
      "Training LinGreedy - ALS embeddings - all - 4\n",
      "Testing LinGreedy - ALS embeddings - all - 4\n",
      "Training LinGreedy - BPR embeddings - all - 4\n",
      "Testing LinGreedy - BPR embeddings - all - 4\n",
      "Training LinUCB - ALS embeddings - all - 5\n",
      "Testing LinUCB - ALS embeddings - all - 5\n",
      "Training LinUCB - BPR embeddings - all - 5\n",
      "Testing LinUCB - BPR embeddings - all - 5\n",
      "Training LinGreedy - ALS embeddings - all - 5\n",
      "Testing LinGreedy - ALS embeddings - all - 5\n",
      "Training LinGreedy - BPR embeddings - all - 5\n",
      "Testing LinGreedy - BPR embeddings - all - 5\n",
      "Current extra train size: 0.5\n",
      "Training ALS\n"
     ]
    },
    {
     "data": {
      "application/vnd.jupyter.widget-view+json": {
       "model_id": "6832e382df00489b9025ff3155bb22e4",
       "version_major": 2,
       "version_minor": 0
      },
      "text/plain": [
       "  0%|          | 0/15 [00:00<?, ?it/s]"
      ]
     },
     "metadata": {},
     "output_type": "display_data"
    },
    {
     "name": "stdout",
     "output_type": "stream",
     "text": [
      "Testing ALS\n",
      "Training BPR\n"
     ]
    },
    {
     "data": {
      "application/vnd.jupyter.widget-view+json": {
       "model_id": "d2c9e62896434e3fb09e5d40c61ba80b",
       "version_major": 2,
       "version_minor": 0
      },
      "text/plain": [
       "  0%|          | 0/100 [00:00<?, ?it/s]"
      ]
     },
     "metadata": {},
     "output_type": "display_data"
    },
    {
     "name": "stdout",
     "output_type": "stream",
     "text": [
      "Testing BPR\n",
      "Training LinUCB - ALS embeddings - item_concat - 1\n",
      "Testing LinUCB - ALS embeddings - item_concat - 1\n",
      "Training LinUCB - BPR embeddings - item_concat - 1\n",
      "Testing LinUCB - BPR embeddings - item_concat - 1\n",
      "Training LinGreedy - ALS embeddings - item_concat - 1\n",
      "Testing LinGreedy - ALS embeddings - item_concat - 1\n",
      "Training LinGreedy - BPR embeddings - item_concat - 1\n",
      "Testing LinGreedy - BPR embeddings - item_concat - 1\n",
      "Training LinUCB - ALS embeddings - item_concat - 2\n",
      "Testing LinUCB - ALS embeddings - item_concat - 2\n",
      "Training LinUCB - BPR embeddings - item_concat - 2\n",
      "Testing LinUCB - BPR embeddings - item_concat - 2\n",
      "Training LinGreedy - ALS embeddings - item_concat - 2\n",
      "Testing LinGreedy - ALS embeddings - item_concat - 2\n",
      "Training LinGreedy - BPR embeddings - item_concat - 2\n",
      "Testing LinGreedy - BPR embeddings - item_concat - 2\n",
      "Training LinUCB - ALS embeddings - item_concat - 3\n",
      "Testing LinUCB - ALS embeddings - item_concat - 3\n",
      "Training LinUCB - BPR embeddings - item_concat - 3\n",
      "Testing LinUCB - BPR embeddings - item_concat - 3\n",
      "Training LinGreedy - ALS embeddings - item_concat - 3\n",
      "Testing LinGreedy - ALS embeddings - item_concat - 3\n",
      "Training LinGreedy - BPR embeddings - item_concat - 3\n",
      "Testing LinGreedy - BPR embeddings - item_concat - 3\n",
      "Training LinUCB - ALS embeddings - item_concat - 4\n",
      "Testing LinUCB - ALS embeddings - item_concat - 4\n",
      "Training LinUCB - BPR embeddings - item_concat - 4\n",
      "Testing LinUCB - BPR embeddings - item_concat - 4\n",
      "Training LinGreedy - ALS embeddings - item_concat - 4\n",
      "Testing LinGreedy - ALS embeddings - item_concat - 4\n",
      "Training LinGreedy - BPR embeddings - item_concat - 4\n",
      "Testing LinGreedy - BPR embeddings - item_concat - 4\n",
      "Training LinUCB - ALS embeddings - item_concat - 5\n",
      "Testing LinUCB - ALS embeddings - item_concat - 5\n",
      "Training LinUCB - BPR embeddings - item_concat - 5\n",
      "Testing LinUCB - BPR embeddings - item_concat - 5\n",
      "Training LinGreedy - ALS embeddings - item_concat - 5\n",
      "Testing LinGreedy - ALS embeddings - item_concat - 5\n",
      "Training LinGreedy - BPR embeddings - item_concat - 5\n",
      "Testing LinGreedy - BPR embeddings - item_concat - 5\n",
      "Training LinUCB - ALS embeddings - item_mean\n",
      "Testing LinUCB - ALS embeddings - item_mean\n",
      "Training LinUCB - BPR embeddings - item_mean\n",
      "Testing LinUCB - BPR embeddings - item_mean\n",
      "Training LinGreedy - ALS embeddings - item_mean\n",
      "Testing LinGreedy - ALS embeddings - item_mean\n",
      "Training LinGreedy - BPR embeddings - item_mean\n",
      "Testing LinGreedy - BPR embeddings - item_mean\n",
      "Training LinUCB - ALS embeddings - user\n",
      "Testing LinUCB - ALS embeddings - user\n",
      "Training LinUCB - BPR embeddings - user\n",
      "Testing LinUCB - BPR embeddings - user\n",
      "Training LinGreedy - ALS embeddings - user\n",
      "Testing LinGreedy - ALS embeddings - user\n",
      "Training LinGreedy - BPR embeddings - user\n",
      "Testing LinGreedy - BPR embeddings - user\n",
      "Training LinUCB - ALS embeddings - item_concat-item_mean - 1\n",
      "Testing LinUCB - ALS embeddings - item_concat-item_mean - 1\n",
      "Training LinUCB - BPR embeddings - item_concat-item_mean - 1\n",
      "Testing LinUCB - BPR embeddings - item_concat-item_mean - 1\n",
      "Training LinGreedy - ALS embeddings - item_concat-item_mean - 1\n",
      "Testing LinGreedy - ALS embeddings - item_concat-item_mean - 1\n",
      "Training LinGreedy - BPR embeddings - item_concat-item_mean - 1\n",
      "Testing LinGreedy - BPR embeddings - item_concat-item_mean - 1\n",
      "Training LinUCB - ALS embeddings - item_concat-item_mean - 2\n",
      "Testing LinUCB - ALS embeddings - item_concat-item_mean - 2\n",
      "Training LinUCB - BPR embeddings - item_concat-item_mean - 2\n",
      "Testing LinUCB - BPR embeddings - item_concat-item_mean - 2\n",
      "Training LinGreedy - ALS embeddings - item_concat-item_mean - 2\n",
      "Testing LinGreedy - ALS embeddings - item_concat-item_mean - 2\n",
      "Training LinGreedy - BPR embeddings - item_concat-item_mean - 2\n",
      "Testing LinGreedy - BPR embeddings - item_concat-item_mean - 2\n",
      "Training LinUCB - ALS embeddings - item_concat-item_mean - 3\n",
      "Testing LinUCB - ALS embeddings - item_concat-item_mean - 3\n",
      "Training LinUCB - BPR embeddings - item_concat-item_mean - 3\n",
      "Testing LinUCB - BPR embeddings - item_concat-item_mean - 3\n",
      "Training LinGreedy - ALS embeddings - item_concat-item_mean - 3\n",
      "Testing LinGreedy - ALS embeddings - item_concat-item_mean - 3\n",
      "Training LinGreedy - BPR embeddings - item_concat-item_mean - 3\n",
      "Testing LinGreedy - BPR embeddings - item_concat-item_mean - 3\n",
      "Training LinUCB - ALS embeddings - item_concat-item_mean - 4\n",
      "Testing LinUCB - ALS embeddings - item_concat-item_mean - 4\n",
      "Training LinUCB - BPR embeddings - item_concat-item_mean - 4\n",
      "Testing LinUCB - BPR embeddings - item_concat-item_mean - 4\n",
      "Training LinGreedy - ALS embeddings - item_concat-item_mean - 4\n",
      "Testing LinGreedy - ALS embeddings - item_concat-item_mean - 4\n",
      "Training LinGreedy - BPR embeddings - item_concat-item_mean - 4\n",
      "Testing LinGreedy - BPR embeddings - item_concat-item_mean - 4\n",
      "Training LinUCB - ALS embeddings - item_concat-item_mean - 5\n",
      "Testing LinUCB - ALS embeddings - item_concat-item_mean - 5\n",
      "Training LinUCB - BPR embeddings - item_concat-item_mean - 5\n",
      "Testing LinUCB - BPR embeddings - item_concat-item_mean - 5\n",
      "Training LinGreedy - ALS embeddings - item_concat-item_mean - 5\n",
      "Testing LinGreedy - ALS embeddings - item_concat-item_mean - 5\n",
      "Training LinGreedy - BPR embeddings - item_concat-item_mean - 5\n",
      "Testing LinGreedy - BPR embeddings - item_concat-item_mean - 5\n",
      "Training LinUCB - ALS embeddings - item_concat-user - 1\n",
      "Testing LinUCB - ALS embeddings - item_concat-user - 1\n",
      "Training LinUCB - BPR embeddings - item_concat-user - 1\n",
      "Testing LinUCB - BPR embeddings - item_concat-user - 1\n",
      "Training LinGreedy - ALS embeddings - item_concat-user - 1\n",
      "Testing LinGreedy - ALS embeddings - item_concat-user - 1\n",
      "Training LinGreedy - BPR embeddings - item_concat-user - 1\n",
      "Testing LinGreedy - BPR embeddings - item_concat-user - 1\n",
      "Training LinUCB - ALS embeddings - item_concat-user - 2\n",
      "Testing LinUCB - ALS embeddings - item_concat-user - 2\n",
      "Training LinUCB - BPR embeddings - item_concat-user - 2\n",
      "Testing LinUCB - BPR embeddings - item_concat-user - 2\n",
      "Training LinGreedy - ALS embeddings - item_concat-user - 2\n",
      "Testing LinGreedy - ALS embeddings - item_concat-user - 2\n",
      "Training LinGreedy - BPR embeddings - item_concat-user - 2\n",
      "Testing LinGreedy - BPR embeddings - item_concat-user - 2\n",
      "Training LinUCB - ALS embeddings - item_concat-user - 3\n",
      "Testing LinUCB - ALS embeddings - item_concat-user - 3\n",
      "Training LinUCB - BPR embeddings - item_concat-user - 3\n",
      "Testing LinUCB - BPR embeddings - item_concat-user - 3\n",
      "Training LinGreedy - ALS embeddings - item_concat-user - 3\n",
      "Testing LinGreedy - ALS embeddings - item_concat-user - 3\n",
      "Training LinGreedy - BPR embeddings - item_concat-user - 3\n",
      "Testing LinGreedy - BPR embeddings - item_concat-user - 3\n",
      "Training LinUCB - ALS embeddings - item_concat-user - 4\n",
      "Testing LinUCB - ALS embeddings - item_concat-user - 4\n",
      "Training LinUCB - BPR embeddings - item_concat-user - 4\n",
      "Testing LinUCB - BPR embeddings - item_concat-user - 4\n",
      "Training LinGreedy - ALS embeddings - item_concat-user - 4\n",
      "Testing LinGreedy - ALS embeddings - item_concat-user - 4\n",
      "Training LinGreedy - BPR embeddings - item_concat-user - 4\n",
      "Testing LinGreedy - BPR embeddings - item_concat-user - 4\n",
      "Training LinUCB - ALS embeddings - item_concat-user - 5\n",
      "Testing LinUCB - ALS embeddings - item_concat-user - 5\n",
      "Training LinUCB - BPR embeddings - item_concat-user - 5\n",
      "Testing LinUCB - BPR embeddings - item_concat-user - 5\n",
      "Training LinGreedy - ALS embeddings - item_concat-user - 5\n",
      "Testing LinGreedy - ALS embeddings - item_concat-user - 5\n",
      "Training LinGreedy - BPR embeddings - item_concat-user - 5\n",
      "Testing LinGreedy - BPR embeddings - item_concat-user - 5\n",
      "Training LinUCB - ALS embeddings - item_mean-user\n",
      "Testing LinUCB - ALS embeddings - item_mean-user\n",
      "Training LinUCB - BPR embeddings - item_mean-user\n",
      "Testing LinUCB - BPR embeddings - item_mean-user\n",
      "Training LinGreedy - ALS embeddings - item_mean-user\n",
      "Testing LinGreedy - ALS embeddings - item_mean-user\n",
      "Training LinGreedy - BPR embeddings - item_mean-user\n",
      "Testing LinGreedy - BPR embeddings - item_mean-user\n",
      "Training LinUCB - ALS embeddings - all - 1\n",
      "Testing LinUCB - ALS embeddings - all - 1\n",
      "Training LinUCB - BPR embeddings - all - 1\n",
      "Testing LinUCB - BPR embeddings - all - 1\n",
      "Training LinGreedy - ALS embeddings - all - 1\n",
      "Testing LinGreedy - ALS embeddings - all - 1\n",
      "Training LinGreedy - BPR embeddings - all - 1\n",
      "Testing LinGreedy - BPR embeddings - all - 1\n",
      "Training LinUCB - ALS embeddings - all - 2\n",
      "Testing LinUCB - ALS embeddings - all - 2\n",
      "Training LinUCB - BPR embeddings - all - 2\n",
      "Testing LinUCB - BPR embeddings - all - 2\n",
      "Training LinGreedy - ALS embeddings - all - 2\n",
      "Testing LinGreedy - ALS embeddings - all - 2\n",
      "Training LinGreedy - BPR embeddings - all - 2\n",
      "Testing LinGreedy - BPR embeddings - all - 2\n",
      "Training LinUCB - ALS embeddings - all - 3\n",
      "Testing LinUCB - ALS embeddings - all - 3\n",
      "Training LinUCB - BPR embeddings - all - 3\n",
      "Testing LinUCB - BPR embeddings - all - 3\n",
      "Training LinGreedy - ALS embeddings - all - 3\n",
      "Testing LinGreedy - ALS embeddings - all - 3\n",
      "Training LinGreedy - BPR embeddings - all - 3\n",
      "Testing LinGreedy - BPR embeddings - all - 3\n",
      "Training LinUCB - ALS embeddings - all - 4\n",
      "Testing LinUCB - ALS embeddings - all - 4\n",
      "Training LinUCB - BPR embeddings - all - 4\n",
      "Testing LinUCB - BPR embeddings - all - 4\n",
      "Training LinGreedy - ALS embeddings - all - 4\n",
      "Testing LinGreedy - ALS embeddings - all - 4\n",
      "Training LinGreedy - BPR embeddings - all - 4\n",
      "Testing LinGreedy - BPR embeddings - all - 4\n",
      "Training LinUCB - ALS embeddings - all - 5\n",
      "Testing LinUCB - ALS embeddings - all - 5\n",
      "Training LinUCB - BPR embeddings - all - 5\n",
      "Testing LinUCB - BPR embeddings - all - 5\n",
      "Training LinGreedy - ALS embeddings - all - 5\n",
      "Testing LinGreedy - ALS embeddings - all - 5\n",
      "Training LinGreedy - BPR embeddings - all - 5\n",
      "Testing LinGreedy - BPR embeddings - all - 5\n",
      "Current extra train size: 0.6\n",
      "Training ALS\n"
     ]
    },
    {
     "data": {
      "application/vnd.jupyter.widget-view+json": {
       "model_id": "74b18c66cf1f4d0da1029e8e715174a9",
       "version_major": 2,
       "version_minor": 0
      },
      "text/plain": [
       "  0%|          | 0/15 [00:00<?, ?it/s]"
      ]
     },
     "metadata": {},
     "output_type": "display_data"
    },
    {
     "name": "stdout",
     "output_type": "stream",
     "text": [
      "Testing ALS\n",
      "Training BPR\n"
     ]
    },
    {
     "data": {
      "application/vnd.jupyter.widget-view+json": {
       "model_id": "0f1a3c0b60034fadbed49c260bdd3025",
       "version_major": 2,
       "version_minor": 0
      },
      "text/plain": [
       "  0%|          | 0/100 [00:00<?, ?it/s]"
      ]
     },
     "metadata": {},
     "output_type": "display_data"
    },
    {
     "name": "stdout",
     "output_type": "stream",
     "text": [
      "Testing BPR\n",
      "Training LinUCB - ALS embeddings - item_concat - 1\n",
      "Testing LinUCB - ALS embeddings - item_concat - 1\n",
      "Training LinUCB - BPR embeddings - item_concat - 1\n",
      "Testing LinUCB - BPR embeddings - item_concat - 1\n",
      "Training LinGreedy - ALS embeddings - item_concat - 1\n",
      "Testing LinGreedy - ALS embeddings - item_concat - 1\n",
      "Training LinGreedy - BPR embeddings - item_concat - 1\n",
      "Testing LinGreedy - BPR embeddings - item_concat - 1\n",
      "Training LinUCB - ALS embeddings - item_concat - 2\n",
      "Testing LinUCB - ALS embeddings - item_concat - 2\n",
      "Training LinUCB - BPR embeddings - item_concat - 2\n",
      "Testing LinUCB - BPR embeddings - item_concat - 2\n",
      "Training LinGreedy - ALS embeddings - item_concat - 2\n",
      "Testing LinGreedy - ALS embeddings - item_concat - 2\n",
      "Training LinGreedy - BPR embeddings - item_concat - 2\n",
      "Testing LinGreedy - BPR embeddings - item_concat - 2\n",
      "Training LinUCB - ALS embeddings - item_concat - 3\n",
      "Testing LinUCB - ALS embeddings - item_concat - 3\n",
      "Training LinUCB - BPR embeddings - item_concat - 3\n",
      "Testing LinUCB - BPR embeddings - item_concat - 3\n",
      "Training LinGreedy - ALS embeddings - item_concat - 3\n",
      "Testing LinGreedy - ALS embeddings - item_concat - 3\n",
      "Training LinGreedy - BPR embeddings - item_concat - 3\n",
      "Testing LinGreedy - BPR embeddings - item_concat - 3\n",
      "Training LinUCB - ALS embeddings - item_concat - 4\n",
      "Testing LinUCB - ALS embeddings - item_concat - 4\n",
      "Training LinUCB - BPR embeddings - item_concat - 4\n",
      "Testing LinUCB - BPR embeddings - item_concat - 4\n",
      "Training LinGreedy - ALS embeddings - item_concat - 4\n",
      "Testing LinGreedy - ALS embeddings - item_concat - 4\n",
      "Training LinGreedy - BPR embeddings - item_concat - 4\n",
      "Testing LinGreedy - BPR embeddings - item_concat - 4\n",
      "Training LinUCB - ALS embeddings - item_concat - 5\n",
      "Testing LinUCB - ALS embeddings - item_concat - 5\n",
      "Training LinUCB - BPR embeddings - item_concat - 5\n",
      "Testing LinUCB - BPR embeddings - item_concat - 5\n",
      "Training LinGreedy - ALS embeddings - item_concat - 5\n",
      "Testing LinGreedy - ALS embeddings - item_concat - 5\n",
      "Training LinGreedy - BPR embeddings - item_concat - 5\n",
      "Testing LinGreedy - BPR embeddings - item_concat - 5\n",
      "Training LinUCB - ALS embeddings - item_mean\n",
      "Testing LinUCB - ALS embeddings - item_mean\n",
      "Training LinUCB - BPR embeddings - item_mean\n",
      "Testing LinUCB - BPR embeddings - item_mean\n",
      "Training LinGreedy - ALS embeddings - item_mean\n",
      "Testing LinGreedy - ALS embeddings - item_mean\n",
      "Training LinGreedy - BPR embeddings - item_mean\n",
      "Testing LinGreedy - BPR embeddings - item_mean\n",
      "Training LinUCB - ALS embeddings - user\n",
      "Testing LinUCB - ALS embeddings - user\n",
      "Training LinUCB - BPR embeddings - user\n",
      "Testing LinUCB - BPR embeddings - user\n",
      "Training LinGreedy - ALS embeddings - user\n",
      "Testing LinGreedy - ALS embeddings - user\n",
      "Training LinGreedy - BPR embeddings - user\n",
      "Testing LinGreedy - BPR embeddings - user\n",
      "Training LinUCB - ALS embeddings - item_concat-item_mean - 1\n",
      "Testing LinUCB - ALS embeddings - item_concat-item_mean - 1\n",
      "Training LinUCB - BPR embeddings - item_concat-item_mean - 1\n",
      "Testing LinUCB - BPR embeddings - item_concat-item_mean - 1\n",
      "Training LinGreedy - ALS embeddings - item_concat-item_mean - 1\n",
      "Testing LinGreedy - ALS embeddings - item_concat-item_mean - 1\n",
      "Training LinGreedy - BPR embeddings - item_concat-item_mean - 1\n",
      "Testing LinGreedy - BPR embeddings - item_concat-item_mean - 1\n",
      "Training LinUCB - ALS embeddings - item_concat-item_mean - 2\n",
      "Testing LinUCB - ALS embeddings - item_concat-item_mean - 2\n",
      "Training LinUCB - BPR embeddings - item_concat-item_mean - 2\n",
      "Testing LinUCB - BPR embeddings - item_concat-item_mean - 2\n",
      "Training LinGreedy - ALS embeddings - item_concat-item_mean - 2\n",
      "Testing LinGreedy - ALS embeddings - item_concat-item_mean - 2\n",
      "Training LinGreedy - BPR embeddings - item_concat-item_mean - 2\n",
      "Testing LinGreedy - BPR embeddings - item_concat-item_mean - 2\n",
      "Training LinUCB - ALS embeddings - item_concat-item_mean - 3\n",
      "Testing LinUCB - ALS embeddings - item_concat-item_mean - 3\n",
      "Training LinUCB - BPR embeddings - item_concat-item_mean - 3\n",
      "Testing LinUCB - BPR embeddings - item_concat-item_mean - 3\n",
      "Training LinGreedy - ALS embeddings - item_concat-item_mean - 3\n",
      "Testing LinGreedy - ALS embeddings - item_concat-item_mean - 3\n",
      "Training LinGreedy - BPR embeddings - item_concat-item_mean - 3\n",
      "Testing LinGreedy - BPR embeddings - item_concat-item_mean - 3\n",
      "Training LinUCB - ALS embeddings - item_concat-item_mean - 4\n",
      "Testing LinUCB - ALS embeddings - item_concat-item_mean - 4\n",
      "Training LinUCB - BPR embeddings - item_concat-item_mean - 4\n",
      "Testing LinUCB - BPR embeddings - item_concat-item_mean - 4\n",
      "Training LinGreedy - ALS embeddings - item_concat-item_mean - 4\n",
      "Testing LinGreedy - ALS embeddings - item_concat-item_mean - 4\n",
      "Training LinGreedy - BPR embeddings - item_concat-item_mean - 4\n",
      "Testing LinGreedy - BPR embeddings - item_concat-item_mean - 4\n",
      "Training LinUCB - ALS embeddings - item_concat-item_mean - 5\n",
      "Testing LinUCB - ALS embeddings - item_concat-item_mean - 5\n",
      "Training LinUCB - BPR embeddings - item_concat-item_mean - 5\n",
      "Testing LinUCB - BPR embeddings - item_concat-item_mean - 5\n",
      "Training LinGreedy - ALS embeddings - item_concat-item_mean - 5\n",
      "Testing LinGreedy - ALS embeddings - item_concat-item_mean - 5\n",
      "Training LinGreedy - BPR embeddings - item_concat-item_mean - 5\n",
      "Testing LinGreedy - BPR embeddings - item_concat-item_mean - 5\n",
      "Training LinUCB - ALS embeddings - item_concat-user - 1\n",
      "Testing LinUCB - ALS embeddings - item_concat-user - 1\n",
      "Training LinUCB - BPR embeddings - item_concat-user - 1\n",
      "Testing LinUCB - BPR embeddings - item_concat-user - 1\n",
      "Training LinGreedy - ALS embeddings - item_concat-user - 1\n",
      "Testing LinGreedy - ALS embeddings - item_concat-user - 1\n",
      "Training LinGreedy - BPR embeddings - item_concat-user - 1\n",
      "Testing LinGreedy - BPR embeddings - item_concat-user - 1\n",
      "Training LinUCB - ALS embeddings - item_concat-user - 2\n",
      "Testing LinUCB - ALS embeddings - item_concat-user - 2\n",
      "Training LinUCB - BPR embeddings - item_concat-user - 2\n",
      "Testing LinUCB - BPR embeddings - item_concat-user - 2\n",
      "Training LinGreedy - ALS embeddings - item_concat-user - 2\n",
      "Testing LinGreedy - ALS embeddings - item_concat-user - 2\n",
      "Training LinGreedy - BPR embeddings - item_concat-user - 2\n",
      "Testing LinGreedy - BPR embeddings - item_concat-user - 2\n",
      "Training LinUCB - ALS embeddings - item_concat-user - 3\n",
      "Testing LinUCB - ALS embeddings - item_concat-user - 3\n",
      "Training LinUCB - BPR embeddings - item_concat-user - 3\n",
      "Testing LinUCB - BPR embeddings - item_concat-user - 3\n",
      "Training LinGreedy - ALS embeddings - item_concat-user - 3\n",
      "Testing LinGreedy - ALS embeddings - item_concat-user - 3\n",
      "Training LinGreedy - BPR embeddings - item_concat-user - 3\n",
      "Testing LinGreedy - BPR embeddings - item_concat-user - 3\n",
      "Training LinUCB - ALS embeddings - item_concat-user - 4\n",
      "Testing LinUCB - ALS embeddings - item_concat-user - 4\n",
      "Training LinUCB - BPR embeddings - item_concat-user - 4\n",
      "Testing LinUCB - BPR embeddings - item_concat-user - 4\n",
      "Training LinGreedy - ALS embeddings - item_concat-user - 4\n",
      "Testing LinGreedy - ALS embeddings - item_concat-user - 4\n",
      "Training LinGreedy - BPR embeddings - item_concat-user - 4\n",
      "Testing LinGreedy - BPR embeddings - item_concat-user - 4\n",
      "Training LinUCB - ALS embeddings - item_concat-user - 5\n",
      "Testing LinUCB - ALS embeddings - item_concat-user - 5\n",
      "Training LinUCB - BPR embeddings - item_concat-user - 5\n",
      "Testing LinUCB - BPR embeddings - item_concat-user - 5\n",
      "Training LinGreedy - ALS embeddings - item_concat-user - 5\n",
      "Testing LinGreedy - ALS embeddings - item_concat-user - 5\n",
      "Training LinGreedy - BPR embeddings - item_concat-user - 5\n",
      "Testing LinGreedy - BPR embeddings - item_concat-user - 5\n",
      "Training LinUCB - ALS embeddings - item_mean-user\n",
      "Testing LinUCB - ALS embeddings - item_mean-user\n",
      "Training LinUCB - BPR embeddings - item_mean-user\n",
      "Testing LinUCB - BPR embeddings - item_mean-user\n",
      "Training LinGreedy - ALS embeddings - item_mean-user\n",
      "Testing LinGreedy - ALS embeddings - item_mean-user\n",
      "Training LinGreedy - BPR embeddings - item_mean-user\n",
      "Testing LinGreedy - BPR embeddings - item_mean-user\n",
      "Training LinUCB - ALS embeddings - all - 1\n",
      "Testing LinUCB - ALS embeddings - all - 1\n",
      "Training LinUCB - BPR embeddings - all - 1\n",
      "Testing LinUCB - BPR embeddings - all - 1\n",
      "Training LinGreedy - ALS embeddings - all - 1\n",
      "Testing LinGreedy - ALS embeddings - all - 1\n",
      "Training LinGreedy - BPR embeddings - all - 1\n",
      "Testing LinGreedy - BPR embeddings - all - 1\n",
      "Training LinUCB - ALS embeddings - all - 2\n",
      "Testing LinUCB - ALS embeddings - all - 2\n",
      "Training LinUCB - BPR embeddings - all - 2\n",
      "Testing LinUCB - BPR embeddings - all - 2\n",
      "Training LinGreedy - ALS embeddings - all - 2\n",
      "Testing LinGreedy - ALS embeddings - all - 2\n",
      "Training LinGreedy - BPR embeddings - all - 2\n",
      "Testing LinGreedy - BPR embeddings - all - 2\n",
      "Training LinUCB - ALS embeddings - all - 3\n",
      "Testing LinUCB - ALS embeddings - all - 3\n",
      "Training LinUCB - BPR embeddings - all - 3\n",
      "Testing LinUCB - BPR embeddings - all - 3\n",
      "Training LinGreedy - ALS embeddings - all - 3\n",
      "Testing LinGreedy - ALS embeddings - all - 3\n",
      "Training LinGreedy - BPR embeddings - all - 3\n",
      "Testing LinGreedy - BPR embeddings - all - 3\n",
      "Training LinUCB - ALS embeddings - all - 4\n",
      "Testing LinUCB - ALS embeddings - all - 4\n",
      "Training LinUCB - BPR embeddings - all - 4\n",
      "Testing LinUCB - BPR embeddings - all - 4\n",
      "Training LinGreedy - ALS embeddings - all - 4\n",
      "Testing LinGreedy - ALS embeddings - all - 4\n",
      "Training LinGreedy - BPR embeddings - all - 4\n",
      "Testing LinGreedy - BPR embeddings - all - 4\n",
      "Training LinUCB - ALS embeddings - all - 5\n",
      "Testing LinUCB - ALS embeddings - all - 5\n",
      "Training LinUCB - BPR embeddings - all - 5\n",
      "Testing LinUCB - BPR embeddings - all - 5\n",
      "Training LinGreedy - ALS embeddings - all - 5\n",
      "Testing LinGreedy - ALS embeddings - all - 5\n",
      "Training LinGreedy - BPR embeddings - all - 5\n",
      "Testing LinGreedy - BPR embeddings - all - 5\n",
      "Current extra train size: 0.7\n",
      "Training ALS\n"
     ]
    },
    {
     "data": {
      "application/vnd.jupyter.widget-view+json": {
       "model_id": "011312249b5d4fc9a0c5cc3055334773",
       "version_major": 2,
       "version_minor": 0
      },
      "text/plain": [
       "  0%|          | 0/15 [00:00<?, ?it/s]"
      ]
     },
     "metadata": {},
     "output_type": "display_data"
    },
    {
     "name": "stdout",
     "output_type": "stream",
     "text": [
      "Testing ALS\n",
      "Training BPR\n"
     ]
    },
    {
     "data": {
      "application/vnd.jupyter.widget-view+json": {
       "model_id": "683e1be62f1446f29d7d93757502a76a",
       "version_major": 2,
       "version_minor": 0
      },
      "text/plain": [
       "  0%|          | 0/100 [00:00<?, ?it/s]"
      ]
     },
     "metadata": {},
     "output_type": "display_data"
    },
    {
     "name": "stdout",
     "output_type": "stream",
     "text": [
      "Testing BPR\n",
      "Training LinUCB - ALS embeddings - item_concat - 1\n",
      "Testing LinUCB - ALS embeddings - item_concat - 1\n",
      "Training LinUCB - BPR embeddings - item_concat - 1\n",
      "Testing LinUCB - BPR embeddings - item_concat - 1\n",
      "Training LinGreedy - ALS embeddings - item_concat - 1\n",
      "Testing LinGreedy - ALS embeddings - item_concat - 1\n",
      "Training LinGreedy - BPR embeddings - item_concat - 1\n",
      "Testing LinGreedy - BPR embeddings - item_concat - 1\n",
      "Training LinUCB - ALS embeddings - item_concat - 2\n",
      "Testing LinUCB - ALS embeddings - item_concat - 2\n",
      "Training LinUCB - BPR embeddings - item_concat - 2\n",
      "Testing LinUCB - BPR embeddings - item_concat - 2\n",
      "Training LinGreedy - ALS embeddings - item_concat - 2\n",
      "Testing LinGreedy - ALS embeddings - item_concat - 2\n",
      "Training LinGreedy - BPR embeddings - item_concat - 2\n",
      "Testing LinGreedy - BPR embeddings - item_concat - 2\n",
      "Training LinUCB - ALS embeddings - item_concat - 3\n",
      "Testing LinUCB - ALS embeddings - item_concat - 3\n",
      "Training LinUCB - BPR embeddings - item_concat - 3\n",
      "Testing LinUCB - BPR embeddings - item_concat - 3\n",
      "Training LinGreedy - ALS embeddings - item_concat - 3\n",
      "Testing LinGreedy - ALS embeddings - item_concat - 3\n",
      "Training LinGreedy - BPR embeddings - item_concat - 3\n",
      "Testing LinGreedy - BPR embeddings - item_concat - 3\n",
      "Training LinUCB - ALS embeddings - item_concat - 4\n",
      "Testing LinUCB - ALS embeddings - item_concat - 4\n",
      "Training LinUCB - BPR embeddings - item_concat - 4\n",
      "Testing LinUCB - BPR embeddings - item_concat - 4\n",
      "Training LinGreedy - ALS embeddings - item_concat - 4\n",
      "Testing LinGreedy - ALS embeddings - item_concat - 4\n",
      "Training LinGreedy - BPR embeddings - item_concat - 4\n",
      "Testing LinGreedy - BPR embeddings - item_concat - 4\n",
      "Training LinUCB - ALS embeddings - item_concat - 5\n",
      "Testing LinUCB - ALS embeddings - item_concat - 5\n",
      "Training LinUCB - BPR embeddings - item_concat - 5\n",
      "Testing LinUCB - BPR embeddings - item_concat - 5\n",
      "Training LinGreedy - ALS embeddings - item_concat - 5\n",
      "Testing LinGreedy - ALS embeddings - item_concat - 5\n",
      "Training LinGreedy - BPR embeddings - item_concat - 5\n",
      "Testing LinGreedy - BPR embeddings - item_concat - 5\n",
      "Training LinUCB - ALS embeddings - item_mean\n",
      "Testing LinUCB - ALS embeddings - item_mean\n",
      "Training LinUCB - BPR embeddings - item_mean\n",
      "Testing LinUCB - BPR embeddings - item_mean\n",
      "Training LinGreedy - ALS embeddings - item_mean\n",
      "Testing LinGreedy - ALS embeddings - item_mean\n",
      "Training LinGreedy - BPR embeddings - item_mean\n",
      "Testing LinGreedy - BPR embeddings - item_mean\n",
      "Training LinUCB - ALS embeddings - user\n",
      "Testing LinUCB - ALS embeddings - user\n",
      "Training LinUCB - BPR embeddings - user\n",
      "Testing LinUCB - BPR embeddings - user\n",
      "Training LinGreedy - ALS embeddings - user\n",
      "Testing LinGreedy - ALS embeddings - user\n",
      "Training LinGreedy - BPR embeddings - user\n",
      "Testing LinGreedy - BPR embeddings - user\n",
      "Training LinUCB - ALS embeddings - item_concat-item_mean - 1\n",
      "Testing LinUCB - ALS embeddings - item_concat-item_mean - 1\n",
      "Training LinUCB - BPR embeddings - item_concat-item_mean - 1\n",
      "Testing LinUCB - BPR embeddings - item_concat-item_mean - 1\n",
      "Training LinGreedy - ALS embeddings - item_concat-item_mean - 1\n",
      "Testing LinGreedy - ALS embeddings - item_concat-item_mean - 1\n",
      "Training LinGreedy - BPR embeddings - item_concat-item_mean - 1\n",
      "Testing LinGreedy - BPR embeddings - item_concat-item_mean - 1\n",
      "Training LinUCB - ALS embeddings - item_concat-item_mean - 2\n",
      "Testing LinUCB - ALS embeddings - item_concat-item_mean - 2\n",
      "Training LinUCB - BPR embeddings - item_concat-item_mean - 2\n",
      "Testing LinUCB - BPR embeddings - item_concat-item_mean - 2\n",
      "Training LinGreedy - ALS embeddings - item_concat-item_mean - 2\n",
      "Testing LinGreedy - ALS embeddings - item_concat-item_mean - 2\n",
      "Training LinGreedy - BPR embeddings - item_concat-item_mean - 2\n",
      "Testing LinGreedy - BPR embeddings - item_concat-item_mean - 2\n",
      "Training LinUCB - ALS embeddings - item_concat-item_mean - 3\n",
      "Testing LinUCB - ALS embeddings - item_concat-item_mean - 3\n",
      "Training LinUCB - BPR embeddings - item_concat-item_mean - 3\n",
      "Testing LinUCB - BPR embeddings - item_concat-item_mean - 3\n",
      "Training LinGreedy - ALS embeddings - item_concat-item_mean - 3\n",
      "Testing LinGreedy - ALS embeddings - item_concat-item_mean - 3\n",
      "Training LinGreedy - BPR embeddings - item_concat-item_mean - 3\n",
      "Testing LinGreedy - BPR embeddings - item_concat-item_mean - 3\n",
      "Training LinUCB - ALS embeddings - item_concat-item_mean - 4\n",
      "Testing LinUCB - ALS embeddings - item_concat-item_mean - 4\n",
      "Training LinUCB - BPR embeddings - item_concat-item_mean - 4\n",
      "Testing LinUCB - BPR embeddings - item_concat-item_mean - 4\n",
      "Training LinGreedy - ALS embeddings - item_concat-item_mean - 4\n",
      "Testing LinGreedy - ALS embeddings - item_concat-item_mean - 4\n",
      "Training LinGreedy - BPR embeddings - item_concat-item_mean - 4\n",
      "Testing LinGreedy - BPR embeddings - item_concat-item_mean - 4\n",
      "Training LinUCB - ALS embeddings - item_concat-item_mean - 5\n",
      "Testing LinUCB - ALS embeddings - item_concat-item_mean - 5\n",
      "Training LinUCB - BPR embeddings - item_concat-item_mean - 5\n",
      "Testing LinUCB - BPR embeddings - item_concat-item_mean - 5\n",
      "Training LinGreedy - ALS embeddings - item_concat-item_mean - 5\n",
      "Testing LinGreedy - ALS embeddings - item_concat-item_mean - 5\n",
      "Training LinGreedy - BPR embeddings - item_concat-item_mean - 5\n",
      "Testing LinGreedy - BPR embeddings - item_concat-item_mean - 5\n",
      "Training LinUCB - ALS embeddings - item_concat-user - 1\n",
      "Testing LinUCB - ALS embeddings - item_concat-user - 1\n",
      "Training LinUCB - BPR embeddings - item_concat-user - 1\n",
      "Testing LinUCB - BPR embeddings - item_concat-user - 1\n",
      "Training LinGreedy - ALS embeddings - item_concat-user - 1\n",
      "Testing LinGreedy - ALS embeddings - item_concat-user - 1\n",
      "Training LinGreedy - BPR embeddings - item_concat-user - 1\n",
      "Testing LinGreedy - BPR embeddings - item_concat-user - 1\n",
      "Training LinUCB - ALS embeddings - item_concat-user - 2\n",
      "Testing LinUCB - ALS embeddings - item_concat-user - 2\n",
      "Training LinUCB - BPR embeddings - item_concat-user - 2\n",
      "Testing LinUCB - BPR embeddings - item_concat-user - 2\n",
      "Training LinGreedy - ALS embeddings - item_concat-user - 2\n",
      "Testing LinGreedy - ALS embeddings - item_concat-user - 2\n",
      "Training LinGreedy - BPR embeddings - item_concat-user - 2\n",
      "Testing LinGreedy - BPR embeddings - item_concat-user - 2\n",
      "Training LinUCB - ALS embeddings - item_concat-user - 3\n",
      "Testing LinUCB - ALS embeddings - item_concat-user - 3\n",
      "Training LinUCB - BPR embeddings - item_concat-user - 3\n",
      "Testing LinUCB - BPR embeddings - item_concat-user - 3\n",
      "Training LinGreedy - ALS embeddings - item_concat-user - 3\n",
      "Testing LinGreedy - ALS embeddings - item_concat-user - 3\n",
      "Training LinGreedy - BPR embeddings - item_concat-user - 3\n",
      "Testing LinGreedy - BPR embeddings - item_concat-user - 3\n",
      "Training LinUCB - ALS embeddings - item_concat-user - 4\n",
      "Testing LinUCB - ALS embeddings - item_concat-user - 4\n",
      "Training LinUCB - BPR embeddings - item_concat-user - 4\n",
      "Testing LinUCB - BPR embeddings - item_concat-user - 4\n",
      "Training LinGreedy - ALS embeddings - item_concat-user - 4\n",
      "Testing LinGreedy - ALS embeddings - item_concat-user - 4\n",
      "Training LinGreedy - BPR embeddings - item_concat-user - 4\n",
      "Testing LinGreedy - BPR embeddings - item_concat-user - 4\n",
      "Training LinUCB - ALS embeddings - item_concat-user - 5\n",
      "Testing LinUCB - ALS embeddings - item_concat-user - 5\n",
      "Training LinUCB - BPR embeddings - item_concat-user - 5\n",
      "Testing LinUCB - BPR embeddings - item_concat-user - 5\n",
      "Training LinGreedy - ALS embeddings - item_concat-user - 5\n",
      "Testing LinGreedy - ALS embeddings - item_concat-user - 5\n",
      "Training LinGreedy - BPR embeddings - item_concat-user - 5\n",
      "Testing LinGreedy - BPR embeddings - item_concat-user - 5\n",
      "Training LinUCB - ALS embeddings - item_mean-user\n",
      "Testing LinUCB - ALS embeddings - item_mean-user\n",
      "Training LinUCB - BPR embeddings - item_mean-user\n",
      "Testing LinUCB - BPR embeddings - item_mean-user\n",
      "Training LinGreedy - ALS embeddings - item_mean-user\n",
      "Testing LinGreedy - ALS embeddings - item_mean-user\n",
      "Training LinGreedy - BPR embeddings - item_mean-user\n",
      "Testing LinGreedy - BPR embeddings - item_mean-user\n",
      "Training LinUCB - ALS embeddings - all - 1\n",
      "Testing LinUCB - ALS embeddings - all - 1\n",
      "Training LinUCB - BPR embeddings - all - 1\n",
      "Testing LinUCB - BPR embeddings - all - 1\n",
      "Training LinGreedy - ALS embeddings - all - 1\n",
      "Testing LinGreedy - ALS embeddings - all - 1\n",
      "Training LinGreedy - BPR embeddings - all - 1\n",
      "Testing LinGreedy - BPR embeddings - all - 1\n",
      "Training LinUCB - ALS embeddings - all - 2\n",
      "Testing LinUCB - ALS embeddings - all - 2\n",
      "Training LinUCB - BPR embeddings - all - 2\n",
      "Testing LinUCB - BPR embeddings - all - 2\n",
      "Training LinGreedy - ALS embeddings - all - 2\n",
      "Testing LinGreedy - ALS embeddings - all - 2\n",
      "Training LinGreedy - BPR embeddings - all - 2\n",
      "Testing LinGreedy - BPR embeddings - all - 2\n",
      "Training LinUCB - ALS embeddings - all - 3\n",
      "Testing LinUCB - ALS embeddings - all - 3\n",
      "Training LinUCB - BPR embeddings - all - 3\n",
      "Testing LinUCB - BPR embeddings - all - 3\n",
      "Training LinGreedy - ALS embeddings - all - 3\n",
      "Testing LinGreedy - ALS embeddings - all - 3\n",
      "Training LinGreedy - BPR embeddings - all - 3\n",
      "Testing LinGreedy - BPR embeddings - all - 3\n",
      "Training LinUCB - ALS embeddings - all - 4\n",
      "Testing LinUCB - ALS embeddings - all - 4\n",
      "Training LinUCB - BPR embeddings - all - 4\n",
      "Testing LinUCB - BPR embeddings - all - 4\n",
      "Training LinGreedy - ALS embeddings - all - 4\n",
      "Testing LinGreedy - ALS embeddings - all - 4\n",
      "Training LinGreedy - BPR embeddings - all - 4\n",
      "Testing LinGreedy - BPR embeddings - all - 4\n",
      "Training LinUCB - ALS embeddings - all - 5\n",
      "Testing LinUCB - ALS embeddings - all - 5\n",
      "Training LinUCB - BPR embeddings - all - 5\n",
      "Testing LinUCB - BPR embeddings - all - 5\n",
      "Training LinGreedy - ALS embeddings - all - 5\n",
      "Testing LinGreedy - ALS embeddings - all - 5\n",
      "Training LinGreedy - BPR embeddings - all - 5\n",
      "Testing LinGreedy - BPR embeddings - all - 5\n",
      "Current extra train size: 0.8\n",
      "Training ALS\n"
     ]
    },
    {
     "data": {
      "application/vnd.jupyter.widget-view+json": {
       "model_id": "68f6305760404440b5504b7801e52997",
       "version_major": 2,
       "version_minor": 0
      },
      "text/plain": [
       "  0%|          | 0/15 [00:00<?, ?it/s]"
      ]
     },
     "metadata": {},
     "output_type": "display_data"
    },
    {
     "name": "stdout",
     "output_type": "stream",
     "text": [
      "Testing ALS\n",
      "Training BPR\n"
     ]
    },
    {
     "data": {
      "application/vnd.jupyter.widget-view+json": {
       "model_id": "1df6244ce5b7482fbb5e74b694599714",
       "version_major": 2,
       "version_minor": 0
      },
      "text/plain": [
       "  0%|          | 0/100 [00:00<?, ?it/s]"
      ]
     },
     "metadata": {},
     "output_type": "display_data"
    },
    {
     "name": "stdout",
     "output_type": "stream",
     "text": [
      "Testing BPR\n",
      "Training LinUCB - ALS embeddings - item_concat - 1\n",
      "Testing LinUCB - ALS embeddings - item_concat - 1\n",
      "Training LinUCB - BPR embeddings - item_concat - 1\n",
      "Testing LinUCB - BPR embeddings - item_concat - 1\n",
      "Training LinGreedy - ALS embeddings - item_concat - 1\n",
      "Testing LinGreedy - ALS embeddings - item_concat - 1\n",
      "Training LinGreedy - BPR embeddings - item_concat - 1\n",
      "Testing LinGreedy - BPR embeddings - item_concat - 1\n",
      "Training LinUCB - ALS embeddings - item_concat - 2\n",
      "Testing LinUCB - ALS embeddings - item_concat - 2\n",
      "Training LinUCB - BPR embeddings - item_concat - 2\n",
      "Testing LinUCB - BPR embeddings - item_concat - 2\n",
      "Training LinGreedy - ALS embeddings - item_concat - 2\n",
      "Testing LinGreedy - ALS embeddings - item_concat - 2\n",
      "Training LinGreedy - BPR embeddings - item_concat - 2\n",
      "Testing LinGreedy - BPR embeddings - item_concat - 2\n",
      "Training LinUCB - ALS embeddings - item_concat - 3\n",
      "Testing LinUCB - ALS embeddings - item_concat - 3\n",
      "Training LinUCB - BPR embeddings - item_concat - 3\n",
      "Testing LinUCB - BPR embeddings - item_concat - 3\n",
      "Training LinGreedy - ALS embeddings - item_concat - 3\n",
      "Testing LinGreedy - ALS embeddings - item_concat - 3\n",
      "Training LinGreedy - BPR embeddings - item_concat - 3\n",
      "Testing LinGreedy - BPR embeddings - item_concat - 3\n",
      "Training LinUCB - ALS embeddings - item_concat - 4\n",
      "Testing LinUCB - ALS embeddings - item_concat - 4\n",
      "Training LinUCB - BPR embeddings - item_concat - 4\n",
      "Testing LinUCB - BPR embeddings - item_concat - 4\n",
      "Training LinGreedy - ALS embeddings - item_concat - 4\n",
      "Testing LinGreedy - ALS embeddings - item_concat - 4\n",
      "Training LinGreedy - BPR embeddings - item_concat - 4\n",
      "Testing LinGreedy - BPR embeddings - item_concat - 4\n",
      "Training LinUCB - ALS embeddings - item_concat - 5\n",
      "Testing LinUCB - ALS embeddings - item_concat - 5\n",
      "Training LinUCB - BPR embeddings - item_concat - 5\n",
      "Testing LinUCB - BPR embeddings - item_concat - 5\n",
      "Training LinGreedy - ALS embeddings - item_concat - 5\n",
      "Testing LinGreedy - ALS embeddings - item_concat - 5\n",
      "Training LinGreedy - BPR embeddings - item_concat - 5\n",
      "Testing LinGreedy - BPR embeddings - item_concat - 5\n",
      "Training LinUCB - ALS embeddings - item_mean\n",
      "Testing LinUCB - ALS embeddings - item_mean\n",
      "Training LinUCB - BPR embeddings - item_mean\n",
      "Testing LinUCB - BPR embeddings - item_mean\n",
      "Training LinGreedy - ALS embeddings - item_mean\n",
      "Testing LinGreedy - ALS embeddings - item_mean\n",
      "Training LinGreedy - BPR embeddings - item_mean\n",
      "Testing LinGreedy - BPR embeddings - item_mean\n",
      "Training LinUCB - ALS embeddings - user\n",
      "Testing LinUCB - ALS embeddings - user\n",
      "Training LinUCB - BPR embeddings - user\n",
      "Testing LinUCB - BPR embeddings - user\n",
      "Training LinGreedy - ALS embeddings - user\n",
      "Testing LinGreedy - ALS embeddings - user\n",
      "Training LinGreedy - BPR embeddings - user\n",
      "Testing LinGreedy - BPR embeddings - user\n",
      "Training LinUCB - ALS embeddings - item_concat-item_mean - 1\n",
      "Testing LinUCB - ALS embeddings - item_concat-item_mean - 1\n",
      "Training LinUCB - BPR embeddings - item_concat-item_mean - 1\n",
      "Testing LinUCB - BPR embeddings - item_concat-item_mean - 1\n",
      "Training LinGreedy - ALS embeddings - item_concat-item_mean - 1\n",
      "Testing LinGreedy - ALS embeddings - item_concat-item_mean - 1\n",
      "Training LinGreedy - BPR embeddings - item_concat-item_mean - 1\n",
      "Testing LinGreedy - BPR embeddings - item_concat-item_mean - 1\n",
      "Training LinUCB - ALS embeddings - item_concat-item_mean - 2\n",
      "Testing LinUCB - ALS embeddings - item_concat-item_mean - 2\n",
      "Training LinUCB - BPR embeddings - item_concat-item_mean - 2\n",
      "Testing LinUCB - BPR embeddings - item_concat-item_mean - 2\n",
      "Training LinGreedy - ALS embeddings - item_concat-item_mean - 2\n",
      "Testing LinGreedy - ALS embeddings - item_concat-item_mean - 2\n",
      "Training LinGreedy - BPR embeddings - item_concat-item_mean - 2\n",
      "Testing LinGreedy - BPR embeddings - item_concat-item_mean - 2\n",
      "Training LinUCB - ALS embeddings - item_concat-item_mean - 3\n",
      "Testing LinUCB - ALS embeddings - item_concat-item_mean - 3\n",
      "Training LinUCB - BPR embeddings - item_concat-item_mean - 3\n",
      "Testing LinUCB - BPR embeddings - item_concat-item_mean - 3\n",
      "Training LinGreedy - ALS embeddings - item_concat-item_mean - 3\n",
      "Testing LinGreedy - ALS embeddings - item_concat-item_mean - 3\n",
      "Training LinGreedy - BPR embeddings - item_concat-item_mean - 3\n",
      "Testing LinGreedy - BPR embeddings - item_concat-item_mean - 3\n",
      "Training LinUCB - ALS embeddings - item_concat-item_mean - 4\n",
      "Testing LinUCB - ALS embeddings - item_concat-item_mean - 4\n",
      "Training LinUCB - BPR embeddings - item_concat-item_mean - 4\n",
      "Testing LinUCB - BPR embeddings - item_concat-item_mean - 4\n",
      "Training LinGreedy - ALS embeddings - item_concat-item_mean - 4\n",
      "Testing LinGreedy - ALS embeddings - item_concat-item_mean - 4\n",
      "Training LinGreedy - BPR embeddings - item_concat-item_mean - 4\n",
      "Testing LinGreedy - BPR embeddings - item_concat-item_mean - 4\n",
      "Training LinUCB - ALS embeddings - item_concat-item_mean - 5\n",
      "Testing LinUCB - ALS embeddings - item_concat-item_mean - 5\n",
      "Training LinUCB - BPR embeddings - item_concat-item_mean - 5\n",
      "Testing LinUCB - BPR embeddings - item_concat-item_mean - 5\n",
      "Training LinGreedy - ALS embeddings - item_concat-item_mean - 5\n",
      "Testing LinGreedy - ALS embeddings - item_concat-item_mean - 5\n",
      "Training LinGreedy - BPR embeddings - item_concat-item_mean - 5\n",
      "Testing LinGreedy - BPR embeddings - item_concat-item_mean - 5\n",
      "Training LinUCB - ALS embeddings - item_concat-user - 1\n",
      "Testing LinUCB - ALS embeddings - item_concat-user - 1\n",
      "Training LinUCB - BPR embeddings - item_concat-user - 1\n",
      "Testing LinUCB - BPR embeddings - item_concat-user - 1\n",
      "Training LinGreedy - ALS embeddings - item_concat-user - 1\n",
      "Testing LinGreedy - ALS embeddings - item_concat-user - 1\n",
      "Training LinGreedy - BPR embeddings - item_concat-user - 1\n",
      "Testing LinGreedy - BPR embeddings - item_concat-user - 1\n",
      "Training LinUCB - ALS embeddings - item_concat-user - 2\n",
      "Testing LinUCB - ALS embeddings - item_concat-user - 2\n",
      "Training LinUCB - BPR embeddings - item_concat-user - 2\n",
      "Testing LinUCB - BPR embeddings - item_concat-user - 2\n",
      "Training LinGreedy - ALS embeddings - item_concat-user - 2\n",
      "Testing LinGreedy - ALS embeddings - item_concat-user - 2\n",
      "Training LinGreedy - BPR embeddings - item_concat-user - 2\n",
      "Testing LinGreedy - BPR embeddings - item_concat-user - 2\n",
      "Training LinUCB - ALS embeddings - item_concat-user - 3\n",
      "Testing LinUCB - ALS embeddings - item_concat-user - 3\n",
      "Training LinUCB - BPR embeddings - item_concat-user - 3\n",
      "Testing LinUCB - BPR embeddings - item_concat-user - 3\n",
      "Training LinGreedy - ALS embeddings - item_concat-user - 3\n",
      "Testing LinGreedy - ALS embeddings - item_concat-user - 3\n",
      "Training LinGreedy - BPR embeddings - item_concat-user - 3\n",
      "Testing LinGreedy - BPR embeddings - item_concat-user - 3\n",
      "Training LinUCB - ALS embeddings - item_concat-user - 4\n",
      "Testing LinUCB - ALS embeddings - item_concat-user - 4\n",
      "Training LinUCB - BPR embeddings - item_concat-user - 4\n",
      "Testing LinUCB - BPR embeddings - item_concat-user - 4\n",
      "Training LinGreedy - ALS embeddings - item_concat-user - 4\n",
      "Testing LinGreedy - ALS embeddings - item_concat-user - 4\n",
      "Training LinGreedy - BPR embeddings - item_concat-user - 4\n",
      "Testing LinGreedy - BPR embeddings - item_concat-user - 4\n",
      "Training LinUCB - ALS embeddings - item_concat-user - 5\n",
      "Testing LinUCB - ALS embeddings - item_concat-user - 5\n",
      "Training LinUCB - BPR embeddings - item_concat-user - 5\n",
      "Testing LinUCB - BPR embeddings - item_concat-user - 5\n",
      "Training LinGreedy - ALS embeddings - item_concat-user - 5\n",
      "Testing LinGreedy - ALS embeddings - item_concat-user - 5\n",
      "Training LinGreedy - BPR embeddings - item_concat-user - 5\n",
      "Testing LinGreedy - BPR embeddings - item_concat-user - 5\n",
      "Training LinUCB - ALS embeddings - item_mean-user\n",
      "Testing LinUCB - ALS embeddings - item_mean-user\n",
      "Training LinUCB - BPR embeddings - item_mean-user\n",
      "Testing LinUCB - BPR embeddings - item_mean-user\n",
      "Training LinGreedy - ALS embeddings - item_mean-user\n",
      "Testing LinGreedy - ALS embeddings - item_mean-user\n",
      "Training LinGreedy - BPR embeddings - item_mean-user\n",
      "Testing LinGreedy - BPR embeddings - item_mean-user\n",
      "Training LinUCB - ALS embeddings - all - 1\n",
      "Testing LinUCB - ALS embeddings - all - 1\n",
      "Training LinUCB - BPR embeddings - all - 1\n",
      "Testing LinUCB - BPR embeddings - all - 1\n",
      "Training LinGreedy - ALS embeddings - all - 1\n",
      "Testing LinGreedy - ALS embeddings - all - 1\n",
      "Training LinGreedy - BPR embeddings - all - 1\n",
      "Testing LinGreedy - BPR embeddings - all - 1\n",
      "Training LinUCB - ALS embeddings - all - 2\n",
      "Testing LinUCB - ALS embeddings - all - 2\n",
      "Training LinUCB - BPR embeddings - all - 2\n",
      "Testing LinUCB - BPR embeddings - all - 2\n",
      "Training LinGreedy - ALS embeddings - all - 2\n",
      "Testing LinGreedy - ALS embeddings - all - 2\n",
      "Training LinGreedy - BPR embeddings - all - 2\n",
      "Testing LinGreedy - BPR embeddings - all - 2\n",
      "Training LinUCB - ALS embeddings - all - 3\n",
      "Testing LinUCB - ALS embeddings - all - 3\n",
      "Training LinUCB - BPR embeddings - all - 3\n",
      "Testing LinUCB - BPR embeddings - all - 3\n",
      "Training LinGreedy - ALS embeddings - all - 3\n",
      "Testing LinGreedy - ALS embeddings - all - 3\n",
      "Training LinGreedy - BPR embeddings - all - 3\n",
      "Testing LinGreedy - BPR embeddings - all - 3\n",
      "Training LinUCB - ALS embeddings - all - 4\n",
      "Testing LinUCB - ALS embeddings - all - 4\n",
      "Training LinUCB - BPR embeddings - all - 4\n",
      "Testing LinUCB - BPR embeddings - all - 4\n",
      "Training LinGreedy - ALS embeddings - all - 4\n",
      "Testing LinGreedy - ALS embeddings - all - 4\n",
      "Training LinGreedy - BPR embeddings - all - 4\n",
      "Testing LinGreedy - BPR embeddings - all - 4\n",
      "Training LinUCB - ALS embeddings - all - 5\n",
      "Testing LinUCB - ALS embeddings - all - 5\n",
      "Training LinUCB - BPR embeddings - all - 5\n",
      "Testing LinUCB - BPR embeddings - all - 5\n",
      "Training LinGreedy - ALS embeddings - all - 5\n",
      "Testing LinGreedy - ALS embeddings - all - 5\n",
      "Training LinGreedy - BPR embeddings - all - 5\n",
      "Testing LinGreedy - BPR embeddings - all - 5\n",
      "Current extra train size: 0.9\n",
      "Training ALS\n"
     ]
    },
    {
     "data": {
      "application/vnd.jupyter.widget-view+json": {
       "model_id": "b0245da66c194a18ad66d74654c478ad",
       "version_major": 2,
       "version_minor": 0
      },
      "text/plain": [
       "  0%|          | 0/15 [00:00<?, ?it/s]"
      ]
     },
     "metadata": {},
     "output_type": "display_data"
    },
    {
     "name": "stdout",
     "output_type": "stream",
     "text": [
      "Testing ALS\n",
      "Training BPR\n"
     ]
    },
    {
     "data": {
      "application/vnd.jupyter.widget-view+json": {
       "model_id": "64e5b24e864e4e3bb73d867275ca7153",
       "version_major": 2,
       "version_minor": 0
      },
      "text/plain": [
       "  0%|          | 0/100 [00:00<?, ?it/s]"
      ]
     },
     "metadata": {},
     "output_type": "display_data"
    },
    {
     "name": "stdout",
     "output_type": "stream",
     "text": [
      "Testing BPR\n",
      "Training LinUCB - ALS embeddings - item_concat - 1\n",
      "Testing LinUCB - ALS embeddings - item_concat - 1\n",
      "Training LinUCB - BPR embeddings - item_concat - 1\n",
      "Testing LinUCB - BPR embeddings - item_concat - 1\n",
      "Training LinGreedy - ALS embeddings - item_concat - 1\n",
      "Testing LinGreedy - ALS embeddings - item_concat - 1\n",
      "Training LinGreedy - BPR embeddings - item_concat - 1\n",
      "Testing LinGreedy - BPR embeddings - item_concat - 1\n",
      "Training LinUCB - ALS embeddings - item_concat - 2\n",
      "Testing LinUCB - ALS embeddings - item_concat - 2\n",
      "Training LinUCB - BPR embeddings - item_concat - 2\n",
      "Testing LinUCB - BPR embeddings - item_concat - 2\n",
      "Training LinGreedy - ALS embeddings - item_concat - 2\n",
      "Testing LinGreedy - ALS embeddings - item_concat - 2\n",
      "Training LinGreedy - BPR embeddings - item_concat - 2\n",
      "Testing LinGreedy - BPR embeddings - item_concat - 2\n",
      "Training LinUCB - ALS embeddings - item_concat - 3\n",
      "Testing LinUCB - ALS embeddings - item_concat - 3\n",
      "Training LinUCB - BPR embeddings - item_concat - 3\n",
      "Testing LinUCB - BPR embeddings - item_concat - 3\n",
      "Training LinGreedy - ALS embeddings - item_concat - 3\n",
      "Testing LinGreedy - ALS embeddings - item_concat - 3\n",
      "Training LinGreedy - BPR embeddings - item_concat - 3\n",
      "Testing LinGreedy - BPR embeddings - item_concat - 3\n",
      "Training LinUCB - ALS embeddings - item_concat - 4\n",
      "Testing LinUCB - ALS embeddings - item_concat - 4\n",
      "Training LinUCB - BPR embeddings - item_concat - 4\n",
      "Testing LinUCB - BPR embeddings - item_concat - 4\n",
      "Training LinGreedy - ALS embeddings - item_concat - 4\n",
      "Testing LinGreedy - ALS embeddings - item_concat - 4\n",
      "Training LinGreedy - BPR embeddings - item_concat - 4\n",
      "Testing LinGreedy - BPR embeddings - item_concat - 4\n",
      "Training LinUCB - ALS embeddings - item_concat - 5\n",
      "Testing LinUCB - ALS embeddings - item_concat - 5\n",
      "Training LinUCB - BPR embeddings - item_concat - 5\n",
      "Testing LinUCB - BPR embeddings - item_concat - 5\n",
      "Training LinGreedy - ALS embeddings - item_concat - 5\n",
      "Testing LinGreedy - ALS embeddings - item_concat - 5\n",
      "Training LinGreedy - BPR embeddings - item_concat - 5\n",
      "Testing LinGreedy - BPR embeddings - item_concat - 5\n",
      "Training LinUCB - ALS embeddings - item_mean\n",
      "Testing LinUCB - ALS embeddings - item_mean\n",
      "Training LinUCB - BPR embeddings - item_mean\n",
      "Testing LinUCB - BPR embeddings - item_mean\n",
      "Training LinGreedy - ALS embeddings - item_mean\n",
      "Testing LinGreedy - ALS embeddings - item_mean\n",
      "Training LinGreedy - BPR embeddings - item_mean\n",
      "Testing LinGreedy - BPR embeddings - item_mean\n",
      "Training LinUCB - ALS embeddings - user\n",
      "Testing LinUCB - ALS embeddings - user\n",
      "Training LinUCB - BPR embeddings - user\n",
      "Testing LinUCB - BPR embeddings - user\n",
      "Training LinGreedy - ALS embeddings - user\n",
      "Testing LinGreedy - ALS embeddings - user\n",
      "Training LinGreedy - BPR embeddings - user\n",
      "Testing LinGreedy - BPR embeddings - user\n",
      "Training LinUCB - ALS embeddings - item_concat-item_mean - 1\n",
      "Testing LinUCB - ALS embeddings - item_concat-item_mean - 1\n",
      "Training LinUCB - BPR embeddings - item_concat-item_mean - 1\n",
      "Testing LinUCB - BPR embeddings - item_concat-item_mean - 1\n",
      "Training LinGreedy - ALS embeddings - item_concat-item_mean - 1\n",
      "Testing LinGreedy - ALS embeddings - item_concat-item_mean - 1\n",
      "Training LinGreedy - BPR embeddings - item_concat-item_mean - 1\n",
      "Testing LinGreedy - BPR embeddings - item_concat-item_mean - 1\n",
      "Training LinUCB - ALS embeddings - item_concat-item_mean - 2\n",
      "Testing LinUCB - ALS embeddings - item_concat-item_mean - 2\n",
      "Training LinUCB - BPR embeddings - item_concat-item_mean - 2\n",
      "Testing LinUCB - BPR embeddings - item_concat-item_mean - 2\n",
      "Training LinGreedy - ALS embeddings - item_concat-item_mean - 2\n",
      "Testing LinGreedy - ALS embeddings - item_concat-item_mean - 2\n",
      "Training LinGreedy - BPR embeddings - item_concat-item_mean - 2\n",
      "Testing LinGreedy - BPR embeddings - item_concat-item_mean - 2\n",
      "Training LinUCB - ALS embeddings - item_concat-item_mean - 3\n",
      "Testing LinUCB - ALS embeddings - item_concat-item_mean - 3\n",
      "Training LinUCB - BPR embeddings - item_concat-item_mean - 3\n",
      "Testing LinUCB - BPR embeddings - item_concat-item_mean - 3\n",
      "Training LinGreedy - ALS embeddings - item_concat-item_mean - 3\n",
      "Testing LinGreedy - ALS embeddings - item_concat-item_mean - 3\n",
      "Training LinGreedy - BPR embeddings - item_concat-item_mean - 3\n",
      "Testing LinGreedy - BPR embeddings - item_concat-item_mean - 3\n",
      "Training LinUCB - ALS embeddings - item_concat-item_mean - 4\n",
      "Testing LinUCB - ALS embeddings - item_concat-item_mean - 4\n",
      "Training LinUCB - BPR embeddings - item_concat-item_mean - 4\n",
      "Testing LinUCB - BPR embeddings - item_concat-item_mean - 4\n",
      "Training LinGreedy - ALS embeddings - item_concat-item_mean - 4\n",
      "Testing LinGreedy - ALS embeddings - item_concat-item_mean - 4\n",
      "Training LinGreedy - BPR embeddings - item_concat-item_mean - 4\n",
      "Testing LinGreedy - BPR embeddings - item_concat-item_mean - 4\n",
      "Training LinUCB - ALS embeddings - item_concat-item_mean - 5\n",
      "Testing LinUCB - ALS embeddings - item_concat-item_mean - 5\n",
      "Training LinUCB - BPR embeddings - item_concat-item_mean - 5\n",
      "Testing LinUCB - BPR embeddings - item_concat-item_mean - 5\n",
      "Training LinGreedy - ALS embeddings - item_concat-item_mean - 5\n",
      "Testing LinGreedy - ALS embeddings - item_concat-item_mean - 5\n",
      "Training LinGreedy - BPR embeddings - item_concat-item_mean - 5\n",
      "Testing LinGreedy - BPR embeddings - item_concat-item_mean - 5\n",
      "Training LinUCB - ALS embeddings - item_concat-user - 1\n",
      "Testing LinUCB - ALS embeddings - item_concat-user - 1\n",
      "Training LinUCB - BPR embeddings - item_concat-user - 1\n",
      "Testing LinUCB - BPR embeddings - item_concat-user - 1\n",
      "Training LinGreedy - ALS embeddings - item_concat-user - 1\n",
      "Testing LinGreedy - ALS embeddings - item_concat-user - 1\n",
      "Training LinGreedy - BPR embeddings - item_concat-user - 1\n",
      "Testing LinGreedy - BPR embeddings - item_concat-user - 1\n",
      "Training LinUCB - ALS embeddings - item_concat-user - 2\n",
      "Testing LinUCB - ALS embeddings - item_concat-user - 2\n",
      "Training LinUCB - BPR embeddings - item_concat-user - 2\n",
      "Testing LinUCB - BPR embeddings - item_concat-user - 2\n",
      "Training LinGreedy - ALS embeddings - item_concat-user - 2\n",
      "Testing LinGreedy - ALS embeddings - item_concat-user - 2\n",
      "Training LinGreedy - BPR embeddings - item_concat-user - 2\n",
      "Testing LinGreedy - BPR embeddings - item_concat-user - 2\n",
      "Training LinUCB - ALS embeddings - item_concat-user - 3\n",
      "Testing LinUCB - ALS embeddings - item_concat-user - 3\n",
      "Training LinUCB - BPR embeddings - item_concat-user - 3\n",
      "Testing LinUCB - BPR embeddings - item_concat-user - 3\n",
      "Training LinGreedy - ALS embeddings - item_concat-user - 3\n",
      "Testing LinGreedy - ALS embeddings - item_concat-user - 3\n",
      "Training LinGreedy - BPR embeddings - item_concat-user - 3\n",
      "Testing LinGreedy - BPR embeddings - item_concat-user - 3\n",
      "Training LinUCB - ALS embeddings - item_concat-user - 4\n",
      "Testing LinUCB - ALS embeddings - item_concat-user - 4\n",
      "Training LinUCB - BPR embeddings - item_concat-user - 4\n",
      "Testing LinUCB - BPR embeddings - item_concat-user - 4\n",
      "Training LinGreedy - ALS embeddings - item_concat-user - 4\n",
      "Testing LinGreedy - ALS embeddings - item_concat-user - 4\n",
      "Training LinGreedy - BPR embeddings - item_concat-user - 4\n",
      "Testing LinGreedy - BPR embeddings - item_concat-user - 4\n",
      "Training LinUCB - ALS embeddings - item_concat-user - 5\n",
      "Testing LinUCB - ALS embeddings - item_concat-user - 5\n",
      "Training LinUCB - BPR embeddings - item_concat-user - 5\n",
      "Testing LinUCB - BPR embeddings - item_concat-user - 5\n",
      "Training LinGreedy - ALS embeddings - item_concat-user - 5\n",
      "Testing LinGreedy - ALS embeddings - item_concat-user - 5\n",
      "Training LinGreedy - BPR embeddings - item_concat-user - 5\n",
      "Testing LinGreedy - BPR embeddings - item_concat-user - 5\n",
      "Training LinUCB - ALS embeddings - item_mean-user\n",
      "Testing LinUCB - ALS embeddings - item_mean-user\n",
      "Training LinUCB - BPR embeddings - item_mean-user\n",
      "Testing LinUCB - BPR embeddings - item_mean-user\n",
      "Training LinGreedy - ALS embeddings - item_mean-user\n",
      "Testing LinGreedy - ALS embeddings - item_mean-user\n",
      "Training LinGreedy - BPR embeddings - item_mean-user\n",
      "Testing LinGreedy - BPR embeddings - item_mean-user\n",
      "Training LinUCB - ALS embeddings - all - 1\n",
      "Testing LinUCB - ALS embeddings - all - 1\n",
      "Training LinUCB - BPR embeddings - all - 1\n",
      "Testing LinUCB - BPR embeddings - all - 1\n",
      "Training LinGreedy - ALS embeddings - all - 1\n",
      "Testing LinGreedy - ALS embeddings - all - 1\n",
      "Training LinGreedy - BPR embeddings - all - 1\n",
      "Testing LinGreedy - BPR embeddings - all - 1\n",
      "Training LinUCB - ALS embeddings - all - 2\n",
      "Testing LinUCB - ALS embeddings - all - 2\n",
      "Training LinUCB - BPR embeddings - all - 2\n",
      "Testing LinUCB - BPR embeddings - all - 2\n",
      "Training LinGreedy - ALS embeddings - all - 2\n",
      "Testing LinGreedy - ALS embeddings - all - 2\n",
      "Training LinGreedy - BPR embeddings - all - 2\n",
      "Testing LinGreedy - BPR embeddings - all - 2\n",
      "Training LinUCB - ALS embeddings - all - 3\n",
      "Testing LinUCB - ALS embeddings - all - 3\n",
      "Training LinUCB - BPR embeddings - all - 3\n",
      "Testing LinUCB - BPR embeddings - all - 3\n",
      "Training LinGreedy - ALS embeddings - all - 3\n",
      "Testing LinGreedy - ALS embeddings - all - 3\n",
      "Training LinGreedy - BPR embeddings - all - 3\n",
      "Testing LinGreedy - BPR embeddings - all - 3\n",
      "Training LinUCB - ALS embeddings - all - 4\n",
      "Testing LinUCB - ALS embeddings - all - 4\n",
      "Training LinUCB - BPR embeddings - all - 4\n",
      "Testing LinUCB - BPR embeddings - all - 4\n",
      "Training LinGreedy - ALS embeddings - all - 4\n",
      "Testing LinGreedy - ALS embeddings - all - 4\n",
      "Training LinGreedy - BPR embeddings - all - 4\n",
      "Testing LinGreedy - BPR embeddings - all - 4\n",
      "Training LinUCB - ALS embeddings - all - 5\n",
      "Testing LinUCB - ALS embeddings - all - 5\n",
      "Training LinUCB - BPR embeddings - all - 5\n",
      "Testing LinUCB - BPR embeddings - all - 5\n",
      "Training LinGreedy - ALS embeddings - all - 5\n",
      "Testing LinGreedy - ALS embeddings - all - 5\n",
      "Training LinGreedy - BPR embeddings - all - 5\n",
      "Testing LinGreedy - BPR embeddings - all - 5\n",
      "Current extra train size: 1.0\n",
      "Training ALS\n"
     ]
    },
    {
     "data": {
      "application/vnd.jupyter.widget-view+json": {
       "model_id": "473f1e9f6e5f41d0a08d2fc82cc30466",
       "version_major": 2,
       "version_minor": 0
      },
      "text/plain": [
       "  0%|          | 0/15 [00:00<?, ?it/s]"
      ]
     },
     "metadata": {},
     "output_type": "display_data"
    },
    {
     "name": "stdout",
     "output_type": "stream",
     "text": [
      "Testing ALS\n",
      "Training BPR\n"
     ]
    },
    {
     "data": {
      "application/vnd.jupyter.widget-view+json": {
       "model_id": "8b6b58960b7f487b9f2b9226ea7a176c",
       "version_major": 2,
       "version_minor": 0
      },
      "text/plain": [
       "  0%|          | 0/100 [00:00<?, ?it/s]"
      ]
     },
     "metadata": {},
     "output_type": "display_data"
    },
    {
     "name": "stdout",
     "output_type": "stream",
     "text": [
      "Testing BPR\n",
      "Training LinUCB - ALS embeddings - item_concat - 1\n",
      "Testing LinUCB - ALS embeddings - item_concat - 1\n",
      "Training LinUCB - BPR embeddings - item_concat - 1\n",
      "Testing LinUCB - BPR embeddings - item_concat - 1\n",
      "Training LinGreedy - ALS embeddings - item_concat - 1\n",
      "Testing LinGreedy - ALS embeddings - item_concat - 1\n",
      "Training LinGreedy - BPR embeddings - item_concat - 1\n",
      "Testing LinGreedy - BPR embeddings - item_concat - 1\n",
      "Training LinUCB - ALS embeddings - item_concat - 2\n",
      "Testing LinUCB - ALS embeddings - item_concat - 2\n",
      "Training LinUCB - BPR embeddings - item_concat - 2\n",
      "Testing LinUCB - BPR embeddings - item_concat - 2\n",
      "Training LinGreedy - ALS embeddings - item_concat - 2\n",
      "Testing LinGreedy - ALS embeddings - item_concat - 2\n",
      "Training LinGreedy - BPR embeddings - item_concat - 2\n",
      "Testing LinGreedy - BPR embeddings - item_concat - 2\n",
      "Training LinUCB - ALS embeddings - item_concat - 3\n",
      "Testing LinUCB - ALS embeddings - item_concat - 3\n",
      "Training LinUCB - BPR embeddings - item_concat - 3\n",
      "Testing LinUCB - BPR embeddings - item_concat - 3\n",
      "Training LinGreedy - ALS embeddings - item_concat - 3\n",
      "Testing LinGreedy - ALS embeddings - item_concat - 3\n",
      "Training LinGreedy - BPR embeddings - item_concat - 3\n",
      "Testing LinGreedy - BPR embeddings - item_concat - 3\n",
      "Training LinUCB - ALS embeddings - item_concat - 4\n",
      "Testing LinUCB - ALS embeddings - item_concat - 4\n",
      "Training LinUCB - BPR embeddings - item_concat - 4\n",
      "Testing LinUCB - BPR embeddings - item_concat - 4\n",
      "Training LinGreedy - ALS embeddings - item_concat - 4\n",
      "Testing LinGreedy - ALS embeddings - item_concat - 4\n",
      "Training LinGreedy - BPR embeddings - item_concat - 4\n",
      "Testing LinGreedy - BPR embeddings - item_concat - 4\n",
      "Training LinUCB - ALS embeddings - item_concat - 5\n",
      "Testing LinUCB - ALS embeddings - item_concat - 5\n",
      "Training LinUCB - BPR embeddings - item_concat - 5\n",
      "Testing LinUCB - BPR embeddings - item_concat - 5\n",
      "Training LinGreedy - ALS embeddings - item_concat - 5\n",
      "Testing LinGreedy - ALS embeddings - item_concat - 5\n",
      "Training LinGreedy - BPR embeddings - item_concat - 5\n",
      "Testing LinGreedy - BPR embeddings - item_concat - 5\n",
      "Training LinUCB - ALS embeddings - item_mean\n",
      "Testing LinUCB - ALS embeddings - item_mean\n",
      "Training LinUCB - BPR embeddings - item_mean\n",
      "Testing LinUCB - BPR embeddings - item_mean\n",
      "Training LinGreedy - ALS embeddings - item_mean\n",
      "Testing LinGreedy - ALS embeddings - item_mean\n",
      "Training LinGreedy - BPR embeddings - item_mean\n",
      "Testing LinGreedy - BPR embeddings - item_mean\n",
      "Training LinUCB - ALS embeddings - user\n",
      "Testing LinUCB - ALS embeddings - user\n",
      "Training LinUCB - BPR embeddings - user\n",
      "Testing LinUCB - BPR embeddings - user\n",
      "Training LinGreedy - ALS embeddings - user\n",
      "Testing LinGreedy - ALS embeddings - user\n",
      "Training LinGreedy - BPR embeddings - user\n",
      "Testing LinGreedy - BPR embeddings - user\n",
      "Training LinUCB - ALS embeddings - item_concat-item_mean - 1\n",
      "Testing LinUCB - ALS embeddings - item_concat-item_mean - 1\n",
      "Training LinUCB - BPR embeddings - item_concat-item_mean - 1\n",
      "Testing LinUCB - BPR embeddings - item_concat-item_mean - 1\n",
      "Training LinGreedy - ALS embeddings - item_concat-item_mean - 1\n",
      "Testing LinGreedy - ALS embeddings - item_concat-item_mean - 1\n",
      "Training LinGreedy - BPR embeddings - item_concat-item_mean - 1\n",
      "Testing LinGreedy - BPR embeddings - item_concat-item_mean - 1\n",
      "Training LinUCB - ALS embeddings - item_concat-item_mean - 2\n",
      "Testing LinUCB - ALS embeddings - item_concat-item_mean - 2\n",
      "Training LinUCB - BPR embeddings - item_concat-item_mean - 2\n",
      "Testing LinUCB - BPR embeddings - item_concat-item_mean - 2\n",
      "Training LinGreedy - ALS embeddings - item_concat-item_mean - 2\n",
      "Testing LinGreedy - ALS embeddings - item_concat-item_mean - 2\n",
      "Training LinGreedy - BPR embeddings - item_concat-item_mean - 2\n",
      "Testing LinGreedy - BPR embeddings - item_concat-item_mean - 2\n",
      "Training LinUCB - ALS embeddings - item_concat-item_mean - 3\n",
      "Testing LinUCB - ALS embeddings - item_concat-item_mean - 3\n",
      "Training LinUCB - BPR embeddings - item_concat-item_mean - 3\n",
      "Testing LinUCB - BPR embeddings - item_concat-item_mean - 3\n",
      "Training LinGreedy - ALS embeddings - item_concat-item_mean - 3\n",
      "Testing LinGreedy - ALS embeddings - item_concat-item_mean - 3\n",
      "Training LinGreedy - BPR embeddings - item_concat-item_mean - 3\n",
      "Testing LinGreedy - BPR embeddings - item_concat-item_mean - 3\n",
      "Training LinUCB - ALS embeddings - item_concat-item_mean - 4\n",
      "Testing LinUCB - ALS embeddings - item_concat-item_mean - 4\n",
      "Training LinUCB - BPR embeddings - item_concat-item_mean - 4\n",
      "Testing LinUCB - BPR embeddings - item_concat-item_mean - 4\n",
      "Training LinGreedy - ALS embeddings - item_concat-item_mean - 4\n",
      "Testing LinGreedy - ALS embeddings - item_concat-item_mean - 4\n",
      "Training LinGreedy - BPR embeddings - item_concat-item_mean - 4\n",
      "Testing LinGreedy - BPR embeddings - item_concat-item_mean - 4\n",
      "Training LinUCB - ALS embeddings - item_concat-item_mean - 5\n",
      "Testing LinUCB - ALS embeddings - item_concat-item_mean - 5\n",
      "Training LinUCB - BPR embeddings - item_concat-item_mean - 5\n",
      "Testing LinUCB - BPR embeddings - item_concat-item_mean - 5\n",
      "Training LinGreedy - ALS embeddings - item_concat-item_mean - 5\n",
      "Testing LinGreedy - ALS embeddings - item_concat-item_mean - 5\n",
      "Training LinGreedy - BPR embeddings - item_concat-item_mean - 5\n",
      "Testing LinGreedy - BPR embeddings - item_concat-item_mean - 5\n",
      "Training LinUCB - ALS embeddings - item_concat-user - 1\n",
      "Testing LinUCB - ALS embeddings - item_concat-user - 1\n",
      "Training LinUCB - BPR embeddings - item_concat-user - 1\n",
      "Testing LinUCB - BPR embeddings - item_concat-user - 1\n",
      "Training LinGreedy - ALS embeddings - item_concat-user - 1\n",
      "Testing LinGreedy - ALS embeddings - item_concat-user - 1\n",
      "Training LinGreedy - BPR embeddings - item_concat-user - 1\n",
      "Testing LinGreedy - BPR embeddings - item_concat-user - 1\n",
      "Training LinUCB - ALS embeddings - item_concat-user - 2\n",
      "Testing LinUCB - ALS embeddings - item_concat-user - 2\n",
      "Training LinUCB - BPR embeddings - item_concat-user - 2\n",
      "Testing LinUCB - BPR embeddings - item_concat-user - 2\n",
      "Training LinGreedy - ALS embeddings - item_concat-user - 2\n",
      "Testing LinGreedy - ALS embeddings - item_concat-user - 2\n",
      "Training LinGreedy - BPR embeddings - item_concat-user - 2\n",
      "Testing LinGreedy - BPR embeddings - item_concat-user - 2\n",
      "Training LinUCB - ALS embeddings - item_concat-user - 3\n",
      "Testing LinUCB - ALS embeddings - item_concat-user - 3\n",
      "Training LinUCB - BPR embeddings - item_concat-user - 3\n",
      "Testing LinUCB - BPR embeddings - item_concat-user - 3\n",
      "Training LinGreedy - ALS embeddings - item_concat-user - 3\n",
      "Testing LinGreedy - ALS embeddings - item_concat-user - 3\n",
      "Training LinGreedy - BPR embeddings - item_concat-user - 3\n",
      "Testing LinGreedy - BPR embeddings - item_concat-user - 3\n",
      "Training LinUCB - ALS embeddings - item_concat-user - 4\n",
      "Testing LinUCB - ALS embeddings - item_concat-user - 4\n",
      "Training LinUCB - BPR embeddings - item_concat-user - 4\n",
      "Testing LinUCB - BPR embeddings - item_concat-user - 4\n",
      "Training LinGreedy - ALS embeddings - item_concat-user - 4\n",
      "Testing LinGreedy - ALS embeddings - item_concat-user - 4\n",
      "Training LinGreedy - BPR embeddings - item_concat-user - 4\n",
      "Testing LinGreedy - BPR embeddings - item_concat-user - 4\n",
      "Training LinUCB - ALS embeddings - item_concat-user - 5\n",
      "Testing LinUCB - ALS embeddings - item_concat-user - 5\n",
      "Training LinUCB - BPR embeddings - item_concat-user - 5\n",
      "Testing LinUCB - BPR embeddings - item_concat-user - 5\n",
      "Training LinGreedy - ALS embeddings - item_concat-user - 5\n",
      "Testing LinGreedy - ALS embeddings - item_concat-user - 5\n",
      "Training LinGreedy - BPR embeddings - item_concat-user - 5\n",
      "Testing LinGreedy - BPR embeddings - item_concat-user - 5\n",
      "Training LinUCB - ALS embeddings - item_mean-user\n",
      "Testing LinUCB - ALS embeddings - item_mean-user\n",
      "Training LinUCB - BPR embeddings - item_mean-user\n",
      "Testing LinUCB - BPR embeddings - item_mean-user\n",
      "Training LinGreedy - ALS embeddings - item_mean-user\n",
      "Testing LinGreedy - ALS embeddings - item_mean-user\n",
      "Training LinGreedy - BPR embeddings - item_mean-user\n",
      "Testing LinGreedy - BPR embeddings - item_mean-user\n",
      "Training LinUCB - ALS embeddings - all - 1\n",
      "Testing LinUCB - ALS embeddings - all - 1\n",
      "Training LinUCB - BPR embeddings - all - 1\n",
      "Testing LinUCB - BPR embeddings - all - 1\n",
      "Training LinGreedy - ALS embeddings - all - 1\n",
      "Testing LinGreedy - ALS embeddings - all - 1\n",
      "Training LinGreedy - BPR embeddings - all - 1\n",
      "Testing LinGreedy - BPR embeddings - all - 1\n",
      "Training LinUCB - ALS embeddings - all - 2\n",
      "Testing LinUCB - ALS embeddings - all - 2\n",
      "Training LinUCB - BPR embeddings - all - 2\n",
      "Testing LinUCB - BPR embeddings - all - 2\n",
      "Training LinGreedy - ALS embeddings - all - 2\n",
      "Testing LinGreedy - ALS embeddings - all - 2\n",
      "Training LinGreedy - BPR embeddings - all - 2\n",
      "Testing LinGreedy - BPR embeddings - all - 2\n",
      "Training LinUCB - ALS embeddings - all - 3\n",
      "Testing LinUCB - ALS embeddings - all - 3\n",
      "Training LinUCB - BPR embeddings - all - 3\n",
      "Testing LinUCB - BPR embeddings - all - 3\n",
      "Training LinGreedy - ALS embeddings - all - 3\n",
      "Testing LinGreedy - ALS embeddings - all - 3\n",
      "Training LinGreedy - BPR embeddings - all - 3\n",
      "Testing LinGreedy - BPR embeddings - all - 3\n",
      "Training LinUCB - ALS embeddings - all - 4\n",
      "Testing LinUCB - ALS embeddings - all - 4\n",
      "Training LinUCB - BPR embeddings - all - 4\n",
      "Testing LinUCB - BPR embeddings - all - 4\n",
      "Training LinGreedy - ALS embeddings - all - 4\n",
      "Testing LinGreedy - ALS embeddings - all - 4\n",
      "Training LinGreedy - BPR embeddings - all - 4\n",
      "Testing LinGreedy - BPR embeddings - all - 4\n",
      "Training LinUCB - ALS embeddings - all - 5\n",
      "Testing LinUCB - ALS embeddings - all - 5\n",
      "Training LinUCB - BPR embeddings - all - 5\n",
      "Testing LinUCB - BPR embeddings - all - 5\n",
      "Training LinGreedy - ALS embeddings - all - 5\n",
      "Testing LinGreedy - ALS embeddings - all - 5\n",
      "Training LinGreedy - BPR embeddings - all - 5\n",
      "Testing LinGreedy - BPR embeddings - all - 5\n"
     ]
    }
   ],
   "source": [
    "test(test_size=0.1, train_initial_size=0.5, train_extra_increment_step_size=0.1, windows_sizes=[1,2,3,4,5])"
   ]
  },
  {
   "cell_type": "code",
   "execution_count": 48,
   "metadata": {},
   "outputs": [],
   "source": [
    "df_results = pd.read_csv('results-v10/results-all.csv')"
   ]
  },
  {
   "cell_type": "code",
   "execution_count": 50,
   "metadata": {},
   "outputs": [
    {
     "data": {
      "application/vnd.plotly.v1+json": {
       "config": {
        "plotlyServerURL": "https://plot.ly"
       },
       "data": [
        {
         "hovertemplate": "algorithm=LinUCB - ALS embeddings - 1<br>train_size=%{x}<br>hr=%{y}<extra></extra>",
         "legendgroup": "LinUCB - ALS embeddings - 1",
         "line": {
          "color": "#636efa",
          "dash": "solid"
         },
         "marker": {
          "symbol": "circle"
         },
         "mode": "lines",
         "name": "LinUCB - ALS embeddings - 1",
         "orientation": "v",
         "showlegend": true,
         "type": "scatter",
         "x": [
          0,
          0.1,
          0.2,
          0.3,
          0.4,
          0.5,
          0.6,
          0.7,
          0.8,
          0.9,
          1
         ],
         "xaxis": "x",
         "y": [
          0.0369047619047619,
          0.0357142857142857,
          0.0333333333333333,
          0.0226190476190476,
          0.0261904761904761,
          0.0273809523809523,
          0.0261904761904761,
          0.0226190476190476,
          0.0226190476190476,
          0.0238095238095238,
          0.0238095238095238
         ],
         "yaxis": "y"
        },
        {
         "hovertemplate": "algorithm=LinUCB - BPR embeddings - 1<br>train_size=%{x}<br>hr=%{y}<extra></extra>",
         "legendgroup": "LinUCB - BPR embeddings - 1",
         "line": {
          "color": "#EF553B",
          "dash": "solid"
         },
         "marker": {
          "symbol": "circle"
         },
         "mode": "lines",
         "name": "LinUCB - BPR embeddings - 1",
         "orientation": "v",
         "showlegend": true,
         "type": "scatter",
         "x": [
          0,
          0.1,
          0.2,
          0.3,
          0.4,
          0.5,
          0.6,
          0.7,
          0.8,
          0.9,
          1
         ],
         "xaxis": "x",
         "y": [
          0.0059523809523809,
          0.0047619047619047,
          0.0047619047619047,
          0.0071428571428571,
          0.0059523809523809,
          0.0059523809523809,
          0.0059523809523809,
          0.0071428571428571,
          0.0071428571428571,
          0.0071428571428571,
          0.0071428571428571
         ],
         "yaxis": "y"
        },
        {
         "hovertemplate": "algorithm=LinGreedy - ALS embeddings - 1<br>train_size=%{x}<br>hr=%{y}<extra></extra>",
         "legendgroup": "LinGreedy - ALS embeddings - 1",
         "line": {
          "color": "#00cc96",
          "dash": "solid"
         },
         "marker": {
          "symbol": "circle"
         },
         "mode": "lines",
         "name": "LinGreedy - ALS embeddings - 1",
         "orientation": "v",
         "showlegend": true,
         "type": "scatter",
         "x": [
          0,
          0.1,
          0.2,
          0.3,
          0.4,
          0.5,
          0.6,
          0.7,
          0.8,
          0.9,
          1
         ],
         "xaxis": "x",
         "y": [
          0.0464285714285714,
          0.0452380952380952,
          0.0416666666666666,
          0.0392857142857142,
          0.0416666666666666,
          0.0369047619047619,
          0.0380952380952381,
          0.0380952380952381,
          0.0321428571428571,
          0.0309523809523809,
          0.0333333333333333
         ],
         "yaxis": "y"
        },
        {
         "hovertemplate": "algorithm=LinGreedy - BPR embeddings - 1<br>train_size=%{x}<br>hr=%{y}<extra></extra>",
         "legendgroup": "LinGreedy - BPR embeddings - 1",
         "line": {
          "color": "#ab63fa",
          "dash": "solid"
         },
         "marker": {
          "symbol": "circle"
         },
         "mode": "lines",
         "name": "LinGreedy - BPR embeddings - 1",
         "orientation": "v",
         "showlegend": true,
         "type": "scatter",
         "x": [
          0,
          0.1,
          0.2,
          0.3,
          0.4,
          0.5,
          0.6,
          0.7,
          0.8,
          0.9,
          1
         ],
         "xaxis": "x",
         "y": [
          0.0071428571428571,
          0.0107142857142857,
          0.0083333333333333,
          0.0083333333333333,
          0.0071428571428571,
          0.0059523809523809,
          0.0071428571428571,
          0.0071428571428571,
          0.0083333333333333,
          0.0095238095238095,
          0.0095238095238095
         ],
         "yaxis": "y"
        },
        {
         "hovertemplate": "algorithm=LinUCB - ALS embeddings - 2<br>train_size=%{x}<br>hr=%{y}<extra></extra>",
         "legendgroup": "LinUCB - ALS embeddings - 2",
         "line": {
          "color": "#FFA15A",
          "dash": "solid"
         },
         "marker": {
          "symbol": "circle"
         },
         "mode": "lines",
         "name": "LinUCB - ALS embeddings - 2",
         "orientation": "v",
         "showlegend": true,
         "type": "scatter",
         "x": [
          0,
          0.1,
          0.2,
          0.3,
          0.4,
          0.5,
          0.6,
          0.7,
          0.8,
          0.9,
          1
         ],
         "xaxis": "x",
         "y": [
          0.0285714285714285,
          0.0285714285714285,
          0.0238095238095238,
          0.025,
          0.0238095238095238,
          0.0226190476190476,
          0.0226190476190476,
          0.0202380952380952,
          0.019047619047619,
          0.019047619047619,
          0.0202380952380952
         ],
         "yaxis": "y"
        },
        {
         "hovertemplate": "algorithm=LinUCB - BPR embeddings - 2<br>train_size=%{x}<br>hr=%{y}<extra></extra>",
         "legendgroup": "LinUCB - BPR embeddings - 2",
         "line": {
          "color": "#19d3f3",
          "dash": "solid"
         },
         "marker": {
          "symbol": "circle"
         },
         "mode": "lines",
         "name": "LinUCB - BPR embeddings - 2",
         "orientation": "v",
         "showlegend": true,
         "type": "scatter",
         "x": [
          0,
          0.1,
          0.2,
          0.3,
          0.4,
          0.5,
          0.6,
          0.7,
          0.8,
          0.9,
          1
         ],
         "xaxis": "x",
         "y": [
          0.0107142857142857,
          0.0119047619047619,
          0.0107142857142857,
          0.0083333333333333,
          0.0107142857142857,
          0.0095238095238095,
          0.0095238095238095,
          0.0095238095238095,
          0.0083333333333333,
          0.0083333333333333,
          0.0071428571428571
         ],
         "yaxis": "y"
        },
        {
         "hovertemplate": "algorithm=LinGreedy - ALS embeddings - 2<br>train_size=%{x}<br>hr=%{y}<extra></extra>",
         "legendgroup": "LinGreedy - ALS embeddings - 2",
         "line": {
          "color": "#FF6692",
          "dash": "solid"
         },
         "marker": {
          "symbol": "circle"
         },
         "mode": "lines",
         "name": "LinGreedy - ALS embeddings - 2",
         "orientation": "v",
         "showlegend": true,
         "type": "scatter",
         "x": [
          0,
          0.1,
          0.2,
          0.3,
          0.4,
          0.5,
          0.6,
          0.7,
          0.8,
          0.9,
          1
         ],
         "xaxis": "x",
         "y": [
          0.044047619047619,
          0.0392857142857142,
          0.0309523809523809,
          0.0309523809523809,
          0.0380952380952381,
          0.0297619047619047,
          0.0285714285714285,
          0.0273809523809523,
          0.0261904761904761,
          0.0297619047619047,
          0.0297619047619047
         ],
         "yaxis": "y"
        },
        {
         "hovertemplate": "algorithm=LinGreedy - BPR embeddings - 2<br>train_size=%{x}<br>hr=%{y}<extra></extra>",
         "legendgroup": "LinGreedy - BPR embeddings - 2",
         "line": {
          "color": "#B6E880",
          "dash": "solid"
         },
         "marker": {
          "symbol": "circle"
         },
         "mode": "lines",
         "name": "LinGreedy - BPR embeddings - 2",
         "orientation": "v",
         "showlegend": true,
         "type": "scatter",
         "x": [
          0,
          0.1,
          0.2,
          0.3,
          0.4,
          0.5,
          0.6,
          0.7,
          0.8,
          0.9,
          1
         ],
         "xaxis": "x",
         "y": [
          0.0238095238095238,
          0.0214285714285714,
          0.0166666666666666,
          0.0154761904761904,
          0.013095238095238,
          0.0119047619047619,
          0.0119047619047619,
          0.0142857142857142,
          0.0119047619047619,
          0.0107142857142857,
          0.0059523809523809
         ],
         "yaxis": "y"
        },
        {
         "hovertemplate": "algorithm=LinUCB - ALS embeddings - 3<br>train_size=%{x}<br>hr=%{y}<extra></extra>",
         "legendgroup": "LinUCB - ALS embeddings - 3",
         "line": {
          "color": "#FF97FF",
          "dash": "solid"
         },
         "marker": {
          "symbol": "circle"
         },
         "mode": "lines",
         "name": "LinUCB - ALS embeddings - 3",
         "orientation": "v",
         "showlegend": true,
         "type": "scatter",
         "x": [
          0,
          0.1,
          0.2,
          0.3,
          0.4,
          0.5,
          0.6,
          0.7,
          0.8,
          0.9,
          1
         ],
         "xaxis": "x",
         "y": [
          0.025,
          0.0273809523809523,
          0.0214285714285714,
          0.019047619047619,
          0.0214285714285714,
          0.0178571428571428,
          0.0166666666666666,
          0.0154761904761904,
          0.0142857142857142,
          0.0142857142857142,
          0.0142857142857142
         ],
         "yaxis": "y"
        },
        {
         "hovertemplate": "algorithm=LinUCB - BPR embeddings - 3<br>train_size=%{x}<br>hr=%{y}<extra></extra>",
         "legendgroup": "LinUCB - BPR embeddings - 3",
         "line": {
          "color": "#FECB52",
          "dash": "solid"
         },
         "marker": {
          "symbol": "circle"
         },
         "mode": "lines",
         "name": "LinUCB - BPR embeddings - 3",
         "orientation": "v",
         "showlegend": true,
         "type": "scatter",
         "x": [
          0,
          0.1,
          0.2,
          0.3,
          0.4,
          0.5,
          0.6,
          0.7,
          0.8,
          0.9,
          1
         ],
         "xaxis": "x",
         "y": [
          0.013095238095238,
          0.013095238095238,
          0.013095238095238,
          0.0154761904761904,
          0.013095238095238,
          0.0154761904761904,
          0.0142857142857142,
          0.0142857142857142,
          0.0142857142857142,
          0.0119047619047619,
          0.013095238095238
         ],
         "yaxis": "y"
        },
        {
         "hovertemplate": "algorithm=LinGreedy - ALS embeddings - 3<br>train_size=%{x}<br>hr=%{y}<extra></extra>",
         "legendgroup": "LinGreedy - ALS embeddings - 3",
         "line": {
          "color": "#636efa",
          "dash": "solid"
         },
         "marker": {
          "symbol": "circle"
         },
         "mode": "lines",
         "name": "LinGreedy - ALS embeddings - 3",
         "orientation": "v",
         "showlegend": true,
         "type": "scatter",
         "x": [
          0,
          0.1,
          0.2,
          0.3,
          0.4,
          0.5,
          0.6,
          0.7,
          0.8,
          0.9,
          1
         ],
         "xaxis": "x",
         "y": [
          0.0380952380952381,
          0.0428571428571428,
          0.0392857142857142,
          0.0321428571428571,
          0.0345238095238095,
          0.0297619047619047,
          0.0297619047619047,
          0.0285714285714285,
          0.0261904761904761,
          0.0273809523809523,
          0.0238095238095238
         ],
         "yaxis": "y"
        },
        {
         "hovertemplate": "algorithm=LinGreedy - BPR embeddings - 3<br>train_size=%{x}<br>hr=%{y}<extra></extra>",
         "legendgroup": "LinGreedy - BPR embeddings - 3",
         "line": {
          "color": "#EF553B",
          "dash": "solid"
         },
         "marker": {
          "symbol": "circle"
         },
         "mode": "lines",
         "name": "LinGreedy - BPR embeddings - 3",
         "orientation": "v",
         "showlegend": true,
         "type": "scatter",
         "x": [
          0,
          0.1,
          0.2,
          0.3,
          0.4,
          0.5,
          0.6,
          0.7,
          0.8,
          0.9,
          1
         ],
         "xaxis": "x",
         "y": [
          0.0321428571428571,
          0.0297619047619047,
          0.0297619047619047,
          0.0226190476190476,
          0.0214285714285714,
          0.0178571428571428,
          0.0142857142857142,
          0.0142857142857142,
          0.0142857142857142,
          0.0142857142857142,
          0.013095238095238
         ],
         "yaxis": "y"
        },
        {
         "hovertemplate": "algorithm=LinUCB - ALS embeddings - 4<br>train_size=%{x}<br>hr=%{y}<extra></extra>",
         "legendgroup": "LinUCB - ALS embeddings - 4",
         "line": {
          "color": "#00cc96",
          "dash": "solid"
         },
         "marker": {
          "symbol": "circle"
         },
         "mode": "lines",
         "name": "LinUCB - ALS embeddings - 4",
         "orientation": "v",
         "showlegend": true,
         "type": "scatter",
         "x": [
          0,
          0.1,
          0.2,
          0.3,
          0.4,
          0.5,
          0.6,
          0.7,
          0.8,
          0.9,
          1
         ],
         "xaxis": "x",
         "y": [
          0.0261904761904761,
          0.0273809523809523,
          0.0238095238095238,
          0.019047619047619,
          0.0214285714285714,
          0.019047619047619,
          0.019047619047619,
          0.0154761904761904,
          0.0166666666666666,
          0.0142857142857142,
          0.013095238095238
         ],
         "yaxis": "y"
        },
        {
         "hovertemplate": "algorithm=LinUCB - BPR embeddings - 4<br>train_size=%{x}<br>hr=%{y}<extra></extra>",
         "legendgroup": "LinUCB - BPR embeddings - 4",
         "line": {
          "color": "#ab63fa",
          "dash": "solid"
         },
         "marker": {
          "symbol": "circle"
         },
         "mode": "lines",
         "name": "LinUCB - BPR embeddings - 4",
         "orientation": "v",
         "showlegend": true,
         "type": "scatter",
         "x": [
          0,
          0.1,
          0.2,
          0.3,
          0.4,
          0.5,
          0.6,
          0.7,
          0.8,
          0.9,
          1
         ],
         "xaxis": "x",
         "y": [
          0.0119047619047619,
          0.013095238095238,
          0.013095238095238,
          0.0178571428571428,
          0.013095238095238,
          0.0166666666666666,
          0.0154761904761904,
          0.0154761904761904,
          0.0154761904761904,
          0.013095238095238,
          0.0154761904761904
         ],
         "yaxis": "y"
        },
        {
         "hovertemplate": "algorithm=LinGreedy - ALS embeddings - 4<br>train_size=%{x}<br>hr=%{y}<extra></extra>",
         "legendgroup": "LinGreedy - ALS embeddings - 4",
         "line": {
          "color": "#FFA15A",
          "dash": "solid"
         },
         "marker": {
          "symbol": "circle"
         },
         "mode": "lines",
         "name": "LinGreedy - ALS embeddings - 4",
         "orientation": "v",
         "showlegend": true,
         "type": "scatter",
         "x": [
          0,
          0.1,
          0.2,
          0.3,
          0.4,
          0.5,
          0.6,
          0.7,
          0.8,
          0.9,
          1
         ],
         "xaxis": "x",
         "y": [
          0.0380952380952381,
          0.0357142857142857,
          0.0333333333333333,
          0.0345238095238095,
          0.0333333333333333,
          0.0309523809523809,
          0.0261904761904761,
          0.0238095238095238,
          0.0238095238095238,
          0.0226190476190476,
          0.0226190476190476
         ],
         "yaxis": "y"
        },
        {
         "hovertemplate": "algorithm=LinGreedy - BPR embeddings - 4<br>train_size=%{x}<br>hr=%{y}<extra></extra>",
         "legendgroup": "LinGreedy - BPR embeddings - 4",
         "line": {
          "color": "#19d3f3",
          "dash": "solid"
         },
         "marker": {
          "symbol": "circle"
         },
         "mode": "lines",
         "name": "LinGreedy - BPR embeddings - 4",
         "orientation": "v",
         "showlegend": true,
         "type": "scatter",
         "x": [
          0,
          0.1,
          0.2,
          0.3,
          0.4,
          0.5,
          0.6,
          0.7,
          0.8,
          0.9,
          1
         ],
         "xaxis": "x",
         "y": [
          0.0321428571428571,
          0.0273809523809523,
          0.0309523809523809,
          0.0261904761904761,
          0.0202380952380952,
          0.0226190476190476,
          0.019047619047619,
          0.019047619047619,
          0.019047619047619,
          0.0142857142857142,
          0.0154761904761904
         ],
         "yaxis": "y"
        },
        {
         "hovertemplate": "algorithm=LinUCB - ALS embeddings - 5<br>train_size=%{x}<br>hr=%{y}<extra></extra>",
         "legendgroup": "LinUCB - ALS embeddings - 5",
         "line": {
          "color": "#FF6692",
          "dash": "solid"
         },
         "marker": {
          "symbol": "circle"
         },
         "mode": "lines",
         "name": "LinUCB - ALS embeddings - 5",
         "orientation": "v",
         "showlegend": true,
         "type": "scatter",
         "x": [
          0,
          0.1,
          0.2,
          0.3,
          0.4,
          0.5,
          0.6,
          0.7,
          0.8,
          0.9,
          1
         ],
         "xaxis": "x",
         "y": [
          0.0261904761904761,
          0.0238095238095238,
          0.0154761904761904,
          0.0166666666666666,
          0.0202380952380952,
          0.0142857142857142,
          0.0154761904761904,
          0.0154761904761904,
          0.013095238095238,
          0.0142857142857142,
          0.0166666666666666
         ],
         "yaxis": "y"
        },
        {
         "hovertemplate": "algorithm=LinUCB - BPR embeddings - 5<br>train_size=%{x}<br>hr=%{y}<extra></extra>",
         "legendgroup": "LinUCB - BPR embeddings - 5",
         "line": {
          "color": "#B6E880",
          "dash": "solid"
         },
         "marker": {
          "symbol": "circle"
         },
         "mode": "lines",
         "name": "LinUCB - BPR embeddings - 5",
         "orientation": "v",
         "showlegend": true,
         "type": "scatter",
         "x": [
          0,
          0.1,
          0.2,
          0.3,
          0.4,
          0.5,
          0.6,
          0.7,
          0.8,
          0.9,
          1
         ],
         "xaxis": "x",
         "y": [
          0.013095238095238,
          0.0119047619047619,
          0.0119047619047619,
          0.019047619047619,
          0.013095238095238,
          0.0119047619047619,
          0.0119047619047619,
          0.0095238095238095,
          0.0095238095238095,
          0.0095238095238095,
          0.0107142857142857
         ],
         "yaxis": "y"
        },
        {
         "hovertemplate": "algorithm=LinGreedy - ALS embeddings - 5<br>train_size=%{x}<br>hr=%{y}<extra></extra>",
         "legendgroup": "LinGreedy - ALS embeddings - 5",
         "line": {
          "color": "#FF97FF",
          "dash": "solid"
         },
         "marker": {
          "symbol": "circle"
         },
         "mode": "lines",
         "name": "LinGreedy - ALS embeddings - 5",
         "orientation": "v",
         "showlegend": true,
         "type": "scatter",
         "x": [
          0,
          0.1,
          0.2,
          0.3,
          0.4,
          0.5,
          0.6,
          0.7,
          0.8,
          0.9,
          1
         ],
         "xaxis": "x",
         "y": [
          0.0416666666666666,
          0.0309523809523809,
          0.0297619047619047,
          0.0261904761904761,
          0.0261904761904761,
          0.0238095238095238,
          0.0238095238095238,
          0.0238095238095238,
          0.0226190476190476,
          0.025,
          0.0238095238095238
         ],
         "yaxis": "y"
        },
        {
         "hovertemplate": "algorithm=LinGreedy - BPR embeddings - 5<br>train_size=%{x}<br>hr=%{y}<extra></extra>",
         "legendgroup": "LinGreedy - BPR embeddings - 5",
         "line": {
          "color": "#FECB52",
          "dash": "solid"
         },
         "marker": {
          "symbol": "circle"
         },
         "mode": "lines",
         "name": "LinGreedy - BPR embeddings - 5",
         "orientation": "v",
         "showlegend": true,
         "type": "scatter",
         "x": [
          0,
          0.1,
          0.2,
          0.3,
          0.4,
          0.5,
          0.6,
          0.7,
          0.8,
          0.9,
          1
         ],
         "xaxis": "x",
         "y": [
          0.0404761904761904,
          0.0309523809523809,
          0.0380952380952381,
          0.0333333333333333,
          0.0238095238095238,
          0.0261904761904761,
          0.0166666666666666,
          0.0166666666666666,
          0.0154761904761904,
          0.0119047619047619,
          0.0142857142857142
         ],
         "yaxis": "y"
        },
        {
         "hovertemplate": "algorithm=ALS<br>train_size=%{x}<br>hr=%{y}<extra></extra>",
         "legendgroup": "ALS",
         "line": {
          "color": "#636efa",
          "dash": "solid"
         },
         "marker": {
          "symbol": "circle"
         },
         "mode": "lines",
         "name": "ALS",
         "orientation": "v",
         "showlegend": true,
         "type": "scatter",
         "x": [
          0,
          0.1,
          0.2,
          0.3,
          0.4,
          0.5,
          0.6,
          0.7,
          0.8,
          0.9,
          1
         ],
         "xaxis": "x",
         "y": [
          0.3107142857142857,
          0.3261904761904762,
          0.3345238095238095,
          0.3416666666666667,
          0.369047619047619,
          0.3809523809523809,
          0.425,
          0.4333333333333333,
          0.4595238095238095,
          0.5059523809523809,
          0.5321428571428571
         ],
         "yaxis": "y"
        },
        {
         "hovertemplate": "algorithm=BPR<br>train_size=%{x}<br>hr=%{y}<extra></extra>",
         "legendgroup": "BPR",
         "line": {
          "color": "#EF553B",
          "dash": "solid"
         },
         "marker": {
          "symbol": "circle"
         },
         "mode": "lines",
         "name": "BPR",
         "orientation": "v",
         "showlegend": true,
         "type": "scatter",
         "x": [
          0,
          0.1,
          0.2,
          0.3,
          0.4,
          0.5,
          0.6,
          0.7,
          0.8,
          0.9,
          1
         ],
         "xaxis": "x",
         "y": [
          0.2559523809523809,
          0.2928571428571428,
          0.3214285714285714,
          0.3214285714285714,
          0.3511904761904761,
          0.3988095238095238,
          0.4488095238095238,
          0.4869047619047619,
          0.5488095238095239,
          0.5869047619047619,
          0.6130952380952381
         ],
         "yaxis": "y"
        }
       ],
       "layout": {
        "legend": {
         "title": {
          "text": "algorithm"
         },
         "tracegroupgap": 0
        },
        "template": {
         "data": {
          "bar": [
           {
            "error_x": {
             "color": "#2a3f5f"
            },
            "error_y": {
             "color": "#2a3f5f"
            },
            "marker": {
             "line": {
              "color": "#E5ECF6",
              "width": 0.5
             },
             "pattern": {
              "fillmode": "overlay",
              "size": 10,
              "solidity": 0.2
             }
            },
            "type": "bar"
           }
          ],
          "barpolar": [
           {
            "marker": {
             "line": {
              "color": "#E5ECF6",
              "width": 0.5
             },
             "pattern": {
              "fillmode": "overlay",
              "size": 10,
              "solidity": 0.2
             }
            },
            "type": "barpolar"
           }
          ],
          "carpet": [
           {
            "aaxis": {
             "endlinecolor": "#2a3f5f",
             "gridcolor": "white",
             "linecolor": "white",
             "minorgridcolor": "white",
             "startlinecolor": "#2a3f5f"
            },
            "baxis": {
             "endlinecolor": "#2a3f5f",
             "gridcolor": "white",
             "linecolor": "white",
             "minorgridcolor": "white",
             "startlinecolor": "#2a3f5f"
            },
            "type": "carpet"
           }
          ],
          "choropleth": [
           {
            "colorbar": {
             "outlinewidth": 0,
             "ticks": ""
            },
            "type": "choropleth"
           }
          ],
          "contour": [
           {
            "colorbar": {
             "outlinewidth": 0,
             "ticks": ""
            },
            "colorscale": [
             [
              0,
              "#0d0887"
             ],
             [
              0.1111111111111111,
              "#46039f"
             ],
             [
              0.2222222222222222,
              "#7201a8"
             ],
             [
              0.3333333333333333,
              "#9c179e"
             ],
             [
              0.4444444444444444,
              "#bd3786"
             ],
             [
              0.5555555555555556,
              "#d8576b"
             ],
             [
              0.6666666666666666,
              "#ed7953"
             ],
             [
              0.7777777777777778,
              "#fb9f3a"
             ],
             [
              0.8888888888888888,
              "#fdca26"
             ],
             [
              1,
              "#f0f921"
             ]
            ],
            "type": "contour"
           }
          ],
          "contourcarpet": [
           {
            "colorbar": {
             "outlinewidth": 0,
             "ticks": ""
            },
            "type": "contourcarpet"
           }
          ],
          "heatmap": [
           {
            "colorbar": {
             "outlinewidth": 0,
             "ticks": ""
            },
            "colorscale": [
             [
              0,
              "#0d0887"
             ],
             [
              0.1111111111111111,
              "#46039f"
             ],
             [
              0.2222222222222222,
              "#7201a8"
             ],
             [
              0.3333333333333333,
              "#9c179e"
             ],
             [
              0.4444444444444444,
              "#bd3786"
             ],
             [
              0.5555555555555556,
              "#d8576b"
             ],
             [
              0.6666666666666666,
              "#ed7953"
             ],
             [
              0.7777777777777778,
              "#fb9f3a"
             ],
             [
              0.8888888888888888,
              "#fdca26"
             ],
             [
              1,
              "#f0f921"
             ]
            ],
            "type": "heatmap"
           }
          ],
          "heatmapgl": [
           {
            "colorbar": {
             "outlinewidth": 0,
             "ticks": ""
            },
            "colorscale": [
             [
              0,
              "#0d0887"
             ],
             [
              0.1111111111111111,
              "#46039f"
             ],
             [
              0.2222222222222222,
              "#7201a8"
             ],
             [
              0.3333333333333333,
              "#9c179e"
             ],
             [
              0.4444444444444444,
              "#bd3786"
             ],
             [
              0.5555555555555556,
              "#d8576b"
             ],
             [
              0.6666666666666666,
              "#ed7953"
             ],
             [
              0.7777777777777778,
              "#fb9f3a"
             ],
             [
              0.8888888888888888,
              "#fdca26"
             ],
             [
              1,
              "#f0f921"
             ]
            ],
            "type": "heatmapgl"
           }
          ],
          "histogram": [
           {
            "marker": {
             "pattern": {
              "fillmode": "overlay",
              "size": 10,
              "solidity": 0.2
             }
            },
            "type": "histogram"
           }
          ],
          "histogram2d": [
           {
            "colorbar": {
             "outlinewidth": 0,
             "ticks": ""
            },
            "colorscale": [
             [
              0,
              "#0d0887"
             ],
             [
              0.1111111111111111,
              "#46039f"
             ],
             [
              0.2222222222222222,
              "#7201a8"
             ],
             [
              0.3333333333333333,
              "#9c179e"
             ],
             [
              0.4444444444444444,
              "#bd3786"
             ],
             [
              0.5555555555555556,
              "#d8576b"
             ],
             [
              0.6666666666666666,
              "#ed7953"
             ],
             [
              0.7777777777777778,
              "#fb9f3a"
             ],
             [
              0.8888888888888888,
              "#fdca26"
             ],
             [
              1,
              "#f0f921"
             ]
            ],
            "type": "histogram2d"
           }
          ],
          "histogram2dcontour": [
           {
            "colorbar": {
             "outlinewidth": 0,
             "ticks": ""
            },
            "colorscale": [
             [
              0,
              "#0d0887"
             ],
             [
              0.1111111111111111,
              "#46039f"
             ],
             [
              0.2222222222222222,
              "#7201a8"
             ],
             [
              0.3333333333333333,
              "#9c179e"
             ],
             [
              0.4444444444444444,
              "#bd3786"
             ],
             [
              0.5555555555555556,
              "#d8576b"
             ],
             [
              0.6666666666666666,
              "#ed7953"
             ],
             [
              0.7777777777777778,
              "#fb9f3a"
             ],
             [
              0.8888888888888888,
              "#fdca26"
             ],
             [
              1,
              "#f0f921"
             ]
            ],
            "type": "histogram2dcontour"
           }
          ],
          "mesh3d": [
           {
            "colorbar": {
             "outlinewidth": 0,
             "ticks": ""
            },
            "type": "mesh3d"
           }
          ],
          "parcoords": [
           {
            "line": {
             "colorbar": {
              "outlinewidth": 0,
              "ticks": ""
             }
            },
            "type": "parcoords"
           }
          ],
          "pie": [
           {
            "automargin": true,
            "type": "pie"
           }
          ],
          "scatter": [
           {
            "fillpattern": {
             "fillmode": "overlay",
             "size": 10,
             "solidity": 0.2
            },
            "type": "scatter"
           }
          ],
          "scatter3d": [
           {
            "line": {
             "colorbar": {
              "outlinewidth": 0,
              "ticks": ""
             }
            },
            "marker": {
             "colorbar": {
              "outlinewidth": 0,
              "ticks": ""
             }
            },
            "type": "scatter3d"
           }
          ],
          "scattercarpet": [
           {
            "marker": {
             "colorbar": {
              "outlinewidth": 0,
              "ticks": ""
             }
            },
            "type": "scattercarpet"
           }
          ],
          "scattergeo": [
           {
            "marker": {
             "colorbar": {
              "outlinewidth": 0,
              "ticks": ""
             }
            },
            "type": "scattergeo"
           }
          ],
          "scattergl": [
           {
            "marker": {
             "colorbar": {
              "outlinewidth": 0,
              "ticks": ""
             }
            },
            "type": "scattergl"
           }
          ],
          "scattermapbox": [
           {
            "marker": {
             "colorbar": {
              "outlinewidth": 0,
              "ticks": ""
             }
            },
            "type": "scattermapbox"
           }
          ],
          "scatterpolar": [
           {
            "marker": {
             "colorbar": {
              "outlinewidth": 0,
              "ticks": ""
             }
            },
            "type": "scatterpolar"
           }
          ],
          "scatterpolargl": [
           {
            "marker": {
             "colorbar": {
              "outlinewidth": 0,
              "ticks": ""
             }
            },
            "type": "scatterpolargl"
           }
          ],
          "scatterternary": [
           {
            "marker": {
             "colorbar": {
              "outlinewidth": 0,
              "ticks": ""
             }
            },
            "type": "scatterternary"
           }
          ],
          "surface": [
           {
            "colorbar": {
             "outlinewidth": 0,
             "ticks": ""
            },
            "colorscale": [
             [
              0,
              "#0d0887"
             ],
             [
              0.1111111111111111,
              "#46039f"
             ],
             [
              0.2222222222222222,
              "#7201a8"
             ],
             [
              0.3333333333333333,
              "#9c179e"
             ],
             [
              0.4444444444444444,
              "#bd3786"
             ],
             [
              0.5555555555555556,
              "#d8576b"
             ],
             [
              0.6666666666666666,
              "#ed7953"
             ],
             [
              0.7777777777777778,
              "#fb9f3a"
             ],
             [
              0.8888888888888888,
              "#fdca26"
             ],
             [
              1,
              "#f0f921"
             ]
            ],
            "type": "surface"
           }
          ],
          "table": [
           {
            "cells": {
             "fill": {
              "color": "#EBF0F8"
             },
             "line": {
              "color": "white"
             }
            },
            "header": {
             "fill": {
              "color": "#C8D4E3"
             },
             "line": {
              "color": "white"
             }
            },
            "type": "table"
           }
          ]
         },
         "layout": {
          "annotationdefaults": {
           "arrowcolor": "#2a3f5f",
           "arrowhead": 0,
           "arrowwidth": 1
          },
          "autotypenumbers": "strict",
          "coloraxis": {
           "colorbar": {
            "outlinewidth": 0,
            "ticks": ""
           }
          },
          "colorscale": {
           "diverging": [
            [
             0,
             "#8e0152"
            ],
            [
             0.1,
             "#c51b7d"
            ],
            [
             0.2,
             "#de77ae"
            ],
            [
             0.3,
             "#f1b6da"
            ],
            [
             0.4,
             "#fde0ef"
            ],
            [
             0.5,
             "#f7f7f7"
            ],
            [
             0.6,
             "#e6f5d0"
            ],
            [
             0.7,
             "#b8e186"
            ],
            [
             0.8,
             "#7fbc41"
            ],
            [
             0.9,
             "#4d9221"
            ],
            [
             1,
             "#276419"
            ]
           ],
           "sequential": [
            [
             0,
             "#0d0887"
            ],
            [
             0.1111111111111111,
             "#46039f"
            ],
            [
             0.2222222222222222,
             "#7201a8"
            ],
            [
             0.3333333333333333,
             "#9c179e"
            ],
            [
             0.4444444444444444,
             "#bd3786"
            ],
            [
             0.5555555555555556,
             "#d8576b"
            ],
            [
             0.6666666666666666,
             "#ed7953"
            ],
            [
             0.7777777777777778,
             "#fb9f3a"
            ],
            [
             0.8888888888888888,
             "#fdca26"
            ],
            [
             1,
             "#f0f921"
            ]
           ],
           "sequentialminus": [
            [
             0,
             "#0d0887"
            ],
            [
             0.1111111111111111,
             "#46039f"
            ],
            [
             0.2222222222222222,
             "#7201a8"
            ],
            [
             0.3333333333333333,
             "#9c179e"
            ],
            [
             0.4444444444444444,
             "#bd3786"
            ],
            [
             0.5555555555555556,
             "#d8576b"
            ],
            [
             0.6666666666666666,
             "#ed7953"
            ],
            [
             0.7777777777777778,
             "#fb9f3a"
            ],
            [
             0.8888888888888888,
             "#fdca26"
            ],
            [
             1,
             "#f0f921"
            ]
           ]
          },
          "colorway": [
           "#636efa",
           "#EF553B",
           "#00cc96",
           "#ab63fa",
           "#FFA15A",
           "#19d3f3",
           "#FF6692",
           "#B6E880",
           "#FF97FF",
           "#FECB52"
          ],
          "font": {
           "color": "#2a3f5f"
          },
          "geo": {
           "bgcolor": "white",
           "lakecolor": "white",
           "landcolor": "#E5ECF6",
           "showlakes": true,
           "showland": true,
           "subunitcolor": "white"
          },
          "hoverlabel": {
           "align": "left"
          },
          "hovermode": "closest",
          "mapbox": {
           "style": "light"
          },
          "paper_bgcolor": "white",
          "plot_bgcolor": "#E5ECF6",
          "polar": {
           "angularaxis": {
            "gridcolor": "white",
            "linecolor": "white",
            "ticks": ""
           },
           "bgcolor": "#E5ECF6",
           "radialaxis": {
            "gridcolor": "white",
            "linecolor": "white",
            "ticks": ""
           }
          },
          "scene": {
           "xaxis": {
            "backgroundcolor": "#E5ECF6",
            "gridcolor": "white",
            "gridwidth": 2,
            "linecolor": "white",
            "showbackground": true,
            "ticks": "",
            "zerolinecolor": "white"
           },
           "yaxis": {
            "backgroundcolor": "#E5ECF6",
            "gridcolor": "white",
            "gridwidth": 2,
            "linecolor": "white",
            "showbackground": true,
            "ticks": "",
            "zerolinecolor": "white"
           },
           "zaxis": {
            "backgroundcolor": "#E5ECF6",
            "gridcolor": "white",
            "gridwidth": 2,
            "linecolor": "white",
            "showbackground": true,
            "ticks": "",
            "zerolinecolor": "white"
           }
          },
          "shapedefaults": {
           "line": {
            "color": "#2a3f5f"
           }
          },
          "ternary": {
           "aaxis": {
            "gridcolor": "white",
            "linecolor": "white",
            "ticks": ""
           },
           "baxis": {
            "gridcolor": "white",
            "linecolor": "white",
            "ticks": ""
           },
           "bgcolor": "#E5ECF6",
           "caxis": {
            "gridcolor": "white",
            "linecolor": "white",
            "ticks": ""
           }
          },
          "title": {
           "x": 0.05
          },
          "xaxis": {
           "automargin": true,
           "gridcolor": "white",
           "linecolor": "white",
           "ticks": "",
           "title": {
            "standoff": 15
           },
           "zerolinecolor": "white",
           "zerolinewidth": 2
          },
          "yaxis": {
           "automargin": true,
           "gridcolor": "white",
           "linecolor": "white",
           "ticks": "",
           "title": {
            "standoff": 15
           },
           "zerolinecolor": "white",
           "zerolinewidth": 2
          }
         }
        },
        "title": {
         "text": "HR x Train size"
        },
        "xaxis": {
         "anchor": "y",
         "domain": [
          0,
          1
         ],
         "title": {
          "text": "train_size"
         }
        },
        "yaxis": {
         "anchor": "x",
         "domain": [
          0,
          1
         ],
         "title": {
          "text": "hr"
         }
        }
       }
      }
     },
     "metadata": {},
     "output_type": "display_data"
    }
   ],
   "source": [
    "fig = px.line(df_results, x=\"train_size\", y=\"hr\", color='algorithm', title='HR x Train size')\n",
    "fig.show()\n",
    "fig.write_html('results-v10/hr_x_train_size.html')"
   ]
  },
  {
   "cell_type": "code",
   "execution_count": 51,
   "metadata": {},
   "outputs": [
    {
     "data": {
      "text/html": [
       "<div>\n",
       "<style scoped>\n",
       "    .dataframe tbody tr th:only-of-type {\n",
       "        vertical-align: middle;\n",
       "    }\n",
       "\n",
       "    .dataframe tbody tr th {\n",
       "        vertical-align: top;\n",
       "    }\n",
       "\n",
       "    .dataframe thead th {\n",
       "        text-align: right;\n",
       "    }\n",
       "</style>\n",
       "<table border=\"1\" class=\"dataframe\">\n",
       "  <thead>\n",
       "    <tr style=\"text-align: right;\">\n",
       "      <th></th>\n",
       "      <th>algorithm</th>\n",
       "      <th>hits</th>\n",
       "      <th>hr</th>\n",
       "      <th>time</th>\n",
       "      <th>train_size</th>\n",
       "      <th>test_size</th>\n",
       "      <th>test_interactions</th>\n",
       "    </tr>\n",
       "  </thead>\n",
       "  <tbody>\n",
       "    <tr>\n",
       "      <th>0</th>\n",
       "      <td>LinUCB - ALS embeddings - 1</td>\n",
       "      <td>31</td>\n",
       "      <td>0.036905</td>\n",
       "      <td>1.873478</td>\n",
       "      <td>0.0</td>\n",
       "      <td>0.1</td>\n",
       "      <td>840</td>\n",
       "    </tr>\n",
       "    <tr>\n",
       "      <th>1</th>\n",
       "      <td>LinUCB - BPR embeddings - 1</td>\n",
       "      <td>5</td>\n",
       "      <td>0.005952</td>\n",
       "      <td>2.864490</td>\n",
       "      <td>0.0</td>\n",
       "      <td>0.1</td>\n",
       "      <td>840</td>\n",
       "    </tr>\n",
       "    <tr>\n",
       "      <th>2</th>\n",
       "      <td>LinGreedy - ALS embeddings - 1</td>\n",
       "      <td>39</td>\n",
       "      <td>0.046429</td>\n",
       "      <td>1.102740</td>\n",
       "      <td>0.0</td>\n",
       "      <td>0.1</td>\n",
       "      <td>840</td>\n",
       "    </tr>\n",
       "    <tr>\n",
       "      <th>3</th>\n",
       "      <td>LinGreedy - BPR embeddings - 1</td>\n",
       "      <td>6</td>\n",
       "      <td>0.007143</td>\n",
       "      <td>1.060118</td>\n",
       "      <td>0.0</td>\n",
       "      <td>0.1</td>\n",
       "      <td>840</td>\n",
       "    </tr>\n",
       "    <tr>\n",
       "      <th>20</th>\n",
       "      <td>LinUCB - ALS embeddings - 1</td>\n",
       "      <td>30</td>\n",
       "      <td>0.035714</td>\n",
       "      <td>1.718469</td>\n",
       "      <td>0.1</td>\n",
       "      <td>0.1</td>\n",
       "      <td>840</td>\n",
       "    </tr>\n",
       "    <tr>\n",
       "      <th>...</th>\n",
       "      <td>...</td>\n",
       "      <td>...</td>\n",
       "      <td>...</td>\n",
       "      <td>...</td>\n",
       "      <td>...</td>\n",
       "      <td>...</td>\n",
       "      <td>...</td>\n",
       "    </tr>\n",
       "    <tr>\n",
       "      <th>237</th>\n",
       "      <td>BPR</td>\n",
       "      <td>461</td>\n",
       "      <td>0.548810</td>\n",
       "      <td>0.581911</td>\n",
       "      <td>0.8</td>\n",
       "      <td>0.1</td>\n",
       "      <td>840</td>\n",
       "    </tr>\n",
       "    <tr>\n",
       "      <th>238</th>\n",
       "      <td>ALS</td>\n",
       "      <td>425</td>\n",
       "      <td>0.505952</td>\n",
       "      <td>0.412163</td>\n",
       "      <td>0.9</td>\n",
       "      <td>0.1</td>\n",
       "      <td>840</td>\n",
       "    </tr>\n",
       "    <tr>\n",
       "      <th>239</th>\n",
       "      <td>BPR</td>\n",
       "      <td>493</td>\n",
       "      <td>0.586905</td>\n",
       "      <td>0.463421</td>\n",
       "      <td>0.9</td>\n",
       "      <td>0.1</td>\n",
       "      <td>840</td>\n",
       "    </tr>\n",
       "    <tr>\n",
       "      <th>240</th>\n",
       "      <td>ALS</td>\n",
       "      <td>447</td>\n",
       "      <td>0.532143</td>\n",
       "      <td>0.423573</td>\n",
       "      <td>1.0</td>\n",
       "      <td>0.1</td>\n",
       "      <td>840</td>\n",
       "    </tr>\n",
       "    <tr>\n",
       "      <th>241</th>\n",
       "      <td>BPR</td>\n",
       "      <td>515</td>\n",
       "      <td>0.613095</td>\n",
       "      <td>0.464391</td>\n",
       "      <td>1.0</td>\n",
       "      <td>0.1</td>\n",
       "      <td>840</td>\n",
       "    </tr>\n",
       "  </tbody>\n",
       "</table>\n",
       "<p>66 rows × 7 columns</p>\n",
       "</div>"
      ],
      "text/plain": [
       "                          algorithm  hits        hr      time  train_size  \\\n",
       "0       LinUCB - ALS embeddings - 1    31  0.036905  1.873478         0.0   \n",
       "1       LinUCB - BPR embeddings - 1     5  0.005952  2.864490         0.0   \n",
       "2    LinGreedy - ALS embeddings - 1    39  0.046429  1.102740         0.0   \n",
       "3    LinGreedy - BPR embeddings - 1     6  0.007143  1.060118         0.0   \n",
       "20      LinUCB - ALS embeddings - 1    30  0.035714  1.718469         0.1   \n",
       "..                              ...   ...       ...       ...         ...   \n",
       "237                             BPR   461  0.548810  0.581911         0.8   \n",
       "238                             ALS   425  0.505952  0.412163         0.9   \n",
       "239                             BPR   493  0.586905  0.463421         0.9   \n",
       "240                             ALS   447  0.532143  0.423573         1.0   \n",
       "241                             BPR   515  0.613095  0.464391         1.0   \n",
       "\n",
       "     test_size  test_interactions  \n",
       "0          0.1                840  \n",
       "1          0.1                840  \n",
       "2          0.1                840  \n",
       "3          0.1                840  \n",
       "20         0.1                840  \n",
       "..         ...                ...  \n",
       "237        0.1                840  \n",
       "238        0.1                840  \n",
       "239        0.1                840  \n",
       "240        0.1                840  \n",
       "241        0.1                840  \n",
       "\n",
       "[66 rows x 7 columns]"
      ]
     },
     "execution_count": 51,
     "metadata": {},
     "output_type": "execute_result"
    }
   ],
   "source": [
    "df_results = df_results[(df_results['algorithm'].str.contains('1')) | (df_results['algorithm'] == 'ALS') | (df_results['algorithm'] == 'BPR')]\n",
    "df_results"
   ]
  },
  {
   "cell_type": "code",
   "execution_count": 52,
   "metadata": {},
   "outputs": [
    {
     "data": {
      "text/html": [
       "<div>\n",
       "<style scoped>\n",
       "    .dataframe tbody tr th:only-of-type {\n",
       "        vertical-align: middle;\n",
       "    }\n",
       "\n",
       "    .dataframe tbody tr th {\n",
       "        vertical-align: top;\n",
       "    }\n",
       "\n",
       "    .dataframe thead th {\n",
       "        text-align: right;\n",
       "    }\n",
       "</style>\n",
       "<table border=\"1\" class=\"dataframe\">\n",
       "  <thead>\n",
       "    <tr style=\"text-align: right;\">\n",
       "      <th></th>\n",
       "      <th>algorithm</th>\n",
       "      <th>hits</th>\n",
       "      <th>hr</th>\n",
       "      <th>time</th>\n",
       "      <th>train_size</th>\n",
       "      <th>test_size</th>\n",
       "      <th>test_interactions</th>\n",
       "    </tr>\n",
       "  </thead>\n",
       "  <tbody>\n",
       "    <tr>\n",
       "      <th>0</th>\n",
       "      <td>LinUCB - ALS embeddings</td>\n",
       "      <td>31</td>\n",
       "      <td>0.036905</td>\n",
       "      <td>1.873478</td>\n",
       "      <td>0.0</td>\n",
       "      <td>0.1</td>\n",
       "      <td>840</td>\n",
       "    </tr>\n",
       "    <tr>\n",
       "      <th>1</th>\n",
       "      <td>LinUCB - BPR embeddings</td>\n",
       "      <td>5</td>\n",
       "      <td>0.005952</td>\n",
       "      <td>2.864490</td>\n",
       "      <td>0.0</td>\n",
       "      <td>0.1</td>\n",
       "      <td>840</td>\n",
       "    </tr>\n",
       "    <tr>\n",
       "      <th>2</th>\n",
       "      <td>LinGreedy - ALS embeddings</td>\n",
       "      <td>39</td>\n",
       "      <td>0.046429</td>\n",
       "      <td>1.102740</td>\n",
       "      <td>0.0</td>\n",
       "      <td>0.1</td>\n",
       "      <td>840</td>\n",
       "    </tr>\n",
       "    <tr>\n",
       "      <th>3</th>\n",
       "      <td>LinGreedy - BPR embeddings</td>\n",
       "      <td>6</td>\n",
       "      <td>0.007143</td>\n",
       "      <td>1.060118</td>\n",
       "      <td>0.0</td>\n",
       "      <td>0.1</td>\n",
       "      <td>840</td>\n",
       "    </tr>\n",
       "    <tr>\n",
       "      <th>20</th>\n",
       "      <td>LinUCB - ALS embeddings</td>\n",
       "      <td>30</td>\n",
       "      <td>0.035714</td>\n",
       "      <td>1.718469</td>\n",
       "      <td>0.1</td>\n",
       "      <td>0.1</td>\n",
       "      <td>840</td>\n",
       "    </tr>\n",
       "    <tr>\n",
       "      <th>...</th>\n",
       "      <td>...</td>\n",
       "      <td>...</td>\n",
       "      <td>...</td>\n",
       "      <td>...</td>\n",
       "      <td>...</td>\n",
       "      <td>...</td>\n",
       "      <td>...</td>\n",
       "    </tr>\n",
       "    <tr>\n",
       "      <th>237</th>\n",
       "      <td>BPR</td>\n",
       "      <td>461</td>\n",
       "      <td>0.548810</td>\n",
       "      <td>0.581911</td>\n",
       "      <td>0.8</td>\n",
       "      <td>0.1</td>\n",
       "      <td>840</td>\n",
       "    </tr>\n",
       "    <tr>\n",
       "      <th>238</th>\n",
       "      <td>ALS</td>\n",
       "      <td>425</td>\n",
       "      <td>0.505952</td>\n",
       "      <td>0.412163</td>\n",
       "      <td>0.9</td>\n",
       "      <td>0.1</td>\n",
       "      <td>840</td>\n",
       "    </tr>\n",
       "    <tr>\n",
       "      <th>239</th>\n",
       "      <td>BPR</td>\n",
       "      <td>493</td>\n",
       "      <td>0.586905</td>\n",
       "      <td>0.463421</td>\n",
       "      <td>0.9</td>\n",
       "      <td>0.1</td>\n",
       "      <td>840</td>\n",
       "    </tr>\n",
       "    <tr>\n",
       "      <th>240</th>\n",
       "      <td>ALS</td>\n",
       "      <td>447</td>\n",
       "      <td>0.532143</td>\n",
       "      <td>0.423573</td>\n",
       "      <td>1.0</td>\n",
       "      <td>0.1</td>\n",
       "      <td>840</td>\n",
       "    </tr>\n",
       "    <tr>\n",
       "      <th>241</th>\n",
       "      <td>BPR</td>\n",
       "      <td>515</td>\n",
       "      <td>0.613095</td>\n",
       "      <td>0.464391</td>\n",
       "      <td>1.0</td>\n",
       "      <td>0.1</td>\n",
       "      <td>840</td>\n",
       "    </tr>\n",
       "  </tbody>\n",
       "</table>\n",
       "<p>66 rows × 7 columns</p>\n",
       "</div>"
      ],
      "text/plain": [
       "                      algorithm  hits        hr      time  train_size  \\\n",
       "0       LinUCB - ALS embeddings    31  0.036905  1.873478         0.0   \n",
       "1       LinUCB - BPR embeddings     5  0.005952  2.864490         0.0   \n",
       "2    LinGreedy - ALS embeddings    39  0.046429  1.102740         0.0   \n",
       "3    LinGreedy - BPR embeddings     6  0.007143  1.060118         0.0   \n",
       "20      LinUCB - ALS embeddings    30  0.035714  1.718469         0.1   \n",
       "..                          ...   ...       ...       ...         ...   \n",
       "237                         BPR   461  0.548810  0.581911         0.8   \n",
       "238                         ALS   425  0.505952  0.412163         0.9   \n",
       "239                         BPR   493  0.586905  0.463421         0.9   \n",
       "240                         ALS   447  0.532143  0.423573         1.0   \n",
       "241                         BPR   515  0.613095  0.464391         1.0   \n",
       "\n",
       "     test_size  test_interactions  \n",
       "0          0.1                840  \n",
       "1          0.1                840  \n",
       "2          0.1                840  \n",
       "3          0.1                840  \n",
       "20         0.1                840  \n",
       "..         ...                ...  \n",
       "237        0.1                840  \n",
       "238        0.1                840  \n",
       "239        0.1                840  \n",
       "240        0.1                840  \n",
       "241        0.1                840  \n",
       "\n",
       "[66 rows x 7 columns]"
      ]
     },
     "execution_count": 52,
     "metadata": {},
     "output_type": "execute_result"
    }
   ],
   "source": [
    "df_results['algorithm'] = df_results['algorithm'].str.replace(' - 1', '')\n",
    "df_results"
   ]
  },
  {
   "cell_type": "code",
   "execution_count": 53,
   "metadata": {},
   "outputs": [],
   "source": [
    "def remove_incremental(df_results):\n",
    "    new_df = df_results[(~df_results['algorithm'].str.contains('incremental') | df_results['algorithm'].str.contains('non-incremental'))]\n",
    "    new_df['algorithm'] = new_df['algorithm'].str.replace(' - non-incremental', '')\n",
    "    return new_df"
   ]
  },
  {
   "cell_type": "code",
   "execution_count": 54,
   "metadata": {},
   "outputs": [],
   "source": [
    "def transform_in_upper_and_lower_bounds(df_results, algo_names):\n",
    "    train_sizes = sorted(df_results['train_size'].unique().tolist())\n",
    "    min_train_size = train_sizes[0]\n",
    "    max_train_size = train_sizes[-1]\n",
    "    qnt_train_sizes = len(train_sizes)\n",
    "\n",
    "    for algo_name in algo_names:\n",
    "        algo_row_lower = df_results[(df_results['algorithm'] == algo_name) & (df_results['train_size'] == min_train_size)]\n",
    "        df_lower = pd.DataFrame({\n",
    "            'algorithm': [f'{algo_name} lower'] * qnt_train_sizes,\n",
    "            'hits': [algo_row_lower['hits'].values[0]] * qnt_train_sizes,\n",
    "            'hr': [algo_row_lower['hr'].values[0]] * qnt_train_sizes,\n",
    "            'time': [algo_row_lower['time'].values[0]] * qnt_train_sizes,\n",
    "            'train_size': train_sizes,\n",
    "            'test_size': [algo_row_lower['test_size'].values[0]] * qnt_train_sizes,\n",
    "            'test_interactions': [algo_row_lower['test_interactions'].values[0]] * qnt_train_sizes\n",
    "        })\n",
    "        df_results = pd.concat([df_results, df_lower])\n",
    "\n",
    "        algo_row_upper = df_results[(df_results['algorithm'] == algo_name) & (df_results['train_size'] == max_train_size)]\n",
    "        df_upper = pd.DataFrame({\n",
    "            'algorithm': [f'{algo_name} upper'] * qnt_train_sizes,\n",
    "            'hits': [algo_row_upper['hits'].values[0]] * qnt_train_sizes,\n",
    "            'hr': [algo_row_upper['hr'].values[0]] * qnt_train_sizes,\n",
    "            'time': [algo_row_upper['time'].values[0]] * qnt_train_sizes,\n",
    "            'train_size': train_sizes,\n",
    "            'test_size': [algo_row_upper['test_size'].values[0]] * qnt_train_sizes,\n",
    "            'test_interactions': [algo_row_upper['test_interactions'].values[0]] * qnt_train_sizes\n",
    "        })\n",
    "        df_results = pd.concat([df_results, df_upper])\n",
    "\n",
    "        df_results = df_results[df_results['algorithm'] != algo_name]\n",
    "    \n",
    "    return df_results"
   ]
  },
  {
   "cell_type": "code",
   "execution_count": 55,
   "metadata": {},
   "outputs": [],
   "source": [
    "import plotly.graph_objects as go\n",
    "\n",
    "def plot_results(df_results, save_root):\n",
    "    df_results = remove_incremental(df_results)\n",
    "    df_results = transform_in_upper_and_lower_bounds(df_results, ['ALS', 'BPR'])\n",
    "\n",
    "    algos_configs = {\n",
    "        'ALS upper': {'color': 'blue', 'dash': 'dash'},\n",
    "        'ALS lower': {'color': 'blue', 'dash': 'dash'},\n",
    "        'BPR upper': {'color': 'red', 'dash': 'dash'},\n",
    "        'BPR lower': {'color': 'red', 'dash': 'dash'},\n",
    "        'LinUCB - ALS embeddings': {'color': 'green', 'dash': 'solid'},\n",
    "        'LinUCB - BPR embeddings': {'color': 'purple', 'dash': 'solid'},\n",
    "        'LinGreedy - ALS embeddings': {'color': 'orange', 'dash': 'solid'},\n",
    "        'LinGreedy - BPR embeddings': {'color': 'pink', 'dash': 'solid'}\n",
    "    }\n",
    "\n",
    "    fig = go.Figure()\n",
    "    for algo_name, config in algos_configs.items():\n",
    "        df_algo = df_results[df_results['algorithm'] == algo_name]\n",
    "        fig.add_trace(go.Scatter(x=df_algo['train_size'], y=df_algo['hr'], mode='lines', name=algo_name, line=dict(color=config['color'], dash=config['dash'])))\n",
    "    \n",
    "    fig.update_layout(title='HR x Train size', xaxis_title='Train size', yaxis_title='HR')\n",
    "    fig.show()\n",
    "\n",
    "    fig.write_html(f'{save_root}/hr_x_train_size.html')\n",
    "    fig.write_image(f'{save_root}/hr_x_train_size.png')"
   ]
  },
  {
   "cell_type": "code",
   "execution_count": 56,
   "metadata": {},
   "outputs": [
    {
     "data": {
      "text/html": [
       "<div>\n",
       "<style scoped>\n",
       "    .dataframe tbody tr th:only-of-type {\n",
       "        vertical-align: middle;\n",
       "    }\n",
       "\n",
       "    .dataframe tbody tr th {\n",
       "        vertical-align: top;\n",
       "    }\n",
       "\n",
       "    .dataframe thead th {\n",
       "        text-align: right;\n",
       "    }\n",
       "</style>\n",
       "<table border=\"1\" class=\"dataframe\">\n",
       "  <thead>\n",
       "    <tr style=\"text-align: right;\">\n",
       "      <th></th>\n",
       "      <th>algorithm</th>\n",
       "      <th>hits</th>\n",
       "      <th>hr</th>\n",
       "      <th>time</th>\n",
       "      <th>train_size</th>\n",
       "      <th>test_size</th>\n",
       "      <th>test_interactions</th>\n",
       "    </tr>\n",
       "  </thead>\n",
       "  <tbody>\n",
       "    <tr>\n",
       "      <th>0</th>\n",
       "      <td>LinUCB - ALS embeddings</td>\n",
       "      <td>31</td>\n",
       "      <td>0.036905</td>\n",
       "      <td>1.873478</td>\n",
       "      <td>0.0</td>\n",
       "      <td>0.1</td>\n",
       "      <td>840</td>\n",
       "    </tr>\n",
       "    <tr>\n",
       "      <th>1</th>\n",
       "      <td>LinUCB - BPR embeddings</td>\n",
       "      <td>5</td>\n",
       "      <td>0.005952</td>\n",
       "      <td>2.864490</td>\n",
       "      <td>0.0</td>\n",
       "      <td>0.1</td>\n",
       "      <td>840</td>\n",
       "    </tr>\n",
       "    <tr>\n",
       "      <th>2</th>\n",
       "      <td>LinGreedy - ALS embeddings</td>\n",
       "      <td>39</td>\n",
       "      <td>0.046429</td>\n",
       "      <td>1.102740</td>\n",
       "      <td>0.0</td>\n",
       "      <td>0.1</td>\n",
       "      <td>840</td>\n",
       "    </tr>\n",
       "    <tr>\n",
       "      <th>3</th>\n",
       "      <td>LinGreedy - BPR embeddings</td>\n",
       "      <td>6</td>\n",
       "      <td>0.007143</td>\n",
       "      <td>1.060118</td>\n",
       "      <td>0.0</td>\n",
       "      <td>0.1</td>\n",
       "      <td>840</td>\n",
       "    </tr>\n",
       "    <tr>\n",
       "      <th>20</th>\n",
       "      <td>LinUCB - ALS embeddings</td>\n",
       "      <td>30</td>\n",
       "      <td>0.035714</td>\n",
       "      <td>1.718469</td>\n",
       "      <td>0.1</td>\n",
       "      <td>0.1</td>\n",
       "      <td>840</td>\n",
       "    </tr>\n",
       "    <tr>\n",
       "      <th>...</th>\n",
       "      <td>...</td>\n",
       "      <td>...</td>\n",
       "      <td>...</td>\n",
       "      <td>...</td>\n",
       "      <td>...</td>\n",
       "      <td>...</td>\n",
       "      <td>...</td>\n",
       "    </tr>\n",
       "    <tr>\n",
       "      <th>237</th>\n",
       "      <td>BPR</td>\n",
       "      <td>461</td>\n",
       "      <td>0.548810</td>\n",
       "      <td>0.581911</td>\n",
       "      <td>0.8</td>\n",
       "      <td>0.1</td>\n",
       "      <td>840</td>\n",
       "    </tr>\n",
       "    <tr>\n",
       "      <th>238</th>\n",
       "      <td>ALS</td>\n",
       "      <td>425</td>\n",
       "      <td>0.505952</td>\n",
       "      <td>0.412163</td>\n",
       "      <td>0.9</td>\n",
       "      <td>0.1</td>\n",
       "      <td>840</td>\n",
       "    </tr>\n",
       "    <tr>\n",
       "      <th>239</th>\n",
       "      <td>BPR</td>\n",
       "      <td>493</td>\n",
       "      <td>0.586905</td>\n",
       "      <td>0.463421</td>\n",
       "      <td>0.9</td>\n",
       "      <td>0.1</td>\n",
       "      <td>840</td>\n",
       "    </tr>\n",
       "    <tr>\n",
       "      <th>240</th>\n",
       "      <td>ALS</td>\n",
       "      <td>447</td>\n",
       "      <td>0.532143</td>\n",
       "      <td>0.423573</td>\n",
       "      <td>1.0</td>\n",
       "      <td>0.1</td>\n",
       "      <td>840</td>\n",
       "    </tr>\n",
       "    <tr>\n",
       "      <th>241</th>\n",
       "      <td>BPR</td>\n",
       "      <td>515</td>\n",
       "      <td>0.613095</td>\n",
       "      <td>0.464391</td>\n",
       "      <td>1.0</td>\n",
       "      <td>0.1</td>\n",
       "      <td>840</td>\n",
       "    </tr>\n",
       "  </tbody>\n",
       "</table>\n",
       "<p>66 rows × 7 columns</p>\n",
       "</div>"
      ],
      "text/plain": [
       "                      algorithm  hits        hr      time  train_size  \\\n",
       "0       LinUCB - ALS embeddings    31  0.036905  1.873478         0.0   \n",
       "1       LinUCB - BPR embeddings     5  0.005952  2.864490         0.0   \n",
       "2    LinGreedy - ALS embeddings    39  0.046429  1.102740         0.0   \n",
       "3    LinGreedy - BPR embeddings     6  0.007143  1.060118         0.0   \n",
       "20      LinUCB - ALS embeddings    30  0.035714  1.718469         0.1   \n",
       "..                          ...   ...       ...       ...         ...   \n",
       "237                         BPR   461  0.548810  0.581911         0.8   \n",
       "238                         ALS   425  0.505952  0.412163         0.9   \n",
       "239                         BPR   493  0.586905  0.463421         0.9   \n",
       "240                         ALS   447  0.532143  0.423573         1.0   \n",
       "241                         BPR   515  0.613095  0.464391         1.0   \n",
       "\n",
       "     test_size  test_interactions  \n",
       "0          0.1                840  \n",
       "1          0.1                840  \n",
       "2          0.1                840  \n",
       "3          0.1                840  \n",
       "20         0.1                840  \n",
       "..         ...                ...  \n",
       "237        0.1                840  \n",
       "238        0.1                840  \n",
       "239        0.1                840  \n",
       "240        0.1                840  \n",
       "241        0.1                840  \n",
       "\n",
       "[66 rows x 7 columns]"
      ]
     },
     "metadata": {},
     "output_type": "display_data"
    },
    {
     "data": {
      "application/vnd.plotly.v1+json": {
       "config": {
        "plotlyServerURL": "https://plot.ly"
       },
       "data": [
        {
         "line": {
          "color": "blue",
          "dash": "dash"
         },
         "mode": "lines",
         "name": "ALS upper",
         "type": "scatter",
         "x": [
          0,
          0.1,
          0.2,
          0.3,
          0.4,
          0.5,
          0.6,
          0.7,
          0.8,
          0.9,
          1
         ],
         "y": [
          0.5321428571428571,
          0.5321428571428571,
          0.5321428571428571,
          0.5321428571428571,
          0.5321428571428571,
          0.5321428571428571,
          0.5321428571428571,
          0.5321428571428571,
          0.5321428571428571,
          0.5321428571428571,
          0.5321428571428571
         ]
        },
        {
         "line": {
          "color": "blue",
          "dash": "dash"
         },
         "mode": "lines",
         "name": "ALS lower",
         "type": "scatter",
         "x": [
          0,
          0.1,
          0.2,
          0.3,
          0.4,
          0.5,
          0.6,
          0.7,
          0.8,
          0.9,
          1
         ],
         "y": [
          0.3107142857142857,
          0.3107142857142857,
          0.3107142857142857,
          0.3107142857142857,
          0.3107142857142857,
          0.3107142857142857,
          0.3107142857142857,
          0.3107142857142857,
          0.3107142857142857,
          0.3107142857142857,
          0.3107142857142857
         ]
        },
        {
         "line": {
          "color": "red",
          "dash": "dash"
         },
         "mode": "lines",
         "name": "BPR upper",
         "type": "scatter",
         "x": [
          0,
          0.1,
          0.2,
          0.3,
          0.4,
          0.5,
          0.6,
          0.7,
          0.8,
          0.9,
          1
         ],
         "y": [
          0.6130952380952381,
          0.6130952380952381,
          0.6130952380952381,
          0.6130952380952381,
          0.6130952380952381,
          0.6130952380952381,
          0.6130952380952381,
          0.6130952380952381,
          0.6130952380952381,
          0.6130952380952381,
          0.6130952380952381
         ]
        },
        {
         "line": {
          "color": "red",
          "dash": "dash"
         },
         "mode": "lines",
         "name": "BPR lower",
         "type": "scatter",
         "x": [
          0,
          0.1,
          0.2,
          0.3,
          0.4,
          0.5,
          0.6,
          0.7,
          0.8,
          0.9,
          1
         ],
         "y": [
          0.2559523809523809,
          0.2559523809523809,
          0.2559523809523809,
          0.2559523809523809,
          0.2559523809523809,
          0.2559523809523809,
          0.2559523809523809,
          0.2559523809523809,
          0.2559523809523809,
          0.2559523809523809,
          0.2559523809523809
         ]
        },
        {
         "line": {
          "color": "green",
          "dash": "solid"
         },
         "mode": "lines",
         "name": "LinUCB - ALS embeddings",
         "type": "scatter",
         "x": [
          0,
          0.1,
          0.2,
          0.3,
          0.4,
          0.5,
          0.6,
          0.7,
          0.8,
          0.9,
          1
         ],
         "y": [
          0.0369047619047619,
          0.0357142857142857,
          0.0333333333333333,
          0.0226190476190476,
          0.0261904761904761,
          0.0273809523809523,
          0.0261904761904761,
          0.0226190476190476,
          0.0226190476190476,
          0.0238095238095238,
          0.0238095238095238
         ]
        },
        {
         "line": {
          "color": "purple",
          "dash": "solid"
         },
         "mode": "lines",
         "name": "LinUCB - BPR embeddings",
         "type": "scatter",
         "x": [
          0,
          0.1,
          0.2,
          0.3,
          0.4,
          0.5,
          0.6,
          0.7,
          0.8,
          0.9,
          1
         ],
         "y": [
          0.0059523809523809,
          0.0047619047619047,
          0.0047619047619047,
          0.0071428571428571,
          0.0059523809523809,
          0.0059523809523809,
          0.0059523809523809,
          0.0071428571428571,
          0.0071428571428571,
          0.0071428571428571,
          0.0071428571428571
         ]
        },
        {
         "line": {
          "color": "orange",
          "dash": "solid"
         },
         "mode": "lines",
         "name": "LinGreedy - ALS embeddings",
         "type": "scatter",
         "x": [
          0,
          0.1,
          0.2,
          0.3,
          0.4,
          0.5,
          0.6,
          0.7,
          0.8,
          0.9,
          1
         ],
         "y": [
          0.0464285714285714,
          0.0452380952380952,
          0.0416666666666666,
          0.0392857142857142,
          0.0416666666666666,
          0.0369047619047619,
          0.0380952380952381,
          0.0380952380952381,
          0.0321428571428571,
          0.0309523809523809,
          0.0333333333333333
         ]
        },
        {
         "line": {
          "color": "pink",
          "dash": "solid"
         },
         "mode": "lines",
         "name": "LinGreedy - BPR embeddings",
         "type": "scatter",
         "x": [
          0,
          0.1,
          0.2,
          0.3,
          0.4,
          0.5,
          0.6,
          0.7,
          0.8,
          0.9,
          1
         ],
         "y": [
          0.0071428571428571,
          0.0107142857142857,
          0.0083333333333333,
          0.0083333333333333,
          0.0071428571428571,
          0.0059523809523809,
          0.0071428571428571,
          0.0071428571428571,
          0.0083333333333333,
          0.0095238095238095,
          0.0095238095238095
         ]
        }
       ],
       "layout": {
        "template": {
         "data": {
          "bar": [
           {
            "error_x": {
             "color": "#2a3f5f"
            },
            "error_y": {
             "color": "#2a3f5f"
            },
            "marker": {
             "line": {
              "color": "#E5ECF6",
              "width": 0.5
             },
             "pattern": {
              "fillmode": "overlay",
              "size": 10,
              "solidity": 0.2
             }
            },
            "type": "bar"
           }
          ],
          "barpolar": [
           {
            "marker": {
             "line": {
              "color": "#E5ECF6",
              "width": 0.5
             },
             "pattern": {
              "fillmode": "overlay",
              "size": 10,
              "solidity": 0.2
             }
            },
            "type": "barpolar"
           }
          ],
          "carpet": [
           {
            "aaxis": {
             "endlinecolor": "#2a3f5f",
             "gridcolor": "white",
             "linecolor": "white",
             "minorgridcolor": "white",
             "startlinecolor": "#2a3f5f"
            },
            "baxis": {
             "endlinecolor": "#2a3f5f",
             "gridcolor": "white",
             "linecolor": "white",
             "minorgridcolor": "white",
             "startlinecolor": "#2a3f5f"
            },
            "type": "carpet"
           }
          ],
          "choropleth": [
           {
            "colorbar": {
             "outlinewidth": 0,
             "ticks": ""
            },
            "type": "choropleth"
           }
          ],
          "contour": [
           {
            "colorbar": {
             "outlinewidth": 0,
             "ticks": ""
            },
            "colorscale": [
             [
              0,
              "#0d0887"
             ],
             [
              0.1111111111111111,
              "#46039f"
             ],
             [
              0.2222222222222222,
              "#7201a8"
             ],
             [
              0.3333333333333333,
              "#9c179e"
             ],
             [
              0.4444444444444444,
              "#bd3786"
             ],
             [
              0.5555555555555556,
              "#d8576b"
             ],
             [
              0.6666666666666666,
              "#ed7953"
             ],
             [
              0.7777777777777778,
              "#fb9f3a"
             ],
             [
              0.8888888888888888,
              "#fdca26"
             ],
             [
              1,
              "#f0f921"
             ]
            ],
            "type": "contour"
           }
          ],
          "contourcarpet": [
           {
            "colorbar": {
             "outlinewidth": 0,
             "ticks": ""
            },
            "type": "contourcarpet"
           }
          ],
          "heatmap": [
           {
            "colorbar": {
             "outlinewidth": 0,
             "ticks": ""
            },
            "colorscale": [
             [
              0,
              "#0d0887"
             ],
             [
              0.1111111111111111,
              "#46039f"
             ],
             [
              0.2222222222222222,
              "#7201a8"
             ],
             [
              0.3333333333333333,
              "#9c179e"
             ],
             [
              0.4444444444444444,
              "#bd3786"
             ],
             [
              0.5555555555555556,
              "#d8576b"
             ],
             [
              0.6666666666666666,
              "#ed7953"
             ],
             [
              0.7777777777777778,
              "#fb9f3a"
             ],
             [
              0.8888888888888888,
              "#fdca26"
             ],
             [
              1,
              "#f0f921"
             ]
            ],
            "type": "heatmap"
           }
          ],
          "heatmapgl": [
           {
            "colorbar": {
             "outlinewidth": 0,
             "ticks": ""
            },
            "colorscale": [
             [
              0,
              "#0d0887"
             ],
             [
              0.1111111111111111,
              "#46039f"
             ],
             [
              0.2222222222222222,
              "#7201a8"
             ],
             [
              0.3333333333333333,
              "#9c179e"
             ],
             [
              0.4444444444444444,
              "#bd3786"
             ],
             [
              0.5555555555555556,
              "#d8576b"
             ],
             [
              0.6666666666666666,
              "#ed7953"
             ],
             [
              0.7777777777777778,
              "#fb9f3a"
             ],
             [
              0.8888888888888888,
              "#fdca26"
             ],
             [
              1,
              "#f0f921"
             ]
            ],
            "type": "heatmapgl"
           }
          ],
          "histogram": [
           {
            "marker": {
             "pattern": {
              "fillmode": "overlay",
              "size": 10,
              "solidity": 0.2
             }
            },
            "type": "histogram"
           }
          ],
          "histogram2d": [
           {
            "colorbar": {
             "outlinewidth": 0,
             "ticks": ""
            },
            "colorscale": [
             [
              0,
              "#0d0887"
             ],
             [
              0.1111111111111111,
              "#46039f"
             ],
             [
              0.2222222222222222,
              "#7201a8"
             ],
             [
              0.3333333333333333,
              "#9c179e"
             ],
             [
              0.4444444444444444,
              "#bd3786"
             ],
             [
              0.5555555555555556,
              "#d8576b"
             ],
             [
              0.6666666666666666,
              "#ed7953"
             ],
             [
              0.7777777777777778,
              "#fb9f3a"
             ],
             [
              0.8888888888888888,
              "#fdca26"
             ],
             [
              1,
              "#f0f921"
             ]
            ],
            "type": "histogram2d"
           }
          ],
          "histogram2dcontour": [
           {
            "colorbar": {
             "outlinewidth": 0,
             "ticks": ""
            },
            "colorscale": [
             [
              0,
              "#0d0887"
             ],
             [
              0.1111111111111111,
              "#46039f"
             ],
             [
              0.2222222222222222,
              "#7201a8"
             ],
             [
              0.3333333333333333,
              "#9c179e"
             ],
             [
              0.4444444444444444,
              "#bd3786"
             ],
             [
              0.5555555555555556,
              "#d8576b"
             ],
             [
              0.6666666666666666,
              "#ed7953"
             ],
             [
              0.7777777777777778,
              "#fb9f3a"
             ],
             [
              0.8888888888888888,
              "#fdca26"
             ],
             [
              1,
              "#f0f921"
             ]
            ],
            "type": "histogram2dcontour"
           }
          ],
          "mesh3d": [
           {
            "colorbar": {
             "outlinewidth": 0,
             "ticks": ""
            },
            "type": "mesh3d"
           }
          ],
          "parcoords": [
           {
            "line": {
             "colorbar": {
              "outlinewidth": 0,
              "ticks": ""
             }
            },
            "type": "parcoords"
           }
          ],
          "pie": [
           {
            "automargin": true,
            "type": "pie"
           }
          ],
          "scatter": [
           {
            "fillpattern": {
             "fillmode": "overlay",
             "size": 10,
             "solidity": 0.2
            },
            "type": "scatter"
           }
          ],
          "scatter3d": [
           {
            "line": {
             "colorbar": {
              "outlinewidth": 0,
              "ticks": ""
             }
            },
            "marker": {
             "colorbar": {
              "outlinewidth": 0,
              "ticks": ""
             }
            },
            "type": "scatter3d"
           }
          ],
          "scattercarpet": [
           {
            "marker": {
             "colorbar": {
              "outlinewidth": 0,
              "ticks": ""
             }
            },
            "type": "scattercarpet"
           }
          ],
          "scattergeo": [
           {
            "marker": {
             "colorbar": {
              "outlinewidth": 0,
              "ticks": ""
             }
            },
            "type": "scattergeo"
           }
          ],
          "scattergl": [
           {
            "marker": {
             "colorbar": {
              "outlinewidth": 0,
              "ticks": ""
             }
            },
            "type": "scattergl"
           }
          ],
          "scattermapbox": [
           {
            "marker": {
             "colorbar": {
              "outlinewidth": 0,
              "ticks": ""
             }
            },
            "type": "scattermapbox"
           }
          ],
          "scatterpolar": [
           {
            "marker": {
             "colorbar": {
              "outlinewidth": 0,
              "ticks": ""
             }
            },
            "type": "scatterpolar"
           }
          ],
          "scatterpolargl": [
           {
            "marker": {
             "colorbar": {
              "outlinewidth": 0,
              "ticks": ""
             }
            },
            "type": "scatterpolargl"
           }
          ],
          "scatterternary": [
           {
            "marker": {
             "colorbar": {
              "outlinewidth": 0,
              "ticks": ""
             }
            },
            "type": "scatterternary"
           }
          ],
          "surface": [
           {
            "colorbar": {
             "outlinewidth": 0,
             "ticks": ""
            },
            "colorscale": [
             [
              0,
              "#0d0887"
             ],
             [
              0.1111111111111111,
              "#46039f"
             ],
             [
              0.2222222222222222,
              "#7201a8"
             ],
             [
              0.3333333333333333,
              "#9c179e"
             ],
             [
              0.4444444444444444,
              "#bd3786"
             ],
             [
              0.5555555555555556,
              "#d8576b"
             ],
             [
              0.6666666666666666,
              "#ed7953"
             ],
             [
              0.7777777777777778,
              "#fb9f3a"
             ],
             [
              0.8888888888888888,
              "#fdca26"
             ],
             [
              1,
              "#f0f921"
             ]
            ],
            "type": "surface"
           }
          ],
          "table": [
           {
            "cells": {
             "fill": {
              "color": "#EBF0F8"
             },
             "line": {
              "color": "white"
             }
            },
            "header": {
             "fill": {
              "color": "#C8D4E3"
             },
             "line": {
              "color": "white"
             }
            },
            "type": "table"
           }
          ]
         },
         "layout": {
          "annotationdefaults": {
           "arrowcolor": "#2a3f5f",
           "arrowhead": 0,
           "arrowwidth": 1
          },
          "autotypenumbers": "strict",
          "coloraxis": {
           "colorbar": {
            "outlinewidth": 0,
            "ticks": ""
           }
          },
          "colorscale": {
           "diverging": [
            [
             0,
             "#8e0152"
            ],
            [
             0.1,
             "#c51b7d"
            ],
            [
             0.2,
             "#de77ae"
            ],
            [
             0.3,
             "#f1b6da"
            ],
            [
             0.4,
             "#fde0ef"
            ],
            [
             0.5,
             "#f7f7f7"
            ],
            [
             0.6,
             "#e6f5d0"
            ],
            [
             0.7,
             "#b8e186"
            ],
            [
             0.8,
             "#7fbc41"
            ],
            [
             0.9,
             "#4d9221"
            ],
            [
             1,
             "#276419"
            ]
           ],
           "sequential": [
            [
             0,
             "#0d0887"
            ],
            [
             0.1111111111111111,
             "#46039f"
            ],
            [
             0.2222222222222222,
             "#7201a8"
            ],
            [
             0.3333333333333333,
             "#9c179e"
            ],
            [
             0.4444444444444444,
             "#bd3786"
            ],
            [
             0.5555555555555556,
             "#d8576b"
            ],
            [
             0.6666666666666666,
             "#ed7953"
            ],
            [
             0.7777777777777778,
             "#fb9f3a"
            ],
            [
             0.8888888888888888,
             "#fdca26"
            ],
            [
             1,
             "#f0f921"
            ]
           ],
           "sequentialminus": [
            [
             0,
             "#0d0887"
            ],
            [
             0.1111111111111111,
             "#46039f"
            ],
            [
             0.2222222222222222,
             "#7201a8"
            ],
            [
             0.3333333333333333,
             "#9c179e"
            ],
            [
             0.4444444444444444,
             "#bd3786"
            ],
            [
             0.5555555555555556,
             "#d8576b"
            ],
            [
             0.6666666666666666,
             "#ed7953"
            ],
            [
             0.7777777777777778,
             "#fb9f3a"
            ],
            [
             0.8888888888888888,
             "#fdca26"
            ],
            [
             1,
             "#f0f921"
            ]
           ]
          },
          "colorway": [
           "#636efa",
           "#EF553B",
           "#00cc96",
           "#ab63fa",
           "#FFA15A",
           "#19d3f3",
           "#FF6692",
           "#B6E880",
           "#FF97FF",
           "#FECB52"
          ],
          "font": {
           "color": "#2a3f5f"
          },
          "geo": {
           "bgcolor": "white",
           "lakecolor": "white",
           "landcolor": "#E5ECF6",
           "showlakes": true,
           "showland": true,
           "subunitcolor": "white"
          },
          "hoverlabel": {
           "align": "left"
          },
          "hovermode": "closest",
          "mapbox": {
           "style": "light"
          },
          "paper_bgcolor": "white",
          "plot_bgcolor": "#E5ECF6",
          "polar": {
           "angularaxis": {
            "gridcolor": "white",
            "linecolor": "white",
            "ticks": ""
           },
           "bgcolor": "#E5ECF6",
           "radialaxis": {
            "gridcolor": "white",
            "linecolor": "white",
            "ticks": ""
           }
          },
          "scene": {
           "xaxis": {
            "backgroundcolor": "#E5ECF6",
            "gridcolor": "white",
            "gridwidth": 2,
            "linecolor": "white",
            "showbackground": true,
            "ticks": "",
            "zerolinecolor": "white"
           },
           "yaxis": {
            "backgroundcolor": "#E5ECF6",
            "gridcolor": "white",
            "gridwidth": 2,
            "linecolor": "white",
            "showbackground": true,
            "ticks": "",
            "zerolinecolor": "white"
           },
           "zaxis": {
            "backgroundcolor": "#E5ECF6",
            "gridcolor": "white",
            "gridwidth": 2,
            "linecolor": "white",
            "showbackground": true,
            "ticks": "",
            "zerolinecolor": "white"
           }
          },
          "shapedefaults": {
           "line": {
            "color": "#2a3f5f"
           }
          },
          "ternary": {
           "aaxis": {
            "gridcolor": "white",
            "linecolor": "white",
            "ticks": ""
           },
           "baxis": {
            "gridcolor": "white",
            "linecolor": "white",
            "ticks": ""
           },
           "bgcolor": "#E5ECF6",
           "caxis": {
            "gridcolor": "white",
            "linecolor": "white",
            "ticks": ""
           }
          },
          "title": {
           "x": 0.05
          },
          "xaxis": {
           "automargin": true,
           "gridcolor": "white",
           "linecolor": "white",
           "ticks": "",
           "title": {
            "standoff": 15
           },
           "zerolinecolor": "white",
           "zerolinewidth": 2
          },
          "yaxis": {
           "automargin": true,
           "gridcolor": "white",
           "linecolor": "white",
           "ticks": "",
           "title": {
            "standoff": 15
           },
           "zerolinecolor": "white",
           "zerolinewidth": 2
          }
         }
        },
        "title": {
         "text": "HR x Train size"
        },
        "xaxis": {
         "title": {
          "text": "Train size"
         }
        },
        "yaxis": {
         "title": {
          "text": "HR"
         }
        }
       }
      }
     },
     "metadata": {},
     "output_type": "display_data"
    }
   ],
   "source": [
    "display(df_results)\n",
    "\n",
    "plot_results(df_results, 'results-v10')"
   ]
  }
 ],
 "metadata": {
  "kernelspec": {
   "display_name": "RLRS-rllib",
   "language": "python",
   "name": "python3"
  },
  "language_info": {
   "codemirror_mode": {
    "name": "ipython",
    "version": 3
   },
   "file_extension": ".py",
   "mimetype": "text/x-python",
   "name": "python",
   "nbconvert_exporter": "python",
   "pygments_lexer": "ipython3",
   "version": "3.8.16"
  }
 },
 "nbformat": 4,
 "nbformat_minor": 2
}
