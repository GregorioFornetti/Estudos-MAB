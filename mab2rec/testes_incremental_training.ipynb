{
 "cells": [
  {
   "cell_type": "markdown",
   "metadata": {},
   "source": [
    "# Testes de treinamento incremental"
   ]
  },
  {
   "cell_type": "markdown",
   "metadata": {},
   "source": [
    "A ideia deste notebook é verificar se treinar os algoritmos de MAB durante as interações de teste geram alguma melhora para eles, comparando-os com os resultados de um algoritmo estático (ALS)."
   ]
  },
  {
   "cell_type": "code",
   "execution_count": 17,
   "metadata": {},
   "outputs": [],
   "source": [
    "import pandas as pd\n",
    "from mab2rec import BanditRecommender, LearningPolicy\n",
    "from mab2rec.pipeline import train\n",
    "from sklearn.preprocessing import LabelEncoder\n",
    "import implicit\n",
    "from scipy.sparse import csr_matrix\n",
    "from implicit.nearest_neighbours import bm25_weight\n",
    "import plotly.express as px\n",
    "import time\n",
    "\n",
    "train_data = \"../data/ml100k/data_train.csv\"\n",
    "test_data = \"../data/ml100k/data_test.csv\""
   ]
  },
  {
   "cell_type": "code",
   "execution_count": 2,
   "metadata": {},
   "outputs": [],
   "source": [
    "def initial_train(df, num_users, num_items):\n",
    "    FACTORS = 10\n",
    "    K1 = 100\n",
    "    B = 0.8\n",
    "\n",
    "    # Cria a matriz esparsa\n",
    "    sparse_matrix = csr_matrix((df['response'], (df['user_id'], df['item_id'])), shape=(num_users, num_items))\n",
    "    updated_sparse_matrix = bm25_weight(sparse_matrix, K1=K1, B=B)\n",
    "\n",
    "    print('Treinando o modelo ALS')\n",
    "    ALS_model = implicit.als.AlternatingLeastSquares(factors=FACTORS, random_state=1)\n",
    "    ALS_model.fit(updated_sparse_matrix)\n",
    "\n",
    "    user_features_list = []\n",
    "\n",
    "    for user_id in df['user_id'].unique():\n",
    "        user_factors = ALS_model.user_factors[user_id]\n",
    "        user_features_list.append([user_id] + list(user_factors))\n",
    "\n",
    "    df_user_features = pd.DataFrame(user_features_list, columns=['user_id'] + [f'u{i}' for i in range(FACTORS)])\n",
    "\n",
    "    print('Treinando o modelo LinUCB')\n",
    "    linUCB_model = BanditRecommender(learning_policy=LearningPolicy.LinUCB(), top_k=10)\n",
    "    train(linUCB_model, data=df, user_features=df_user_features)\n",
    "\n",
    "    print('Treinando o modelo LinGreedy')\n",
    "    linGreedy_model = BanditRecommender(learning_policy=LearningPolicy.LinGreedy(), top_k=10)\n",
    "    train(linGreedy_model, data=df, user_features=df_user_features)\n",
    "\n",
    "    return ALS_model, linUCB_model, linGreedy_model, df_user_features, sparse_matrix"
   ]
  },
  {
   "cell_type": "code",
   "execution_count": 3,
   "metadata": {},
   "outputs": [],
   "source": [
    "\n",
    "def test_ALS(ALS_model, sparse_matrix, df_test):\n",
    "    print('Testing ALS')\n",
    "\n",
    "    start_time = time.time()\n",
    "    hits = 0\n",
    "    for i, interaction in df_test.iterrows():\n",
    "        ids_recs, _ = ALS_model.recommend(userid=interaction['user_id'], user_items=sparse_matrix[interaction['user_id']], N=10)\n",
    "        if interaction['item_id'] in ids_recs:\n",
    "            hits += 1\n",
    "    \n",
    "\n",
    "    return hits, hits/len(df_test), time.time() - start_time"
   ]
  },
  {
   "cell_type": "code",
   "execution_count": 4,
   "metadata": {},
   "outputs": [],
   "source": [
    "def test_non_incremental(mab_algo, algo_name, user_features, df_test):\n",
    "    print(f'Testing {algo_name}')\n",
    "\n",
    "    start_time = time.time()\n",
    "    hits = 0\n",
    "\n",
    "    contexts = df_test.merge(user_features, on='user_id').drop(columns=['user_id', 'item_id', 'response']).values\n",
    "\n",
    "    recomendations = mab_algo.recommend(contexts)\n",
    "\n",
    "    df_test = df_test.reset_index(drop=True)\n",
    "\n",
    "    hits = 0\n",
    "    for i, interaction in df_test.iterrows():\n",
    "        if interaction['item_id'] in recomendations[i]:\n",
    "            hits += 1\n",
    "\n",
    "    return hits, hits/len(df_test), time.time() - start_time"
   ]
  },
  {
   "cell_type": "code",
   "execution_count": 5,
   "metadata": {},
   "outputs": [],
   "source": [
    "def test_incremental(mab_algo, algo_name, user_features, df_test, df_test_for_evaluation, batch_size):\n",
    "    print(f'Testing {algo_name} with batch size {batch_size}')\n",
    "\n",
    "    start_time = time.time()\n",
    "    hits = 0\n",
    "\n",
    "    for i in range(0, len(df_test), batch_size):\n",
    "        # Fazendo recomendações para teste\n",
    "        df_batch_test = df_test_for_evaluation.loc[i:i+batch_size-1]\n",
    "        contexts = df_batch_test.merge(user_features, on='user_id').drop(columns=['user_id', 'item_id', 'response']).values\n",
    "\n",
    "        if len(contexts) > 0: # Se não tiver nenhuma interação positiva, não faz sentido fazer recomendações\n",
    "            recomendations = mab_algo.recommend(contexts)\n",
    "            if isinstance(recomendations, list) and isinstance(recomendations[0], int):\n",
    "                # Quando o contexto tem tamanho 1, a recomendação é uma lista, e não uma lista de listas\n",
    "                recomendations = [recomendations]\n",
    "\n",
    "            df_batch_test = df_batch_test.reset_index(drop=True)\n",
    "\n",
    "            for j, interaction in df_batch_test.iterrows():\n",
    "                if interaction['item_id'] in recomendations[j]:\n",
    "                    hits += 1\n",
    "        \n",
    "        # Treinando com o batch\n",
    "        df_batch_train = df_test.loc[i:i+batch_size-1]\n",
    "        contexts = df_batch_train.merge(user_features, on='user_id').drop(columns=['user_id', 'item_id', 'response']).values\n",
    "\n",
    "        mab_algo.partial_fit(df_batch_train['item_id'], df_batch_train['response'], contexts)\n",
    "\n",
    "    return hits, hits/len(df_test_for_evaluation), time.time() - start_time"
   ]
  },
  {
   "cell_type": "code",
   "execution_count": 6,
   "metadata": {},
   "outputs": [],
   "source": [
    "def test(train_size, batchs_sizes):\n",
    "    results = []\n",
    "    df_train = pd.read_csv(train_data)\n",
    "    df_test = pd.read_csv(test_data)\n",
    "\n",
    "    df_full = pd.concat([df_train, df_test])\n",
    "\n",
    "    df_full['user_id'] = LabelEncoder().fit_transform(df_full['user_id'])\n",
    "    df_full['item_id'] = LabelEncoder().fit_transform(df_full['item_id'])\n",
    "\n",
    "    num_users = df_full['user_id'].nunique()\n",
    "    num_items = df_full['item_id'].nunique()\n",
    "\n",
    "    split_index = int(len(df_full) * train_size)\n",
    "    df_train = df_full[:split_index]\n",
    "    df_test = df_full[split_index:]\n",
    "\n",
    "    df_test = df_test[(df_test['user_id'].isin(df_train['user_id'])) & (df_test['item_id'].isin(df_train['item_id']))]\n",
    "    df_test = df_test.reset_index(drop=True)\n",
    "    df_test_for_evaluation = df_test[df_test['response'] == 1]\n",
    "\n",
    "    ALS_model, linUCB_model, linGreedy_model, df_user_features, sparse_matrix = initial_train(df_train, num_users, num_items)\n",
    "\n",
    "    hits, hr, spent_time = test_ALS(ALS_model, sparse_matrix, df_test_for_evaluation)\n",
    "    results.append({'algorithm': 'ALS', 'hits': hits, 'hr': hr, 'time': spent_time})\n",
    "\n",
    "    print('\\nTesting non-incremental\\n')\n",
    "\n",
    "    hits, hr, spent_time = test_non_incremental(linUCB_model, 'LinUCB', df_user_features, df_test_for_evaluation)\n",
    "    results.append({'algorithm': 'LinUCB (non_incremental)', 'hits': hits, 'hr': hr, 'time': spent_time})\n",
    "\n",
    "    hits, hr, spent_time = test_non_incremental(linGreedy_model, 'LinGreedy', df_user_features, df_test_for_evaluation)\n",
    "    results.append({'algorithm': 'LinGreedy (non_incremental)', 'hits': hits, 'hr': hr, 'time': spent_time})\n",
    "\n",
    "    print('\\nTesting incremental\\n')\n",
    "    \n",
    "    for batch_size in batchs_sizes:\n",
    "        hits, hr, spent_time = test_incremental(linUCB_model, 'LinUCB', df_user_features, df_test, df_test_for_evaluation, batch_size)\n",
    "        results.append({'algorithm': 'LinUCB (incremental)', 'hits': hits, 'hr': hr, 'time': spent_time, 'batch_size': batch_size})\n",
    "\n",
    "        hits, hr, spent_time = test_incremental(linGreedy_model, 'LinGreedy', df_user_features, df_test, df_test_for_evaluation, batch_size)\n",
    "        results.append({'algorithm': 'LinGreedy (incremental)', 'hits': hits, 'hr': hr, 'time': spent_time, 'batch_size': batch_size})\n",
    "    \n",
    "    df_results = pd.DataFrame(results)\n",
    "    df_results = df_results.astype({'hits': int, 'hr': float, 'time': float})\n",
    "    df_results['test_size'] = round(1 - train_size, 2)\n",
    "    df_results['test_interactions'] = len(df_test_for_evaluation)\n",
    "    return df_results"
   ]
  },
  {
   "cell_type": "code",
   "execution_count": null,
   "metadata": {},
   "outputs": [],
   "source": [
    "train_sizes = [0.95, 0.90, 0.85, 0.80, 0.75, 0.70, 0.65, 0.60, 0.55, 0.50, 0.45, 0.40, 0.35, 0.30, 0.25, 0.20, 0.15, 0.10, 0.05]\n",
    "batch_sizes = [1, 5, 10, 100, 1000]\n",
    "\n",
    "for train_size in train_sizes:\n",
    "    df_results = test(train_size, batch_sizes)\n",
    "    df_results.to_csv(f'results/results_{str(train_size)[2:]}.csv', index=False)"
   ]
  },
  {
   "cell_type": "code",
   "execution_count": 41,
   "metadata": {},
   "outputs": [
    {
     "data": {
      "text/html": [
       "<div>\n",
       "<style scoped>\n",
       "    .dataframe tbody tr th:only-of-type {\n",
       "        vertical-align: middle;\n",
       "    }\n",
       "\n",
       "    .dataframe tbody tr th {\n",
       "        vertical-align: top;\n",
       "    }\n",
       "\n",
       "    .dataframe thead th {\n",
       "        text-align: right;\n",
       "    }\n",
       "</style>\n",
       "<table border=\"1\" class=\"dataframe\">\n",
       "  <thead>\n",
       "    <tr style=\"text-align: right;\">\n",
       "      <th></th>\n",
       "      <th>algorithm</th>\n",
       "      <th>hits</th>\n",
       "      <th>hr</th>\n",
       "      <th>time</th>\n",
       "      <th>batch_size</th>\n",
       "      <th>test_size</th>\n",
       "      <th>test_interactions</th>\n",
       "    </tr>\n",
       "  </thead>\n",
       "  <tbody>\n",
       "    <tr>\n",
       "      <th>0</th>\n",
       "      <td>ALS</td>\n",
       "      <td>46</td>\n",
       "      <td>0.153846</td>\n",
       "      <td>0.128532</td>\n",
       "      <td>NaN</td>\n",
       "      <td>0.05</td>\n",
       "      <td>299</td>\n",
       "    </tr>\n",
       "    <tr>\n",
       "      <th>1</th>\n",
       "      <td>LinUCB (non_incremental)</td>\n",
       "      <td>22</td>\n",
       "      <td>0.073579</td>\n",
       "      <td>0.063014</td>\n",
       "      <td>NaN</td>\n",
       "      <td>0.05</td>\n",
       "      <td>299</td>\n",
       "    </tr>\n",
       "    <tr>\n",
       "      <th>2</th>\n",
       "      <td>LinGreedy (non_incremental)</td>\n",
       "      <td>22</td>\n",
       "      <td>0.073579</td>\n",
       "      <td>0.055520</td>\n",
       "      <td>NaN</td>\n",
       "      <td>0.05</td>\n",
       "      <td>299</td>\n",
       "    </tr>\n",
       "    <tr>\n",
       "      <th>3</th>\n",
       "      <td>LinUCB (incremental)</td>\n",
       "      <td>17</td>\n",
       "      <td>0.056856</td>\n",
       "      <td>61.364015</td>\n",
       "      <td>1.0</td>\n",
       "      <td>0.05</td>\n",
       "      <td>299</td>\n",
       "    </tr>\n",
       "    <tr>\n",
       "      <th>4</th>\n",
       "      <td>LinGreedy (incremental)</td>\n",
       "      <td>18</td>\n",
       "      <td>0.060201</td>\n",
       "      <td>48.162778</td>\n",
       "      <td>1.0</td>\n",
       "      <td>0.05</td>\n",
       "      <td>299</td>\n",
       "    </tr>\n",
       "    <tr>\n",
       "      <th>...</th>\n",
       "      <td>...</td>\n",
       "      <td>...</td>\n",
       "      <td>...</td>\n",
       "      <td>...</td>\n",
       "      <td>...</td>\n",
       "      <td>...</td>\n",
       "      <td>...</td>\n",
       "    </tr>\n",
       "    <tr>\n",
       "      <th>8</th>\n",
       "      <td>LinGreedy (incremental)</td>\n",
       "      <td>727</td>\n",
       "      <td>0.088207</td>\n",
       "      <td>167.795724</td>\n",
       "      <td>10.0</td>\n",
       "      <td>0.95</td>\n",
       "      <td>8242</td>\n",
       "    </tr>\n",
       "    <tr>\n",
       "      <th>9</th>\n",
       "      <td>LinUCB (incremental)</td>\n",
       "      <td>599</td>\n",
       "      <td>0.072677</td>\n",
       "      <td>25.703629</td>\n",
       "      <td>100.0</td>\n",
       "      <td>0.95</td>\n",
       "      <td>8242</td>\n",
       "    </tr>\n",
       "    <tr>\n",
       "      <th>10</th>\n",
       "      <td>LinGreedy (incremental)</td>\n",
       "      <td>700</td>\n",
       "      <td>0.084931</td>\n",
       "      <td>23.373372</td>\n",
       "      <td>100.0</td>\n",
       "      <td>0.95</td>\n",
       "      <td>8242</td>\n",
       "    </tr>\n",
       "    <tr>\n",
       "      <th>11</th>\n",
       "      <td>LinUCB (incremental)</td>\n",
       "      <td>592</td>\n",
       "      <td>0.071827</td>\n",
       "      <td>4.238766</td>\n",
       "      <td>1000.0</td>\n",
       "      <td>0.95</td>\n",
       "      <td>8242</td>\n",
       "    </tr>\n",
       "    <tr>\n",
       "      <th>12</th>\n",
       "      <td>LinGreedy (incremental)</td>\n",
       "      <td>689</td>\n",
       "      <td>0.083596</td>\n",
       "      <td>3.996951</td>\n",
       "      <td>1000.0</td>\n",
       "      <td>0.95</td>\n",
       "      <td>8242</td>\n",
       "    </tr>\n",
       "  </tbody>\n",
       "</table>\n",
       "<p>247 rows × 7 columns</p>\n",
       "</div>"
      ],
      "text/plain": [
       "                      algorithm  hits        hr        time  batch_size  \\\n",
       "0                           ALS    46  0.153846    0.128532         NaN   \n",
       "1      LinUCB (non_incremental)    22  0.073579    0.063014         NaN   \n",
       "2   LinGreedy (non_incremental)    22  0.073579    0.055520         NaN   \n",
       "3          LinUCB (incremental)    17  0.056856   61.364015         1.0   \n",
       "4       LinGreedy (incremental)    18  0.060201   48.162778         1.0   \n",
       "..                          ...   ...       ...         ...         ...   \n",
       "8       LinGreedy (incremental)   727  0.088207  167.795724        10.0   \n",
       "9          LinUCB (incremental)   599  0.072677   25.703629       100.0   \n",
       "10      LinGreedy (incremental)   700  0.084931   23.373372       100.0   \n",
       "11         LinUCB (incremental)   592  0.071827    4.238766      1000.0   \n",
       "12      LinGreedy (incremental)   689  0.083596    3.996951      1000.0   \n",
       "\n",
       "    test_size  test_interactions  \n",
       "0        0.05                299  \n",
       "1        0.05                299  \n",
       "2        0.05                299  \n",
       "3        0.05                299  \n",
       "4        0.05                299  \n",
       "..        ...                ...  \n",
       "8        0.95               8242  \n",
       "9        0.95               8242  \n",
       "10       0.95               8242  \n",
       "11       0.95               8242  \n",
       "12       0.95               8242  \n",
       "\n",
       "[247 rows x 7 columns]"
      ]
     },
     "execution_count": 41,
     "metadata": {},
     "output_type": "execute_result"
    }
   ],
   "source": [
    "all_dfs = []\n",
    "\n",
    "for train_size in train_sizes:\n",
    "    all_dfs.append(pd.read_csv(f'results/results_{str(train_size)[2:]}.csv'))\n",
    "    \n",
    "df_results = pd.concat(all_dfs)\n",
    "df_results"
   ]
  },
  {
   "cell_type": "code",
   "execution_count": 42,
   "metadata": {},
   "outputs": [],
   "source": [
    "df_results.to_csv('results/concat_results.csv', index=False)"
   ]
  },
  {
   "cell_type": "code",
   "execution_count": 43,
   "metadata": {},
   "outputs": [
    {
     "data": {
      "text/html": [
       "<div>\n",
       "<style scoped>\n",
       "    .dataframe tbody tr th:only-of-type {\n",
       "        vertical-align: middle;\n",
       "    }\n",
       "\n",
       "    .dataframe tbody tr th {\n",
       "        vertical-align: top;\n",
       "    }\n",
       "\n",
       "    .dataframe thead th {\n",
       "        text-align: right;\n",
       "    }\n",
       "</style>\n",
       "<table border=\"1\" class=\"dataframe\">\n",
       "  <thead>\n",
       "    <tr style=\"text-align: right;\">\n",
       "      <th></th>\n",
       "      <th>algorithm</th>\n",
       "      <th>hits</th>\n",
       "      <th>hr</th>\n",
       "      <th>time</th>\n",
       "      <th>batch_size</th>\n",
       "      <th>test_size</th>\n",
       "      <th>test_interactions</th>\n",
       "    </tr>\n",
       "  </thead>\n",
       "  <tbody>\n",
       "    <tr>\n",
       "      <th>3</th>\n",
       "      <td>LinUCB (incremental)</td>\n",
       "      <td>17</td>\n",
       "      <td>0.056856</td>\n",
       "      <td>61.364015</td>\n",
       "      <td>1.0</td>\n",
       "      <td>0.05</td>\n",
       "      <td>299</td>\n",
       "    </tr>\n",
       "    <tr>\n",
       "      <th>4</th>\n",
       "      <td>LinGreedy (incremental)</td>\n",
       "      <td>18</td>\n",
       "      <td>0.060201</td>\n",
       "      <td>48.162778</td>\n",
       "      <td>1.0</td>\n",
       "      <td>0.05</td>\n",
       "      <td>299</td>\n",
       "    </tr>\n",
       "    <tr>\n",
       "      <th>5</th>\n",
       "      <td>LinUCB (incremental)</td>\n",
       "      <td>20</td>\n",
       "      <td>0.066890</td>\n",
       "      <td>11.046569</td>\n",
       "      <td>5.0</td>\n",
       "      <td>0.05</td>\n",
       "      <td>299</td>\n",
       "    </tr>\n",
       "    <tr>\n",
       "      <th>6</th>\n",
       "      <td>LinGreedy (incremental)</td>\n",
       "      <td>17</td>\n",
       "      <td>0.056856</td>\n",
       "      <td>10.335075</td>\n",
       "      <td>5.0</td>\n",
       "      <td>0.05</td>\n",
       "      <td>299</td>\n",
       "    </tr>\n",
       "    <tr>\n",
       "      <th>7</th>\n",
       "      <td>LinUCB (incremental)</td>\n",
       "      <td>25</td>\n",
       "      <td>0.083612</td>\n",
       "      <td>5.859867</td>\n",
       "      <td>10.0</td>\n",
       "      <td>0.05</td>\n",
       "      <td>299</td>\n",
       "    </tr>\n",
       "    <tr>\n",
       "      <th>...</th>\n",
       "      <td>...</td>\n",
       "      <td>...</td>\n",
       "      <td>...</td>\n",
       "      <td>...</td>\n",
       "      <td>...</td>\n",
       "      <td>...</td>\n",
       "      <td>...</td>\n",
       "    </tr>\n",
       "    <tr>\n",
       "      <th>8</th>\n",
       "      <td>LinGreedy (incremental)</td>\n",
       "      <td>727</td>\n",
       "      <td>0.088207</td>\n",
       "      <td>167.795724</td>\n",
       "      <td>10.0</td>\n",
       "      <td>0.95</td>\n",
       "      <td>8242</td>\n",
       "    </tr>\n",
       "    <tr>\n",
       "      <th>9</th>\n",
       "      <td>LinUCB (incremental)</td>\n",
       "      <td>599</td>\n",
       "      <td>0.072677</td>\n",
       "      <td>25.703629</td>\n",
       "      <td>100.0</td>\n",
       "      <td>0.95</td>\n",
       "      <td>8242</td>\n",
       "    </tr>\n",
       "    <tr>\n",
       "      <th>10</th>\n",
       "      <td>LinGreedy (incremental)</td>\n",
       "      <td>700</td>\n",
       "      <td>0.084931</td>\n",
       "      <td>23.373372</td>\n",
       "      <td>100.0</td>\n",
       "      <td>0.95</td>\n",
       "      <td>8242</td>\n",
       "    </tr>\n",
       "    <tr>\n",
       "      <th>11</th>\n",
       "      <td>LinUCB (incremental)</td>\n",
       "      <td>592</td>\n",
       "      <td>0.071827</td>\n",
       "      <td>4.238766</td>\n",
       "      <td>1000.0</td>\n",
       "      <td>0.95</td>\n",
       "      <td>8242</td>\n",
       "    </tr>\n",
       "    <tr>\n",
       "      <th>12</th>\n",
       "      <td>LinGreedy (incremental)</td>\n",
       "      <td>689</td>\n",
       "      <td>0.083596</td>\n",
       "      <td>3.996951</td>\n",
       "      <td>1000.0</td>\n",
       "      <td>0.95</td>\n",
       "      <td>8242</td>\n",
       "    </tr>\n",
       "  </tbody>\n",
       "</table>\n",
       "<p>190 rows × 7 columns</p>\n",
       "</div>"
      ],
      "text/plain": [
       "                  algorithm  hits        hr        time  batch_size  \\\n",
       "3      LinUCB (incremental)    17  0.056856   61.364015         1.0   \n",
       "4   LinGreedy (incremental)    18  0.060201   48.162778         1.0   \n",
       "5      LinUCB (incremental)    20  0.066890   11.046569         5.0   \n",
       "6   LinGreedy (incremental)    17  0.056856   10.335075         5.0   \n",
       "7      LinUCB (incremental)    25  0.083612    5.859867        10.0   \n",
       "..                      ...   ...       ...         ...         ...   \n",
       "8   LinGreedy (incremental)   727  0.088207  167.795724        10.0   \n",
       "9      LinUCB (incremental)   599  0.072677   25.703629       100.0   \n",
       "10  LinGreedy (incremental)   700  0.084931   23.373372       100.0   \n",
       "11     LinUCB (incremental)   592  0.071827    4.238766      1000.0   \n",
       "12  LinGreedy (incremental)   689  0.083596    3.996951      1000.0   \n",
       "\n",
       "    test_size  test_interactions  \n",
       "3        0.05                299  \n",
       "4        0.05                299  \n",
       "5        0.05                299  \n",
       "6        0.05                299  \n",
       "7        0.05                299  \n",
       "..        ...                ...  \n",
       "8        0.95               8242  \n",
       "9        0.95               8242  \n",
       "10       0.95               8242  \n",
       "11       0.95               8242  \n",
       "12       0.95               8242  \n",
       "\n",
       "[190 rows x 7 columns]"
      ]
     },
     "execution_count": 43,
     "metadata": {},
     "output_type": "execute_result"
    }
   ],
   "source": [
    "df_results_incremental = df_results.dropna()\n",
    "df_results_incremental"
   ]
  },
  {
   "cell_type": "code",
   "execution_count": 44,
   "metadata": {},
   "outputs": [
    {
     "name": "stderr",
     "output_type": "stream",
     "text": [
      "C:\\Users\\gregf\\AppData\\Local\\Temp\\ipykernel_15884\\172089932.py:1: SettingWithCopyWarning:\n",
      "\n",
      "\n",
      "A value is trying to be set on a copy of a slice from a DataFrame.\n",
      "Try using .loc[row_indexer,col_indexer] = value instead\n",
      "\n",
      "See the caveats in the documentation: https://pandas.pydata.org/pandas-docs/stable/user_guide/indexing.html#returning-a-view-versus-a-copy\n",
      "\n"
     ]
    },
    {
     "data": {
      "text/html": [
       "<div>\n",
       "<style scoped>\n",
       "    .dataframe tbody tr th:only-of-type {\n",
       "        vertical-align: middle;\n",
       "    }\n",
       "\n",
       "    .dataframe tbody tr th {\n",
       "        vertical-align: top;\n",
       "    }\n",
       "\n",
       "    .dataframe thead th {\n",
       "        text-align: right;\n",
       "    }\n",
       "</style>\n",
       "<table border=\"1\" class=\"dataframe\">\n",
       "  <thead>\n",
       "    <tr style=\"text-align: right;\">\n",
       "      <th></th>\n",
       "      <th>algorithm</th>\n",
       "      <th>hits</th>\n",
       "      <th>hr</th>\n",
       "      <th>time</th>\n",
       "      <th>batch_size</th>\n",
       "      <th>test_size</th>\n",
       "      <th>test_interactions</th>\n",
       "      <th>algo_batch</th>\n",
       "    </tr>\n",
       "  </thead>\n",
       "  <tbody>\n",
       "    <tr>\n",
       "      <th>3</th>\n",
       "      <td>LinUCB (incremental)</td>\n",
       "      <td>17</td>\n",
       "      <td>0.056856</td>\n",
       "      <td>61.364015</td>\n",
       "      <td>1.0</td>\n",
       "      <td>0.05</td>\n",
       "      <td>299</td>\n",
       "      <td>LinUCB (incremental) - 1.0</td>\n",
       "    </tr>\n",
       "    <tr>\n",
       "      <th>4</th>\n",
       "      <td>LinGreedy (incremental)</td>\n",
       "      <td>18</td>\n",
       "      <td>0.060201</td>\n",
       "      <td>48.162778</td>\n",
       "      <td>1.0</td>\n",
       "      <td>0.05</td>\n",
       "      <td>299</td>\n",
       "      <td>LinGreedy (incremental) - 1.0</td>\n",
       "    </tr>\n",
       "    <tr>\n",
       "      <th>5</th>\n",
       "      <td>LinUCB (incremental)</td>\n",
       "      <td>20</td>\n",
       "      <td>0.066890</td>\n",
       "      <td>11.046569</td>\n",
       "      <td>5.0</td>\n",
       "      <td>0.05</td>\n",
       "      <td>299</td>\n",
       "      <td>LinUCB (incremental) - 5.0</td>\n",
       "    </tr>\n",
       "    <tr>\n",
       "      <th>6</th>\n",
       "      <td>LinGreedy (incremental)</td>\n",
       "      <td>17</td>\n",
       "      <td>0.056856</td>\n",
       "      <td>10.335075</td>\n",
       "      <td>5.0</td>\n",
       "      <td>0.05</td>\n",
       "      <td>299</td>\n",
       "      <td>LinGreedy (incremental) - 5.0</td>\n",
       "    </tr>\n",
       "    <tr>\n",
       "      <th>7</th>\n",
       "      <td>LinUCB (incremental)</td>\n",
       "      <td>25</td>\n",
       "      <td>0.083612</td>\n",
       "      <td>5.859867</td>\n",
       "      <td>10.0</td>\n",
       "      <td>0.05</td>\n",
       "      <td>299</td>\n",
       "      <td>LinUCB (incremental) - 10.0</td>\n",
       "    </tr>\n",
       "    <tr>\n",
       "      <th>...</th>\n",
       "      <td>...</td>\n",
       "      <td>...</td>\n",
       "      <td>...</td>\n",
       "      <td>...</td>\n",
       "      <td>...</td>\n",
       "      <td>...</td>\n",
       "      <td>...</td>\n",
       "      <td>...</td>\n",
       "    </tr>\n",
       "    <tr>\n",
       "      <th>8</th>\n",
       "      <td>LinGreedy (incremental)</td>\n",
       "      <td>727</td>\n",
       "      <td>0.088207</td>\n",
       "      <td>167.795724</td>\n",
       "      <td>10.0</td>\n",
       "      <td>0.95</td>\n",
       "      <td>8242</td>\n",
       "      <td>LinGreedy (incremental) - 10.0</td>\n",
       "    </tr>\n",
       "    <tr>\n",
       "      <th>9</th>\n",
       "      <td>LinUCB (incremental)</td>\n",
       "      <td>599</td>\n",
       "      <td>0.072677</td>\n",
       "      <td>25.703629</td>\n",
       "      <td>100.0</td>\n",
       "      <td>0.95</td>\n",
       "      <td>8242</td>\n",
       "      <td>LinUCB (incremental) - 100.0</td>\n",
       "    </tr>\n",
       "    <tr>\n",
       "      <th>10</th>\n",
       "      <td>LinGreedy (incremental)</td>\n",
       "      <td>700</td>\n",
       "      <td>0.084931</td>\n",
       "      <td>23.373372</td>\n",
       "      <td>100.0</td>\n",
       "      <td>0.95</td>\n",
       "      <td>8242</td>\n",
       "      <td>LinGreedy (incremental) - 100.0</td>\n",
       "    </tr>\n",
       "    <tr>\n",
       "      <th>11</th>\n",
       "      <td>LinUCB (incremental)</td>\n",
       "      <td>592</td>\n",
       "      <td>0.071827</td>\n",
       "      <td>4.238766</td>\n",
       "      <td>1000.0</td>\n",
       "      <td>0.95</td>\n",
       "      <td>8242</td>\n",
       "      <td>LinUCB (incremental) - 1000.0</td>\n",
       "    </tr>\n",
       "    <tr>\n",
       "      <th>12</th>\n",
       "      <td>LinGreedy (incremental)</td>\n",
       "      <td>689</td>\n",
       "      <td>0.083596</td>\n",
       "      <td>3.996951</td>\n",
       "      <td>1000.0</td>\n",
       "      <td>0.95</td>\n",
       "      <td>8242</td>\n",
       "      <td>LinGreedy (incremental) - 1000.0</td>\n",
       "    </tr>\n",
       "  </tbody>\n",
       "</table>\n",
       "<p>190 rows × 8 columns</p>\n",
       "</div>"
      ],
      "text/plain": [
       "                  algorithm  hits        hr        time  batch_size  \\\n",
       "3      LinUCB (incremental)    17  0.056856   61.364015         1.0   \n",
       "4   LinGreedy (incremental)    18  0.060201   48.162778         1.0   \n",
       "5      LinUCB (incremental)    20  0.066890   11.046569         5.0   \n",
       "6   LinGreedy (incremental)    17  0.056856   10.335075         5.0   \n",
       "7      LinUCB (incremental)    25  0.083612    5.859867        10.0   \n",
       "..                      ...   ...       ...         ...         ...   \n",
       "8   LinGreedy (incremental)   727  0.088207  167.795724        10.0   \n",
       "9      LinUCB (incremental)   599  0.072677   25.703629       100.0   \n",
       "10  LinGreedy (incremental)   700  0.084931   23.373372       100.0   \n",
       "11     LinUCB (incremental)   592  0.071827    4.238766      1000.0   \n",
       "12  LinGreedy (incremental)   689  0.083596    3.996951      1000.0   \n",
       "\n",
       "    test_size  test_interactions                        algo_batch  \n",
       "3        0.05                299        LinUCB (incremental) - 1.0  \n",
       "4        0.05                299     LinGreedy (incremental) - 1.0  \n",
       "5        0.05                299        LinUCB (incremental) - 5.0  \n",
       "6        0.05                299     LinGreedy (incremental) - 5.0  \n",
       "7        0.05                299       LinUCB (incremental) - 10.0  \n",
       "..        ...                ...                               ...  \n",
       "8        0.95               8242    LinGreedy (incremental) - 10.0  \n",
       "9        0.95               8242      LinUCB (incremental) - 100.0  \n",
       "10       0.95               8242   LinGreedy (incremental) - 100.0  \n",
       "11       0.95               8242     LinUCB (incremental) - 1000.0  \n",
       "12       0.95               8242  LinGreedy (incremental) - 1000.0  \n",
       "\n",
       "[190 rows x 8 columns]"
      ]
     },
     "execution_count": 44,
     "metadata": {},
     "output_type": "execute_result"
    }
   ],
   "source": [
    "df_results_incremental['algo_batch'] = df_results_incremental['algorithm'] + ' - ' + df_results_incremental['batch_size'].astype(str)\n",
    "df_results_incremental"
   ]
  },
  {
   "cell_type": "code",
   "execution_count": 51,
   "metadata": {},
   "outputs": [
    {
     "data": {
      "application/vnd.plotly.v1+json": {
       "config": {
        "plotlyServerURL": "https://plot.ly"
       },
       "data": [
        {
         "hovertemplate": "algo_batch=LinUCB (incremental) - 1.0<br>test_size=%{x}<br>hr=%{y}<extra></extra>",
         "legendgroup": "LinUCB (incremental) - 1.0",
         "line": {
          "color": "#636efa",
          "dash": "solid"
         },
         "marker": {
          "symbol": "circle"
         },
         "mode": "lines",
         "name": "LinUCB (incremental) - 1.0",
         "orientation": "v",
         "showlegend": true,
         "type": "scatter",
         "x": [
          0.05,
          0.1,
          0.15,
          0.2,
          0.25,
          0.3,
          0.35,
          0.4,
          0.45,
          0.5,
          0.55,
          0.6,
          0.65,
          0.7,
          0.75,
          0.8,
          0.85,
          0.9,
          0.95
         ],
         "xaxis": "x",
         "y": [
          0.0568561872909698,
          0.0690208667736757,
          0.0805369127516778,
          0.0941396508728179,
          0.1044917257683215,
          0.099468488990129,
          0.0953738910012674,
          0.0915512089106221,
          0.0887039239001189,
          0.0825222175201015,
          0.0874285714285714,
          0.0817066850924166,
          0.0825949367088607,
          0.0785485281259108,
          0.071052276104282,
          0.0679216484355125,
          0.0668275030156815,
          0.0614643318838876,
          0.0589662703227372
         ],
         "yaxis": "y"
        },
        {
         "hovertemplate": "algo_batch=LinGreedy (incremental) - 1.0<br>test_size=%{x}<br>hr=%{y}<extra></extra>",
         "legendgroup": "LinGreedy (incremental) - 1.0",
         "line": {
          "color": "#EF553B",
          "dash": "solid"
         },
         "marker": {
          "symbol": "circle"
         },
         "mode": "lines",
         "name": "LinGreedy (incremental) - 1.0",
         "orientation": "v",
         "showlegend": true,
         "type": "scatter",
         "x": [
          0.05,
          0.1,
          0.15,
          0.2,
          0.25,
          0.3,
          0.35,
          0.4,
          0.45,
          0.5,
          0.55,
          0.6,
          0.65,
          0.7,
          0.75,
          0.8,
          0.85,
          0.9,
          0.95
         ],
         "xaxis": "x",
         "y": [
          0.060200668896321,
          0.0722311396468699,
          0.0958772770853307,
          0.1041147132169576,
          0.1101654846335697,
          0.1089597570235383,
          0.1080481622306717,
          0.1051344743276283,
          0.1010701545778834,
          0.0983918747355057,
          0.0980952380952381,
          0.0939713249265849,
          0.0939873417721519,
          0.0887496356747304,
          0.0900986086721599,
          0.08305774612058,
          0.0814234016887816,
          0.0774474086261605,
          0.0708565882067459
         ],
         "yaxis": "y"
        },
        {
         "hovertemplate": "algo_batch=LinUCB (incremental) - 5.0<br>test_size=%{x}<br>hr=%{y}<extra></extra>",
         "legendgroup": "LinUCB (incremental) - 5.0",
         "line": {
          "color": "#00cc96",
          "dash": "solid"
         },
         "marker": {
          "symbol": "circle"
         },
         "mode": "lines",
         "name": "LinUCB (incremental) - 5.0",
         "orientation": "v",
         "showlegend": true,
         "type": "scatter",
         "x": [
          0.05,
          0.1,
          0.15,
          0.2,
          0.25,
          0.3,
          0.35,
          0.4,
          0.45,
          0.5,
          0.55,
          0.6,
          0.65,
          0.7,
          0.75,
          0.8,
          0.85,
          0.9,
          0.95
         ],
         "xaxis": "x",
         "y": [
          0.0668896321070234,
          0.0818619582664526,
          0.0987535953978907,
          0.1066084788029925,
          0.1148936170212766,
          0.1195899772209567,
          0.1181875792141951,
          0.1097527845694104,
          0.113436385255648,
          0.1138383410918324,
          0.1236190476190476,
          0.1186733460010364,
          0.1129746835443038,
          0.1076945496939667,
          0.1003647170066189,
          0.0956499618417705,
          0.0949336550060313,
          0.0844987660124574,
          0.0677020140742538
         ],
         "yaxis": "y"
        },
        {
         "hovertemplate": "algo_batch=LinGreedy (incremental) - 5.0<br>test_size=%{x}<br>hr=%{y}<extra></extra>",
         "legendgroup": "LinGreedy (incremental) - 5.0",
         "line": {
          "color": "#ab63fa",
          "dash": "solid"
         },
         "marker": {
          "symbol": "circle"
         },
         "mode": "lines",
         "name": "LinGreedy (incremental) - 5.0",
         "orientation": "v",
         "showlegend": true,
         "type": "scatter",
         "x": [
          0.05,
          0.1,
          0.15,
          0.2,
          0.25,
          0.3,
          0.35,
          0.4,
          0.45,
          0.5,
          0.55,
          0.6,
          0.65,
          0.7,
          0.75,
          0.8,
          0.85,
          0.9,
          0.95
         ],
         "xaxis": "x",
         "y": [
          0.0568561872909698,
          0.0979133226324237,
          0.109300095877277,
          0.1165835411471321,
          0.1219858156028368,
          0.1290812452543659,
          0.1321292775665399,
          0.1309426786199402,
          0.1286563614744351,
          0.12251375370292,
          0.1361904761904762,
          0.1252375194334082,
          0.122626582278481,
          0.1197901486447099,
          0.1138727542888018,
          0.1114220300178071,
          0.1092882991556091,
          0.0967211188153719,
          0.0838388740596942
         ],
         "yaxis": "y"
        },
        {
         "hovertemplate": "algo_batch=LinUCB (incremental) - 10.0<br>test_size=%{x}<br>hr=%{y}<extra></extra>",
         "legendgroup": "LinUCB (incremental) - 10.0",
         "line": {
          "color": "#FFA15A",
          "dash": "solid"
         },
         "marker": {
          "symbol": "circle"
         },
         "mode": "lines",
         "name": "LinUCB (incremental) - 10.0",
         "orientation": "v",
         "showlegend": true,
         "type": "scatter",
         "x": [
          0.05,
          0.1,
          0.15,
          0.2,
          0.25,
          0.3,
          0.35,
          0.4,
          0.45,
          0.5,
          0.55,
          0.6,
          0.65,
          0.7,
          0.75,
          0.8,
          0.85,
          0.9,
          0.95
         ],
         "xaxis": "x",
         "y": [
          0.0836120401337792,
          0.1075441412520064,
          0.1160115052732502,
          0.1209476309226932,
          0.1286052009456264,
          0.1298405466970387,
          0.1311787072243346,
          0.1257810377614778,
          0.1281807372175981,
          0.1282268303004655,
          0.1356190476190476,
          0.124546553808948,
          0.1204113924050633,
          0.1192072282133488,
          0.1122517898149398,
          0.1081149834647672,
          0.1036188178528347,
          0.0913150781525443,
          0.0696432904634797
         ],
         "yaxis": "y"
        },
        {
         "hovertemplate": "algo_batch=LinGreedy (incremental) - 10.0<br>test_size=%{x}<br>hr=%{y}<extra></extra>",
         "legendgroup": "LinGreedy (incremental) - 10.0",
         "line": {
          "color": "#19d3f3",
          "dash": "solid"
         },
         "marker": {
          "symbol": "circle"
         },
         "mode": "lines",
         "name": "LinGreedy (incremental) - 10.0",
         "orientation": "v",
         "showlegend": true,
         "type": "scatter",
         "x": [
          0.05,
          0.1,
          0.15,
          0.2,
          0.25,
          0.3,
          0.35,
          0.4,
          0.45,
          0.5,
          0.55,
          0.6,
          0.65,
          0.7,
          0.75,
          0.8,
          0.85,
          0.9,
          0.95
         ],
         "xaxis": "x",
         "y": [
          0.0836120401337792,
          0.1059390048154093,
          0.1313518696069031,
          0.1271820448877805,
          0.1418439716312056,
          0.1370539104024297,
          0.1391001267427123,
          0.1428959521869057,
          0.1412604042806183,
          0.1402877697841726,
          0.1369523809523809,
          0.1318016928657799,
          0.1213607594936708,
          0.1301369863013698,
          0.118465486964744,
          0.119689646400407,
          0.113027744270205,
          0.1004818427547302,
          0.0882067459354525
         ],
         "yaxis": "y"
        },
        {
         "hovertemplate": "algo_batch=LinUCB (incremental) - 100.0<br>test_size=%{x}<br>hr=%{y}<extra></extra>",
         "legendgroup": "LinUCB (incremental) - 100.0",
         "line": {
          "color": "#FF6692",
          "dash": "solid"
         },
         "marker": {
          "symbol": "circle"
         },
         "mode": "lines",
         "name": "LinUCB (incremental) - 100.0",
         "orientation": "v",
         "showlegend": true,
         "type": "scatter",
         "x": [
          0.05,
          0.1,
          0.15,
          0.2,
          0.25,
          0.3,
          0.35,
          0.4,
          0.45,
          0.5,
          0.55,
          0.6,
          0.65,
          0.7,
          0.75,
          0.8,
          0.85,
          0.9,
          0.95
         ],
         "xaxis": "x",
         "y": [
          0.0936454849498327,
          0.1235955056179775,
          0.1179290508149568,
          0.1321695760598503,
          0.133806146572104,
          0.1328777524677296,
          0.1273764258555133,
          0.1290410214615593,
          0.1360285374554102,
          0.1297079983072365,
          0.1314285714285714,
          0.1250647780272931,
          0.1158227848101265,
          0.1162926260565432,
          0.1118465486964744,
          0.1135843296871025,
          0.106875753920386,
          0.0911975555294394,
          0.0726765348216452
         ],
         "yaxis": "y"
        },
        {
         "hovertemplate": "algo_batch=LinGreedy (incremental) - 100.0<br>test_size=%{x}<br>hr=%{y}<extra></extra>",
         "legendgroup": "LinGreedy (incremental) - 100.0",
         "line": {
          "color": "#B6E880",
          "dash": "solid"
         },
         "marker": {
          "symbol": "circle"
         },
         "mode": "lines",
         "name": "LinGreedy (incremental) - 100.0",
         "orientation": "v",
         "showlegend": true,
         "type": "scatter",
         "x": [
          0.05,
          0.1,
          0.15,
          0.2,
          0.25,
          0.3,
          0.35,
          0.4,
          0.45,
          0.5,
          0.55,
          0.6,
          0.65,
          0.7,
          0.75,
          0.8,
          0.85,
          0.9,
          0.95
         ],
         "xaxis": "x",
         "y": [
          0.0769230769230769,
          0.1300160513643659,
          0.1236816874400767,
          0.1440149625935162,
          0.1470449172576832,
          0.1351556567957479,
          0.1362484157160963,
          0.1407226297201847,
          0.1453032104637336,
          0.1345746931866271,
          0.1342857142857142,
          0.1276558991190188,
          0.1218354430379746,
          0.1232876712328767,
          0.1188707280832095,
          0.1227423047570592,
          0.1150784077201447,
          0.1015395463626748,
          0.0849308420286338
         ],
         "yaxis": "y"
        },
        {
         "hovertemplate": "algo_batch=LinUCB (incremental) - 1000.0<br>test_size=%{x}<br>hr=%{y}<extra></extra>",
         "legendgroup": "LinUCB (incremental) - 1000.0",
         "line": {
          "color": "#FF97FF",
          "dash": "solid"
         },
         "marker": {
          "symbol": "circle"
         },
         "mode": "lines",
         "name": "LinUCB (incremental) - 1000.0",
         "orientation": "v",
         "showlegend": true,
         "type": "scatter",
         "x": [
          0.05,
          0.1,
          0.15,
          0.2,
          0.25,
          0.3,
          0.35,
          0.4,
          0.45,
          0.5,
          0.55,
          0.6,
          0.65,
          0.7,
          0.75,
          0.8,
          0.85,
          0.9,
          0.95
         ],
         "xaxis": "x",
         "y": [
          0.0936454849498327,
          0.1155698234349919,
          0.0901246404602109,
          0.0960099750623441,
          0.0983451536643026,
          0.0956719817767653,
          0.0979087452471483,
          0.1016028253192067,
          0.1046373365041617,
          0.1066440964875158,
          0.1043809523809523,
          0.1079633788219036,
          0.1088607594936708,
          0.0963276012824249,
          0.0994191543968661,
          0.1012465021622996,
          0.0944511459589867,
          0.0854389469972969,
          0.0718272264013589
         ],
         "yaxis": "y"
        },
        {
         "hovertemplate": "algo_batch=LinGreedy (incremental) - 1000.0<br>test_size=%{x}<br>hr=%{y}<extra></extra>",
         "legendgroup": "LinGreedy (incremental) - 1000.0",
         "line": {
          "color": "#FECB52",
          "dash": "solid"
         },
         "marker": {
          "symbol": "circle"
         },
         "mode": "lines",
         "name": "LinGreedy (incremental) - 1000.0",
         "orientation": "v",
         "showlegend": true,
         "type": "scatter",
         "x": [
          0.05,
          0.1,
          0.15,
          0.2,
          0.25,
          0.3,
          0.35,
          0.4,
          0.45,
          0.5,
          0.55,
          0.6,
          0.65,
          0.7,
          0.75,
          0.8,
          0.85,
          0.9,
          0.95
         ],
         "xaxis": "x",
         "y": [
          0.1003344481605351,
          0.1059390048154093,
          0.112176414189837,
          0.112219451371571,
          0.1030732860520094,
          0.1032649962034927,
          0.1048795944233206,
          0.0983428416191252,
          0.1041617122473246,
          0.1093948370715192,
          0.1064761904761904,
          0.1045085506996027,
          0.1115506329113924,
          0.1018653453803555,
          0.0992840740240443,
          0.1083693716611549,
          0.0989143546441495,
          0.0961335056998472,
          0.083596214511041
         ],
         "yaxis": "y"
        }
       ],
       "layout": {
        "legend": {
         "title": {
          "text": "algo_batch"
         },
         "tracegroupgap": 0
        },
        "template": {
         "data": {
          "bar": [
           {
            "error_x": {
             "color": "#2a3f5f"
            },
            "error_y": {
             "color": "#2a3f5f"
            },
            "marker": {
             "line": {
              "color": "#E5ECF6",
              "width": 0.5
             },
             "pattern": {
              "fillmode": "overlay",
              "size": 10,
              "solidity": 0.2
             }
            },
            "type": "bar"
           }
          ],
          "barpolar": [
           {
            "marker": {
             "line": {
              "color": "#E5ECF6",
              "width": 0.5
             },
             "pattern": {
              "fillmode": "overlay",
              "size": 10,
              "solidity": 0.2
             }
            },
            "type": "barpolar"
           }
          ],
          "carpet": [
           {
            "aaxis": {
             "endlinecolor": "#2a3f5f",
             "gridcolor": "white",
             "linecolor": "white",
             "minorgridcolor": "white",
             "startlinecolor": "#2a3f5f"
            },
            "baxis": {
             "endlinecolor": "#2a3f5f",
             "gridcolor": "white",
             "linecolor": "white",
             "minorgridcolor": "white",
             "startlinecolor": "#2a3f5f"
            },
            "type": "carpet"
           }
          ],
          "choropleth": [
           {
            "colorbar": {
             "outlinewidth": 0,
             "ticks": ""
            },
            "type": "choropleth"
           }
          ],
          "contour": [
           {
            "colorbar": {
             "outlinewidth": 0,
             "ticks": ""
            },
            "colorscale": [
             [
              0,
              "#0d0887"
             ],
             [
              0.1111111111111111,
              "#46039f"
             ],
             [
              0.2222222222222222,
              "#7201a8"
             ],
             [
              0.3333333333333333,
              "#9c179e"
             ],
             [
              0.4444444444444444,
              "#bd3786"
             ],
             [
              0.5555555555555556,
              "#d8576b"
             ],
             [
              0.6666666666666666,
              "#ed7953"
             ],
             [
              0.7777777777777778,
              "#fb9f3a"
             ],
             [
              0.8888888888888888,
              "#fdca26"
             ],
             [
              1,
              "#f0f921"
             ]
            ],
            "type": "contour"
           }
          ],
          "contourcarpet": [
           {
            "colorbar": {
             "outlinewidth": 0,
             "ticks": ""
            },
            "type": "contourcarpet"
           }
          ],
          "heatmap": [
           {
            "colorbar": {
             "outlinewidth": 0,
             "ticks": ""
            },
            "colorscale": [
             [
              0,
              "#0d0887"
             ],
             [
              0.1111111111111111,
              "#46039f"
             ],
             [
              0.2222222222222222,
              "#7201a8"
             ],
             [
              0.3333333333333333,
              "#9c179e"
             ],
             [
              0.4444444444444444,
              "#bd3786"
             ],
             [
              0.5555555555555556,
              "#d8576b"
             ],
             [
              0.6666666666666666,
              "#ed7953"
             ],
             [
              0.7777777777777778,
              "#fb9f3a"
             ],
             [
              0.8888888888888888,
              "#fdca26"
             ],
             [
              1,
              "#f0f921"
             ]
            ],
            "type": "heatmap"
           }
          ],
          "heatmapgl": [
           {
            "colorbar": {
             "outlinewidth": 0,
             "ticks": ""
            },
            "colorscale": [
             [
              0,
              "#0d0887"
             ],
             [
              0.1111111111111111,
              "#46039f"
             ],
             [
              0.2222222222222222,
              "#7201a8"
             ],
             [
              0.3333333333333333,
              "#9c179e"
             ],
             [
              0.4444444444444444,
              "#bd3786"
             ],
             [
              0.5555555555555556,
              "#d8576b"
             ],
             [
              0.6666666666666666,
              "#ed7953"
             ],
             [
              0.7777777777777778,
              "#fb9f3a"
             ],
             [
              0.8888888888888888,
              "#fdca26"
             ],
             [
              1,
              "#f0f921"
             ]
            ],
            "type": "heatmapgl"
           }
          ],
          "histogram": [
           {
            "marker": {
             "pattern": {
              "fillmode": "overlay",
              "size": 10,
              "solidity": 0.2
             }
            },
            "type": "histogram"
           }
          ],
          "histogram2d": [
           {
            "colorbar": {
             "outlinewidth": 0,
             "ticks": ""
            },
            "colorscale": [
             [
              0,
              "#0d0887"
             ],
             [
              0.1111111111111111,
              "#46039f"
             ],
             [
              0.2222222222222222,
              "#7201a8"
             ],
             [
              0.3333333333333333,
              "#9c179e"
             ],
             [
              0.4444444444444444,
              "#bd3786"
             ],
             [
              0.5555555555555556,
              "#d8576b"
             ],
             [
              0.6666666666666666,
              "#ed7953"
             ],
             [
              0.7777777777777778,
              "#fb9f3a"
             ],
             [
              0.8888888888888888,
              "#fdca26"
             ],
             [
              1,
              "#f0f921"
             ]
            ],
            "type": "histogram2d"
           }
          ],
          "histogram2dcontour": [
           {
            "colorbar": {
             "outlinewidth": 0,
             "ticks": ""
            },
            "colorscale": [
             [
              0,
              "#0d0887"
             ],
             [
              0.1111111111111111,
              "#46039f"
             ],
             [
              0.2222222222222222,
              "#7201a8"
             ],
             [
              0.3333333333333333,
              "#9c179e"
             ],
             [
              0.4444444444444444,
              "#bd3786"
             ],
             [
              0.5555555555555556,
              "#d8576b"
             ],
             [
              0.6666666666666666,
              "#ed7953"
             ],
             [
              0.7777777777777778,
              "#fb9f3a"
             ],
             [
              0.8888888888888888,
              "#fdca26"
             ],
             [
              1,
              "#f0f921"
             ]
            ],
            "type": "histogram2dcontour"
           }
          ],
          "mesh3d": [
           {
            "colorbar": {
             "outlinewidth": 0,
             "ticks": ""
            },
            "type": "mesh3d"
           }
          ],
          "parcoords": [
           {
            "line": {
             "colorbar": {
              "outlinewidth": 0,
              "ticks": ""
             }
            },
            "type": "parcoords"
           }
          ],
          "pie": [
           {
            "automargin": true,
            "type": "pie"
           }
          ],
          "scatter": [
           {
            "fillpattern": {
             "fillmode": "overlay",
             "size": 10,
             "solidity": 0.2
            },
            "type": "scatter"
           }
          ],
          "scatter3d": [
           {
            "line": {
             "colorbar": {
              "outlinewidth": 0,
              "ticks": ""
             }
            },
            "marker": {
             "colorbar": {
              "outlinewidth": 0,
              "ticks": ""
             }
            },
            "type": "scatter3d"
           }
          ],
          "scattercarpet": [
           {
            "marker": {
             "colorbar": {
              "outlinewidth": 0,
              "ticks": ""
             }
            },
            "type": "scattercarpet"
           }
          ],
          "scattergeo": [
           {
            "marker": {
             "colorbar": {
              "outlinewidth": 0,
              "ticks": ""
             }
            },
            "type": "scattergeo"
           }
          ],
          "scattergl": [
           {
            "marker": {
             "colorbar": {
              "outlinewidth": 0,
              "ticks": ""
             }
            },
            "type": "scattergl"
           }
          ],
          "scattermapbox": [
           {
            "marker": {
             "colorbar": {
              "outlinewidth": 0,
              "ticks": ""
             }
            },
            "type": "scattermapbox"
           }
          ],
          "scatterpolar": [
           {
            "marker": {
             "colorbar": {
              "outlinewidth": 0,
              "ticks": ""
             }
            },
            "type": "scatterpolar"
           }
          ],
          "scatterpolargl": [
           {
            "marker": {
             "colorbar": {
              "outlinewidth": 0,
              "ticks": ""
             }
            },
            "type": "scatterpolargl"
           }
          ],
          "scatterternary": [
           {
            "marker": {
             "colorbar": {
              "outlinewidth": 0,
              "ticks": ""
             }
            },
            "type": "scatterternary"
           }
          ],
          "surface": [
           {
            "colorbar": {
             "outlinewidth": 0,
             "ticks": ""
            },
            "colorscale": [
             [
              0,
              "#0d0887"
             ],
             [
              0.1111111111111111,
              "#46039f"
             ],
             [
              0.2222222222222222,
              "#7201a8"
             ],
             [
              0.3333333333333333,
              "#9c179e"
             ],
             [
              0.4444444444444444,
              "#bd3786"
             ],
             [
              0.5555555555555556,
              "#d8576b"
             ],
             [
              0.6666666666666666,
              "#ed7953"
             ],
             [
              0.7777777777777778,
              "#fb9f3a"
             ],
             [
              0.8888888888888888,
              "#fdca26"
             ],
             [
              1,
              "#f0f921"
             ]
            ],
            "type": "surface"
           }
          ],
          "table": [
           {
            "cells": {
             "fill": {
              "color": "#EBF0F8"
             },
             "line": {
              "color": "white"
             }
            },
            "header": {
             "fill": {
              "color": "#C8D4E3"
             },
             "line": {
              "color": "white"
             }
            },
            "type": "table"
           }
          ]
         },
         "layout": {
          "annotationdefaults": {
           "arrowcolor": "#2a3f5f",
           "arrowhead": 0,
           "arrowwidth": 1
          },
          "autotypenumbers": "strict",
          "coloraxis": {
           "colorbar": {
            "outlinewidth": 0,
            "ticks": ""
           }
          },
          "colorscale": {
           "diverging": [
            [
             0,
             "#8e0152"
            ],
            [
             0.1,
             "#c51b7d"
            ],
            [
             0.2,
             "#de77ae"
            ],
            [
             0.3,
             "#f1b6da"
            ],
            [
             0.4,
             "#fde0ef"
            ],
            [
             0.5,
             "#f7f7f7"
            ],
            [
             0.6,
             "#e6f5d0"
            ],
            [
             0.7,
             "#b8e186"
            ],
            [
             0.8,
             "#7fbc41"
            ],
            [
             0.9,
             "#4d9221"
            ],
            [
             1,
             "#276419"
            ]
           ],
           "sequential": [
            [
             0,
             "#0d0887"
            ],
            [
             0.1111111111111111,
             "#46039f"
            ],
            [
             0.2222222222222222,
             "#7201a8"
            ],
            [
             0.3333333333333333,
             "#9c179e"
            ],
            [
             0.4444444444444444,
             "#bd3786"
            ],
            [
             0.5555555555555556,
             "#d8576b"
            ],
            [
             0.6666666666666666,
             "#ed7953"
            ],
            [
             0.7777777777777778,
             "#fb9f3a"
            ],
            [
             0.8888888888888888,
             "#fdca26"
            ],
            [
             1,
             "#f0f921"
            ]
           ],
           "sequentialminus": [
            [
             0,
             "#0d0887"
            ],
            [
             0.1111111111111111,
             "#46039f"
            ],
            [
             0.2222222222222222,
             "#7201a8"
            ],
            [
             0.3333333333333333,
             "#9c179e"
            ],
            [
             0.4444444444444444,
             "#bd3786"
            ],
            [
             0.5555555555555556,
             "#d8576b"
            ],
            [
             0.6666666666666666,
             "#ed7953"
            ],
            [
             0.7777777777777778,
             "#fb9f3a"
            ],
            [
             0.8888888888888888,
             "#fdca26"
            ],
            [
             1,
             "#f0f921"
            ]
           ]
          },
          "colorway": [
           "#636efa",
           "#EF553B",
           "#00cc96",
           "#ab63fa",
           "#FFA15A",
           "#19d3f3",
           "#FF6692",
           "#B6E880",
           "#FF97FF",
           "#FECB52"
          ],
          "font": {
           "color": "#2a3f5f"
          },
          "geo": {
           "bgcolor": "white",
           "lakecolor": "white",
           "landcolor": "#E5ECF6",
           "showlakes": true,
           "showland": true,
           "subunitcolor": "white"
          },
          "hoverlabel": {
           "align": "left"
          },
          "hovermode": "closest",
          "mapbox": {
           "style": "light"
          },
          "paper_bgcolor": "white",
          "plot_bgcolor": "#E5ECF6",
          "polar": {
           "angularaxis": {
            "gridcolor": "white",
            "linecolor": "white",
            "ticks": ""
           },
           "bgcolor": "#E5ECF6",
           "radialaxis": {
            "gridcolor": "white",
            "linecolor": "white",
            "ticks": ""
           }
          },
          "scene": {
           "xaxis": {
            "backgroundcolor": "#E5ECF6",
            "gridcolor": "white",
            "gridwidth": 2,
            "linecolor": "white",
            "showbackground": true,
            "ticks": "",
            "zerolinecolor": "white"
           },
           "yaxis": {
            "backgroundcolor": "#E5ECF6",
            "gridcolor": "white",
            "gridwidth": 2,
            "linecolor": "white",
            "showbackground": true,
            "ticks": "",
            "zerolinecolor": "white"
           },
           "zaxis": {
            "backgroundcolor": "#E5ECF6",
            "gridcolor": "white",
            "gridwidth": 2,
            "linecolor": "white",
            "showbackground": true,
            "ticks": "",
            "zerolinecolor": "white"
           }
          },
          "shapedefaults": {
           "line": {
            "color": "#2a3f5f"
           }
          },
          "ternary": {
           "aaxis": {
            "gridcolor": "white",
            "linecolor": "white",
            "ticks": ""
           },
           "baxis": {
            "gridcolor": "white",
            "linecolor": "white",
            "ticks": ""
           },
           "bgcolor": "#E5ECF6",
           "caxis": {
            "gridcolor": "white",
            "linecolor": "white",
            "ticks": ""
           }
          },
          "title": {
           "x": 0.05
          },
          "xaxis": {
           "automargin": true,
           "gridcolor": "white",
           "linecolor": "white",
           "ticks": "",
           "title": {
            "standoff": 15
           },
           "zerolinecolor": "white",
           "zerolinewidth": 2
          },
          "yaxis": {
           "automargin": true,
           "gridcolor": "white",
           "linecolor": "white",
           "ticks": "",
           "title": {
            "standoff": 15
           },
           "zerolinecolor": "white",
           "zerolinewidth": 2
          }
         }
        },
        "title": {
         "text": "HR x Test size (incremental batch size)"
        },
        "xaxis": {
         "anchor": "y",
         "domain": [
          0,
          1
         ],
         "title": {
          "text": "test_size"
         }
        },
        "yaxis": {
         "anchor": "x",
         "domain": [
          0,
          1
         ],
         "title": {
          "text": "hr"
         }
        }
       }
      }
     },
     "metadata": {},
     "output_type": "display_data"
    }
   ],
   "source": [
    "fig = px.line(df_results_incremental, x=\"test_size\", y=\"hr\", color='algo_batch', title='HR x Test size (incremental batch size)')\n",
    "fig.show()\n",
    "fig.write_html('results/hr_x_test_size_incremental_batch_size.html')"
   ]
  },
  {
   "cell_type": "code",
   "execution_count": 52,
   "metadata": {},
   "outputs": [
    {
     "data": {
      "application/vnd.plotly.v1+json": {
       "config": {
        "plotlyServerURL": "https://plot.ly"
       },
       "data": [
        {
         "hovertemplate": "algo_batch=LinUCB (incremental) - 1.0<br>test_size=%{x}<br>time=%{y}<extra></extra>",
         "legendgroup": "LinUCB (incremental) - 1.0",
         "line": {
          "color": "#636efa",
          "dash": "solid"
         },
         "marker": {
          "symbol": "circle"
         },
         "mode": "lines",
         "name": "LinUCB (incremental) - 1.0",
         "orientation": "v",
         "showlegend": true,
         "type": "scatter",
         "x": [
          0.05,
          0.1,
          0.15,
          0.2,
          0.25,
          0.3,
          0.35,
          0.4,
          0.45,
          0.5,
          0.55,
          0.6,
          0.65,
          0.7,
          0.75,
          0.8,
          0.85,
          0.9,
          0.95
         ],
         "xaxis": "x",
         "y": [
          61.364015340805054,
          105.93791246414185,
          183.93462824821472,
          275.7502398490906,
          365.73082518577576,
          527.4741640090942,
          527.2292954921722,
          628.2012059688568,
          708.5292947292328,
          804.0177533626556,
          1052.4041855335236,
          996.9989428520204,
          1081.1383233070374,
          1156.751582622528,
          1386.9664840698242,
          1441.764881849289,
          1587.368953704834,
          1836.5686211586,
          1525.395607471466
         ],
         "yaxis": "y"
        },
        {
         "hovertemplate": "algo_batch=LinGreedy (incremental) - 1.0<br>test_size=%{x}<br>time=%{y}<extra></extra>",
         "legendgroup": "LinGreedy (incremental) - 1.0",
         "line": {
          "color": "#EF553B",
          "dash": "solid"
         },
         "marker": {
          "symbol": "circle"
         },
         "mode": "lines",
         "name": "LinGreedy (incremental) - 1.0",
         "orientation": "v",
         "showlegend": true,
         "type": "scatter",
         "x": [
          0.05,
          0.1,
          0.15,
          0.2,
          0.25,
          0.3,
          0.35,
          0.4,
          0.45,
          0.5,
          0.55,
          0.6,
          0.65,
          0.7,
          0.75,
          0.8,
          0.85,
          0.9,
          0.95
         ],
         "xaxis": "x",
         "y": [
          48.1627779006958,
          112.5732069015503,
          192.05584073066711,
          291.9727272987366,
          427.4895353317261,
          450.2395009994507,
          520.6167476177216,
          612.5090670585632,
          697.4141709804535,
          786.7892920970917,
          1045.93896317482,
          958.3790557384492,
          1040.9738376140594,
          1128.2062091827393,
          1260.7378528118134,
          1300.7999036312103,
          1618.6176676750183,
          1552.2167196273804,
          1568.21506357193
         ],
         "yaxis": "y"
        },
        {
         "hovertemplate": "algo_batch=LinUCB (incremental) - 5.0<br>test_size=%{x}<br>time=%{y}<extra></extra>",
         "legendgroup": "LinUCB (incremental) - 5.0",
         "line": {
          "color": "#00cc96",
          "dash": "solid"
         },
         "marker": {
          "symbol": "circle"
         },
         "mode": "lines",
         "name": "LinUCB (incremental) - 5.0",
         "orientation": "v",
         "showlegend": true,
         "type": "scatter",
         "x": [
          0.05,
          0.1,
          0.15,
          0.2,
          0.25,
          0.3,
          0.35,
          0.4,
          0.45,
          0.5,
          0.55,
          0.6,
          0.65,
          0.7,
          0.75,
          0.8,
          0.85,
          0.9,
          0.95
         ],
         "xaxis": "x",
         "y": [
          11.046569347381592,
          24.425326824188232,
          36.54280686378479,
          72.11264753341675,
          106.05432176589966,
          99.74314022064208,
          120.39654040336607,
          142.01944971084595,
          162.2414300441742,
          181.7864897251129,
          241.64972376823425,
          222.651780128479,
          242.22021675109863,
          261.3209328651428,
          281.5975453853607,
          301.9523823261261,
          324.4355483055115,
          354.3254280090332,
          358.97043538093567
         ],
         "yaxis": "y"
        },
        {
         "hovertemplate": "algo_batch=LinGreedy (incremental) - 5.0<br>test_size=%{x}<br>time=%{y}<extra></extra>",
         "legendgroup": "LinGreedy (incremental) - 5.0",
         "line": {
          "color": "#ab63fa",
          "dash": "solid"
         },
         "marker": {
          "symbol": "circle"
         },
         "mode": "lines",
         "name": "LinGreedy (incremental) - 5.0",
         "orientation": "v",
         "showlegend": true,
         "type": "scatter",
         "x": [
          0.05,
          0.1,
          0.15,
          0.2,
          0.25,
          0.3,
          0.35,
          0.4,
          0.45,
          0.5,
          0.55,
          0.6,
          0.65,
          0.7,
          0.75,
          0.8,
          0.85,
          0.9,
          0.95
         ],
         "xaxis": "x",
         "y": [
          10.335074663162231,
          23.84029054641724,
          34.826568365097046,
          65.59182357788086,
          95.5845181941986,
          95.01932954788208,
          114.79308700561523,
          135.1885323524475,
          154.08149909973145,
          173.91484570503235,
          232.36953949928284,
          215.12940216064453,
          230.18652296066284,
          249.39299249649048,
          269.19966530799866,
          287.21874499320984,
          362.0368967056274,
          333.7443974018097,
          355.72746086120605
         ],
         "yaxis": "y"
        },
        {
         "hovertemplate": "algo_batch=LinUCB (incremental) - 10.0<br>test_size=%{x}<br>time=%{y}<extra></extra>",
         "legendgroup": "LinUCB (incremental) - 10.0",
         "line": {
          "color": "#FFA15A",
          "dash": "solid"
         },
         "marker": {
          "symbol": "circle"
         },
         "mode": "lines",
         "name": "LinUCB (incremental) - 10.0",
         "orientation": "v",
         "showlegend": true,
         "type": "scatter",
         "x": [
          0.05,
          0.1,
          0.15,
          0.2,
          0.25,
          0.3,
          0.35,
          0.4,
          0.45,
          0.5,
          0.55,
          0.6,
          0.65,
          0.7,
          0.75,
          0.8,
          0.85,
          0.9,
          0.95
         ],
         "xaxis": "x",
         "y": [
          5.859867334365845,
          13.59293818473816,
          20.019115447998047,
          39.380046129226685,
          50.47149872779846,
          54.23123478889465,
          65.0400755405426,
          77.12663912773132,
          85.70107579231262,
          97.55880427360536,
          129.2177610397339,
          119.66754245758057,
          129.4061872959137,
          139.5673704147339,
          151.3649628162384,
          160.7475368976593,
          185.23217272758484,
          197.2393901348114,
          193.94955015182487
         ],
         "yaxis": "y"
        },
        {
         "hovertemplate": "algo_batch=LinGreedy (incremental) - 10.0<br>test_size=%{x}<br>time=%{y}<extra></extra>",
         "legendgroup": "LinGreedy (incremental) - 10.0",
         "line": {
          "color": "#19d3f3",
          "dash": "solid"
         },
         "marker": {
          "symbol": "circle"
         },
         "mode": "lines",
         "name": "LinGreedy (incremental) - 10.0",
         "orientation": "v",
         "showlegend": true,
         "type": "scatter",
         "x": [
          0.05,
          0.1,
          0.15,
          0.2,
          0.25,
          0.3,
          0.35,
          0.4,
          0.45,
          0.5,
          0.55,
          0.6,
          0.65,
          0.7,
          0.75,
          0.8,
          0.85,
          0.9,
          0.95
         ],
         "xaxis": "x",
         "y": [
          5.650713205337524,
          13.172928094863892,
          19.518299102783203,
          34.38052153587341,
          42.46827411651611,
          50.18471145629883,
          60.83415985107422,
          71.25734281539917,
          81.87415361404419,
          91.905508518219,
          111.17229080200195,
          112.0282473564148,
          121.30402827262878,
          132.05860662460327,
          142.2029674053192,
          151.85959029197693,
          191.5363430976868,
          190.38422775268555,
          167.7957239151001
         ],
         "yaxis": "y"
        },
        {
         "hovertemplate": "algo_batch=LinUCB (incremental) - 100.0<br>test_size=%{x}<br>time=%{y}<extra></extra>",
         "legendgroup": "LinUCB (incremental) - 100.0",
         "line": {
          "color": "#FF6692",
          "dash": "solid"
         },
         "marker": {
          "symbol": "circle"
         },
         "mode": "lines",
         "name": "LinUCB (incremental) - 100.0",
         "orientation": "v",
         "showlegend": true,
         "type": "scatter",
         "x": [
          0.05,
          0.1,
          0.15,
          0.2,
          0.25,
          0.3,
          0.35,
          0.4,
          0.45,
          0.5,
          0.55,
          0.6,
          0.65,
          0.7,
          0.75,
          0.8,
          0.85,
          0.9,
          0.95
         ],
         "xaxis": "x",
         "y": [
          0.9075415134429932,
          1.979177713394165,
          3.059999704360962,
          5.114838361740112,
          6.106258153915405,
          7.925808668136597,
          9.834455728530884,
          11.170022249221802,
          12.78071665763855,
          14.603432893753052,
          15.82712697982788,
          17.66707444190979,
          18.60341501235962,
          20.81588888168335,
          21.681876182556152,
          23.82499647140503,
          32.58923053741455,
          30.389355659484863,
          25.70362901687622
         ],
         "yaxis": "y"
        },
        {
         "hovertemplate": "algo_batch=LinGreedy (incremental) - 100.0<br>test_size=%{x}<br>time=%{y}<extra></extra>",
         "legendgroup": "LinGreedy (incremental) - 100.0",
         "line": {
          "color": "#B6E880",
          "dash": "solid"
         },
         "marker": {
          "symbol": "circle"
         },
         "mode": "lines",
         "name": "LinGreedy (incremental) - 100.0",
         "orientation": "v",
         "showlegend": true,
         "type": "scatter",
         "x": [
          0.05,
          0.1,
          0.15,
          0.2,
          0.25,
          0.3,
          0.35,
          0.4,
          0.45,
          0.5,
          0.55,
          0.6,
          0.65,
          0.7,
          0.75,
          0.8,
          0.85,
          0.9,
          0.95
         ],
         "xaxis": "x",
         "y": [
          0.99481201171875,
          1.9235906600952148,
          2.9939701557159424,
          4.565494060516357,
          5.956951379776001,
          7.46205472946167,
          9.52970027923584,
          10.533089399337769,
          11.92231512069702,
          13.555057525634766,
          14.999789953231812,
          16.249812841415405,
          17.296735763549805,
          19.38193106651306,
          20.56593632698059,
          21.879038333892822,
          30.841700077056885,
          27.224127292633057,
          23.373371839523315
         ],
         "yaxis": "y"
        },
        {
         "hovertemplate": "algo_batch=LinUCB (incremental) - 1000.0<br>test_size=%{x}<br>time=%{y}<extra></extra>",
         "legendgroup": "LinUCB (incremental) - 1000.0",
         "line": {
          "color": "#FF97FF",
          "dash": "solid"
         },
         "marker": {
          "symbol": "circle"
         },
         "mode": "lines",
         "name": "LinUCB (incremental) - 1000.0",
         "orientation": "v",
         "showlegend": true,
         "type": "scatter",
         "x": [
          0.05,
          0.1,
          0.15,
          0.2,
          0.25,
          0.3,
          0.35,
          0.4,
          0.45,
          0.5,
          0.55,
          0.6,
          0.65,
          0.7,
          0.75,
          0.8,
          0.85,
          0.9,
          0.95
         ],
         "xaxis": "x",
         "y": [
          0.2490406036376953,
          0.3640453815460205,
          0.469327449798584,
          0.7815310955047607,
          1.0715911388397217,
          1.433157444000244,
          1.6526589393615725,
          1.8525257110595703,
          2.1580467224121094,
          2.342863082885742,
          2.590950727462769,
          2.863730192184448,
          3.158789873123169,
          3.5138988494873047,
          3.602043390274048,
          3.819721937179565,
          5.7446606159210205,
          6.038569688796997,
          4.238766193389893
         ],
         "yaxis": "y"
        },
        {
         "hovertemplate": "algo_batch=LinGreedy (incremental) - 1000.0<br>test_size=%{x}<br>time=%{y}<extra></extra>",
         "legendgroup": "LinGreedy (incremental) - 1000.0",
         "line": {
          "color": "#FECB52",
          "dash": "solid"
         },
         "marker": {
          "symbol": "circle"
         },
         "mode": "lines",
         "name": "LinGreedy (incremental) - 1000.0",
         "orientation": "v",
         "showlegend": true,
         "type": "scatter",
         "x": [
          0.05,
          0.1,
          0.15,
          0.2,
          0.25,
          0.3,
          0.35,
          0.4,
          0.45,
          0.5,
          0.55,
          0.6,
          0.65,
          0.7,
          0.75,
          0.8,
          0.85,
          0.9,
          0.95
         ],
         "xaxis": "x",
         "y": [
          0.259350061416626,
          0.3611688613891601,
          0.4711503982543945,
          0.8227646350860596,
          0.9404902458190918,
          1.4053685665130615,
          1.5777018070220947,
          1.808966398239136,
          2.0101077556610107,
          2.213144540786743,
          2.4906575679779053,
          2.728074312210083,
          3.0154566764831543,
          3.188295364379883,
          3.487932205200196,
          3.752475500106812,
          5.269547939300537,
          4.557574987411499,
          3.996951103210449
         ],
         "yaxis": "y"
        }
       ],
       "layout": {
        "legend": {
         "title": {
          "text": "algo_batch"
         },
         "tracegroupgap": 0
        },
        "template": {
         "data": {
          "bar": [
           {
            "error_x": {
             "color": "#2a3f5f"
            },
            "error_y": {
             "color": "#2a3f5f"
            },
            "marker": {
             "line": {
              "color": "#E5ECF6",
              "width": 0.5
             },
             "pattern": {
              "fillmode": "overlay",
              "size": 10,
              "solidity": 0.2
             }
            },
            "type": "bar"
           }
          ],
          "barpolar": [
           {
            "marker": {
             "line": {
              "color": "#E5ECF6",
              "width": 0.5
             },
             "pattern": {
              "fillmode": "overlay",
              "size": 10,
              "solidity": 0.2
             }
            },
            "type": "barpolar"
           }
          ],
          "carpet": [
           {
            "aaxis": {
             "endlinecolor": "#2a3f5f",
             "gridcolor": "white",
             "linecolor": "white",
             "minorgridcolor": "white",
             "startlinecolor": "#2a3f5f"
            },
            "baxis": {
             "endlinecolor": "#2a3f5f",
             "gridcolor": "white",
             "linecolor": "white",
             "minorgridcolor": "white",
             "startlinecolor": "#2a3f5f"
            },
            "type": "carpet"
           }
          ],
          "choropleth": [
           {
            "colorbar": {
             "outlinewidth": 0,
             "ticks": ""
            },
            "type": "choropleth"
           }
          ],
          "contour": [
           {
            "colorbar": {
             "outlinewidth": 0,
             "ticks": ""
            },
            "colorscale": [
             [
              0,
              "#0d0887"
             ],
             [
              0.1111111111111111,
              "#46039f"
             ],
             [
              0.2222222222222222,
              "#7201a8"
             ],
             [
              0.3333333333333333,
              "#9c179e"
             ],
             [
              0.4444444444444444,
              "#bd3786"
             ],
             [
              0.5555555555555556,
              "#d8576b"
             ],
             [
              0.6666666666666666,
              "#ed7953"
             ],
             [
              0.7777777777777778,
              "#fb9f3a"
             ],
             [
              0.8888888888888888,
              "#fdca26"
             ],
             [
              1,
              "#f0f921"
             ]
            ],
            "type": "contour"
           }
          ],
          "contourcarpet": [
           {
            "colorbar": {
             "outlinewidth": 0,
             "ticks": ""
            },
            "type": "contourcarpet"
           }
          ],
          "heatmap": [
           {
            "colorbar": {
             "outlinewidth": 0,
             "ticks": ""
            },
            "colorscale": [
             [
              0,
              "#0d0887"
             ],
             [
              0.1111111111111111,
              "#46039f"
             ],
             [
              0.2222222222222222,
              "#7201a8"
             ],
             [
              0.3333333333333333,
              "#9c179e"
             ],
             [
              0.4444444444444444,
              "#bd3786"
             ],
             [
              0.5555555555555556,
              "#d8576b"
             ],
             [
              0.6666666666666666,
              "#ed7953"
             ],
             [
              0.7777777777777778,
              "#fb9f3a"
             ],
             [
              0.8888888888888888,
              "#fdca26"
             ],
             [
              1,
              "#f0f921"
             ]
            ],
            "type": "heatmap"
           }
          ],
          "heatmapgl": [
           {
            "colorbar": {
             "outlinewidth": 0,
             "ticks": ""
            },
            "colorscale": [
             [
              0,
              "#0d0887"
             ],
             [
              0.1111111111111111,
              "#46039f"
             ],
             [
              0.2222222222222222,
              "#7201a8"
             ],
             [
              0.3333333333333333,
              "#9c179e"
             ],
             [
              0.4444444444444444,
              "#bd3786"
             ],
             [
              0.5555555555555556,
              "#d8576b"
             ],
             [
              0.6666666666666666,
              "#ed7953"
             ],
             [
              0.7777777777777778,
              "#fb9f3a"
             ],
             [
              0.8888888888888888,
              "#fdca26"
             ],
             [
              1,
              "#f0f921"
             ]
            ],
            "type": "heatmapgl"
           }
          ],
          "histogram": [
           {
            "marker": {
             "pattern": {
              "fillmode": "overlay",
              "size": 10,
              "solidity": 0.2
             }
            },
            "type": "histogram"
           }
          ],
          "histogram2d": [
           {
            "colorbar": {
             "outlinewidth": 0,
             "ticks": ""
            },
            "colorscale": [
             [
              0,
              "#0d0887"
             ],
             [
              0.1111111111111111,
              "#46039f"
             ],
             [
              0.2222222222222222,
              "#7201a8"
             ],
             [
              0.3333333333333333,
              "#9c179e"
             ],
             [
              0.4444444444444444,
              "#bd3786"
             ],
             [
              0.5555555555555556,
              "#d8576b"
             ],
             [
              0.6666666666666666,
              "#ed7953"
             ],
             [
              0.7777777777777778,
              "#fb9f3a"
             ],
             [
              0.8888888888888888,
              "#fdca26"
             ],
             [
              1,
              "#f0f921"
             ]
            ],
            "type": "histogram2d"
           }
          ],
          "histogram2dcontour": [
           {
            "colorbar": {
             "outlinewidth": 0,
             "ticks": ""
            },
            "colorscale": [
             [
              0,
              "#0d0887"
             ],
             [
              0.1111111111111111,
              "#46039f"
             ],
             [
              0.2222222222222222,
              "#7201a8"
             ],
             [
              0.3333333333333333,
              "#9c179e"
             ],
             [
              0.4444444444444444,
              "#bd3786"
             ],
             [
              0.5555555555555556,
              "#d8576b"
             ],
             [
              0.6666666666666666,
              "#ed7953"
             ],
             [
              0.7777777777777778,
              "#fb9f3a"
             ],
             [
              0.8888888888888888,
              "#fdca26"
             ],
             [
              1,
              "#f0f921"
             ]
            ],
            "type": "histogram2dcontour"
           }
          ],
          "mesh3d": [
           {
            "colorbar": {
             "outlinewidth": 0,
             "ticks": ""
            },
            "type": "mesh3d"
           }
          ],
          "parcoords": [
           {
            "line": {
             "colorbar": {
              "outlinewidth": 0,
              "ticks": ""
             }
            },
            "type": "parcoords"
           }
          ],
          "pie": [
           {
            "automargin": true,
            "type": "pie"
           }
          ],
          "scatter": [
           {
            "fillpattern": {
             "fillmode": "overlay",
             "size": 10,
             "solidity": 0.2
            },
            "type": "scatter"
           }
          ],
          "scatter3d": [
           {
            "line": {
             "colorbar": {
              "outlinewidth": 0,
              "ticks": ""
             }
            },
            "marker": {
             "colorbar": {
              "outlinewidth": 0,
              "ticks": ""
             }
            },
            "type": "scatter3d"
           }
          ],
          "scattercarpet": [
           {
            "marker": {
             "colorbar": {
              "outlinewidth": 0,
              "ticks": ""
             }
            },
            "type": "scattercarpet"
           }
          ],
          "scattergeo": [
           {
            "marker": {
             "colorbar": {
              "outlinewidth": 0,
              "ticks": ""
             }
            },
            "type": "scattergeo"
           }
          ],
          "scattergl": [
           {
            "marker": {
             "colorbar": {
              "outlinewidth": 0,
              "ticks": ""
             }
            },
            "type": "scattergl"
           }
          ],
          "scattermapbox": [
           {
            "marker": {
             "colorbar": {
              "outlinewidth": 0,
              "ticks": ""
             }
            },
            "type": "scattermapbox"
           }
          ],
          "scatterpolar": [
           {
            "marker": {
             "colorbar": {
              "outlinewidth": 0,
              "ticks": ""
             }
            },
            "type": "scatterpolar"
           }
          ],
          "scatterpolargl": [
           {
            "marker": {
             "colorbar": {
              "outlinewidth": 0,
              "ticks": ""
             }
            },
            "type": "scatterpolargl"
           }
          ],
          "scatterternary": [
           {
            "marker": {
             "colorbar": {
              "outlinewidth": 0,
              "ticks": ""
             }
            },
            "type": "scatterternary"
           }
          ],
          "surface": [
           {
            "colorbar": {
             "outlinewidth": 0,
             "ticks": ""
            },
            "colorscale": [
             [
              0,
              "#0d0887"
             ],
             [
              0.1111111111111111,
              "#46039f"
             ],
             [
              0.2222222222222222,
              "#7201a8"
             ],
             [
              0.3333333333333333,
              "#9c179e"
             ],
             [
              0.4444444444444444,
              "#bd3786"
             ],
             [
              0.5555555555555556,
              "#d8576b"
             ],
             [
              0.6666666666666666,
              "#ed7953"
             ],
             [
              0.7777777777777778,
              "#fb9f3a"
             ],
             [
              0.8888888888888888,
              "#fdca26"
             ],
             [
              1,
              "#f0f921"
             ]
            ],
            "type": "surface"
           }
          ],
          "table": [
           {
            "cells": {
             "fill": {
              "color": "#EBF0F8"
             },
             "line": {
              "color": "white"
             }
            },
            "header": {
             "fill": {
              "color": "#C8D4E3"
             },
             "line": {
              "color": "white"
             }
            },
            "type": "table"
           }
          ]
         },
         "layout": {
          "annotationdefaults": {
           "arrowcolor": "#2a3f5f",
           "arrowhead": 0,
           "arrowwidth": 1
          },
          "autotypenumbers": "strict",
          "coloraxis": {
           "colorbar": {
            "outlinewidth": 0,
            "ticks": ""
           }
          },
          "colorscale": {
           "diverging": [
            [
             0,
             "#8e0152"
            ],
            [
             0.1,
             "#c51b7d"
            ],
            [
             0.2,
             "#de77ae"
            ],
            [
             0.3,
             "#f1b6da"
            ],
            [
             0.4,
             "#fde0ef"
            ],
            [
             0.5,
             "#f7f7f7"
            ],
            [
             0.6,
             "#e6f5d0"
            ],
            [
             0.7,
             "#b8e186"
            ],
            [
             0.8,
             "#7fbc41"
            ],
            [
             0.9,
             "#4d9221"
            ],
            [
             1,
             "#276419"
            ]
           ],
           "sequential": [
            [
             0,
             "#0d0887"
            ],
            [
             0.1111111111111111,
             "#46039f"
            ],
            [
             0.2222222222222222,
             "#7201a8"
            ],
            [
             0.3333333333333333,
             "#9c179e"
            ],
            [
             0.4444444444444444,
             "#bd3786"
            ],
            [
             0.5555555555555556,
             "#d8576b"
            ],
            [
             0.6666666666666666,
             "#ed7953"
            ],
            [
             0.7777777777777778,
             "#fb9f3a"
            ],
            [
             0.8888888888888888,
             "#fdca26"
            ],
            [
             1,
             "#f0f921"
            ]
           ],
           "sequentialminus": [
            [
             0,
             "#0d0887"
            ],
            [
             0.1111111111111111,
             "#46039f"
            ],
            [
             0.2222222222222222,
             "#7201a8"
            ],
            [
             0.3333333333333333,
             "#9c179e"
            ],
            [
             0.4444444444444444,
             "#bd3786"
            ],
            [
             0.5555555555555556,
             "#d8576b"
            ],
            [
             0.6666666666666666,
             "#ed7953"
            ],
            [
             0.7777777777777778,
             "#fb9f3a"
            ],
            [
             0.8888888888888888,
             "#fdca26"
            ],
            [
             1,
             "#f0f921"
            ]
           ]
          },
          "colorway": [
           "#636efa",
           "#EF553B",
           "#00cc96",
           "#ab63fa",
           "#FFA15A",
           "#19d3f3",
           "#FF6692",
           "#B6E880",
           "#FF97FF",
           "#FECB52"
          ],
          "font": {
           "color": "#2a3f5f"
          },
          "geo": {
           "bgcolor": "white",
           "lakecolor": "white",
           "landcolor": "#E5ECF6",
           "showlakes": true,
           "showland": true,
           "subunitcolor": "white"
          },
          "hoverlabel": {
           "align": "left"
          },
          "hovermode": "closest",
          "mapbox": {
           "style": "light"
          },
          "paper_bgcolor": "white",
          "plot_bgcolor": "#E5ECF6",
          "polar": {
           "angularaxis": {
            "gridcolor": "white",
            "linecolor": "white",
            "ticks": ""
           },
           "bgcolor": "#E5ECF6",
           "radialaxis": {
            "gridcolor": "white",
            "linecolor": "white",
            "ticks": ""
           }
          },
          "scene": {
           "xaxis": {
            "backgroundcolor": "#E5ECF6",
            "gridcolor": "white",
            "gridwidth": 2,
            "linecolor": "white",
            "showbackground": true,
            "ticks": "",
            "zerolinecolor": "white"
           },
           "yaxis": {
            "backgroundcolor": "#E5ECF6",
            "gridcolor": "white",
            "gridwidth": 2,
            "linecolor": "white",
            "showbackground": true,
            "ticks": "",
            "zerolinecolor": "white"
           },
           "zaxis": {
            "backgroundcolor": "#E5ECF6",
            "gridcolor": "white",
            "gridwidth": 2,
            "linecolor": "white",
            "showbackground": true,
            "ticks": "",
            "zerolinecolor": "white"
           }
          },
          "shapedefaults": {
           "line": {
            "color": "#2a3f5f"
           }
          },
          "ternary": {
           "aaxis": {
            "gridcolor": "white",
            "linecolor": "white",
            "ticks": ""
           },
           "baxis": {
            "gridcolor": "white",
            "linecolor": "white",
            "ticks": ""
           },
           "bgcolor": "#E5ECF6",
           "caxis": {
            "gridcolor": "white",
            "linecolor": "white",
            "ticks": ""
           }
          },
          "title": {
           "x": 0.05
          },
          "xaxis": {
           "automargin": true,
           "gridcolor": "white",
           "linecolor": "white",
           "ticks": "",
           "title": {
            "standoff": 15
           },
           "zerolinecolor": "white",
           "zerolinewidth": 2
          },
          "yaxis": {
           "automargin": true,
           "gridcolor": "white",
           "linecolor": "white",
           "ticks": "",
           "title": {
            "standoff": 15
           },
           "zerolinecolor": "white",
           "zerolinewidth": 2
          }
         }
        },
        "title": {
         "text": "Time x Test size (incremental batch size)"
        },
        "xaxis": {
         "anchor": "y",
         "domain": [
          0,
          1
         ],
         "title": {
          "text": "test_size"
         }
        },
        "yaxis": {
         "anchor": "x",
         "domain": [
          0,
          1
         ],
         "title": {
          "text": "time"
         }
        }
       }
      }
     },
     "metadata": {},
     "output_type": "display_data"
    }
   ],
   "source": [
    "fig = px.line(df_results_incremental, x=\"test_size\", y=\"time\", color='algo_batch', title='Time x Test size (incremental batch size)')\n",
    "fig.show()\n",
    "fig.write_html('results/time_x_test_size_incremental_batch_size.html')"
   ]
  },
  {
   "cell_type": "code",
   "execution_count": 47,
   "metadata": {},
   "outputs": [
    {
     "data": {
      "text/html": [
       "<div>\n",
       "<style scoped>\n",
       "    .dataframe tbody tr th:only-of-type {\n",
       "        vertical-align: middle;\n",
       "    }\n",
       "\n",
       "    .dataframe tbody tr th {\n",
       "        vertical-align: top;\n",
       "    }\n",
       "\n",
       "    .dataframe thead th {\n",
       "        text-align: right;\n",
       "    }\n",
       "</style>\n",
       "<table border=\"1\" class=\"dataframe\">\n",
       "  <thead>\n",
       "    <tr style=\"text-align: right;\">\n",
       "      <th></th>\n",
       "      <th>algorithm</th>\n",
       "      <th>hits</th>\n",
       "      <th>hr</th>\n",
       "      <th>time</th>\n",
       "      <th>batch_size</th>\n",
       "      <th>test_size</th>\n",
       "      <th>test_interactions</th>\n",
       "    </tr>\n",
       "  </thead>\n",
       "  <tbody>\n",
       "    <tr>\n",
       "      <th>0</th>\n",
       "      <td>ALS</td>\n",
       "      <td>46</td>\n",
       "      <td>0.153846</td>\n",
       "      <td>0.128532</td>\n",
       "      <td>NaN</td>\n",
       "      <td>0.05</td>\n",
       "      <td>299</td>\n",
       "    </tr>\n",
       "    <tr>\n",
       "      <th>1</th>\n",
       "      <td>LinUCB (non_incremental)</td>\n",
       "      <td>22</td>\n",
       "      <td>0.073579</td>\n",
       "      <td>0.063014</td>\n",
       "      <td>NaN</td>\n",
       "      <td>0.05</td>\n",
       "      <td>299</td>\n",
       "    </tr>\n",
       "    <tr>\n",
       "      <th>2</th>\n",
       "      <td>LinGreedy (non_incremental)</td>\n",
       "      <td>22</td>\n",
       "      <td>0.073579</td>\n",
       "      <td>0.055520</td>\n",
       "      <td>NaN</td>\n",
       "      <td>0.05</td>\n",
       "      <td>299</td>\n",
       "    </tr>\n",
       "    <tr>\n",
       "      <th>10</th>\n",
       "      <td>LinGreedy (incremental)</td>\n",
       "      <td>23</td>\n",
       "      <td>0.076923</td>\n",
       "      <td>0.994812</td>\n",
       "      <td>100.0</td>\n",
       "      <td>0.05</td>\n",
       "      <td>299</td>\n",
       "    </tr>\n",
       "    <tr>\n",
       "      <th>0</th>\n",
       "      <td>ALS</td>\n",
       "      <td>82</td>\n",
       "      <td>0.131621</td>\n",
       "      <td>0.216002</td>\n",
       "      <td>NaN</td>\n",
       "      <td>0.10</td>\n",
       "      <td>623</td>\n",
       "    </tr>\n",
       "    <tr>\n",
       "      <th>...</th>\n",
       "      <td>...</td>\n",
       "      <td>...</td>\n",
       "      <td>...</td>\n",
       "      <td>...</td>\n",
       "      <td>...</td>\n",
       "      <td>...</td>\n",
       "      <td>...</td>\n",
       "    </tr>\n",
       "    <tr>\n",
       "      <th>10</th>\n",
       "      <td>LinGreedy (incremental)</td>\n",
       "      <td>864</td>\n",
       "      <td>0.101540</td>\n",
       "      <td>27.224127</td>\n",
       "      <td>100.0</td>\n",
       "      <td>0.90</td>\n",
       "      <td>8509</td>\n",
       "    </tr>\n",
       "    <tr>\n",
       "      <th>0</th>\n",
       "      <td>ALS</td>\n",
       "      <td>749</td>\n",
       "      <td>0.090876</td>\n",
       "      <td>3.594004</td>\n",
       "      <td>NaN</td>\n",
       "      <td>0.95</td>\n",
       "      <td>8242</td>\n",
       "    </tr>\n",
       "    <tr>\n",
       "      <th>1</th>\n",
       "      <td>LinUCB (non_incremental)</td>\n",
       "      <td>556</td>\n",
       "      <td>0.067459</td>\n",
       "      <td>1.751813</td>\n",
       "      <td>NaN</td>\n",
       "      <td>0.95</td>\n",
       "      <td>8242</td>\n",
       "    </tr>\n",
       "    <tr>\n",
       "      <th>2</th>\n",
       "      <td>LinGreedy (non_incremental)</td>\n",
       "      <td>556</td>\n",
       "      <td>0.067459</td>\n",
       "      <td>1.690637</td>\n",
       "      <td>NaN</td>\n",
       "      <td>0.95</td>\n",
       "      <td>8242</td>\n",
       "    </tr>\n",
       "    <tr>\n",
       "      <th>10</th>\n",
       "      <td>LinGreedy (incremental)</td>\n",
       "      <td>700</td>\n",
       "      <td>0.084931</td>\n",
       "      <td>23.373372</td>\n",
       "      <td>100.0</td>\n",
       "      <td>0.95</td>\n",
       "      <td>8242</td>\n",
       "    </tr>\n",
       "  </tbody>\n",
       "</table>\n",
       "<p>76 rows × 7 columns</p>\n",
       "</div>"
      ],
      "text/plain": [
       "                      algorithm  hits        hr       time  batch_size  \\\n",
       "0                           ALS    46  0.153846   0.128532         NaN   \n",
       "1      LinUCB (non_incremental)    22  0.073579   0.063014         NaN   \n",
       "2   LinGreedy (non_incremental)    22  0.073579   0.055520         NaN   \n",
       "10      LinGreedy (incremental)    23  0.076923   0.994812       100.0   \n",
       "0                           ALS    82  0.131621   0.216002         NaN   \n",
       "..                          ...   ...       ...        ...         ...   \n",
       "10      LinGreedy (incremental)   864  0.101540  27.224127       100.0   \n",
       "0                           ALS   749  0.090876   3.594004         NaN   \n",
       "1      LinUCB (non_incremental)   556  0.067459   1.751813         NaN   \n",
       "2   LinGreedy (non_incremental)   556  0.067459   1.690637         NaN   \n",
       "10      LinGreedy (incremental)   700  0.084931  23.373372       100.0   \n",
       "\n",
       "    test_size  test_interactions  \n",
       "0        0.05                299  \n",
       "1        0.05                299  \n",
       "2        0.05                299  \n",
       "10       0.05                299  \n",
       "0        0.10                623  \n",
       "..        ...                ...  \n",
       "10       0.90               8509  \n",
       "0        0.95               8242  \n",
       "1        0.95               8242  \n",
       "2        0.95               8242  \n",
       "10       0.95               8242  \n",
       "\n",
       "[76 rows x 7 columns]"
      ]
     },
     "execution_count": 47,
     "metadata": {},
     "output_type": "execute_result"
    }
   ],
   "source": [
    "df_results_filtered = df_results[\n",
    "    (df_results['algorithm'] == 'LinUCB (non_incremental)') | \n",
    "    (df_results['algorithm'] == 'LinGreedy (non_incremental)') |\n",
    "    (df_results['algorithm'] == 'ALS') |\n",
    "    ((df_results['algorithm'] == 'LinGreedy (incremental)') & (df_results['batch_size'] == 100.0))\n",
    "]\n",
    "df_results_filtered"
   ]
  },
  {
   "cell_type": "code",
   "execution_count": 50,
   "metadata": {},
   "outputs": [
    {
     "data": {
      "application/vnd.plotly.v1+json": {
       "config": {
        "plotlyServerURL": "https://plot.ly"
       },
       "data": [
        {
         "hovertemplate": "algorithm=ALS<br>test_size=%{x}<br>hr=%{y}<extra></extra>",
         "legendgroup": "ALS",
         "line": {
          "color": "#636efa",
          "dash": "solid"
         },
         "marker": {
          "symbol": "circle"
         },
         "mode": "lines",
         "name": "ALS",
         "orientation": "v",
         "showlegend": true,
         "type": "scatter",
         "x": [
          0.05,
          0.1,
          0.15,
          0.2,
          0.25,
          0.3,
          0.35,
          0.4,
          0.45,
          0.5,
          0.55,
          0.6,
          0.65,
          0.7,
          0.75,
          0.8,
          0.85,
          0.9,
          0.95
         ],
         "xaxis": "x",
         "y": [
          0.1538461538461538,
          0.131621187800963,
          0.1860019175455417,
          0.2394014962593516,
          0.2515366430260047,
          0.2460136674259681,
          0.2417617237008872,
          0.2197772344471611,
          0.2123662306777645,
          0.2020736352094794,
          0.1817142857142857,
          0.1680773881499395,
          0.1579113924050633,
          0.1412124744972311,
          0.1280561934350939,
          0.1106588654286441,
          0.1056694813027744,
          0.0968386414384769,
          0.0908760009706382
         ],
         "yaxis": "y"
        },
        {
         "hovertemplate": "algorithm=LinUCB (non_incremental)<br>test_size=%{x}<br>hr=%{y}<extra></extra>",
         "legendgroup": "LinUCB (non_incremental)",
         "line": {
          "color": "#EF553B",
          "dash": "solid"
         },
         "marker": {
          "symbol": "circle"
         },
         "mode": "lines",
         "name": "LinUCB (non_incremental)",
         "orientation": "v",
         "showlegend": true,
         "type": "scatter",
         "x": [
          0.05,
          0.1,
          0.15,
          0.2,
          0.25,
          0.3,
          0.35,
          0.4,
          0.45,
          0.5,
          0.55,
          0.6,
          0.65,
          0.7,
          0.75,
          0.8,
          0.85,
          0.9,
          0.95
         ],
         "xaxis": "x",
         "y": [
          0.0735785953177257,
          0.0754414125200642,
          0.0690316395014381,
          0.0866583541147132,
          0.0836879432624113,
          0.0766894457099468,
          0.0798479087452471,
          0.0733496332518337,
          0.0746730083234245,
          0.0694033008887008,
          0.0660952380952381,
          0.0673691483848678,
          0.0552215189873417,
          0.0514427280676187,
          0.0528164257733351,
          0.03904858814551,
          0.0388419782870928,
          0.0457163003878246,
          0.0674593545256005
         ],
         "yaxis": "y"
        },
        {
         "hovertemplate": "algorithm=LinGreedy (non_incremental)<br>test_size=%{x}<br>hr=%{y}<extra></extra>",
         "legendgroup": "LinGreedy (non_incremental)",
         "line": {
          "color": "#00cc96",
          "dash": "solid"
         },
         "marker": {
          "symbol": "circle"
         },
         "mode": "lines",
         "name": "LinGreedy (non_incremental)",
         "orientation": "v",
         "showlegend": true,
         "type": "scatter",
         "x": [
          0.05,
          0.1,
          0.15,
          0.2,
          0.25,
          0.3,
          0.35,
          0.4,
          0.45,
          0.5,
          0.55,
          0.6,
          0.65,
          0.7,
          0.75,
          0.8,
          0.85,
          0.9,
          0.95
         ],
         "xaxis": "x",
         "y": [
          0.0735785953177257,
          0.0802568218298555,
          0.0738255033557047,
          0.0872817955112219,
          0.0879432624113475,
          0.0873196659073652,
          0.0868187579214195,
          0.0812279271936973,
          0.0841854934601664,
          0.0799830723656369,
          0.0767619047619047,
          0.0803247538434962,
          0.0697784810126582,
          0.0686388807927717,
          0.0714575172227475,
          0.0663953192571864,
          0.0638118214716526,
          0.0681631214008696,
          0.0674593545256005
         ],
         "yaxis": "y"
        },
        {
         "hovertemplate": "algorithm=LinGreedy (incremental)<br>test_size=%{x}<br>hr=%{y}<extra></extra>",
         "legendgroup": "LinGreedy (incremental)",
         "line": {
          "color": "#ab63fa",
          "dash": "solid"
         },
         "marker": {
          "symbol": "circle"
         },
         "mode": "lines",
         "name": "LinGreedy (incremental)",
         "orientation": "v",
         "showlegend": true,
         "type": "scatter",
         "x": [
          0.05,
          0.1,
          0.15,
          0.2,
          0.25,
          0.3,
          0.35,
          0.4,
          0.45,
          0.5,
          0.55,
          0.6,
          0.65,
          0.7,
          0.75,
          0.8,
          0.85,
          0.9,
          0.95
         ],
         "xaxis": "x",
         "y": [
          0.0769230769230769,
          0.1300160513643659,
          0.1236816874400767,
          0.1440149625935162,
          0.1470449172576832,
          0.1351556567957479,
          0.1362484157160963,
          0.1407226297201847,
          0.1453032104637336,
          0.1345746931866271,
          0.1342857142857142,
          0.1276558991190188,
          0.1218354430379746,
          0.1232876712328767,
          0.1188707280832095,
          0.1227423047570592,
          0.1150784077201447,
          0.1015395463626748,
          0.0849308420286338
         ],
         "yaxis": "y"
        }
       ],
       "layout": {
        "legend": {
         "title": {
          "text": "algorithm"
         },
         "tracegroupgap": 0
        },
        "template": {
         "data": {
          "bar": [
           {
            "error_x": {
             "color": "#2a3f5f"
            },
            "error_y": {
             "color": "#2a3f5f"
            },
            "marker": {
             "line": {
              "color": "#E5ECF6",
              "width": 0.5
             },
             "pattern": {
              "fillmode": "overlay",
              "size": 10,
              "solidity": 0.2
             }
            },
            "type": "bar"
           }
          ],
          "barpolar": [
           {
            "marker": {
             "line": {
              "color": "#E5ECF6",
              "width": 0.5
             },
             "pattern": {
              "fillmode": "overlay",
              "size": 10,
              "solidity": 0.2
             }
            },
            "type": "barpolar"
           }
          ],
          "carpet": [
           {
            "aaxis": {
             "endlinecolor": "#2a3f5f",
             "gridcolor": "white",
             "linecolor": "white",
             "minorgridcolor": "white",
             "startlinecolor": "#2a3f5f"
            },
            "baxis": {
             "endlinecolor": "#2a3f5f",
             "gridcolor": "white",
             "linecolor": "white",
             "minorgridcolor": "white",
             "startlinecolor": "#2a3f5f"
            },
            "type": "carpet"
           }
          ],
          "choropleth": [
           {
            "colorbar": {
             "outlinewidth": 0,
             "ticks": ""
            },
            "type": "choropleth"
           }
          ],
          "contour": [
           {
            "colorbar": {
             "outlinewidth": 0,
             "ticks": ""
            },
            "colorscale": [
             [
              0,
              "#0d0887"
             ],
             [
              0.1111111111111111,
              "#46039f"
             ],
             [
              0.2222222222222222,
              "#7201a8"
             ],
             [
              0.3333333333333333,
              "#9c179e"
             ],
             [
              0.4444444444444444,
              "#bd3786"
             ],
             [
              0.5555555555555556,
              "#d8576b"
             ],
             [
              0.6666666666666666,
              "#ed7953"
             ],
             [
              0.7777777777777778,
              "#fb9f3a"
             ],
             [
              0.8888888888888888,
              "#fdca26"
             ],
             [
              1,
              "#f0f921"
             ]
            ],
            "type": "contour"
           }
          ],
          "contourcarpet": [
           {
            "colorbar": {
             "outlinewidth": 0,
             "ticks": ""
            },
            "type": "contourcarpet"
           }
          ],
          "heatmap": [
           {
            "colorbar": {
             "outlinewidth": 0,
             "ticks": ""
            },
            "colorscale": [
             [
              0,
              "#0d0887"
             ],
             [
              0.1111111111111111,
              "#46039f"
             ],
             [
              0.2222222222222222,
              "#7201a8"
             ],
             [
              0.3333333333333333,
              "#9c179e"
             ],
             [
              0.4444444444444444,
              "#bd3786"
             ],
             [
              0.5555555555555556,
              "#d8576b"
             ],
             [
              0.6666666666666666,
              "#ed7953"
             ],
             [
              0.7777777777777778,
              "#fb9f3a"
             ],
             [
              0.8888888888888888,
              "#fdca26"
             ],
             [
              1,
              "#f0f921"
             ]
            ],
            "type": "heatmap"
           }
          ],
          "heatmapgl": [
           {
            "colorbar": {
             "outlinewidth": 0,
             "ticks": ""
            },
            "colorscale": [
             [
              0,
              "#0d0887"
             ],
             [
              0.1111111111111111,
              "#46039f"
             ],
             [
              0.2222222222222222,
              "#7201a8"
             ],
             [
              0.3333333333333333,
              "#9c179e"
             ],
             [
              0.4444444444444444,
              "#bd3786"
             ],
             [
              0.5555555555555556,
              "#d8576b"
             ],
             [
              0.6666666666666666,
              "#ed7953"
             ],
             [
              0.7777777777777778,
              "#fb9f3a"
             ],
             [
              0.8888888888888888,
              "#fdca26"
             ],
             [
              1,
              "#f0f921"
             ]
            ],
            "type": "heatmapgl"
           }
          ],
          "histogram": [
           {
            "marker": {
             "pattern": {
              "fillmode": "overlay",
              "size": 10,
              "solidity": 0.2
             }
            },
            "type": "histogram"
           }
          ],
          "histogram2d": [
           {
            "colorbar": {
             "outlinewidth": 0,
             "ticks": ""
            },
            "colorscale": [
             [
              0,
              "#0d0887"
             ],
             [
              0.1111111111111111,
              "#46039f"
             ],
             [
              0.2222222222222222,
              "#7201a8"
             ],
             [
              0.3333333333333333,
              "#9c179e"
             ],
             [
              0.4444444444444444,
              "#bd3786"
             ],
             [
              0.5555555555555556,
              "#d8576b"
             ],
             [
              0.6666666666666666,
              "#ed7953"
             ],
             [
              0.7777777777777778,
              "#fb9f3a"
             ],
             [
              0.8888888888888888,
              "#fdca26"
             ],
             [
              1,
              "#f0f921"
             ]
            ],
            "type": "histogram2d"
           }
          ],
          "histogram2dcontour": [
           {
            "colorbar": {
             "outlinewidth": 0,
             "ticks": ""
            },
            "colorscale": [
             [
              0,
              "#0d0887"
             ],
             [
              0.1111111111111111,
              "#46039f"
             ],
             [
              0.2222222222222222,
              "#7201a8"
             ],
             [
              0.3333333333333333,
              "#9c179e"
             ],
             [
              0.4444444444444444,
              "#bd3786"
             ],
             [
              0.5555555555555556,
              "#d8576b"
             ],
             [
              0.6666666666666666,
              "#ed7953"
             ],
             [
              0.7777777777777778,
              "#fb9f3a"
             ],
             [
              0.8888888888888888,
              "#fdca26"
             ],
             [
              1,
              "#f0f921"
             ]
            ],
            "type": "histogram2dcontour"
           }
          ],
          "mesh3d": [
           {
            "colorbar": {
             "outlinewidth": 0,
             "ticks": ""
            },
            "type": "mesh3d"
           }
          ],
          "parcoords": [
           {
            "line": {
             "colorbar": {
              "outlinewidth": 0,
              "ticks": ""
             }
            },
            "type": "parcoords"
           }
          ],
          "pie": [
           {
            "automargin": true,
            "type": "pie"
           }
          ],
          "scatter": [
           {
            "fillpattern": {
             "fillmode": "overlay",
             "size": 10,
             "solidity": 0.2
            },
            "type": "scatter"
           }
          ],
          "scatter3d": [
           {
            "line": {
             "colorbar": {
              "outlinewidth": 0,
              "ticks": ""
             }
            },
            "marker": {
             "colorbar": {
              "outlinewidth": 0,
              "ticks": ""
             }
            },
            "type": "scatter3d"
           }
          ],
          "scattercarpet": [
           {
            "marker": {
             "colorbar": {
              "outlinewidth": 0,
              "ticks": ""
             }
            },
            "type": "scattercarpet"
           }
          ],
          "scattergeo": [
           {
            "marker": {
             "colorbar": {
              "outlinewidth": 0,
              "ticks": ""
             }
            },
            "type": "scattergeo"
           }
          ],
          "scattergl": [
           {
            "marker": {
             "colorbar": {
              "outlinewidth": 0,
              "ticks": ""
             }
            },
            "type": "scattergl"
           }
          ],
          "scattermapbox": [
           {
            "marker": {
             "colorbar": {
              "outlinewidth": 0,
              "ticks": ""
             }
            },
            "type": "scattermapbox"
           }
          ],
          "scatterpolar": [
           {
            "marker": {
             "colorbar": {
              "outlinewidth": 0,
              "ticks": ""
             }
            },
            "type": "scatterpolar"
           }
          ],
          "scatterpolargl": [
           {
            "marker": {
             "colorbar": {
              "outlinewidth": 0,
              "ticks": ""
             }
            },
            "type": "scatterpolargl"
           }
          ],
          "scatterternary": [
           {
            "marker": {
             "colorbar": {
              "outlinewidth": 0,
              "ticks": ""
             }
            },
            "type": "scatterternary"
           }
          ],
          "surface": [
           {
            "colorbar": {
             "outlinewidth": 0,
             "ticks": ""
            },
            "colorscale": [
             [
              0,
              "#0d0887"
             ],
             [
              0.1111111111111111,
              "#46039f"
             ],
             [
              0.2222222222222222,
              "#7201a8"
             ],
             [
              0.3333333333333333,
              "#9c179e"
             ],
             [
              0.4444444444444444,
              "#bd3786"
             ],
             [
              0.5555555555555556,
              "#d8576b"
             ],
             [
              0.6666666666666666,
              "#ed7953"
             ],
             [
              0.7777777777777778,
              "#fb9f3a"
             ],
             [
              0.8888888888888888,
              "#fdca26"
             ],
             [
              1,
              "#f0f921"
             ]
            ],
            "type": "surface"
           }
          ],
          "table": [
           {
            "cells": {
             "fill": {
              "color": "#EBF0F8"
             },
             "line": {
              "color": "white"
             }
            },
            "header": {
             "fill": {
              "color": "#C8D4E3"
             },
             "line": {
              "color": "white"
             }
            },
            "type": "table"
           }
          ]
         },
         "layout": {
          "annotationdefaults": {
           "arrowcolor": "#2a3f5f",
           "arrowhead": 0,
           "arrowwidth": 1
          },
          "autotypenumbers": "strict",
          "coloraxis": {
           "colorbar": {
            "outlinewidth": 0,
            "ticks": ""
           }
          },
          "colorscale": {
           "diverging": [
            [
             0,
             "#8e0152"
            ],
            [
             0.1,
             "#c51b7d"
            ],
            [
             0.2,
             "#de77ae"
            ],
            [
             0.3,
             "#f1b6da"
            ],
            [
             0.4,
             "#fde0ef"
            ],
            [
             0.5,
             "#f7f7f7"
            ],
            [
             0.6,
             "#e6f5d0"
            ],
            [
             0.7,
             "#b8e186"
            ],
            [
             0.8,
             "#7fbc41"
            ],
            [
             0.9,
             "#4d9221"
            ],
            [
             1,
             "#276419"
            ]
           ],
           "sequential": [
            [
             0,
             "#0d0887"
            ],
            [
             0.1111111111111111,
             "#46039f"
            ],
            [
             0.2222222222222222,
             "#7201a8"
            ],
            [
             0.3333333333333333,
             "#9c179e"
            ],
            [
             0.4444444444444444,
             "#bd3786"
            ],
            [
             0.5555555555555556,
             "#d8576b"
            ],
            [
             0.6666666666666666,
             "#ed7953"
            ],
            [
             0.7777777777777778,
             "#fb9f3a"
            ],
            [
             0.8888888888888888,
             "#fdca26"
            ],
            [
             1,
             "#f0f921"
            ]
           ],
           "sequentialminus": [
            [
             0,
             "#0d0887"
            ],
            [
             0.1111111111111111,
             "#46039f"
            ],
            [
             0.2222222222222222,
             "#7201a8"
            ],
            [
             0.3333333333333333,
             "#9c179e"
            ],
            [
             0.4444444444444444,
             "#bd3786"
            ],
            [
             0.5555555555555556,
             "#d8576b"
            ],
            [
             0.6666666666666666,
             "#ed7953"
            ],
            [
             0.7777777777777778,
             "#fb9f3a"
            ],
            [
             0.8888888888888888,
             "#fdca26"
            ],
            [
             1,
             "#f0f921"
            ]
           ]
          },
          "colorway": [
           "#636efa",
           "#EF553B",
           "#00cc96",
           "#ab63fa",
           "#FFA15A",
           "#19d3f3",
           "#FF6692",
           "#B6E880",
           "#FF97FF",
           "#FECB52"
          ],
          "font": {
           "color": "#2a3f5f"
          },
          "geo": {
           "bgcolor": "white",
           "lakecolor": "white",
           "landcolor": "#E5ECF6",
           "showlakes": true,
           "showland": true,
           "subunitcolor": "white"
          },
          "hoverlabel": {
           "align": "left"
          },
          "hovermode": "closest",
          "mapbox": {
           "style": "light"
          },
          "paper_bgcolor": "white",
          "plot_bgcolor": "#E5ECF6",
          "polar": {
           "angularaxis": {
            "gridcolor": "white",
            "linecolor": "white",
            "ticks": ""
           },
           "bgcolor": "#E5ECF6",
           "radialaxis": {
            "gridcolor": "white",
            "linecolor": "white",
            "ticks": ""
           }
          },
          "scene": {
           "xaxis": {
            "backgroundcolor": "#E5ECF6",
            "gridcolor": "white",
            "gridwidth": 2,
            "linecolor": "white",
            "showbackground": true,
            "ticks": "",
            "zerolinecolor": "white"
           },
           "yaxis": {
            "backgroundcolor": "#E5ECF6",
            "gridcolor": "white",
            "gridwidth": 2,
            "linecolor": "white",
            "showbackground": true,
            "ticks": "",
            "zerolinecolor": "white"
           },
           "zaxis": {
            "backgroundcolor": "#E5ECF6",
            "gridcolor": "white",
            "gridwidth": 2,
            "linecolor": "white",
            "showbackground": true,
            "ticks": "",
            "zerolinecolor": "white"
           }
          },
          "shapedefaults": {
           "line": {
            "color": "#2a3f5f"
           }
          },
          "ternary": {
           "aaxis": {
            "gridcolor": "white",
            "linecolor": "white",
            "ticks": ""
           },
           "baxis": {
            "gridcolor": "white",
            "linecolor": "white",
            "ticks": ""
           },
           "bgcolor": "#E5ECF6",
           "caxis": {
            "gridcolor": "white",
            "linecolor": "white",
            "ticks": ""
           }
          },
          "title": {
           "x": 0.05
          },
          "xaxis": {
           "automargin": true,
           "gridcolor": "white",
           "linecolor": "white",
           "ticks": "",
           "title": {
            "standoff": 15
           },
           "zerolinecolor": "white",
           "zerolinewidth": 2
          },
          "yaxis": {
           "automargin": true,
           "gridcolor": "white",
           "linecolor": "white",
           "ticks": "",
           "title": {
            "standoff": 15
           },
           "zerolinecolor": "white",
           "zerolinewidth": 2
          }
         }
        },
        "title": {
         "text": "HR x Test size"
        },
        "xaxis": {
         "anchor": "y",
         "domain": [
          0,
          1
         ],
         "title": {
          "text": "test_size"
         }
        },
        "yaxis": {
         "anchor": "x",
         "domain": [
          0,
          1
         ],
         "title": {
          "text": "hr"
         }
        }
       }
      }
     },
     "metadata": {},
     "output_type": "display_data"
    }
   ],
   "source": [
    "fig = px.line(df_results_filtered, x=\"test_size\", y=\"hr\", color='algorithm', title='HR x Test size')\n",
    "fig.show()\n",
    "fig.write_html('results/hr_x_test_size.html')"
   ]
  }
 ],
 "metadata": {
  "kernelspec": {
   "display_name": "RLRS-rllib",
   "language": "python",
   "name": "python3"
  },
  "language_info": {
   "codemirror_mode": {
    "name": "ipython",
    "version": 3
   },
   "file_extension": ".py",
   "mimetype": "text/x-python",
   "name": "python",
   "nbconvert_exporter": "python",
   "pygments_lexer": "ipython3",
   "version": "3.8.16"
  }
 },
 "nbformat": 4,
 "nbformat_minor": 2
}
