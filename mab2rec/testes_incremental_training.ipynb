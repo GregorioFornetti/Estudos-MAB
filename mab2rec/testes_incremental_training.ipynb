{
 "cells": [
  {
   "cell_type": "markdown",
   "metadata": {},
   "source": [
    "# Testes de treinamento incremental"
   ]
  },
  {
   "cell_type": "markdown",
   "metadata": {},
   "source": [
    "A ideia deste notebook é verificar se treinar os algoritmos de MAB durante as interações de teste geram alguma melhora para eles, comparando-os com os resultados de um algoritmo estático (ALS)."
   ]
  },
  {
   "cell_type": "code",
   "execution_count": 1,
   "metadata": {},
   "outputs": [],
   "source": [
    "import pandas as pd\n",
    "from mab2rec import BanditRecommender, LearningPolicy\n",
    "from mab2rec.pipeline import train\n",
    "from sklearn.preprocessing import LabelEncoder\n",
    "import implicit\n",
    "from scipy.sparse import csr_matrix\n",
    "from implicit.nearest_neighbours import bm25_weight\n",
    "import plotly.express as px\n",
    "import time\n",
    "\n",
    "train_data = \"../data/ml100k/data_train.csv\"\n",
    "test_data = \"../data/ml100k/data_test.csv\""
   ]
  },
  {
   "cell_type": "code",
   "execution_count": 2,
   "metadata": {},
   "outputs": [],
   "source": [
    "def initial_train(df, num_users, num_items):\n",
    "    FACTORS = 10\n",
    "    K1 = 100\n",
    "    B = 0.8\n",
    "\n",
    "    # Cria a matriz esparsa\n",
    "    sparse_matrix = csr_matrix((df['response'], (df['user_id'], df['item_id'])), shape=(num_users, num_items))\n",
    "    updated_sparse_matrix = bm25_weight(sparse_matrix, K1=K1, B=B)\n",
    "\n",
    "    print('Treinando o modelo ALS')\n",
    "    ALS_model = implicit.als.AlternatingLeastSquares(factors=FACTORS, random_state=1)\n",
    "    ALS_model.fit(updated_sparse_matrix)\n",
    "\n",
    "    user_features_list = []\n",
    "\n",
    "    for user_id in df['user_id'].unique():\n",
    "        user_factors = ALS_model.user_factors[user_id]\n",
    "        user_features_list.append([user_id] + list(user_factors))\n",
    "\n",
    "    df_user_features = pd.DataFrame(user_features_list, columns=['user_id'] + [f'u{i}' for i in range(FACTORS)])\n",
    "\n",
    "    print('Treinando o modelo LinUCB')\n",
    "    linUCB_model = BanditRecommender(learning_policy=LearningPolicy.LinUCB(), top_k=10)\n",
    "    train(linUCB_model, data=df, user_features=df_user_features)\n",
    "    \n",
    "\n",
    "    print('Treinando o modelo LinGreedy')\n",
    "    linGreedy_model = BanditRecommender(learning_policy=LearningPolicy.LinGreedy(), top_k=10)\n",
    "    train(linGreedy_model, data=df, user_features=df_user_features)\n",
    "\n",
    "    return ALS_model, linUCB_model, linGreedy_model, df_user_features, sparse_matrix"
   ]
  },
  {
   "cell_type": "code",
   "execution_count": 3,
   "metadata": {},
   "outputs": [],
   "source": [
    "\n",
    "def test_ALS(ALS_model, sparse_matrix, df_test):\n",
    "    print('Testing ALS')\n",
    "\n",
    "    start_time = time.time()\n",
    "    hits = 0\n",
    "    for i, interaction in df_test.iterrows():\n",
    "        ids_recs, _ = ALS_model.recommend(userid=interaction['user_id'], user_items=sparse_matrix[interaction['user_id']], N=10)\n",
    "        if interaction['item_id'] in ids_recs:\n",
    "            hits += 1\n",
    "    \n",
    "\n",
    "    return hits, hits/len(df_test), time.time() - start_time"
   ]
  },
  {
   "cell_type": "code",
   "execution_count": 4,
   "metadata": {},
   "outputs": [],
   "source": [
    "def test_non_incremental(mab_algo, algo_name, user_features, df_test):\n",
    "    print(f'Testing {algo_name}')\n",
    "\n",
    "    start_time = time.time()\n",
    "    hits = 0\n",
    "\n",
    "    contexts = df_test.merge(user_features, on='user_id').drop(columns=['user_id', 'item_id', 'response']).values\n",
    "\n",
    "    recomendations = mab_algo.recommend(contexts)\n",
    "\n",
    "    df_test = df_test.reset_index(drop=True)\n",
    "\n",
    "    hits = 0\n",
    "    for i, interaction in df_test.iterrows():\n",
    "        if interaction['item_id'] in recomendations[i]:\n",
    "            hits += 1\n",
    "\n",
    "    return hits, hits/len(df_test), time.time() - start_time"
   ]
  },
  {
   "cell_type": "code",
   "execution_count": 5,
   "metadata": {},
   "outputs": [],
   "source": [
    "def test_incremental(mab_algo, algo_name, user_features, df_test, df_test_for_evaluation, batch_size):\n",
    "    print(f'Testing {algo_name} with batch size {batch_size}')\n",
    "\n",
    "    start_time = time.time()\n",
    "    hits = 0\n",
    "\n",
    "    for i in range(0, len(df_test), batch_size):\n",
    "        # Fazendo recomendações para teste\n",
    "        df_batch_test = df_test_for_evaluation.loc[i:i+batch_size-1]\n",
    "        contexts = df_batch_test.merge(user_features, on='user_id').drop(columns=['user_id', 'item_id', 'response']).values\n",
    "\n",
    "        if len(contexts) > 0: # Se não tiver nenhuma interação positiva, não faz sentido fazer recomendações\n",
    "            recomendations = mab_algo.recommend(contexts)\n",
    "            if isinstance(recomendations, list) and isinstance(recomendations[0], int):\n",
    "                # Quando o contexto tem tamanho 1, a recomendação é uma lista, e não uma lista de listas\n",
    "                recomendations = [recomendations]\n",
    "\n",
    "            df_batch_test = df_batch_test.reset_index(drop=True)\n",
    "\n",
    "            for j, interaction in df_batch_test.iterrows():\n",
    "                if interaction['item_id'] in recomendations[j]:\n",
    "                    hits += 1\n",
    "        \n",
    "        # Treinando com o batch\n",
    "        df_batch_train = df_test.loc[i:i+batch_size-1]\n",
    "        contexts = df_batch_train.merge(user_features, on='user_id').drop(columns=['user_id', 'item_id', 'response']).values\n",
    "\n",
    "        mab_algo.partial_fit(df_batch_train['item_id'], df_batch_train['response'], contexts)\n",
    "\n",
    "    return hits, hits/len(df_test_for_evaluation), time.time() - start_time"
   ]
  },
  {
   "cell_type": "code",
   "execution_count": 6,
   "metadata": {},
   "outputs": [],
   "source": [
    "def test(train_size, batchs_sizes):\n",
    "    results = []\n",
    "    df_train = pd.read_csv(train_data)\n",
    "    df_test = pd.read_csv(test_data)\n",
    "\n",
    "    df_full = pd.concat([df_train, df_test])\n",
    "\n",
    "    df_full['user_id'] = LabelEncoder().fit_transform(df_full['user_id'])\n",
    "    df_full['item_id'] = LabelEncoder().fit_transform(df_full['item_id'])\n",
    "\n",
    "    num_users = df_full['user_id'].nunique()\n",
    "    num_items = df_full['item_id'].nunique()\n",
    "\n",
    "    split_index = int(len(df_full) * train_size)\n",
    "    df_train = df_full[:split_index]\n",
    "    df_test = df_full[split_index:]\n",
    "\n",
    "    df_test = df_test[(df_test['user_id'].isin(df_train['user_id'])) & (df_test['item_id'].isin(df_train['item_id']))]\n",
    "    df_test = df_test.reset_index(drop=True)\n",
    "    df_test_for_evaluation = df_test[df_test['response'] == 1]\n",
    "\n",
    "    ALS_model, linUCB_model, linGreedy_model, df_user_features, sparse_matrix = initial_train(df_train, num_users, num_items)\n",
    "\n",
    "    hits, hr, spent_time = test_ALS(ALS_model, sparse_matrix, df_test_for_evaluation)\n",
    "    results.append({'algorithm': 'ALS', 'hits': hits, 'hr': hr, 'time': spent_time})\n",
    "\n",
    "    print('\\nTesting non-incremental\\n')\n",
    "\n",
    "    hits, hr, spent_time = test_non_incremental(linUCB_model, 'LinUCB', df_user_features, df_test_for_evaluation)\n",
    "    results.append({'algorithm': 'LinUCB (non_incremental)', 'hits': hits, 'hr': hr, 'time': spent_time})\n",
    "\n",
    "    hits, hr, spent_time = test_non_incremental(linGreedy_model, 'LinGreedy', df_user_features, df_test_for_evaluation)\n",
    "    results.append({'algorithm': 'LinGreedy (non_incremental)', 'hits': hits, 'hr': hr, 'time': spent_time})\n",
    "\n",
    "    print('\\nTesting incremental\\n')\n",
    "    \n",
    "    for batch_size in batchs_sizes:\n",
    "        print('Treinando o modelo LinUCB')\n",
    "        linUCB_model = BanditRecommender(learning_policy=LearningPolicy.LinUCB(), top_k=10)\n",
    "        train(linUCB_model, data=df_train, user_features=df_user_features)\n",
    "\n",
    "        hits, hr, spent_time = test_incremental(linUCB_model, 'LinUCB', df_user_features, df_test, df_test_for_evaluation, batch_size)\n",
    "        results.append({'algorithm': 'LinUCB (incremental)', 'hits': hits, 'hr': hr, 'time': spent_time, 'batch_size': batch_size})\n",
    "\n",
    "        print('Treinando o modelo LinGreedy')\n",
    "        linGreedy_model = BanditRecommender(learning_policy=LearningPolicy.LinGreedy(), top_k=10)\n",
    "        train(linGreedy_model, data=df_train, user_features=df_user_features)\n",
    "\n",
    "        hits, hr, spent_time = test_incremental(linGreedy_model, 'LinGreedy', df_user_features, df_test, df_test_for_evaluation, batch_size)\n",
    "        results.append({'algorithm': 'LinGreedy (incremental)', 'hits': hits, 'hr': hr, 'time': spent_time, 'batch_size': batch_size})\n",
    "    \n",
    "    df_results = pd.DataFrame(results)\n",
    "    df_results = df_results.astype({'hits': int, 'hr': float, 'time': float})\n",
    "    df_results['test_size'] = round(1 - train_size, 2)\n",
    "    df_results['test_interactions'] = len(df_test_for_evaluation)\n",
    "    return df_results"
   ]
  },
  {
   "cell_type": "code",
   "execution_count": null,
   "metadata": {},
   "outputs": [],
   "source": [
    "train_sizes = [0.95, 0.90, 0.85, 0.80, 0.75, 0.70, 0.65, 0.60, 0.55, 0.50, 0.45, 0.40, 0.35, 0.30, 0.25, 0.20, 0.15, 0.10, 0.05]\n",
    "batch_sizes = [1, 5, 10, 100, 1000]\n",
    "\n",
    "for train_size in train_sizes:\n",
    "    df_results = test(train_size, batch_sizes)\n",
    "    df_results.to_csv(f'results/results_{str(train_size)[2:]}.csv', index=False)"
   ]
  },
  {
   "cell_type": "code",
   "execution_count": 9,
   "metadata": {},
   "outputs": [
    {
     "data": {
      "text/html": [
       "<div>\n",
       "<style scoped>\n",
       "    .dataframe tbody tr th:only-of-type {\n",
       "        vertical-align: middle;\n",
       "    }\n",
       "\n",
       "    .dataframe tbody tr th {\n",
       "        vertical-align: top;\n",
       "    }\n",
       "\n",
       "    .dataframe thead th {\n",
       "        text-align: right;\n",
       "    }\n",
       "</style>\n",
       "<table border=\"1\" class=\"dataframe\">\n",
       "  <thead>\n",
       "    <tr style=\"text-align: right;\">\n",
       "      <th></th>\n",
       "      <th>algorithm</th>\n",
       "      <th>hits</th>\n",
       "      <th>hr</th>\n",
       "      <th>time</th>\n",
       "      <th>batch_size</th>\n",
       "      <th>test_size</th>\n",
       "      <th>test_interactions</th>\n",
       "    </tr>\n",
       "  </thead>\n",
       "  <tbody>\n",
       "    <tr>\n",
       "      <th>0</th>\n",
       "      <td>ALS</td>\n",
       "      <td>46</td>\n",
       "      <td>0.153846</td>\n",
       "      <td>0.250584</td>\n",
       "      <td>NaN</td>\n",
       "      <td>0.05</td>\n",
       "      <td>299</td>\n",
       "    </tr>\n",
       "    <tr>\n",
       "      <th>1</th>\n",
       "      <td>LinUCB (non_incremental)</td>\n",
       "      <td>22</td>\n",
       "      <td>0.073579</td>\n",
       "      <td>0.078525</td>\n",
       "      <td>NaN</td>\n",
       "      <td>0.05</td>\n",
       "      <td>299</td>\n",
       "    </tr>\n",
       "    <tr>\n",
       "      <th>2</th>\n",
       "      <td>LinGreedy (non_incremental)</td>\n",
       "      <td>22</td>\n",
       "      <td>0.073579</td>\n",
       "      <td>0.058038</td>\n",
       "      <td>NaN</td>\n",
       "      <td>0.05</td>\n",
       "      <td>299</td>\n",
       "    </tr>\n",
       "    <tr>\n",
       "      <th>3</th>\n",
       "      <td>LinUCB (incremental)</td>\n",
       "      <td>17</td>\n",
       "      <td>0.056856</td>\n",
       "      <td>68.856901</td>\n",
       "      <td>1.0</td>\n",
       "      <td>0.05</td>\n",
       "      <td>299</td>\n",
       "    </tr>\n",
       "    <tr>\n",
       "      <th>4</th>\n",
       "      <td>LinGreedy (incremental)</td>\n",
       "      <td>16</td>\n",
       "      <td>0.053512</td>\n",
       "      <td>75.320913</td>\n",
       "      <td>1.0</td>\n",
       "      <td>0.05</td>\n",
       "      <td>299</td>\n",
       "    </tr>\n",
       "    <tr>\n",
       "      <th>...</th>\n",
       "      <td>...</td>\n",
       "      <td>...</td>\n",
       "      <td>...</td>\n",
       "      <td>...</td>\n",
       "      <td>...</td>\n",
       "      <td>...</td>\n",
       "      <td>...</td>\n",
       "    </tr>\n",
       "    <tr>\n",
       "      <th>8</th>\n",
       "      <td>LinGreedy (incremental)</td>\n",
       "      <td>589</td>\n",
       "      <td>0.071463</td>\n",
       "      <td>157.516431</td>\n",
       "      <td>10.0</td>\n",
       "      <td>0.95</td>\n",
       "      <td>8242</td>\n",
       "    </tr>\n",
       "    <tr>\n",
       "      <th>9</th>\n",
       "      <td>LinUCB (incremental)</td>\n",
       "      <td>506</td>\n",
       "      <td>0.061393</td>\n",
       "      <td>24.290873</td>\n",
       "      <td>100.0</td>\n",
       "      <td>0.95</td>\n",
       "      <td>8242</td>\n",
       "    </tr>\n",
       "    <tr>\n",
       "      <th>10</th>\n",
       "      <td>LinGreedy (incremental)</td>\n",
       "      <td>605</td>\n",
       "      <td>0.073405</td>\n",
       "      <td>23.464792</td>\n",
       "      <td>100.0</td>\n",
       "      <td>0.95</td>\n",
       "      <td>8242</td>\n",
       "    </tr>\n",
       "    <tr>\n",
       "      <th>11</th>\n",
       "      <td>LinUCB (incremental)</td>\n",
       "      <td>485</td>\n",
       "      <td>0.058845</td>\n",
       "      <td>4.258888</td>\n",
       "      <td>1000.0</td>\n",
       "      <td>0.95</td>\n",
       "      <td>8242</td>\n",
       "    </tr>\n",
       "    <tr>\n",
       "      <th>12</th>\n",
       "      <td>LinGreedy (incremental)</td>\n",
       "      <td>602</td>\n",
       "      <td>0.073041</td>\n",
       "      <td>4.135612</td>\n",
       "      <td>1000.0</td>\n",
       "      <td>0.95</td>\n",
       "      <td>8242</td>\n",
       "    </tr>\n",
       "  </tbody>\n",
       "</table>\n",
       "<p>247 rows × 7 columns</p>\n",
       "</div>"
      ],
      "text/plain": [
       "                      algorithm  hits        hr        time  batch_size  \\\n",
       "0                           ALS    46  0.153846    0.250584         NaN   \n",
       "1      LinUCB (non_incremental)    22  0.073579    0.078525         NaN   \n",
       "2   LinGreedy (non_incremental)    22  0.073579    0.058038         NaN   \n",
       "3          LinUCB (incremental)    17  0.056856   68.856901         1.0   \n",
       "4       LinGreedy (incremental)    16  0.053512   75.320913         1.0   \n",
       "..                          ...   ...       ...         ...         ...   \n",
       "8       LinGreedy (incremental)   589  0.071463  157.516431        10.0   \n",
       "9          LinUCB (incremental)   506  0.061393   24.290873       100.0   \n",
       "10      LinGreedy (incremental)   605  0.073405   23.464792       100.0   \n",
       "11         LinUCB (incremental)   485  0.058845    4.258888      1000.0   \n",
       "12      LinGreedy (incremental)   602  0.073041    4.135612      1000.0   \n",
       "\n",
       "    test_size  test_interactions  \n",
       "0        0.05                299  \n",
       "1        0.05                299  \n",
       "2        0.05                299  \n",
       "3        0.05                299  \n",
       "4        0.05                299  \n",
       "..        ...                ...  \n",
       "8        0.95               8242  \n",
       "9        0.95               8242  \n",
       "10       0.95               8242  \n",
       "11       0.95               8242  \n",
       "12       0.95               8242  \n",
       "\n",
       "[247 rows x 7 columns]"
      ]
     },
     "execution_count": 9,
     "metadata": {},
     "output_type": "execute_result"
    }
   ],
   "source": [
    "all_dfs = []\n",
    "\n",
    "for train_size in train_sizes:\n",
    "    all_dfs.append(pd.read_csv(f'results/results_{str(train_size)[2:]}.csv'))\n",
    "    \n",
    "df_results = pd.concat(all_dfs)\n",
    "df_results"
   ]
  },
  {
   "cell_type": "code",
   "execution_count": 10,
   "metadata": {},
   "outputs": [],
   "source": [
    "df_results.to_csv('results/concat_results.csv', index=False)"
   ]
  },
  {
   "cell_type": "code",
   "execution_count": 11,
   "metadata": {},
   "outputs": [
    {
     "data": {
      "text/html": [
       "<div>\n",
       "<style scoped>\n",
       "    .dataframe tbody tr th:only-of-type {\n",
       "        vertical-align: middle;\n",
       "    }\n",
       "\n",
       "    .dataframe tbody tr th {\n",
       "        vertical-align: top;\n",
       "    }\n",
       "\n",
       "    .dataframe thead th {\n",
       "        text-align: right;\n",
       "    }\n",
       "</style>\n",
       "<table border=\"1\" class=\"dataframe\">\n",
       "  <thead>\n",
       "    <tr style=\"text-align: right;\">\n",
       "      <th></th>\n",
       "      <th>algorithm</th>\n",
       "      <th>hits</th>\n",
       "      <th>hr</th>\n",
       "      <th>time</th>\n",
       "      <th>batch_size</th>\n",
       "      <th>test_size</th>\n",
       "      <th>test_interactions</th>\n",
       "    </tr>\n",
       "  </thead>\n",
       "  <tbody>\n",
       "    <tr>\n",
       "      <th>3</th>\n",
       "      <td>LinUCB (incremental)</td>\n",
       "      <td>17</td>\n",
       "      <td>0.056856</td>\n",
       "      <td>68.856901</td>\n",
       "      <td>1.0</td>\n",
       "      <td>0.05</td>\n",
       "      <td>299</td>\n",
       "    </tr>\n",
       "    <tr>\n",
       "      <th>4</th>\n",
       "      <td>LinGreedy (incremental)</td>\n",
       "      <td>16</td>\n",
       "      <td>0.053512</td>\n",
       "      <td>75.320913</td>\n",
       "      <td>1.0</td>\n",
       "      <td>0.05</td>\n",
       "      <td>299</td>\n",
       "    </tr>\n",
       "    <tr>\n",
       "      <th>5</th>\n",
       "      <td>LinUCB (incremental)</td>\n",
       "      <td>17</td>\n",
       "      <td>0.056856</td>\n",
       "      <td>17.926848</td>\n",
       "      <td>5.0</td>\n",
       "      <td>0.05</td>\n",
       "      <td>299</td>\n",
       "    </tr>\n",
       "    <tr>\n",
       "      <th>6</th>\n",
       "      <td>LinGreedy (incremental)</td>\n",
       "      <td>16</td>\n",
       "      <td>0.053512</td>\n",
       "      <td>17.997318</td>\n",
       "      <td>5.0</td>\n",
       "      <td>0.05</td>\n",
       "      <td>299</td>\n",
       "    </tr>\n",
       "    <tr>\n",
       "      <th>7</th>\n",
       "      <td>LinUCB (incremental)</td>\n",
       "      <td>19</td>\n",
       "      <td>0.063545</td>\n",
       "      <td>9.397860</td>\n",
       "      <td>10.0</td>\n",
       "      <td>0.05</td>\n",
       "      <td>299</td>\n",
       "    </tr>\n",
       "    <tr>\n",
       "      <th>...</th>\n",
       "      <td>...</td>\n",
       "      <td>...</td>\n",
       "      <td>...</td>\n",
       "      <td>...</td>\n",
       "      <td>...</td>\n",
       "      <td>...</td>\n",
       "      <td>...</td>\n",
       "    </tr>\n",
       "    <tr>\n",
       "      <th>8</th>\n",
       "      <td>LinGreedy (incremental)</td>\n",
       "      <td>589</td>\n",
       "      <td>0.071463</td>\n",
       "      <td>157.516431</td>\n",
       "      <td>10.0</td>\n",
       "      <td>0.95</td>\n",
       "      <td>8242</td>\n",
       "    </tr>\n",
       "    <tr>\n",
       "      <th>9</th>\n",
       "      <td>LinUCB (incremental)</td>\n",
       "      <td>506</td>\n",
       "      <td>0.061393</td>\n",
       "      <td>24.290873</td>\n",
       "      <td>100.0</td>\n",
       "      <td>0.95</td>\n",
       "      <td>8242</td>\n",
       "    </tr>\n",
       "    <tr>\n",
       "      <th>10</th>\n",
       "      <td>LinGreedy (incremental)</td>\n",
       "      <td>605</td>\n",
       "      <td>0.073405</td>\n",
       "      <td>23.464792</td>\n",
       "      <td>100.0</td>\n",
       "      <td>0.95</td>\n",
       "      <td>8242</td>\n",
       "    </tr>\n",
       "    <tr>\n",
       "      <th>11</th>\n",
       "      <td>LinUCB (incremental)</td>\n",
       "      <td>485</td>\n",
       "      <td>0.058845</td>\n",
       "      <td>4.258888</td>\n",
       "      <td>1000.0</td>\n",
       "      <td>0.95</td>\n",
       "      <td>8242</td>\n",
       "    </tr>\n",
       "    <tr>\n",
       "      <th>12</th>\n",
       "      <td>LinGreedy (incremental)</td>\n",
       "      <td>602</td>\n",
       "      <td>0.073041</td>\n",
       "      <td>4.135612</td>\n",
       "      <td>1000.0</td>\n",
       "      <td>0.95</td>\n",
       "      <td>8242</td>\n",
       "    </tr>\n",
       "  </tbody>\n",
       "</table>\n",
       "<p>190 rows × 7 columns</p>\n",
       "</div>"
      ],
      "text/plain": [
       "                  algorithm  hits        hr        time  batch_size  \\\n",
       "3      LinUCB (incremental)    17  0.056856   68.856901         1.0   \n",
       "4   LinGreedy (incremental)    16  0.053512   75.320913         1.0   \n",
       "5      LinUCB (incremental)    17  0.056856   17.926848         5.0   \n",
       "6   LinGreedy (incremental)    16  0.053512   17.997318         5.0   \n",
       "7      LinUCB (incremental)    19  0.063545    9.397860        10.0   \n",
       "..                      ...   ...       ...         ...         ...   \n",
       "8   LinGreedy (incremental)   589  0.071463  157.516431        10.0   \n",
       "9      LinUCB (incremental)   506  0.061393   24.290873       100.0   \n",
       "10  LinGreedy (incremental)   605  0.073405   23.464792       100.0   \n",
       "11     LinUCB (incremental)   485  0.058845    4.258888      1000.0   \n",
       "12  LinGreedy (incremental)   602  0.073041    4.135612      1000.0   \n",
       "\n",
       "    test_size  test_interactions  \n",
       "3        0.05                299  \n",
       "4        0.05                299  \n",
       "5        0.05                299  \n",
       "6        0.05                299  \n",
       "7        0.05                299  \n",
       "..        ...                ...  \n",
       "8        0.95               8242  \n",
       "9        0.95               8242  \n",
       "10       0.95               8242  \n",
       "11       0.95               8242  \n",
       "12       0.95               8242  \n",
       "\n",
       "[190 rows x 7 columns]"
      ]
     },
     "execution_count": 11,
     "metadata": {},
     "output_type": "execute_result"
    }
   ],
   "source": [
    "df_results_incremental = df_results.dropna()\n",
    "df_results_incremental"
   ]
  },
  {
   "cell_type": "code",
   "execution_count": 12,
   "metadata": {},
   "outputs": [
    {
     "name": "stderr",
     "output_type": "stream",
     "text": [
      "C:\\Users\\gregf\\AppData\\Local\\Temp\\ipykernel_22760\\172089932.py:1: SettingWithCopyWarning: \n",
      "A value is trying to be set on a copy of a slice from a DataFrame.\n",
      "Try using .loc[row_indexer,col_indexer] = value instead\n",
      "\n",
      "See the caveats in the documentation: https://pandas.pydata.org/pandas-docs/stable/user_guide/indexing.html#returning-a-view-versus-a-copy\n",
      "  df_results_incremental['algo_batch'] = df_results_incremental['algorithm'] + ' - ' + df_results_incremental['batch_size'].astype(str)\n"
     ]
    },
    {
     "data": {
      "text/html": [
       "<div>\n",
       "<style scoped>\n",
       "    .dataframe tbody tr th:only-of-type {\n",
       "        vertical-align: middle;\n",
       "    }\n",
       "\n",
       "    .dataframe tbody tr th {\n",
       "        vertical-align: top;\n",
       "    }\n",
       "\n",
       "    .dataframe thead th {\n",
       "        text-align: right;\n",
       "    }\n",
       "</style>\n",
       "<table border=\"1\" class=\"dataframe\">\n",
       "  <thead>\n",
       "    <tr style=\"text-align: right;\">\n",
       "      <th></th>\n",
       "      <th>algorithm</th>\n",
       "      <th>hits</th>\n",
       "      <th>hr</th>\n",
       "      <th>time</th>\n",
       "      <th>batch_size</th>\n",
       "      <th>test_size</th>\n",
       "      <th>test_interactions</th>\n",
       "      <th>algo_batch</th>\n",
       "    </tr>\n",
       "  </thead>\n",
       "  <tbody>\n",
       "    <tr>\n",
       "      <th>3</th>\n",
       "      <td>LinUCB (incremental)</td>\n",
       "      <td>17</td>\n",
       "      <td>0.056856</td>\n",
       "      <td>68.856901</td>\n",
       "      <td>1.0</td>\n",
       "      <td>0.05</td>\n",
       "      <td>299</td>\n",
       "      <td>LinUCB (incremental) - 1.0</td>\n",
       "    </tr>\n",
       "    <tr>\n",
       "      <th>4</th>\n",
       "      <td>LinGreedy (incremental)</td>\n",
       "      <td>16</td>\n",
       "      <td>0.053512</td>\n",
       "      <td>75.320913</td>\n",
       "      <td>1.0</td>\n",
       "      <td>0.05</td>\n",
       "      <td>299</td>\n",
       "      <td>LinGreedy (incremental) - 1.0</td>\n",
       "    </tr>\n",
       "    <tr>\n",
       "      <th>5</th>\n",
       "      <td>LinUCB (incremental)</td>\n",
       "      <td>17</td>\n",
       "      <td>0.056856</td>\n",
       "      <td>17.926848</td>\n",
       "      <td>5.0</td>\n",
       "      <td>0.05</td>\n",
       "      <td>299</td>\n",
       "      <td>LinUCB (incremental) - 5.0</td>\n",
       "    </tr>\n",
       "    <tr>\n",
       "      <th>6</th>\n",
       "      <td>LinGreedy (incremental)</td>\n",
       "      <td>16</td>\n",
       "      <td>0.053512</td>\n",
       "      <td>17.997318</td>\n",
       "      <td>5.0</td>\n",
       "      <td>0.05</td>\n",
       "      <td>299</td>\n",
       "      <td>LinGreedy (incremental) - 5.0</td>\n",
       "    </tr>\n",
       "    <tr>\n",
       "      <th>7</th>\n",
       "      <td>LinUCB (incremental)</td>\n",
       "      <td>19</td>\n",
       "      <td>0.063545</td>\n",
       "      <td>9.397860</td>\n",
       "      <td>10.0</td>\n",
       "      <td>0.05</td>\n",
       "      <td>299</td>\n",
       "      <td>LinUCB (incremental) - 10.0</td>\n",
       "    </tr>\n",
       "    <tr>\n",
       "      <th>...</th>\n",
       "      <td>...</td>\n",
       "      <td>...</td>\n",
       "      <td>...</td>\n",
       "      <td>...</td>\n",
       "      <td>...</td>\n",
       "      <td>...</td>\n",
       "      <td>...</td>\n",
       "      <td>...</td>\n",
       "    </tr>\n",
       "    <tr>\n",
       "      <th>8</th>\n",
       "      <td>LinGreedy (incremental)</td>\n",
       "      <td>589</td>\n",
       "      <td>0.071463</td>\n",
       "      <td>157.516431</td>\n",
       "      <td>10.0</td>\n",
       "      <td>0.95</td>\n",
       "      <td>8242</td>\n",
       "      <td>LinGreedy (incremental) - 10.0</td>\n",
       "    </tr>\n",
       "    <tr>\n",
       "      <th>9</th>\n",
       "      <td>LinUCB (incremental)</td>\n",
       "      <td>506</td>\n",
       "      <td>0.061393</td>\n",
       "      <td>24.290873</td>\n",
       "      <td>100.0</td>\n",
       "      <td>0.95</td>\n",
       "      <td>8242</td>\n",
       "      <td>LinUCB (incremental) - 100.0</td>\n",
       "    </tr>\n",
       "    <tr>\n",
       "      <th>10</th>\n",
       "      <td>LinGreedy (incremental)</td>\n",
       "      <td>605</td>\n",
       "      <td>0.073405</td>\n",
       "      <td>23.464792</td>\n",
       "      <td>100.0</td>\n",
       "      <td>0.95</td>\n",
       "      <td>8242</td>\n",
       "      <td>LinGreedy (incremental) - 100.0</td>\n",
       "    </tr>\n",
       "    <tr>\n",
       "      <th>11</th>\n",
       "      <td>LinUCB (incremental)</td>\n",
       "      <td>485</td>\n",
       "      <td>0.058845</td>\n",
       "      <td>4.258888</td>\n",
       "      <td>1000.0</td>\n",
       "      <td>0.95</td>\n",
       "      <td>8242</td>\n",
       "      <td>LinUCB (incremental) - 1000.0</td>\n",
       "    </tr>\n",
       "    <tr>\n",
       "      <th>12</th>\n",
       "      <td>LinGreedy (incremental)</td>\n",
       "      <td>602</td>\n",
       "      <td>0.073041</td>\n",
       "      <td>4.135612</td>\n",
       "      <td>1000.0</td>\n",
       "      <td>0.95</td>\n",
       "      <td>8242</td>\n",
       "      <td>LinGreedy (incremental) - 1000.0</td>\n",
       "    </tr>\n",
       "  </tbody>\n",
       "</table>\n",
       "<p>190 rows × 8 columns</p>\n",
       "</div>"
      ],
      "text/plain": [
       "                  algorithm  hits        hr        time  batch_size  \\\n",
       "3      LinUCB (incremental)    17  0.056856   68.856901         1.0   \n",
       "4   LinGreedy (incremental)    16  0.053512   75.320913         1.0   \n",
       "5      LinUCB (incremental)    17  0.056856   17.926848         5.0   \n",
       "6   LinGreedy (incremental)    16  0.053512   17.997318         5.0   \n",
       "7      LinUCB (incremental)    19  0.063545    9.397860        10.0   \n",
       "..                      ...   ...       ...         ...         ...   \n",
       "8   LinGreedy (incremental)   589  0.071463  157.516431        10.0   \n",
       "9      LinUCB (incremental)   506  0.061393   24.290873       100.0   \n",
       "10  LinGreedy (incremental)   605  0.073405   23.464792       100.0   \n",
       "11     LinUCB (incremental)   485  0.058845    4.258888      1000.0   \n",
       "12  LinGreedy (incremental)   602  0.073041    4.135612      1000.0   \n",
       "\n",
       "    test_size  test_interactions                        algo_batch  \n",
       "3        0.05                299        LinUCB (incremental) - 1.0  \n",
       "4        0.05                299     LinGreedy (incremental) - 1.0  \n",
       "5        0.05                299        LinUCB (incremental) - 5.0  \n",
       "6        0.05                299     LinGreedy (incremental) - 5.0  \n",
       "7        0.05                299       LinUCB (incremental) - 10.0  \n",
       "..        ...                ...                               ...  \n",
       "8        0.95               8242    LinGreedy (incremental) - 10.0  \n",
       "9        0.95               8242      LinUCB (incremental) - 100.0  \n",
       "10       0.95               8242   LinGreedy (incremental) - 100.0  \n",
       "11       0.95               8242     LinUCB (incremental) - 1000.0  \n",
       "12       0.95               8242  LinGreedy (incremental) - 1000.0  \n",
       "\n",
       "[190 rows x 8 columns]"
      ]
     },
     "execution_count": 12,
     "metadata": {},
     "output_type": "execute_result"
    }
   ],
   "source": [
    "df_results_incremental['algo_batch'] = df_results_incremental['algorithm'] + ' - ' + df_results_incremental['batch_size'].astype(str)\n",
    "df_results_incremental"
   ]
  },
  {
   "cell_type": "code",
   "execution_count": 13,
   "metadata": {},
   "outputs": [
    {
     "data": {
      "application/vnd.plotly.v1+json": {
       "config": {
        "plotlyServerURL": "https://plot.ly"
       },
       "data": [
        {
         "hovertemplate": "algo_batch=LinUCB (incremental) - 1.0<br>test_size=%{x}<br>hr=%{y}<extra></extra>",
         "legendgroup": "LinUCB (incremental) - 1.0",
         "line": {
          "color": "#636efa",
          "dash": "solid"
         },
         "marker": {
          "symbol": "circle"
         },
         "mode": "lines",
         "name": "LinUCB (incremental) - 1.0",
         "orientation": "v",
         "showlegend": true,
         "type": "scatter",
         "x": [
          0.05,
          0.1,
          0.15,
          0.2,
          0.25,
          0.3,
          0.35,
          0.4,
          0.45,
          0.5,
          0.55,
          0.6,
          0.65,
          0.7,
          0.75,
          0.8,
          0.85,
          0.9,
          0.95
         ],
         "xaxis": "x",
         "y": [
          0.0568561872909698,
          0.0690208667736757,
          0.0805369127516778,
          0.0941396508728179,
          0.1044917257683215,
          0.099468488990129,
          0.0953738910012674,
          0.0915512089106221,
          0.0887039239001189,
          0.0825222175201015,
          0.0874285714285714,
          0.0817066850924166,
          0.0825949367088607,
          0.0785485281259108,
          0.071052276104282,
          0.0679216484355125,
          0.0668275030156815,
          0.0614643318838876,
          0.0589662703227372
         ],
         "yaxis": "y"
        },
        {
         "hovertemplate": "algo_batch=LinGreedy (incremental) - 1.0<br>test_size=%{x}<br>hr=%{y}<extra></extra>",
         "legendgroup": "LinGreedy (incremental) - 1.0",
         "line": {
          "color": "#EF553B",
          "dash": "solid"
         },
         "marker": {
          "symbol": "circle"
         },
         "mode": "lines",
         "name": "LinGreedy (incremental) - 1.0",
         "orientation": "v",
         "showlegend": true,
         "type": "scatter",
         "x": [
          0.05,
          0.1,
          0.15,
          0.2,
          0.25,
          0.3,
          0.35,
          0.4,
          0.45,
          0.5,
          0.55,
          0.6,
          0.65,
          0.7,
          0.75,
          0.8,
          0.85,
          0.9,
          0.95
         ],
         "xaxis": "x",
         "y": [
          0.0535117056856187,
          0.0834670947030497,
          0.0958772770853307,
          0.098503740648379,
          0.1106382978723404,
          0.1082004555808656,
          0.1077313054499366,
          0.1064928008693289,
          0.1041617122473246,
          0.098180279305967,
          0.1028571428571428,
          0.094316807738815,
          0.0946202531645569,
          0.0902069367531332,
          0.0894232068080507,
          0.0822945815314169,
          0.0806996381182147,
          0.0765072276413209,
          0.0712205775297258
         ],
         "yaxis": "y"
        },
        {
         "hovertemplate": "algo_batch=LinUCB (incremental) - 5.0<br>test_size=%{x}<br>hr=%{y}<extra></extra>",
         "legendgroup": "LinUCB (incremental) - 5.0",
         "line": {
          "color": "#00cc96",
          "dash": "solid"
         },
         "marker": {
          "symbol": "circle"
         },
         "mode": "lines",
         "name": "LinUCB (incremental) - 5.0",
         "orientation": "v",
         "showlegend": true,
         "type": "scatter",
         "x": [
          0.05,
          0.1,
          0.15,
          0.2,
          0.25,
          0.3,
          0.35,
          0.4,
          0.45,
          0.5,
          0.55,
          0.6,
          0.65,
          0.7,
          0.75,
          0.8,
          0.85,
          0.9,
          0.95
         ],
         "xaxis": "x",
         "y": [
          0.0568561872909698,
          0.0690208667736757,
          0.0814956855225311,
          0.0941396508728179,
          0.1030732860520094,
          0.0998481397114654,
          0.0966413181242078,
          0.0923662048356425,
          0.0903686087990487,
          0.0823106220905628,
          0.088,
          0.0820521679046467,
          0.083386075949367,
          0.0782570679102302,
          0.0706470349858165,
          0.0676672602391249,
          0.067189384800965,
          0.0608767187683629,
          0.0575103130308177
         ],
         "yaxis": "y"
        },
        {
         "hovertemplate": "algo_batch=LinGreedy (incremental) - 5.0<br>test_size=%{x}<br>hr=%{y}<extra></extra>",
         "legendgroup": "LinGreedy (incremental) - 5.0",
         "line": {
          "color": "#ab63fa",
          "dash": "solid"
         },
         "marker": {
          "symbol": "circle"
         },
         "mode": "lines",
         "name": "LinGreedy (incremental) - 5.0",
         "orientation": "v",
         "showlegend": true,
         "type": "scatter",
         "x": [
          0.05,
          0.1,
          0.15,
          0.2,
          0.25,
          0.3,
          0.35,
          0.4,
          0.45,
          0.5,
          0.55,
          0.6,
          0.65,
          0.7,
          0.75,
          0.8,
          0.85,
          0.9,
          0.95
         ],
         "xaxis": "x",
         "y": [
          0.0535117056856187,
          0.0850722311396468,
          0.0977948226270374,
          0.0997506234413965,
          0.1087470449172576,
          0.1074411541381928,
          0.1099493029150823,
          0.1075794621026894,
          0.106064209274673,
          0.0973338975878121,
          0.0982857142857142,
          0.0960442217999654,
          0.0968354430379746,
          0.0893325561060915,
          0.0884776441982979,
          0.0796235054693462,
          0.0776839565741857,
          0.0765072276413209,
          0.0709779179810725
         ],
         "yaxis": "y"
        },
        {
         "hovertemplate": "algo_batch=LinUCB (incremental) - 10.0<br>test_size=%{x}<br>hr=%{y}<extra></extra>",
         "legendgroup": "LinUCB (incremental) - 10.0",
         "line": {
          "color": "#FFA15A",
          "dash": "solid"
         },
         "marker": {
          "symbol": "circle"
         },
         "mode": "lines",
         "name": "LinUCB (incremental) - 10.0",
         "orientation": "v",
         "showlegend": true,
         "type": "scatter",
         "x": [
          0.05,
          0.1,
          0.15,
          0.2,
          0.25,
          0.3,
          0.35,
          0.4,
          0.45,
          0.5,
          0.55,
          0.6,
          0.65,
          0.7,
          0.75,
          0.8,
          0.85,
          0.9,
          0.95
         ],
         "xaxis": "x",
         "y": [
          0.0635451505016722,
          0.0690208667736757,
          0.0824544582933844,
          0.0953865336658354,
          0.1030732860520094,
          0.1002277904328018,
          0.0960076045627376,
          0.093452866069003,
          0.0910820451843044,
          0.0835801946677951,
          0.087047619047619,
          0.0803247538434962,
          0.0825949367088607,
          0.0776741474788691,
          0.0701067134945292,
          0.0686848130246756,
          0.0677925211097708,
          0.060641673522153,
          0.0587236107740839
         ],
         "yaxis": "y"
        },
        {
         "hovertemplate": "algo_batch=LinGreedy (incremental) - 10.0<br>test_size=%{x}<br>hr=%{y}<extra></extra>",
         "legendgroup": "LinGreedy (incremental) - 10.0",
         "line": {
          "color": "#19d3f3",
          "dash": "solid"
         },
         "marker": {
          "symbol": "circle"
         },
         "mode": "lines",
         "name": "LinGreedy (incremental) - 10.0",
         "orientation": "v",
         "showlegend": true,
         "type": "scatter",
         "x": [
          0.05,
          0.1,
          0.15,
          0.2,
          0.25,
          0.3,
          0.35,
          0.4,
          0.45,
          0.5,
          0.55,
          0.6,
          0.65,
          0.7,
          0.75,
          0.8,
          0.85,
          0.9,
          0.95
         ],
         "xaxis": "x",
         "y": [
          0.0635451505016722,
          0.0834670947030497,
          0.0958772770853307,
          0.0960099750623441,
          0.1106382978723404,
          0.109719058466211,
          0.111850443599493,
          0.1081227927193697,
          0.1065398335315101,
          0.0994498518831993,
          0.0998095238095238,
          0.0948350319571601,
          0.0938291139240506,
          0.0881667152433692,
          0.0861812778603269,
          0.0798778936657339,
          0.0837153196622436,
          0.074039252556117,
          0.071463237078379
         ],
         "yaxis": "y"
        },
        {
         "hovertemplate": "algo_batch=LinUCB (incremental) - 100.0<br>test_size=%{x}<br>hr=%{y}<extra></extra>",
         "legendgroup": "LinUCB (incremental) - 100.0",
         "line": {
          "color": "#FF6692",
          "dash": "solid"
         },
         "marker": {
          "symbol": "circle"
         },
         "mode": "lines",
         "name": "LinUCB (incremental) - 100.0",
         "orientation": "v",
         "showlegend": true,
         "type": "scatter",
         "x": [
          0.05,
          0.1,
          0.15,
          0.2,
          0.25,
          0.3,
          0.35,
          0.4,
          0.45,
          0.5,
          0.55,
          0.6,
          0.65,
          0.7,
          0.75,
          0.8,
          0.85,
          0.9,
          0.95
         ],
         "xaxis": "x",
         "y": [
          0.060200668896321,
          0.0722311396468699,
          0.084372003835091,
          0.0941396508728179,
          0.091725768321513,
          0.0960516324981017,
          0.0846007604562737,
          0.0915512089106221,
          0.0801426872770511,
          0.0859077443927211,
          0.0809523809523809,
          0.0751425116600449,
          0.0729430379746835,
          0.0714077528417371,
          0.0657841415642307,
          0.0619435258204019,
          0.064897466827503,
          0.0579386531907392,
          0.0613928658092695
         ],
         "yaxis": "y"
        },
        {
         "hovertemplate": "algo_batch=LinGreedy (incremental) - 100.0<br>test_size=%{x}<br>hr=%{y}<extra></extra>",
         "legendgroup": "LinGreedy (incremental) - 100.0",
         "line": {
          "color": "#B6E880",
          "dash": "solid"
         },
         "marker": {
          "symbol": "circle"
         },
         "mode": "lines",
         "name": "LinGreedy (incremental) - 100.0",
         "orientation": "v",
         "showlegend": true,
         "type": "scatter",
         "x": [
          0.05,
          0.1,
          0.15,
          0.2,
          0.25,
          0.3,
          0.35,
          0.4,
          0.45,
          0.5,
          0.55,
          0.6,
          0.65,
          0.7,
          0.75,
          0.8,
          0.85,
          0.9,
          0.95
         ],
         "xaxis": "x",
         "y": [
          0.0635451505016722,
          0.0834670947030497,
          0.0930009587727708,
          0.1022443890274314,
          0.100709219858156,
          0.0987091875474563,
          0.0966413181242078,
          0.1021461559358869,
          0.0927467300832342,
          0.0941599661447312,
          0.0895238095238095,
          0.0808429780618414,
          0.0846518987341772,
          0.0852521130865636,
          0.0779413751181953,
          0.0772068176036631,
          0.0762364294330518,
          0.0722764132095428,
          0.0734045134676049
         ],
         "yaxis": "y"
        },
        {
         "hovertemplate": "algo_batch=LinUCB (incremental) - 1000.0<br>test_size=%{x}<br>hr=%{y}<extra></extra>",
         "legendgroup": "LinUCB (incremental) - 1000.0",
         "line": {
          "color": "#FF97FF",
          "dash": "solid"
         },
         "marker": {
          "symbol": "circle"
         },
         "mode": "lines",
         "name": "LinUCB (incremental) - 1000.0",
         "orientation": "v",
         "showlegend": true,
         "type": "scatter",
         "x": [
          0.05,
          0.1,
          0.15,
          0.2,
          0.25,
          0.3,
          0.35,
          0.4,
          0.45,
          0.5,
          0.55,
          0.6,
          0.65,
          0.7,
          0.75,
          0.8,
          0.85,
          0.9,
          0.95
         ],
         "xaxis": "x",
         "y": [
          0.060200668896321,
          0.0674157303370786,
          0.071907957813998,
          0.0816708229426434,
          0.0884160756501182,
          0.0808656036446469,
          0.0836501901140684,
          0.0709046454767726,
          0.0803804994054696,
          0.0763859500634786,
          0.0689523809523809,
          0.0751425116600449,
          0.0721518987341772,
          0.0683474205770912,
          0.0633526948534378,
          0.0632154668023403,
          0.059589867310012,
          0.0542954518744858,
          0.0588449405484105
         ],
         "yaxis": "y"
        },
        {
         "hovertemplate": "algo_batch=LinGreedy (incremental) - 1000.0<br>test_size=%{x}<br>hr=%{y}<extra></extra>",
         "legendgroup": "LinGreedy (incremental) - 1000.0",
         "line": {
          "color": "#FECB52",
          "dash": "solid"
         },
         "marker": {
          "symbol": "circle"
         },
         "mode": "lines",
         "name": "LinGreedy (incremental) - 1000.0",
         "orientation": "v",
         "showlegend": true,
         "type": "scatter",
         "x": [
          0.05,
          0.1,
          0.15,
          0.2,
          0.25,
          0.3,
          0.35,
          0.4,
          0.45,
          0.5,
          0.55,
          0.6,
          0.65,
          0.7,
          0.75,
          0.8,
          0.85,
          0.9,
          0.95
         ],
         "xaxis": "x",
         "y": [
          0.0735785953177257,
          0.0642054574638844,
          0.0795781399808245,
          0.0872817955112219,
          0.0940898345153664,
          0.0880789673500379,
          0.0899873257287705,
          0.0768812822602553,
          0.0882282996432818,
          0.0863309352517985,
          0.0805714285714285,
          0.0844705475902573,
          0.0863924050632911,
          0.078694258233751,
          0.0736188031878967,
          0.0850928516916815,
          0.0768395657418576,
          0.0711011869784933,
          0.073040524144625
         ],
         "yaxis": "y"
        }
       ],
       "layout": {
        "legend": {
         "title": {
          "text": "algo_batch"
         },
         "tracegroupgap": 0
        },
        "template": {
         "data": {
          "bar": [
           {
            "error_x": {
             "color": "#2a3f5f"
            },
            "error_y": {
             "color": "#2a3f5f"
            },
            "marker": {
             "line": {
              "color": "#E5ECF6",
              "width": 0.5
             },
             "pattern": {
              "fillmode": "overlay",
              "size": 10,
              "solidity": 0.2
             }
            },
            "type": "bar"
           }
          ],
          "barpolar": [
           {
            "marker": {
             "line": {
              "color": "#E5ECF6",
              "width": 0.5
             },
             "pattern": {
              "fillmode": "overlay",
              "size": 10,
              "solidity": 0.2
             }
            },
            "type": "barpolar"
           }
          ],
          "carpet": [
           {
            "aaxis": {
             "endlinecolor": "#2a3f5f",
             "gridcolor": "white",
             "linecolor": "white",
             "minorgridcolor": "white",
             "startlinecolor": "#2a3f5f"
            },
            "baxis": {
             "endlinecolor": "#2a3f5f",
             "gridcolor": "white",
             "linecolor": "white",
             "minorgridcolor": "white",
             "startlinecolor": "#2a3f5f"
            },
            "type": "carpet"
           }
          ],
          "choropleth": [
           {
            "colorbar": {
             "outlinewidth": 0,
             "ticks": ""
            },
            "type": "choropleth"
           }
          ],
          "contour": [
           {
            "colorbar": {
             "outlinewidth": 0,
             "ticks": ""
            },
            "colorscale": [
             [
              0,
              "#0d0887"
             ],
             [
              0.1111111111111111,
              "#46039f"
             ],
             [
              0.2222222222222222,
              "#7201a8"
             ],
             [
              0.3333333333333333,
              "#9c179e"
             ],
             [
              0.4444444444444444,
              "#bd3786"
             ],
             [
              0.5555555555555556,
              "#d8576b"
             ],
             [
              0.6666666666666666,
              "#ed7953"
             ],
             [
              0.7777777777777778,
              "#fb9f3a"
             ],
             [
              0.8888888888888888,
              "#fdca26"
             ],
             [
              1,
              "#f0f921"
             ]
            ],
            "type": "contour"
           }
          ],
          "contourcarpet": [
           {
            "colorbar": {
             "outlinewidth": 0,
             "ticks": ""
            },
            "type": "contourcarpet"
           }
          ],
          "heatmap": [
           {
            "colorbar": {
             "outlinewidth": 0,
             "ticks": ""
            },
            "colorscale": [
             [
              0,
              "#0d0887"
             ],
             [
              0.1111111111111111,
              "#46039f"
             ],
             [
              0.2222222222222222,
              "#7201a8"
             ],
             [
              0.3333333333333333,
              "#9c179e"
             ],
             [
              0.4444444444444444,
              "#bd3786"
             ],
             [
              0.5555555555555556,
              "#d8576b"
             ],
             [
              0.6666666666666666,
              "#ed7953"
             ],
             [
              0.7777777777777778,
              "#fb9f3a"
             ],
             [
              0.8888888888888888,
              "#fdca26"
             ],
             [
              1,
              "#f0f921"
             ]
            ],
            "type": "heatmap"
           }
          ],
          "heatmapgl": [
           {
            "colorbar": {
             "outlinewidth": 0,
             "ticks": ""
            },
            "colorscale": [
             [
              0,
              "#0d0887"
             ],
             [
              0.1111111111111111,
              "#46039f"
             ],
             [
              0.2222222222222222,
              "#7201a8"
             ],
             [
              0.3333333333333333,
              "#9c179e"
             ],
             [
              0.4444444444444444,
              "#bd3786"
             ],
             [
              0.5555555555555556,
              "#d8576b"
             ],
             [
              0.6666666666666666,
              "#ed7953"
             ],
             [
              0.7777777777777778,
              "#fb9f3a"
             ],
             [
              0.8888888888888888,
              "#fdca26"
             ],
             [
              1,
              "#f0f921"
             ]
            ],
            "type": "heatmapgl"
           }
          ],
          "histogram": [
           {
            "marker": {
             "pattern": {
              "fillmode": "overlay",
              "size": 10,
              "solidity": 0.2
             }
            },
            "type": "histogram"
           }
          ],
          "histogram2d": [
           {
            "colorbar": {
             "outlinewidth": 0,
             "ticks": ""
            },
            "colorscale": [
             [
              0,
              "#0d0887"
             ],
             [
              0.1111111111111111,
              "#46039f"
             ],
             [
              0.2222222222222222,
              "#7201a8"
             ],
             [
              0.3333333333333333,
              "#9c179e"
             ],
             [
              0.4444444444444444,
              "#bd3786"
             ],
             [
              0.5555555555555556,
              "#d8576b"
             ],
             [
              0.6666666666666666,
              "#ed7953"
             ],
             [
              0.7777777777777778,
              "#fb9f3a"
             ],
             [
              0.8888888888888888,
              "#fdca26"
             ],
             [
              1,
              "#f0f921"
             ]
            ],
            "type": "histogram2d"
           }
          ],
          "histogram2dcontour": [
           {
            "colorbar": {
             "outlinewidth": 0,
             "ticks": ""
            },
            "colorscale": [
             [
              0,
              "#0d0887"
             ],
             [
              0.1111111111111111,
              "#46039f"
             ],
             [
              0.2222222222222222,
              "#7201a8"
             ],
             [
              0.3333333333333333,
              "#9c179e"
             ],
             [
              0.4444444444444444,
              "#bd3786"
             ],
             [
              0.5555555555555556,
              "#d8576b"
             ],
             [
              0.6666666666666666,
              "#ed7953"
             ],
             [
              0.7777777777777778,
              "#fb9f3a"
             ],
             [
              0.8888888888888888,
              "#fdca26"
             ],
             [
              1,
              "#f0f921"
             ]
            ],
            "type": "histogram2dcontour"
           }
          ],
          "mesh3d": [
           {
            "colorbar": {
             "outlinewidth": 0,
             "ticks": ""
            },
            "type": "mesh3d"
           }
          ],
          "parcoords": [
           {
            "line": {
             "colorbar": {
              "outlinewidth": 0,
              "ticks": ""
             }
            },
            "type": "parcoords"
           }
          ],
          "pie": [
           {
            "automargin": true,
            "type": "pie"
           }
          ],
          "scatter": [
           {
            "fillpattern": {
             "fillmode": "overlay",
             "size": 10,
             "solidity": 0.2
            },
            "type": "scatter"
           }
          ],
          "scatter3d": [
           {
            "line": {
             "colorbar": {
              "outlinewidth": 0,
              "ticks": ""
             }
            },
            "marker": {
             "colorbar": {
              "outlinewidth": 0,
              "ticks": ""
             }
            },
            "type": "scatter3d"
           }
          ],
          "scattercarpet": [
           {
            "marker": {
             "colorbar": {
              "outlinewidth": 0,
              "ticks": ""
             }
            },
            "type": "scattercarpet"
           }
          ],
          "scattergeo": [
           {
            "marker": {
             "colorbar": {
              "outlinewidth": 0,
              "ticks": ""
             }
            },
            "type": "scattergeo"
           }
          ],
          "scattergl": [
           {
            "marker": {
             "colorbar": {
              "outlinewidth": 0,
              "ticks": ""
             }
            },
            "type": "scattergl"
           }
          ],
          "scattermapbox": [
           {
            "marker": {
             "colorbar": {
              "outlinewidth": 0,
              "ticks": ""
             }
            },
            "type": "scattermapbox"
           }
          ],
          "scatterpolar": [
           {
            "marker": {
             "colorbar": {
              "outlinewidth": 0,
              "ticks": ""
             }
            },
            "type": "scatterpolar"
           }
          ],
          "scatterpolargl": [
           {
            "marker": {
             "colorbar": {
              "outlinewidth": 0,
              "ticks": ""
             }
            },
            "type": "scatterpolargl"
           }
          ],
          "scatterternary": [
           {
            "marker": {
             "colorbar": {
              "outlinewidth": 0,
              "ticks": ""
             }
            },
            "type": "scatterternary"
           }
          ],
          "surface": [
           {
            "colorbar": {
             "outlinewidth": 0,
             "ticks": ""
            },
            "colorscale": [
             [
              0,
              "#0d0887"
             ],
             [
              0.1111111111111111,
              "#46039f"
             ],
             [
              0.2222222222222222,
              "#7201a8"
             ],
             [
              0.3333333333333333,
              "#9c179e"
             ],
             [
              0.4444444444444444,
              "#bd3786"
             ],
             [
              0.5555555555555556,
              "#d8576b"
             ],
             [
              0.6666666666666666,
              "#ed7953"
             ],
             [
              0.7777777777777778,
              "#fb9f3a"
             ],
             [
              0.8888888888888888,
              "#fdca26"
             ],
             [
              1,
              "#f0f921"
             ]
            ],
            "type": "surface"
           }
          ],
          "table": [
           {
            "cells": {
             "fill": {
              "color": "#EBF0F8"
             },
             "line": {
              "color": "white"
             }
            },
            "header": {
             "fill": {
              "color": "#C8D4E3"
             },
             "line": {
              "color": "white"
             }
            },
            "type": "table"
           }
          ]
         },
         "layout": {
          "annotationdefaults": {
           "arrowcolor": "#2a3f5f",
           "arrowhead": 0,
           "arrowwidth": 1
          },
          "autotypenumbers": "strict",
          "coloraxis": {
           "colorbar": {
            "outlinewidth": 0,
            "ticks": ""
           }
          },
          "colorscale": {
           "diverging": [
            [
             0,
             "#8e0152"
            ],
            [
             0.1,
             "#c51b7d"
            ],
            [
             0.2,
             "#de77ae"
            ],
            [
             0.3,
             "#f1b6da"
            ],
            [
             0.4,
             "#fde0ef"
            ],
            [
             0.5,
             "#f7f7f7"
            ],
            [
             0.6,
             "#e6f5d0"
            ],
            [
             0.7,
             "#b8e186"
            ],
            [
             0.8,
             "#7fbc41"
            ],
            [
             0.9,
             "#4d9221"
            ],
            [
             1,
             "#276419"
            ]
           ],
           "sequential": [
            [
             0,
             "#0d0887"
            ],
            [
             0.1111111111111111,
             "#46039f"
            ],
            [
             0.2222222222222222,
             "#7201a8"
            ],
            [
             0.3333333333333333,
             "#9c179e"
            ],
            [
             0.4444444444444444,
             "#bd3786"
            ],
            [
             0.5555555555555556,
             "#d8576b"
            ],
            [
             0.6666666666666666,
             "#ed7953"
            ],
            [
             0.7777777777777778,
             "#fb9f3a"
            ],
            [
             0.8888888888888888,
             "#fdca26"
            ],
            [
             1,
             "#f0f921"
            ]
           ],
           "sequentialminus": [
            [
             0,
             "#0d0887"
            ],
            [
             0.1111111111111111,
             "#46039f"
            ],
            [
             0.2222222222222222,
             "#7201a8"
            ],
            [
             0.3333333333333333,
             "#9c179e"
            ],
            [
             0.4444444444444444,
             "#bd3786"
            ],
            [
             0.5555555555555556,
             "#d8576b"
            ],
            [
             0.6666666666666666,
             "#ed7953"
            ],
            [
             0.7777777777777778,
             "#fb9f3a"
            ],
            [
             0.8888888888888888,
             "#fdca26"
            ],
            [
             1,
             "#f0f921"
            ]
           ]
          },
          "colorway": [
           "#636efa",
           "#EF553B",
           "#00cc96",
           "#ab63fa",
           "#FFA15A",
           "#19d3f3",
           "#FF6692",
           "#B6E880",
           "#FF97FF",
           "#FECB52"
          ],
          "font": {
           "color": "#2a3f5f"
          },
          "geo": {
           "bgcolor": "white",
           "lakecolor": "white",
           "landcolor": "#E5ECF6",
           "showlakes": true,
           "showland": true,
           "subunitcolor": "white"
          },
          "hoverlabel": {
           "align": "left"
          },
          "hovermode": "closest",
          "mapbox": {
           "style": "light"
          },
          "paper_bgcolor": "white",
          "plot_bgcolor": "#E5ECF6",
          "polar": {
           "angularaxis": {
            "gridcolor": "white",
            "linecolor": "white",
            "ticks": ""
           },
           "bgcolor": "#E5ECF6",
           "radialaxis": {
            "gridcolor": "white",
            "linecolor": "white",
            "ticks": ""
           }
          },
          "scene": {
           "xaxis": {
            "backgroundcolor": "#E5ECF6",
            "gridcolor": "white",
            "gridwidth": 2,
            "linecolor": "white",
            "showbackground": true,
            "ticks": "",
            "zerolinecolor": "white"
           },
           "yaxis": {
            "backgroundcolor": "#E5ECF6",
            "gridcolor": "white",
            "gridwidth": 2,
            "linecolor": "white",
            "showbackground": true,
            "ticks": "",
            "zerolinecolor": "white"
           },
           "zaxis": {
            "backgroundcolor": "#E5ECF6",
            "gridcolor": "white",
            "gridwidth": 2,
            "linecolor": "white",
            "showbackground": true,
            "ticks": "",
            "zerolinecolor": "white"
           }
          },
          "shapedefaults": {
           "line": {
            "color": "#2a3f5f"
           }
          },
          "ternary": {
           "aaxis": {
            "gridcolor": "white",
            "linecolor": "white",
            "ticks": ""
           },
           "baxis": {
            "gridcolor": "white",
            "linecolor": "white",
            "ticks": ""
           },
           "bgcolor": "#E5ECF6",
           "caxis": {
            "gridcolor": "white",
            "linecolor": "white",
            "ticks": ""
           }
          },
          "title": {
           "x": 0.05
          },
          "xaxis": {
           "automargin": true,
           "gridcolor": "white",
           "linecolor": "white",
           "ticks": "",
           "title": {
            "standoff": 15
           },
           "zerolinecolor": "white",
           "zerolinewidth": 2
          },
          "yaxis": {
           "automargin": true,
           "gridcolor": "white",
           "linecolor": "white",
           "ticks": "",
           "title": {
            "standoff": 15
           },
           "zerolinecolor": "white",
           "zerolinewidth": 2
          }
         }
        },
        "title": {
         "text": "HR x Test size (incremental batch size)"
        },
        "xaxis": {
         "anchor": "y",
         "domain": [
          0,
          1
         ],
         "title": {
          "text": "test_size"
         }
        },
        "yaxis": {
         "anchor": "x",
         "domain": [
          0,
          1
         ],
         "title": {
          "text": "hr"
         }
        }
       }
      }
     },
     "metadata": {},
     "output_type": "display_data"
    }
   ],
   "source": [
    "fig = px.line(df_results_incremental, x=\"test_size\", y=\"hr\", color='algo_batch', title='HR x Test size (incremental batch size)')\n",
    "fig.show()\n",
    "fig.write_html('results/hr_x_test_size_incremental_batch_size.html')"
   ]
  },
  {
   "cell_type": "code",
   "execution_count": 14,
   "metadata": {},
   "outputs": [
    {
     "data": {
      "application/vnd.plotly.v1+json": {
       "config": {
        "plotlyServerURL": "https://plot.ly"
       },
       "data": [
        {
         "hovertemplate": "algo_batch=LinUCB (incremental) - 1.0<br>test_size=%{x}<br>time=%{y}<extra></extra>",
         "legendgroup": "LinUCB (incremental) - 1.0",
         "line": {
          "color": "#636efa",
          "dash": "solid"
         },
         "marker": {
          "symbol": "circle"
         },
         "mode": "lines",
         "name": "LinUCB (incremental) - 1.0",
         "orientation": "v",
         "showlegend": true,
         "type": "scatter",
         "x": [
          0.05,
          0.1,
          0.15,
          0.2,
          0.25,
          0.3,
          0.35,
          0.4,
          0.45,
          0.5,
          0.55,
          0.6,
          0.65,
          0.7,
          0.75,
          0.8,
          0.85,
          0.9,
          0.95
         ],
         "xaxis": "x",
         "y": [
          68.85690140724182,
          141.43397879600525,
          237.70232725143435,
          280.36687111854553,
          343.6058850288391,
          429.6172664165497,
          511.9279479980469,
          597.9753317832947,
          977.2910013198853,
          1025.0018360614777,
          858.7382633686066,
          1342.6333103179932,
          1025.3543074131012,
          1052.6509857177734,
          1156.5179908275604,
          1258.6457045078278,
          1466.9632341861725,
          1449.1490240097046,
          1370.0251281261444
         ],
         "yaxis": "y"
        },
        {
         "hovertemplate": "algo_batch=LinGreedy (incremental) - 1.0<br>test_size=%{x}<br>time=%{y}<extra></extra>",
         "legendgroup": "LinGreedy (incremental) - 1.0",
         "line": {
          "color": "#EF553B",
          "dash": "solid"
         },
         "marker": {
          "symbol": "circle"
         },
         "mode": "lines",
         "name": "LinGreedy (incremental) - 1.0",
         "orientation": "v",
         "showlegend": true,
         "type": "scatter",
         "x": [
          0.05,
          0.1,
          0.15,
          0.2,
          0.25,
          0.3,
          0.35,
          0.4,
          0.45,
          0.5,
          0.55,
          0.6,
          0.65,
          0.7,
          0.75,
          0.8,
          0.85,
          0.9,
          0.95
         ],
         "xaxis": "x",
         "y": [
          75.32091283798218,
          152.01793670654297,
          181.03005981445312,
          254.14571022987369,
          337.3312997817993,
          417.5064265727997,
          508.6457750797272,
          586.9111459255219,
          746.31214427948,
          786.998229265213,
          825.2278001308441,
          1187.785851478577,
          1057.394189119339,
          1033.097704410553,
          1200.5610327720642,
          1241.140510559082,
          1338.0530388355255,
          1381.040265083313,
          1325.0220165252686
         ],
         "yaxis": "y"
        },
        {
         "hovertemplate": "algo_batch=LinUCB (incremental) - 5.0<br>test_size=%{x}<br>time=%{y}<extra></extra>",
         "legendgroup": "LinUCB (incremental) - 5.0",
         "line": {
          "color": "#00cc96",
          "dash": "solid"
         },
         "marker": {
          "symbol": "circle"
         },
         "mode": "lines",
         "name": "LinUCB (incremental) - 5.0",
         "orientation": "v",
         "showlegend": true,
         "type": "scatter",
         "x": [
          0.05,
          0.1,
          0.15,
          0.2,
          0.25,
          0.3,
          0.35,
          0.4,
          0.45,
          0.5,
          0.55,
          0.6,
          0.65,
          0.7,
          0.75,
          0.8,
          0.85,
          0.9,
          0.95
         ],
         "xaxis": "x",
         "y": [
          17.92684769630432,
          36.42882776260376,
          38.896058082580566,
          58.463284730911255,
          77.71636652946472,
          97.2771062850952,
          117.45243382453918,
          136.97354292869568,
          171.54166388511658,
          175.20729541778564,
          193.0969717502594,
          210.70215845108032,
          286.1602804660797,
          245.18643379211423,
          296.57391381263733,
          412.2700998783112,
          312.7800872325897,
          323.9814169406891,
          313.1804099082947
         ],
         "yaxis": "y"
        },
        {
         "hovertemplate": "algo_batch=LinGreedy (incremental) - 5.0<br>test_size=%{x}<br>time=%{y}<extra></extra>",
         "legendgroup": "LinGreedy (incremental) - 5.0",
         "line": {
          "color": "#ab63fa",
          "dash": "solid"
         },
         "marker": {
          "symbol": "circle"
         },
         "mode": "lines",
         "name": "LinGreedy (incremental) - 5.0",
         "orientation": "v",
         "showlegend": true,
         "type": "scatter",
         "x": [
          0.05,
          0.1,
          0.15,
          0.2,
          0.25,
          0.3,
          0.35,
          0.4,
          0.45,
          0.5,
          0.55,
          0.6,
          0.65,
          0.7,
          0.75,
          0.8,
          0.85,
          0.9,
          0.95
         ],
         "xaxis": "x",
         "y": [
          17.99731755256653,
          35.98218750953674,
          37.417598724365234,
          56.01257395744324,
          73.41425561904907,
          92.65777277946472,
          111.61911392211914,
          195.36878657341003,
          173.99856662750244,
          167.82999229431152,
          182.7272186279297,
          200.3779354095459,
          220.9652931690216,
          236.289158821106,
          308.6816062927246,
          357.406347990036,
          310.4706082344055,
          309.5079362392425,
          303.6718864440918
         ],
         "yaxis": "y"
        },
        {
         "hovertemplate": "algo_batch=LinUCB (incremental) - 10.0<br>test_size=%{x}<br>time=%{y}<extra></extra>",
         "legendgroup": "LinUCB (incremental) - 10.0",
         "line": {
          "color": "#FFA15A",
          "dash": "solid"
         },
         "marker": {
          "symbol": "circle"
         },
         "mode": "lines",
         "name": "LinUCB (incremental) - 10.0",
         "orientation": "v",
         "showlegend": true,
         "type": "scatter",
         "x": [
          0.05,
          0.1,
          0.15,
          0.2,
          0.25,
          0.3,
          0.35,
          0.4,
          0.45,
          0.5,
          0.55,
          0.6,
          0.65,
          0.7,
          0.75,
          0.8,
          0.85,
          0.9,
          0.95
         ],
         "xaxis": "x",
         "y": [
          9.397859573364258,
          22.984070539474487,
          21.44511246681213,
          30.874118089675903,
          41.43976211547852,
          52.74823999404907,
          62.60939598083496,
          109.79078650474548,
          93.52573537826538,
          93.4444863796234,
          102.64784359931946,
          112.93893766403198,
          126.45979285240172,
          133.92020082473755,
          216.3912467956543,
          212.0257499217987,
          186.50362539291385,
          173.20401740074158,
          177.6191689968109
         ],
         "yaxis": "y"
        },
        {
         "hovertemplate": "algo_batch=LinGreedy (incremental) - 10.0<br>test_size=%{x}<br>time=%{y}<extra></extra>",
         "legendgroup": "LinGreedy (incremental) - 10.0",
         "line": {
          "color": "#19d3f3",
          "dash": "solid"
         },
         "marker": {
          "symbol": "circle"
         },
         "mode": "lines",
         "name": "LinGreedy (incremental) - 10.0",
         "orientation": "v",
         "showlegend": true,
         "type": "scatter",
         "x": [
          0.05,
          0.1,
          0.15,
          0.2,
          0.25,
          0.3,
          0.35,
          0.4,
          0.45,
          0.5,
          0.55,
          0.6,
          0.65,
          0.7,
          0.75,
          0.8,
          0.85,
          0.9,
          0.95
         ],
         "xaxis": "x",
         "y": [
          10.02111840248108,
          19.136897325515747,
          22.211514472961422,
          34.001896381378174,
          39.225714445114136,
          50.0814061164856,
          59.1498749256134,
          95.6423273086548,
          92.69307136535645,
          88.73976755142212,
          103.81327891349792,
          107.09305953979492,
          112.64470505714417,
          122.47821760177612,
          134.57094931602478,
          162.08690929412842,
          189.46013569831848,
          164.19555568695068,
          157.51643109321594
         ],
         "yaxis": "y"
        },
        {
         "hovertemplate": "algo_batch=LinUCB (incremental) - 100.0<br>test_size=%{x}<br>time=%{y}<extra></extra>",
         "legendgroup": "LinUCB (incremental) - 100.0",
         "line": {
          "color": "#FF6692",
          "dash": "solid"
         },
         "marker": {
          "symbol": "circle"
         },
         "mode": "lines",
         "name": "LinUCB (incremental) - 100.0",
         "orientation": "v",
         "showlegend": true,
         "type": "scatter",
         "x": [
          0.05,
          0.1,
          0.15,
          0.2,
          0.25,
          0.3,
          0.35,
          0.4,
          0.45,
          0.5,
          0.55,
          0.6,
          0.65,
          0.7,
          0.75,
          0.8,
          0.85,
          0.9,
          0.95
         ],
         "xaxis": "x",
         "y": [
          1.9301202297210691,
          3.991257667541504,
          3.386047840118408,
          6.054940223693848,
          6.196420907974243,
          7.746768951416016,
          9.649159908294678,
          16.170902013778687,
          13.963961362838743,
          13.917462587356567,
          15.450778484344482,
          16.92565393447876,
          17.664294719696045,
          19.247413635253903,
          21.17582607269287,
          23.94607162475586,
          31.089954137802124,
          25.847583293914795,
          24.29087328910828
         ],
         "yaxis": "y"
        },
        {
         "hovertemplate": "algo_batch=LinGreedy (incremental) - 100.0<br>test_size=%{x}<br>time=%{y}<extra></extra>",
         "legendgroup": "LinGreedy (incremental) - 100.0",
         "line": {
          "color": "#B6E880",
          "dash": "solid"
         },
         "marker": {
          "symbol": "circle"
         },
         "mode": "lines",
         "name": "LinGreedy (incremental) - 100.0",
         "orientation": "v",
         "showlegend": true,
         "type": "scatter",
         "x": [
          0.05,
          0.1,
          0.15,
          0.2,
          0.25,
          0.3,
          0.35,
          0.4,
          0.45,
          0.5,
          0.55,
          0.6,
          0.65,
          0.7,
          0.75,
          0.8,
          0.85,
          0.9,
          0.95
         ],
         "xaxis": "x",
         "y": [
          1.4341397285461426,
          3.605273962020874,
          3.247377634048462,
          4.944324970245361,
          5.770283222198486,
          8.005412340164185,
          8.950266122817993,
          14.249581575393677,
          13.746861457824709,
          12.912927389144896,
          14.77612566947937,
          16.31581974029541,
          16.642709732055664,
          18.001058340072632,
          22.801634788513184,
          23.373459577560425,
          28.498011827468872,
          24.42817234992981,
          23.46479177474976
         ],
         "yaxis": "y"
        },
        {
         "hovertemplate": "algo_batch=LinUCB (incremental) - 1000.0<br>test_size=%{x}<br>time=%{y}<extra></extra>",
         "legendgroup": "LinUCB (incremental) - 1000.0",
         "line": {
          "color": "#FF97FF",
          "dash": "solid"
         },
         "marker": {
          "symbol": "circle"
         },
         "mode": "lines",
         "name": "LinUCB (incremental) - 1000.0",
         "orientation": "v",
         "showlegend": true,
         "type": "scatter",
         "x": [
          0.05,
          0.1,
          0.15,
          0.2,
          0.25,
          0.3,
          0.35,
          0.4,
          0.45,
          0.5,
          0.55,
          0.6,
          0.65,
          0.7,
          0.75,
          0.8,
          0.85,
          0.9,
          0.95
         ],
         "xaxis": "x",
         "y": [
          0.438385009765625,
          0.6868479251861572,
          0.4896960258483886,
          0.8398492336273193,
          1.0607919692993164,
          1.2744691371917725,
          1.5271506309509275,
          2.985493898391724,
          2.8417983055114746,
          2.142138957977295,
          2.402880907058716,
          3.713780879974365,
          2.8546671867370605,
          3.2272942066192627,
          3.3925509452819824,
          4.121784210205078,
          5.420466184616089,
          4.350690364837647,
          4.258888006210327
         ],
         "yaxis": "y"
        },
        {
         "hovertemplate": "algo_batch=LinGreedy (incremental) - 1000.0<br>test_size=%{x}<br>time=%{y}<extra></extra>",
         "legendgroup": "LinGreedy (incremental) - 1000.0",
         "line": {
          "color": "#FECB52",
          "dash": "solid"
         },
         "marker": {
          "symbol": "circle"
         },
         "mode": "lines",
         "name": "LinGreedy (incremental) - 1000.0",
         "orientation": "v",
         "showlegend": true,
         "type": "scatter",
         "x": [
          0.05,
          0.1,
          0.15,
          0.2,
          0.25,
          0.3,
          0.35,
          0.4,
          0.45,
          0.5,
          0.55,
          0.6,
          0.65,
          0.7,
          0.75,
          0.8,
          0.85,
          0.9,
          0.95
         ],
         "xaxis": "x",
         "y": [
          0.3655769824981689,
          0.6566910743713379,
          0.5957760810852051,
          0.7339856624603271,
          0.954409122467041,
          1.26446533203125,
          1.500863552093506,
          2.7066280841827397,
          2.7358644008636475,
          2.147296667098999,
          2.524383306503296,
          3.427367925643921,
          2.7933483123779297,
          2.9255809783935547,
          4.097601890563965,
          3.849597215652466,
          4.8946754932403564,
          4.078845262527466,
          4.135611534118652
         ],
         "yaxis": "y"
        }
       ],
       "layout": {
        "legend": {
         "title": {
          "text": "algo_batch"
         },
         "tracegroupgap": 0
        },
        "template": {
         "data": {
          "bar": [
           {
            "error_x": {
             "color": "#2a3f5f"
            },
            "error_y": {
             "color": "#2a3f5f"
            },
            "marker": {
             "line": {
              "color": "#E5ECF6",
              "width": 0.5
             },
             "pattern": {
              "fillmode": "overlay",
              "size": 10,
              "solidity": 0.2
             }
            },
            "type": "bar"
           }
          ],
          "barpolar": [
           {
            "marker": {
             "line": {
              "color": "#E5ECF6",
              "width": 0.5
             },
             "pattern": {
              "fillmode": "overlay",
              "size": 10,
              "solidity": 0.2
             }
            },
            "type": "barpolar"
           }
          ],
          "carpet": [
           {
            "aaxis": {
             "endlinecolor": "#2a3f5f",
             "gridcolor": "white",
             "linecolor": "white",
             "minorgridcolor": "white",
             "startlinecolor": "#2a3f5f"
            },
            "baxis": {
             "endlinecolor": "#2a3f5f",
             "gridcolor": "white",
             "linecolor": "white",
             "minorgridcolor": "white",
             "startlinecolor": "#2a3f5f"
            },
            "type": "carpet"
           }
          ],
          "choropleth": [
           {
            "colorbar": {
             "outlinewidth": 0,
             "ticks": ""
            },
            "type": "choropleth"
           }
          ],
          "contour": [
           {
            "colorbar": {
             "outlinewidth": 0,
             "ticks": ""
            },
            "colorscale": [
             [
              0,
              "#0d0887"
             ],
             [
              0.1111111111111111,
              "#46039f"
             ],
             [
              0.2222222222222222,
              "#7201a8"
             ],
             [
              0.3333333333333333,
              "#9c179e"
             ],
             [
              0.4444444444444444,
              "#bd3786"
             ],
             [
              0.5555555555555556,
              "#d8576b"
             ],
             [
              0.6666666666666666,
              "#ed7953"
             ],
             [
              0.7777777777777778,
              "#fb9f3a"
             ],
             [
              0.8888888888888888,
              "#fdca26"
             ],
             [
              1,
              "#f0f921"
             ]
            ],
            "type": "contour"
           }
          ],
          "contourcarpet": [
           {
            "colorbar": {
             "outlinewidth": 0,
             "ticks": ""
            },
            "type": "contourcarpet"
           }
          ],
          "heatmap": [
           {
            "colorbar": {
             "outlinewidth": 0,
             "ticks": ""
            },
            "colorscale": [
             [
              0,
              "#0d0887"
             ],
             [
              0.1111111111111111,
              "#46039f"
             ],
             [
              0.2222222222222222,
              "#7201a8"
             ],
             [
              0.3333333333333333,
              "#9c179e"
             ],
             [
              0.4444444444444444,
              "#bd3786"
             ],
             [
              0.5555555555555556,
              "#d8576b"
             ],
             [
              0.6666666666666666,
              "#ed7953"
             ],
             [
              0.7777777777777778,
              "#fb9f3a"
             ],
             [
              0.8888888888888888,
              "#fdca26"
             ],
             [
              1,
              "#f0f921"
             ]
            ],
            "type": "heatmap"
           }
          ],
          "heatmapgl": [
           {
            "colorbar": {
             "outlinewidth": 0,
             "ticks": ""
            },
            "colorscale": [
             [
              0,
              "#0d0887"
             ],
             [
              0.1111111111111111,
              "#46039f"
             ],
             [
              0.2222222222222222,
              "#7201a8"
             ],
             [
              0.3333333333333333,
              "#9c179e"
             ],
             [
              0.4444444444444444,
              "#bd3786"
             ],
             [
              0.5555555555555556,
              "#d8576b"
             ],
             [
              0.6666666666666666,
              "#ed7953"
             ],
             [
              0.7777777777777778,
              "#fb9f3a"
             ],
             [
              0.8888888888888888,
              "#fdca26"
             ],
             [
              1,
              "#f0f921"
             ]
            ],
            "type": "heatmapgl"
           }
          ],
          "histogram": [
           {
            "marker": {
             "pattern": {
              "fillmode": "overlay",
              "size": 10,
              "solidity": 0.2
             }
            },
            "type": "histogram"
           }
          ],
          "histogram2d": [
           {
            "colorbar": {
             "outlinewidth": 0,
             "ticks": ""
            },
            "colorscale": [
             [
              0,
              "#0d0887"
             ],
             [
              0.1111111111111111,
              "#46039f"
             ],
             [
              0.2222222222222222,
              "#7201a8"
             ],
             [
              0.3333333333333333,
              "#9c179e"
             ],
             [
              0.4444444444444444,
              "#bd3786"
             ],
             [
              0.5555555555555556,
              "#d8576b"
             ],
             [
              0.6666666666666666,
              "#ed7953"
             ],
             [
              0.7777777777777778,
              "#fb9f3a"
             ],
             [
              0.8888888888888888,
              "#fdca26"
             ],
             [
              1,
              "#f0f921"
             ]
            ],
            "type": "histogram2d"
           }
          ],
          "histogram2dcontour": [
           {
            "colorbar": {
             "outlinewidth": 0,
             "ticks": ""
            },
            "colorscale": [
             [
              0,
              "#0d0887"
             ],
             [
              0.1111111111111111,
              "#46039f"
             ],
             [
              0.2222222222222222,
              "#7201a8"
             ],
             [
              0.3333333333333333,
              "#9c179e"
             ],
             [
              0.4444444444444444,
              "#bd3786"
             ],
             [
              0.5555555555555556,
              "#d8576b"
             ],
             [
              0.6666666666666666,
              "#ed7953"
             ],
             [
              0.7777777777777778,
              "#fb9f3a"
             ],
             [
              0.8888888888888888,
              "#fdca26"
             ],
             [
              1,
              "#f0f921"
             ]
            ],
            "type": "histogram2dcontour"
           }
          ],
          "mesh3d": [
           {
            "colorbar": {
             "outlinewidth": 0,
             "ticks": ""
            },
            "type": "mesh3d"
           }
          ],
          "parcoords": [
           {
            "line": {
             "colorbar": {
              "outlinewidth": 0,
              "ticks": ""
             }
            },
            "type": "parcoords"
           }
          ],
          "pie": [
           {
            "automargin": true,
            "type": "pie"
           }
          ],
          "scatter": [
           {
            "fillpattern": {
             "fillmode": "overlay",
             "size": 10,
             "solidity": 0.2
            },
            "type": "scatter"
           }
          ],
          "scatter3d": [
           {
            "line": {
             "colorbar": {
              "outlinewidth": 0,
              "ticks": ""
             }
            },
            "marker": {
             "colorbar": {
              "outlinewidth": 0,
              "ticks": ""
             }
            },
            "type": "scatter3d"
           }
          ],
          "scattercarpet": [
           {
            "marker": {
             "colorbar": {
              "outlinewidth": 0,
              "ticks": ""
             }
            },
            "type": "scattercarpet"
           }
          ],
          "scattergeo": [
           {
            "marker": {
             "colorbar": {
              "outlinewidth": 0,
              "ticks": ""
             }
            },
            "type": "scattergeo"
           }
          ],
          "scattergl": [
           {
            "marker": {
             "colorbar": {
              "outlinewidth": 0,
              "ticks": ""
             }
            },
            "type": "scattergl"
           }
          ],
          "scattermapbox": [
           {
            "marker": {
             "colorbar": {
              "outlinewidth": 0,
              "ticks": ""
             }
            },
            "type": "scattermapbox"
           }
          ],
          "scatterpolar": [
           {
            "marker": {
             "colorbar": {
              "outlinewidth": 0,
              "ticks": ""
             }
            },
            "type": "scatterpolar"
           }
          ],
          "scatterpolargl": [
           {
            "marker": {
             "colorbar": {
              "outlinewidth": 0,
              "ticks": ""
             }
            },
            "type": "scatterpolargl"
           }
          ],
          "scatterternary": [
           {
            "marker": {
             "colorbar": {
              "outlinewidth": 0,
              "ticks": ""
             }
            },
            "type": "scatterternary"
           }
          ],
          "surface": [
           {
            "colorbar": {
             "outlinewidth": 0,
             "ticks": ""
            },
            "colorscale": [
             [
              0,
              "#0d0887"
             ],
             [
              0.1111111111111111,
              "#46039f"
             ],
             [
              0.2222222222222222,
              "#7201a8"
             ],
             [
              0.3333333333333333,
              "#9c179e"
             ],
             [
              0.4444444444444444,
              "#bd3786"
             ],
             [
              0.5555555555555556,
              "#d8576b"
             ],
             [
              0.6666666666666666,
              "#ed7953"
             ],
             [
              0.7777777777777778,
              "#fb9f3a"
             ],
             [
              0.8888888888888888,
              "#fdca26"
             ],
             [
              1,
              "#f0f921"
             ]
            ],
            "type": "surface"
           }
          ],
          "table": [
           {
            "cells": {
             "fill": {
              "color": "#EBF0F8"
             },
             "line": {
              "color": "white"
             }
            },
            "header": {
             "fill": {
              "color": "#C8D4E3"
             },
             "line": {
              "color": "white"
             }
            },
            "type": "table"
           }
          ]
         },
         "layout": {
          "annotationdefaults": {
           "arrowcolor": "#2a3f5f",
           "arrowhead": 0,
           "arrowwidth": 1
          },
          "autotypenumbers": "strict",
          "coloraxis": {
           "colorbar": {
            "outlinewidth": 0,
            "ticks": ""
           }
          },
          "colorscale": {
           "diverging": [
            [
             0,
             "#8e0152"
            ],
            [
             0.1,
             "#c51b7d"
            ],
            [
             0.2,
             "#de77ae"
            ],
            [
             0.3,
             "#f1b6da"
            ],
            [
             0.4,
             "#fde0ef"
            ],
            [
             0.5,
             "#f7f7f7"
            ],
            [
             0.6,
             "#e6f5d0"
            ],
            [
             0.7,
             "#b8e186"
            ],
            [
             0.8,
             "#7fbc41"
            ],
            [
             0.9,
             "#4d9221"
            ],
            [
             1,
             "#276419"
            ]
           ],
           "sequential": [
            [
             0,
             "#0d0887"
            ],
            [
             0.1111111111111111,
             "#46039f"
            ],
            [
             0.2222222222222222,
             "#7201a8"
            ],
            [
             0.3333333333333333,
             "#9c179e"
            ],
            [
             0.4444444444444444,
             "#bd3786"
            ],
            [
             0.5555555555555556,
             "#d8576b"
            ],
            [
             0.6666666666666666,
             "#ed7953"
            ],
            [
             0.7777777777777778,
             "#fb9f3a"
            ],
            [
             0.8888888888888888,
             "#fdca26"
            ],
            [
             1,
             "#f0f921"
            ]
           ],
           "sequentialminus": [
            [
             0,
             "#0d0887"
            ],
            [
             0.1111111111111111,
             "#46039f"
            ],
            [
             0.2222222222222222,
             "#7201a8"
            ],
            [
             0.3333333333333333,
             "#9c179e"
            ],
            [
             0.4444444444444444,
             "#bd3786"
            ],
            [
             0.5555555555555556,
             "#d8576b"
            ],
            [
             0.6666666666666666,
             "#ed7953"
            ],
            [
             0.7777777777777778,
             "#fb9f3a"
            ],
            [
             0.8888888888888888,
             "#fdca26"
            ],
            [
             1,
             "#f0f921"
            ]
           ]
          },
          "colorway": [
           "#636efa",
           "#EF553B",
           "#00cc96",
           "#ab63fa",
           "#FFA15A",
           "#19d3f3",
           "#FF6692",
           "#B6E880",
           "#FF97FF",
           "#FECB52"
          ],
          "font": {
           "color": "#2a3f5f"
          },
          "geo": {
           "bgcolor": "white",
           "lakecolor": "white",
           "landcolor": "#E5ECF6",
           "showlakes": true,
           "showland": true,
           "subunitcolor": "white"
          },
          "hoverlabel": {
           "align": "left"
          },
          "hovermode": "closest",
          "mapbox": {
           "style": "light"
          },
          "paper_bgcolor": "white",
          "plot_bgcolor": "#E5ECF6",
          "polar": {
           "angularaxis": {
            "gridcolor": "white",
            "linecolor": "white",
            "ticks": ""
           },
           "bgcolor": "#E5ECF6",
           "radialaxis": {
            "gridcolor": "white",
            "linecolor": "white",
            "ticks": ""
           }
          },
          "scene": {
           "xaxis": {
            "backgroundcolor": "#E5ECF6",
            "gridcolor": "white",
            "gridwidth": 2,
            "linecolor": "white",
            "showbackground": true,
            "ticks": "",
            "zerolinecolor": "white"
           },
           "yaxis": {
            "backgroundcolor": "#E5ECF6",
            "gridcolor": "white",
            "gridwidth": 2,
            "linecolor": "white",
            "showbackground": true,
            "ticks": "",
            "zerolinecolor": "white"
           },
           "zaxis": {
            "backgroundcolor": "#E5ECF6",
            "gridcolor": "white",
            "gridwidth": 2,
            "linecolor": "white",
            "showbackground": true,
            "ticks": "",
            "zerolinecolor": "white"
           }
          },
          "shapedefaults": {
           "line": {
            "color": "#2a3f5f"
           }
          },
          "ternary": {
           "aaxis": {
            "gridcolor": "white",
            "linecolor": "white",
            "ticks": ""
           },
           "baxis": {
            "gridcolor": "white",
            "linecolor": "white",
            "ticks": ""
           },
           "bgcolor": "#E5ECF6",
           "caxis": {
            "gridcolor": "white",
            "linecolor": "white",
            "ticks": ""
           }
          },
          "title": {
           "x": 0.05
          },
          "xaxis": {
           "automargin": true,
           "gridcolor": "white",
           "linecolor": "white",
           "ticks": "",
           "title": {
            "standoff": 15
           },
           "zerolinecolor": "white",
           "zerolinewidth": 2
          },
          "yaxis": {
           "automargin": true,
           "gridcolor": "white",
           "linecolor": "white",
           "ticks": "",
           "title": {
            "standoff": 15
           },
           "zerolinecolor": "white",
           "zerolinewidth": 2
          }
         }
        },
        "title": {
         "text": "Time x Test size (incremental batch size)"
        },
        "xaxis": {
         "anchor": "y",
         "domain": [
          0,
          1
         ],
         "title": {
          "text": "test_size"
         }
        },
        "yaxis": {
         "anchor": "x",
         "domain": [
          0,
          1
         ],
         "title": {
          "text": "time"
         }
        }
       }
      }
     },
     "metadata": {},
     "output_type": "display_data"
    }
   ],
   "source": [
    "fig = px.line(df_results_incremental, x=\"test_size\", y=\"time\", color='algo_batch', title='Time x Test size (incremental batch size)')\n",
    "fig.show()\n",
    "fig.write_html('results/time_x_test_size_incremental_batch_size.html')"
   ]
  },
  {
   "cell_type": "code",
   "execution_count": 17,
   "metadata": {},
   "outputs": [
    {
     "data": {
      "text/html": [
       "<div>\n",
       "<style scoped>\n",
       "    .dataframe tbody tr th:only-of-type {\n",
       "        vertical-align: middle;\n",
       "    }\n",
       "\n",
       "    .dataframe tbody tr th {\n",
       "        vertical-align: top;\n",
       "    }\n",
       "\n",
       "    .dataframe thead th {\n",
       "        text-align: right;\n",
       "    }\n",
       "</style>\n",
       "<table border=\"1\" class=\"dataframe\">\n",
       "  <thead>\n",
       "    <tr style=\"text-align: right;\">\n",
       "      <th></th>\n",
       "      <th>algorithm</th>\n",
       "      <th>hits</th>\n",
       "      <th>hr</th>\n",
       "      <th>time</th>\n",
       "      <th>batch_size</th>\n",
       "      <th>test_size</th>\n",
       "      <th>test_interactions</th>\n",
       "    </tr>\n",
       "  </thead>\n",
       "  <tbody>\n",
       "    <tr>\n",
       "      <th>0</th>\n",
       "      <td>ALS</td>\n",
       "      <td>46</td>\n",
       "      <td>0.153846</td>\n",
       "      <td>0.250584</td>\n",
       "      <td>NaN</td>\n",
       "      <td>0.05</td>\n",
       "      <td>299</td>\n",
       "    </tr>\n",
       "    <tr>\n",
       "      <th>1</th>\n",
       "      <td>LinUCB (non_incremental)</td>\n",
       "      <td>22</td>\n",
       "      <td>0.073579</td>\n",
       "      <td>0.078525</td>\n",
       "      <td>NaN</td>\n",
       "      <td>0.05</td>\n",
       "      <td>299</td>\n",
       "    </tr>\n",
       "    <tr>\n",
       "      <th>2</th>\n",
       "      <td>LinGreedy (non_incremental)</td>\n",
       "      <td>22</td>\n",
       "      <td>0.073579</td>\n",
       "      <td>0.058038</td>\n",
       "      <td>NaN</td>\n",
       "      <td>0.05</td>\n",
       "      <td>299</td>\n",
       "    </tr>\n",
       "    <tr>\n",
       "      <th>8</th>\n",
       "      <td>LinGreedy (incremental)</td>\n",
       "      <td>19</td>\n",
       "      <td>0.063545</td>\n",
       "      <td>10.021118</td>\n",
       "      <td>10.0</td>\n",
       "      <td>0.05</td>\n",
       "      <td>299</td>\n",
       "    </tr>\n",
       "    <tr>\n",
       "      <th>0</th>\n",
       "      <td>ALS</td>\n",
       "      <td>82</td>\n",
       "      <td>0.131621</td>\n",
       "      <td>0.294155</td>\n",
       "      <td>NaN</td>\n",
       "      <td>0.10</td>\n",
       "      <td>623</td>\n",
       "    </tr>\n",
       "    <tr>\n",
       "      <th>...</th>\n",
       "      <td>...</td>\n",
       "      <td>...</td>\n",
       "      <td>...</td>\n",
       "      <td>...</td>\n",
       "      <td>...</td>\n",
       "      <td>...</td>\n",
       "      <td>...</td>\n",
       "    </tr>\n",
       "    <tr>\n",
       "      <th>8</th>\n",
       "      <td>LinGreedy (incremental)</td>\n",
       "      <td>630</td>\n",
       "      <td>0.074039</td>\n",
       "      <td>164.195556</td>\n",
       "      <td>10.0</td>\n",
       "      <td>0.90</td>\n",
       "      <td>8509</td>\n",
       "    </tr>\n",
       "    <tr>\n",
       "      <th>0</th>\n",
       "      <td>ALS</td>\n",
       "      <td>749</td>\n",
       "      <td>0.090876</td>\n",
       "      <td>2.593640</td>\n",
       "      <td>NaN</td>\n",
       "      <td>0.95</td>\n",
       "      <td>8242</td>\n",
       "    </tr>\n",
       "    <tr>\n",
       "      <th>1</th>\n",
       "      <td>LinUCB (non_incremental)</td>\n",
       "      <td>556</td>\n",
       "      <td>0.067459</td>\n",
       "      <td>1.481422</td>\n",
       "      <td>NaN</td>\n",
       "      <td>0.95</td>\n",
       "      <td>8242</td>\n",
       "    </tr>\n",
       "    <tr>\n",
       "      <th>2</th>\n",
       "      <td>LinGreedy (non_incremental)</td>\n",
       "      <td>556</td>\n",
       "      <td>0.067459</td>\n",
       "      <td>1.263177</td>\n",
       "      <td>NaN</td>\n",
       "      <td>0.95</td>\n",
       "      <td>8242</td>\n",
       "    </tr>\n",
       "    <tr>\n",
       "      <th>8</th>\n",
       "      <td>LinGreedy (incremental)</td>\n",
       "      <td>589</td>\n",
       "      <td>0.071463</td>\n",
       "      <td>157.516431</td>\n",
       "      <td>10.0</td>\n",
       "      <td>0.95</td>\n",
       "      <td>8242</td>\n",
       "    </tr>\n",
       "  </tbody>\n",
       "</table>\n",
       "<p>76 rows × 7 columns</p>\n",
       "</div>"
      ],
      "text/plain": [
       "                      algorithm  hits        hr        time  batch_size  \\\n",
       "0                           ALS    46  0.153846    0.250584         NaN   \n",
       "1      LinUCB (non_incremental)    22  0.073579    0.078525         NaN   \n",
       "2   LinGreedy (non_incremental)    22  0.073579    0.058038         NaN   \n",
       "8       LinGreedy (incremental)    19  0.063545   10.021118        10.0   \n",
       "0                           ALS    82  0.131621    0.294155         NaN   \n",
       "..                          ...   ...       ...         ...         ...   \n",
       "8       LinGreedy (incremental)   630  0.074039  164.195556        10.0   \n",
       "0                           ALS   749  0.090876    2.593640         NaN   \n",
       "1      LinUCB (non_incremental)   556  0.067459    1.481422         NaN   \n",
       "2   LinGreedy (non_incremental)   556  0.067459    1.263177         NaN   \n",
       "8       LinGreedy (incremental)   589  0.071463  157.516431        10.0   \n",
       "\n",
       "    test_size  test_interactions  \n",
       "0        0.05                299  \n",
       "1        0.05                299  \n",
       "2        0.05                299  \n",
       "8        0.05                299  \n",
       "0        0.10                623  \n",
       "..        ...                ...  \n",
       "8        0.90               8509  \n",
       "0        0.95               8242  \n",
       "1        0.95               8242  \n",
       "2        0.95               8242  \n",
       "8        0.95               8242  \n",
       "\n",
       "[76 rows x 7 columns]"
      ]
     },
     "execution_count": 17,
     "metadata": {},
     "output_type": "execute_result"
    }
   ],
   "source": [
    "df_results_filtered = df_results[\n",
    "    (df_results['algorithm'] == 'LinUCB (non_incremental)') | \n",
    "    (df_results['algorithm'] == 'LinGreedy (non_incremental)') |\n",
    "    (df_results['algorithm'] == 'ALS') |\n",
    "    ((df_results['algorithm'] == 'LinGreedy (incremental)') & (df_results['batch_size'] == 10.0))\n",
    "]\n",
    "df_results_filtered"
   ]
  },
  {
   "cell_type": "code",
   "execution_count": 19,
   "metadata": {},
   "outputs": [
    {
     "data": {
      "application/vnd.plotly.v1+json": {
       "config": {
        "plotlyServerURL": "https://plot.ly"
       },
       "data": [
        {
         "hovertemplate": "algorithm=ALS<br>test_size=%{x}<br>hr=%{y}<extra></extra>",
         "legendgroup": "ALS",
         "line": {
          "color": "#636efa",
          "dash": "solid"
         },
         "marker": {
          "symbol": "circle"
         },
         "mode": "lines",
         "name": "ALS",
         "orientation": "v",
         "showlegend": true,
         "type": "scatter",
         "x": [
          0.05,
          0.1,
          0.15,
          0.2,
          0.25,
          0.3,
          0.35,
          0.4,
          0.45,
          0.5,
          0.55,
          0.6,
          0.65,
          0.7,
          0.75,
          0.8,
          0.85,
          0.9,
          0.95
         ],
         "xaxis": "x",
         "y": [
          0.1538461538461538,
          0.131621187800963,
          0.1860019175455417,
          0.2394014962593516,
          0.2515366430260047,
          0.2460136674259681,
          0.2417617237008872,
          0.2197772344471611,
          0.2123662306777645,
          0.2020736352094794,
          0.1817142857142857,
          0.1680773881499395,
          0.1579113924050633,
          0.1412124744972311,
          0.1280561934350939,
          0.1106588654286441,
          0.1056694813027744,
          0.0968386414384769,
          0.0908760009706382
         ],
         "yaxis": "y"
        },
        {
         "hovertemplate": "algorithm=LinUCB (non_incremental)<br>test_size=%{x}<br>hr=%{y}<extra></extra>",
         "legendgroup": "LinUCB (non_incremental)",
         "line": {
          "color": "#EF553B",
          "dash": "solid"
         },
         "marker": {
          "symbol": "circle"
         },
         "mode": "lines",
         "name": "LinUCB (non_incremental)",
         "orientation": "v",
         "showlegend": true,
         "type": "scatter",
         "x": [
          0.05,
          0.1,
          0.15,
          0.2,
          0.25,
          0.3,
          0.35,
          0.4,
          0.45,
          0.5,
          0.55,
          0.6,
          0.65,
          0.7,
          0.75,
          0.8,
          0.85,
          0.9,
          0.95
         ],
         "xaxis": "x",
         "y": [
          0.0735785953177257,
          0.0754414125200642,
          0.0690316395014381,
          0.0866583541147132,
          0.0836879432624113,
          0.0766894457099468,
          0.0798479087452471,
          0.0733496332518337,
          0.0746730083234245,
          0.0694033008887008,
          0.0660952380952381,
          0.0673691483848678,
          0.0552215189873417,
          0.0514427280676187,
          0.0528164257733351,
          0.03904858814551,
          0.0388419782870928,
          0.0457163003878246,
          0.0674593545256005
         ],
         "yaxis": "y"
        },
        {
         "hovertemplate": "algorithm=LinGreedy (non_incremental)<br>test_size=%{x}<br>hr=%{y}<extra></extra>",
         "legendgroup": "LinGreedy (non_incremental)",
         "line": {
          "color": "#00cc96",
          "dash": "solid"
         },
         "marker": {
          "symbol": "circle"
         },
         "mode": "lines",
         "name": "LinGreedy (non_incremental)",
         "orientation": "v",
         "showlegend": true,
         "type": "scatter",
         "x": [
          0.05,
          0.1,
          0.15,
          0.2,
          0.25,
          0.3,
          0.35,
          0.4,
          0.45,
          0.5,
          0.55,
          0.6,
          0.65,
          0.7,
          0.75,
          0.8,
          0.85,
          0.9,
          0.95
         ],
         "xaxis": "x",
         "y": [
          0.0735785953177257,
          0.0802568218298555,
          0.0738255033557047,
          0.0872817955112219,
          0.0879432624113475,
          0.0873196659073652,
          0.0868187579214195,
          0.0812279271936973,
          0.0841854934601664,
          0.0799830723656369,
          0.0767619047619047,
          0.0803247538434962,
          0.0697784810126582,
          0.0686388807927717,
          0.0714575172227475,
          0.0663953192571864,
          0.0638118214716526,
          0.0681631214008696,
          0.0674593545256005
         ],
         "yaxis": "y"
        },
        {
         "hovertemplate": "algorithm=LinGreedy (incremental)<br>test_size=%{x}<br>hr=%{y}<extra></extra>",
         "legendgroup": "LinGreedy (incremental)",
         "line": {
          "color": "#ab63fa",
          "dash": "solid"
         },
         "marker": {
          "symbol": "circle"
         },
         "mode": "lines",
         "name": "LinGreedy (incremental)",
         "orientation": "v",
         "showlegend": true,
         "type": "scatter",
         "x": [
          0.05,
          0.1,
          0.15,
          0.2,
          0.25,
          0.3,
          0.35,
          0.4,
          0.45,
          0.5,
          0.55,
          0.6,
          0.65,
          0.7,
          0.75,
          0.8,
          0.85,
          0.9,
          0.95
         ],
         "xaxis": "x",
         "y": [
          0.0635451505016722,
          0.0834670947030497,
          0.0958772770853307,
          0.0960099750623441,
          0.1106382978723404,
          0.109719058466211,
          0.111850443599493,
          0.1081227927193697,
          0.1065398335315101,
          0.0994498518831993,
          0.0998095238095238,
          0.0948350319571601,
          0.0938291139240506,
          0.0881667152433692,
          0.0861812778603269,
          0.0798778936657339,
          0.0837153196622436,
          0.074039252556117,
          0.071463237078379
         ],
         "yaxis": "y"
        }
       ],
       "layout": {
        "legend": {
         "title": {
          "text": "algorithm"
         },
         "tracegroupgap": 0
        },
        "template": {
         "data": {
          "bar": [
           {
            "error_x": {
             "color": "#2a3f5f"
            },
            "error_y": {
             "color": "#2a3f5f"
            },
            "marker": {
             "line": {
              "color": "#E5ECF6",
              "width": 0.5
             },
             "pattern": {
              "fillmode": "overlay",
              "size": 10,
              "solidity": 0.2
             }
            },
            "type": "bar"
           }
          ],
          "barpolar": [
           {
            "marker": {
             "line": {
              "color": "#E5ECF6",
              "width": 0.5
             },
             "pattern": {
              "fillmode": "overlay",
              "size": 10,
              "solidity": 0.2
             }
            },
            "type": "barpolar"
           }
          ],
          "carpet": [
           {
            "aaxis": {
             "endlinecolor": "#2a3f5f",
             "gridcolor": "white",
             "linecolor": "white",
             "minorgridcolor": "white",
             "startlinecolor": "#2a3f5f"
            },
            "baxis": {
             "endlinecolor": "#2a3f5f",
             "gridcolor": "white",
             "linecolor": "white",
             "minorgridcolor": "white",
             "startlinecolor": "#2a3f5f"
            },
            "type": "carpet"
           }
          ],
          "choropleth": [
           {
            "colorbar": {
             "outlinewidth": 0,
             "ticks": ""
            },
            "type": "choropleth"
           }
          ],
          "contour": [
           {
            "colorbar": {
             "outlinewidth": 0,
             "ticks": ""
            },
            "colorscale": [
             [
              0,
              "#0d0887"
             ],
             [
              0.1111111111111111,
              "#46039f"
             ],
             [
              0.2222222222222222,
              "#7201a8"
             ],
             [
              0.3333333333333333,
              "#9c179e"
             ],
             [
              0.4444444444444444,
              "#bd3786"
             ],
             [
              0.5555555555555556,
              "#d8576b"
             ],
             [
              0.6666666666666666,
              "#ed7953"
             ],
             [
              0.7777777777777778,
              "#fb9f3a"
             ],
             [
              0.8888888888888888,
              "#fdca26"
             ],
             [
              1,
              "#f0f921"
             ]
            ],
            "type": "contour"
           }
          ],
          "contourcarpet": [
           {
            "colorbar": {
             "outlinewidth": 0,
             "ticks": ""
            },
            "type": "contourcarpet"
           }
          ],
          "heatmap": [
           {
            "colorbar": {
             "outlinewidth": 0,
             "ticks": ""
            },
            "colorscale": [
             [
              0,
              "#0d0887"
             ],
             [
              0.1111111111111111,
              "#46039f"
             ],
             [
              0.2222222222222222,
              "#7201a8"
             ],
             [
              0.3333333333333333,
              "#9c179e"
             ],
             [
              0.4444444444444444,
              "#bd3786"
             ],
             [
              0.5555555555555556,
              "#d8576b"
             ],
             [
              0.6666666666666666,
              "#ed7953"
             ],
             [
              0.7777777777777778,
              "#fb9f3a"
             ],
             [
              0.8888888888888888,
              "#fdca26"
             ],
             [
              1,
              "#f0f921"
             ]
            ],
            "type": "heatmap"
           }
          ],
          "heatmapgl": [
           {
            "colorbar": {
             "outlinewidth": 0,
             "ticks": ""
            },
            "colorscale": [
             [
              0,
              "#0d0887"
             ],
             [
              0.1111111111111111,
              "#46039f"
             ],
             [
              0.2222222222222222,
              "#7201a8"
             ],
             [
              0.3333333333333333,
              "#9c179e"
             ],
             [
              0.4444444444444444,
              "#bd3786"
             ],
             [
              0.5555555555555556,
              "#d8576b"
             ],
             [
              0.6666666666666666,
              "#ed7953"
             ],
             [
              0.7777777777777778,
              "#fb9f3a"
             ],
             [
              0.8888888888888888,
              "#fdca26"
             ],
             [
              1,
              "#f0f921"
             ]
            ],
            "type": "heatmapgl"
           }
          ],
          "histogram": [
           {
            "marker": {
             "pattern": {
              "fillmode": "overlay",
              "size": 10,
              "solidity": 0.2
             }
            },
            "type": "histogram"
           }
          ],
          "histogram2d": [
           {
            "colorbar": {
             "outlinewidth": 0,
             "ticks": ""
            },
            "colorscale": [
             [
              0,
              "#0d0887"
             ],
             [
              0.1111111111111111,
              "#46039f"
             ],
             [
              0.2222222222222222,
              "#7201a8"
             ],
             [
              0.3333333333333333,
              "#9c179e"
             ],
             [
              0.4444444444444444,
              "#bd3786"
             ],
             [
              0.5555555555555556,
              "#d8576b"
             ],
             [
              0.6666666666666666,
              "#ed7953"
             ],
             [
              0.7777777777777778,
              "#fb9f3a"
             ],
             [
              0.8888888888888888,
              "#fdca26"
             ],
             [
              1,
              "#f0f921"
             ]
            ],
            "type": "histogram2d"
           }
          ],
          "histogram2dcontour": [
           {
            "colorbar": {
             "outlinewidth": 0,
             "ticks": ""
            },
            "colorscale": [
             [
              0,
              "#0d0887"
             ],
             [
              0.1111111111111111,
              "#46039f"
             ],
             [
              0.2222222222222222,
              "#7201a8"
             ],
             [
              0.3333333333333333,
              "#9c179e"
             ],
             [
              0.4444444444444444,
              "#bd3786"
             ],
             [
              0.5555555555555556,
              "#d8576b"
             ],
             [
              0.6666666666666666,
              "#ed7953"
             ],
             [
              0.7777777777777778,
              "#fb9f3a"
             ],
             [
              0.8888888888888888,
              "#fdca26"
             ],
             [
              1,
              "#f0f921"
             ]
            ],
            "type": "histogram2dcontour"
           }
          ],
          "mesh3d": [
           {
            "colorbar": {
             "outlinewidth": 0,
             "ticks": ""
            },
            "type": "mesh3d"
           }
          ],
          "parcoords": [
           {
            "line": {
             "colorbar": {
              "outlinewidth": 0,
              "ticks": ""
             }
            },
            "type": "parcoords"
           }
          ],
          "pie": [
           {
            "automargin": true,
            "type": "pie"
           }
          ],
          "scatter": [
           {
            "fillpattern": {
             "fillmode": "overlay",
             "size": 10,
             "solidity": 0.2
            },
            "type": "scatter"
           }
          ],
          "scatter3d": [
           {
            "line": {
             "colorbar": {
              "outlinewidth": 0,
              "ticks": ""
             }
            },
            "marker": {
             "colorbar": {
              "outlinewidth": 0,
              "ticks": ""
             }
            },
            "type": "scatter3d"
           }
          ],
          "scattercarpet": [
           {
            "marker": {
             "colorbar": {
              "outlinewidth": 0,
              "ticks": ""
             }
            },
            "type": "scattercarpet"
           }
          ],
          "scattergeo": [
           {
            "marker": {
             "colorbar": {
              "outlinewidth": 0,
              "ticks": ""
             }
            },
            "type": "scattergeo"
           }
          ],
          "scattergl": [
           {
            "marker": {
             "colorbar": {
              "outlinewidth": 0,
              "ticks": ""
             }
            },
            "type": "scattergl"
           }
          ],
          "scattermapbox": [
           {
            "marker": {
             "colorbar": {
              "outlinewidth": 0,
              "ticks": ""
             }
            },
            "type": "scattermapbox"
           }
          ],
          "scatterpolar": [
           {
            "marker": {
             "colorbar": {
              "outlinewidth": 0,
              "ticks": ""
             }
            },
            "type": "scatterpolar"
           }
          ],
          "scatterpolargl": [
           {
            "marker": {
             "colorbar": {
              "outlinewidth": 0,
              "ticks": ""
             }
            },
            "type": "scatterpolargl"
           }
          ],
          "scatterternary": [
           {
            "marker": {
             "colorbar": {
              "outlinewidth": 0,
              "ticks": ""
             }
            },
            "type": "scatterternary"
           }
          ],
          "surface": [
           {
            "colorbar": {
             "outlinewidth": 0,
             "ticks": ""
            },
            "colorscale": [
             [
              0,
              "#0d0887"
             ],
             [
              0.1111111111111111,
              "#46039f"
             ],
             [
              0.2222222222222222,
              "#7201a8"
             ],
             [
              0.3333333333333333,
              "#9c179e"
             ],
             [
              0.4444444444444444,
              "#bd3786"
             ],
             [
              0.5555555555555556,
              "#d8576b"
             ],
             [
              0.6666666666666666,
              "#ed7953"
             ],
             [
              0.7777777777777778,
              "#fb9f3a"
             ],
             [
              0.8888888888888888,
              "#fdca26"
             ],
             [
              1,
              "#f0f921"
             ]
            ],
            "type": "surface"
           }
          ],
          "table": [
           {
            "cells": {
             "fill": {
              "color": "#EBF0F8"
             },
             "line": {
              "color": "white"
             }
            },
            "header": {
             "fill": {
              "color": "#C8D4E3"
             },
             "line": {
              "color": "white"
             }
            },
            "type": "table"
           }
          ]
         },
         "layout": {
          "annotationdefaults": {
           "arrowcolor": "#2a3f5f",
           "arrowhead": 0,
           "arrowwidth": 1
          },
          "autotypenumbers": "strict",
          "coloraxis": {
           "colorbar": {
            "outlinewidth": 0,
            "ticks": ""
           }
          },
          "colorscale": {
           "diverging": [
            [
             0,
             "#8e0152"
            ],
            [
             0.1,
             "#c51b7d"
            ],
            [
             0.2,
             "#de77ae"
            ],
            [
             0.3,
             "#f1b6da"
            ],
            [
             0.4,
             "#fde0ef"
            ],
            [
             0.5,
             "#f7f7f7"
            ],
            [
             0.6,
             "#e6f5d0"
            ],
            [
             0.7,
             "#b8e186"
            ],
            [
             0.8,
             "#7fbc41"
            ],
            [
             0.9,
             "#4d9221"
            ],
            [
             1,
             "#276419"
            ]
           ],
           "sequential": [
            [
             0,
             "#0d0887"
            ],
            [
             0.1111111111111111,
             "#46039f"
            ],
            [
             0.2222222222222222,
             "#7201a8"
            ],
            [
             0.3333333333333333,
             "#9c179e"
            ],
            [
             0.4444444444444444,
             "#bd3786"
            ],
            [
             0.5555555555555556,
             "#d8576b"
            ],
            [
             0.6666666666666666,
             "#ed7953"
            ],
            [
             0.7777777777777778,
             "#fb9f3a"
            ],
            [
             0.8888888888888888,
             "#fdca26"
            ],
            [
             1,
             "#f0f921"
            ]
           ],
           "sequentialminus": [
            [
             0,
             "#0d0887"
            ],
            [
             0.1111111111111111,
             "#46039f"
            ],
            [
             0.2222222222222222,
             "#7201a8"
            ],
            [
             0.3333333333333333,
             "#9c179e"
            ],
            [
             0.4444444444444444,
             "#bd3786"
            ],
            [
             0.5555555555555556,
             "#d8576b"
            ],
            [
             0.6666666666666666,
             "#ed7953"
            ],
            [
             0.7777777777777778,
             "#fb9f3a"
            ],
            [
             0.8888888888888888,
             "#fdca26"
            ],
            [
             1,
             "#f0f921"
            ]
           ]
          },
          "colorway": [
           "#636efa",
           "#EF553B",
           "#00cc96",
           "#ab63fa",
           "#FFA15A",
           "#19d3f3",
           "#FF6692",
           "#B6E880",
           "#FF97FF",
           "#FECB52"
          ],
          "font": {
           "color": "#2a3f5f"
          },
          "geo": {
           "bgcolor": "white",
           "lakecolor": "white",
           "landcolor": "#E5ECF6",
           "showlakes": true,
           "showland": true,
           "subunitcolor": "white"
          },
          "hoverlabel": {
           "align": "left"
          },
          "hovermode": "closest",
          "mapbox": {
           "style": "light"
          },
          "paper_bgcolor": "white",
          "plot_bgcolor": "#E5ECF6",
          "polar": {
           "angularaxis": {
            "gridcolor": "white",
            "linecolor": "white",
            "ticks": ""
           },
           "bgcolor": "#E5ECF6",
           "radialaxis": {
            "gridcolor": "white",
            "linecolor": "white",
            "ticks": ""
           }
          },
          "scene": {
           "xaxis": {
            "backgroundcolor": "#E5ECF6",
            "gridcolor": "white",
            "gridwidth": 2,
            "linecolor": "white",
            "showbackground": true,
            "ticks": "",
            "zerolinecolor": "white"
           },
           "yaxis": {
            "backgroundcolor": "#E5ECF6",
            "gridcolor": "white",
            "gridwidth": 2,
            "linecolor": "white",
            "showbackground": true,
            "ticks": "",
            "zerolinecolor": "white"
           },
           "zaxis": {
            "backgroundcolor": "#E5ECF6",
            "gridcolor": "white",
            "gridwidth": 2,
            "linecolor": "white",
            "showbackground": true,
            "ticks": "",
            "zerolinecolor": "white"
           }
          },
          "shapedefaults": {
           "line": {
            "color": "#2a3f5f"
           }
          },
          "ternary": {
           "aaxis": {
            "gridcolor": "white",
            "linecolor": "white",
            "ticks": ""
           },
           "baxis": {
            "gridcolor": "white",
            "linecolor": "white",
            "ticks": ""
           },
           "bgcolor": "#E5ECF6",
           "caxis": {
            "gridcolor": "white",
            "linecolor": "white",
            "ticks": ""
           }
          },
          "title": {
           "x": 0.05
          },
          "xaxis": {
           "automargin": true,
           "gridcolor": "white",
           "linecolor": "white",
           "ticks": "",
           "title": {
            "standoff": 15
           },
           "zerolinecolor": "white",
           "zerolinewidth": 2
          },
          "yaxis": {
           "automargin": true,
           "gridcolor": "white",
           "linecolor": "white",
           "ticks": "",
           "title": {
            "standoff": 15
           },
           "zerolinecolor": "white",
           "zerolinewidth": 2
          }
         }
        },
        "title": {
         "text": "HR x Test size"
        },
        "xaxis": {
         "anchor": "y",
         "domain": [
          0,
          1
         ],
         "title": {
          "text": "test_size"
         }
        },
        "yaxis": {
         "anchor": "x",
         "domain": [
          0,
          1
         ],
         "title": {
          "text": "hr"
         }
        }
       }
      }
     },
     "metadata": {},
     "output_type": "display_data"
    }
   ],
   "source": [
    "fig = px.line(df_results_filtered, x=\"test_size\", y=\"hr\", color='algorithm', title='HR x Test size')\n",
    "fig.show()\n",
    "fig.write_html('results/hr_x_test_size.html')"
   ]
  }
 ],
 "metadata": {
  "kernelspec": {
   "display_name": "RLRS-rllib",
   "language": "python",
   "name": "python3"
  },
  "language_info": {
   "codemirror_mode": {
    "name": "ipython",
    "version": 3
   },
   "file_extension": ".py",
   "mimetype": "text/x-python",
   "name": "python",
   "nbconvert_exporter": "python",
   "pygments_lexer": "ipython3",
   "version": "3.8.16"
  }
 },
 "nbformat": 4,
 "nbformat_minor": 2
}
