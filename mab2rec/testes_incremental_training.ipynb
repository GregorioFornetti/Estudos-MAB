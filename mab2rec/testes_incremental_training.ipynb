{
 "cells": [
  {
   "cell_type": "markdown",
   "metadata": {},
   "source": [
    "# Testes de treinamento incremental"
   ]
  },
  {
   "cell_type": "markdown",
   "metadata": {},
   "source": [
    "A ideia deste notebook é verificar se treinar os algoritmos de MAB durante as interações de teste geram alguma melhora para eles, comparando-os com os resultados de um algoritmo estático (ALS)."
   ]
  },
  {
   "cell_type": "code",
   "execution_count": 1,
   "metadata": {},
   "outputs": [],
   "source": [
    "import pandas as pd\n",
    "from mab2rec import BanditRecommender, LearningPolicy\n",
    "from mab2rec.pipeline import train\n",
    "from sklearn.preprocessing import LabelEncoder\n",
    "import implicit\n",
    "from scipy.sparse import csr_matrix\n",
    "from implicit.nearest_neighbours import bm25_weight\n",
    "\n",
    "train_data = \"../data/ml100k/data_train.csv\"\n",
    "test_data = \"../data/ml100k/data_test.csv\""
   ]
  },
  {
   "cell_type": "code",
   "execution_count": 2,
   "metadata": {},
   "outputs": [],
   "source": [
    "def initial_train(df, num_users, num_items):\n",
    "    FACTORS = 10\n",
    "    K1 = 100\n",
    "    B = 0.8\n",
    "\n",
    "    # Cria a matriz esparsa\n",
    "    sparse_matrix = csr_matrix((df['response'], (df['user_id'], df['item_id'])), shape=(num_users, num_items))\n",
    "    updated_sparse_matrix = bm25_weight(sparse_matrix, K1=K1, B=B)\n",
    "\n",
    "    print('Treinando o modelo ALS')\n",
    "    ALS_model = implicit.als.AlternatingLeastSquares(factors=FACTORS, random_state=1)\n",
    "    ALS_model.fit(updated_sparse_matrix)\n",
    "\n",
    "    user_features_list = []\n",
    "\n",
    "    for user_id in df['user_id'].unique():\n",
    "        user_factors = ALS_model.user_factors[user_id]\n",
    "        user_features_list.append([user_id] + list(user_factors))\n",
    "\n",
    "    df_user_features = pd.DataFrame(user_features_list, columns=['user_id'] + [f'u{i}' for i in range(FACTORS)])\n",
    "\n",
    "    print('Treinando o modelo LinUCB')\n",
    "    linUCB_model = BanditRecommender(learning_policy=LearningPolicy.LinUCB(), top_k=10)\n",
    "    train(linUCB_model, data=df, user_features=df_user_features)\n",
    "\n",
    "    print('Treinando o modelo LinGreedy')\n",
    "    linGreedy_model = BanditRecommender(learning_policy=LearningPolicy.LinGreedy(), top_k=10)\n",
    "    train(linGreedy_model, data=df, user_features=df_user_features)\n",
    "\n",
    "    return ALS_model, linUCB_model, linGreedy_model, df_user_features, sparse_matrix"
   ]
  },
  {
   "cell_type": "code",
   "execution_count": 3,
   "metadata": {},
   "outputs": [],
   "source": [
    "def test_ALS(ALS_model, sparse_matrix, df_test):\n",
    "    print('Testing ALS')\n",
    "    hits = 0\n",
    "    for i, interaction in df_test.iterrows():\n",
    "        ids_recs, _ = ALS_model.recommend(userid=interaction['user_id'], user_items=sparse_matrix[interaction['user_id']], N=10)\n",
    "        if interaction['item_id'] in ids_recs:\n",
    "            hits += 1\n",
    "\n",
    "    print('\\nALS RESULTS:')\n",
    "    print(f'Hits: {hits}')\n",
    "    print(f'Total: {len(df_test)}')\n",
    "    print(f'HR: {hits/len(df_test)}\\n')"
   ]
  },
  {
   "cell_type": "code",
   "execution_count": 4,
   "metadata": {},
   "outputs": [],
   "source": [
    "def test_non_incremental(mab_algo, algo_name, user_features, df_test):\n",
    "    print(f'Testing {algo_name}')\n",
    "    hits = 0\n",
    "\n",
    "    contexts = df_test.merge(user_features, on='user_id').drop(columns=['user_id', 'item_id', 'response']).values\n",
    "\n",
    "    recomendations = mab_algo.recommend(contexts)\n",
    "\n",
    "    df_test = df_test.reset_index(drop=True)\n",
    "\n",
    "    hits = 0\n",
    "    for i, interaction in df_test.iterrows():\n",
    "        if interaction['item_id'] in recomendations[i]:\n",
    "            hits += 1\n",
    "\n",
    "    print(f'\\n{algo_name} RESULTS:')\n",
    "    print(f'Hits: {hits}')\n",
    "    print(f'Total: {len(df_test)}')\n",
    "    print(f'HR: {hits/len(df_test)}\\n')"
   ]
  },
  {
   "cell_type": "code",
   "execution_count": 5,
   "metadata": {},
   "outputs": [],
   "source": [
    "def test_incremental(mab_algo, algo_name, user_features, df_test, df_test_for_evaluation, batch_size):\n",
    "    print(f'Testing {algo_name}')\n",
    "    hits = 0\n",
    "\n",
    "    for i in range(0, len(df_test), batch_size):\n",
    "        # Fazendo recomendações para teste\n",
    "        df_batch_test = df_test_for_evaluation.loc[i:i+batch_size-1]\n",
    "        contexts = df_batch_test.merge(user_features, on='user_id').drop(columns=['user_id', 'item_id', 'response']).values\n",
    "\n",
    "        if len(contexts) > 0:\n",
    "            recomendations = mab_algo.recommend(contexts)\n",
    "            if isinstance(recomendations, list) and isinstance(recomendations[0], int):\n",
    "                recomendations = [recomendations]\n",
    "\n",
    "            df_batch_test = df_batch_test.reset_index(drop=True)\n",
    "\n",
    "            for j, interaction in df_batch_test.iterrows():\n",
    "                if interaction['item_id'] in recomendations[j]:\n",
    "                    hits += 1\n",
    "        \n",
    "        # Treinando com o batch\n",
    "        df_batch_train = df_test.loc[i:i+batch_size-1]\n",
    "        contexts = df_batch_train.merge(user_features, on='user_id').drop(columns=['user_id', 'item_id', 'response']).values\n",
    "\n",
    "        mab_algo.partial_fit(df_batch_train['item_id'], df_batch_train['response'], contexts)\n",
    "\n",
    "    print(f'\\n{algo_name} RESULTS:')\n",
    "    print(f'Hits: {hits}')\n",
    "    print(f'Total: {len(df_test_for_evaluation)}')\n",
    "    print(f'HR: {hits/len(df_test_for_evaluation)}\\n')"
   ]
  },
  {
   "cell_type": "code",
   "execution_count": 6,
   "metadata": {},
   "outputs": [],
   "source": [
    "def test(train_size, batch_size):\n",
    "    df_train = pd.read_csv(train_data)\n",
    "    df_test = pd.read_csv(test_data)\n",
    "\n",
    "    df_full = pd.concat([df_train, df_test])\n",
    "\n",
    "    df_full['user_id'] = LabelEncoder().fit_transform(df_full['user_id'])\n",
    "    df_full['item_id'] = LabelEncoder().fit_transform(df_full['item_id'])\n",
    "\n",
    "    num_users = df_full['user_id'].nunique()\n",
    "    num_items = df_full['item_id'].nunique()\n",
    "\n",
    "    split_index = int(len(df_full) * train_size)\n",
    "    df_train = df_full[:split_index]\n",
    "    df_test = df_full[split_index:]\n",
    "\n",
    "    df_test = df_test[(df_test['user_id'].isin(df_train['user_id'])) & (df_test['item_id'].isin(df_train['item_id']))]\n",
    "    df_test = df_test.reset_index(drop=True)\n",
    "    df_test_for_evaluation = df_test[df_test['response'] == 1]\n",
    "\n",
    "    ALS_model, linUCB_model, linGreedy_model, df_user_features, sparse_matrix = initial_train(df_train, num_users, num_items)\n",
    "\n",
    "    test_ALS(ALS_model, sparse_matrix, df_test_for_evaluation)\n",
    "\n",
    "    print('\\nTesting non-incremental\\n')\n",
    "    test_non_incremental(linUCB_model, 'LinUCB', df_user_features, df_test_for_evaluation)\n",
    "    test_non_incremental(linGreedy_model, 'LinGreedy', df_user_features, df_test_for_evaluation)\n",
    "\n",
    "    print('\\nTesting incremental\\n')\n",
    "    test_incremental(linUCB_model, 'LinUCB', df_user_features, df_test, df_test_for_evaluation, batch_size)\n",
    "    test_incremental(linGreedy_model, 'LinGreedy', df_user_features, df_test, df_test_for_evaluation, batch_size)"
   ]
  },
  {
   "cell_type": "code",
   "execution_count": 7,
   "metadata": {},
   "outputs": [
    {
     "name": "stdout",
     "output_type": "stream",
     "text": [
      "Treinando o modelo ALS\n"
     ]
    },
    {
     "name": "stderr",
     "output_type": "stream",
     "text": [
      "c:\\Users\\gregf\\anaconda3\\envs\\RLRS-rllib\\lib\\site-packages\\implicit\\utils.py:138: ParameterWarning: Method expects CSR input, and was passed coo_matrix instead. Converting to CSR took 0.0009992122650146484 seconds\n",
      "  warnings.warn(\n"
     ]
    },
    {
     "data": {
      "application/vnd.jupyter.widget-view+json": {
       "model_id": "7c0513bdba2440d7baf14ea025dad6b0",
       "version_major": 2,
       "version_minor": 0
      },
      "text/plain": [
       "  0%|          | 0/15 [00:00<?, ?it/s]"
      ]
     },
     "metadata": {},
     "output_type": "display_data"
    },
    {
     "name": "stdout",
     "output_type": "stream",
     "text": [
      "Treinando o modelo LinUCB\n",
      "Treinando o modelo LinGreedy\n",
      "Testing ALS\n",
      "\n",
      "ALS RESULTS:\n",
      "Hits: 82\n",
      "Total: 623\n",
      "HR: 0.13162118780096307\n",
      "\n",
      "\n",
      "Testing non-incremental\n",
      "\n",
      "Testing LinUCB\n",
      "\n",
      "LinUCB RESULTS:\n",
      "Hits: 47\n",
      "Total: 623\n",
      "HR: 0.0754414125200642\n",
      "\n",
      "Testing LinGreedy\n",
      "\n",
      "LinGreedy RESULTS:\n",
      "Hits: 50\n",
      "Total: 623\n",
      "HR: 0.08025682182985554\n",
      "\n",
      "\n",
      "Testing incremental\n",
      "\n",
      "Testing LinUCB\n",
      "\n",
      "LinUCB RESULTS:\n",
      "Hits: 43\n",
      "Total: 623\n",
      "HR: 0.06902086677367576\n",
      "\n",
      "Testing LinGreedy\n",
      "\n",
      "LinGreedy RESULTS:\n",
      "Hits: 51\n",
      "Total: 623\n",
      "HR: 0.08186195826645265\n",
      "\n"
     ]
    }
   ],
   "source": [
    "test(0.9, 10)"
   ]
  },
  {
   "cell_type": "code",
   "execution_count": 15,
   "metadata": {},
   "outputs": [
    {
     "name": "stdout",
     "output_type": "stream",
     "text": [
      "Treinando o modelo ALS\n"
     ]
    },
    {
     "name": "stderr",
     "output_type": "stream",
     "text": [
      "c:\\Users\\gregf\\anaconda3\\envs\\RLRS-rllib\\lib\\site-packages\\implicit\\utils.py:138: ParameterWarning: Method expects CSR input, and was passed coo_matrix instead. Converting to CSR took 0.0 seconds\n",
      "  warnings.warn(\n"
     ]
    },
    {
     "data": {
      "application/vnd.jupyter.widget-view+json": {
       "model_id": "6b477d5553d24081ac314cd4cfabc751",
       "version_major": 2,
       "version_minor": 0
      },
      "text/plain": [
       "  0%|          | 0/15 [00:00<?, ?it/s]"
      ]
     },
     "metadata": {},
     "output_type": "display_data"
    },
    {
     "name": "stdout",
     "output_type": "stream",
     "text": [
      "Treinando o modelo LinUCB\n",
      "Treinando o modelo LinGreedy\n",
      "Testing ALS\n",
      "\n",
      "ALS RESULTS:\n",
      "Hits: 82\n",
      "Total: 623\n",
      "HR: 0.13162118780096307\n",
      "\n",
      "\n",
      "Testing non-incremental\n",
      "\n",
      "Testing LinUCB\n",
      "\n",
      "LinUCB RESULTS:\n",
      "Hits: 47\n",
      "Total: 623\n",
      "HR: 0.0754414125200642\n",
      "\n",
      "Testing LinGreedy\n",
      "\n",
      "LinGreedy RESULTS:\n",
      "Hits: 50\n",
      "Total: 623\n",
      "HR: 0.08025682182985554\n",
      "\n",
      "\n",
      "Testing incremental\n",
      "\n",
      "Testing LinUCB\n",
      "\n",
      "LinUCB RESULTS:\n",
      "Hits: 42\n",
      "Total: 623\n",
      "HR: 0.06741573033707865\n",
      "\n",
      "Testing LinGreedy\n",
      "\n",
      "LinGreedy RESULTS:\n",
      "Hits: 46\n",
      "Total: 623\n",
      "HR: 0.0738362760834671\n",
      "\n"
     ]
    }
   ],
   "source": [
    "test(0.9, 250)"
   ]
  },
  {
   "cell_type": "code",
   "execution_count": 9,
   "metadata": {},
   "outputs": [
    {
     "name": "stdout",
     "output_type": "stream",
     "text": [
      "Treinando o modelo ALS\n"
     ]
    },
    {
     "name": "stderr",
     "output_type": "stream",
     "text": [
      "c:\\Users\\gregf\\anaconda3\\envs\\RLRS-rllib\\lib\\site-packages\\implicit\\utils.py:138: ParameterWarning: Method expects CSR input, and was passed coo_matrix instead. Converting to CSR took 0.0 seconds\n",
      "  warnings.warn(\n"
     ]
    },
    {
     "data": {
      "application/vnd.jupyter.widget-view+json": {
       "model_id": "d077327eccbe4746878d5f6c1f7f43df",
       "version_major": 2,
       "version_minor": 0
      },
      "text/plain": [
       "  0%|          | 0/15 [00:00<?, ?it/s]"
      ]
     },
     "metadata": {},
     "output_type": "display_data"
    },
    {
     "name": "stdout",
     "output_type": "stream",
     "text": [
      "Treinando o modelo LinUCB\n",
      "Treinando o modelo LinGreedy\n",
      "Testing ALS\n",
      "\n",
      "ALS RESULTS:\n",
      "Hits: 955\n",
      "Total: 4726\n",
      "HR: 0.20207363520947946\n",
      "\n",
      "\n",
      "Testing non-incremental\n",
      "\n",
      "Testing LinUCB\n",
      "\n",
      "LinUCB RESULTS:\n",
      "Hits: 328\n",
      "Total: 4726\n",
      "HR: 0.06940330088870081\n",
      "\n",
      "Testing LinGreedy\n",
      "\n",
      "LinGreedy RESULTS:\n",
      "Hits: 378\n",
      "Total: 4726\n",
      "HR: 0.0799830723656369\n",
      "\n",
      "\n",
      "Testing incremental\n",
      "\n",
      "Testing LinUCB\n",
      "\n",
      "LinUCB RESULTS:\n",
      "Hits: 395\n",
      "Total: 4726\n",
      "HR: 0.08358019466779518\n",
      "\n",
      "Testing LinGreedy\n",
      "\n",
      "LinGreedy RESULTS:\n",
      "Hits: 479\n",
      "Total: 4726\n",
      "HR: 0.10135421074904782\n",
      "\n"
     ]
    }
   ],
   "source": [
    "test(0.5, 10)"
   ]
  },
  {
   "cell_type": "code",
   "execution_count": 10,
   "metadata": {},
   "outputs": [
    {
     "name": "stdout",
     "output_type": "stream",
     "text": [
      "Treinando o modelo ALS\n"
     ]
    },
    {
     "name": "stderr",
     "output_type": "stream",
     "text": [
      "c:\\Users\\gregf\\anaconda3\\envs\\RLRS-rllib\\lib\\site-packages\\implicit\\utils.py:138: ParameterWarning: Method expects CSR input, and was passed coo_matrix instead. Converting to CSR took 0.0 seconds\n",
      "  warnings.warn(\n"
     ]
    },
    {
     "data": {
      "application/vnd.jupyter.widget-view+json": {
       "model_id": "df81169563f64500856b850ec73ad817",
       "version_major": 2,
       "version_minor": 0
      },
      "text/plain": [
       "  0%|          | 0/15 [00:00<?, ?it/s]"
      ]
     },
     "metadata": {},
     "output_type": "display_data"
    },
    {
     "name": "stdout",
     "output_type": "stream",
     "text": [
      "Treinando o modelo LinUCB\n",
      "Treinando o modelo LinGreedy\n",
      "Testing ALS\n",
      "\n",
      "ALS RESULTS:\n",
      "Hits: 955\n",
      "Total: 4726\n",
      "HR: 0.20207363520947946\n",
      "\n",
      "\n",
      "Testing non-incremental\n",
      "\n",
      "Testing LinUCB\n",
      "\n",
      "LinUCB RESULTS:\n",
      "Hits: 328\n",
      "Total: 4726\n",
      "HR: 0.06940330088870081\n",
      "\n",
      "Testing LinGreedy\n",
      "\n",
      "LinGreedy RESULTS:\n",
      "Hits: 378\n",
      "Total: 4726\n",
      "HR: 0.0799830723656369\n",
      "\n",
      "\n",
      "Testing incremental\n",
      "\n",
      "Testing LinUCB\n",
      "\n",
      "LinUCB RESULTS:\n",
      "Hits: 425\n",
      "Total: 4726\n",
      "HR: 0.08992805755395683\n",
      "\n",
      "Testing LinGreedy\n",
      "\n",
      "LinGreedy RESULTS:\n",
      "Hits: 449\n",
      "Total: 4726\n",
      "HR: 0.09500634786288616\n",
      "\n"
     ]
    }
   ],
   "source": [
    "test(0.5, 250)"
   ]
  },
  {
   "cell_type": "code",
   "execution_count": 11,
   "metadata": {},
   "outputs": [
    {
     "name": "stdout",
     "output_type": "stream",
     "text": [
      "Treinando o modelo ALS\n"
     ]
    },
    {
     "name": "stderr",
     "output_type": "stream",
     "text": [
      "c:\\Users\\gregf\\anaconda3\\envs\\RLRS-rllib\\lib\\site-packages\\implicit\\utils.py:138: ParameterWarning: Method expects CSR input, and was passed coo_matrix instead. Converting to CSR took 0.0 seconds\n",
      "  warnings.warn(\n"
     ]
    },
    {
     "data": {
      "application/vnd.jupyter.widget-view+json": {
       "model_id": "cced8d2b030044f98b79bda6f8cc23c1",
       "version_major": 2,
       "version_minor": 0
      },
      "text/plain": [
       "  0%|          | 0/15 [00:00<?, ?it/s]"
      ]
     },
     "metadata": {},
     "output_type": "display_data"
    },
    {
     "name": "stdout",
     "output_type": "stream",
     "text": [
      "Treinando o modelo LinUCB\n",
      "Treinando o modelo LinGreedy\n",
      "Testing ALS\n",
      "\n",
      "ALS RESULTS:\n",
      "Hits: 824\n",
      "Total: 8509\n",
      "HR: 0.09683864143847691\n",
      "\n",
      "\n",
      "Testing non-incremental\n",
      "\n",
      "Testing LinUCB\n",
      "\n",
      "LinUCB RESULTS:\n",
      "Hits: 389\n",
      "Total: 8509\n",
      "HR: 0.045716300387824656\n",
      "\n",
      "Testing LinGreedy\n",
      "\n",
      "LinGreedy RESULTS:\n",
      "Hits: 580\n",
      "Total: 8509\n",
      "HR: 0.06816312140086966\n",
      "\n",
      "\n",
      "Testing incremental\n",
      "\n",
      "Testing LinUCB\n",
      "\n",
      "LinUCB RESULTS:\n",
      "Hits: 516\n",
      "Total: 8509\n",
      "HR: 0.060641673522153015\n",
      "\n",
      "Testing LinGreedy\n",
      "\n",
      "LinGreedy RESULTS:\n",
      "Hits: 643\n",
      "Total: 8509\n",
      "HR: 0.07556704665648137\n",
      "\n"
     ]
    }
   ],
   "source": [
    "test(0.1, 10)"
   ]
  },
  {
   "cell_type": "code",
   "execution_count": 12,
   "metadata": {},
   "outputs": [
    {
     "name": "stdout",
     "output_type": "stream",
     "text": [
      "Treinando o modelo ALS\n"
     ]
    },
    {
     "name": "stderr",
     "output_type": "stream",
     "text": [
      "c:\\Users\\gregf\\anaconda3\\envs\\RLRS-rllib\\lib\\site-packages\\implicit\\utils.py:138: ParameterWarning: Method expects CSR input, and was passed coo_matrix instead. Converting to CSR took 0.0 seconds\n",
      "  warnings.warn(\n"
     ]
    },
    {
     "data": {
      "application/vnd.jupyter.widget-view+json": {
       "model_id": "fc107f9c01284d9090fb571dad61f1a2",
       "version_major": 2,
       "version_minor": 0
      },
      "text/plain": [
       "  0%|          | 0/15 [00:00<?, ?it/s]"
      ]
     },
     "metadata": {},
     "output_type": "display_data"
    },
    {
     "name": "stdout",
     "output_type": "stream",
     "text": [
      "Treinando o modelo LinUCB\n",
      "Treinando o modelo LinGreedy\n",
      "Testing ALS\n",
      "\n",
      "ALS RESULTS:\n",
      "Hits: 824\n",
      "Total: 8509\n",
      "HR: 0.09683864143847691\n",
      "\n",
      "\n",
      "Testing non-incremental\n",
      "\n",
      "Testing LinUCB\n",
      "\n",
      "LinUCB RESULTS:\n",
      "Hits: 389\n",
      "Total: 8509\n",
      "HR: 0.045716300387824656\n",
      "\n",
      "Testing LinGreedy\n",
      "\n",
      "LinGreedy RESULTS:\n",
      "Hits: 580\n",
      "Total: 8509\n",
      "HR: 0.06816312140086966\n",
      "\n",
      "\n",
      "Testing incremental\n",
      "\n",
      "Testing LinUCB\n",
      "\n",
      "LinUCB RESULTS:\n",
      "Hits: 520\n",
      "Total: 8509\n",
      "HR: 0.06111176401457281\n",
      "\n",
      "Testing LinGreedy\n",
      "\n",
      "LinGreedy RESULTS:\n",
      "Hits: 655\n",
      "Total: 8509\n",
      "HR: 0.07697731813374074\n",
      "\n"
     ]
    }
   ],
   "source": [
    "test(0.1, 250)"
   ]
  },
  {
   "cell_type": "code",
   "execution_count": 13,
   "metadata": {},
   "outputs": [
    {
     "name": "stdout",
     "output_type": "stream",
     "text": [
      "Treinando o modelo ALS\n"
     ]
    },
    {
     "name": "stderr",
     "output_type": "stream",
     "text": [
      "c:\\Users\\gregf\\anaconda3\\envs\\RLRS-rllib\\lib\\site-packages\\implicit\\utils.py:138: ParameterWarning: Method expects CSR input, and was passed coo_matrix instead. Converting to CSR took 0.0005083084106445312 seconds\n",
      "  warnings.warn(\n"
     ]
    },
    {
     "data": {
      "application/vnd.jupyter.widget-view+json": {
       "model_id": "c93d2f3508d3402993792e027915cf2e",
       "version_major": 2,
       "version_minor": 0
      },
      "text/plain": [
       "  0%|          | 0/15 [00:00<?, ?it/s]"
      ]
     },
     "metadata": {},
     "output_type": "display_data"
    },
    {
     "name": "stdout",
     "output_type": "stream",
     "text": [
      "Treinando o modelo LinUCB\n",
      "Treinando o modelo LinGreedy\n",
      "Testing ALS\n",
      "\n",
      "ALS RESULTS:\n",
      "Hits: 749\n",
      "Total: 8242\n",
      "HR: 0.0908760009706382\n",
      "\n",
      "\n",
      "Testing non-incremental\n",
      "\n",
      "Testing LinUCB\n",
      "\n",
      "LinUCB RESULTS:\n",
      "Hits: 556\n",
      "Total: 8242\n",
      "HR: 0.06745935452560058\n",
      "\n",
      "Testing LinGreedy\n",
      "\n",
      "LinGreedy RESULTS:\n",
      "Hits: 556\n",
      "Total: 8242\n",
      "HR: 0.06745935452560058\n",
      "\n",
      "\n",
      "Testing incremental\n",
      "\n",
      "Testing LinUCB\n",
      "\n",
      "LinUCB RESULTS:\n",
      "Hits: 484\n",
      "Total: 8242\n",
      "HR: 0.05872361077408396\n",
      "\n",
      "Testing LinGreedy\n",
      "\n",
      "LinGreedy RESULTS:\n",
      "Hits: 602\n",
      "Total: 8242\n",
      "HR: 0.07304052414462509\n",
      "\n"
     ]
    }
   ],
   "source": [
    "test(0.05, 10)"
   ]
  },
  {
   "cell_type": "code",
   "execution_count": 14,
   "metadata": {},
   "outputs": [
    {
     "name": "stdout",
     "output_type": "stream",
     "text": [
      "Treinando o modelo ALS\n"
     ]
    },
    {
     "name": "stderr",
     "output_type": "stream",
     "text": [
      "c:\\Users\\gregf\\anaconda3\\envs\\RLRS-rllib\\lib\\site-packages\\implicit\\utils.py:138: ParameterWarning: Method expects CSR input, and was passed coo_matrix instead. Converting to CSR took 0.0 seconds\n",
      "  warnings.warn(\n"
     ]
    },
    {
     "data": {
      "application/vnd.jupyter.widget-view+json": {
       "model_id": "8f218f3370674533a4cb8a1ccfbb810c",
       "version_major": 2,
       "version_minor": 0
      },
      "text/plain": [
       "  0%|          | 0/15 [00:00<?, ?it/s]"
      ]
     },
     "metadata": {},
     "output_type": "display_data"
    },
    {
     "name": "stdout",
     "output_type": "stream",
     "text": [
      "Treinando o modelo LinUCB\n",
      "Treinando o modelo LinGreedy\n",
      "Testing ALS\n",
      "\n",
      "ALS RESULTS:\n",
      "Hits: 749\n",
      "Total: 8242\n",
      "HR: 0.0908760009706382\n",
      "\n",
      "\n",
      "Testing non-incremental\n",
      "\n",
      "Testing LinUCB\n",
      "\n",
      "LinUCB RESULTS:\n",
      "Hits: 556\n",
      "Total: 8242\n",
      "HR: 0.06745935452560058\n",
      "\n",
      "Testing LinGreedy\n",
      "\n",
      "LinGreedy RESULTS:\n",
      "Hits: 556\n",
      "Total: 8242\n",
      "HR: 0.06745935452560058\n",
      "\n",
      "\n",
      "Testing incremental\n",
      "\n",
      "Testing LinUCB\n",
      "\n",
      "LinUCB RESULTS:\n",
      "Hits: 515\n",
      "Total: 8242\n",
      "HR: 0.062484833778209174\n",
      "\n",
      "Testing LinGreedy\n",
      "\n",
      "LinGreedy RESULTS:\n",
      "Hits: 659\n",
      "Total: 8242\n",
      "HR: 0.07995632128124242\n",
      "\n"
     ]
    }
   ],
   "source": [
    "test(0.05, 250)"
   ]
  }
 ],
 "metadata": {
  "kernelspec": {
   "display_name": "RLRS-rllib",
   "language": "python",
   "name": "python3"
  },
  "language_info": {
   "codemirror_mode": {
    "name": "ipython",
    "version": 3
   },
   "file_extension": ".py",
   "mimetype": "text/x-python",
   "name": "python",
   "nbconvert_exporter": "python",
   "pygments_lexer": "ipython3",
   "version": "3.8.16"
  }
 },
 "nbformat": 4,
 "nbformat_minor": 2
}
