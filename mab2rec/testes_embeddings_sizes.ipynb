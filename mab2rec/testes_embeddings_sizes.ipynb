{
 "cells": [
  {
   "cell_type": "markdown",
   "metadata": {},
   "source": [
    "# Testes de treinamento tamanho de embeddings"
   ]
  },
  {
   "cell_type": "markdown",
   "metadata": {},
   "source": [
    "A ideia deste notebook é verificar se treinar os algoritmos de MAB durante as interações de teste geram alguma melhora para eles, comparando-os com os resultados de um algoritmo estático (ALS)."
   ]
  },
  {
   "cell_type": "code",
   "execution_count": null,
   "metadata": {},
   "outputs": [],
   "source": [
    "import pandas as pd\n",
    "from mab2rec import BanditRecommender, LearningPolicy\n",
    "from mab2rec.pipeline import train\n",
    "from sklearn.preprocessing import LabelEncoder\n",
    "import implicit\n",
    "from scipy.sparse import csr_matrix\n",
    "from implicit.nearest_neighbours import bm25_weight\n",
    "import plotly.express as px\n",
    "import time\n",
    "import os\n",
    "import math\n",
    "\n",
    "train_data = \"../data/ml100k/data_train.csv\"\n",
    "test_data = \"../data/ml100k/data_test.csv\""
   ]
  },
  {
   "cell_type": "code",
   "execution_count": null,
   "metadata": {},
   "outputs": [],
   "source": [
    "def initial_train(df, num_users, num_items, factors):\n",
    "    K1 = 100\n",
    "    B = 0.8\n",
    "\n",
    "    # Cria a matriz esparsa\n",
    "    sparse_matrix = csr_matrix((df['response'], (df['user_id'], df['item_id'])), shape=(num_users, num_items))\n",
    "    updated_sparse_matrix = bm25_weight(sparse_matrix, K1=K1, B=B)\n",
    "\n",
    "    print('Treinando o modelo ALS')\n",
    "    ALS_model = implicit.als.AlternatingLeastSquares(factors=factors, random_state=1)\n",
    "    ALS_model.fit(updated_sparse_matrix)\n",
    "\n",
    "    user_features_list = []\n",
    "\n",
    "    for user_id in df['user_id'].unique():\n",
    "        user_factors = ALS_model.user_factors[user_id]\n",
    "        user_features_list.append([user_id] + list(user_factors))\n",
    "\n",
    "    df_user_features = pd.DataFrame(user_features_list, columns=['user_id'] + [f'u{i}' for i in range(factors)])\n",
    "\n",
    "    return ALS_model,  df_user_features, sparse_matrix"
   ]
  },
  {
   "cell_type": "code",
   "execution_count": null,
   "metadata": {},
   "outputs": [],
   "source": [
    "\n",
    "def test_ALS(ALS_model, sparse_matrix, df_test):\n",
    "    print('Testing ALS')\n",
    "    all_recs = []\n",
    "\n",
    "    start_time = time.time()\n",
    "    hits = 0\n",
    "    for i, interaction in df_test.iterrows():\n",
    "        ids_recs, _ = ALS_model.recommend(userid=interaction['user_id'], user_items=sparse_matrix[interaction['user_id']], N=10)\n",
    "        if interaction['item_id'] in ids_recs:\n",
    "            hits += 1\n",
    "        all_recs.append(ids_recs.tolist())\n",
    "    \n",
    "    recs_df = pd.DataFrame({\n",
    "        'interaction_number': [i for i in range(len(df_test))],\n",
    "        'user_id': df_test['user_id'],\n",
    "        'item_id': df_test['item_id'],\n",
    "        'recommendations': all_recs\n",
    "    })\n",
    "    \n",
    "\n",
    "    return hits, hits/len(df_test), time.time() - start_time, recs_df"
   ]
  },
  {
   "cell_type": "code",
   "execution_count": null,
   "metadata": {},
   "outputs": [],
   "source": [
    "def test_non_incremental(mab_algo, algo_name, user_features, df_test):\n",
    "    start_time = time.time()\n",
    "    hits = 0\n",
    "\n",
    "    contexts = df_test.merge(user_features, on='user_id').drop(columns=['user_id', 'item_id', 'response']).values\n",
    "\n",
    "    recomendations = mab_algo.recommend(contexts)\n",
    "\n",
    "    df_test = df_test.reset_index(drop=True)\n",
    "\n",
    "    hits = 0\n",
    "    for i, interaction in df_test.iterrows():\n",
    "        if interaction['item_id'] in recomendations[i]:\n",
    "            hits += 1\n",
    "    \n",
    "    recs_df = pd.DataFrame({\n",
    "        'interaction_number': [i for i in range(len(df_test))],\n",
    "        'user_id': df_test['user_id'],\n",
    "        'item_id': df_test['item_id'],\n",
    "        'recommendations': recomendations\n",
    "    })\n",
    "\n",
    "    return hits, hits/len(df_test), time.time() - start_time, recs_df"
   ]
  },
  {
   "cell_type": "code",
   "execution_count": null,
   "metadata": {},
   "outputs": [],
   "source": [
    "def test_incremental(mab_algo, algo_name, user_features, df_test, df_test_for_evaluation, batch_size):\n",
    "    recs = []\n",
    "\n",
    "    start_time = time.time()\n",
    "    hits = 0\n",
    "\n",
    "    for i in range(0, len(df_test), batch_size):\n",
    "        # Fazendo recomendações para teste\n",
    "        df_batch_test = df_test_for_evaluation.loc[i:i+batch_size-1]\n",
    "        contexts = df_batch_test.merge(user_features, on='user_id').drop(columns=['user_id', 'item_id', 'response']).values\n",
    "\n",
    "        if len(contexts) > 0: # Se não tiver nenhuma interação positiva, não faz sentido fazer recomendações\n",
    "            recomendations = mab_algo.recommend(contexts)\n",
    "            if isinstance(recomendations, list) and isinstance(recomendations[0], int):\n",
    "                # Quando o contexto tem tamanho 1, a recomendação é uma lista, e não uma lista de listas\n",
    "                recomendations = [recomendations]\n",
    "\n",
    "            df_batch_test = df_batch_test.reset_index(drop=True)\n",
    "\n",
    "            for j, interaction in df_batch_test.iterrows():\n",
    "                if interaction['item_id'] in recomendations[j]:\n",
    "                    hits += 1\n",
    "            \n",
    "            recs.extend(recomendations)\n",
    "        \n",
    "        # Treinando com o batch\n",
    "        df_batch_train = df_test.loc[i:i+batch_size-1]\n",
    "        contexts = df_batch_train.merge(user_features, on='user_id').drop(columns=['user_id', 'item_id', 'response']).values\n",
    "\n",
    "        mab_algo.partial_fit(df_batch_train['item_id'], df_batch_train['response'], contexts)\n",
    "    \n",
    "    recs_df = pd.DataFrame({\n",
    "        'interaction_number': [i for i in range(len(df_test_for_evaluation))],\n",
    "        'user_id': df_test_for_evaluation['user_id'],\n",
    "        'item_id': df_test_for_evaluation['item_id'],\n",
    "        'recommendations': recs\n",
    "    })\n",
    "\n",
    "    return hits, hits/len(df_test_for_evaluation), time.time() - start_time, recs_df"
   ]
  },
  {
   "cell_type": "code",
   "execution_count": null,
   "metadata": {},
   "outputs": [],
   "source": [
    "def test(train_size, factors_list):\n",
    "    save_path = f'results-v3/{round(train_size * 100):02}-{round((1 - train_size) * 100):02}'\n",
    "    if not os.path.exists(save_path):\n",
    "        os.makedirs(save_path)\n",
    "    \n",
    "    results = []\n",
    "    df_recs = pd.DataFrame(columns=['algorithm', 'hiperparams', 'batch_size', 'interaction_number', 'user_id', 'item_id', 'recommendations'])\n",
    "    df_train = pd.read_csv(train_data)\n",
    "    df_test = pd.read_csv(test_data)\n",
    "\n",
    "    df_full = pd.concat([df_train, df_test])\n",
    "\n",
    "    df_full['user_id'] = LabelEncoder().fit_transform(df_full['user_id'])\n",
    "    df_full['item_id'] = LabelEncoder().fit_transform(df_full['item_id'])\n",
    "\n",
    "    num_users = df_full['user_id'].nunique()\n",
    "    num_items = df_full['item_id'].nunique()\n",
    "\n",
    "    split_index = int(len(df_full) * train_size)\n",
    "    df_train = df_full[:split_index]\n",
    "    df_test = df_full[split_index:]\n",
    "\n",
    "    df_test = df_test[(df_test['user_id'].isin(df_train['user_id'])) & (df_test['item_id'].isin(df_train['item_id']))]\n",
    "    df_test = df_test.reset_index(drop=True)\n",
    "    df_test_for_evaluation = df_test[df_test['response'] == 1]\n",
    "\n",
    "    for factors in factors_list:\n",
    "        print(f'Treinando com {factors} fatores')\n",
    "\n",
    "        ALS_model, df_user_features, sparse_matrix = initial_train(df_train, num_users, num_items, factors)\n",
    "\n",
    "        hits, hr, spent_time, df_recs_als = test_ALS(ALS_model, sparse_matrix, df_test_for_evaluation)\n",
    "        df_recs_als['algorithm'] = 'ALS'\n",
    "        df_recs_als['factors'] = [factors for _ in range(len(df_recs_als))]\n",
    "        df_recs = pd.concat([df_recs, df_recs_als])\n",
    "        results.append({'algorithm': 'ALS', 'hits': hits, 'hr': hr, 'time': spent_time, 'factors': factors})\n",
    "\n",
    "        print('\\nTesting LinUCB non-incremental\\n')\n",
    "\n",
    "        linUCB_model = BanditRecommender(learning_policy=LearningPolicy.LinUCB(alpha=0.1), top_k=10)\n",
    "        train(linUCB_model, data=df_train, user_features=df_user_features)\n",
    "\n",
    "        hits, hr, spent_time, df_recs_linUCB = test_non_incremental(linUCB_model, 'LinUCB', df_user_features, df_test_for_evaluation)\n",
    "        df_recs_linUCB['algorithm'] = 'LinUCB (non_incremental)'\n",
    "        df_recs_linUCB['factors'] = [factors for _ in range(len(df_recs_linUCB))]\n",
    "        df_recs = pd.concat([df_recs, df_recs_linUCB])\n",
    "        results.append({'algorithm': 'LinUCB (non_incremental)', 'hits': hits, 'hr': hr, 'time': spent_time, 'factors': factors})\n",
    "\n",
    "        print('\\nTesting LinGreedy non-incremental\\n')\n",
    "\n",
    "        linGreedy_model = BanditRecommender(learning_policy=LearningPolicy.LinGreedy(epsilon=0.01), top_k=10)\n",
    "        train(linGreedy_model, data=df_train, user_features=df_user_features)\n",
    "\n",
    "        hits, hr, spent_time, df_recs_linGreedy = test_non_incremental(linGreedy_model, 'LinGreedy', df_user_features, df_test_for_evaluation)\n",
    "        df_recs_linGreedy['algorithm'] = 'LinGreedy (non_incremental)'\n",
    "        df_recs_linGreedy['factors'] = [factors for _ in range(len(df_recs_linGreedy))]\n",
    "        df_recs = pd.concat([df_recs, df_recs_linGreedy])\n",
    "        results.append({'algorithm': 'LinGreedy (non_incremental)', 'hits': hits, 'hr': hr, 'time': spent_time, 'factors': factors})\n",
    "\n",
    "        print('\\nTesting LinUCB incremental\\n')\n",
    "\n",
    "        linUCB_model = BanditRecommender(learning_policy=LearningPolicy.LinUCB(alpha=0.1), top_k=10)\n",
    "        train(linUCB_model, data=df_train, user_features=df_user_features)\n",
    "\n",
    "        hits, hr, spent_time, df_recs_linUCB = test_incremental(linUCB_model, 'LinUCB', df_user_features, df_test, df_test_for_evaluation, 10)\n",
    "        df_recs_linUCB['algorithm'] = 'LinUCB (incremental)'\n",
    "        df_recs_linUCB['factors'] = [factors for _ in range(len(df_recs_linUCB))]\n",
    "        df_recs = pd.concat([df_recs, df_recs_linUCB])\n",
    "        results.append({'algorithm': 'LinUCB (incremental)', 'hits': hits, 'hr': hr, 'time': spent_time, 'factors': factors})\n",
    "\n",
    "        print('\\nTesting LinGreedy incremental\\n')\n",
    "\n",
    "        linGreedy_model = BanditRecommender(learning_policy=LearningPolicy.LinGreedy(epsilon=0.01), top_k=10)\n",
    "        train(linGreedy_model, data=df_train, user_features=df_user_features)\n",
    "\n",
    "        hits, hr, spent_time, df_recs_linGreedy = test_incremental(linGreedy_model, 'LinGreedy', df_user_features, df_test, df_test_for_evaluation, 10)\n",
    "        df_recs_linGreedy['algorithm'] = 'LinGreedy (incremental)'\n",
    "        df_recs_linGreedy['factors'] = [factors for _ in range(len(df_recs_linGreedy))]\n",
    "        df_recs = pd.concat([df_recs, df_recs_linGreedy])\n",
    "        results.append({'algorithm': 'LinGreedy (incremental)', 'hits': hits, 'hr': hr, 'time': spent_time, 'factors': factors})\n",
    "\n",
    "    print('\\nTesting Random\\n')\n",
    "\n",
    "    random_model = BanditRecommender(learning_policy=LearningPolicy.Random(), top_k=10)\n",
    "    train(random_model, data=df_train, user_features=df_user_features)\n",
    "\n",
    "    hits, hr, spent_time, df_recs_random = test_non_incremental(random_model, 'Random', df_user_features, df_test_for_evaluation)\n",
    "    df_recs_random['algorithm'] = 'Random'\n",
    "    df_recs = pd.concat([df_recs, df_recs_random])\n",
    "    results.append({'algorithm': 'Random', 'hits': hits, 'hr': hr, 'time': spent_time})\n",
    "    \n",
    "    df_results = pd.DataFrame(results)\n",
    "    df_results = df_results.astype({'hits': int, 'hr': float, 'time': float})\n",
    "    df_results['test_size'] = round(1 - train_size, 2)\n",
    "    df_results['test_interactions'] = len(df_test_for_evaluation)\n",
    "\n",
    "    df_results.to_csv(f'{save_path}/results.csv', index=False)\n",
    "    df_recs.to_csv(f'{save_path}/recs.csv', index=False)"
   ]
  },
  {
   "cell_type": "code",
   "execution_count": null,
   "metadata": {},
   "outputs": [],
   "source": [
    "train_sizes = [0.95, 0.90, 0.85, 0.80]\n",
    "factors_list = [2, 4, 8, 16, 32, 64, 128, 256, 512]\n",
    "\n",
    "for train_size in train_sizes:\n",
    "    test(\n",
    "        train_size=train_size, \n",
    "        factors_list=factors_list\n",
    "    )"
   ]
  },
  {
   "cell_type": "code",
   "execution_count": 43,
   "metadata": {},
   "outputs": [
    {
     "data": {
      "text/html": [
       "<div>\n",
       "<style scoped>\n",
       "    .dataframe tbody tr th:only-of-type {\n",
       "        vertical-align: middle;\n",
       "    }\n",
       "\n",
       "    .dataframe tbody tr th {\n",
       "        vertical-align: top;\n",
       "    }\n",
       "\n",
       "    .dataframe thead th {\n",
       "        text-align: right;\n",
       "    }\n",
       "</style>\n",
       "<table border=\"1\" class=\"dataframe\">\n",
       "  <thead>\n",
       "    <tr style=\"text-align: right;\">\n",
       "      <th></th>\n",
       "      <th>algorithm</th>\n",
       "      <th>hits</th>\n",
       "      <th>hr</th>\n",
       "      <th>time</th>\n",
       "      <th>factors</th>\n",
       "      <th>test_size</th>\n",
       "      <th>test_interactions</th>\n",
       "    </tr>\n",
       "  </thead>\n",
       "  <tbody>\n",
       "    <tr>\n",
       "      <th>0</th>\n",
       "      <td>ALS</td>\n",
       "      <td>36</td>\n",
       "      <td>0.120401</td>\n",
       "      <td>0.290088</td>\n",
       "      <td>2.0</td>\n",
       "      <td>0.05</td>\n",
       "      <td>299</td>\n",
       "    </tr>\n",
       "    <tr>\n",
       "      <th>1</th>\n",
       "      <td>LinUCB (non_incremental)</td>\n",
       "      <td>23</td>\n",
       "      <td>0.076923</td>\n",
       "      <td>0.094181</td>\n",
       "      <td>2.0</td>\n",
       "      <td>0.05</td>\n",
       "      <td>299</td>\n",
       "    </tr>\n",
       "    <tr>\n",
       "      <th>2</th>\n",
       "      <td>LinGreedy (non_incremental)</td>\n",
       "      <td>21</td>\n",
       "      <td>0.070234</td>\n",
       "      <td>0.076130</td>\n",
       "      <td>2.0</td>\n",
       "      <td>0.05</td>\n",
       "      <td>299</td>\n",
       "    </tr>\n",
       "    <tr>\n",
       "      <th>3</th>\n",
       "      <td>LinUCB (incremental)</td>\n",
       "      <td>35</td>\n",
       "      <td>0.117057</td>\n",
       "      <td>6.880607</td>\n",
       "      <td>2.0</td>\n",
       "      <td>0.05</td>\n",
       "      <td>299</td>\n",
       "    </tr>\n",
       "    <tr>\n",
       "      <th>4</th>\n",
       "      <td>LinGreedy (incremental)</td>\n",
       "      <td>35</td>\n",
       "      <td>0.117057</td>\n",
       "      <td>6.302572</td>\n",
       "      <td>2.0</td>\n",
       "      <td>0.05</td>\n",
       "      <td>299</td>\n",
       "    </tr>\n",
       "    <tr>\n",
       "      <th>...</th>\n",
       "      <td>...</td>\n",
       "      <td>...</td>\n",
       "      <td>...</td>\n",
       "      <td>...</td>\n",
       "      <td>...</td>\n",
       "      <td>...</td>\n",
       "      <td>...</td>\n",
       "    </tr>\n",
       "    <tr>\n",
       "      <th>41</th>\n",
       "      <td>LinUCB (non_incremental)</td>\n",
       "      <td>108</td>\n",
       "      <td>0.067332</td>\n",
       "      <td>4.479172</td>\n",
       "      <td>512.0</td>\n",
       "      <td>0.20</td>\n",
       "      <td>1604</td>\n",
       "    </tr>\n",
       "    <tr>\n",
       "      <th>42</th>\n",
       "      <td>LinGreedy (non_incremental)</td>\n",
       "      <td>127</td>\n",
       "      <td>0.079177</td>\n",
       "      <td>0.775431</td>\n",
       "      <td>512.0</td>\n",
       "      <td>0.20</td>\n",
       "      <td>1604</td>\n",
       "    </tr>\n",
       "    <tr>\n",
       "      <th>43</th>\n",
       "      <td>LinUCB (incremental)</td>\n",
       "      <td>33</td>\n",
       "      <td>0.020574</td>\n",
       "      <td>569.399015</td>\n",
       "      <td>512.0</td>\n",
       "      <td>0.20</td>\n",
       "      <td>1604</td>\n",
       "    </tr>\n",
       "    <tr>\n",
       "      <th>44</th>\n",
       "      <td>LinGreedy (incremental)</td>\n",
       "      <td>29</td>\n",
       "      <td>0.018080</td>\n",
       "      <td>522.678063</td>\n",
       "      <td>512.0</td>\n",
       "      <td>0.20</td>\n",
       "      <td>1604</td>\n",
       "    </tr>\n",
       "    <tr>\n",
       "      <th>45</th>\n",
       "      <td>Random</td>\n",
       "      <td>75</td>\n",
       "      <td>0.046758</td>\n",
       "      <td>0.407422</td>\n",
       "      <td>NaN</td>\n",
       "      <td>0.20</td>\n",
       "      <td>1604</td>\n",
       "    </tr>\n",
       "  </tbody>\n",
       "</table>\n",
       "<p>184 rows × 7 columns</p>\n",
       "</div>"
      ],
      "text/plain": [
       "                      algorithm  hits        hr        time  factors  \\\n",
       "0                           ALS    36  0.120401    0.290088      2.0   \n",
       "1      LinUCB (non_incremental)    23  0.076923    0.094181      2.0   \n",
       "2   LinGreedy (non_incremental)    21  0.070234    0.076130      2.0   \n",
       "3          LinUCB (incremental)    35  0.117057    6.880607      2.0   \n",
       "4       LinGreedy (incremental)    35  0.117057    6.302572      2.0   \n",
       "..                          ...   ...       ...         ...      ...   \n",
       "41     LinUCB (non_incremental)   108  0.067332    4.479172    512.0   \n",
       "42  LinGreedy (non_incremental)   127  0.079177    0.775431    512.0   \n",
       "43         LinUCB (incremental)    33  0.020574  569.399015    512.0   \n",
       "44      LinGreedy (incremental)    29  0.018080  522.678063    512.0   \n",
       "45                       Random    75  0.046758    0.407422      NaN   \n",
       "\n",
       "    test_size  test_interactions  \n",
       "0        0.05                299  \n",
       "1        0.05                299  \n",
       "2        0.05                299  \n",
       "3        0.05                299  \n",
       "4        0.05                299  \n",
       "..        ...                ...  \n",
       "41       0.20               1604  \n",
       "42       0.20               1604  \n",
       "43       0.20               1604  \n",
       "44       0.20               1604  \n",
       "45       0.20               1604  \n",
       "\n",
       "[184 rows x 7 columns]"
      ]
     },
     "execution_count": 43,
     "metadata": {},
     "output_type": "execute_result"
    }
   ],
   "source": [
    "train_sizes = [0.95, 0.90, 0.85, 0.80]\n",
    "all_dfs = []\n",
    "\n",
    "for train_size in train_sizes:\n",
    "    save_path = f'results-v3/{round(train_size * 100):02}-{round((1 - train_size) * 100):02}/results.csv'\n",
    "    all_dfs.append(pd.read_csv(save_path))\n",
    "    \n",
    "df_results = pd.concat(all_dfs)\n",
    "df_results"
   ]
  },
  {
   "cell_type": "code",
   "execution_count": 44,
   "metadata": {},
   "outputs": [],
   "source": [
    "df_results.to_csv('results-v3/concat_results.csv', index=False)"
   ]
  },
  {
   "cell_type": "code",
   "execution_count": 45,
   "metadata": {},
   "outputs": [
    {
     "data": {
      "application/vnd.plotly.v1+json": {
       "config": {
        "plotlyServerURL": "https://plot.ly"
       },
       "data": [
        {
         "hovertemplate": "algorithm=ALS - 2.0<br>test_size=%{x}<br>hr=%{y}<extra></extra>",
         "legendgroup": "ALS - 2.0",
         "line": {
          "color": "#636efa",
          "dash": "solid"
         },
         "marker": {
          "symbol": "circle"
         },
         "mode": "lines",
         "name": "ALS - 2.0",
         "orientation": "v",
         "showlegend": true,
         "type": "scatter",
         "x": [
          0.05,
          0.1,
          0.15,
          0.2
         ],
         "xaxis": "x",
         "y": [
          0.1204013377926421,
          0.1107544141252006,
          0.162032598274209,
          0.2082294264339152
         ],
         "yaxis": "y"
        },
        {
         "hovertemplate": "algorithm=LinUCB (non_incremental) - 2.0<br>test_size=%{x}<br>hr=%{y}<extra></extra>",
         "legendgroup": "LinUCB (non_incremental) - 2.0",
         "line": {
          "color": "#EF553B",
          "dash": "solid"
         },
         "marker": {
          "symbol": "circle"
         },
         "mode": "lines",
         "name": "LinUCB (non_incremental) - 2.0",
         "orientation": "v",
         "showlegend": true,
         "type": "scatter",
         "x": [
          0.05,
          0.1,
          0.15,
          0.2
         ],
         "xaxis": "x",
         "y": [
          0.0769230769230769,
          0.0898876404494382,
          0.1112176414189837,
          0.1159600997506234
         ],
         "yaxis": "y"
        },
        {
         "hovertemplate": "algorithm=LinGreedy (non_incremental) - 2.0<br>test_size=%{x}<br>hr=%{y}<extra></extra>",
         "legendgroup": "LinGreedy (non_incremental) - 2.0",
         "line": {
          "color": "#00cc96",
          "dash": "solid"
         },
         "marker": {
          "symbol": "circle"
         },
         "mode": "lines",
         "name": "LinGreedy (non_incremental) - 2.0",
         "orientation": "v",
         "showlegend": true,
         "type": "scatter",
         "x": [
          0.05,
          0.1,
          0.15,
          0.2
         ],
         "xaxis": "x",
         "y": [
          0.0702341137123745,
          0.0866773675762439,
          0.1112176414189837,
          0.119077306733167
         ],
         "yaxis": "y"
        },
        {
         "hovertemplate": "algorithm=LinUCB (incremental) - 2.0<br>test_size=%{x}<br>hr=%{y}<extra></extra>",
         "legendgroup": "LinUCB (incremental) - 2.0",
         "line": {
          "color": "#ab63fa",
          "dash": "solid"
         },
         "marker": {
          "symbol": "circle"
         },
         "mode": "lines",
         "name": "LinUCB (incremental) - 2.0",
         "orientation": "v",
         "showlegend": true,
         "type": "scatter",
         "x": [
          0.05,
          0.1,
          0.15,
          0.2
         ],
         "xaxis": "x",
         "y": [
          0.1170568561872909,
          0.1107544141252006,
          0.1236816874400767,
          0.1384039900249376
         ],
         "yaxis": "y"
        },
        {
         "hovertemplate": "algorithm=LinGreedy (incremental) - 2.0<br>test_size=%{x}<br>hr=%{y}<extra></extra>",
         "legendgroup": "LinGreedy (incremental) - 2.0",
         "line": {
          "color": "#FFA15A",
          "dash": "solid"
         },
         "marker": {
          "symbol": "circle"
         },
         "mode": "lines",
         "name": "LinGreedy (incremental) - 2.0",
         "orientation": "v",
         "showlegend": true,
         "type": "scatter",
         "x": [
          0.05,
          0.1,
          0.15,
          0.2
         ],
         "xaxis": "x",
         "y": [
          0.1170568561872909,
          0.1091492776886035,
          0.1227229146692233,
          0.1371571072319202
         ],
         "yaxis": "y"
        },
        {
         "hovertemplate": "algorithm=ALS - 4.0<br>test_size=%{x}<br>hr=%{y}<extra></extra>",
         "legendgroup": "ALS - 4.0",
         "line": {
          "color": "#19d3f3",
          "dash": "solid"
         },
         "marker": {
          "symbol": "circle"
         },
         "mode": "lines",
         "name": "ALS - 4.0",
         "orientation": "v",
         "showlegend": true,
         "type": "scatter",
         "x": [
          0.05,
          0.1,
          0.15,
          0.2
         ],
         "xaxis": "x",
         "y": [
          0.1538461538461538,
          0.1235955056179775,
          0.1831255992329817,
          0.233790523690773
         ],
         "yaxis": "y"
        },
        {
         "hovertemplate": "algorithm=LinUCB (non_incremental) - 4.0<br>test_size=%{x}<br>hr=%{y}<extra></extra>",
         "legendgroup": "LinUCB (non_incremental) - 4.0",
         "line": {
          "color": "#FF6692",
          "dash": "solid"
         },
         "marker": {
          "symbol": "circle"
         },
         "mode": "lines",
         "name": "LinUCB (non_incremental) - 4.0",
         "orientation": "v",
         "showlegend": true,
         "type": "scatter",
         "x": [
          0.05,
          0.1,
          0.15,
          0.2
         ],
         "xaxis": "x",
         "y": [
          0.0936454849498327,
          0.0802568218298555,
          0.099712368168744,
          0.119077306733167
         ],
         "yaxis": "y"
        },
        {
         "hovertemplate": "algorithm=LinGreedy (non_incremental) - 4.0<br>test_size=%{x}<br>hr=%{y}<extra></extra>",
         "legendgroup": "LinGreedy (non_incremental) - 4.0",
         "line": {
          "color": "#B6E880",
          "dash": "solid"
         },
         "marker": {
          "symbol": "circle"
         },
         "mode": "lines",
         "name": "LinGreedy (non_incremental) - 4.0",
         "orientation": "v",
         "showlegend": true,
         "type": "scatter",
         "x": [
          0.05,
          0.1,
          0.15,
          0.2
         ],
         "xaxis": "x",
         "y": [
          0.0903010033444816,
          0.0786516853932584,
          0.1006711409395973,
          0.121571072319202
         ],
         "yaxis": "y"
        },
        {
         "hovertemplate": "algorithm=LinUCB (incremental) - 4.0<br>test_size=%{x}<br>hr=%{y}<extra></extra>",
         "legendgroup": "LinUCB (incremental) - 4.0",
         "line": {
          "color": "#FF97FF",
          "dash": "solid"
         },
         "marker": {
          "symbol": "circle"
         },
         "mode": "lines",
         "name": "LinUCB (incremental) - 4.0",
         "orientation": "v",
         "showlegend": true,
         "type": "scatter",
         "x": [
          0.05,
          0.1,
          0.15,
          0.2
         ],
         "xaxis": "x",
         "y": [
          0.1003344481605351,
          0.1059390048154093,
          0.1294343240651965,
          0.1371571072319202
         ],
         "yaxis": "y"
        },
        {
         "hovertemplate": "algorithm=LinGreedy (incremental) - 4.0<br>test_size=%{x}<br>hr=%{y}<extra></extra>",
         "legendgroup": "LinGreedy (incremental) - 4.0",
         "line": {
          "color": "#FECB52",
          "dash": "solid"
         },
         "marker": {
          "symbol": "circle"
         },
         "mode": "lines",
         "name": "LinGreedy (incremental) - 4.0",
         "orientation": "v",
         "showlegend": true,
         "type": "scatter",
         "x": [
          0.05,
          0.1,
          0.15,
          0.2
         ],
         "xaxis": "x",
         "y": [
          0.1003344481605351,
          0.1059390048154093,
          0.1313518696069031,
          0.1377805486284289
         ],
         "yaxis": "y"
        },
        {
         "hovertemplate": "algorithm=ALS - 8.0<br>test_size=%{x}<br>hr=%{y}<extra></extra>",
         "legendgroup": "ALS - 8.0",
         "line": {
          "color": "#636efa",
          "dash": "solid"
         },
         "marker": {
          "symbol": "circle"
         },
         "mode": "lines",
         "name": "ALS - 8.0",
         "orientation": "v",
         "showlegend": true,
         "type": "scatter",
         "x": [
          0.05,
          0.1,
          0.15,
          0.2
         ],
         "xaxis": "x",
         "y": [
          0.1438127090301003,
          0.1348314606741573,
          0.1975071907957814,
          0.2400249376558603
         ],
         "yaxis": "y"
        },
        {
         "hovertemplate": "algorithm=LinUCB (non_incremental) - 8.0<br>test_size=%{x}<br>hr=%{y}<extra></extra>",
         "legendgroup": "LinUCB (non_incremental) - 8.0",
         "line": {
          "color": "#EF553B",
          "dash": "solid"
         },
         "marker": {
          "symbol": "circle"
         },
         "mode": "lines",
         "name": "LinUCB (non_incremental) - 8.0",
         "orientation": "v",
         "showlegend": true,
         "type": "scatter",
         "x": [
          0.05,
          0.1,
          0.15,
          0.2
         ],
         "xaxis": "x",
         "y": [
          0.0903010033444816,
          0.0802568218298555,
          0.087248322147651,
          0.098503740648379
         ],
         "yaxis": "y"
        },
        {
         "hovertemplate": "algorithm=LinGreedy (non_incremental) - 8.0<br>test_size=%{x}<br>hr=%{y}<extra></extra>",
         "legendgroup": "LinGreedy (non_incremental) - 8.0",
         "line": {
          "color": "#00cc96",
          "dash": "solid"
         },
         "marker": {
          "symbol": "circle"
         },
         "mode": "lines",
         "name": "LinGreedy (non_incremental) - 8.0",
         "orientation": "v",
         "showlegend": true,
         "type": "scatter",
         "x": [
          0.05,
          0.1,
          0.15,
          0.2
         ],
         "xaxis": "x",
         "y": [
          0.0903010033444816,
          0.0802568218298555,
          0.0910834132310642,
          0.1078553615960099
         ],
         "yaxis": "y"
        },
        {
         "hovertemplate": "algorithm=LinUCB (incremental) - 8.0<br>test_size=%{x}<br>hr=%{y}<extra></extra>",
         "legendgroup": "LinUCB (incremental) - 8.0",
         "line": {
          "color": "#ab63fa",
          "dash": "solid"
         },
         "marker": {
          "symbol": "circle"
         },
         "mode": "lines",
         "name": "LinUCB (incremental) - 8.0",
         "orientation": "v",
         "showlegend": true,
         "type": "scatter",
         "x": [
          0.05,
          0.1,
          0.15,
          0.2
         ],
         "xaxis": "x",
         "y": [
          0.0802675585284281,
          0.0930979133226324,
          0.1064237775647171,
          0.1265586034912718
         ],
         "yaxis": "y"
        },
        {
         "hovertemplate": "algorithm=LinGreedy (incremental) - 8.0<br>test_size=%{x}<br>hr=%{y}<extra></extra>",
         "legendgroup": "LinGreedy (incremental) - 8.0",
         "line": {
          "color": "#FFA15A",
          "dash": "solid"
         },
         "marker": {
          "symbol": "circle"
         },
         "mode": "lines",
         "name": "LinGreedy (incremental) - 8.0",
         "orientation": "v",
         "showlegend": true,
         "type": "scatter",
         "x": [
          0.05,
          0.1,
          0.15,
          0.2
         ],
         "xaxis": "x",
         "y": [
          0.0836120401337792,
          0.0947030497592295,
          0.112176414189837,
          0.1271820448877805
         ],
         "yaxis": "y"
        },
        {
         "hovertemplate": "algorithm=ALS - 16.0<br>test_size=%{x}<br>hr=%{y}<extra></extra>",
         "legendgroup": "ALS - 16.0",
         "line": {
          "color": "#19d3f3",
          "dash": "solid"
         },
         "marker": {
          "symbol": "circle"
         },
         "mode": "lines",
         "name": "ALS - 16.0",
         "orientation": "v",
         "showlegend": true,
         "type": "scatter",
         "x": [
          0.05,
          0.1,
          0.15,
          0.2
         ],
         "xaxis": "x",
         "y": [
          0.157190635451505,
          0.1428571428571428,
          0.1888782358581016,
          0.243142144638404
         ],
         "yaxis": "y"
        },
        {
         "hovertemplate": "algorithm=LinUCB (non_incremental) - 16.0<br>test_size=%{x}<br>hr=%{y}<extra></extra>",
         "legendgroup": "LinUCB (non_incremental) - 16.0",
         "line": {
          "color": "#FF6692",
          "dash": "solid"
         },
         "marker": {
          "symbol": "circle"
         },
         "mode": "lines",
         "name": "LinUCB (non_incremental) - 16.0",
         "orientation": "v",
         "showlegend": true,
         "type": "scatter",
         "x": [
          0.05,
          0.1,
          0.15,
          0.2
         ],
         "xaxis": "x",
         "y": [
          0.060200668896321,
          0.0658105939004815,
          0.0824544582933844,
          0.0841645885286783
         ],
         "yaxis": "y"
        },
        {
         "hovertemplate": "algorithm=LinGreedy (non_incremental) - 16.0<br>test_size=%{x}<br>hr=%{y}<extra></extra>",
         "legendgroup": "LinGreedy (non_incremental) - 16.0",
         "line": {
          "color": "#B6E880",
          "dash": "solid"
         },
         "marker": {
          "symbol": "circle"
         },
         "mode": "lines",
         "name": "LinGreedy (non_incremental) - 16.0",
         "orientation": "v",
         "showlegend": true,
         "type": "scatter",
         "x": [
          0.05,
          0.1,
          0.15,
          0.2
         ],
         "xaxis": "x",
         "y": [
          0.0568561872909698,
          0.0626003210272873,
          0.0805369127516778,
          0.0885286783042394
         ],
         "yaxis": "y"
        },
        {
         "hovertemplate": "algorithm=LinUCB (incremental) - 16.0<br>test_size=%{x}<br>hr=%{y}<extra></extra>",
         "legendgroup": "LinUCB (incremental) - 16.0",
         "line": {
          "color": "#FF97FF",
          "dash": "solid"
         },
         "marker": {
          "symbol": "circle"
         },
         "mode": "lines",
         "name": "LinUCB (incremental) - 16.0",
         "orientation": "v",
         "showlegend": true,
         "type": "scatter",
         "x": [
          0.05,
          0.1,
          0.15,
          0.2
         ],
         "xaxis": "x",
         "y": [
          0.0668896321070234,
          0.0690208667736757,
          0.0738255033557047,
          0.077930174563591
         ],
         "yaxis": "y"
        },
        {
         "hovertemplate": "algorithm=LinGreedy (incremental) - 16.0<br>test_size=%{x}<br>hr=%{y}<extra></extra>",
         "legendgroup": "LinGreedy (incremental) - 16.0",
         "line": {
          "color": "#FECB52",
          "dash": "solid"
         },
         "marker": {
          "symbol": "circle"
         },
         "mode": "lines",
         "name": "LinGreedy (incremental) - 16.0",
         "orientation": "v",
         "showlegend": true,
         "type": "scatter",
         "x": [
          0.05,
          0.1,
          0.15,
          0.2
         ],
         "xaxis": "x",
         "y": [
          0.0735785953177257,
          0.0722311396468699,
          0.074784276126558,
          0.0785536159600997
         ],
         "yaxis": "y"
        },
        {
         "hovertemplate": "algorithm=ALS - 32.0<br>test_size=%{x}<br>hr=%{y}<extra></extra>",
         "legendgroup": "ALS - 32.0",
         "line": {
          "color": "#636efa",
          "dash": "solid"
         },
         "marker": {
          "symbol": "circle"
         },
         "mode": "lines",
         "name": "ALS - 32.0",
         "orientation": "v",
         "showlegend": true,
         "type": "scatter",
         "x": [
          0.05,
          0.1,
          0.15,
          0.2
         ],
         "xaxis": "x",
         "y": [
          0.1204013377926421,
          0.102728731942215,
          0.1534036433365292,
          0.1845386533665835
         ],
         "yaxis": "y"
        },
        {
         "hovertemplate": "algorithm=LinUCB (non_incremental) - 32.0<br>test_size=%{x}<br>hr=%{y}<extra></extra>",
         "legendgroup": "LinUCB (non_incremental) - 32.0",
         "line": {
          "color": "#EF553B",
          "dash": "solid"
         },
         "marker": {
          "symbol": "circle"
         },
         "mode": "lines",
         "name": "LinUCB (non_incremental) - 32.0",
         "orientation": "v",
         "showlegend": true,
         "type": "scatter",
         "x": [
          0.05,
          0.1,
          0.15,
          0.2
         ],
         "xaxis": "x",
         "y": [
          0.060200668896321,
          0.0593900481540931,
          0.071907957813998,
          0.071072319201995
         ],
         "yaxis": "y"
        },
        {
         "hovertemplate": "algorithm=LinGreedy (non_incremental) - 32.0<br>test_size=%{x}<br>hr=%{y}<extra></extra>",
         "legendgroup": "LinGreedy (non_incremental) - 32.0",
         "line": {
          "color": "#00cc96",
          "dash": "solid"
         },
         "marker": {
          "symbol": "circle"
         },
         "mode": "lines",
         "name": "LinGreedy (non_incremental) - 32.0",
         "orientation": "v",
         "showlegend": true,
         "type": "scatter",
         "x": [
          0.05,
          0.1,
          0.15,
          0.2
         ],
         "xaxis": "x",
         "y": [
          0.0568561872909698,
          0.0545746388443017,
          0.0738255033557047,
          0.0760598503740648
         ],
         "yaxis": "y"
        },
        {
         "hovertemplate": "algorithm=LinUCB (incremental) - 32.0<br>test_size=%{x}<br>hr=%{y}<extra></extra>",
         "legendgroup": "LinUCB (incremental) - 32.0",
         "line": {
          "color": "#ab63fa",
          "dash": "solid"
         },
         "marker": {
          "symbol": "circle"
         },
         "mode": "lines",
         "name": "LinUCB (incremental) - 32.0",
         "orientation": "v",
         "showlegend": true,
         "type": "scatter",
         "x": [
          0.05,
          0.1,
          0.15,
          0.2
         ],
         "xaxis": "x",
         "y": [
          0.0334448160535117,
          0.0529695024077046,
          0.0383509108341323,
          0.0504987531172069
         ],
         "yaxis": "y"
        },
        {
         "hovertemplate": "algorithm=LinGreedy (incremental) - 32.0<br>test_size=%{x}<br>hr=%{y}<extra></extra>",
         "legendgroup": "LinGreedy (incremental) - 32.0",
         "line": {
          "color": "#FFA15A",
          "dash": "solid"
         },
         "marker": {
          "symbol": "circle"
         },
         "mode": "lines",
         "name": "LinGreedy (incremental) - 32.0",
         "orientation": "v",
         "showlegend": true,
         "type": "scatter",
         "x": [
          0.05,
          0.1,
          0.15,
          0.2
         ],
         "xaxis": "x",
         "y": [
          0.0301003344481605,
          0.0529695024077046,
          0.0412272291466922,
          0.0504987531172069
         ],
         "yaxis": "y"
        },
        {
         "hovertemplate": "algorithm=ALS - 64.0<br>test_size=%{x}<br>hr=%{y}<extra></extra>",
         "legendgroup": "ALS - 64.0",
         "line": {
          "color": "#19d3f3",
          "dash": "solid"
         },
         "marker": {
          "symbol": "circle"
         },
         "mode": "lines",
         "name": "ALS - 64.0",
         "orientation": "v",
         "showlegend": true,
         "type": "scatter",
         "x": [
          0.05,
          0.1,
          0.15,
          0.2
         ],
         "xaxis": "x",
         "y": [
          0.0769230769230769,
          0.0609951845906902,
          0.0920421860019175,
          0.1115960099750623
         ],
         "yaxis": "y"
        },
        {
         "hovertemplate": "algorithm=LinUCB (non_incremental) - 64.0<br>test_size=%{x}<br>hr=%{y}<extra></extra>",
         "legendgroup": "LinUCB (non_incremental) - 64.0",
         "line": {
          "color": "#FF6692",
          "dash": "solid"
         },
         "marker": {
          "symbol": "circle"
         },
         "mode": "lines",
         "name": "LinUCB (non_incremental) - 64.0",
         "orientation": "v",
         "showlegend": true,
         "type": "scatter",
         "x": [
          0.05,
          0.1,
          0.15,
          0.2
         ],
         "xaxis": "x",
         "y": [
          0.0267558528428093,
          0.0545746388443017,
          0.0642377756471716,
          0.0629675810473815
         ],
         "yaxis": "y"
        },
        {
         "hovertemplate": "algorithm=LinGreedy (non_incremental) - 64.0<br>test_size=%{x}<br>hr=%{y}<extra></extra>",
         "legendgroup": "LinGreedy (non_incremental) - 64.0",
         "line": {
          "color": "#B6E880",
          "dash": "solid"
         },
         "marker": {
          "symbol": "circle"
         },
         "mode": "lines",
         "name": "LinGreedy (non_incremental) - 64.0",
         "orientation": "v",
         "showlegend": true,
         "type": "scatter",
         "x": [
          0.05,
          0.1,
          0.15,
          0.2
         ],
         "xaxis": "x",
         "y": [
          0.0267558528428093,
          0.0481540930979133,
          0.0709491850431447,
          0.071072319201995
         ],
         "yaxis": "y"
        },
        {
         "hovertemplate": "algorithm=LinUCB (incremental) - 64.0<br>test_size=%{x}<br>hr=%{y}<extra></extra>",
         "legendgroup": "LinUCB (incremental) - 64.0",
         "line": {
          "color": "#FF97FF",
          "dash": "solid"
         },
         "marker": {
          "symbol": "circle"
         },
         "mode": "lines",
         "name": "LinUCB (incremental) - 64.0",
         "orientation": "v",
         "showlegend": true,
         "type": "scatter",
         "x": [
          0.05,
          0.1,
          0.15,
          0.2
         ],
         "xaxis": "x",
         "y": [
          0.0301003344481605,
          0.0321027287319422,
          0.0383509108341323,
          0.0311720698254364
         ],
         "yaxis": "y"
        },
        {
         "hovertemplate": "algorithm=LinGreedy (incremental) - 64.0<br>test_size=%{x}<br>hr=%{y}<extra></extra>",
         "legendgroup": "LinGreedy (incremental) - 64.0",
         "line": {
          "color": "#FECB52",
          "dash": "solid"
         },
         "marker": {
          "symbol": "circle"
         },
         "mode": "lines",
         "name": "LinGreedy (incremental) - 64.0",
         "orientation": "v",
         "showlegend": true,
         "type": "scatter",
         "x": [
          0.05,
          0.1,
          0.15,
          0.2
         ],
         "xaxis": "x",
         "y": [
          0.0301003344481605,
          0.0369181380417335,
          0.0354745925215723,
          0.0355361596009975
         ],
         "yaxis": "y"
        },
        {
         "hovertemplate": "algorithm=ALS - 128.0<br>test_size=%{x}<br>hr=%{y}<extra></extra>",
         "legendgroup": "ALS - 128.0",
         "line": {
          "color": "#636efa",
          "dash": "solid"
         },
         "marker": {
          "symbol": "circle"
         },
         "mode": "lines",
         "name": "ALS - 128.0",
         "orientation": "v",
         "showlegend": true,
         "type": "scatter",
         "x": [
          0.05,
          0.1,
          0.15,
          0.2
         ],
         "xaxis": "x",
         "y": [
          0.0568561872909698,
          0.0545746388443017,
          0.0536912751677852,
          0.0635910224438902
         ],
         "yaxis": "y"
        },
        {
         "hovertemplate": "algorithm=LinUCB (non_incremental) - 128.0<br>test_size=%{x}<br>hr=%{y}<extra></extra>",
         "legendgroup": "LinUCB (non_incremental) - 128.0",
         "line": {
          "color": "#EF553B",
          "dash": "solid"
         },
         "marker": {
          "symbol": "circle"
         },
         "mode": "lines",
         "name": "LinUCB (non_incremental) - 128.0",
         "orientation": "v",
         "showlegend": true,
         "type": "scatter",
         "x": [
          0.05,
          0.1,
          0.15,
          0.2
         ],
         "xaxis": "x",
         "y": [
          0.0301003344481605,
          0.0626003210272873,
          0.0661553211888782,
          0.0598503740648379
         ],
         "yaxis": "y"
        },
        {
         "hovertemplate": "algorithm=LinGreedy (non_incremental) - 128.0<br>test_size=%{x}<br>hr=%{y}<extra></extra>",
         "legendgroup": "LinGreedy (non_incremental) - 128.0",
         "line": {
          "color": "#00cc96",
          "dash": "solid"
         },
         "marker": {
          "symbol": "circle"
         },
         "mode": "lines",
         "name": "LinGreedy (non_incremental) - 128.0",
         "orientation": "v",
         "showlegend": true,
         "type": "scatter",
         "x": [
          0.05,
          0.1,
          0.15,
          0.2
         ],
         "xaxis": "x",
         "y": [
          0.0468227424749163,
          0.0626003210272873,
          0.0661553211888782,
          0.071072319201995
         ],
         "yaxis": "y"
        },
        {
         "hovertemplate": "algorithm=LinUCB (incremental) - 128.0<br>test_size=%{x}<br>hr=%{y}<extra></extra>",
         "legendgroup": "LinUCB (incremental) - 128.0",
         "line": {
          "color": "#ab63fa",
          "dash": "solid"
         },
         "marker": {
          "symbol": "circle"
         },
         "mode": "lines",
         "name": "LinUCB (incremental) - 128.0",
         "orientation": "v",
         "showlegend": true,
         "type": "scatter",
         "x": [
          0.05,
          0.1,
          0.15,
          0.2
         ],
         "xaxis": "x",
         "y": [
          0.0267558528428093,
          0.0337078651685393,
          0.0287631831255992,
          0.0367830423940149
         ],
         "yaxis": "y"
        },
        {
         "hovertemplate": "algorithm=LinGreedy (incremental) - 128.0<br>test_size=%{x}<br>hr=%{y}<extra></extra>",
         "legendgroup": "LinGreedy (incremental) - 128.0",
         "line": {
          "color": "#FFA15A",
          "dash": "solid"
         },
         "marker": {
          "symbol": "circle"
         },
         "mode": "lines",
         "name": "LinGreedy (incremental) - 128.0",
         "orientation": "v",
         "showlegend": true,
         "type": "scatter",
         "x": [
          0.05,
          0.1,
          0.15,
          0.2
         ],
         "xaxis": "x",
         "y": [
          0.0267558528428093,
          0.0353130016051364,
          0.0191754554170661,
          0.0311720698254364
         ],
         "yaxis": "y"
        },
        {
         "hovertemplate": "algorithm=ALS - 256.0<br>test_size=%{x}<br>hr=%{y}<extra></extra>",
         "legendgroup": "ALS - 256.0",
         "line": {
          "color": "#19d3f3",
          "dash": "solid"
         },
         "marker": {
          "symbol": "circle"
         },
         "mode": "lines",
         "name": "ALS - 256.0",
         "orientation": "v",
         "showlegend": true,
         "type": "scatter",
         "x": [
          0.05,
          0.1,
          0.15,
          0.2
         ],
         "xaxis": "x",
         "y": [
          0.0869565217391304,
          0.0786516853932584,
          0.1045062320230105,
          0.1153366583541147
         ],
         "yaxis": "y"
        },
        {
         "hovertemplate": "algorithm=LinUCB (non_incremental) - 256.0<br>test_size=%{x}<br>hr=%{y}<extra></extra>",
         "legendgroup": "LinUCB (non_incremental) - 256.0",
         "line": {
          "color": "#FF6692",
          "dash": "solid"
         },
         "marker": {
          "symbol": "circle"
         },
         "mode": "lines",
         "name": "LinUCB (non_incremental) - 256.0",
         "orientation": "v",
         "showlegend": true,
         "type": "scatter",
         "x": [
          0.05,
          0.1,
          0.15,
          0.2
         ],
         "xaxis": "x",
         "y": [
          0.0468227424749163,
          0.0609951845906902,
          0.0661553211888782,
          0.0623441396508728
         ],
         "yaxis": "y"
        },
        {
         "hovertemplate": "algorithm=LinGreedy (non_incremental) - 256.0<br>test_size=%{x}<br>hr=%{y}<extra></extra>",
         "legendgroup": "LinGreedy (non_incremental) - 256.0",
         "line": {
          "color": "#B6E880",
          "dash": "solid"
         },
         "marker": {
          "symbol": "circle"
         },
         "mode": "lines",
         "name": "LinGreedy (non_incremental) - 256.0",
         "orientation": "v",
         "showlegend": true,
         "type": "scatter",
         "x": [
          0.05,
          0.1,
          0.15,
          0.2
         ],
         "xaxis": "x",
         "y": [
          0.0535117056856187,
          0.0658105939004815,
          0.071907957813998,
          0.0760598503740648
         ],
         "yaxis": "y"
        },
        {
         "hovertemplate": "algorithm=LinUCB (incremental) - 256.0<br>test_size=%{x}<br>hr=%{y}<extra></extra>",
         "legendgroup": "LinUCB (incremental) - 256.0",
         "line": {
          "color": "#FF97FF",
          "dash": "solid"
         },
         "marker": {
          "symbol": "circle"
         },
         "mode": "lines",
         "name": "LinUCB (incremental) - 256.0",
         "orientation": "v",
         "showlegend": true,
         "type": "scatter",
         "x": [
          0.05,
          0.1,
          0.15,
          0.2
         ],
         "xaxis": "x",
         "y": [
          0.0301003344481605,
          0.0272873194221508,
          0.0239693192713326,
          0.0193266832917705
         ],
         "yaxis": "y"
        },
        {
         "hovertemplate": "algorithm=LinGreedy (incremental) - 256.0<br>test_size=%{x}<br>hr=%{y}<extra></extra>",
         "legendgroup": "LinGreedy (incremental) - 256.0",
         "line": {
          "color": "#FECB52",
          "dash": "solid"
         },
         "marker": {
          "symbol": "circle"
         },
         "mode": "lines",
         "name": "LinGreedy (incremental) - 256.0",
         "orientation": "v",
         "showlegend": true,
         "type": "scatter",
         "x": [
          0.05,
          0.1,
          0.15,
          0.2
         ],
         "xaxis": "x",
         "y": [
          0.0334448160535117,
          0.0256821829855537,
          0.0201342281879194,
          0.0180798004987531
         ],
         "yaxis": "y"
        },
        {
         "hovertemplate": "algorithm=ALS - 512.0<br>test_size=%{x}<br>hr=%{y}<extra></extra>",
         "legendgroup": "ALS - 512.0",
         "line": {
          "color": "#636efa",
          "dash": "solid"
         },
         "marker": {
          "symbol": "circle"
         },
         "mode": "lines",
         "name": "ALS - 512.0",
         "orientation": "v",
         "showlegend": true,
         "type": "scatter",
         "x": [
          0.05,
          0.1,
          0.15,
          0.2
         ],
         "xaxis": "x",
         "y": [
          0.0903010033444816,
          0.0706260032102728,
          0.1054650047938638,
          0.1184538653366583
         ],
         "yaxis": "y"
        },
        {
         "hovertemplate": "algorithm=LinUCB (non_incremental) - 512.0<br>test_size=%{x}<br>hr=%{y}<extra></extra>",
         "legendgroup": "LinUCB (non_incremental) - 512.0",
         "line": {
          "color": "#EF553B",
          "dash": "solid"
         },
         "marker": {
          "symbol": "circle"
         },
         "mode": "lines",
         "name": "LinUCB (non_incremental) - 512.0",
         "orientation": "v",
         "showlegend": true,
         "type": "scatter",
         "x": [
          0.05,
          0.1,
          0.15,
          0.2
         ],
         "xaxis": "x",
         "y": [
          0.040133779264214,
          0.0545746388443017,
          0.062320230105465,
          0.0673316708229426
         ],
         "yaxis": "y"
        },
        {
         "hovertemplate": "algorithm=LinGreedy (non_incremental) - 512.0<br>test_size=%{x}<br>hr=%{y}<extra></extra>",
         "legendgroup": "LinGreedy (non_incremental) - 512.0",
         "line": {
          "color": "#00cc96",
          "dash": "solid"
         },
         "marker": {
          "symbol": "circle"
         },
         "mode": "lines",
         "name": "LinGreedy (non_incremental) - 512.0",
         "orientation": "v",
         "showlegend": true,
         "type": "scatter",
         "x": [
          0.05,
          0.1,
          0.15,
          0.2
         ],
         "xaxis": "x",
         "y": [
          0.0501672240802675,
          0.0545746388443017,
          0.0671140939597315,
          0.0791770573566084
         ],
         "yaxis": "y"
        },
        {
         "hovertemplate": "algorithm=LinUCB (incremental) - 512.0<br>test_size=%{x}<br>hr=%{y}<extra></extra>",
         "legendgroup": "LinUCB (incremental) - 512.0",
         "line": {
          "color": "#ab63fa",
          "dash": "solid"
         },
         "marker": {
          "symbol": "circle"
         },
         "mode": "lines",
         "name": "LinUCB (incremental) - 512.0",
         "orientation": "v",
         "showlegend": true,
         "type": "scatter",
         "x": [
          0.05,
          0.1,
          0.15,
          0.2
         ],
         "xaxis": "x",
         "y": [
          0.0234113712374581,
          0.0240770465489566,
          0.0230105465004793,
          0.020573566084788
         ],
         "yaxis": "y"
        },
        {
         "hovertemplate": "algorithm=LinGreedy (incremental) - 512.0<br>test_size=%{x}<br>hr=%{y}<extra></extra>",
         "legendgroup": "LinGreedy (incremental) - 512.0",
         "line": {
          "color": "#FFA15A",
          "dash": "solid"
         },
         "marker": {
          "symbol": "circle"
         },
         "mode": "lines",
         "name": "LinGreedy (incremental) - 512.0",
         "orientation": "v",
         "showlegend": true,
         "type": "scatter",
         "x": [
          0.05,
          0.1,
          0.15,
          0.2
         ],
         "xaxis": "x",
         "y": [
          0.0334448160535117,
          0.0240770465489566,
          0.0210930009587727,
          0.0180798004987531
         ],
         "yaxis": "y"
        },
        {
         "hovertemplate": "algorithm=Random - nan<br>test_size=%{x}<br>hr=%{y}<extra></extra>",
         "legendgroup": "Random - nan",
         "line": {
          "color": "#19d3f3",
          "dash": "solid"
         },
         "marker": {
          "symbol": "circle"
         },
         "mode": "lines",
         "name": "Random - nan",
         "orientation": "v",
         "showlegend": true,
         "type": "scatter",
         "x": [
          0.05,
          0.1,
          0.15,
          0.2
         ],
         "xaxis": "x",
         "y": [
          0.0568561872909698,
          0.0481540930979133,
          0.0575263662511984,
          0.0467581047381546
         ],
         "yaxis": "y"
        }
       ],
       "layout": {
        "legend": {
         "title": {
          "text": "algorithm"
         },
         "tracegroupgap": 0
        },
        "template": {
         "data": {
          "bar": [
           {
            "error_x": {
             "color": "#2a3f5f"
            },
            "error_y": {
             "color": "#2a3f5f"
            },
            "marker": {
             "line": {
              "color": "#E5ECF6",
              "width": 0.5
             },
             "pattern": {
              "fillmode": "overlay",
              "size": 10,
              "solidity": 0.2
             }
            },
            "type": "bar"
           }
          ],
          "barpolar": [
           {
            "marker": {
             "line": {
              "color": "#E5ECF6",
              "width": 0.5
             },
             "pattern": {
              "fillmode": "overlay",
              "size": 10,
              "solidity": 0.2
             }
            },
            "type": "barpolar"
           }
          ],
          "carpet": [
           {
            "aaxis": {
             "endlinecolor": "#2a3f5f",
             "gridcolor": "white",
             "linecolor": "white",
             "minorgridcolor": "white",
             "startlinecolor": "#2a3f5f"
            },
            "baxis": {
             "endlinecolor": "#2a3f5f",
             "gridcolor": "white",
             "linecolor": "white",
             "minorgridcolor": "white",
             "startlinecolor": "#2a3f5f"
            },
            "type": "carpet"
           }
          ],
          "choropleth": [
           {
            "colorbar": {
             "outlinewidth": 0,
             "ticks": ""
            },
            "type": "choropleth"
           }
          ],
          "contour": [
           {
            "colorbar": {
             "outlinewidth": 0,
             "ticks": ""
            },
            "colorscale": [
             [
              0,
              "#0d0887"
             ],
             [
              0.1111111111111111,
              "#46039f"
             ],
             [
              0.2222222222222222,
              "#7201a8"
             ],
             [
              0.3333333333333333,
              "#9c179e"
             ],
             [
              0.4444444444444444,
              "#bd3786"
             ],
             [
              0.5555555555555556,
              "#d8576b"
             ],
             [
              0.6666666666666666,
              "#ed7953"
             ],
             [
              0.7777777777777778,
              "#fb9f3a"
             ],
             [
              0.8888888888888888,
              "#fdca26"
             ],
             [
              1,
              "#f0f921"
             ]
            ],
            "type": "contour"
           }
          ],
          "contourcarpet": [
           {
            "colorbar": {
             "outlinewidth": 0,
             "ticks": ""
            },
            "type": "contourcarpet"
           }
          ],
          "heatmap": [
           {
            "colorbar": {
             "outlinewidth": 0,
             "ticks": ""
            },
            "colorscale": [
             [
              0,
              "#0d0887"
             ],
             [
              0.1111111111111111,
              "#46039f"
             ],
             [
              0.2222222222222222,
              "#7201a8"
             ],
             [
              0.3333333333333333,
              "#9c179e"
             ],
             [
              0.4444444444444444,
              "#bd3786"
             ],
             [
              0.5555555555555556,
              "#d8576b"
             ],
             [
              0.6666666666666666,
              "#ed7953"
             ],
             [
              0.7777777777777778,
              "#fb9f3a"
             ],
             [
              0.8888888888888888,
              "#fdca26"
             ],
             [
              1,
              "#f0f921"
             ]
            ],
            "type": "heatmap"
           }
          ],
          "heatmapgl": [
           {
            "colorbar": {
             "outlinewidth": 0,
             "ticks": ""
            },
            "colorscale": [
             [
              0,
              "#0d0887"
             ],
             [
              0.1111111111111111,
              "#46039f"
             ],
             [
              0.2222222222222222,
              "#7201a8"
             ],
             [
              0.3333333333333333,
              "#9c179e"
             ],
             [
              0.4444444444444444,
              "#bd3786"
             ],
             [
              0.5555555555555556,
              "#d8576b"
             ],
             [
              0.6666666666666666,
              "#ed7953"
             ],
             [
              0.7777777777777778,
              "#fb9f3a"
             ],
             [
              0.8888888888888888,
              "#fdca26"
             ],
             [
              1,
              "#f0f921"
             ]
            ],
            "type": "heatmapgl"
           }
          ],
          "histogram": [
           {
            "marker": {
             "pattern": {
              "fillmode": "overlay",
              "size": 10,
              "solidity": 0.2
             }
            },
            "type": "histogram"
           }
          ],
          "histogram2d": [
           {
            "colorbar": {
             "outlinewidth": 0,
             "ticks": ""
            },
            "colorscale": [
             [
              0,
              "#0d0887"
             ],
             [
              0.1111111111111111,
              "#46039f"
             ],
             [
              0.2222222222222222,
              "#7201a8"
             ],
             [
              0.3333333333333333,
              "#9c179e"
             ],
             [
              0.4444444444444444,
              "#bd3786"
             ],
             [
              0.5555555555555556,
              "#d8576b"
             ],
             [
              0.6666666666666666,
              "#ed7953"
             ],
             [
              0.7777777777777778,
              "#fb9f3a"
             ],
             [
              0.8888888888888888,
              "#fdca26"
             ],
             [
              1,
              "#f0f921"
             ]
            ],
            "type": "histogram2d"
           }
          ],
          "histogram2dcontour": [
           {
            "colorbar": {
             "outlinewidth": 0,
             "ticks": ""
            },
            "colorscale": [
             [
              0,
              "#0d0887"
             ],
             [
              0.1111111111111111,
              "#46039f"
             ],
             [
              0.2222222222222222,
              "#7201a8"
             ],
             [
              0.3333333333333333,
              "#9c179e"
             ],
             [
              0.4444444444444444,
              "#bd3786"
             ],
             [
              0.5555555555555556,
              "#d8576b"
             ],
             [
              0.6666666666666666,
              "#ed7953"
             ],
             [
              0.7777777777777778,
              "#fb9f3a"
             ],
             [
              0.8888888888888888,
              "#fdca26"
             ],
             [
              1,
              "#f0f921"
             ]
            ],
            "type": "histogram2dcontour"
           }
          ],
          "mesh3d": [
           {
            "colorbar": {
             "outlinewidth": 0,
             "ticks": ""
            },
            "type": "mesh3d"
           }
          ],
          "parcoords": [
           {
            "line": {
             "colorbar": {
              "outlinewidth": 0,
              "ticks": ""
             }
            },
            "type": "parcoords"
           }
          ],
          "pie": [
           {
            "automargin": true,
            "type": "pie"
           }
          ],
          "scatter": [
           {
            "fillpattern": {
             "fillmode": "overlay",
             "size": 10,
             "solidity": 0.2
            },
            "type": "scatter"
           }
          ],
          "scatter3d": [
           {
            "line": {
             "colorbar": {
              "outlinewidth": 0,
              "ticks": ""
             }
            },
            "marker": {
             "colorbar": {
              "outlinewidth": 0,
              "ticks": ""
             }
            },
            "type": "scatter3d"
           }
          ],
          "scattercarpet": [
           {
            "marker": {
             "colorbar": {
              "outlinewidth": 0,
              "ticks": ""
             }
            },
            "type": "scattercarpet"
           }
          ],
          "scattergeo": [
           {
            "marker": {
             "colorbar": {
              "outlinewidth": 0,
              "ticks": ""
             }
            },
            "type": "scattergeo"
           }
          ],
          "scattergl": [
           {
            "marker": {
             "colorbar": {
              "outlinewidth": 0,
              "ticks": ""
             }
            },
            "type": "scattergl"
           }
          ],
          "scattermapbox": [
           {
            "marker": {
             "colorbar": {
              "outlinewidth": 0,
              "ticks": ""
             }
            },
            "type": "scattermapbox"
           }
          ],
          "scatterpolar": [
           {
            "marker": {
             "colorbar": {
              "outlinewidth": 0,
              "ticks": ""
             }
            },
            "type": "scatterpolar"
           }
          ],
          "scatterpolargl": [
           {
            "marker": {
             "colorbar": {
              "outlinewidth": 0,
              "ticks": ""
             }
            },
            "type": "scatterpolargl"
           }
          ],
          "scatterternary": [
           {
            "marker": {
             "colorbar": {
              "outlinewidth": 0,
              "ticks": ""
             }
            },
            "type": "scatterternary"
           }
          ],
          "surface": [
           {
            "colorbar": {
             "outlinewidth": 0,
             "ticks": ""
            },
            "colorscale": [
             [
              0,
              "#0d0887"
             ],
             [
              0.1111111111111111,
              "#46039f"
             ],
             [
              0.2222222222222222,
              "#7201a8"
             ],
             [
              0.3333333333333333,
              "#9c179e"
             ],
             [
              0.4444444444444444,
              "#bd3786"
             ],
             [
              0.5555555555555556,
              "#d8576b"
             ],
             [
              0.6666666666666666,
              "#ed7953"
             ],
             [
              0.7777777777777778,
              "#fb9f3a"
             ],
             [
              0.8888888888888888,
              "#fdca26"
             ],
             [
              1,
              "#f0f921"
             ]
            ],
            "type": "surface"
           }
          ],
          "table": [
           {
            "cells": {
             "fill": {
              "color": "#EBF0F8"
             },
             "line": {
              "color": "white"
             }
            },
            "header": {
             "fill": {
              "color": "#C8D4E3"
             },
             "line": {
              "color": "white"
             }
            },
            "type": "table"
           }
          ]
         },
         "layout": {
          "annotationdefaults": {
           "arrowcolor": "#2a3f5f",
           "arrowhead": 0,
           "arrowwidth": 1
          },
          "autotypenumbers": "strict",
          "coloraxis": {
           "colorbar": {
            "outlinewidth": 0,
            "ticks": ""
           }
          },
          "colorscale": {
           "diverging": [
            [
             0,
             "#8e0152"
            ],
            [
             0.1,
             "#c51b7d"
            ],
            [
             0.2,
             "#de77ae"
            ],
            [
             0.3,
             "#f1b6da"
            ],
            [
             0.4,
             "#fde0ef"
            ],
            [
             0.5,
             "#f7f7f7"
            ],
            [
             0.6,
             "#e6f5d0"
            ],
            [
             0.7,
             "#b8e186"
            ],
            [
             0.8,
             "#7fbc41"
            ],
            [
             0.9,
             "#4d9221"
            ],
            [
             1,
             "#276419"
            ]
           ],
           "sequential": [
            [
             0,
             "#0d0887"
            ],
            [
             0.1111111111111111,
             "#46039f"
            ],
            [
             0.2222222222222222,
             "#7201a8"
            ],
            [
             0.3333333333333333,
             "#9c179e"
            ],
            [
             0.4444444444444444,
             "#bd3786"
            ],
            [
             0.5555555555555556,
             "#d8576b"
            ],
            [
             0.6666666666666666,
             "#ed7953"
            ],
            [
             0.7777777777777778,
             "#fb9f3a"
            ],
            [
             0.8888888888888888,
             "#fdca26"
            ],
            [
             1,
             "#f0f921"
            ]
           ],
           "sequentialminus": [
            [
             0,
             "#0d0887"
            ],
            [
             0.1111111111111111,
             "#46039f"
            ],
            [
             0.2222222222222222,
             "#7201a8"
            ],
            [
             0.3333333333333333,
             "#9c179e"
            ],
            [
             0.4444444444444444,
             "#bd3786"
            ],
            [
             0.5555555555555556,
             "#d8576b"
            ],
            [
             0.6666666666666666,
             "#ed7953"
            ],
            [
             0.7777777777777778,
             "#fb9f3a"
            ],
            [
             0.8888888888888888,
             "#fdca26"
            ],
            [
             1,
             "#f0f921"
            ]
           ]
          },
          "colorway": [
           "#636efa",
           "#EF553B",
           "#00cc96",
           "#ab63fa",
           "#FFA15A",
           "#19d3f3",
           "#FF6692",
           "#B6E880",
           "#FF97FF",
           "#FECB52"
          ],
          "font": {
           "color": "#2a3f5f"
          },
          "geo": {
           "bgcolor": "white",
           "lakecolor": "white",
           "landcolor": "#E5ECF6",
           "showlakes": true,
           "showland": true,
           "subunitcolor": "white"
          },
          "hoverlabel": {
           "align": "left"
          },
          "hovermode": "closest",
          "mapbox": {
           "style": "light"
          },
          "paper_bgcolor": "white",
          "plot_bgcolor": "#E5ECF6",
          "polar": {
           "angularaxis": {
            "gridcolor": "white",
            "linecolor": "white",
            "ticks": ""
           },
           "bgcolor": "#E5ECF6",
           "radialaxis": {
            "gridcolor": "white",
            "linecolor": "white",
            "ticks": ""
           }
          },
          "scene": {
           "xaxis": {
            "backgroundcolor": "#E5ECF6",
            "gridcolor": "white",
            "gridwidth": 2,
            "linecolor": "white",
            "showbackground": true,
            "ticks": "",
            "zerolinecolor": "white"
           },
           "yaxis": {
            "backgroundcolor": "#E5ECF6",
            "gridcolor": "white",
            "gridwidth": 2,
            "linecolor": "white",
            "showbackground": true,
            "ticks": "",
            "zerolinecolor": "white"
           },
           "zaxis": {
            "backgroundcolor": "#E5ECF6",
            "gridcolor": "white",
            "gridwidth": 2,
            "linecolor": "white",
            "showbackground": true,
            "ticks": "",
            "zerolinecolor": "white"
           }
          },
          "shapedefaults": {
           "line": {
            "color": "#2a3f5f"
           }
          },
          "ternary": {
           "aaxis": {
            "gridcolor": "white",
            "linecolor": "white",
            "ticks": ""
           },
           "baxis": {
            "gridcolor": "white",
            "linecolor": "white",
            "ticks": ""
           },
           "bgcolor": "#E5ECF6",
           "caxis": {
            "gridcolor": "white",
            "linecolor": "white",
            "ticks": ""
           }
          },
          "title": {
           "x": 0.05
          },
          "xaxis": {
           "automargin": true,
           "gridcolor": "white",
           "linecolor": "white",
           "ticks": "",
           "title": {
            "standoff": 15
           },
           "zerolinecolor": "white",
           "zerolinewidth": 2
          },
          "yaxis": {
           "automargin": true,
           "gridcolor": "white",
           "linecolor": "white",
           "ticks": "",
           "title": {
            "standoff": 15
           },
           "zerolinecolor": "white",
           "zerolinewidth": 2
          }
         }
        },
        "title": {
         "text": "HR x Test size"
        },
        "xaxis": {
         "anchor": "y",
         "domain": [
          0,
          1
         ],
         "title": {
          "text": "test_size"
         }
        },
        "yaxis": {
         "anchor": "x",
         "domain": [
          0,
          1
         ],
         "title": {
          "text": "hr"
         }
        }
       }
      }
     },
     "metadata": {},
     "output_type": "display_data"
    }
   ],
   "source": [
    "df_results_new = df_results.copy()\n",
    "df_results_new['algorithm'] = df_results_new['algorithm'] + ' - ' + df_results_new['factors'].astype(str)\n",
    "\n",
    "fig = px.line(df_results_new, x=\"test_size\", y=\"hr\", color='algorithm', title='HR x Test size')\n",
    "fig.show()\n",
    "fig.write_html('results-v3/hr_x_test_size.html')"
   ]
  },
  {
   "cell_type": "code",
   "execution_count": 46,
   "metadata": {},
   "outputs": [
    {
     "name": "stderr",
     "output_type": "stream",
     "text": [
      "C:\\Users\\gregf\\AppData\\Local\\Temp\\ipykernel_26344\\2201864770.py:4: SettingWithCopyWarning:\n",
      "\n",
      "\n",
      "A value is trying to be set on a copy of a slice from a DataFrame.\n",
      "Try using .loc[row_indexer,col_indexer] = value instead\n",
      "\n",
      "See the caveats in the documentation: https://pandas.pydata.org/pandas-docs/stable/user_guide/indexing.html#returning-a-view-versus-a-copy\n",
      "\n"
     ]
    },
    {
     "data": {
      "application/vnd.plotly.v1+json": {
       "config": {
        "plotlyServerURL": "https://plot.ly"
       },
       "data": [
        {
         "hovertemplate": "algorithm=LinGreedy (incremental) - 2.0<br>test_size=%{x}<br>hr=%{y}<extra></extra>",
         "legendgroup": "LinGreedy (incremental) - 2.0",
         "line": {
          "color": "#636efa",
          "dash": "solid"
         },
         "marker": {
          "symbol": "circle"
         },
         "mode": "lines",
         "name": "LinGreedy (incremental) - 2.0",
         "orientation": "v",
         "showlegend": true,
         "type": "scatter",
         "x": [
          0.05,
          0.1,
          0.15,
          0.2
         ],
         "xaxis": "x",
         "y": [
          0.1170568561872909,
          0.1091492776886035,
          0.1227229146692233,
          0.1371571072319202
         ],
         "yaxis": "y"
        },
        {
         "hovertemplate": "algorithm=LinGreedy (incremental) - 4.0<br>test_size=%{x}<br>hr=%{y}<extra></extra>",
         "legendgroup": "LinGreedy (incremental) - 4.0",
         "line": {
          "color": "#EF553B",
          "dash": "solid"
         },
         "marker": {
          "symbol": "circle"
         },
         "mode": "lines",
         "name": "LinGreedy (incremental) - 4.0",
         "orientation": "v",
         "showlegend": true,
         "type": "scatter",
         "x": [
          0.05,
          0.1,
          0.15,
          0.2
         ],
         "xaxis": "x",
         "y": [
          0.1003344481605351,
          0.1059390048154093,
          0.1313518696069031,
          0.1377805486284289
         ],
         "yaxis": "y"
        },
        {
         "hovertemplate": "algorithm=LinGreedy (incremental) - 8.0<br>test_size=%{x}<br>hr=%{y}<extra></extra>",
         "legendgroup": "LinGreedy (incremental) - 8.0",
         "line": {
          "color": "#00cc96",
          "dash": "solid"
         },
         "marker": {
          "symbol": "circle"
         },
         "mode": "lines",
         "name": "LinGreedy (incremental) - 8.0",
         "orientation": "v",
         "showlegend": true,
         "type": "scatter",
         "x": [
          0.05,
          0.1,
          0.15,
          0.2
         ],
         "xaxis": "x",
         "y": [
          0.0836120401337792,
          0.0947030497592295,
          0.112176414189837,
          0.1271820448877805
         ],
         "yaxis": "y"
        },
        {
         "hovertemplate": "algorithm=LinGreedy (incremental) - 16.0<br>test_size=%{x}<br>hr=%{y}<extra></extra>",
         "legendgroup": "LinGreedy (incremental) - 16.0",
         "line": {
          "color": "#ab63fa",
          "dash": "solid"
         },
         "marker": {
          "symbol": "circle"
         },
         "mode": "lines",
         "name": "LinGreedy (incremental) - 16.0",
         "orientation": "v",
         "showlegend": true,
         "type": "scatter",
         "x": [
          0.05,
          0.1,
          0.15,
          0.2
         ],
         "xaxis": "x",
         "y": [
          0.0735785953177257,
          0.0722311396468699,
          0.074784276126558,
          0.0785536159600997
         ],
         "yaxis": "y"
        },
        {
         "hovertemplate": "algorithm=LinGreedy (incremental) - 32.0<br>test_size=%{x}<br>hr=%{y}<extra></extra>",
         "legendgroup": "LinGreedy (incremental) - 32.0",
         "line": {
          "color": "#FFA15A",
          "dash": "solid"
         },
         "marker": {
          "symbol": "circle"
         },
         "mode": "lines",
         "name": "LinGreedy (incremental) - 32.0",
         "orientation": "v",
         "showlegend": true,
         "type": "scatter",
         "x": [
          0.05,
          0.1,
          0.15,
          0.2
         ],
         "xaxis": "x",
         "y": [
          0.0301003344481605,
          0.0529695024077046,
          0.0412272291466922,
          0.0504987531172069
         ],
         "yaxis": "y"
        },
        {
         "hovertemplate": "algorithm=LinGreedy (incremental) - 64.0<br>test_size=%{x}<br>hr=%{y}<extra></extra>",
         "legendgroup": "LinGreedy (incremental) - 64.0",
         "line": {
          "color": "#19d3f3",
          "dash": "solid"
         },
         "marker": {
          "symbol": "circle"
         },
         "mode": "lines",
         "name": "LinGreedy (incremental) - 64.0",
         "orientation": "v",
         "showlegend": true,
         "type": "scatter",
         "x": [
          0.05,
          0.1,
          0.15,
          0.2
         ],
         "xaxis": "x",
         "y": [
          0.0301003344481605,
          0.0369181380417335,
          0.0354745925215723,
          0.0355361596009975
         ],
         "yaxis": "y"
        },
        {
         "hovertemplate": "algorithm=LinGreedy (incremental) - 128.0<br>test_size=%{x}<br>hr=%{y}<extra></extra>",
         "legendgroup": "LinGreedy (incremental) - 128.0",
         "line": {
          "color": "#FF6692",
          "dash": "solid"
         },
         "marker": {
          "symbol": "circle"
         },
         "mode": "lines",
         "name": "LinGreedy (incremental) - 128.0",
         "orientation": "v",
         "showlegend": true,
         "type": "scatter",
         "x": [
          0.05,
          0.1,
          0.15,
          0.2
         ],
         "xaxis": "x",
         "y": [
          0.0267558528428093,
          0.0353130016051364,
          0.0191754554170661,
          0.0311720698254364
         ],
         "yaxis": "y"
        },
        {
         "hovertemplate": "algorithm=LinGreedy (incremental) - 256.0<br>test_size=%{x}<br>hr=%{y}<extra></extra>",
         "legendgroup": "LinGreedy (incremental) - 256.0",
         "line": {
          "color": "#B6E880",
          "dash": "solid"
         },
         "marker": {
          "symbol": "circle"
         },
         "mode": "lines",
         "name": "LinGreedy (incremental) - 256.0",
         "orientation": "v",
         "showlegend": true,
         "type": "scatter",
         "x": [
          0.05,
          0.1,
          0.15,
          0.2
         ],
         "xaxis": "x",
         "y": [
          0.0334448160535117,
          0.0256821829855537,
          0.0201342281879194,
          0.0180798004987531
         ],
         "yaxis": "y"
        },
        {
         "hovertemplate": "algorithm=LinGreedy (incremental) - 512.0<br>test_size=%{x}<br>hr=%{y}<extra></extra>",
         "legendgroup": "LinGreedy (incremental) - 512.0",
         "line": {
          "color": "#FF97FF",
          "dash": "solid"
         },
         "marker": {
          "symbol": "circle"
         },
         "mode": "lines",
         "name": "LinGreedy (incremental) - 512.0",
         "orientation": "v",
         "showlegend": true,
         "type": "scatter",
         "x": [
          0.05,
          0.1,
          0.15,
          0.2
         ],
         "xaxis": "x",
         "y": [
          0.0334448160535117,
          0.0240770465489566,
          0.0210930009587727,
          0.0180798004987531
         ],
         "yaxis": "y"
        },
        {
         "hovertemplate": "algorithm=Random - nan<br>test_size=%{x}<br>hr=%{y}<extra></extra>",
         "legendgroup": "Random - nan",
         "line": {
          "color": "#FECB52",
          "dash": "solid"
         },
         "marker": {
          "symbol": "circle"
         },
         "mode": "lines",
         "name": "Random - nan",
         "orientation": "v",
         "showlegend": true,
         "type": "scatter",
         "x": [
          0.05,
          0.1,
          0.15,
          0.2
         ],
         "xaxis": "x",
         "y": [
          0.0568561872909698,
          0.0481540930979133,
          0.0575263662511984,
          0.0467581047381546
         ],
         "yaxis": "y"
        }
       ],
       "layout": {
        "legend": {
         "title": {
          "text": "algorithm"
         },
         "tracegroupgap": 0
        },
        "template": {
         "data": {
          "bar": [
           {
            "error_x": {
             "color": "#2a3f5f"
            },
            "error_y": {
             "color": "#2a3f5f"
            },
            "marker": {
             "line": {
              "color": "#E5ECF6",
              "width": 0.5
             },
             "pattern": {
              "fillmode": "overlay",
              "size": 10,
              "solidity": 0.2
             }
            },
            "type": "bar"
           }
          ],
          "barpolar": [
           {
            "marker": {
             "line": {
              "color": "#E5ECF6",
              "width": 0.5
             },
             "pattern": {
              "fillmode": "overlay",
              "size": 10,
              "solidity": 0.2
             }
            },
            "type": "barpolar"
           }
          ],
          "carpet": [
           {
            "aaxis": {
             "endlinecolor": "#2a3f5f",
             "gridcolor": "white",
             "linecolor": "white",
             "minorgridcolor": "white",
             "startlinecolor": "#2a3f5f"
            },
            "baxis": {
             "endlinecolor": "#2a3f5f",
             "gridcolor": "white",
             "linecolor": "white",
             "minorgridcolor": "white",
             "startlinecolor": "#2a3f5f"
            },
            "type": "carpet"
           }
          ],
          "choropleth": [
           {
            "colorbar": {
             "outlinewidth": 0,
             "ticks": ""
            },
            "type": "choropleth"
           }
          ],
          "contour": [
           {
            "colorbar": {
             "outlinewidth": 0,
             "ticks": ""
            },
            "colorscale": [
             [
              0,
              "#0d0887"
             ],
             [
              0.1111111111111111,
              "#46039f"
             ],
             [
              0.2222222222222222,
              "#7201a8"
             ],
             [
              0.3333333333333333,
              "#9c179e"
             ],
             [
              0.4444444444444444,
              "#bd3786"
             ],
             [
              0.5555555555555556,
              "#d8576b"
             ],
             [
              0.6666666666666666,
              "#ed7953"
             ],
             [
              0.7777777777777778,
              "#fb9f3a"
             ],
             [
              0.8888888888888888,
              "#fdca26"
             ],
             [
              1,
              "#f0f921"
             ]
            ],
            "type": "contour"
           }
          ],
          "contourcarpet": [
           {
            "colorbar": {
             "outlinewidth": 0,
             "ticks": ""
            },
            "type": "contourcarpet"
           }
          ],
          "heatmap": [
           {
            "colorbar": {
             "outlinewidth": 0,
             "ticks": ""
            },
            "colorscale": [
             [
              0,
              "#0d0887"
             ],
             [
              0.1111111111111111,
              "#46039f"
             ],
             [
              0.2222222222222222,
              "#7201a8"
             ],
             [
              0.3333333333333333,
              "#9c179e"
             ],
             [
              0.4444444444444444,
              "#bd3786"
             ],
             [
              0.5555555555555556,
              "#d8576b"
             ],
             [
              0.6666666666666666,
              "#ed7953"
             ],
             [
              0.7777777777777778,
              "#fb9f3a"
             ],
             [
              0.8888888888888888,
              "#fdca26"
             ],
             [
              1,
              "#f0f921"
             ]
            ],
            "type": "heatmap"
           }
          ],
          "heatmapgl": [
           {
            "colorbar": {
             "outlinewidth": 0,
             "ticks": ""
            },
            "colorscale": [
             [
              0,
              "#0d0887"
             ],
             [
              0.1111111111111111,
              "#46039f"
             ],
             [
              0.2222222222222222,
              "#7201a8"
             ],
             [
              0.3333333333333333,
              "#9c179e"
             ],
             [
              0.4444444444444444,
              "#bd3786"
             ],
             [
              0.5555555555555556,
              "#d8576b"
             ],
             [
              0.6666666666666666,
              "#ed7953"
             ],
             [
              0.7777777777777778,
              "#fb9f3a"
             ],
             [
              0.8888888888888888,
              "#fdca26"
             ],
             [
              1,
              "#f0f921"
             ]
            ],
            "type": "heatmapgl"
           }
          ],
          "histogram": [
           {
            "marker": {
             "pattern": {
              "fillmode": "overlay",
              "size": 10,
              "solidity": 0.2
             }
            },
            "type": "histogram"
           }
          ],
          "histogram2d": [
           {
            "colorbar": {
             "outlinewidth": 0,
             "ticks": ""
            },
            "colorscale": [
             [
              0,
              "#0d0887"
             ],
             [
              0.1111111111111111,
              "#46039f"
             ],
             [
              0.2222222222222222,
              "#7201a8"
             ],
             [
              0.3333333333333333,
              "#9c179e"
             ],
             [
              0.4444444444444444,
              "#bd3786"
             ],
             [
              0.5555555555555556,
              "#d8576b"
             ],
             [
              0.6666666666666666,
              "#ed7953"
             ],
             [
              0.7777777777777778,
              "#fb9f3a"
             ],
             [
              0.8888888888888888,
              "#fdca26"
             ],
             [
              1,
              "#f0f921"
             ]
            ],
            "type": "histogram2d"
           }
          ],
          "histogram2dcontour": [
           {
            "colorbar": {
             "outlinewidth": 0,
             "ticks": ""
            },
            "colorscale": [
             [
              0,
              "#0d0887"
             ],
             [
              0.1111111111111111,
              "#46039f"
             ],
             [
              0.2222222222222222,
              "#7201a8"
             ],
             [
              0.3333333333333333,
              "#9c179e"
             ],
             [
              0.4444444444444444,
              "#bd3786"
             ],
             [
              0.5555555555555556,
              "#d8576b"
             ],
             [
              0.6666666666666666,
              "#ed7953"
             ],
             [
              0.7777777777777778,
              "#fb9f3a"
             ],
             [
              0.8888888888888888,
              "#fdca26"
             ],
             [
              1,
              "#f0f921"
             ]
            ],
            "type": "histogram2dcontour"
           }
          ],
          "mesh3d": [
           {
            "colorbar": {
             "outlinewidth": 0,
             "ticks": ""
            },
            "type": "mesh3d"
           }
          ],
          "parcoords": [
           {
            "line": {
             "colorbar": {
              "outlinewidth": 0,
              "ticks": ""
             }
            },
            "type": "parcoords"
           }
          ],
          "pie": [
           {
            "automargin": true,
            "type": "pie"
           }
          ],
          "scatter": [
           {
            "fillpattern": {
             "fillmode": "overlay",
             "size": 10,
             "solidity": 0.2
            },
            "type": "scatter"
           }
          ],
          "scatter3d": [
           {
            "line": {
             "colorbar": {
              "outlinewidth": 0,
              "ticks": ""
             }
            },
            "marker": {
             "colorbar": {
              "outlinewidth": 0,
              "ticks": ""
             }
            },
            "type": "scatter3d"
           }
          ],
          "scattercarpet": [
           {
            "marker": {
             "colorbar": {
              "outlinewidth": 0,
              "ticks": ""
             }
            },
            "type": "scattercarpet"
           }
          ],
          "scattergeo": [
           {
            "marker": {
             "colorbar": {
              "outlinewidth": 0,
              "ticks": ""
             }
            },
            "type": "scattergeo"
           }
          ],
          "scattergl": [
           {
            "marker": {
             "colorbar": {
              "outlinewidth": 0,
              "ticks": ""
             }
            },
            "type": "scattergl"
           }
          ],
          "scattermapbox": [
           {
            "marker": {
             "colorbar": {
              "outlinewidth": 0,
              "ticks": ""
             }
            },
            "type": "scattermapbox"
           }
          ],
          "scatterpolar": [
           {
            "marker": {
             "colorbar": {
              "outlinewidth": 0,
              "ticks": ""
             }
            },
            "type": "scatterpolar"
           }
          ],
          "scatterpolargl": [
           {
            "marker": {
             "colorbar": {
              "outlinewidth": 0,
              "ticks": ""
             }
            },
            "type": "scatterpolargl"
           }
          ],
          "scatterternary": [
           {
            "marker": {
             "colorbar": {
              "outlinewidth": 0,
              "ticks": ""
             }
            },
            "type": "scatterternary"
           }
          ],
          "surface": [
           {
            "colorbar": {
             "outlinewidth": 0,
             "ticks": ""
            },
            "colorscale": [
             [
              0,
              "#0d0887"
             ],
             [
              0.1111111111111111,
              "#46039f"
             ],
             [
              0.2222222222222222,
              "#7201a8"
             ],
             [
              0.3333333333333333,
              "#9c179e"
             ],
             [
              0.4444444444444444,
              "#bd3786"
             ],
             [
              0.5555555555555556,
              "#d8576b"
             ],
             [
              0.6666666666666666,
              "#ed7953"
             ],
             [
              0.7777777777777778,
              "#fb9f3a"
             ],
             [
              0.8888888888888888,
              "#fdca26"
             ],
             [
              1,
              "#f0f921"
             ]
            ],
            "type": "surface"
           }
          ],
          "table": [
           {
            "cells": {
             "fill": {
              "color": "#EBF0F8"
             },
             "line": {
              "color": "white"
             }
            },
            "header": {
             "fill": {
              "color": "#C8D4E3"
             },
             "line": {
              "color": "white"
             }
            },
            "type": "table"
           }
          ]
         },
         "layout": {
          "annotationdefaults": {
           "arrowcolor": "#2a3f5f",
           "arrowhead": 0,
           "arrowwidth": 1
          },
          "autotypenumbers": "strict",
          "coloraxis": {
           "colorbar": {
            "outlinewidth": 0,
            "ticks": ""
           }
          },
          "colorscale": {
           "diverging": [
            [
             0,
             "#8e0152"
            ],
            [
             0.1,
             "#c51b7d"
            ],
            [
             0.2,
             "#de77ae"
            ],
            [
             0.3,
             "#f1b6da"
            ],
            [
             0.4,
             "#fde0ef"
            ],
            [
             0.5,
             "#f7f7f7"
            ],
            [
             0.6,
             "#e6f5d0"
            ],
            [
             0.7,
             "#b8e186"
            ],
            [
             0.8,
             "#7fbc41"
            ],
            [
             0.9,
             "#4d9221"
            ],
            [
             1,
             "#276419"
            ]
           ],
           "sequential": [
            [
             0,
             "#0d0887"
            ],
            [
             0.1111111111111111,
             "#46039f"
            ],
            [
             0.2222222222222222,
             "#7201a8"
            ],
            [
             0.3333333333333333,
             "#9c179e"
            ],
            [
             0.4444444444444444,
             "#bd3786"
            ],
            [
             0.5555555555555556,
             "#d8576b"
            ],
            [
             0.6666666666666666,
             "#ed7953"
            ],
            [
             0.7777777777777778,
             "#fb9f3a"
            ],
            [
             0.8888888888888888,
             "#fdca26"
            ],
            [
             1,
             "#f0f921"
            ]
           ],
           "sequentialminus": [
            [
             0,
             "#0d0887"
            ],
            [
             0.1111111111111111,
             "#46039f"
            ],
            [
             0.2222222222222222,
             "#7201a8"
            ],
            [
             0.3333333333333333,
             "#9c179e"
            ],
            [
             0.4444444444444444,
             "#bd3786"
            ],
            [
             0.5555555555555556,
             "#d8576b"
            ],
            [
             0.6666666666666666,
             "#ed7953"
            ],
            [
             0.7777777777777778,
             "#fb9f3a"
            ],
            [
             0.8888888888888888,
             "#fdca26"
            ],
            [
             1,
             "#f0f921"
            ]
           ]
          },
          "colorway": [
           "#636efa",
           "#EF553B",
           "#00cc96",
           "#ab63fa",
           "#FFA15A",
           "#19d3f3",
           "#FF6692",
           "#B6E880",
           "#FF97FF",
           "#FECB52"
          ],
          "font": {
           "color": "#2a3f5f"
          },
          "geo": {
           "bgcolor": "white",
           "lakecolor": "white",
           "landcolor": "#E5ECF6",
           "showlakes": true,
           "showland": true,
           "subunitcolor": "white"
          },
          "hoverlabel": {
           "align": "left"
          },
          "hovermode": "closest",
          "mapbox": {
           "style": "light"
          },
          "paper_bgcolor": "white",
          "plot_bgcolor": "#E5ECF6",
          "polar": {
           "angularaxis": {
            "gridcolor": "white",
            "linecolor": "white",
            "ticks": ""
           },
           "bgcolor": "#E5ECF6",
           "radialaxis": {
            "gridcolor": "white",
            "linecolor": "white",
            "ticks": ""
           }
          },
          "scene": {
           "xaxis": {
            "backgroundcolor": "#E5ECF6",
            "gridcolor": "white",
            "gridwidth": 2,
            "linecolor": "white",
            "showbackground": true,
            "ticks": "",
            "zerolinecolor": "white"
           },
           "yaxis": {
            "backgroundcolor": "#E5ECF6",
            "gridcolor": "white",
            "gridwidth": 2,
            "linecolor": "white",
            "showbackground": true,
            "ticks": "",
            "zerolinecolor": "white"
           },
           "zaxis": {
            "backgroundcolor": "#E5ECF6",
            "gridcolor": "white",
            "gridwidth": 2,
            "linecolor": "white",
            "showbackground": true,
            "ticks": "",
            "zerolinecolor": "white"
           }
          },
          "shapedefaults": {
           "line": {
            "color": "#2a3f5f"
           }
          },
          "ternary": {
           "aaxis": {
            "gridcolor": "white",
            "linecolor": "white",
            "ticks": ""
           },
           "baxis": {
            "gridcolor": "white",
            "linecolor": "white",
            "ticks": ""
           },
           "bgcolor": "#E5ECF6",
           "caxis": {
            "gridcolor": "white",
            "linecolor": "white",
            "ticks": ""
           }
          },
          "title": {
           "x": 0.05
          },
          "xaxis": {
           "automargin": true,
           "gridcolor": "white",
           "linecolor": "white",
           "ticks": "",
           "title": {
            "standoff": 15
           },
           "zerolinecolor": "white",
           "zerolinewidth": 2
          },
          "yaxis": {
           "automargin": true,
           "gridcolor": "white",
           "linecolor": "white",
           "ticks": "",
           "title": {
            "standoff": 15
           },
           "zerolinecolor": "white",
           "zerolinewidth": 2
          }
         }
        },
        "title": {
         "text": "HR x Test size"
        },
        "xaxis": {
         "anchor": "y",
         "domain": [
          0,
          1
         ],
         "title": {
          "text": "test_size"
         }
        },
        "yaxis": {
         "anchor": "x",
         "domain": [
          0,
          1
         ],
         "title": {
          "text": "hr"
         }
        }
       }
      }
     },
     "metadata": {},
     "output_type": "display_data"
    }
   ],
   "source": [
    "algo_name = 'LinGreedy (incremental)'  # Escolha um algoritmo específico para visualizar\n",
    "\n",
    "df_results_filtered = df_results[(df_results['algorithm'] == algo_name) | (df_results['algorithm'] == 'Random')]\n",
    "df_results_filtered['algorithm'] = df_results_filtered['algorithm'] + ' - ' + df_results_filtered['factors'].astype(str)\n",
    "\n",
    "fig = px.line(df_results_filtered, x=\"test_size\", y=\"hr\", color='algorithm', title='HR x Test size')\n",
    "fig.show()"
   ]
  }
 ],
 "metadata": {
  "kernelspec": {
   "display_name": "RLRS-rllib",
   "language": "python",
   "name": "python3"
  },
  "language_info": {
   "codemirror_mode": {
    "name": "ipython",
    "version": 3
   },
   "file_extension": ".py",
   "mimetype": "text/x-python",
   "name": "python",
   "nbconvert_exporter": "python",
   "pygments_lexer": "ipython3",
   "version": "3.8.16"
  }
 },
 "nbformat": 4,
 "nbformat_minor": 2
}
