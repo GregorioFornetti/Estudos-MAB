{
 "cells": [
  {
   "cell_type": "markdown",
   "metadata": {},
   "source": [
    "# Testes de treinamento tamanho de embeddings"
   ]
  },
  {
   "cell_type": "markdown",
   "metadata": {},
   "source": [
    "A ideia deste notebook é verificar se treinar os algoritmos de MAB durante as interações de teste geram alguma melhora para eles, comparando-os com os resultados de um algoritmo estático (ALS)."
   ]
  },
  {
   "cell_type": "code",
   "execution_count": 1,
   "metadata": {},
   "outputs": [],
   "source": [
    "import pandas as pd\n",
    "from mab2rec import BanditRecommender, LearningPolicy\n",
    "from mab2rec.pipeline import train\n",
    "from sklearn.preprocessing import LabelEncoder\n",
    "import implicit\n",
    "from scipy.sparse import csr_matrix\n",
    "from implicit.nearest_neighbours import bm25_weight\n",
    "import plotly.express as px\n",
    "import time\n",
    "import os\n",
    "import math\n",
    "\n",
    "train_data = \"../data/ml100k/data_train.csv\"\n",
    "test_data = \"../data/ml100k/data_test.csv\""
   ]
  },
  {
   "cell_type": "code",
   "execution_count": 10,
   "metadata": {},
   "outputs": [],
   "source": [
    "def initial_train(df, num_users, num_items, factors):\n",
    "    K1 = 100\n",
    "    B = 0.8\n",
    "\n",
    "    # Cria a matriz esparsa\n",
    "    sparse_matrix = csr_matrix((df['response'], (df['user_id'], df['item_id'])), shape=(num_users, num_items))\n",
    "    updated_sparse_matrix = bm25_weight(sparse_matrix, K1=K1, B=B)\n",
    "    print(updated_sparse_matrix)\n",
    "\n",
    "    print('Treinando o modelo ALS')\n",
    "    ALS_model = implicit.als.AlternatingLeastSquares(factors=factors, random_state=1)\n",
    "    ALS_model.fit(updated_sparse_matrix)\n",
    "\n",
    "    user_features_list = []\n",
    "\n",
    "    for user_id in df['user_id'].unique():\n",
    "        user_factors = ALS_model.user_factors[user_id]\n",
    "        user_features_list.append([user_id] + list(user_factors))\n",
    "\n",
    "    df_user_features = pd.DataFrame(user_features_list, columns=['user_id'] + [f'u{i}' for i in range(factors)])\n",
    "\n",
    "    return ALS_model,  df_user_features, sparse_matrix"
   ]
  },
  {
   "cell_type": "code",
   "execution_count": 11,
   "metadata": {},
   "outputs": [],
   "source": [
    "\n",
    "def test_ALS(ALS_model, sparse_matrix, df_test):\n",
    "    print('Testing ALS')\n",
    "    all_recs = []\n",
    "\n",
    "    start_time = time.time()\n",
    "    hits = 0\n",
    "    for i, interaction in df_test.iterrows():\n",
    "        ids_recs, _ = ALS_model.recommend(userid=interaction['user_id'], user_items=sparse_matrix[interaction['user_id']], N=10)\n",
    "        if interaction['item_id'] in ids_recs:\n",
    "            hits += 1\n",
    "        all_recs.append(ids_recs.tolist())\n",
    "    \n",
    "    recs_df = pd.DataFrame({\n",
    "        'interaction_number': [i for i in range(len(df_test))],\n",
    "        'user_id': df_test['user_id'],\n",
    "        'item_id': df_test['item_id'],\n",
    "        'recommendations': all_recs\n",
    "    })\n",
    "    \n",
    "\n",
    "    return hits, hits/len(df_test), time.time() - start_time, recs_df"
   ]
  },
  {
   "cell_type": "code",
   "execution_count": null,
   "metadata": {},
   "outputs": [],
   "source": [
    "def test_non_incremental(mab_algo, algo_name, user_features, df_test):\n",
    "    start_time = time.time()\n",
    "    hits = 0\n",
    "\n",
    "    contexts = df_test.merge(user_features, on='user_id').drop(columns=['user_id', 'item_id', 'response']).values\n",
    "\n",
    "    recomendations = mab_algo.recommend(contexts)\n",
    "\n",
    "    df_test = df_test.reset_index(drop=True)\n",
    "\n",
    "    hits = 0\n",
    "    for i, interaction in df_test.iterrows():\n",
    "        if interaction['item_id'] in recomendations[i]:\n",
    "            hits += 1\n",
    "    \n",
    "    recs_df = pd.DataFrame({\n",
    "        'interaction_number': [i for i in range(len(df_test))],\n",
    "        'user_id': df_test['user_id'],\n",
    "        'item_id': df_test['item_id'],\n",
    "        'recommendations': recomendations\n",
    "    })\n",
    "\n",
    "    return hits, hits/len(df_test), time.time() - start_time, recs_df"
   ]
  },
  {
   "cell_type": "code",
   "execution_count": null,
   "metadata": {},
   "outputs": [],
   "source": [
    "def test_incremental(mab_algo, algo_name, user_features, df_test, df_test_for_evaluation, batch_size):\n",
    "    recs = []\n",
    "\n",
    "    start_time = time.time()\n",
    "    hits = 0\n",
    "\n",
    "    for i in range(0, len(df_test), batch_size):\n",
    "        # Fazendo recomendações para teste\n",
    "        df_batch_test = df_test_for_evaluation.loc[i:i+batch_size-1]\n",
    "        contexts = df_batch_test.merge(user_features, on='user_id').drop(columns=['user_id', 'item_id', 'response']).values\n",
    "\n",
    "        if len(contexts) > 0: # Se não tiver nenhuma interação positiva, não faz sentido fazer recomendações\n",
    "            recomendations = mab_algo.recommend(contexts)\n",
    "            if isinstance(recomendations, list) and isinstance(recomendations[0], int):\n",
    "                # Quando o contexto tem tamanho 1, a recomendação é uma lista, e não uma lista de listas\n",
    "                recomendations = [recomendations]\n",
    "\n",
    "            df_batch_test = df_batch_test.reset_index(drop=True)\n",
    "\n",
    "            for j, interaction in df_batch_test.iterrows():\n",
    "                if interaction['item_id'] in recomendations[j]:\n",
    "                    hits += 1\n",
    "            \n",
    "            recs.extend(recomendations)\n",
    "        \n",
    "        # Treinando com o batch\n",
    "        df_batch_train = df_test.loc[i:i+batch_size-1]\n",
    "        contexts = df_batch_train.merge(user_features, on='user_id').drop(columns=['user_id', 'item_id', 'response']).values\n",
    "\n",
    "        mab_algo.partial_fit(df_batch_train['item_id'], df_batch_train['response'], contexts)\n",
    "    \n",
    "    recs_df = pd.DataFrame({\n",
    "        'interaction_number': [i for i in range(len(df_test_for_evaluation))],\n",
    "        'user_id': df_test_for_evaluation['user_id'],\n",
    "        'item_id': df_test_for_evaluation['item_id'],\n",
    "        'recommendations': recs\n",
    "    })\n",
    "\n",
    "    return hits, hits/len(df_test_for_evaluation), time.time() - start_time, recs_df"
   ]
  },
  {
   "cell_type": "code",
   "execution_count": null,
   "metadata": {},
   "outputs": [],
   "source": [
    "def test(train_size, factors_list):\n",
    "    save_path = f'results-v3/{round(train_size * 100):02}-{round((1 - train_size) * 100):02}'\n",
    "    if not os.path.exists(save_path):\n",
    "        os.makedirs(save_path)\n",
    "    \n",
    "    results = []\n",
    "    df_recs = pd.DataFrame(columns=['algorithm', 'hiperparams', 'batch_size', 'interaction_number', 'user_id', 'item_id', 'recommendations'])\n",
    "    df_train = pd.read_csv(train_data)\n",
    "    df_test = pd.read_csv(test_data)\n",
    "\n",
    "    df_full = pd.concat([df_train, df_test])\n",
    "\n",
    "    df_full['user_id'] = LabelEncoder().fit_transform(df_full['user_id'])\n",
    "    df_full['item_id'] = LabelEncoder().fit_transform(df_full['item_id'])\n",
    "\n",
    "    num_users = df_full['user_id'].nunique()\n",
    "    num_items = df_full['item_id'].nunique()\n",
    "\n",
    "    split_index = int(len(df_full) * train_size)\n",
    "    df_train = df_full[:split_index]\n",
    "    df_test = df_full[split_index:]\n",
    "\n",
    "    df_test = df_test[(df_test['user_id'].isin(df_train['user_id'])) & (df_test['item_id'].isin(df_train['item_id']))]\n",
    "    df_test = df_test.reset_index(drop=True)\n",
    "    df_test_for_evaluation = df_test[df_test['response'] == 1]\n",
    "\n",
    "    for factors in factors_list:\n",
    "        print(f'Treinando com {factors} fatores')\n",
    "\n",
    "        ALS_model, df_user_features, sparse_matrix = initial_train(df_train, num_users, num_items, factors)\n",
    "\n",
    "        hits, hr, spent_time, df_recs_als = test_ALS(ALS_model, sparse_matrix, df_test_for_evaluation)\n",
    "        df_recs_als['algorithm'] = 'ALS'\n",
    "        df_recs_als['factors'] = [factors for _ in range(len(df_recs_als))]\n",
    "        df_recs = pd.concat([df_recs, df_recs_als])\n",
    "        results.append({'algorithm': 'ALS', 'hits': hits, 'hr': hr, 'time': spent_time, 'factors': factors})\n",
    "\n",
    "        print('\\nTesting LinUCB non-incremental\\n')\n",
    "\n",
    "        linUCB_model = BanditRecommender(learning_policy=LearningPolicy.LinUCB(alpha=0.1), top_k=10)\n",
    "        train(linUCB_model, data=df_train, user_features=df_user_features)\n",
    "\n",
    "        hits, hr, spent_time, df_recs_linUCB = test_non_incremental(linUCB_model, 'LinUCB', df_user_features, df_test_for_evaluation)\n",
    "        df_recs_linUCB['algorithm'] = 'LinUCB (non_incremental)'\n",
    "        df_recs_linUCB['factors'] = [factors for _ in range(len(df_recs_linUCB))]\n",
    "        df_recs = pd.concat([df_recs, df_recs_linUCB])\n",
    "        results.append({'algorithm': 'LinUCB (non_incremental)', 'hits': hits, 'hr': hr, 'time': spent_time, 'factors': factors})\n",
    "\n",
    "        print('\\nTesting LinGreedy non-incremental\\n')\n",
    "\n",
    "        linGreedy_model = BanditRecommender(learning_policy=LearningPolicy.LinGreedy(epsilon=0.01), top_k=10)\n",
    "        train(linGreedy_model, data=df_train, user_features=df_user_features)\n",
    "\n",
    "        hits, hr, spent_time, df_recs_linGreedy = test_non_incremental(linGreedy_model, 'LinGreedy', df_user_features, df_test_for_evaluation)\n",
    "        df_recs_linGreedy['algorithm'] = 'LinGreedy (non_incremental)'\n",
    "        df_recs_linGreedy['factors'] = [factors for _ in range(len(df_recs_linGreedy))]\n",
    "        df_recs = pd.concat([df_recs, df_recs_linGreedy])\n",
    "        results.append({'algorithm': 'LinGreedy (non_incremental)', 'hits': hits, 'hr': hr, 'time': spent_time, 'factors': factors})\n",
    "\n",
    "        print('\\nTesting LinUCB incremental\\n')\n",
    "\n",
    "        linUCB_model = BanditRecommender(learning_policy=LearningPolicy.LinUCB(alpha=0.1), top_k=10)\n",
    "        train(linUCB_model, data=df_train, user_features=df_user_features)\n",
    "\n",
    "        hits, hr, spent_time, df_recs_linUCB = test_incremental(linUCB_model, 'LinUCB', df_user_features, df_test, df_test_for_evaluation, 10)\n",
    "        df_recs_linUCB['algorithm'] = 'LinUCB (incremental)'\n",
    "        df_recs_linUCB['factors'] = [factors for _ in range(len(df_recs_linUCB))]\n",
    "        df_recs = pd.concat([df_recs, df_recs_linUCB])\n",
    "        results.append({'algorithm': 'LinUCB (incremental)', 'hits': hits, 'hr': hr, 'time': spent_time, 'factors': factors})\n",
    "\n",
    "        print('\\nTesting LinGreedy incremental\\n')\n",
    "\n",
    "        linGreedy_model = BanditRecommender(learning_policy=LearningPolicy.LinGreedy(epsilon=0.01), top_k=10)\n",
    "        train(linGreedy_model, data=df_train, user_features=df_user_features)\n",
    "\n",
    "        hits, hr, spent_time, df_recs_linGreedy = test_incremental(linGreedy_model, 'LinGreedy', df_user_features, df_test, df_test_for_evaluation, 10)\n",
    "        df_recs_linGreedy['algorithm'] = 'LinGreedy (incremental)'\n",
    "        df_recs_linGreedy['factors'] = [factors for _ in range(len(df_recs_linGreedy))]\n",
    "        df_recs = pd.concat([df_recs, df_recs_linGreedy])\n",
    "        results.append({'algorithm': 'LinGreedy (incremental)', 'hits': hits, 'hr': hr, 'time': spent_time, 'factors': factors})\n",
    "\n",
    "    print('\\nTesting Random\\n')\n",
    "\n",
    "    random_model = BanditRecommender(learning_policy=LearningPolicy.Random(), top_k=10)\n",
    "    train(random_model, data=df_train, user_features=df_user_features)\n",
    "\n",
    "    hits, hr, spent_time, df_recs_random = test_non_incremental(random_model, 'Random', df_user_features, df_test_for_evaluation)\n",
    "    df_recs_random['algorithm'] = 'Random'\n",
    "    df_recs = pd.concat([df_recs, df_recs_random])\n",
    "    results.append({'algorithm': 'Random', 'hits': hits, 'hr': hr, 'time': spent_time})\n",
    "    \n",
    "    df_results = pd.DataFrame(results)\n",
    "    df_results = df_results.astype({'hits': int, 'hr': float, 'time': float})\n",
    "    df_results['test_size'] = round(1 - train_size, 2)\n",
    "    df_results['test_interactions'] = len(df_test_for_evaluation)\n",
    "\n",
    "    df_results.to_csv(f'{save_path}/results.csv', index=False)\n",
    "    df_recs.to_csv(f'{save_path}/recs.csv', index=False)"
   ]
  },
  {
   "cell_type": "code",
   "execution_count": null,
   "metadata": {},
   "outputs": [],
   "source": [
    "train_sizes = [0.95, 0.90, 0.85, 0.80]\n",
    "factors_list = [2, 4, 8, 16, 32, 64, 128, 256, 512]\n",
    "\n",
    "for train_size in train_sizes:\n",
    "    test(\n",
    "        train_size=train_size, \n",
    "        factors_list=factors_list\n",
    "    )"
   ]
  },
  {
   "cell_type": "code",
   "execution_count": null,
   "metadata": {},
   "outputs": [],
   "source": [
    "train_sizes = [0.95, 0.90, 0.85, 0.80]\n",
    "all_dfs = []\n",
    "\n",
    "for train_size in train_sizes:\n",
    "    save_path = f'results-v3/{round(train_size * 100):02}-{round((1 - train_size) * 100):02}/results.csv'\n",
    "    all_dfs.append(pd.read_csv(save_path))\n",
    "    \n",
    "df_results = pd.concat(all_dfs)\n",
    "df_results"
   ]
  },
  {
   "cell_type": "code",
   "execution_count": null,
   "metadata": {},
   "outputs": [],
   "source": [
    "df_results.to_csv('results-v3/concat_results.csv', index=False)"
   ]
  },
  {
   "cell_type": "code",
   "execution_count": null,
   "metadata": {},
   "outputs": [],
   "source": [
    "df_results_new = df_results.copy()\n",
    "df_results_new['algorithm'] = df_results_new['algorithm'] + ' - ' + df_results_new['factors'].astype(str)\n",
    "\n",
    "fig = px.line(df_results_new, x=\"test_size\", y=\"hr\", color='algorithm', title='HR x Test size')\n",
    "fig.show()\n",
    "fig.write_html('results-v3/hr_x_test_size.html')"
   ]
  },
  {
   "cell_type": "code",
   "execution_count": null,
   "metadata": {},
   "outputs": [],
   "source": [
    "algo_name = 'LinGreedy (incremental)'  # Escolha um algoritmo específico para visualizar\n",
    "\n",
    "df_results_filtered = df_results[(df_results['algorithm'] == algo_name) | (df_results['algorithm'] == 'Random')]\n",
    "df_results_filtered['algorithm'] = df_results_filtered['algorithm'] + ' - ' + df_results_filtered['factors'].astype(str)\n",
    "\n",
    "fig = px.line(df_results_filtered, x=\"test_size\", y=\"hr\", color='algorithm', title='HR x Test size')\n",
    "fig.show()"
   ]
  },
  {
   "cell_type": "markdown",
   "metadata": {},
   "source": [
    "## Testando ALS e BPR"
   ]
  },
  {
   "cell_type": "code",
   "execution_count": 2,
   "metadata": {},
   "outputs": [],
   "source": [
    "def test_ALS(df_train, df_test, num_users, num_items, factors, use_weights):\n",
    "    # Cria a matriz esparsa\n",
    "    sparse_matrix = csr_matrix((df_train['response'], (df_train['user_id'], df_train['item_id'])), shape=(num_users, num_items))\n",
    "\n",
    "    print(f'Treinando o modelo ALS - weights: {use_weights}')\n",
    "    ALS_model = implicit.als.AlternatingLeastSquares(factors=factors, random_state=1)\n",
    "    if use_weights:\n",
    "        ALS_model.fit(bm25_weight(sparse_matrix, K1=100, B=0.8))\n",
    "    else:\n",
    "        ALS_model.fit(sparse_matrix)\n",
    "\n",
    "    print('Testing ALS')\n",
    "    all_recs = []\n",
    "\n",
    "    start_time = time.time()\n",
    "    hits = 0\n",
    "    for i, interaction in df_test.iterrows():\n",
    "        ids_recs, _ = ALS_model.recommend(userid=interaction['user_id'], user_items=sparse_matrix[interaction['user_id']], N=10)\n",
    "        if interaction['item_id'] in ids_recs:\n",
    "            hits += 1\n",
    "        all_recs.append(ids_recs.tolist())\n",
    "    \n",
    "    recs_df = pd.DataFrame({\n",
    "        'interaction_number': [i for i in range(len(df_test))],\n",
    "        'user_id': df_test['user_id'],\n",
    "        'item_id': df_test['item_id'],\n",
    "        'recommendations': all_recs\n",
    "    })\n",
    "    \n",
    "    return hits, hits/len(df_test), time.time() - start_time, recs_df\n",
    "\n",
    "def test_BPR(df_train, df_test, num_users, num_items, factors, use_weights):\n",
    "    # Cria a matriz esparsa\n",
    "    sparse_matrix = csr_matrix((df_train['response'], (df_train['user_id'], df_train['item_id'])), shape=(num_users, num_items))\n",
    "\n",
    "    print(f'Treinando o modelo BPR - weights: {use_weights}')\n",
    "    BPR_model = implicit.bpr.BayesianPersonalizedRanking(factors=factors, random_state=1)\n",
    "    if use_weights:\n",
    "        BPR_model.fit(bm25_weight(sparse_matrix, K1=100, B=0.8))\n",
    "    else:\n",
    "        BPR_model.fit(sparse_matrix)\n",
    "\n",
    "    print('Testing BPR')\n",
    "    all_recs = []\n",
    "\n",
    "    start_time = time.time()\n",
    "    hits = 0\n",
    "    for i, interaction in df_test.iterrows():\n",
    "        ids_recs, _ = BPR_model.recommend(userid=interaction['user_id'], user_items=sparse_matrix[interaction['user_id']], N=10)\n",
    "        if interaction['item_id'] in ids_recs:\n",
    "            hits += 1\n",
    "        all_recs.append(ids_recs.tolist())\n",
    "    \n",
    "    recs_df = pd.DataFrame({\n",
    "        'interaction_number': [i for i in range(len(df_test))],\n",
    "        'user_id': df_test['user_id'],\n",
    "        'item_id': df_test['item_id'],\n",
    "        'recommendations': all_recs\n",
    "    })\n",
    "    \n",
    "    return hits, hits/len(df_test), time.time() - start_time, recs_df"
   ]
  },
  {
   "cell_type": "code",
   "execution_count": 8,
   "metadata": {},
   "outputs": [],
   "source": [
    "def test(train_size, factors_list):\n",
    "    save_path = f'results-v3/{round(train_size * 100):02}-{round((1 - train_size) * 100):02}'\n",
    "    if not os.path.exists(save_path):\n",
    "        os.makedirs(save_path)\n",
    "    \n",
    "    results = []\n",
    "    df_recs = pd.DataFrame(columns=['algorithm', 'hiperparams', 'batch_size', 'interaction_number', 'user_id', 'item_id', 'recommendations'])\n",
    "    df_train = pd.read_csv(train_data)\n",
    "    df_test = pd.read_csv(test_data)\n",
    "\n",
    "    df_full = pd.concat([df_train, df_test])\n",
    "\n",
    "    df_full['user_id'] = LabelEncoder().fit_transform(df_full['user_id'])\n",
    "    df_full['item_id'] = LabelEncoder().fit_transform(df_full['item_id'])\n",
    "\n",
    "    num_users = df_full['user_id'].nunique()\n",
    "    num_items = df_full['item_id'].nunique()\n",
    "\n",
    "    split_index = int(len(df_full) * train_size)\n",
    "    df_train = df_full[:split_index]\n",
    "    df_test = df_full[split_index:]\n",
    "\n",
    "    df_test = df_test[(df_test['user_id'].isin(df_train['user_id'])) & (df_test['item_id'].isin(df_train['item_id']))]\n",
    "    df_test = df_test.reset_index(drop=True)\n",
    "    df_test_for_evaluation = df_test[df_test['response'] == 1]\n",
    "\n",
    "    for factors in factors_list:\n",
    "        print(f'Treinando com {factors} fatores')\n",
    "\n",
    "        hits, hr, spent_time, df_recs_als = test_ALS(df_train, df_test_for_evaluation, num_users, num_items, factors, use_weights=True)\n",
    "        df_recs_als['algorithm'] = 'ALS (weights)'\n",
    "        df_recs_als['factors'] = [factors for _ in range(len(df_recs_als))]\n",
    "        df_recs = pd.concat([df_recs, df_recs_als])\n",
    "        results.append({'algorithm': 'ALS', 'hits': hits, 'hr': hr, 'time': spent_time, 'factors': factors, 'weighted': True})\n",
    "\n",
    "        hits, hr, spent_time, df_recs_als = test_ALS(df_train, df_test_for_evaluation, num_users, num_items, factors, use_weights=False)\n",
    "        df_recs_als['algorithm'] = 'ALS (no weights)'\n",
    "        df_recs_als['factors'] = [factors for _ in range(len(df_recs_als))]\n",
    "        df_recs = pd.concat([df_recs, df_recs_als])\n",
    "        results.append({'algorithm': 'ALS', 'hits': hits, 'hr': hr, 'time': spent_time, 'factors': factors, 'weighted': False})\n",
    "\n",
    "        hits, hr, spent_time, df_recs_bpr = test_BPR(df_train, df_test_for_evaluation, num_users, num_items, factors, use_weights=True)\n",
    "        df_recs_bpr['algorithm'] = 'BPR (weights)'\n",
    "        df_recs_bpr['factors'] = [factors for _ in range(len(df_recs_bpr))]\n",
    "        df_recs = pd.concat([df_recs, df_recs_bpr])\n",
    "        results.append({'algorithm': 'BPR', 'hits': hits, 'hr': hr, 'time': spent_time, 'factors': factors, 'weighted': True})\n",
    "\n",
    "        hits, hr, spent_time, df_recs_bpr = test_BPR(df_train, df_test_for_evaluation, num_users, num_items, factors, use_weights=False)\n",
    "        df_recs_bpr['algorithm'] = 'BPR (no weights)'\n",
    "        df_recs_bpr['factors'] = [factors for _ in range(len(df_recs_bpr))]\n",
    "        df_recs = pd.concat([df_recs, df_recs_bpr])\n",
    "        results.append({'algorithm': 'BPR', 'hits': hits, 'hr': hr, 'time': spent_time, 'factors': factors, 'weighted': False})\n",
    "    \n",
    "    df_results = pd.DataFrame(results)\n",
    "    df_results = df_results.astype({'hits': int, 'hr': float, 'time': float})\n",
    "    df_results['test_size'] = round(1 - train_size, 2)\n",
    "    df_results['test_interactions'] = len(df_test_for_evaluation)\n",
    "\n",
    "    df_results.to_csv(f'{save_path}/results_2.csv', index=False)\n",
    "    df_recs.to_csv(f'{save_path}/recs_2.csv', index=False)"
   ]
  },
  {
   "cell_type": "code",
   "execution_count": null,
   "metadata": {},
   "outputs": [],
   "source": [
    "train_sizes = [0.95, 0.90, 0.85, 0.80, 0.75, 0.70, 0.65, 0.60, 0.55, 0.50, 0.45, 0.40, 0.35, 0.30, 0.25, 0.20, 0.15, 0.10, 0.05]\n",
    "factors_list = [2, 4, 8, 16, 32, 64, 128, 256, 512]\n",
    "\n",
    "for train_size in train_sizes:\n",
    "    test(\n",
    "        train_size=train_size, \n",
    "        factors_list=factors_list\n",
    "    )"
   ]
  },
  {
   "cell_type": "code",
   "execution_count": 10,
   "metadata": {},
   "outputs": [
    {
     "data": {
      "text/html": [
       "<div>\n",
       "<style scoped>\n",
       "    .dataframe tbody tr th:only-of-type {\n",
       "        vertical-align: middle;\n",
       "    }\n",
       "\n",
       "    .dataframe tbody tr th {\n",
       "        vertical-align: top;\n",
       "    }\n",
       "\n",
       "    .dataframe thead th {\n",
       "        text-align: right;\n",
       "    }\n",
       "</style>\n",
       "<table border=\"1\" class=\"dataframe\">\n",
       "  <thead>\n",
       "    <tr style=\"text-align: right;\">\n",
       "      <th></th>\n",
       "      <th>algorithm</th>\n",
       "      <th>hits</th>\n",
       "      <th>hr</th>\n",
       "      <th>time</th>\n",
       "      <th>factors</th>\n",
       "      <th>weighted</th>\n",
       "      <th>test_size</th>\n",
       "      <th>test_interactions</th>\n",
       "    </tr>\n",
       "  </thead>\n",
       "  <tbody>\n",
       "    <tr>\n",
       "      <th>0</th>\n",
       "      <td>ALS</td>\n",
       "      <td>36</td>\n",
       "      <td>0.120401</td>\n",
       "      <td>0.395511</td>\n",
       "      <td>2</td>\n",
       "      <td>True</td>\n",
       "      <td>0.05</td>\n",
       "      <td>299</td>\n",
       "    </tr>\n",
       "    <tr>\n",
       "      <th>1</th>\n",
       "      <td>ALS</td>\n",
       "      <td>61</td>\n",
       "      <td>0.204013</td>\n",
       "      <td>0.291941</td>\n",
       "      <td>2</td>\n",
       "      <td>False</td>\n",
       "      <td>0.05</td>\n",
       "      <td>299</td>\n",
       "    </tr>\n",
       "    <tr>\n",
       "      <th>2</th>\n",
       "      <td>BPR</td>\n",
       "      <td>55</td>\n",
       "      <td>0.183946</td>\n",
       "      <td>0.479958</td>\n",
       "      <td>2</td>\n",
       "      <td>True</td>\n",
       "      <td>0.05</td>\n",
       "      <td>299</td>\n",
       "    </tr>\n",
       "    <tr>\n",
       "      <th>3</th>\n",
       "      <td>BPR</td>\n",
       "      <td>56</td>\n",
       "      <td>0.187291</td>\n",
       "      <td>0.433213</td>\n",
       "      <td>2</td>\n",
       "      <td>False</td>\n",
       "      <td>0.05</td>\n",
       "      <td>299</td>\n",
       "    </tr>\n",
       "    <tr>\n",
       "      <th>4</th>\n",
       "      <td>ALS</td>\n",
       "      <td>46</td>\n",
       "      <td>0.153846</td>\n",
       "      <td>0.375233</td>\n",
       "      <td>4</td>\n",
       "      <td>True</td>\n",
       "      <td>0.05</td>\n",
       "      <td>299</td>\n",
       "    </tr>\n",
       "    <tr>\n",
       "      <th>...</th>\n",
       "      <td>...</td>\n",
       "      <td>...</td>\n",
       "      <td>...</td>\n",
       "      <td>...</td>\n",
       "      <td>...</td>\n",
       "      <td>...</td>\n",
       "      <td>...</td>\n",
       "      <td>...</td>\n",
       "    </tr>\n",
       "    <tr>\n",
       "      <th>31</th>\n",
       "      <td>BPR</td>\n",
       "      <td>507</td>\n",
       "      <td>0.061514</td>\n",
       "      <td>5.727622</td>\n",
       "      <td>256</td>\n",
       "      <td>False</td>\n",
       "      <td>0.95</td>\n",
       "      <td>8242</td>\n",
       "    </tr>\n",
       "    <tr>\n",
       "      <th>32</th>\n",
       "      <td>ALS</td>\n",
       "      <td>569</td>\n",
       "      <td>0.069037</td>\n",
       "      <td>5.831882</td>\n",
       "      <td>512</td>\n",
       "      <td>True</td>\n",
       "      <td>0.95</td>\n",
       "      <td>8242</td>\n",
       "    </tr>\n",
       "    <tr>\n",
       "      <th>33</th>\n",
       "      <td>ALS</td>\n",
       "      <td>451</td>\n",
       "      <td>0.054720</td>\n",
       "      <td>5.867893</td>\n",
       "      <td>512</td>\n",
       "      <td>False</td>\n",
       "      <td>0.95</td>\n",
       "      <td>8242</td>\n",
       "    </tr>\n",
       "    <tr>\n",
       "      <th>34</th>\n",
       "      <td>BPR</td>\n",
       "      <td>493</td>\n",
       "      <td>0.059816</td>\n",
       "      <td>5.744270</td>\n",
       "      <td>512</td>\n",
       "      <td>True</td>\n",
       "      <td>0.95</td>\n",
       "      <td>8242</td>\n",
       "    </tr>\n",
       "    <tr>\n",
       "      <th>35</th>\n",
       "      <td>BPR</td>\n",
       "      <td>492</td>\n",
       "      <td>0.059694</td>\n",
       "      <td>5.691144</td>\n",
       "      <td>512</td>\n",
       "      <td>False</td>\n",
       "      <td>0.95</td>\n",
       "      <td>8242</td>\n",
       "    </tr>\n",
       "  </tbody>\n",
       "</table>\n",
       "<p>684 rows × 8 columns</p>\n",
       "</div>"
      ],
      "text/plain": [
       "   algorithm  hits        hr      time  factors  weighted  test_size  \\\n",
       "0        ALS    36  0.120401  0.395511        2      True       0.05   \n",
       "1        ALS    61  0.204013  0.291941        2     False       0.05   \n",
       "2        BPR    55  0.183946  0.479958        2      True       0.05   \n",
       "3        BPR    56  0.187291  0.433213        2     False       0.05   \n",
       "4        ALS    46  0.153846  0.375233        4      True       0.05   \n",
       "..       ...   ...       ...       ...      ...       ...        ...   \n",
       "31       BPR   507  0.061514  5.727622      256     False       0.95   \n",
       "32       ALS   569  0.069037  5.831882      512      True       0.95   \n",
       "33       ALS   451  0.054720  5.867893      512     False       0.95   \n",
       "34       BPR   493  0.059816  5.744270      512      True       0.95   \n",
       "35       BPR   492  0.059694  5.691144      512     False       0.95   \n",
       "\n",
       "    test_interactions  \n",
       "0                 299  \n",
       "1                 299  \n",
       "2                 299  \n",
       "3                 299  \n",
       "4                 299  \n",
       "..                ...  \n",
       "31               8242  \n",
       "32               8242  \n",
       "33               8242  \n",
       "34               8242  \n",
       "35               8242  \n",
       "\n",
       "[684 rows x 8 columns]"
      ]
     },
     "execution_count": 10,
     "metadata": {},
     "output_type": "execute_result"
    }
   ],
   "source": [
    "train_sizes = [0.95, 0.90, 0.85, 0.80, 0.75, 0.70, 0.65, 0.60, 0.55, 0.50, 0.45, 0.40, 0.35, 0.30, 0.25, 0.20, 0.15, 0.10, 0.05]\n",
    "all_dfs = []\n",
    "\n",
    "for train_size in train_sizes:\n",
    "    save_path = f'results-v3/{round(train_size * 100):02}-{round((1 - train_size) * 100):02}/results_2.csv'\n",
    "    all_dfs.append(pd.read_csv(save_path))\n",
    "    \n",
    "df_results = pd.concat(all_dfs)\n",
    "df_results"
   ]
  },
  {
   "cell_type": "code",
   "execution_count": 11,
   "metadata": {},
   "outputs": [],
   "source": [
    "df_results.to_csv('results-v3/concat_results_2.csv', index=False)"
   ]
  },
  {
   "cell_type": "code",
   "execution_count": 14,
   "metadata": {},
   "outputs": [
    {
     "data": {
      "application/vnd.plotly.v1+json": {
       "config": {
        "plotlyServerURL": "https://plot.ly"
       },
       "data": [
        {
         "hovertemplate": "algorithm=ALS - 2 - weighted<br>test_size=%{x}<br>hr=%{y}<extra></extra>",
         "legendgroup": "ALS - 2 - weighted",
         "line": {
          "color": "#636efa",
          "dash": "solid"
         },
         "marker": {
          "symbol": "circle"
         },
         "mode": "lines",
         "name": "ALS - 2 - weighted",
         "orientation": "v",
         "showlegend": true,
         "type": "scatter",
         "x": [
          0.05,
          0.1,
          0.15,
          0.2,
          0.25,
          0.3,
          0.35,
          0.4,
          0.45,
          0.5,
          0.55,
          0.6,
          0.65,
          0.7,
          0.75,
          0.8,
          0.85,
          0.9,
          0.95
         ],
         "xaxis": "x",
         "y": [
          0.1204013377926421,
          0.1107544141252006,
          0.162032598274209,
          0.2082294264339152,
          0.2132387706855792,
          0.2194381169324221,
          0.2205323193916349,
          0.2200488997555012,
          0.2145065398335315,
          0.2094794752433347,
          0.203047619047619,
          0.1941613404733114,
          0.1661392405063291,
          0.1620518799183911,
          0.1545319465081723,
          0.134316967692699,
          0.1236429433051869,
          0.1156422611352685,
          0.0931812666828439
         ],
         "yaxis": "y"
        },
        {
         "hovertemplate": "algorithm=ALS - 2 - no_weighted<br>test_size=%{x}<br>hr=%{y}<extra></extra>",
         "legendgroup": "ALS - 2 - no_weighted",
         "line": {
          "color": "#EF553B",
          "dash": "solid"
         },
         "marker": {
          "symbol": "circle"
         },
         "mode": "lines",
         "name": "ALS - 2 - no_weighted",
         "orientation": "v",
         "showlegend": true,
         "type": "scatter",
         "x": [
          0.05,
          0.1,
          0.15,
          0.2,
          0.25,
          0.3,
          0.35,
          0.4,
          0.45,
          0.5,
          0.55,
          0.6,
          0.65,
          0.7,
          0.75,
          0.8,
          0.85,
          0.9,
          0.95
         ],
         "xaxis": "x",
         "y": [
          0.2040133779264214,
          0.1829855537720706,
          0.1984659635666347,
          0.2188279301745636,
          0.2307328605200945,
          0.2247532270311313,
          0.2243346007604562,
          0.2151589242053789,
          0.2109393579072532,
          0.194033008887008,
          0.1868571428571428,
          0.1710139920538953,
          0.1579113924050633,
          0.1489361702127659,
          0.1510198568148048,
          0.129483591961333,
          0.1097708082026538,
          0.1139969444117992,
          0.0890560543557388
         ],
         "yaxis": "y"
        },
        {
         "hovertemplate": "algorithm=BPR - 2 - weighted<br>test_size=%{x}<br>hr=%{y}<extra></extra>",
         "legendgroup": "BPR - 2 - weighted",
         "line": {
          "color": "#00cc96",
          "dash": "solid"
         },
         "marker": {
          "symbol": "circle"
         },
         "mode": "lines",
         "name": "BPR - 2 - weighted",
         "orientation": "v",
         "showlegend": true,
         "type": "scatter",
         "x": [
          0.05,
          0.1,
          0.15,
          0.2,
          0.25,
          0.3,
          0.35,
          0.4,
          0.45,
          0.5,
          0.55,
          0.6,
          0.65,
          0.7,
          0.75,
          0.8,
          0.85,
          0.9,
          0.95
         ],
         "xaxis": "x",
         "y": [
          0.1839464882943143,
          0.1396468699839486,
          0.1610738255033557,
          0.183291770573566,
          0.1754137115839243,
          0.1757782839787395,
          0.1717363751584283,
          0.1591958706873132,
          0.1536266349583828,
          0.148328396106644,
          0.1379047619047619,
          0.1153912592848505,
          0.1199367088607595,
          0.1063829787234042,
          0.1006348777522626,
          0.0779699821928262,
          0.0735826296743064,
          0.0796803384651545,
          0.0554477068672652
         ],
         "yaxis": "y"
        },
        {
         "hovertemplate": "algorithm=BPR - 2 - no_weighted<br>test_size=%{x}<br>hr=%{y}<extra></extra>",
         "legendgroup": "BPR - 2 - no_weighted",
         "line": {
          "color": "#ab63fa",
          "dash": "solid"
         },
         "marker": {
          "symbol": "circle"
         },
         "mode": "lines",
         "name": "BPR - 2 - no_weighted",
         "orientation": "v",
         "showlegend": true,
         "type": "scatter",
         "x": [
          0.05,
          0.1,
          0.15,
          0.2,
          0.25,
          0.3,
          0.35,
          0.4,
          0.45,
          0.5,
          0.55,
          0.6,
          0.65,
          0.7,
          0.75,
          0.8,
          0.85,
          0.9,
          0.95
         ],
         "xaxis": "x",
         "y": [
          0.1872909698996655,
          0.1428571428571428,
          0.1572387344199424,
          0.185785536159601,
          0.1721040189125295,
          0.1765375854214123,
          0.1723700887198986,
          0.1597392013039934,
          0.1555291319857312,
          0.1460008463817181,
          0.1386666666666666,
          0.1126273967870098,
          0.1221518987341772,
          0.1060915185077236,
          0.1006348777522626,
          0.0793691172729585,
          0.0750301568154402,
          0.0792102479727347,
          0.0570249939335112
         ],
         "yaxis": "y"
        },
        {
         "hovertemplate": "algorithm=ALS - 4 - weighted<br>test_size=%{x}<br>hr=%{y}<extra></extra>",
         "legendgroup": "ALS - 4 - weighted",
         "line": {
          "color": "#FFA15A",
          "dash": "solid"
         },
         "marker": {
          "symbol": "circle"
         },
         "mode": "lines",
         "name": "ALS - 4 - weighted",
         "orientation": "v",
         "showlegend": true,
         "type": "scatter",
         "x": [
          0.05,
          0.1,
          0.15,
          0.2,
          0.25,
          0.3,
          0.35,
          0.4,
          0.45,
          0.5,
          0.55,
          0.6,
          0.65,
          0.7,
          0.75,
          0.8,
          0.85,
          0.9,
          0.95
         ],
         "xaxis": "x",
         "y": [
          0.1538461538461538,
          0.1235955056179775,
          0.1831255992329817,
          0.233790523690773,
          0.2416075650118203,
          0.2437357630979499,
          0.2414448669201521,
          0.2301005161640858,
          0.2178359096313912,
          0.2003808717731697,
          0.1878095238095238,
          0.1784418725168423,
          0.1667721518987341,
          0.1514135820460507,
          0.1367013372956909,
          0.1296107860595268,
          0.1234016887816646,
          0.1087084263720766,
          0.09475855374909
         ],
         "yaxis": "y"
        },
        {
         "hovertemplate": "algorithm=ALS - 4 - no_weighted<br>test_size=%{x}<br>hr=%{y}<extra></extra>",
         "legendgroup": "ALS - 4 - no_weighted",
         "line": {
          "color": "#19d3f3",
          "dash": "solid"
         },
         "marker": {
          "symbol": "circle"
         },
         "mode": "lines",
         "name": "ALS - 4 - no_weighted",
         "orientation": "v",
         "showlegend": true,
         "type": "scatter",
         "x": [
          0.05,
          0.1,
          0.15,
          0.2,
          0.25,
          0.3,
          0.35,
          0.4,
          0.45,
          0.5,
          0.55,
          0.6,
          0.65,
          0.7,
          0.75,
          0.8,
          0.85,
          0.9,
          0.95
         ],
         "xaxis": "x",
         "y": [
          0.1939799331103679,
          0.1396468699839486,
          0.1879194630872483,
          0.2312967581047381,
          0.243498817966903,
          0.2365223993925588,
          0.2366920152091254,
          0.2290138549307253,
          0.2126040428061831,
          0.1908590774439272,
          0.1767619047619047,
          0.1613404733114527,
          0.1549050632911392,
          0.1480617895657242,
          0.1258949074699446,
          0.119689646400407,
          0.1119420989143546,
          0.1045951345634034,
          0.0899053627760252
         ],
         "yaxis": "y"
        },
        {
         "hovertemplate": "algorithm=BPR - 4 - weighted<br>test_size=%{x}<br>hr=%{y}<extra></extra>",
         "legendgroup": "BPR - 4 - weighted",
         "line": {
          "color": "#FF6692",
          "dash": "solid"
         },
         "marker": {
          "symbol": "circle"
         },
         "mode": "lines",
         "name": "BPR - 4 - weighted",
         "orientation": "v",
         "showlegend": true,
         "type": "scatter",
         "x": [
          0.05,
          0.1,
          0.15,
          0.2,
          0.25,
          0.3,
          0.35,
          0.4,
          0.45,
          0.5,
          0.55,
          0.6,
          0.65,
          0.7,
          0.75,
          0.8,
          0.85,
          0.9,
          0.95
         ],
         "xaxis": "x",
         "y": [
          0.1304347826086956,
          0.1059390048154093,
          0.1428571428571428,
          0.1889027431421446,
          0.1763593380614657,
          0.1856492027334852,
          0.173637515842839,
          0.1657158380874762,
          0.1481569560047562,
          0.1500211595429538,
          0.1420952380952381,
          0.1242010709967179,
          0.1159810126582278,
          0.1106091518507723,
          0.0944211806024584,
          0.08305774612058,
          0.0723763570566948,
          0.0615818545069926,
          0.0588449405484105
         ],
         "yaxis": "y"
        },
        {
         "hovertemplate": "algorithm=BPR - 4 - no_weighted<br>test_size=%{x}<br>hr=%{y}<extra></extra>",
         "legendgroup": "BPR - 4 - no_weighted",
         "line": {
          "color": "#B6E880",
          "dash": "solid"
         },
         "marker": {
          "symbol": "circle"
         },
         "mode": "lines",
         "name": "BPR - 4 - no_weighted",
         "orientation": "v",
         "showlegend": true,
         "type": "scatter",
         "x": [
          0.05,
          0.1,
          0.15,
          0.2,
          0.25,
          0.3,
          0.35,
          0.4,
          0.45,
          0.5,
          0.55,
          0.6,
          0.65,
          0.7,
          0.75,
          0.8,
          0.85,
          0.9,
          0.95
         ],
         "xaxis": "x",
         "y": [
          0.1270903010033444,
          0.1043338683788122,
          0.1418983700862895,
          0.1889027431421446,
          0.175886524822695,
          0.1860288534548215,
          0.1726869455006337,
          0.1668024993208367,
          0.1483947681331748,
          0.1500211595429538,
          0.1419047619047619,
          0.1255830022456383,
          0.1143987341772151,
          0.1098805013115709,
          0.0942861002296366,
          0.0819129992368354,
          0.0729794933655006,
          0.0629921259842519,
          0.0583596214511041
         ],
         "yaxis": "y"
        },
        {
         "hovertemplate": "algorithm=ALS - 8 - weighted<br>test_size=%{x}<br>hr=%{y}<extra></extra>",
         "legendgroup": "ALS - 8 - weighted",
         "line": {
          "color": "#FF97FF",
          "dash": "solid"
         },
         "marker": {
          "symbol": "circle"
         },
         "mode": "lines",
         "name": "ALS - 8 - weighted",
         "orientation": "v",
         "showlegend": true,
         "type": "scatter",
         "x": [
          0.05,
          0.1,
          0.15,
          0.2,
          0.25,
          0.3,
          0.35,
          0.4,
          0.45,
          0.5,
          0.55,
          0.6,
          0.65,
          0.7,
          0.75,
          0.8,
          0.85,
          0.9,
          0.95
         ],
         "xaxis": "x",
         "y": [
          0.1438127090301003,
          0.1348314606741573,
          0.1975071907957814,
          0.2400249376558603,
          0.2539007092198581,
          0.262338648443432,
          0.2506337135614702,
          0.2279271936973648,
          0.2178359096313912,
          0.2029200169276343,
          0.1937142857142857,
          0.1770599412679219,
          0.1715189873417721,
          0.1493733605362868,
          0.1257598270971228,
          0.1208343932841516,
          0.1079613992762364,
          0.098836526031261,
          0.091239990293618
         ],
         "yaxis": "y"
        },
        {
         "hovertemplate": "algorithm=ALS - 8 - no_weighted<br>test_size=%{x}<br>hr=%{y}<extra></extra>",
         "legendgroup": "ALS - 8 - no_weighted",
         "line": {
          "color": "#FECB52",
          "dash": "solid"
         },
         "marker": {
          "symbol": "circle"
         },
         "mode": "lines",
         "name": "ALS - 8 - no_weighted",
         "orientation": "v",
         "showlegend": true,
         "type": "scatter",
         "x": [
          0.05,
          0.1,
          0.15,
          0.2,
          0.25,
          0.3,
          0.35,
          0.4,
          0.45,
          0.5,
          0.55,
          0.6,
          0.65,
          0.7,
          0.75,
          0.8,
          0.85,
          0.9,
          0.95
         ],
         "xaxis": "x",
         "y": [
          0.1605351170568562,
          0.1300160513643659,
          0.1965484180249281,
          0.2394014962593516,
          0.2562647754137115,
          0.2456340167046317,
          0.2335234474017744,
          0.2197772344471611,
          0.2087990487514863,
          0.1893779094371561,
          0.1708571428571428,
          0.1571946795646916,
          0.1441455696202531,
          0.1313028271640921,
          0.127921113062272,
          0.1152378529636224,
          0.1020506634499396,
          0.1021271594781995,
          0.0907546711963115
         ],
         "yaxis": "y"
        },
        {
         "hovertemplate": "algorithm=BPR - 8 - weighted<br>test_size=%{x}<br>hr=%{y}<extra></extra>",
         "legendgroup": "BPR - 8 - weighted",
         "line": {
          "color": "#636efa",
          "dash": "solid"
         },
         "marker": {
          "symbol": "circle"
         },
         "mode": "lines",
         "name": "BPR - 8 - weighted",
         "orientation": "v",
         "showlegend": true,
         "type": "scatter",
         "x": [
          0.05,
          0.1,
          0.15,
          0.2,
          0.25,
          0.3,
          0.35,
          0.4,
          0.45,
          0.5,
          0.55,
          0.6,
          0.65,
          0.7,
          0.75,
          0.8,
          0.85,
          0.9,
          0.95
         ],
         "xaxis": "x",
         "y": [
          0.1270903010033444,
          0.1075441412520064,
          0.1284755512943432,
          0.1951371571072319,
          0.1905437352245862,
          0.1917236142748671,
          0.1850443599493029,
          0.1744091279543602,
          0.1624256837098692,
          0.15065594583157,
          0.1403809523809523,
          0.1324926584902401,
          0.1310126582278481,
          0.1211017196152725,
          0.1023909225989463,
          0.0959043500381582,
          0.0826296743063932,
          0.0599365377835233,
          0.0677020140742538
         ],
         "yaxis": "y"
        },
        {
         "hovertemplate": "algorithm=BPR - 8 - no_weighted<br>test_size=%{x}<br>hr=%{y}<extra></extra>",
         "legendgroup": "BPR - 8 - no_weighted",
         "line": {
          "color": "#EF553B",
          "dash": "solid"
         },
         "marker": {
          "symbol": "circle"
         },
         "mode": "lines",
         "name": "BPR - 8 - no_weighted",
         "orientation": "v",
         "showlegend": true,
         "type": "scatter",
         "x": [
          0.05,
          0.1,
          0.15,
          0.2,
          0.25,
          0.3,
          0.35,
          0.4,
          0.45,
          0.5,
          0.55,
          0.6,
          0.65,
          0.7,
          0.75,
          0.8,
          0.85,
          0.9,
          0.95
         ],
         "xaxis": "x",
         "y": [
          0.1237458193979933,
          0.1043338683788122,
          0.1294343240651965,
          0.1963840399002493,
          0.192434988179669,
          0.1913439635535307,
          0.185361216730038,
          0.1735941320293398,
          0.1598097502972651,
          0.1502327549724925,
          0.1401904761904762,
          0.1319744342718949,
          0.1305379746835443,
          0.1215389099387933,
          0.1015804403620154,
          0.0964131264309336,
          0.0826296743063932,
          0.0607591961452579,
          0.0684299927202135
         ],
         "yaxis": "y"
        },
        {
         "hovertemplate": "algorithm=ALS - 16 - weighted<br>test_size=%{x}<br>hr=%{y}<extra></extra>",
         "legendgroup": "ALS - 16 - weighted",
         "line": {
          "color": "#00cc96",
          "dash": "solid"
         },
         "marker": {
          "symbol": "circle"
         },
         "mode": "lines",
         "name": "ALS - 16 - weighted",
         "orientation": "v",
         "showlegend": true,
         "type": "scatter",
         "x": [
          0.05,
          0.1,
          0.15,
          0.2,
          0.25,
          0.3,
          0.35,
          0.4,
          0.45,
          0.5,
          0.55,
          0.6,
          0.65,
          0.7,
          0.75,
          0.8,
          0.85,
          0.9,
          0.95
         ],
         "xaxis": "x",
         "y": [
          0.157190635451505,
          0.1428571428571428,
          0.1888782358581016,
          0.243142144638404,
          0.2368794326241134,
          0.2399392558845861,
          0.2211660329531052,
          0.2078239608801956,
          0.1950059453032104,
          0.1866271688531527,
          0.1678095238095238,
          0.1601312834686474,
          0.1406645569620253,
          0.1244535120955989,
          0.1207618533027151,
          0.1110404477232256,
          0.0996381182147165,
          0.094253143730168,
          0.083596214511041
         ],
         "yaxis": "y"
        },
        {
         "hovertemplate": "algorithm=ALS - 16 - no_weighted<br>test_size=%{x}<br>hr=%{y}<extra></extra>",
         "legendgroup": "ALS - 16 - no_weighted",
         "line": {
          "color": "#ab63fa",
          "dash": "solid"
         },
         "marker": {
          "symbol": "circle"
         },
         "mode": "lines",
         "name": "ALS - 16 - no_weighted",
         "orientation": "v",
         "showlegend": true,
         "type": "scatter",
         "x": [
          0.05,
          0.1,
          0.15,
          0.2,
          0.25,
          0.3,
          0.35,
          0.4,
          0.45,
          0.5,
          0.55,
          0.6,
          0.65,
          0.7,
          0.75,
          0.8,
          0.85,
          0.9,
          0.95
         ],
         "xaxis": "x",
         "y": [
          0.1337792642140468,
          0.1364365971107544,
          0.1783317353787152,
          0.2144638403990025,
          0.2302600472813238,
          0.2232346241457858,
          0.20595690747782,
          0.1958706873132301,
          0.1859690844233056,
          0.1677951756242065,
          0.1601904761904762,
          0.1421661772326826,
          0.132753164556962,
          0.1193529583211891,
          0.1091449412400378,
          0.1076062070719918,
          0.0980699638118214,
          0.0929603948760136,
          0.0892987139043921
         ],
         "yaxis": "y"
        },
        {
         "hovertemplate": "algorithm=BPR - 16 - weighted<br>test_size=%{x}<br>hr=%{y}<extra></extra>",
         "legendgroup": "BPR - 16 - weighted",
         "line": {
          "color": "#FFA15A",
          "dash": "solid"
         },
         "marker": {
          "symbol": "circle"
         },
         "mode": "lines",
         "name": "BPR - 16 - weighted",
         "orientation": "v",
         "showlegend": true,
         "type": "scatter",
         "x": [
          0.05,
          0.1,
          0.15,
          0.2,
          0.25,
          0.3,
          0.35,
          0.4,
          0.45,
          0.5,
          0.55,
          0.6,
          0.65,
          0.7,
          0.75,
          0.8,
          0.85,
          0.9,
          0.95
         ],
         "xaxis": "x",
         "y": [
          0.1237458193979933,
          0.0947030497592295,
          0.1361457334611697,
          0.1913965087281795,
          0.1938534278959811,
          0.190584662110858,
          0.1806083650190114,
          0.1727791361043194,
          0.1648038049940547,
          0.152137113838341,
          0.1445714285714285,
          0.1307652444290896,
          0.1208860759493671,
          0.1139609443310988,
          0.0936106983655274,
          0.0948867972526074,
          0.0715319662243667,
          0.0616993771300975,
          0.062848823101189
         ],
         "yaxis": "y"
        },
        {
         "hovertemplate": "algorithm=BPR - 16 - no_weighted<br>test_size=%{x}<br>hr=%{y}<extra></extra>",
         "legendgroup": "BPR - 16 - no_weighted",
         "line": {
          "color": "#19d3f3",
          "dash": "solid"
         },
         "marker": {
          "symbol": "circle"
         },
         "mode": "lines",
         "name": "BPR - 16 - no_weighted",
         "orientation": "v",
         "showlegend": true,
         "type": "scatter",
         "x": [
          0.05,
          0.1,
          0.15,
          0.2,
          0.25,
          0.3,
          0.35,
          0.4,
          0.45,
          0.5,
          0.55,
          0.6,
          0.65,
          0.7,
          0.75,
          0.8,
          0.85,
          0.9,
          0.95
         ],
         "xaxis": "x",
         "y": [
          0.1270903010033444,
          0.0947030497592295,
          0.1351869606903163,
          0.1920199501246882,
          0.1929078014184397,
          0.1902050113895216,
          0.1806083650190114,
          0.1727791361043194,
          0.1664684898929845,
          0.1517139229792636,
          0.1438095238095238,
          0.1319744342718949,
          0.1207278481012658,
          0.1135237540075779,
          0.0934756179927056,
          0.0951411854489951,
          0.0716525934861278,
          0.0624045128687272,
          0.0626061635525357
         ],
         "yaxis": "y"
        },
        {
         "hovertemplate": "algorithm=ALS - 32 - weighted<br>test_size=%{x}<br>hr=%{y}<extra></extra>",
         "legendgroup": "ALS - 32 - weighted",
         "line": {
          "color": "#FF6692",
          "dash": "solid"
         },
         "marker": {
          "symbol": "circle"
         },
         "mode": "lines",
         "name": "ALS - 32 - weighted",
         "orientation": "v",
         "showlegend": true,
         "type": "scatter",
         "x": [
          0.05,
          0.1,
          0.15,
          0.2,
          0.25,
          0.3,
          0.35,
          0.4,
          0.45,
          0.5,
          0.55,
          0.6,
          0.65,
          0.7,
          0.75,
          0.8,
          0.85,
          0.9,
          0.95
         ],
         "xaxis": "x",
         "y": [
          0.1204013377926421,
          0.102728731942215,
          0.1534036433365292,
          0.1845386533665835,
          0.2052009456264775,
          0.1917236142748671,
          0.1878960709759188,
          0.1741374626460201,
          0.164090368608799,
          0.1457892509521794,
          0.1422857142857143,
          0.1340473311452755,
          0.1166139240506329,
          0.1091518507723695,
          0.1072538160205322,
          0.0973034851182905,
          0.0913148371531966,
          0.0826184040427782,
          0.0804416403785489
         ],
         "yaxis": "y"
        },
        {
         "hovertemplate": "algorithm=ALS - 32 - no_weighted<br>test_size=%{x}<br>hr=%{y}<extra></extra>",
         "legendgroup": "ALS - 32 - no_weighted",
         "line": {
          "color": "#B6E880",
          "dash": "solid"
         },
         "marker": {
          "symbol": "circle"
         },
         "mode": "lines",
         "name": "ALS - 32 - no_weighted",
         "orientation": "v",
         "showlegend": true,
         "type": "scatter",
         "x": [
          0.05,
          0.1,
          0.15,
          0.2,
          0.25,
          0.3,
          0.35,
          0.4,
          0.45,
          0.5,
          0.55,
          0.6,
          0.65,
          0.7,
          0.75,
          0.8,
          0.85,
          0.9,
          0.95
         ],
         "xaxis": "x",
         "y": [
          0.1137123745819397,
          0.0947030497592295,
          0.1361457334611697,
          0.1589775561097257,
          0.1702127659574468,
          0.1750189825360668,
          0.1615969581749049,
          0.1597392013039934,
          0.1502972651605232,
          0.1409225560727888,
          0.1268571428571428,
          0.1145275522542753,
          0.1134493670886075,
          0.1033226464587583,
          0.0992840740240443,
          0.091961332994149,
          0.0880579010856453,
          0.0814431778117287,
          0.0820189274447949
         ],
         "yaxis": "y"
        },
        {
         "hovertemplate": "algorithm=BPR - 32 - weighted<br>test_size=%{x}<br>hr=%{y}<extra></extra>",
         "legendgroup": "BPR - 32 - weighted",
         "line": {
          "color": "#FF97FF",
          "dash": "solid"
         },
         "marker": {
          "symbol": "circle"
         },
         "mode": "lines",
         "name": "BPR - 32 - weighted",
         "orientation": "v",
         "showlegend": true,
         "type": "scatter",
         "x": [
          0.05,
          0.1,
          0.15,
          0.2,
          0.25,
          0.3,
          0.35,
          0.4,
          0.45,
          0.5,
          0.55,
          0.6,
          0.65,
          0.7,
          0.75,
          0.8,
          0.85,
          0.9,
          0.95
         ],
         "xaxis": "x",
         "y": [
          0.1404682274247491,
          0.1011235955056179,
          0.149568552253116,
          0.1882793017456359,
          0.2052009456264775,
          0.2000759301442672,
          0.1809252217997465,
          0.1665308340124966,
          0.1600475624256837,
          0.1531950909860347,
          0.1428571428571428,
          0.136120228018656,
          0.125632911392405,
          0.1254736228504809,
          0.1103606645954342,
          0.0961587382345459,
          0.0722557297949336,
          0.0544129744975907,
          0.0538704198010191
         ],
         "yaxis": "y"
        },
        {
         "hovertemplate": "algorithm=BPR - 32 - no_weighted<br>test_size=%{x}<br>hr=%{y}<extra></extra>",
         "legendgroup": "BPR - 32 - no_weighted",
         "line": {
          "color": "#FECB52",
          "dash": "solid"
         },
         "marker": {
          "symbol": "circle"
         },
         "mode": "lines",
         "name": "BPR - 32 - no_weighted",
         "orientation": "v",
         "showlegend": true,
         "type": "scatter",
         "x": [
          0.05,
          0.1,
          0.15,
          0.2,
          0.25,
          0.3,
          0.35,
          0.4,
          0.45,
          0.5,
          0.55,
          0.6,
          0.65,
          0.7,
          0.75,
          0.8,
          0.85,
          0.9,
          0.95
         ],
         "xaxis": "x",
         "y": [
          0.1404682274247491,
          0.1011235955056179,
          0.1486097794822627,
          0.1876558603491271,
          0.2028368794326241,
          0.197798025816249,
          0.1812420785804816,
          0.1646291768541157,
          0.1595719381688466,
          0.1523487092678798,
          0.1434285714285714,
          0.1371566764553463,
          0.1259493670886076,
          0.1254736228504809,
          0.1100905038497906,
          0.0962859323327397,
          0.0718938480096501,
          0.0541779292513808,
          0.0535064304780393
         ],
         "yaxis": "y"
        },
        {
         "hovertemplate": "algorithm=ALS - 64 - weighted<br>test_size=%{x}<br>hr=%{y}<extra></extra>",
         "legendgroup": "ALS - 64 - weighted",
         "line": {
          "color": "#636efa",
          "dash": "solid"
         },
         "marker": {
          "symbol": "circle"
         },
         "mode": "lines",
         "name": "ALS - 64 - weighted",
         "orientation": "v",
         "showlegend": true,
         "type": "scatter",
         "x": [
          0.05,
          0.1,
          0.15,
          0.2,
          0.25,
          0.3,
          0.35,
          0.4,
          0.45,
          0.5,
          0.55,
          0.6,
          0.65,
          0.7,
          0.75,
          0.8,
          0.85,
          0.9,
          0.95
         ],
         "xaxis": "x",
         "y": [
          0.0769230769230769,
          0.0609951845906902,
          0.0920421860019175,
          0.1115960099750623,
          0.1219858156028368,
          0.1275626423690205,
          0.1175538656527249,
          0.1222493887530562,
          0.1112960760998811,
          0.1093948370715192,
          0.0979047619047619,
          0.094662290551045,
          0.0863924050632911,
          0.0800058292043136,
          0.0807780629474537,
          0.0761892648181124,
          0.0745476477683956,
          0.0708661417322834,
          0.0710992477553991
         ],
         "yaxis": "y"
        },
        {
         "hovertemplate": "algorithm=ALS - 64 - no_weighted<br>test_size=%{x}<br>hr=%{y}<extra></extra>",
         "legendgroup": "ALS - 64 - no_weighted",
         "line": {
          "color": "#EF553B",
          "dash": "solid"
         },
         "marker": {
          "symbol": "circle"
         },
         "mode": "lines",
         "name": "ALS - 64 - no_weighted",
         "orientation": "v",
         "showlegend": true,
         "type": "scatter",
         "x": [
          0.05,
          0.1,
          0.15,
          0.2,
          0.25,
          0.3,
          0.35,
          0.4,
          0.45,
          0.5,
          0.55,
          0.6,
          0.65,
          0.7,
          0.75,
          0.8,
          0.85,
          0.9,
          0.95
         ],
         "xaxis": "x",
         "y": [
          0.0568561872909698,
          0.0593900481540931,
          0.0891658676893576,
          0.1159600997506234,
          0.1111111111111111,
          0.1112376613515565,
          0.0979087452471483,
          0.0994295028524857,
          0.1041617122473246,
          0.0928903935674989,
          0.0887619047619047,
          0.0844705475902573,
          0.0795886075949367,
          0.0741766248907024,
          0.0746994461704714,
          0.0717374713813279,
          0.0723763570566948,
          0.0648724879539311,
          0.07752972579471
         ],
         "yaxis": "y"
        },
        {
         "hovertemplate": "algorithm=BPR - 64 - weighted<br>test_size=%{x}<br>hr=%{y}<extra></extra>",
         "legendgroup": "BPR - 64 - weighted",
         "line": {
          "color": "#00cc96",
          "dash": "solid"
         },
         "marker": {
          "symbol": "circle"
         },
         "mode": "lines",
         "name": "BPR - 64 - weighted",
         "orientation": "v",
         "showlegend": true,
         "type": "scatter",
         "x": [
          0.05,
          0.1,
          0.15,
          0.2,
          0.25,
          0.3,
          0.35,
          0.4,
          0.45,
          0.5,
          0.55,
          0.6,
          0.65,
          0.7,
          0.75,
          0.8,
          0.85,
          0.9,
          0.95
         ],
         "xaxis": "x",
         "y": [
          0.1304347826086956,
          0.0963081861958266,
          0.1390220517737296,
          0.1851620947630922,
          0.1910165484633569,
          0.1985573272589217,
          0.1802915082382763,
          0.1651725074707959,
          0.1669441141498216,
          0.1519255184088023,
          0.1457142857142857,
          0.1381931248920366,
          0.1215189873417721,
          0.1155639755173418,
          0.1054977711738484,
          0.0923429152887306,
          0.0940892641737032,
          0.0645199200846163,
          0.0498665372482407
         ],
         "yaxis": "y"
        },
        {
         "hovertemplate": "algorithm=BPR - 64 - no_weighted<br>test_size=%{x}<br>hr=%{y}<extra></extra>",
         "legendgroup": "BPR - 64 - no_weighted",
         "line": {
          "color": "#ab63fa",
          "dash": "solid"
         },
         "marker": {
          "symbol": "circle"
         },
         "mode": "lines",
         "name": "BPR - 64 - no_weighted",
         "orientation": "v",
         "showlegend": true,
         "type": "scatter",
         "x": [
          0.05,
          0.1,
          0.15,
          0.2,
          0.25,
          0.3,
          0.35,
          0.4,
          0.45,
          0.5,
          0.55,
          0.6,
          0.65,
          0.7,
          0.75,
          0.8,
          0.85,
          0.9,
          0.95
         ],
         "xaxis": "x",
         "y": [
          0.1337792642140468,
          0.0914927768860353,
          0.1399808245445829,
          0.1864089775561097,
          0.1933806146572104,
          0.1962794229309035,
          0.1809252217997465,
          0.1651725074707959,
          0.1648038049940547,
          0.1510791366906475,
          0.1457142857142857,
          0.1380203834859215,
          0.120253164556962,
          0.1154182454095016,
          0.1069836552748885,
          0.0914525566013736,
          0.0940892641737032,
          0.064990010577036,
          0.0501091967968939
         ],
         "yaxis": "y"
        },
        {
         "hovertemplate": "algorithm=ALS - 128 - weighted<br>test_size=%{x}<br>hr=%{y}<extra></extra>",
         "legendgroup": "ALS - 128 - weighted",
         "line": {
          "color": "#FFA15A",
          "dash": "solid"
         },
         "marker": {
          "symbol": "circle"
         },
         "mode": "lines",
         "name": "ALS - 128 - weighted",
         "orientation": "v",
         "showlegend": true,
         "type": "scatter",
         "x": [
          0.05,
          0.1,
          0.15,
          0.2,
          0.25,
          0.3,
          0.35,
          0.4,
          0.45,
          0.5,
          0.55,
          0.6,
          0.65,
          0.7,
          0.75,
          0.8,
          0.85,
          0.9,
          0.95
         ],
         "xaxis": "x",
         "y": [
          0.0568561872909698,
          0.0545746388443017,
          0.0536912751677852,
          0.0635910224438902,
          0.060047281323877,
          0.0690964312832194,
          0.056083650190114,
          0.0537897310513447,
          0.0499405469678953,
          0.0590351248413034,
          0.056,
          0.053204353083434,
          0.0463607594936708,
          0.0492567764500145,
          0.0475482912332838,
          0.0492241160010175,
          0.0471652593486127,
          0.049359501704078,
          0.0528997816064062
         ],
         "yaxis": "y"
        },
        {
         "hovertemplate": "algorithm=ALS - 128 - no_weighted<br>test_size=%{x}<br>hr=%{y}<extra></extra>",
         "legendgroup": "ALS - 128 - no_weighted",
         "line": {
          "color": "#19d3f3",
          "dash": "solid"
         },
         "marker": {
          "symbol": "circle"
         },
         "mode": "lines",
         "name": "ALS - 128 - no_weighted",
         "orientation": "v",
         "showlegend": true,
         "type": "scatter",
         "x": [
          0.05,
          0.1,
          0.15,
          0.2,
          0.25,
          0.3,
          0.35,
          0.4,
          0.45,
          0.5,
          0.55,
          0.6,
          0.65,
          0.7,
          0.75,
          0.8,
          0.85,
          0.9,
          0.95
         ],
         "xaxis": "x",
         "y": [
          0.0535117056856187,
          0.0545746388443017,
          0.0460210930009587,
          0.0567331670822942,
          0.0482269503546099,
          0.0542900531511009,
          0.0491128010139417,
          0.0486280901928823,
          0.048513674197384,
          0.0473973762166737,
          0.0432380952380952,
          0.0435308343409915,
          0.0431962025316455,
          0.0424074613815214,
          0.0428204781845197,
          0.0391757822437038,
          0.038962605548854,
          0.0453637325185098,
          0.0495025479252608
         ],
         "yaxis": "y"
        },
        {
         "hovertemplate": "algorithm=BPR - 128 - weighted<br>test_size=%{x}<br>hr=%{y}<extra></extra>",
         "legendgroup": "BPR - 128 - weighted",
         "line": {
          "color": "#FF6692",
          "dash": "solid"
         },
         "marker": {
          "symbol": "circle"
         },
         "mode": "lines",
         "name": "BPR - 128 - weighted",
         "orientation": "v",
         "showlegend": true,
         "type": "scatter",
         "x": [
          0.05,
          0.1,
          0.15,
          0.2,
          0.25,
          0.3,
          0.35,
          0.4,
          0.45,
          0.5,
          0.55,
          0.6,
          0.65,
          0.7,
          0.75,
          0.8,
          0.85,
          0.9,
          0.95
         ],
         "xaxis": "x",
         "y": [
          0.1438127090301003,
          0.1043338683788122,
          0.1447746883988494,
          0.1932668329177057,
          0.2,
          0.1947608200455581,
          0.1850443599493029,
          0.1754957891877207,
          0.1743162901307966,
          0.158273381294964,
          0.1518095238095238,
          0.1461392295733287,
          0.1352848101265822,
          0.1251821626348003,
          0.1163042009995947,
          0.0975578733146782,
          0.0601930036188178,
          0.0430132800564108,
          0.0553263770929386
         ],
         "yaxis": "y"
        },
        {
         "hovertemplate": "algorithm=BPR - 128 - no_weighted<br>test_size=%{x}<br>hr=%{y}<extra></extra>",
         "legendgroup": "BPR - 128 - no_weighted",
         "line": {
          "color": "#B6E880",
          "dash": "solid"
         },
         "marker": {
          "symbol": "circle"
         },
         "mode": "lines",
         "name": "BPR - 128 - no_weighted",
         "orientation": "v",
         "showlegend": true,
         "type": "scatter",
         "x": [
          0.05,
          0.1,
          0.15,
          0.2,
          0.25,
          0.3,
          0.35,
          0.4,
          0.45,
          0.5,
          0.55,
          0.6,
          0.65,
          0.7,
          0.75,
          0.8,
          0.85,
          0.9,
          0.95
         ],
         "xaxis": "x",
         "y": [
          0.1438127090301003,
          0.1043338683788122,
          0.1428571428571428,
          0.1938902743142144,
          0.1995271867612293,
          0.1958997722095672,
          0.1844106463878327,
          0.1765824504210812,
          0.1759809750297265,
          0.1595429538721963,
          0.1527619047619047,
          0.1452755225427535,
          0.1346518987341772,
          0.1251821626348003,
          0.1164392813724165,
          0.0974306792164843,
          0.0611580217129071,
          0.047126571865084,
          0.0560543557388983
         ],
         "yaxis": "y"
        },
        {
         "hovertemplate": "algorithm=ALS - 256 - weighted<br>test_size=%{x}<br>hr=%{y}<extra></extra>",
         "legendgroup": "ALS - 256 - weighted",
         "line": {
          "color": "#FF97FF",
          "dash": "solid"
         },
         "marker": {
          "symbol": "circle"
         },
         "mode": "lines",
         "name": "ALS - 256 - weighted",
         "orientation": "v",
         "showlegend": true,
         "type": "scatter",
         "x": [
          0.05,
          0.1,
          0.15,
          0.2,
          0.25,
          0.3,
          0.35,
          0.4,
          0.45,
          0.5,
          0.55,
          0.6,
          0.65,
          0.7,
          0.75,
          0.8,
          0.85,
          0.9,
          0.95
         ],
         "xaxis": "x",
         "y": [
          0.0869565217391304,
          0.0786516853932584,
          0.1045062320230105,
          0.1153366583541147,
          0.1309692671394799,
          0.1173120728929384,
          0.129594423320659,
          0.1154577560445531,
          0.116052318668252,
          0.1066440964875158,
          0.1043809523809523,
          0.1027811366384522,
          0.0960443037974683,
          0.0989507432235499,
          0.0946913413481021,
          0.0811498346476723,
          0.0814234016887816,
          0.0790927253496298,
          0.0715845668527056
         ],
         "yaxis": "y"
        },
        {
         "hovertemplate": "algorithm=ALS - 256 - no_weighted<br>test_size=%{x}<br>hr=%{y}<extra></extra>",
         "legendgroup": "ALS - 256 - no_weighted",
         "line": {
          "color": "#FECB52",
          "dash": "solid"
         },
         "marker": {
          "symbol": "circle"
         },
         "mode": "lines",
         "name": "ALS - 256 - no_weighted",
         "orientation": "v",
         "showlegend": true,
         "type": "scatter",
         "x": [
          0.05,
          0.1,
          0.15,
          0.2,
          0.25,
          0.3,
          0.35,
          0.4,
          0.45,
          0.5,
          0.55,
          0.6,
          0.65,
          0.7,
          0.75,
          0.8,
          0.85,
          0.9,
          0.95
         ],
         "xaxis": "x",
         "y": [
          0.0802675585284281,
          0.0545746388443017,
          0.0920421860019175,
          0.1140897755610972,
          0.1139479905437352,
          0.1119969627942293,
          0.1070975918884664,
          0.0975278456941048,
          0.0820451843043995,
          0.0770207363520947,
          0.0683809523809523,
          0.067887372603213,
          0.0639240506329113,
          0.0670358496065287,
          0.0665946238011617,
          0.059399643856525,
          0.0628468033775633,
          0.0571159948290045,
          0.0611502062606163
         ],
         "yaxis": "y"
        },
        {
         "hovertemplate": "algorithm=BPR - 256 - weighted<br>test_size=%{x}<br>hr=%{y}<extra></extra>",
         "legendgroup": "BPR - 256 - weighted",
         "line": {
          "color": "#636efa",
          "dash": "solid"
         },
         "marker": {
          "symbol": "circle"
         },
         "mode": "lines",
         "name": "BPR - 256 - weighted",
         "orientation": "v",
         "showlegend": true,
         "type": "scatter",
         "x": [
          0.05,
          0.1,
          0.15,
          0.2,
          0.25,
          0.3,
          0.35,
          0.4,
          0.45,
          0.5,
          0.55,
          0.6,
          0.65,
          0.7,
          0.75,
          0.8,
          0.85,
          0.9,
          0.95
         ],
         "xaxis": "x",
         "y": [
          0.1605351170568562,
          0.1091492776886035,
          0.1390220517737296,
          0.1920199501246882,
          0.1947990543735224,
          0.1981776765375854,
          0.1875792141951837,
          0.1706058136375984,
          0.178359096313912,
          0.1669487939060516,
          0.1466666666666666,
          0.1394023147348419,
          0.1370253164556962,
          0.123433401340717,
          0.0994191543968661,
          0.0934876621724752,
          0.0813027744270205,
          0.0621694676225173,
          0.0594515894200436
         ],
         "yaxis": "y"
        },
        {
         "hovertemplate": "algorithm=BPR - 256 - no_weighted<br>test_size=%{x}<br>hr=%{y}<extra></extra>",
         "legendgroup": "BPR - 256 - no_weighted",
         "line": {
          "color": "#EF553B",
          "dash": "solid"
         },
         "marker": {
          "symbol": "circle"
         },
         "mode": "lines",
         "name": "BPR - 256 - no_weighted",
         "orientation": "v",
         "showlegend": true,
         "type": "scatter",
         "x": [
          0.05,
          0.1,
          0.15,
          0.2,
          0.25,
          0.3,
          0.35,
          0.4,
          0.45,
          0.5,
          0.55,
          0.6,
          0.65,
          0.7,
          0.75,
          0.8,
          0.85,
          0.9,
          0.95
         ],
         "xaxis": "x",
         "y": [
          0.1605351170568562,
          0.1107544141252006,
          0.1390220517737296,
          0.1920199501246882,
          0.192434988179669,
          0.1989369779802581,
          0.1885297845373891,
          0.1684324911708774,
          0.1793103448275862,
          0.1680067710537452,
          0.1468571428571428,
          0.1392295733287269,
          0.1375,
          0.12503643252696,
          0.1007699581250844,
          0.0933604680742813,
          0.0791314837153196,
          0.0620519449994123,
          0.0615141955835962
         ],
         "yaxis": "y"
        },
        {
         "hovertemplate": "algorithm=ALS - 512 - weighted<br>test_size=%{x}<br>hr=%{y}<extra></extra>",
         "legendgroup": "ALS - 512 - weighted",
         "line": {
          "color": "#00cc96",
          "dash": "solid"
         },
         "marker": {
          "symbol": "circle"
         },
         "mode": "lines",
         "name": "ALS - 512 - weighted",
         "orientation": "v",
         "showlegend": true,
         "type": "scatter",
         "x": [
          0.05,
          0.1,
          0.15,
          0.2,
          0.25,
          0.3,
          0.35,
          0.4,
          0.45,
          0.5,
          0.55,
          0.6,
          0.65,
          0.7,
          0.75,
          0.8,
          0.85,
          0.9,
          0.95
         ],
         "xaxis": "x",
         "y": [
          0.0903010033444816,
          0.0706260032102728,
          0.1054650047938638,
          0.1184538653366583,
          0.1309692671394799,
          0.1222475322703113,
          0.1321292775665399,
          0.1151860907362129,
          0.1141498216409036,
          0.1093948370715192,
          0.1020952380952381,
          0.1038175850751425,
          0.0981012658227848,
          0.0977849023608277,
          0.0925300553829528,
          0.0822945815314169,
          0.0793727382388419,
          0.0792102479727347,
          0.0690366415918466
         ],
         "yaxis": "y"
        },
        {
         "hovertemplate": "algorithm=ALS - 512 - no_weighted<br>test_size=%{x}<br>hr=%{y}<extra></extra>",
         "legendgroup": "ALS - 512 - no_weighted",
         "line": {
          "color": "#ab63fa",
          "dash": "solid"
         },
         "marker": {
          "symbol": "circle"
         },
         "mode": "lines",
         "name": "ALS - 512 - no_weighted",
         "orientation": "v",
         "showlegend": true,
         "type": "scatter",
         "x": [
          0.05,
          0.1,
          0.15,
          0.2,
          0.25,
          0.3,
          0.35,
          0.4,
          0.45,
          0.5,
          0.55,
          0.6,
          0.65,
          0.7,
          0.75,
          0.8,
          0.85,
          0.9,
          0.95
         ],
         "xaxis": "x",
         "y": [
          0.0635451505016722,
          0.0593900481540931,
          0.0930009587727708,
          0.0997506234413965,
          0.1134751773049645,
          0.1104783599088838,
          0.1039290240811153,
          0.0920945395273023,
          0.0841854934601664,
          0.0719424460431654,
          0.0689523809523809,
          0.0685783382276731,
          0.0628164556962025,
          0.0644127076654036,
          0.0644333378360124,
          0.0573645382854235,
          0.0610373944511459,
          0.0569984722058996,
          0.0547197282213055
         ],
         "yaxis": "y"
        },
        {
         "hovertemplate": "algorithm=BPR - 512 - weighted<br>test_size=%{x}<br>hr=%{y}<extra></extra>",
         "legendgroup": "BPR - 512 - weighted",
         "line": {
          "color": "#FFA15A",
          "dash": "solid"
         },
         "marker": {
          "symbol": "circle"
         },
         "mode": "lines",
         "name": "BPR - 512 - weighted",
         "orientation": "v",
         "showlegend": true,
         "type": "scatter",
         "x": [
          0.05,
          0.1,
          0.15,
          0.2,
          0.25,
          0.3,
          0.35,
          0.4,
          0.45,
          0.5,
          0.55,
          0.6,
          0.65,
          0.7,
          0.75,
          0.8,
          0.85,
          0.9,
          0.95
         ],
         "xaxis": "x",
         "y": [
          0.1204013377926421,
          0.1139646869983948,
          0.1457334611697028,
          0.199501246882793,
          0.1947990543735224,
          0.1958997722095672,
          0.1783903675538656,
          0.1792991035044824,
          0.1814506539833531,
          0.165890816758358,
          0.1544761904761905,
          0.1333563655208153,
          0.1218354430379746,
          0.1366948411541824,
          0.1052276104282047,
          0.0828033579241923,
          0.069481302774427,
          0.0594664472911035,
          0.0598155787430235
         ],
         "yaxis": "y"
        },
        {
         "hovertemplate": "algorithm=BPR - 512 - no_weighted<br>test_size=%{x}<br>hr=%{y}<extra></extra>",
         "legendgroup": "BPR - 512 - no_weighted",
         "line": {
          "color": "#19d3f3",
          "dash": "solid"
         },
         "marker": {
          "symbol": "circle"
         },
         "mode": "lines",
         "name": "BPR - 512 - no_weighted",
         "orientation": "v",
         "showlegend": true,
         "type": "scatter",
         "x": [
          0.05,
          0.1,
          0.15,
          0.2,
          0.25,
          0.3,
          0.35,
          0.4,
          0.45,
          0.5,
          0.55,
          0.6,
          0.65,
          0.7,
          0.75,
          0.8,
          0.85,
          0.9,
          0.95
         ],
         "xaxis": "x",
         "y": [
          0.1270903010033444,
          0.1139646869983948,
          0.1447746883988494,
          0.1982543640897755,
          0.1919621749408983,
          0.1958997722095672,
          0.1796577946768061,
          0.1798424341211627,
          0.1802615933412604,
          0.1652560304697418,
          0.1548571428571428,
          0.1337018483330454,
          0.1212025316455696,
          0.1378606820169046,
          0.1059030122923139,
          0.0820401933350292,
          0.0702050663449939,
          0.0594664472911035,
          0.0596942489686969
         ],
         "yaxis": "y"
        }
       ],
       "layout": {
        "legend": {
         "title": {
          "text": "algorithm"
         },
         "tracegroupgap": 0
        },
        "template": {
         "data": {
          "bar": [
           {
            "error_x": {
             "color": "#2a3f5f"
            },
            "error_y": {
             "color": "#2a3f5f"
            },
            "marker": {
             "line": {
              "color": "#E5ECF6",
              "width": 0.5
             },
             "pattern": {
              "fillmode": "overlay",
              "size": 10,
              "solidity": 0.2
             }
            },
            "type": "bar"
           }
          ],
          "barpolar": [
           {
            "marker": {
             "line": {
              "color": "#E5ECF6",
              "width": 0.5
             },
             "pattern": {
              "fillmode": "overlay",
              "size": 10,
              "solidity": 0.2
             }
            },
            "type": "barpolar"
           }
          ],
          "carpet": [
           {
            "aaxis": {
             "endlinecolor": "#2a3f5f",
             "gridcolor": "white",
             "linecolor": "white",
             "minorgridcolor": "white",
             "startlinecolor": "#2a3f5f"
            },
            "baxis": {
             "endlinecolor": "#2a3f5f",
             "gridcolor": "white",
             "linecolor": "white",
             "minorgridcolor": "white",
             "startlinecolor": "#2a3f5f"
            },
            "type": "carpet"
           }
          ],
          "choropleth": [
           {
            "colorbar": {
             "outlinewidth": 0,
             "ticks": ""
            },
            "type": "choropleth"
           }
          ],
          "contour": [
           {
            "colorbar": {
             "outlinewidth": 0,
             "ticks": ""
            },
            "colorscale": [
             [
              0,
              "#0d0887"
             ],
             [
              0.1111111111111111,
              "#46039f"
             ],
             [
              0.2222222222222222,
              "#7201a8"
             ],
             [
              0.3333333333333333,
              "#9c179e"
             ],
             [
              0.4444444444444444,
              "#bd3786"
             ],
             [
              0.5555555555555556,
              "#d8576b"
             ],
             [
              0.6666666666666666,
              "#ed7953"
             ],
             [
              0.7777777777777778,
              "#fb9f3a"
             ],
             [
              0.8888888888888888,
              "#fdca26"
             ],
             [
              1,
              "#f0f921"
             ]
            ],
            "type": "contour"
           }
          ],
          "contourcarpet": [
           {
            "colorbar": {
             "outlinewidth": 0,
             "ticks": ""
            },
            "type": "contourcarpet"
           }
          ],
          "heatmap": [
           {
            "colorbar": {
             "outlinewidth": 0,
             "ticks": ""
            },
            "colorscale": [
             [
              0,
              "#0d0887"
             ],
             [
              0.1111111111111111,
              "#46039f"
             ],
             [
              0.2222222222222222,
              "#7201a8"
             ],
             [
              0.3333333333333333,
              "#9c179e"
             ],
             [
              0.4444444444444444,
              "#bd3786"
             ],
             [
              0.5555555555555556,
              "#d8576b"
             ],
             [
              0.6666666666666666,
              "#ed7953"
             ],
             [
              0.7777777777777778,
              "#fb9f3a"
             ],
             [
              0.8888888888888888,
              "#fdca26"
             ],
             [
              1,
              "#f0f921"
             ]
            ],
            "type": "heatmap"
           }
          ],
          "heatmapgl": [
           {
            "colorbar": {
             "outlinewidth": 0,
             "ticks": ""
            },
            "colorscale": [
             [
              0,
              "#0d0887"
             ],
             [
              0.1111111111111111,
              "#46039f"
             ],
             [
              0.2222222222222222,
              "#7201a8"
             ],
             [
              0.3333333333333333,
              "#9c179e"
             ],
             [
              0.4444444444444444,
              "#bd3786"
             ],
             [
              0.5555555555555556,
              "#d8576b"
             ],
             [
              0.6666666666666666,
              "#ed7953"
             ],
             [
              0.7777777777777778,
              "#fb9f3a"
             ],
             [
              0.8888888888888888,
              "#fdca26"
             ],
             [
              1,
              "#f0f921"
             ]
            ],
            "type": "heatmapgl"
           }
          ],
          "histogram": [
           {
            "marker": {
             "pattern": {
              "fillmode": "overlay",
              "size": 10,
              "solidity": 0.2
             }
            },
            "type": "histogram"
           }
          ],
          "histogram2d": [
           {
            "colorbar": {
             "outlinewidth": 0,
             "ticks": ""
            },
            "colorscale": [
             [
              0,
              "#0d0887"
             ],
             [
              0.1111111111111111,
              "#46039f"
             ],
             [
              0.2222222222222222,
              "#7201a8"
             ],
             [
              0.3333333333333333,
              "#9c179e"
             ],
             [
              0.4444444444444444,
              "#bd3786"
             ],
             [
              0.5555555555555556,
              "#d8576b"
             ],
             [
              0.6666666666666666,
              "#ed7953"
             ],
             [
              0.7777777777777778,
              "#fb9f3a"
             ],
             [
              0.8888888888888888,
              "#fdca26"
             ],
             [
              1,
              "#f0f921"
             ]
            ],
            "type": "histogram2d"
           }
          ],
          "histogram2dcontour": [
           {
            "colorbar": {
             "outlinewidth": 0,
             "ticks": ""
            },
            "colorscale": [
             [
              0,
              "#0d0887"
             ],
             [
              0.1111111111111111,
              "#46039f"
             ],
             [
              0.2222222222222222,
              "#7201a8"
             ],
             [
              0.3333333333333333,
              "#9c179e"
             ],
             [
              0.4444444444444444,
              "#bd3786"
             ],
             [
              0.5555555555555556,
              "#d8576b"
             ],
             [
              0.6666666666666666,
              "#ed7953"
             ],
             [
              0.7777777777777778,
              "#fb9f3a"
             ],
             [
              0.8888888888888888,
              "#fdca26"
             ],
             [
              1,
              "#f0f921"
             ]
            ],
            "type": "histogram2dcontour"
           }
          ],
          "mesh3d": [
           {
            "colorbar": {
             "outlinewidth": 0,
             "ticks": ""
            },
            "type": "mesh3d"
           }
          ],
          "parcoords": [
           {
            "line": {
             "colorbar": {
              "outlinewidth": 0,
              "ticks": ""
             }
            },
            "type": "parcoords"
           }
          ],
          "pie": [
           {
            "automargin": true,
            "type": "pie"
           }
          ],
          "scatter": [
           {
            "fillpattern": {
             "fillmode": "overlay",
             "size": 10,
             "solidity": 0.2
            },
            "type": "scatter"
           }
          ],
          "scatter3d": [
           {
            "line": {
             "colorbar": {
              "outlinewidth": 0,
              "ticks": ""
             }
            },
            "marker": {
             "colorbar": {
              "outlinewidth": 0,
              "ticks": ""
             }
            },
            "type": "scatter3d"
           }
          ],
          "scattercarpet": [
           {
            "marker": {
             "colorbar": {
              "outlinewidth": 0,
              "ticks": ""
             }
            },
            "type": "scattercarpet"
           }
          ],
          "scattergeo": [
           {
            "marker": {
             "colorbar": {
              "outlinewidth": 0,
              "ticks": ""
             }
            },
            "type": "scattergeo"
           }
          ],
          "scattergl": [
           {
            "marker": {
             "colorbar": {
              "outlinewidth": 0,
              "ticks": ""
             }
            },
            "type": "scattergl"
           }
          ],
          "scattermapbox": [
           {
            "marker": {
             "colorbar": {
              "outlinewidth": 0,
              "ticks": ""
             }
            },
            "type": "scattermapbox"
           }
          ],
          "scatterpolar": [
           {
            "marker": {
             "colorbar": {
              "outlinewidth": 0,
              "ticks": ""
             }
            },
            "type": "scatterpolar"
           }
          ],
          "scatterpolargl": [
           {
            "marker": {
             "colorbar": {
              "outlinewidth": 0,
              "ticks": ""
             }
            },
            "type": "scatterpolargl"
           }
          ],
          "scatterternary": [
           {
            "marker": {
             "colorbar": {
              "outlinewidth": 0,
              "ticks": ""
             }
            },
            "type": "scatterternary"
           }
          ],
          "surface": [
           {
            "colorbar": {
             "outlinewidth": 0,
             "ticks": ""
            },
            "colorscale": [
             [
              0,
              "#0d0887"
             ],
             [
              0.1111111111111111,
              "#46039f"
             ],
             [
              0.2222222222222222,
              "#7201a8"
             ],
             [
              0.3333333333333333,
              "#9c179e"
             ],
             [
              0.4444444444444444,
              "#bd3786"
             ],
             [
              0.5555555555555556,
              "#d8576b"
             ],
             [
              0.6666666666666666,
              "#ed7953"
             ],
             [
              0.7777777777777778,
              "#fb9f3a"
             ],
             [
              0.8888888888888888,
              "#fdca26"
             ],
             [
              1,
              "#f0f921"
             ]
            ],
            "type": "surface"
           }
          ],
          "table": [
           {
            "cells": {
             "fill": {
              "color": "#EBF0F8"
             },
             "line": {
              "color": "white"
             }
            },
            "header": {
             "fill": {
              "color": "#C8D4E3"
             },
             "line": {
              "color": "white"
             }
            },
            "type": "table"
           }
          ]
         },
         "layout": {
          "annotationdefaults": {
           "arrowcolor": "#2a3f5f",
           "arrowhead": 0,
           "arrowwidth": 1
          },
          "autotypenumbers": "strict",
          "coloraxis": {
           "colorbar": {
            "outlinewidth": 0,
            "ticks": ""
           }
          },
          "colorscale": {
           "diverging": [
            [
             0,
             "#8e0152"
            ],
            [
             0.1,
             "#c51b7d"
            ],
            [
             0.2,
             "#de77ae"
            ],
            [
             0.3,
             "#f1b6da"
            ],
            [
             0.4,
             "#fde0ef"
            ],
            [
             0.5,
             "#f7f7f7"
            ],
            [
             0.6,
             "#e6f5d0"
            ],
            [
             0.7,
             "#b8e186"
            ],
            [
             0.8,
             "#7fbc41"
            ],
            [
             0.9,
             "#4d9221"
            ],
            [
             1,
             "#276419"
            ]
           ],
           "sequential": [
            [
             0,
             "#0d0887"
            ],
            [
             0.1111111111111111,
             "#46039f"
            ],
            [
             0.2222222222222222,
             "#7201a8"
            ],
            [
             0.3333333333333333,
             "#9c179e"
            ],
            [
             0.4444444444444444,
             "#bd3786"
            ],
            [
             0.5555555555555556,
             "#d8576b"
            ],
            [
             0.6666666666666666,
             "#ed7953"
            ],
            [
             0.7777777777777778,
             "#fb9f3a"
            ],
            [
             0.8888888888888888,
             "#fdca26"
            ],
            [
             1,
             "#f0f921"
            ]
           ],
           "sequentialminus": [
            [
             0,
             "#0d0887"
            ],
            [
             0.1111111111111111,
             "#46039f"
            ],
            [
             0.2222222222222222,
             "#7201a8"
            ],
            [
             0.3333333333333333,
             "#9c179e"
            ],
            [
             0.4444444444444444,
             "#bd3786"
            ],
            [
             0.5555555555555556,
             "#d8576b"
            ],
            [
             0.6666666666666666,
             "#ed7953"
            ],
            [
             0.7777777777777778,
             "#fb9f3a"
            ],
            [
             0.8888888888888888,
             "#fdca26"
            ],
            [
             1,
             "#f0f921"
            ]
           ]
          },
          "colorway": [
           "#636efa",
           "#EF553B",
           "#00cc96",
           "#ab63fa",
           "#FFA15A",
           "#19d3f3",
           "#FF6692",
           "#B6E880",
           "#FF97FF",
           "#FECB52"
          ],
          "font": {
           "color": "#2a3f5f"
          },
          "geo": {
           "bgcolor": "white",
           "lakecolor": "white",
           "landcolor": "#E5ECF6",
           "showlakes": true,
           "showland": true,
           "subunitcolor": "white"
          },
          "hoverlabel": {
           "align": "left"
          },
          "hovermode": "closest",
          "mapbox": {
           "style": "light"
          },
          "paper_bgcolor": "white",
          "plot_bgcolor": "#E5ECF6",
          "polar": {
           "angularaxis": {
            "gridcolor": "white",
            "linecolor": "white",
            "ticks": ""
           },
           "bgcolor": "#E5ECF6",
           "radialaxis": {
            "gridcolor": "white",
            "linecolor": "white",
            "ticks": ""
           }
          },
          "scene": {
           "xaxis": {
            "backgroundcolor": "#E5ECF6",
            "gridcolor": "white",
            "gridwidth": 2,
            "linecolor": "white",
            "showbackground": true,
            "ticks": "",
            "zerolinecolor": "white"
           },
           "yaxis": {
            "backgroundcolor": "#E5ECF6",
            "gridcolor": "white",
            "gridwidth": 2,
            "linecolor": "white",
            "showbackground": true,
            "ticks": "",
            "zerolinecolor": "white"
           },
           "zaxis": {
            "backgroundcolor": "#E5ECF6",
            "gridcolor": "white",
            "gridwidth": 2,
            "linecolor": "white",
            "showbackground": true,
            "ticks": "",
            "zerolinecolor": "white"
           }
          },
          "shapedefaults": {
           "line": {
            "color": "#2a3f5f"
           }
          },
          "ternary": {
           "aaxis": {
            "gridcolor": "white",
            "linecolor": "white",
            "ticks": ""
           },
           "baxis": {
            "gridcolor": "white",
            "linecolor": "white",
            "ticks": ""
           },
           "bgcolor": "#E5ECF6",
           "caxis": {
            "gridcolor": "white",
            "linecolor": "white",
            "ticks": ""
           }
          },
          "title": {
           "x": 0.05
          },
          "xaxis": {
           "automargin": true,
           "gridcolor": "white",
           "linecolor": "white",
           "ticks": "",
           "title": {
            "standoff": 15
           },
           "zerolinecolor": "white",
           "zerolinewidth": 2
          },
          "yaxis": {
           "automargin": true,
           "gridcolor": "white",
           "linecolor": "white",
           "ticks": "",
           "title": {
            "standoff": 15
           },
           "zerolinecolor": "white",
           "zerolinewidth": 2
          }
         }
        },
        "title": {
         "text": "HR x Test size"
        },
        "xaxis": {
         "anchor": "y",
         "domain": [
          0,
          1
         ],
         "title": {
          "text": "test_size"
         }
        },
        "yaxis": {
         "anchor": "x",
         "domain": [
          0,
          1
         ],
         "title": {
          "text": "hr"
         }
        }
       }
      }
     },
     "metadata": {},
     "output_type": "display_data"
    }
   ],
   "source": [
    "df_results_new = df_results.copy()\n",
    "weight_names = {True: 'weighted', False: 'no_weighted'}\n",
    "df_results_new['algorithm'] = df_results_new['algorithm'] + ' - ' + df_results_new['factors'].astype(str) + ' - ' + df_results_new['weighted'].map(weight_names)\n",
    "\n",
    "fig = px.line(df_results_new, x=\"test_size\", y=\"hr\", color='algorithm', title='HR x Test size')\n",
    "fig.show()\n",
    "fig.write_html('results-v3/hr_x_test_size.html')"
   ]
  },
  {
   "cell_type": "code",
   "execution_count": 18,
   "metadata": {},
   "outputs": [
    {
     "name": "stderr",
     "output_type": "stream",
     "text": [
      "C:\\Users\\gregf\\AppData\\Local\\Temp\\ipykernel_19704\\2017026955.py:4: SettingWithCopyWarning:\n",
      "\n",
      "\n",
      "A value is trying to be set on a copy of a slice from a DataFrame.\n",
      "Try using .loc[row_indexer,col_indexer] = value instead\n",
      "\n",
      "See the caveats in the documentation: https://pandas.pydata.org/pandas-docs/stable/user_guide/indexing.html#returning-a-view-versus-a-copy\n",
      "\n"
     ]
    },
    {
     "data": {
      "application/vnd.plotly.v1+json": {
       "config": {
        "plotlyServerURL": "https://plot.ly"
       },
       "data": [
        {
         "hovertemplate": "algorithm=BPR - 2<br>test_size=%{x}<br>hr=%{y}<extra></extra>",
         "legendgroup": "BPR - 2",
         "line": {
          "color": "#636efa",
          "dash": "solid"
         },
         "marker": {
          "symbol": "circle"
         },
         "mode": "lines",
         "name": "BPR - 2",
         "orientation": "v",
         "showlegend": true,
         "type": "scatter",
         "x": [
          0.05,
          0.1,
          0.15,
          0.2,
          0.25,
          0.3,
          0.35,
          0.4,
          0.45,
          0.5,
          0.55,
          0.6,
          0.65,
          0.7,
          0.75,
          0.8,
          0.85,
          0.9,
          0.95
         ],
         "xaxis": "x",
         "y": [
          0.1872909698996655,
          0.1428571428571428,
          0.1572387344199424,
          0.185785536159601,
          0.1721040189125295,
          0.1765375854214123,
          0.1723700887198986,
          0.1597392013039934,
          0.1555291319857312,
          0.1460008463817181,
          0.1386666666666666,
          0.1126273967870098,
          0.1221518987341772,
          0.1060915185077236,
          0.1006348777522626,
          0.0793691172729585,
          0.0750301568154402,
          0.0792102479727347,
          0.0570249939335112
         ],
         "yaxis": "y"
        },
        {
         "hovertemplate": "algorithm=BPR - 4<br>test_size=%{x}<br>hr=%{y}<extra></extra>",
         "legendgroup": "BPR - 4",
         "line": {
          "color": "#EF553B",
          "dash": "solid"
         },
         "marker": {
          "symbol": "circle"
         },
         "mode": "lines",
         "name": "BPR - 4",
         "orientation": "v",
         "showlegend": true,
         "type": "scatter",
         "x": [
          0.05,
          0.1,
          0.15,
          0.2,
          0.25,
          0.3,
          0.35,
          0.4,
          0.45,
          0.5,
          0.55,
          0.6,
          0.65,
          0.7,
          0.75,
          0.8,
          0.85,
          0.9,
          0.95
         ],
         "xaxis": "x",
         "y": [
          0.1270903010033444,
          0.1043338683788122,
          0.1418983700862895,
          0.1889027431421446,
          0.175886524822695,
          0.1860288534548215,
          0.1726869455006337,
          0.1668024993208367,
          0.1483947681331748,
          0.1500211595429538,
          0.1419047619047619,
          0.1255830022456383,
          0.1143987341772151,
          0.1098805013115709,
          0.0942861002296366,
          0.0819129992368354,
          0.0729794933655006,
          0.0629921259842519,
          0.0583596214511041
         ],
         "yaxis": "y"
        },
        {
         "hovertemplate": "algorithm=BPR - 8<br>test_size=%{x}<br>hr=%{y}<extra></extra>",
         "legendgroup": "BPR - 8",
         "line": {
          "color": "#00cc96",
          "dash": "solid"
         },
         "marker": {
          "symbol": "circle"
         },
         "mode": "lines",
         "name": "BPR - 8",
         "orientation": "v",
         "showlegend": true,
         "type": "scatter",
         "x": [
          0.05,
          0.1,
          0.15,
          0.2,
          0.25,
          0.3,
          0.35,
          0.4,
          0.45,
          0.5,
          0.55,
          0.6,
          0.65,
          0.7,
          0.75,
          0.8,
          0.85,
          0.9,
          0.95
         ],
         "xaxis": "x",
         "y": [
          0.1237458193979933,
          0.1043338683788122,
          0.1294343240651965,
          0.1963840399002493,
          0.192434988179669,
          0.1913439635535307,
          0.185361216730038,
          0.1735941320293398,
          0.1598097502972651,
          0.1502327549724925,
          0.1401904761904762,
          0.1319744342718949,
          0.1305379746835443,
          0.1215389099387933,
          0.1015804403620154,
          0.0964131264309336,
          0.0826296743063932,
          0.0607591961452579,
          0.0684299927202135
         ],
         "yaxis": "y"
        },
        {
         "hovertemplate": "algorithm=BPR - 16<br>test_size=%{x}<br>hr=%{y}<extra></extra>",
         "legendgroup": "BPR - 16",
         "line": {
          "color": "#ab63fa",
          "dash": "solid"
         },
         "marker": {
          "symbol": "circle"
         },
         "mode": "lines",
         "name": "BPR - 16",
         "orientation": "v",
         "showlegend": true,
         "type": "scatter",
         "x": [
          0.05,
          0.1,
          0.15,
          0.2,
          0.25,
          0.3,
          0.35,
          0.4,
          0.45,
          0.5,
          0.55,
          0.6,
          0.65,
          0.7,
          0.75,
          0.8,
          0.85,
          0.9,
          0.95
         ],
         "xaxis": "x",
         "y": [
          0.1270903010033444,
          0.0947030497592295,
          0.1351869606903163,
          0.1920199501246882,
          0.1929078014184397,
          0.1902050113895216,
          0.1806083650190114,
          0.1727791361043194,
          0.1664684898929845,
          0.1517139229792636,
          0.1438095238095238,
          0.1319744342718949,
          0.1207278481012658,
          0.1135237540075779,
          0.0934756179927056,
          0.0951411854489951,
          0.0716525934861278,
          0.0624045128687272,
          0.0626061635525357
         ],
         "yaxis": "y"
        },
        {
         "hovertemplate": "algorithm=BPR - 32<br>test_size=%{x}<br>hr=%{y}<extra></extra>",
         "legendgroup": "BPR - 32",
         "line": {
          "color": "#FFA15A",
          "dash": "solid"
         },
         "marker": {
          "symbol": "circle"
         },
         "mode": "lines",
         "name": "BPR - 32",
         "orientation": "v",
         "showlegend": true,
         "type": "scatter",
         "x": [
          0.05,
          0.1,
          0.15,
          0.2,
          0.25,
          0.3,
          0.35,
          0.4,
          0.45,
          0.5,
          0.55,
          0.6,
          0.65,
          0.7,
          0.75,
          0.8,
          0.85,
          0.9,
          0.95
         ],
         "xaxis": "x",
         "y": [
          0.1404682274247491,
          0.1011235955056179,
          0.1486097794822627,
          0.1876558603491271,
          0.2028368794326241,
          0.197798025816249,
          0.1812420785804816,
          0.1646291768541157,
          0.1595719381688466,
          0.1523487092678798,
          0.1434285714285714,
          0.1371566764553463,
          0.1259493670886076,
          0.1254736228504809,
          0.1100905038497906,
          0.0962859323327397,
          0.0718938480096501,
          0.0541779292513808,
          0.0535064304780393
         ],
         "yaxis": "y"
        },
        {
         "hovertemplate": "algorithm=BPR - 64<br>test_size=%{x}<br>hr=%{y}<extra></extra>",
         "legendgroup": "BPR - 64",
         "line": {
          "color": "#19d3f3",
          "dash": "solid"
         },
         "marker": {
          "symbol": "circle"
         },
         "mode": "lines",
         "name": "BPR - 64",
         "orientation": "v",
         "showlegend": true,
         "type": "scatter",
         "x": [
          0.05,
          0.1,
          0.15,
          0.2,
          0.25,
          0.3,
          0.35,
          0.4,
          0.45,
          0.5,
          0.55,
          0.6,
          0.65,
          0.7,
          0.75,
          0.8,
          0.85,
          0.9,
          0.95
         ],
         "xaxis": "x",
         "y": [
          0.1337792642140468,
          0.0914927768860353,
          0.1399808245445829,
          0.1864089775561097,
          0.1933806146572104,
          0.1962794229309035,
          0.1809252217997465,
          0.1651725074707959,
          0.1648038049940547,
          0.1510791366906475,
          0.1457142857142857,
          0.1380203834859215,
          0.120253164556962,
          0.1154182454095016,
          0.1069836552748885,
          0.0914525566013736,
          0.0940892641737032,
          0.064990010577036,
          0.0501091967968939
         ],
         "yaxis": "y"
        },
        {
         "hovertemplate": "algorithm=BPR - 128<br>test_size=%{x}<br>hr=%{y}<extra></extra>",
         "legendgroup": "BPR - 128",
         "line": {
          "color": "#FF6692",
          "dash": "solid"
         },
         "marker": {
          "symbol": "circle"
         },
         "mode": "lines",
         "name": "BPR - 128",
         "orientation": "v",
         "showlegend": true,
         "type": "scatter",
         "x": [
          0.05,
          0.1,
          0.15,
          0.2,
          0.25,
          0.3,
          0.35,
          0.4,
          0.45,
          0.5,
          0.55,
          0.6,
          0.65,
          0.7,
          0.75,
          0.8,
          0.85,
          0.9,
          0.95
         ],
         "xaxis": "x",
         "y": [
          0.1438127090301003,
          0.1043338683788122,
          0.1428571428571428,
          0.1938902743142144,
          0.1995271867612293,
          0.1958997722095672,
          0.1844106463878327,
          0.1765824504210812,
          0.1759809750297265,
          0.1595429538721963,
          0.1527619047619047,
          0.1452755225427535,
          0.1346518987341772,
          0.1251821626348003,
          0.1164392813724165,
          0.0974306792164843,
          0.0611580217129071,
          0.047126571865084,
          0.0560543557388983
         ],
         "yaxis": "y"
        },
        {
         "hovertemplate": "algorithm=BPR - 256<br>test_size=%{x}<br>hr=%{y}<extra></extra>",
         "legendgroup": "BPR - 256",
         "line": {
          "color": "#B6E880",
          "dash": "solid"
         },
         "marker": {
          "symbol": "circle"
         },
         "mode": "lines",
         "name": "BPR - 256",
         "orientation": "v",
         "showlegend": true,
         "type": "scatter",
         "x": [
          0.05,
          0.1,
          0.15,
          0.2,
          0.25,
          0.3,
          0.35,
          0.4,
          0.45,
          0.5,
          0.55,
          0.6,
          0.65,
          0.7,
          0.75,
          0.8,
          0.85,
          0.9,
          0.95
         ],
         "xaxis": "x",
         "y": [
          0.1605351170568562,
          0.1107544141252006,
          0.1390220517737296,
          0.1920199501246882,
          0.192434988179669,
          0.1989369779802581,
          0.1885297845373891,
          0.1684324911708774,
          0.1793103448275862,
          0.1680067710537452,
          0.1468571428571428,
          0.1392295733287269,
          0.1375,
          0.12503643252696,
          0.1007699581250844,
          0.0933604680742813,
          0.0791314837153196,
          0.0620519449994123,
          0.0615141955835962
         ],
         "yaxis": "y"
        },
        {
         "hovertemplate": "algorithm=BPR - 512<br>test_size=%{x}<br>hr=%{y}<extra></extra>",
         "legendgroup": "BPR - 512",
         "line": {
          "color": "#FF97FF",
          "dash": "solid"
         },
         "marker": {
          "symbol": "circle"
         },
         "mode": "lines",
         "name": "BPR - 512",
         "orientation": "v",
         "showlegend": true,
         "type": "scatter",
         "x": [
          0.05,
          0.1,
          0.15,
          0.2,
          0.25,
          0.3,
          0.35,
          0.4,
          0.45,
          0.5,
          0.55,
          0.6,
          0.65,
          0.7,
          0.75,
          0.8,
          0.85,
          0.9,
          0.95
         ],
         "xaxis": "x",
         "y": [
          0.1270903010033444,
          0.1139646869983948,
          0.1447746883988494,
          0.1982543640897755,
          0.1919621749408983,
          0.1958997722095672,
          0.1796577946768061,
          0.1798424341211627,
          0.1802615933412604,
          0.1652560304697418,
          0.1548571428571428,
          0.1337018483330454,
          0.1212025316455696,
          0.1378606820169046,
          0.1059030122923139,
          0.0820401933350292,
          0.0702050663449939,
          0.0594664472911035,
          0.0596942489686969
         ],
         "yaxis": "y"
        }
       ],
       "layout": {
        "legend": {
         "title": {
          "text": "algorithm"
         },
         "tracegroupgap": 0
        },
        "template": {
         "data": {
          "bar": [
           {
            "error_x": {
             "color": "#2a3f5f"
            },
            "error_y": {
             "color": "#2a3f5f"
            },
            "marker": {
             "line": {
              "color": "#E5ECF6",
              "width": 0.5
             },
             "pattern": {
              "fillmode": "overlay",
              "size": 10,
              "solidity": 0.2
             }
            },
            "type": "bar"
           }
          ],
          "barpolar": [
           {
            "marker": {
             "line": {
              "color": "#E5ECF6",
              "width": 0.5
             },
             "pattern": {
              "fillmode": "overlay",
              "size": 10,
              "solidity": 0.2
             }
            },
            "type": "barpolar"
           }
          ],
          "carpet": [
           {
            "aaxis": {
             "endlinecolor": "#2a3f5f",
             "gridcolor": "white",
             "linecolor": "white",
             "minorgridcolor": "white",
             "startlinecolor": "#2a3f5f"
            },
            "baxis": {
             "endlinecolor": "#2a3f5f",
             "gridcolor": "white",
             "linecolor": "white",
             "minorgridcolor": "white",
             "startlinecolor": "#2a3f5f"
            },
            "type": "carpet"
           }
          ],
          "choropleth": [
           {
            "colorbar": {
             "outlinewidth": 0,
             "ticks": ""
            },
            "type": "choropleth"
           }
          ],
          "contour": [
           {
            "colorbar": {
             "outlinewidth": 0,
             "ticks": ""
            },
            "colorscale": [
             [
              0,
              "#0d0887"
             ],
             [
              0.1111111111111111,
              "#46039f"
             ],
             [
              0.2222222222222222,
              "#7201a8"
             ],
             [
              0.3333333333333333,
              "#9c179e"
             ],
             [
              0.4444444444444444,
              "#bd3786"
             ],
             [
              0.5555555555555556,
              "#d8576b"
             ],
             [
              0.6666666666666666,
              "#ed7953"
             ],
             [
              0.7777777777777778,
              "#fb9f3a"
             ],
             [
              0.8888888888888888,
              "#fdca26"
             ],
             [
              1,
              "#f0f921"
             ]
            ],
            "type": "contour"
           }
          ],
          "contourcarpet": [
           {
            "colorbar": {
             "outlinewidth": 0,
             "ticks": ""
            },
            "type": "contourcarpet"
           }
          ],
          "heatmap": [
           {
            "colorbar": {
             "outlinewidth": 0,
             "ticks": ""
            },
            "colorscale": [
             [
              0,
              "#0d0887"
             ],
             [
              0.1111111111111111,
              "#46039f"
             ],
             [
              0.2222222222222222,
              "#7201a8"
             ],
             [
              0.3333333333333333,
              "#9c179e"
             ],
             [
              0.4444444444444444,
              "#bd3786"
             ],
             [
              0.5555555555555556,
              "#d8576b"
             ],
             [
              0.6666666666666666,
              "#ed7953"
             ],
             [
              0.7777777777777778,
              "#fb9f3a"
             ],
             [
              0.8888888888888888,
              "#fdca26"
             ],
             [
              1,
              "#f0f921"
             ]
            ],
            "type": "heatmap"
           }
          ],
          "heatmapgl": [
           {
            "colorbar": {
             "outlinewidth": 0,
             "ticks": ""
            },
            "colorscale": [
             [
              0,
              "#0d0887"
             ],
             [
              0.1111111111111111,
              "#46039f"
             ],
             [
              0.2222222222222222,
              "#7201a8"
             ],
             [
              0.3333333333333333,
              "#9c179e"
             ],
             [
              0.4444444444444444,
              "#bd3786"
             ],
             [
              0.5555555555555556,
              "#d8576b"
             ],
             [
              0.6666666666666666,
              "#ed7953"
             ],
             [
              0.7777777777777778,
              "#fb9f3a"
             ],
             [
              0.8888888888888888,
              "#fdca26"
             ],
             [
              1,
              "#f0f921"
             ]
            ],
            "type": "heatmapgl"
           }
          ],
          "histogram": [
           {
            "marker": {
             "pattern": {
              "fillmode": "overlay",
              "size": 10,
              "solidity": 0.2
             }
            },
            "type": "histogram"
           }
          ],
          "histogram2d": [
           {
            "colorbar": {
             "outlinewidth": 0,
             "ticks": ""
            },
            "colorscale": [
             [
              0,
              "#0d0887"
             ],
             [
              0.1111111111111111,
              "#46039f"
             ],
             [
              0.2222222222222222,
              "#7201a8"
             ],
             [
              0.3333333333333333,
              "#9c179e"
             ],
             [
              0.4444444444444444,
              "#bd3786"
             ],
             [
              0.5555555555555556,
              "#d8576b"
             ],
             [
              0.6666666666666666,
              "#ed7953"
             ],
             [
              0.7777777777777778,
              "#fb9f3a"
             ],
             [
              0.8888888888888888,
              "#fdca26"
             ],
             [
              1,
              "#f0f921"
             ]
            ],
            "type": "histogram2d"
           }
          ],
          "histogram2dcontour": [
           {
            "colorbar": {
             "outlinewidth": 0,
             "ticks": ""
            },
            "colorscale": [
             [
              0,
              "#0d0887"
             ],
             [
              0.1111111111111111,
              "#46039f"
             ],
             [
              0.2222222222222222,
              "#7201a8"
             ],
             [
              0.3333333333333333,
              "#9c179e"
             ],
             [
              0.4444444444444444,
              "#bd3786"
             ],
             [
              0.5555555555555556,
              "#d8576b"
             ],
             [
              0.6666666666666666,
              "#ed7953"
             ],
             [
              0.7777777777777778,
              "#fb9f3a"
             ],
             [
              0.8888888888888888,
              "#fdca26"
             ],
             [
              1,
              "#f0f921"
             ]
            ],
            "type": "histogram2dcontour"
           }
          ],
          "mesh3d": [
           {
            "colorbar": {
             "outlinewidth": 0,
             "ticks": ""
            },
            "type": "mesh3d"
           }
          ],
          "parcoords": [
           {
            "line": {
             "colorbar": {
              "outlinewidth": 0,
              "ticks": ""
             }
            },
            "type": "parcoords"
           }
          ],
          "pie": [
           {
            "automargin": true,
            "type": "pie"
           }
          ],
          "scatter": [
           {
            "fillpattern": {
             "fillmode": "overlay",
             "size": 10,
             "solidity": 0.2
            },
            "type": "scatter"
           }
          ],
          "scatter3d": [
           {
            "line": {
             "colorbar": {
              "outlinewidth": 0,
              "ticks": ""
             }
            },
            "marker": {
             "colorbar": {
              "outlinewidth": 0,
              "ticks": ""
             }
            },
            "type": "scatter3d"
           }
          ],
          "scattercarpet": [
           {
            "marker": {
             "colorbar": {
              "outlinewidth": 0,
              "ticks": ""
             }
            },
            "type": "scattercarpet"
           }
          ],
          "scattergeo": [
           {
            "marker": {
             "colorbar": {
              "outlinewidth": 0,
              "ticks": ""
             }
            },
            "type": "scattergeo"
           }
          ],
          "scattergl": [
           {
            "marker": {
             "colorbar": {
              "outlinewidth": 0,
              "ticks": ""
             }
            },
            "type": "scattergl"
           }
          ],
          "scattermapbox": [
           {
            "marker": {
             "colorbar": {
              "outlinewidth": 0,
              "ticks": ""
             }
            },
            "type": "scattermapbox"
           }
          ],
          "scatterpolar": [
           {
            "marker": {
             "colorbar": {
              "outlinewidth": 0,
              "ticks": ""
             }
            },
            "type": "scatterpolar"
           }
          ],
          "scatterpolargl": [
           {
            "marker": {
             "colorbar": {
              "outlinewidth": 0,
              "ticks": ""
             }
            },
            "type": "scatterpolargl"
           }
          ],
          "scatterternary": [
           {
            "marker": {
             "colorbar": {
              "outlinewidth": 0,
              "ticks": ""
             }
            },
            "type": "scatterternary"
           }
          ],
          "surface": [
           {
            "colorbar": {
             "outlinewidth": 0,
             "ticks": ""
            },
            "colorscale": [
             [
              0,
              "#0d0887"
             ],
             [
              0.1111111111111111,
              "#46039f"
             ],
             [
              0.2222222222222222,
              "#7201a8"
             ],
             [
              0.3333333333333333,
              "#9c179e"
             ],
             [
              0.4444444444444444,
              "#bd3786"
             ],
             [
              0.5555555555555556,
              "#d8576b"
             ],
             [
              0.6666666666666666,
              "#ed7953"
             ],
             [
              0.7777777777777778,
              "#fb9f3a"
             ],
             [
              0.8888888888888888,
              "#fdca26"
             ],
             [
              1,
              "#f0f921"
             ]
            ],
            "type": "surface"
           }
          ],
          "table": [
           {
            "cells": {
             "fill": {
              "color": "#EBF0F8"
             },
             "line": {
              "color": "white"
             }
            },
            "header": {
             "fill": {
              "color": "#C8D4E3"
             },
             "line": {
              "color": "white"
             }
            },
            "type": "table"
           }
          ]
         },
         "layout": {
          "annotationdefaults": {
           "arrowcolor": "#2a3f5f",
           "arrowhead": 0,
           "arrowwidth": 1
          },
          "autotypenumbers": "strict",
          "coloraxis": {
           "colorbar": {
            "outlinewidth": 0,
            "ticks": ""
           }
          },
          "colorscale": {
           "diverging": [
            [
             0,
             "#8e0152"
            ],
            [
             0.1,
             "#c51b7d"
            ],
            [
             0.2,
             "#de77ae"
            ],
            [
             0.3,
             "#f1b6da"
            ],
            [
             0.4,
             "#fde0ef"
            ],
            [
             0.5,
             "#f7f7f7"
            ],
            [
             0.6,
             "#e6f5d0"
            ],
            [
             0.7,
             "#b8e186"
            ],
            [
             0.8,
             "#7fbc41"
            ],
            [
             0.9,
             "#4d9221"
            ],
            [
             1,
             "#276419"
            ]
           ],
           "sequential": [
            [
             0,
             "#0d0887"
            ],
            [
             0.1111111111111111,
             "#46039f"
            ],
            [
             0.2222222222222222,
             "#7201a8"
            ],
            [
             0.3333333333333333,
             "#9c179e"
            ],
            [
             0.4444444444444444,
             "#bd3786"
            ],
            [
             0.5555555555555556,
             "#d8576b"
            ],
            [
             0.6666666666666666,
             "#ed7953"
            ],
            [
             0.7777777777777778,
             "#fb9f3a"
            ],
            [
             0.8888888888888888,
             "#fdca26"
            ],
            [
             1,
             "#f0f921"
            ]
           ],
           "sequentialminus": [
            [
             0,
             "#0d0887"
            ],
            [
             0.1111111111111111,
             "#46039f"
            ],
            [
             0.2222222222222222,
             "#7201a8"
            ],
            [
             0.3333333333333333,
             "#9c179e"
            ],
            [
             0.4444444444444444,
             "#bd3786"
            ],
            [
             0.5555555555555556,
             "#d8576b"
            ],
            [
             0.6666666666666666,
             "#ed7953"
            ],
            [
             0.7777777777777778,
             "#fb9f3a"
            ],
            [
             0.8888888888888888,
             "#fdca26"
            ],
            [
             1,
             "#f0f921"
            ]
           ]
          },
          "colorway": [
           "#636efa",
           "#EF553B",
           "#00cc96",
           "#ab63fa",
           "#FFA15A",
           "#19d3f3",
           "#FF6692",
           "#B6E880",
           "#FF97FF",
           "#FECB52"
          ],
          "font": {
           "color": "#2a3f5f"
          },
          "geo": {
           "bgcolor": "white",
           "lakecolor": "white",
           "landcolor": "#E5ECF6",
           "showlakes": true,
           "showland": true,
           "subunitcolor": "white"
          },
          "hoverlabel": {
           "align": "left"
          },
          "hovermode": "closest",
          "mapbox": {
           "style": "light"
          },
          "paper_bgcolor": "white",
          "plot_bgcolor": "#E5ECF6",
          "polar": {
           "angularaxis": {
            "gridcolor": "white",
            "linecolor": "white",
            "ticks": ""
           },
           "bgcolor": "#E5ECF6",
           "radialaxis": {
            "gridcolor": "white",
            "linecolor": "white",
            "ticks": ""
           }
          },
          "scene": {
           "xaxis": {
            "backgroundcolor": "#E5ECF6",
            "gridcolor": "white",
            "gridwidth": 2,
            "linecolor": "white",
            "showbackground": true,
            "ticks": "",
            "zerolinecolor": "white"
           },
           "yaxis": {
            "backgroundcolor": "#E5ECF6",
            "gridcolor": "white",
            "gridwidth": 2,
            "linecolor": "white",
            "showbackground": true,
            "ticks": "",
            "zerolinecolor": "white"
           },
           "zaxis": {
            "backgroundcolor": "#E5ECF6",
            "gridcolor": "white",
            "gridwidth": 2,
            "linecolor": "white",
            "showbackground": true,
            "ticks": "",
            "zerolinecolor": "white"
           }
          },
          "shapedefaults": {
           "line": {
            "color": "#2a3f5f"
           }
          },
          "ternary": {
           "aaxis": {
            "gridcolor": "white",
            "linecolor": "white",
            "ticks": ""
           },
           "baxis": {
            "gridcolor": "white",
            "linecolor": "white",
            "ticks": ""
           },
           "bgcolor": "#E5ECF6",
           "caxis": {
            "gridcolor": "white",
            "linecolor": "white",
            "ticks": ""
           }
          },
          "title": {
           "x": 0.05
          },
          "xaxis": {
           "automargin": true,
           "gridcolor": "white",
           "linecolor": "white",
           "ticks": "",
           "title": {
            "standoff": 15
           },
           "zerolinecolor": "white",
           "zerolinewidth": 2
          },
          "yaxis": {
           "automargin": true,
           "gridcolor": "white",
           "linecolor": "white",
           "ticks": "",
           "title": {
            "standoff": 15
           },
           "zerolinecolor": "white",
           "zerolinewidth": 2
          }
         }
        },
        "title": {
         "text": "HR x Test size"
        },
        "xaxis": {
         "anchor": "y",
         "domain": [
          0,
          1
         ],
         "title": {
          "text": "test_size"
         }
        },
        "yaxis": {
         "anchor": "x",
         "domain": [
          0,
          1
         ],
         "title": {
          "text": "hr"
         }
        }
       }
      }
     },
     "metadata": {},
     "output_type": "display_data"
    }
   ],
   "source": [
    "algo_name = 'BPR'  # Escolha um algoritmo específico para visualizar\n",
    "\n",
    "df_results_filtered = df_results[((df_results['algorithm'] == algo_name) & (df_results['weighted'] == False)) | (df_results['algorithm'] == 'Random')]\n",
    "df_results_filtered['algorithm'] = df_results_filtered['algorithm'] + ' - ' + df_results_filtered['factors'].astype(str)\n",
    "\n",
    "fig = px.line(df_results_filtered, x=\"test_size\", y=\"hr\", color='algorithm', title='HR x Test size')\n",
    "fig.show()"
   ]
  }
 ],
 "metadata": {
  "kernelspec": {
   "display_name": "RLRS-rllib",
   "language": "python",
   "name": "python3"
  },
  "language_info": {
   "codemirror_mode": {
    "name": "ipython",
    "version": 3
   },
   "file_extension": ".py",
   "mimetype": "text/x-python",
   "name": "python",
   "nbconvert_exporter": "python",
   "pygments_lexer": "ipython3",
   "version": "3.8.16"
  }
 },
 "nbformat": 4,
 "nbformat_minor": 2
}
