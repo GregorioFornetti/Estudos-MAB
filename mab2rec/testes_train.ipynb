{
 "cells": [
  {
   "cell_type": "code",
   "execution_count": 1,
   "metadata": {},
   "outputs": [],
   "source": [
    "import pandas as pd\n",
    "import numpy as np"
   ]
  },
  {
   "cell_type": "code",
   "execution_count": 2,
   "metadata": {},
   "outputs": [
    {
     "data": {
      "text/html": [
       "<div>\n",
       "<style scoped>\n",
       "    .dataframe tbody tr th:only-of-type {\n",
       "        vertical-align: middle;\n",
       "    }\n",
       "\n",
       "    .dataframe tbody tr th {\n",
       "        vertical-align: top;\n",
       "    }\n",
       "\n",
       "    .dataframe thead th {\n",
       "        text-align: right;\n",
       "    }\n",
       "</style>\n",
       "<table border=\"1\" class=\"dataframe\">\n",
       "  <thead>\n",
       "    <tr style=\"text-align: right;\">\n",
       "      <th></th>\n",
       "      <th>user_id</th>\n",
       "      <th>item_id</th>\n",
       "      <th>response</th>\n",
       "    </tr>\n",
       "  </thead>\n",
       "  <tbody>\n",
       "    <tr>\n",
       "      <th>0</th>\n",
       "      <td>1</td>\n",
       "      <td>A</td>\n",
       "      <td>1</td>\n",
       "    </tr>\n",
       "    <tr>\n",
       "      <th>1</th>\n",
       "      <td>1</td>\n",
       "      <td>B</td>\n",
       "      <td>0</td>\n",
       "    </tr>\n",
       "    <tr>\n",
       "      <th>2</th>\n",
       "      <td>1</td>\n",
       "      <td>C</td>\n",
       "      <td>0</td>\n",
       "    </tr>\n",
       "    <tr>\n",
       "      <th>3</th>\n",
       "      <td>2</td>\n",
       "      <td>A</td>\n",
       "      <td>0</td>\n",
       "    </tr>\n",
       "    <tr>\n",
       "      <th>4</th>\n",
       "      <td>2</td>\n",
       "      <td>B</td>\n",
       "      <td>1</td>\n",
       "    </tr>\n",
       "    <tr>\n",
       "      <th>5</th>\n",
       "      <td>2</td>\n",
       "      <td>C</td>\n",
       "      <td>0</td>\n",
       "    </tr>\n",
       "    <tr>\n",
       "      <th>6</th>\n",
       "      <td>3</td>\n",
       "      <td>A</td>\n",
       "      <td>0</td>\n",
       "    </tr>\n",
       "    <tr>\n",
       "      <th>7</th>\n",
       "      <td>3</td>\n",
       "      <td>B</td>\n",
       "      <td>0</td>\n",
       "    </tr>\n",
       "    <tr>\n",
       "      <th>8</th>\n",
       "      <td>3</td>\n",
       "      <td>C</td>\n",
       "      <td>1</td>\n",
       "    </tr>\n",
       "  </tbody>\n",
       "</table>\n",
       "</div>"
      ],
      "text/plain": [
       "  user_id item_id  response\n",
       "0       1       A         1\n",
       "1       1       B         0\n",
       "2       1       C         0\n",
       "3       2       A         0\n",
       "4       2       B         1\n",
       "5       2       C         0\n",
       "6       3       A         0\n",
       "7       3       B         0\n",
       "8       3       C         1"
      ]
     },
     "execution_count": 2,
     "metadata": {},
     "output_type": "execute_result"
    }
   ],
   "source": [
    "df_train = pd.DataFrame([\n",
    "    ['1', 'A', 1],\n",
    "    ['1', 'B', 0],\n",
    "    ['1', 'C', 0],\n",
    "    ['2', 'A', 0],\n",
    "    ['2', 'B', 1],\n",
    "    ['2', 'C', 0],\n",
    "    ['3', 'A', 0],\n",
    "    ['3', 'B', 0],\n",
    "    ['3', 'C', 1],\n",
    "], columns=['user_id', 'item_id', 'response'])\n",
    "\n",
    "df_train"
   ]
  },
  {
   "cell_type": "code",
   "execution_count": 3,
   "metadata": {},
   "outputs": [
    {
     "data": {
      "text/html": [
       "<div>\n",
       "<style scoped>\n",
       "    .dataframe tbody tr th:only-of-type {\n",
       "        vertical-align: middle;\n",
       "    }\n",
       "\n",
       "    .dataframe tbody tr th {\n",
       "        vertical-align: top;\n",
       "    }\n",
       "\n",
       "    .dataframe thead th {\n",
       "        text-align: right;\n",
       "    }\n",
       "</style>\n",
       "<table border=\"1\" class=\"dataframe\">\n",
       "  <thead>\n",
       "    <tr style=\"text-align: right;\">\n",
       "      <th></th>\n",
       "      <th>user_id</th>\n",
       "      <th>u0</th>\n",
       "      <th>u1</th>\n",
       "      <th>u2</th>\n",
       "    </tr>\n",
       "  </thead>\n",
       "  <tbody>\n",
       "    <tr>\n",
       "      <th>0</th>\n",
       "      <td>1</td>\n",
       "      <td>1</td>\n",
       "      <td>0</td>\n",
       "      <td>0</td>\n",
       "    </tr>\n",
       "    <tr>\n",
       "      <th>1</th>\n",
       "      <td>2</td>\n",
       "      <td>0</td>\n",
       "      <td>1</td>\n",
       "      <td>0</td>\n",
       "    </tr>\n",
       "    <tr>\n",
       "      <th>2</th>\n",
       "      <td>3</td>\n",
       "      <td>0</td>\n",
       "      <td>0</td>\n",
       "      <td>1</td>\n",
       "    </tr>\n",
       "    <tr>\n",
       "      <th>3</th>\n",
       "      <td>4</td>\n",
       "      <td>1</td>\n",
       "      <td>0</td>\n",
       "      <td>0</td>\n",
       "    </tr>\n",
       "    <tr>\n",
       "      <th>4</th>\n",
       "      <td>5</td>\n",
       "      <td>0</td>\n",
       "      <td>1</td>\n",
       "      <td>0</td>\n",
       "    </tr>\n",
       "    <tr>\n",
       "      <th>5</th>\n",
       "      <td>6</td>\n",
       "      <td>0</td>\n",
       "      <td>0</td>\n",
       "      <td>1</td>\n",
       "    </tr>\n",
       "  </tbody>\n",
       "</table>\n",
       "</div>"
      ],
      "text/plain": [
       "  user_id  u0  u1  u2\n",
       "0       1   1   0   0\n",
       "1       2   0   1   0\n",
       "2       3   0   0   1\n",
       "3       4   1   0   0\n",
       "4       5   0   1   0\n",
       "5       6   0   0   1"
      ]
     },
     "execution_count": 3,
     "metadata": {},
     "output_type": "execute_result"
    }
   ],
   "source": [
    "df_users_features = pd.DataFrame([\n",
    "    ['1', 1, 0, 0],\n",
    "    ['2', 0, 1, 0],\n",
    "    ['3', 0, 0, 1],\n",
    "    ['4', 1, 0, 0],\n",
    "    ['5', 0, 1, 0],\n",
    "    ['6', 0, 0, 1],\n",
    "], columns=['user_id', 'u0', 'u1', 'u2'])\n",
    "\n",
    "df_users_features"
   ]
  },
  {
   "cell_type": "code",
   "execution_count": 4,
   "metadata": {},
   "outputs": [],
   "source": [
    "class LinUCB:\n",
    "\n",
    "    def __init__(self):\n",
    "\n",
    "        self.alpha = 1.0                  # exploration parameter\n",
    "        self.l2_lambda = 1.0          # regularization parameter\n",
    "\n",
    "        self.beta = None                    # (XtX + l2_lambda * I_d)^-1 * Xty = A^-1 * Xty\n",
    "        self.A = None                       # (XtX + l2_lambda * I_d)\n",
    "        self.A_inv = None                   # (XtX + l2_lambda * I_d)^-1\n",
    "        self.Xty = None\n",
    "\n",
    "    def init(self, num_features: int):\n",
    "        # By default, assume that\n",
    "        # A is the identity matrix and Xty is set to 0\n",
    "        self.Xty = np.zeros(num_features)\n",
    "        self.A = self.l2_lambda * np.identity(num_features)\n",
    "        self.A_inv = self.A.copy()\n",
    "        self.beta = np.dot(self.A_inv, self.Xty)\n",
    "\n",
    "    def fit(self, X: np.ndarray, y: np.ndarray):\n",
    "\n",
    "        # X transpose\n",
    "        Xt = X.T\n",
    "\n",
    "        # Update A\n",
    "        self.A = self.A + np.dot(Xt, X)\n",
    "        self.A_inv = np.linalg.inv(self.A)\n",
    "\n",
    "        # Add new Xty values to old\n",
    "        self.Xty = self.Xty + np.dot(Xt, y)\n",
    "\n",
    "        # Recalculate beta coefficients\n",
    "        self.beta = np.dot(self.A_inv, self.Xty)\n",
    "\n",
    "    def predict(self, x: np.ndarray):\n",
    "\n",
    "        # Calculating x_A_inv\n",
    "        x_A_inv = np.dot(x, self.A_inv)\n",
    "\n",
    "        # Upper confidence bound = alpha * sqrt(x A^-1 xt). Notice that, x = xt\n",
    "        # ucb values are claculated for all the contexts in one single go. type(ucb): np.ndarray\n",
    "        ucb = self.alpha * np.sqrt(np.sum(x_A_inv * x, axis=1))\n",
    "\n",
    "        # Calculate linucb expectation y = x * b + ucb\n",
    "        return np.dot(x, self.beta) + ucb"
   ]
  },
  {
   "cell_type": "code",
   "execution_count": 5,
   "metadata": {},
   "outputs": [],
   "source": [
    "arm_A = LinUCB()\n",
    "arm_A.init(3)\n",
    "arm_A.fit(df_users_features[['u0', 'u1', 'u2']].iloc[:3], df_train[df_train['item_id'] == 'A']['response'])"
   ]
  },
  {
   "cell_type": "code",
   "execution_count": 6,
   "metadata": {},
   "outputs": [],
   "source": [
    "arm_B = LinUCB()\n",
    "arm_B.init(3)\n",
    "arm_B.fit(df_users_features[['u0', 'u1', 'u2']].iloc[:3], df_train[df_train['item_id'] == 'B']['response'])"
   ]
  },
  {
   "cell_type": "code",
   "execution_count": 7,
   "metadata": {},
   "outputs": [],
   "source": [
    "arm_C = LinUCB()\n",
    "arm_C.init(3)\n",
    "arm_C.fit(df_users_features[['u0', 'u1', 'u2']].iloc[:3], df_train[df_train['item_id'] == 'C']['response'])"
   ]
  },
  {
   "cell_type": "code",
   "execution_count": 8,
   "metadata": {},
   "outputs": [
    {
     "name": "stdout",
     "output_type": "stream",
     "text": [
      "Arm A score: [1.20710678]\n",
      "Arm B score: [0.70710678]\n",
      "Arm C score: [0.70710678]\n"
     ]
    }
   ],
   "source": [
    "context = np.array([[1, 0, 0]])\n",
    "arm_A_score = arm_A.predict(np.array(context))\n",
    "arm_B_score = arm_B.predict(np.array(context))\n",
    "arm_C_score = arm_C.predict(np.array(context))\n",
    "\n",
    "print(f\"Arm A score: {arm_A_score}\")\n",
    "print(f\"Arm B score: {arm_B_score}\")\n",
    "print(f\"Arm C score: {arm_C_score}\")"
   ]
  },
  {
   "cell_type": "code",
   "execution_count": 9,
   "metadata": {},
   "outputs": [
    {
     "name": "stdout",
     "output_type": "stream",
     "text": [
      "Arm A score: [0.70710678]\n",
      "Arm B score: [1.20710678]\n",
      "Arm C score: [0.70710678]\n"
     ]
    }
   ],
   "source": [
    "context = np.array([[0, 1, 0]])\n",
    "arm_A_score = arm_A.predict(np.array(context))\n",
    "arm_B_score = arm_B.predict(np.array(context))\n",
    "arm_C_score = arm_C.predict(np.array(context))\n",
    "\n",
    "print(f\"Arm A score: {arm_A_score}\")\n",
    "print(f\"Arm B score: {arm_B_score}\")\n",
    "print(f\"Arm C score: {arm_C_score}\")"
   ]
  },
  {
   "cell_type": "code",
   "execution_count": 10,
   "metadata": {},
   "outputs": [
    {
     "name": "stdout",
     "output_type": "stream",
     "text": [
      "Arm A score: [0.70710678]\n",
      "Arm B score: [0.70710678]\n",
      "Arm C score: [1.20710678]\n"
     ]
    }
   ],
   "source": [
    "context = np.array([[0, 0, 1]])\n",
    "arm_A_score = arm_A.predict(np.array(context))\n",
    "arm_B_score = arm_B.predict(np.array(context))\n",
    "arm_C_score = arm_C.predict(np.array(context))\n",
    "\n",
    "print(f\"Arm A score: {arm_A_score}\")\n",
    "print(f\"Arm B score: {arm_B_score}\")\n",
    "print(f\"Arm C score: {arm_C_score}\")"
   ]
  },
  {
   "cell_type": "code",
   "execution_count": 14,
   "metadata": {},
   "outputs": [],
   "source": [
    "# Example of how to train an singler recommender to generate top-4 recommendations\n",
    "\n",
    "# Import \n",
    "from mab2rec import BanditRecommender, LearningPolicy\n",
    "from mab2rec.pipeline import train, score\n",
    "\n",
    "# LinGreedy recommender to select top-4 items with 10% random exploration \n",
    "rec = BanditRecommender(LearningPolicy.LinUCB(), top_k=3)\n",
    "\n",
    "# Train on (user, item, response) interactions in train data using user features \n",
    "train(rec, data=df_train, \n",
    "      user_features=df_users_features)"
   ]
  },
  {
   "cell_type": "code",
   "execution_count": 17,
   "metadata": {},
   "outputs": [
    {
     "data": {
      "text/plain": [
       "(['A', 'C', 'B'], [1.2071067811865475, 0.7071067811865476, 0.7071067811865476])"
      ]
     },
     "execution_count": 17,
     "metadata": {},
     "output_type": "execute_result"
    }
   ],
   "source": [
    "rec.recommend(contexts=[[1, 0, 0]], return_scores=True, apply_sigmoid=False)"
   ]
  },
  {
   "cell_type": "code",
   "execution_count": 18,
   "metadata": {},
   "outputs": [
    {
     "data": {
      "text/plain": [
       "(['B', 'C', 'A'], [1.2071067811865475, 0.7071067811865476, 0.7071067811865476])"
      ]
     },
     "execution_count": 18,
     "metadata": {},
     "output_type": "execute_result"
    }
   ],
   "source": [
    "rec.recommend(contexts=[[0, 1, 0]], return_scores=True, apply_sigmoid=False)"
   ]
  },
  {
   "cell_type": "code",
   "execution_count": 19,
   "metadata": {},
   "outputs": [
    {
     "data": {
      "text/plain": [
       "(['C', 'B', 'A'], [1.2071067811865475, 0.7071067811865476, 0.7071067811865476])"
      ]
     },
     "execution_count": 19,
     "metadata": {},
     "output_type": "execute_result"
    }
   ],
   "source": [
    "rec.recommend(contexts=[[0, 0, 1]], return_scores=True, apply_sigmoid=False)"
   ]
  }
 ],
 "metadata": {
  "kernelspec": {
   "display_name": "RLRS-rllib",
   "language": "python",
   "name": "python3"
  },
  "language_info": {
   "codemirror_mode": {
    "name": "ipython",
    "version": 3
   },
   "file_extension": ".py",
   "mimetype": "text/x-python",
   "name": "python",
   "nbconvert_exporter": "python",
   "pygments_lexer": "ipython3",
   "version": "3.8.16"
  }
 },
 "nbformat": 4,
 "nbformat_minor": 2
}
