{
 "cells": [
  {
   "cell_type": "markdown",
   "metadata": {},
   "source": [
    "# Filtrando itens já consumido mab2rec"
   ]
  },
  {
   "cell_type": "code",
   "execution_count": 7,
   "metadata": {},
   "outputs": [],
   "source": [
    "import pandas as pd\n",
    "from mab2rec import BanditRecommender, LearningPolicy\n",
    "from mab2rec.pipeline import train\n",
    "from sklearn.preprocessing import LabelEncoder\n",
    "import implicit\n",
    "from scipy.sparse import csr_matrix\n",
    "from implicit.nearest_neighbours import bm25_weight\n",
    "import plotly.express as px\n",
    "import time\n",
    "import os\n",
    "import math\n",
    "\n",
    "train_data = \"../data/ml100k/data_train.csv\"\n",
    "test_data = \"../data/ml100k/data_test.csv\""
   ]
  },
  {
   "cell_type": "code",
   "execution_count": 8,
   "metadata": {},
   "outputs": [
    {
     "name": "stdout",
     "output_type": "stream",
     "text": [
      "   user_id  u0  u1  u2\n",
      "0        1   1   0   0\n",
      "1        2   0   1   0\n",
      "2        3   0   0   1\n"
     ]
    }
   ],
   "source": [
    "df_test = pd.DataFrame([\n",
    "    {\n",
    "        'user_id': 1,\n",
    "        'item_id': 1,\n",
    "        'response': 1\n",
    "    },\n",
    "    {\n",
    "        'user_id': 2,\n",
    "        'item_id': 2,\n",
    "        'response': 1\n",
    "    },\n",
    "    {\n",
    "        'user_id': 2,\n",
    "        'item_id': 3,\n",
    "        'response': 1\n",
    "    },\n",
    "    {\n",
    "        'user_id': 2,\n",
    "        'item_id': 4,\n",
    "        'response': 1\n",
    "    },\n",
    "    {\n",
    "        'user_id': 2,\n",
    "        'item_id': 5,\n",
    "        'response': 1\n",
    "    },\n",
    "    {\n",
    "        'user_id': 3,\n",
    "        'item_id': 2,\n",
    "        'response': 1\n",
    "    }\n",
    "])\n",
    "\n",
    "contexts = [[1, 0, 0], [0, 1, 0], [0, 0, 1]]\n",
    "\n",
    "contexts_df = pd.DataFrame({\n",
    "    'user_id': [1, 2, 3],\n",
    "    'u0': [contexts[0][0], contexts[1][0], contexts[2][0]],\n",
    "    'u1': [contexts[0][1], contexts[1][1], contexts[2][1]],\n",
    "    'u2': [contexts[0][2], contexts[1][2], contexts[2][2]]\n",
    "})\n",
    "print(contexts_df)"
   ]
  },
  {
   "cell_type": "code",
   "execution_count": 9,
   "metadata": {},
   "outputs": [],
   "source": [
    "rec_model = BanditRecommender(LearningPolicy.LinGreedy(0.1), top_k=1)\n",
    "train(rec_model, data=df_test, user_features=contexts_df)"
   ]
  },
  {
   "cell_type": "code",
   "execution_count": 10,
   "metadata": {},
   "outputs": [
    {
     "data": {
      "text/plain": [
       "[1]"
      ]
     },
     "execution_count": 10,
     "metadata": {},
     "output_type": "execute_result"
    }
   ],
   "source": [
    "rec_model.recommend(contexts=[[1, 0, 0]])  # Retorna 1, que já foi consumido pelo usuário 1"
   ]
  },
  {
   "cell_type": "code",
   "execution_count": 11,
   "metadata": {},
   "outputs": [
    {
     "data": {
      "text/plain": [
       "[5]"
      ]
     },
     "execution_count": 11,
     "metadata": {},
     "output_type": "execute_result"
    }
   ],
   "source": [
    "rec_model.recommend(contexts=[[1, 0, 0]], excluded_arms=[[1]])"
   ]
  },
  {
   "cell_type": "code",
   "execution_count": 12,
   "metadata": {},
   "outputs": [
    {
     "data": {
      "text/plain": [
       "[4]"
      ]
     },
     "execution_count": 12,
     "metadata": {},
     "output_type": "execute_result"
    }
   ],
   "source": [
    "rec_model.recommend(contexts=[[1, 0, 0]], excluded_arms=[[1, 5]])"
   ]
  },
  {
   "cell_type": "code",
   "execution_count": 57,
   "metadata": {},
   "outputs": [],
   "source": [
    "def group_interactions_by_user(interactions_df):\n",
    "    interactions_by_user = interactions_df\\\n",
    "                        .groupby('user_id')[['item_id']]\\\n",
    "                        .apply(lambda df_user: df_user['item_id'].tolist())\\\n",
    "                        .reset_index(name='interactions')\n",
    "    interactions_by_user = interactions_by_user.reset_index(drop=True)\n",
    "    return interactions_by_user"
   ]
  },
  {
   "cell_type": "code",
   "execution_count": 60,
   "metadata": {},
   "outputs": [],
   "source": [
    "grouped = group_interactions_by_user(df_test)"
   ]
  },
  {
   "cell_type": "code",
   "execution_count": 61,
   "metadata": {},
   "outputs": [
    {
     "data": {
      "text/plain": [
       "array([[list([1])],\n",
       "       [list([2, 3, 4, 5])],\n",
       "       [list([2, 3, 4, 5])],\n",
       "       [list([2, 3, 4, 5])],\n",
       "       [list([2, 3, 4, 5])],\n",
       "       [list([2])]], dtype=object)"
      ]
     },
     "execution_count": 61,
     "metadata": {},
     "output_type": "execute_result"
    }
   ],
   "source": [
    "df_test.merge(grouped, on='user_id').drop(columns=['user_id', 'item_id', 'response']).values"
   ]
  }
 ],
 "metadata": {
  "kernelspec": {
   "display_name": "RLRS-rllib",
   "language": "python",
   "name": "python3"
  },
  "language_info": {
   "codemirror_mode": {
    "name": "ipython",
    "version": 3
   },
   "file_extension": ".py",
   "mimetype": "text/x-python",
   "name": "python",
   "nbconvert_exporter": "python",
   "pygments_lexer": "ipython3",
   "version": "3.8.16"
  }
 },
 "nbformat": 4,
 "nbformat_minor": 2
}
