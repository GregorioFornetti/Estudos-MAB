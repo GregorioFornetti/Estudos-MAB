{
 "cells": [
  {
   "cell_type": "markdown",
   "metadata": {},
   "source": [
    "# Filtrando itens já consumido mab2rec"
   ]
  },
  {
   "cell_type": "markdown",
   "metadata": {},
   "source": [
    "## Testes iniciais de filtragem\n",
    "\n",
    "Antes de colocar no código principal, abaixo estão alguns testes que realizei para entender melhor o funcionamento do filtro do mab2rec e como gerar os ids de itens para a filtragem"
   ]
  },
  {
   "cell_type": "code",
   "execution_count": 1,
   "metadata": {},
   "outputs": [],
   "source": [
    "import pandas as pd\n",
    "from mab2rec import BanditRecommender, LearningPolicy\n",
    "from mab2rec.pipeline import train\n",
    "\n",
    "train_data = \"../data/ml100k/data_train.csv\"\n",
    "test_data = \"../data/ml100k/data_test.csv\""
   ]
  },
  {
   "cell_type": "code",
   "execution_count": 2,
   "metadata": {},
   "outputs": [
    {
     "name": "stdout",
     "output_type": "stream",
     "text": [
      "   user_id  u0  u1  u2\n",
      "0        1   1   0   0\n",
      "1        2   0   1   0\n",
      "2        3   0   0   1\n"
     ]
    }
   ],
   "source": [
    "df_test = pd.DataFrame([\n",
    "    {\n",
    "        'user_id': 1,\n",
    "        'item_id': 1,\n",
    "        'response': 1\n",
    "    },\n",
    "    {\n",
    "        'user_id': 2,\n",
    "        'item_id': 2,\n",
    "        'response': 1\n",
    "    },\n",
    "    {\n",
    "        'user_id': 2,\n",
    "        'item_id': 3,\n",
    "        'response': 1\n",
    "    },\n",
    "    {\n",
    "        'user_id': 2,\n",
    "        'item_id': 4,\n",
    "        'response': 1\n",
    "    },\n",
    "    {\n",
    "        'user_id': 2,\n",
    "        'item_id': 5,\n",
    "        'response': 1\n",
    "    },\n",
    "    {\n",
    "        'user_id': 3,\n",
    "        'item_id': 2,\n",
    "        'response': 1\n",
    "    }\n",
    "])\n",
    "\n",
    "contexts = [[1, 0, 0], [0, 1, 0], [0, 0, 1]]\n",
    "\n",
    "contexts_df = pd.DataFrame({\n",
    "    'user_id': [1, 2, 3],\n",
    "    'u0': [contexts[0][0], contexts[1][0], contexts[2][0]],\n",
    "    'u1': [contexts[0][1], contexts[1][1], contexts[2][1]],\n",
    "    'u2': [contexts[0][2], contexts[1][2], contexts[2][2]]\n",
    "})\n",
    "print(contexts_df)"
   ]
  },
  {
   "cell_type": "code",
   "execution_count": 3,
   "metadata": {},
   "outputs": [],
   "source": [
    "rec_model = BanditRecommender(LearningPolicy.LinGreedy(0.1), top_k=1)\n",
    "train(rec_model, data=df_test, user_features=contexts_df)"
   ]
  },
  {
   "cell_type": "code",
   "execution_count": 4,
   "metadata": {},
   "outputs": [
    {
     "data": {
      "text/plain": [
       "[1]"
      ]
     },
     "execution_count": 4,
     "metadata": {},
     "output_type": "execute_result"
    }
   ],
   "source": [
    "rec_model.recommend(contexts=[[1, 0, 0]])  # Retorna 1, que já foi consumido pelo usuário 1"
   ]
  },
  {
   "cell_type": "code",
   "execution_count": 5,
   "metadata": {},
   "outputs": [
    {
     "data": {
      "text/plain": [
       "[5]"
      ]
     },
     "execution_count": 5,
     "metadata": {},
     "output_type": "execute_result"
    }
   ],
   "source": [
    "rec_model.recommend(contexts=[[1, 0, 0]], excluded_arms=[[1]])"
   ]
  },
  {
   "cell_type": "code",
   "execution_count": 6,
   "metadata": {},
   "outputs": [
    {
     "data": {
      "text/plain": [
       "[4]"
      ]
     },
     "execution_count": 6,
     "metadata": {},
     "output_type": "execute_result"
    }
   ],
   "source": [
    "rec_model.recommend(contexts=[[1, 0, 0]], excluded_arms=[[1, 5]])"
   ]
  },
  {
   "cell_type": "code",
   "execution_count": 7,
   "metadata": {},
   "outputs": [],
   "source": [
    "def group_interactions_by_user(interactions_df):\n",
    "    interactions_by_user = interactions_df\\\n",
    "                        .groupby('user_id')[['item_id']]\\\n",
    "                        .apply(lambda df_user: df_user['item_id'].tolist())\\\n",
    "                        .reset_index(name='interactions')\n",
    "    interactions_by_user = interactions_by_user.reset_index(drop=True)\n",
    "    return interactions_by_user"
   ]
  },
  {
   "cell_type": "code",
   "execution_count": 8,
   "metadata": {},
   "outputs": [
    {
     "data": {
      "text/html": [
       "<div>\n",
       "<style scoped>\n",
       "    .dataframe tbody tr th:only-of-type {\n",
       "        vertical-align: middle;\n",
       "    }\n",
       "\n",
       "    .dataframe tbody tr th {\n",
       "        vertical-align: top;\n",
       "    }\n",
       "\n",
       "    .dataframe thead th {\n",
       "        text-align: right;\n",
       "    }\n",
       "</style>\n",
       "<table border=\"1\" class=\"dataframe\">\n",
       "  <thead>\n",
       "    <tr style=\"text-align: right;\">\n",
       "      <th></th>\n",
       "      <th>user_id</th>\n",
       "      <th>interactions</th>\n",
       "    </tr>\n",
       "  </thead>\n",
       "  <tbody>\n",
       "    <tr>\n",
       "      <th>0</th>\n",
       "      <td>1</td>\n",
       "      <td>[1]</td>\n",
       "    </tr>\n",
       "    <tr>\n",
       "      <th>1</th>\n",
       "      <td>2</td>\n",
       "      <td>[2, 3, 4, 5]</td>\n",
       "    </tr>\n",
       "    <tr>\n",
       "      <th>2</th>\n",
       "      <td>3</td>\n",
       "      <td>[2]</td>\n",
       "    </tr>\n",
       "  </tbody>\n",
       "</table>\n",
       "</div>"
      ],
      "text/plain": [
       "   user_id  interactions\n",
       "0        1           [1]\n",
       "1        2  [2, 3, 4, 5]\n",
       "2        3           [2]"
      ]
     },
     "execution_count": 8,
     "metadata": {},
     "output_type": "execute_result"
    }
   ],
   "source": [
    "grouped = group_interactions_by_user(df_test)\n",
    "grouped"
   ]
  },
  {
   "cell_type": "code",
   "execution_count": 9,
   "metadata": {},
   "outputs": [
    {
     "data": {
      "text/plain": [
       "[[1], [2, 3, 4, 5], [2]]"
      ]
     },
     "execution_count": 9,
     "metadata": {},
     "output_type": "execute_result"
    }
   ],
   "source": [
    "grouped['interactions'].tolist()"
   ]
  },
  {
   "cell_type": "code",
   "execution_count": 10,
   "metadata": {},
   "outputs": [
    {
     "name": "stdout",
     "output_type": "stream",
     "text": [
      "[[list([1])]\n",
      " [list([2, 3, 4, 5])]\n",
      " [list([2, 3, 4, 5])]\n",
      " [list([2, 3, 4, 5])]\n",
      " [list([2, 3, 4, 5])]\n",
      " [list([2])]]\n"
     ]
    }
   ],
   "source": [
    "filters = df_test.merge(grouped, on='user_id').drop(columns=['user_id', 'item_id', 'response']).values\n",
    "print(filters)"
   ]
  },
  {
   "cell_type": "code",
   "execution_count": 11,
   "metadata": {},
   "outputs": [
    {
     "data": {
      "text/plain": [
       "(6, 1)"
      ]
     },
     "execution_count": 11,
     "metadata": {},
     "output_type": "execute_result"
    }
   ],
   "source": [
    "filters.shape"
   ]
  },
  {
   "cell_type": "code",
   "execution_count": 12,
   "metadata": {},
   "outputs": [
    {
     "name": "stdout",
     "output_type": "stream",
     "text": [
      "[list([1]) list([2, 3, 4, 5]) list([2, 3, 4, 5]) list([2, 3, 4, 5])\n",
      " list([2, 3, 4, 5]) list([2])]\n",
      "(6,)\n"
     ]
    }
   ],
   "source": [
    "filters = filters.squeeze(axis=1)\n",
    "print(filters)\n",
    "print(filters.shape)"
   ]
  },
  {
   "cell_type": "code",
   "execution_count": 13,
   "metadata": {},
   "outputs": [
    {
     "data": {
      "text/plain": [
       "[[5], [1], [1], [1], [1], [5]]"
      ]
     },
     "execution_count": 13,
     "metadata": {},
     "output_type": "execute_result"
    }
   ],
   "source": [
    "contexts = df_test.merge(contexts_df, on='user_id').drop(columns=['user_id', 'item_id', 'response']).values\n",
    "filters = df_test.merge(grouped, on='user_id').drop(columns=['user_id', 'item_id', 'response']).values.squeeze(axis=1)\n",
    "\n",
    "rec_model.recommend(contexts=contexts, excluded_arms=filters)"
   ]
  },
  {
   "cell_type": "code",
   "execution_count": 14,
   "metadata": {},
   "outputs": [
    {
     "name": "stdout",
     "output_type": "stream",
     "text": [
      "()\n"
     ]
    },
    {
     "data": {
      "text/plain": [
       "(1,)"
      ]
     },
     "execution_count": 14,
     "metadata": {},
     "output_type": "execute_result"
    }
   ],
   "source": [
    "teste_squeeze = df_test.iloc[1:2].merge(grouped, on='user_id').drop(columns=['user_id', 'item_id', 'response']).values.squeeze()\n",
    "print(teste_squeeze.shape)\n",
    "\n",
    "teste_squeeze = df_test.iloc[1:2].merge(grouped, on='user_id').drop(columns=['user_id', 'item_id', 'response']).values.squeeze(axis=1)\n",
    "teste_squeeze.shape  \n",
    "# Precisa colocar o axis=1 pois quando tiver apenas um usuário, vai retornar um array de shape inexistente/inválido"
   ]
  },
  {
   "cell_type": "markdown",
   "metadata": {},
   "source": [
    "## Testando os modelos MAB com o filtro"
   ]
  },
  {
   "cell_type": "code",
   "execution_count": 15,
   "metadata": {},
   "outputs": [],
   "source": [
    "from sklearn.preprocessing import LabelEncoder\n",
    "from scipy.sparse import csr_matrix\n",
    "import plotly.express as px\n",
    "import time\n",
    "import os\n",
    "\n",
    "train_data = \"../data/ml100k/data_train.csv\"\n",
    "test_data = \"../data/ml100k/data_test.csv\""
   ]
  },
  {
   "cell_type": "code",
   "execution_count": 16,
   "metadata": {},
   "outputs": [],
   "source": [
    "FACTORS = 10"
   ]
  },
  {
   "cell_type": "code",
   "execution_count": 17,
   "metadata": {},
   "outputs": [],
   "source": [
    "\n",
    "import implicit.cpu\n",
    "\n",
    "\n",
    "def train_embeddings_model(Model, df, num_users, num_items, generate_embeddings=False):\n",
    "    sparse_matrix = csr_matrix((df['response'], (df['user_id'], df['item_id'])), shape=(num_users, num_items))\n",
    "\n",
    "    model = Model(factors=FACTORS, random_state=1, num_threads=1)\n",
    "    model.fit(sparse_matrix)\n",
    "\n",
    "    if not generate_embeddings:\n",
    "        return model, sparse_matrix\n",
    "    \n",
    "    user_features_list = []\n",
    "\n",
    "    for user_id in df['user_id'].unique():\n",
    "        user_factors = model.user_factors[user_id][:FACTORS]  # O BPR coloca 1 no final dos vetores latentes ?\n",
    "        user_features_list.append([user_id] + list(user_factors))\n",
    "\n",
    "    df_user_features = pd.DataFrame(user_features_list, columns=['user_id'] + [f'u{i}' for i in range(FACTORS)])\n",
    "\n",
    "    return model, sparse_matrix, df_user_features"
   ]
  },
  {
   "cell_type": "code",
   "execution_count": 18,
   "metadata": {},
   "outputs": [],
   "source": [
    "\n",
    "def test_embeddings_model(model, sparse_matrix, df_test):\n",
    "    all_recs = []\n",
    "\n",
    "    start_time = time.time()\n",
    "    hits = 0\n",
    "    for _, interaction in df_test.iterrows():\n",
    "        ids_recs, _ = model.recommend(userid=interaction['user_id'], user_items=sparse_matrix[interaction['user_id']], N=10)\n",
    "        if interaction['item_id'] in ids_recs:\n",
    "            hits += 1\n",
    "        all_recs.append(ids_recs.tolist())\n",
    "    \n",
    "    recs_df = pd.DataFrame({\n",
    "        'interaction_number': [i for i in range(len(df_test))],\n",
    "        'user_id': df_test['user_id'],\n",
    "        'item_id': df_test['item_id'],\n",
    "        'recommendations': all_recs\n",
    "    })\n",
    "    \n",
    "    return hits, hits/len(df_test), time.time() - start_time, recs_df"
   ]
  },
  {
   "cell_type": "code",
   "execution_count": 19,
   "metadata": {},
   "outputs": [],
   "source": [
    "\n",
    "def test_non_incremental(mab_algo, user_features, df_test, interactions_by_user):\n",
    "    start_time = time.time()\n",
    "    hits = 0\n",
    "\n",
    "    contexts = df_test.merge(user_features, how='left', on='user_id').drop(columns=['user_id', 'item_id', 'response']).values\n",
    "    filters = df_test.merge(interactions_by_user, how='left', on='user_id').drop(columns=['user_id', 'item_id', 'response']).values.squeeze(axis=1)  # MUDANÇA AQUI\n",
    "\n",
    "    recomendations = mab_algo.recommend(contexts, filters)  # USANDO OS FILTROS\n",
    "\n",
    "    df_test = df_test.reset_index(drop=True)\n",
    "\n",
    "    hits = 0\n",
    "    for i, interaction in df_test.iterrows():\n",
    "        if interaction['item_id'] in recomendations[i]:\n",
    "            hits += 1\n",
    "    \n",
    "    recs_df = pd.DataFrame({\n",
    "        'interaction_number': [i for i in range(len(df_test))],\n",
    "        'user_id': df_test['user_id'],\n",
    "        'item_id': df_test['item_id'],\n",
    "        'recommendations': recomendations\n",
    "    })\n",
    "\n",
    "    return hits, hits/len(df_test), time.time() - start_time, recs_df"
   ]
  },
  {
   "cell_type": "code",
   "execution_count": 20,
   "metadata": {},
   "outputs": [],
   "source": [
    "\n",
    "def test_incremental(mab_algo, user_features, df_test, df_test_for_evaluation, batch_size, interactions_by_user):\n",
    "    recs = []\n",
    "\n",
    "    start_time = time.time()\n",
    "    hits = 0\n",
    "\n",
    "    for i in range(0, len(df_test), batch_size):\n",
    "        # Fazendo recomendações para teste\n",
    "        df_batch_test = df_test_for_evaluation.loc[i:i+batch_size-1]\n",
    "        contexts = df_batch_test.merge(user_features, how='left', on='user_id').drop(columns=['user_id', 'item_id', 'response']).values\n",
    "        filters = df_batch_test.merge(interactions_by_user, how='left', on='user_id').drop(columns=['user_id', 'item_id', 'response']).values.squeeze(axis=1)  # MUDANÇA AQUI\n",
    "\n",
    "        if len(contexts) > 0: # Se não tiver nenhuma interação positiva, não faz sentido fazer recomendações\n",
    "            recomendations = mab_algo.recommend(contexts, filters)  # USANDO OS FILTROS\n",
    "            if isinstance(recomendations, list) and isinstance(recomendations[0], int):\n",
    "                # Quando o contexto tem tamanho 1, a recomendação é uma lista, e não uma lista de listas\n",
    "                recomendations = [recomendations]\n",
    "\n",
    "            df_batch_test = df_batch_test.reset_index(drop=True)\n",
    "\n",
    "            for j, interaction in df_batch_test.iterrows():\n",
    "                if interaction['item_id'] in recomendations[j]:\n",
    "                    hits += 1\n",
    "            \n",
    "            recs.extend(recomendations)\n",
    "        \n",
    "        # Treinando com o batch\n",
    "        df_batch_train = df_test.loc[i:i+batch_size-1]\n",
    "        contexts = df_batch_train.merge(user_features, how='left', on='user_id').drop(columns=['user_id', 'item_id', 'response']).values\n",
    "\n",
    "        mab_algo.partial_fit(df_batch_train['item_id'], df_batch_train['response'], contexts)\n",
    "    \n",
    "    recs_df = pd.DataFrame({\n",
    "        'interaction_number': [i for i in range(len(df_test_for_evaluation))],\n",
    "        'user_id': df_test_for_evaluation['user_id'],\n",
    "        'item_id': df_test_for_evaluation['item_id'],\n",
    "        'recommendations': recs\n",
    "    })\n",
    "\n",
    "    return hits, hits/len(df_test_for_evaluation), time.time() - start_time, recs_df"
   ]
  },
  {
   "cell_type": "code",
   "execution_count": 21,
   "metadata": {},
   "outputs": [],
   "source": [
    "\n",
    "def test(test_size, train_initial_size, train_extra_increment_step_size):\n",
    "    '''\n",
    "    - `test_size`: define o tamanho da partição de teste no train/test split inicial. Por exemplo, se for escolhido 0.1 (10%), a partição de teste terá 10% das interações e a partição de treino terá 90% das interações. O tamanho da partição de teste passará ainda por um filtro com o tamanho do treino inicial, definido no próximo parâmetro.\n",
    "    - `train_initial_size`: define o tamanho inicial que será usado para treino dos modelos. Esse tamanho é uma porcentagem da partição de treino, por exemplo, 0.5 (50%) quer dizer que o treino será feito inicialmente com 50% das interações separadas para treino. Vale ressaltar que essa porcentagem é relacionada apenas à partição de treino, então, se temos uma partição de treino de 0.9 (90%) e o “train_initial_size” é definido como 0.5 (50%), então, teremos 45% (0.9 * 0.5) das interações todas para o treino inicial. Com a base de treino separada com essa porcentagem inicial, a base de teste passara por um filtro, removendo todas as interações com itens ou usuários que nunca foram vistos nesse treino inicial.\n",
    "    - `train_extra_increment_step_size`: define a porcentagem do \"treinamento extra\" que será usado. No início a base de dados é separada em treino inicial (train_initial_size), \"treinamento extra\" e teste. O \"treinamento extra\", assim como o teste, passa por um filtro para remover interações com itens ou usuários que nunca foram vistos no treino inicial. Após o treino inicial, o \"treinamento extra\" é usado para treinar os modelos de embeddings e os modelos de bandit. O \"treinamento extra\" é incrementado a cada iteração, de acordo com o valor desse parâmetro. Por exemplo, se o `train_extra_increment_step_size` é 0.1 (10%), então, a cada iteração, 10% das interações são adicionadas ao treino, até que todo o \"treinamento extra\" seja usado.\n",
    "    '''\n",
    "    results = []\n",
    "    df_recs = pd.DataFrame(columns=['algorithm', 'interaction_number', 'user_id', 'item_id', 'recommendations'])\n",
    "    df_train = pd.read_csv(train_data)\n",
    "    df_test = pd.read_csv(test_data)\n",
    "\n",
    "    df_full = pd.concat([df_train, df_test])\n",
    "\n",
    "    df_full['user_id'] = LabelEncoder().fit_transform(df_full['user_id'])\n",
    "    df_full['item_id'] = LabelEncoder().fit_transform(df_full['item_id'])\n",
    "\n",
    "    num_users = df_full['user_id'].nunique()\n",
    "    num_items = df_full['item_id'].nunique()\n",
    "\n",
    "    split_index = int(len(df_full) * (1 - test_size))\n",
    "    df_train_full = df_full[:split_index]\n",
    "    df_test = df_full[split_index:]\n",
    "\n",
    "    initial_df_train = df_train_full[:int(len(df_train_full) * train_initial_size)]\n",
    "    extra_df_train = df_train_full[int(len(df_train_full) * train_initial_size):]\n",
    "    extra_df_train = extra_df_train[(extra_df_train['user_id'].isin(initial_df_train['user_id'])) & (extra_df_train['item_id'].isin(initial_df_train['item_id']))]\n",
    "    extra_df_train = extra_df_train.reset_index(drop=True)\n",
    "\n",
    "    df_test = df_test[(df_test['user_id'].isin(initial_df_train['user_id'])) & (df_test['item_id'].isin(initial_df_train['item_id']))]\n",
    "    df_test = df_test.reset_index(drop=True)\n",
    "    df_test_for_evaluation = df_test[df_test['response'] == 1]\n",
    "\n",
    "    print('Generating ALS embeddings')\n",
    "    ALS_model, _, ALS_user_features = train_embeddings_model(implicit.als.AlternatingLeastSquares, initial_df_train, num_users, num_items, generate_embeddings=True)\n",
    "\n",
    "    print('Generating BPR embeddings')\n",
    "    BPR_model, _, BPR_user_features = train_embeddings_model(implicit.bpr.BayesianPersonalizedRanking, initial_df_train, num_users, num_items, generate_embeddings=True)\n",
    "\n",
    "    def save_algo_result(algo_name, hits, hr, spent_time, df_recs_algo, current_extra_train_size):\n",
    "        df_recs_algo['algorithm'] = algo_name\n",
    "        df_recs_algo['train_size'] = current_extra_train_size\n",
    "        df_recs_new = pd.concat([df_recs, df_recs_algo])\n",
    "        results.append({'algorithm': algo_name, 'hits': hits, 'hr': hr, 'time': spent_time, 'train_size': current_extra_train_size})\n",
    "        return df_recs_new\n",
    "\n",
    "    current_extra_train_size = 0\n",
    "    while current_extra_train_size <= 1:\n",
    "        print(f\"Current extra train size: {current_extra_train_size}\")\n",
    "\n",
    "        current_df_train = pd.concat([initial_df_train, extra_df_train[:int(len(extra_df_train) * current_extra_train_size)]])\n",
    "        interactions_by_user = group_interactions_by_user(current_df_train)  # MUDANÇA AQUI\n",
    "\n",
    "        # -------------- ALS -----------------\n",
    "        print('Training ALS')\n",
    "        ALS_model, sparse_matrix = train_embeddings_model(implicit.als.AlternatingLeastSquares, current_df_train, num_users, num_items)\n",
    "\n",
    "        print('Testing ALS')\n",
    "        hits, hr, spent_time, df_recs_als = test_embeddings_model(ALS_model, sparse_matrix, df_test_for_evaluation)\n",
    "        df_recs = save_algo_result('ALS', hits, hr, spent_time, df_recs_als, current_extra_train_size)\n",
    "\n",
    "        # -------------- BPR -----------------\n",
    "        print('Training BPR')\n",
    "        BPR_model, sparse_matrix = train_embeddings_model(implicit.bpr.BayesianPersonalizedRanking, current_df_train, num_users, num_items)\n",
    "\n",
    "        print('Testing BPR')\n",
    "        hits, hr, spent_time, df_recs_bpr = test_embeddings_model(BPR_model, sparse_matrix, df_test_for_evaluation)\n",
    "        df_recs = save_algo_result('BPR', hits, hr, spent_time, df_recs_bpr, current_extra_train_size)\n",
    "\n",
    "        # ------ LinUCB - non-incremental - ALS embeddings -------\n",
    "        print('Training LinUCB - non-incremental - ALS embeddings')\n",
    "        linUCB_model = BanditRecommender(learning_policy=LearningPolicy.LinUCB(alpha=0.1), top_k=10)\n",
    "        train(linUCB_model, data=current_df_train, user_features=ALS_user_features)\n",
    "\n",
    "        print('Testing LinUCB - non-incremental - ALS embeddings')\n",
    "        hits, hr, spent_time, df_recs_linUCB = test_non_incremental(linUCB_model, ALS_user_features, df_test_for_evaluation, interactions_by_user)\n",
    "        df_recs = save_algo_result('LinUCB - non-incremental - ALS embeddings', hits, hr, spent_time, df_recs_linUCB, current_extra_train_size)\n",
    "\n",
    "\n",
    "        # ------ LinUCB - non-incremental - BPR embeddings -------\n",
    "        print('Training LinUCB - non-incremental - BPR embeddings')\n",
    "        linUCB_model = BanditRecommender(learning_policy=LearningPolicy.LinUCB(alpha=0.1), top_k=10)\n",
    "        train(linUCB_model, data=current_df_train, user_features=BPR_user_features)\n",
    "\n",
    "        print('Testing LinUCB - non-incremental - BPR embeddings')\n",
    "        hits, hr, spent_time, df_recs_linUCB = test_non_incremental(linUCB_model, BPR_user_features, df_test_for_evaluation, interactions_by_user)\n",
    "        df_recs = save_algo_result('LinUCB - non-incremental - BPR embeddings', hits, hr, spent_time, df_recs_linUCB, current_extra_train_size)\n",
    "\n",
    "\n",
    "        # ------ LinUCB - incremental - ALS embeddings -------\n",
    "        print('Training LinUCB - incremental - ALS embeddings')\n",
    "        linUCB_model = BanditRecommender(learning_policy=LearningPolicy.LinUCB(alpha=0.1), top_k=10)\n",
    "        train(linUCB_model, data=current_df_train, user_features=ALS_user_features)\n",
    "\n",
    "        print('Testing LinUCB - incremental - ALS embeddings')\n",
    "        hits, hr, spent_time, df_recs_linUCB = test_incremental(linUCB_model, ALS_user_features, df_test, df_test_for_evaluation, 10, interactions_by_user)\n",
    "        df_recs = save_algo_result('LinUCB - incremental - ALS embeddings', hits, hr, spent_time, df_recs_linUCB, current_extra_train_size)\n",
    "\n",
    "\n",
    "        # ------ LinUCB - incremental - BPR embeddings -------\n",
    "        print('Training LinUCB - incremental - BPR embeddings')\n",
    "        linUCB_model = BanditRecommender(learning_policy=LearningPolicy.LinUCB(alpha=0.1), top_k=10)\n",
    "        train(linUCB_model, data=current_df_train, user_features=BPR_user_features)\n",
    "\n",
    "        print('Testing LinUCB - incremental - BPR embeddings')\n",
    "        hits, hr, spent_time, df_recs_linUCB = test_incremental(linUCB_model, BPR_user_features, df_test, df_test_for_evaluation, 10, interactions_by_user)\n",
    "        df_recs = save_algo_result('LinUCB - incremental - BPR embeddings', hits, hr, spent_time, df_recs_linUCB, current_extra_train_size)\n",
    "\n",
    "\n",
    "        # ------ LinGreedy - non-incremental - ALS embeddings -------\n",
    "        print('Training LinGreedy - non-incremental - ALS embeddings')\n",
    "        linGreedy_model = BanditRecommender(learning_policy=LearningPolicy.LinGreedy(epsilon=0.01), top_k=10)\n",
    "        train(linGreedy_model, data=current_df_train, user_features=ALS_user_features)\n",
    "\n",
    "        print('Testing LinGreedy - non-incremental - ALS embeddings')\n",
    "        hits, hr, spent_time, df_recs_linGreedy = test_non_incremental(linGreedy_model, ALS_user_features, df_test_for_evaluation, interactions_by_user)\n",
    "        df_recs = save_algo_result('LinGreedy - non-incremental - ALS embeddings', hits, hr, spent_time, df_recs_linGreedy, current_extra_train_size)\n",
    "\n",
    "\n",
    "        # ------ LinGreedy - non-incremental - BPR embeddings -------\n",
    "        print('Training LinGreedy - non-incremental - BPR embeddings')\n",
    "        linGreedy_model = BanditRecommender(learning_policy=LearningPolicy.LinGreedy(epsilon=0.01), top_k=10)\n",
    "        train(linGreedy_model, data=current_df_train, user_features=BPR_user_features)\n",
    "\n",
    "        print('Testing LinGreedy - non-incremental - BPR embeddings')\n",
    "        hits, hr, spent_time, df_recs_linGreedy = test_non_incremental(linGreedy_model, BPR_user_features, df_test_for_evaluation, interactions_by_user)\n",
    "        df_recs = save_algo_result('LinGreedy - non-incremental - BPR embeddings', hits, hr, spent_time, df_recs_linGreedy, current_extra_train_size)\n",
    "\n",
    "\n",
    "        # ------ LinGreedy - incremental - ALS embeddings -------\n",
    "        print('Training LinGreedy - incremental - ALS embeddings')\n",
    "        linGreedy_model = BanditRecommender(learning_policy=LearningPolicy.LinGreedy(epsilon=0.01), top_k=10)\n",
    "        train(linGreedy_model, data=current_df_train, user_features=ALS_user_features)\n",
    "\n",
    "        print('Testing LinGreedy - incremental - ALS embeddings')\n",
    "        hits, hr, spent_time, df_recs_linGreedy = test_incremental(linGreedy_model, ALS_user_features, df_test, df_test_for_evaluation, 10, interactions_by_user)\n",
    "        df_recs = save_algo_result('LinGreedy - incremental - ALS embeddings', hits, hr, spent_time, df_recs_linGreedy, current_extra_train_size)\n",
    "\n",
    "        # ------ LinGreedy - incremental - BPR embeddings -------\n",
    "        print('Training LinGreedy - incremental - BPR embeddings')\n",
    "        linGreedy_model = BanditRecommender(learning_policy=LearningPolicy.LinGreedy(epsilon=0.01), top_k=10)\n",
    "        train(linGreedy_model, data=current_df_train, user_features=BPR_user_features)\n",
    "\n",
    "        print('Testing LinGreedy - incremental - BPR embeddings')\n",
    "        hits, hr, spent_time, df_recs_linGreedy = test_incremental(linGreedy_model, BPR_user_features, df_test, df_test_for_evaluation, 10, interactions_by_user)\n",
    "        df_recs = save_algo_result('LinGreedy - incremental - BPR embeddings', hits, hr, spent_time, df_recs_linGreedy, current_extra_train_size)\n",
    "        \n",
    "        # Incrementando o tamanho do treino para próxima iteração\n",
    "        current_extra_train_size = round(current_extra_train_size + train_extra_increment_step_size, 2)\n",
    "    \n",
    "    save_path = f'results-v5/'\n",
    "    if not os.path.exists(save_path):\n",
    "        os.makedirs(save_path)\n",
    "\n",
    "    df_results = pd.DataFrame(results)\n",
    "    df_results = df_results.astype({'hits': int, 'hr': float, 'time': float})\n",
    "    df_results['test_size'] = round(test_size, 2)\n",
    "    df_results['test_interactions'] = len(df_test_for_evaluation)\n",
    "\n",
    "    df_results.to_csv(f'{save_path}/results.csv', index=False)\n",
    "    df_recs.to_csv(f'{save_path}/recs.csv', index=False)"
   ]
  },
  {
   "cell_type": "code",
   "execution_count": 22,
   "metadata": {},
   "outputs": [
    {
     "name": "stdout",
     "output_type": "stream",
     "text": [
      "Generating ALS embeddings\n"
     ]
    },
    {
     "data": {
      "application/vnd.jupyter.widget-view+json": {
       "model_id": "66a4cff1212a4a829063eecc8e1b96ac",
       "version_major": 2,
       "version_minor": 0
      },
      "text/plain": [
       "  0%|          | 0/15 [00:00<?, ?it/s]"
      ]
     },
     "metadata": {},
     "output_type": "display_data"
    },
    {
     "name": "stdout",
     "output_type": "stream",
     "text": [
      "Generating BPR embeddings\n"
     ]
    },
    {
     "data": {
      "application/vnd.jupyter.widget-view+json": {
       "model_id": "44850c80a6484f8ea55d3af5cf62541b",
       "version_major": 2,
       "version_minor": 0
      },
      "text/plain": [
       "  0%|          | 0/100 [00:00<?, ?it/s]"
      ]
     },
     "metadata": {},
     "output_type": "display_data"
    },
    {
     "name": "stdout",
     "output_type": "stream",
     "text": [
      "Current extra train size: 0\n",
      "Training ALS\n"
     ]
    },
    {
     "data": {
      "application/vnd.jupyter.widget-view+json": {
       "model_id": "9d0f15803d684391aa5053c43ed441fd",
       "version_major": 2,
       "version_minor": 0
      },
      "text/plain": [
       "  0%|          | 0/15 [00:00<?, ?it/s]"
      ]
     },
     "metadata": {},
     "output_type": "display_data"
    },
    {
     "name": "stdout",
     "output_type": "stream",
     "text": [
      "Testing ALS\n",
      "Training BPR\n"
     ]
    },
    {
     "data": {
      "application/vnd.jupyter.widget-view+json": {
       "model_id": "ddfd0f0fc7bc4d18b7d076a25ad3ca4d",
       "version_major": 2,
       "version_minor": 0
      },
      "text/plain": [
       "  0%|          | 0/100 [00:00<?, ?it/s]"
      ]
     },
     "metadata": {},
     "output_type": "display_data"
    },
    {
     "name": "stdout",
     "output_type": "stream",
     "text": [
      "Testing BPR\n",
      "Training LinUCB - non-incremental - ALS embeddings\n",
      "Testing LinUCB - non-incremental - ALS embeddings\n",
      "Training LinUCB - non-incremental - BPR embeddings\n",
      "Testing LinUCB - non-incremental - BPR embeddings\n",
      "Training LinUCB - incremental - ALS embeddings\n",
      "Testing LinUCB - incremental - ALS embeddings\n",
      "Training LinUCB - incremental - BPR embeddings\n",
      "Testing LinUCB - incremental - BPR embeddings\n",
      "Training LinGreedy - non-incremental - ALS embeddings\n",
      "Testing LinGreedy - non-incremental - ALS embeddings\n",
      "Training LinGreedy - non-incremental - BPR embeddings\n",
      "Testing LinGreedy - non-incremental - BPR embeddings\n",
      "Training LinGreedy - incremental - ALS embeddings\n",
      "Testing LinGreedy - incremental - ALS embeddings\n",
      "Training LinGreedy - incremental - BPR embeddings\n",
      "Testing LinGreedy - incremental - BPR embeddings\n",
      "Current extra train size: 0.1\n",
      "Training ALS\n"
     ]
    },
    {
     "data": {
      "application/vnd.jupyter.widget-view+json": {
       "model_id": "9b96d0cbe65e47ab832bb83ae75431a7",
       "version_major": 2,
       "version_minor": 0
      },
      "text/plain": [
       "  0%|          | 0/15 [00:00<?, ?it/s]"
      ]
     },
     "metadata": {},
     "output_type": "display_data"
    },
    {
     "name": "stdout",
     "output_type": "stream",
     "text": [
      "Testing ALS\n",
      "Training BPR\n"
     ]
    },
    {
     "data": {
      "application/vnd.jupyter.widget-view+json": {
       "model_id": "85f83c16b1b74ff0926bc3a46e8113e4",
       "version_major": 2,
       "version_minor": 0
      },
      "text/plain": [
       "  0%|          | 0/100 [00:00<?, ?it/s]"
      ]
     },
     "metadata": {},
     "output_type": "display_data"
    },
    {
     "name": "stdout",
     "output_type": "stream",
     "text": [
      "Testing BPR\n",
      "Training LinUCB - non-incremental - ALS embeddings\n",
      "Testing LinUCB - non-incremental - ALS embeddings\n",
      "Training LinUCB - non-incremental - BPR embeddings\n",
      "Testing LinUCB - non-incremental - BPR embeddings\n",
      "Training LinUCB - incremental - ALS embeddings\n",
      "Testing LinUCB - incremental - ALS embeddings\n",
      "Training LinUCB - incremental - BPR embeddings\n",
      "Testing LinUCB - incremental - BPR embeddings\n",
      "Training LinGreedy - non-incremental - ALS embeddings\n",
      "Testing LinGreedy - non-incremental - ALS embeddings\n",
      "Training LinGreedy - non-incremental - BPR embeddings\n",
      "Testing LinGreedy - non-incremental - BPR embeddings\n",
      "Training LinGreedy - incremental - ALS embeddings\n",
      "Testing LinGreedy - incremental - ALS embeddings\n",
      "Training LinGreedy - incremental - BPR embeddings\n",
      "Testing LinGreedy - incremental - BPR embeddings\n",
      "Current extra train size: 0.2\n",
      "Training ALS\n"
     ]
    },
    {
     "data": {
      "application/vnd.jupyter.widget-view+json": {
       "model_id": "c20ce4318f2848f2b9d932d8f6ef9200",
       "version_major": 2,
       "version_minor": 0
      },
      "text/plain": [
       "  0%|          | 0/15 [00:00<?, ?it/s]"
      ]
     },
     "metadata": {},
     "output_type": "display_data"
    },
    {
     "name": "stdout",
     "output_type": "stream",
     "text": [
      "Testing ALS\n",
      "Training BPR\n"
     ]
    },
    {
     "data": {
      "application/vnd.jupyter.widget-view+json": {
       "model_id": "797a9cd2c5b14e1da64eae044944c601",
       "version_major": 2,
       "version_minor": 0
      },
      "text/plain": [
       "  0%|          | 0/100 [00:00<?, ?it/s]"
      ]
     },
     "metadata": {},
     "output_type": "display_data"
    },
    {
     "name": "stdout",
     "output_type": "stream",
     "text": [
      "Testing BPR\n",
      "Training LinUCB - non-incremental - ALS embeddings\n",
      "Testing LinUCB - non-incremental - ALS embeddings\n",
      "Training LinUCB - non-incremental - BPR embeddings\n",
      "Testing LinUCB - non-incremental - BPR embeddings\n",
      "Training LinUCB - incremental - ALS embeddings\n",
      "Testing LinUCB - incremental - ALS embeddings\n",
      "Training LinUCB - incremental - BPR embeddings\n",
      "Testing LinUCB - incremental - BPR embeddings\n",
      "Training LinGreedy - non-incremental - ALS embeddings\n",
      "Testing LinGreedy - non-incremental - ALS embeddings\n",
      "Training LinGreedy - non-incremental - BPR embeddings\n",
      "Testing LinGreedy - non-incremental - BPR embeddings\n",
      "Training LinGreedy - incremental - ALS embeddings\n",
      "Testing LinGreedy - incremental - ALS embeddings\n",
      "Training LinGreedy - incremental - BPR embeddings\n",
      "Testing LinGreedy - incremental - BPR embeddings\n",
      "Current extra train size: 0.3\n",
      "Training ALS\n"
     ]
    },
    {
     "data": {
      "application/vnd.jupyter.widget-view+json": {
       "model_id": "d6ad61a847ba4675b4297efe9fa7730f",
       "version_major": 2,
       "version_minor": 0
      },
      "text/plain": [
       "  0%|          | 0/15 [00:00<?, ?it/s]"
      ]
     },
     "metadata": {},
     "output_type": "display_data"
    },
    {
     "name": "stdout",
     "output_type": "stream",
     "text": [
      "Testing ALS\n",
      "Training BPR\n"
     ]
    },
    {
     "data": {
      "application/vnd.jupyter.widget-view+json": {
       "model_id": "13ffd01ca3f34d41801213d560909c49",
       "version_major": 2,
       "version_minor": 0
      },
      "text/plain": [
       "  0%|          | 0/100 [00:00<?, ?it/s]"
      ]
     },
     "metadata": {},
     "output_type": "display_data"
    },
    {
     "name": "stdout",
     "output_type": "stream",
     "text": [
      "Testing BPR\n",
      "Training LinUCB - non-incremental - ALS embeddings\n",
      "Testing LinUCB - non-incremental - ALS embeddings\n",
      "Training LinUCB - non-incremental - BPR embeddings\n",
      "Testing LinUCB - non-incremental - BPR embeddings\n",
      "Training LinUCB - incremental - ALS embeddings\n",
      "Testing LinUCB - incremental - ALS embeddings\n",
      "Training LinUCB - incremental - BPR embeddings\n",
      "Testing LinUCB - incremental - BPR embeddings\n",
      "Training LinGreedy - non-incremental - ALS embeddings\n",
      "Testing LinGreedy - non-incremental - ALS embeddings\n",
      "Training LinGreedy - non-incremental - BPR embeddings\n",
      "Testing LinGreedy - non-incremental - BPR embeddings\n",
      "Training LinGreedy - incremental - ALS embeddings\n",
      "Testing LinGreedy - incremental - ALS embeddings\n",
      "Training LinGreedy - incremental - BPR embeddings\n",
      "Testing LinGreedy - incremental - BPR embeddings\n",
      "Current extra train size: 0.4\n",
      "Training ALS\n"
     ]
    },
    {
     "data": {
      "application/vnd.jupyter.widget-view+json": {
       "model_id": "c876630d10594214820512ad8880cc27",
       "version_major": 2,
       "version_minor": 0
      },
      "text/plain": [
       "  0%|          | 0/15 [00:00<?, ?it/s]"
      ]
     },
     "metadata": {},
     "output_type": "display_data"
    },
    {
     "name": "stdout",
     "output_type": "stream",
     "text": [
      "Testing ALS\n",
      "Training BPR\n"
     ]
    },
    {
     "data": {
      "application/vnd.jupyter.widget-view+json": {
       "model_id": "1c9bde64b84b4685808b5c2277abee9f",
       "version_major": 2,
       "version_minor": 0
      },
      "text/plain": [
       "  0%|          | 0/100 [00:00<?, ?it/s]"
      ]
     },
     "metadata": {},
     "output_type": "display_data"
    },
    {
     "name": "stdout",
     "output_type": "stream",
     "text": [
      "Testing BPR\n",
      "Training LinUCB - non-incremental - ALS embeddings\n",
      "Testing LinUCB - non-incremental - ALS embeddings\n",
      "Training LinUCB - non-incremental - BPR embeddings\n",
      "Testing LinUCB - non-incremental - BPR embeddings\n",
      "Training LinUCB - incremental - ALS embeddings\n",
      "Testing LinUCB - incremental - ALS embeddings\n",
      "Training LinUCB - incremental - BPR embeddings\n",
      "Testing LinUCB - incremental - BPR embeddings\n",
      "Training LinGreedy - non-incremental - ALS embeddings\n",
      "Testing LinGreedy - non-incremental - ALS embeddings\n",
      "Training LinGreedy - non-incremental - BPR embeddings\n",
      "Testing LinGreedy - non-incremental - BPR embeddings\n",
      "Training LinGreedy - incremental - ALS embeddings\n",
      "Testing LinGreedy - incremental - ALS embeddings\n",
      "Training LinGreedy - incremental - BPR embeddings\n",
      "Testing LinGreedy - incremental - BPR embeddings\n",
      "Current extra train size: 0.5\n",
      "Training ALS\n"
     ]
    },
    {
     "data": {
      "application/vnd.jupyter.widget-view+json": {
       "model_id": "30d9797ab4a2453a8d2795d4c858b5d8",
       "version_major": 2,
       "version_minor": 0
      },
      "text/plain": [
       "  0%|          | 0/15 [00:00<?, ?it/s]"
      ]
     },
     "metadata": {},
     "output_type": "display_data"
    },
    {
     "name": "stdout",
     "output_type": "stream",
     "text": [
      "Testing ALS\n",
      "Training BPR\n"
     ]
    },
    {
     "data": {
      "application/vnd.jupyter.widget-view+json": {
       "model_id": "92a9ccc01b9942478fe3fed454a27feb",
       "version_major": 2,
       "version_minor": 0
      },
      "text/plain": [
       "  0%|          | 0/100 [00:00<?, ?it/s]"
      ]
     },
     "metadata": {},
     "output_type": "display_data"
    },
    {
     "name": "stdout",
     "output_type": "stream",
     "text": [
      "Testing BPR\n",
      "Training LinUCB - non-incremental - ALS embeddings\n",
      "Testing LinUCB - non-incremental - ALS embeddings\n",
      "Training LinUCB - non-incremental - BPR embeddings\n",
      "Testing LinUCB - non-incremental - BPR embeddings\n",
      "Training LinUCB - incremental - ALS embeddings\n",
      "Testing LinUCB - incremental - ALS embeddings\n",
      "Training LinUCB - incremental - BPR embeddings\n",
      "Testing LinUCB - incremental - BPR embeddings\n",
      "Training LinGreedy - non-incremental - ALS embeddings\n",
      "Testing LinGreedy - non-incremental - ALS embeddings\n",
      "Training LinGreedy - non-incremental - BPR embeddings\n",
      "Testing LinGreedy - non-incremental - BPR embeddings\n",
      "Training LinGreedy - incremental - ALS embeddings\n",
      "Testing LinGreedy - incremental - ALS embeddings\n",
      "Training LinGreedy - incremental - BPR embeddings\n",
      "Testing LinGreedy - incremental - BPR embeddings\n",
      "Current extra train size: 0.6\n",
      "Training ALS\n"
     ]
    },
    {
     "data": {
      "application/vnd.jupyter.widget-view+json": {
       "model_id": "a5758357cead4c0cba724355f6dccfaf",
       "version_major": 2,
       "version_minor": 0
      },
      "text/plain": [
       "  0%|          | 0/15 [00:00<?, ?it/s]"
      ]
     },
     "metadata": {},
     "output_type": "display_data"
    },
    {
     "name": "stdout",
     "output_type": "stream",
     "text": [
      "Testing ALS\n",
      "Training BPR\n"
     ]
    },
    {
     "data": {
      "application/vnd.jupyter.widget-view+json": {
       "model_id": "17e82f04e57d4c02b95d1db8e1f00993",
       "version_major": 2,
       "version_minor": 0
      },
      "text/plain": [
       "  0%|          | 0/100 [00:00<?, ?it/s]"
      ]
     },
     "metadata": {},
     "output_type": "display_data"
    },
    {
     "name": "stdout",
     "output_type": "stream",
     "text": [
      "Testing BPR\n",
      "Training LinUCB - non-incremental - ALS embeddings\n",
      "Testing LinUCB - non-incremental - ALS embeddings\n",
      "Training LinUCB - non-incremental - BPR embeddings\n",
      "Testing LinUCB - non-incremental - BPR embeddings\n",
      "Training LinUCB - incremental - ALS embeddings\n",
      "Testing LinUCB - incremental - ALS embeddings\n",
      "Training LinUCB - incremental - BPR embeddings\n",
      "Testing LinUCB - incremental - BPR embeddings\n",
      "Training LinGreedy - non-incremental - ALS embeddings\n",
      "Testing LinGreedy - non-incremental - ALS embeddings\n",
      "Training LinGreedy - non-incremental - BPR embeddings\n",
      "Testing LinGreedy - non-incremental - BPR embeddings\n",
      "Training LinGreedy - incremental - ALS embeddings\n",
      "Testing LinGreedy - incremental - ALS embeddings\n",
      "Training LinGreedy - incremental - BPR embeddings\n",
      "Testing LinGreedy - incremental - BPR embeddings\n",
      "Current extra train size: 0.7\n",
      "Training ALS\n"
     ]
    },
    {
     "data": {
      "application/vnd.jupyter.widget-view+json": {
       "model_id": "3475b298516d4fc2831e1cd294108268",
       "version_major": 2,
       "version_minor": 0
      },
      "text/plain": [
       "  0%|          | 0/15 [00:00<?, ?it/s]"
      ]
     },
     "metadata": {},
     "output_type": "display_data"
    },
    {
     "name": "stdout",
     "output_type": "stream",
     "text": [
      "Testing ALS\n",
      "Training BPR\n"
     ]
    },
    {
     "data": {
      "application/vnd.jupyter.widget-view+json": {
       "model_id": "04516ad0b26c4e17b7fc69f10282c23b",
       "version_major": 2,
       "version_minor": 0
      },
      "text/plain": [
       "  0%|          | 0/100 [00:00<?, ?it/s]"
      ]
     },
     "metadata": {},
     "output_type": "display_data"
    },
    {
     "name": "stdout",
     "output_type": "stream",
     "text": [
      "Testing BPR\n",
      "Training LinUCB - non-incremental - ALS embeddings\n",
      "Testing LinUCB - non-incremental - ALS embeddings\n",
      "Training LinUCB - non-incremental - BPR embeddings\n",
      "Testing LinUCB - non-incremental - BPR embeddings\n",
      "Training LinUCB - incremental - ALS embeddings\n",
      "Testing LinUCB - incremental - ALS embeddings\n",
      "Training LinUCB - incremental - BPR embeddings\n",
      "Testing LinUCB - incremental - BPR embeddings\n",
      "Training LinGreedy - non-incremental - ALS embeddings\n",
      "Testing LinGreedy - non-incremental - ALS embeddings\n",
      "Training LinGreedy - non-incremental - BPR embeddings\n",
      "Testing LinGreedy - non-incremental - BPR embeddings\n",
      "Training LinGreedy - incremental - ALS embeddings\n",
      "Testing LinGreedy - incremental - ALS embeddings\n",
      "Training LinGreedy - incremental - BPR embeddings\n",
      "Testing LinGreedy - incremental - BPR embeddings\n",
      "Current extra train size: 0.8\n",
      "Training ALS\n"
     ]
    },
    {
     "data": {
      "application/vnd.jupyter.widget-view+json": {
       "model_id": "318d6f797d8b451baee5309424917ac6",
       "version_major": 2,
       "version_minor": 0
      },
      "text/plain": [
       "  0%|          | 0/15 [00:00<?, ?it/s]"
      ]
     },
     "metadata": {},
     "output_type": "display_data"
    },
    {
     "name": "stdout",
     "output_type": "stream",
     "text": [
      "Testing ALS\n",
      "Training BPR\n"
     ]
    },
    {
     "data": {
      "application/vnd.jupyter.widget-view+json": {
       "model_id": "c7fbc85c9c164ad9b9e0e70b10a8e004",
       "version_major": 2,
       "version_minor": 0
      },
      "text/plain": [
       "  0%|          | 0/100 [00:00<?, ?it/s]"
      ]
     },
     "metadata": {},
     "output_type": "display_data"
    },
    {
     "name": "stdout",
     "output_type": "stream",
     "text": [
      "Testing BPR\n",
      "Training LinUCB - non-incremental - ALS embeddings\n",
      "Testing LinUCB - non-incremental - ALS embeddings\n",
      "Training LinUCB - non-incremental - BPR embeddings\n",
      "Testing LinUCB - non-incremental - BPR embeddings\n",
      "Training LinUCB - incremental - ALS embeddings\n",
      "Testing LinUCB - incremental - ALS embeddings\n",
      "Training LinUCB - incremental - BPR embeddings\n",
      "Testing LinUCB - incremental - BPR embeddings\n",
      "Training LinGreedy - non-incremental - ALS embeddings\n",
      "Testing LinGreedy - non-incremental - ALS embeddings\n",
      "Training LinGreedy - non-incremental - BPR embeddings\n",
      "Testing LinGreedy - non-incremental - BPR embeddings\n",
      "Training LinGreedy - incremental - ALS embeddings\n",
      "Testing LinGreedy - incremental - ALS embeddings\n",
      "Training LinGreedy - incremental - BPR embeddings\n",
      "Testing LinGreedy - incremental - BPR embeddings\n",
      "Current extra train size: 0.9\n",
      "Training ALS\n"
     ]
    },
    {
     "data": {
      "application/vnd.jupyter.widget-view+json": {
       "model_id": "fa1be97e383e4bc1987743ab28cd961c",
       "version_major": 2,
       "version_minor": 0
      },
      "text/plain": [
       "  0%|          | 0/15 [00:00<?, ?it/s]"
      ]
     },
     "metadata": {},
     "output_type": "display_data"
    },
    {
     "name": "stdout",
     "output_type": "stream",
     "text": [
      "Testing ALS\n",
      "Training BPR\n"
     ]
    },
    {
     "data": {
      "application/vnd.jupyter.widget-view+json": {
       "model_id": "74d3bafdcd00427fa2b1d9f7f882cb2d",
       "version_major": 2,
       "version_minor": 0
      },
      "text/plain": [
       "  0%|          | 0/100 [00:00<?, ?it/s]"
      ]
     },
     "metadata": {},
     "output_type": "display_data"
    },
    {
     "name": "stdout",
     "output_type": "stream",
     "text": [
      "Testing BPR\n",
      "Training LinUCB - non-incremental - ALS embeddings\n",
      "Testing LinUCB - non-incremental - ALS embeddings\n",
      "Training LinUCB - non-incremental - BPR embeddings\n",
      "Testing LinUCB - non-incremental - BPR embeddings\n",
      "Training LinUCB - incremental - ALS embeddings\n",
      "Testing LinUCB - incremental - ALS embeddings\n",
      "Training LinUCB - incremental - BPR embeddings\n",
      "Testing LinUCB - incremental - BPR embeddings\n",
      "Training LinGreedy - non-incremental - ALS embeddings\n",
      "Testing LinGreedy - non-incremental - ALS embeddings\n",
      "Training LinGreedy - non-incremental - BPR embeddings\n",
      "Testing LinGreedy - non-incremental - BPR embeddings\n",
      "Training LinGreedy - incremental - ALS embeddings\n",
      "Testing LinGreedy - incremental - ALS embeddings\n",
      "Training LinGreedy - incremental - BPR embeddings\n",
      "Testing LinGreedy - incremental - BPR embeddings\n",
      "Current extra train size: 1.0\n",
      "Training ALS\n"
     ]
    },
    {
     "data": {
      "application/vnd.jupyter.widget-view+json": {
       "model_id": "ddbf30a178004321a623c03923addec4",
       "version_major": 2,
       "version_minor": 0
      },
      "text/plain": [
       "  0%|          | 0/15 [00:00<?, ?it/s]"
      ]
     },
     "metadata": {},
     "output_type": "display_data"
    },
    {
     "name": "stdout",
     "output_type": "stream",
     "text": [
      "Testing ALS\n",
      "Training BPR\n"
     ]
    },
    {
     "data": {
      "application/vnd.jupyter.widget-view+json": {
       "model_id": "0d0abf0c319b4ad0ac95e2d1de8a0a5b",
       "version_major": 2,
       "version_minor": 0
      },
      "text/plain": [
       "  0%|          | 0/100 [00:00<?, ?it/s]"
      ]
     },
     "metadata": {},
     "output_type": "display_data"
    },
    {
     "name": "stdout",
     "output_type": "stream",
     "text": [
      "Testing BPR\n",
      "Training LinUCB - non-incremental - ALS embeddings\n",
      "Testing LinUCB - non-incremental - ALS embeddings\n",
      "Training LinUCB - non-incremental - BPR embeddings\n",
      "Testing LinUCB - non-incremental - BPR embeddings\n",
      "Training LinUCB - incremental - ALS embeddings\n",
      "Testing LinUCB - incremental - ALS embeddings\n",
      "Training LinUCB - incremental - BPR embeddings\n",
      "Testing LinUCB - incremental - BPR embeddings\n",
      "Training LinGreedy - non-incremental - ALS embeddings\n",
      "Testing LinGreedy - non-incremental - ALS embeddings\n",
      "Training LinGreedy - non-incremental - BPR embeddings\n",
      "Testing LinGreedy - non-incremental - BPR embeddings\n",
      "Training LinGreedy - incremental - ALS embeddings\n",
      "Testing LinGreedy - incremental - ALS embeddings\n",
      "Training LinGreedy - incremental - BPR embeddings\n",
      "Testing LinGreedy - incremental - BPR embeddings\n"
     ]
    }
   ],
   "source": [
    "test(test_size=0.1, train_initial_size=0.5, train_extra_increment_step_size=0.1)"
   ]
  },
  {
   "cell_type": "code",
   "execution_count": 23,
   "metadata": {},
   "outputs": [],
   "source": [
    "df_results = pd.read_csv('results-v5/results.csv')"
   ]
  },
  {
   "cell_type": "code",
   "execution_count": 24,
   "metadata": {},
   "outputs": [
    {
     "data": {
      "application/vnd.plotly.v1+json": {
       "config": {
        "plotlyServerURL": "https://plot.ly"
       },
       "data": [
        {
         "hovertemplate": "algorithm=ALS<br>train_size=%{x}<br>hr=%{y}<extra></extra>",
         "legendgroup": "ALS",
         "line": {
          "color": "#636efa",
          "dash": "solid"
         },
         "marker": {
          "symbol": "circle"
         },
         "mode": "lines",
         "name": "ALS",
         "orientation": "v",
         "showlegend": true,
         "type": "scatter",
         "x": [
          0,
          0.1,
          0.2,
          0.3,
          0.4,
          0.5,
          0.6,
          0.7,
          0.8,
          0.9,
          1
         ],
         "xaxis": "x",
         "y": [
          0.1073253833049403,
          0.120954003407155,
          0.1226575809199318,
          0.1277683134582623,
          0.1260647359454855,
          0.120954003407155,
          0.1124361158432708,
          0.1175468483816013,
          0.1192504258943781,
          0.1294718909710391,
          0.1277683134582623
         ],
         "yaxis": "y"
        },
        {
         "hovertemplate": "algorithm=BPR<br>train_size=%{x}<br>hr=%{y}<extra></extra>",
         "legendgroup": "BPR",
         "line": {
          "color": "#EF553B",
          "dash": "solid"
         },
         "marker": {
          "symbol": "circle"
         },
         "mode": "lines",
         "name": "BPR",
         "orientation": "v",
         "showlegend": true,
         "type": "scatter",
         "x": [
          0,
          0.1,
          0.2,
          0.3,
          0.4,
          0.5,
          0.6,
          0.7,
          0.8,
          0.9,
          1
         ],
         "xaxis": "x",
         "y": [
          0.0732538330494037,
          0.0664395229982964,
          0.0715502555366269,
          0.0630323679727427,
          0.059625212947189,
          0.0613287904599659,
          0.0664395229982964,
          0.06984667802385,
          0.06984667802385,
          0.0664395229982964,
          0.0834752981260647
         ],
         "yaxis": "y"
        },
        {
         "hovertemplate": "algorithm=LinUCB - non-incremental - ALS embeddings<br>train_size=%{x}<br>hr=%{y}<extra></extra>",
         "legendgroup": "LinUCB - non-incremental - ALS embeddings",
         "line": {
          "color": "#00cc96",
          "dash": "solid"
         },
         "marker": {
          "symbol": "circle"
         },
         "mode": "lines",
         "name": "LinUCB - non-incremental - ALS embeddings",
         "orientation": "v",
         "showlegend": true,
         "type": "scatter",
         "x": [
          0,
          0.1,
          0.2,
          0.3,
          0.4,
          0.5,
          0.6,
          0.7,
          0.8,
          0.9,
          1
         ],
         "xaxis": "x",
         "y": [
          0.06984667802385,
          0.06984667802385,
          0.0664395229982964,
          0.0817717206132879,
          0.0851788756388415,
          0.0851788756388415,
          0.0988074957410562,
          0.0971039182282793,
          0.1039182282793867,
          0.1090289608177172,
          0.110732538330494
         ],
         "yaxis": "y"
        },
        {
         "hovertemplate": "algorithm=LinUCB - non-incremental - BPR embeddings<br>train_size=%{x}<br>hr=%{y}<extra></extra>",
         "legendgroup": "LinUCB - non-incremental - BPR embeddings",
         "line": {
          "color": "#ab63fa",
          "dash": "solid"
         },
         "marker": {
          "symbol": "circle"
         },
         "mode": "lines",
         "name": "LinUCB - non-incremental - BPR embeddings",
         "orientation": "v",
         "showlegend": true,
         "type": "scatter",
         "x": [
          0,
          0.1,
          0.2,
          0.3,
          0.4,
          0.5,
          0.6,
          0.7,
          0.8,
          0.9,
          1
         ],
         "xaxis": "x",
         "y": [
          0.0732538330494037,
          0.0766609880749574,
          0.0749574105621805,
          0.0851788756388415,
          0.0749574105621805,
          0.0783645655877342,
          0.0817717206132879,
          0.0783645655877342,
          0.0868824531516184,
          0.0868824531516184,
          0.0885860306643952
         ],
         "yaxis": "y"
        },
        {
         "hovertemplate": "algorithm=LinUCB - incremental - ALS embeddings<br>train_size=%{x}<br>hr=%{y}<extra></extra>",
         "legendgroup": "LinUCB - incremental - ALS embeddings",
         "line": {
          "color": "#FFA15A",
          "dash": "solid"
         },
         "marker": {
          "symbol": "circle"
         },
         "mode": "lines",
         "name": "LinUCB - incremental - ALS embeddings",
         "orientation": "v",
         "showlegend": true,
         "type": "scatter",
         "x": [
          0,
          0.1,
          0.2,
          0.3,
          0.4,
          0.5,
          0.6,
          0.7,
          0.8,
          0.9,
          1
         ],
         "xaxis": "x",
         "y": [
          0.0715502555366269,
          0.0664395229982964,
          0.0715502555366269,
          0.0817717206132879,
          0.0851788756388415,
          0.0851788756388415,
          0.0988074957410562,
          0.100511073253833,
          0.1039182282793867,
          0.1073253833049403,
          0.110732538330494
         ],
         "yaxis": "y"
        },
        {
         "hovertemplate": "algorithm=LinUCB - incremental - BPR embeddings<br>train_size=%{x}<br>hr=%{y}<extra></extra>",
         "legendgroup": "LinUCB - incremental - BPR embeddings",
         "line": {
          "color": "#19d3f3",
          "dash": "solid"
         },
         "marker": {
          "symbol": "circle"
         },
         "mode": "lines",
         "name": "LinUCB - incremental - BPR embeddings",
         "orientation": "v",
         "showlegend": true,
         "type": "scatter",
         "x": [
          0,
          0.1,
          0.2,
          0.3,
          0.4,
          0.5,
          0.6,
          0.7,
          0.8,
          0.9,
          1
         ],
         "xaxis": "x",
         "y": [
          0.0749574105621805,
          0.0766609880749574,
          0.0783645655877342,
          0.0851788756388415,
          0.0783645655877342,
          0.080068143100511,
          0.080068143100511,
          0.0783645655877342,
          0.0715502555366269,
          0.0783645655877342,
          0.0919931856899489
         ],
         "yaxis": "y"
        },
        {
         "hovertemplate": "algorithm=LinGreedy - non-incremental - ALS embeddings<br>train_size=%{x}<br>hr=%{y}<extra></extra>",
         "legendgroup": "LinGreedy - non-incremental - ALS embeddings",
         "line": {
          "color": "#FF6692",
          "dash": "solid"
         },
         "marker": {
          "symbol": "circle"
         },
         "mode": "lines",
         "name": "LinGreedy - non-incremental - ALS embeddings",
         "orientation": "v",
         "showlegend": true,
         "type": "scatter",
         "x": [
          0,
          0.1,
          0.2,
          0.3,
          0.4,
          0.5,
          0.6,
          0.7,
          0.8,
          0.9,
          1
         ],
         "xaxis": "x",
         "y": [
          0.0732538330494037,
          0.0749574105621805,
          0.0749574105621805,
          0.0834752981260647,
          0.0954003407155025,
          0.0885860306643952,
          0.1056218057921635,
          0.1073253833049403,
          0.110732538330494,
          0.1141396933560477,
          0.1124361158432708
         ],
         "yaxis": "y"
        },
        {
         "hovertemplate": "algorithm=LinGreedy - non-incremental - BPR embeddings<br>train_size=%{x}<br>hr=%{y}<extra></extra>",
         "legendgroup": "LinGreedy - non-incremental - BPR embeddings",
         "line": {
          "color": "#B6E880",
          "dash": "solid"
         },
         "marker": {
          "symbol": "circle"
         },
         "mode": "lines",
         "name": "LinGreedy - non-incremental - BPR embeddings",
         "orientation": "v",
         "showlegend": true,
         "type": "scatter",
         "x": [
          0,
          0.1,
          0.2,
          0.3,
          0.4,
          0.5,
          0.6,
          0.7,
          0.8,
          0.9,
          1
         ],
         "xaxis": "x",
         "y": [
          0.0732538330494037,
          0.0817717206132879,
          0.0749574105621805,
          0.0851788756388415,
          0.0766609880749574,
          0.0766609880749574,
          0.0834752981260647,
          0.0783645655877342,
          0.0868824531516184,
          0.0885860306643952,
          0.0919931856899489
         ],
         "yaxis": "y"
        },
        {
         "hovertemplate": "algorithm=LinGreedy - incremental - ALS embeddings<br>train_size=%{x}<br>hr=%{y}<extra></extra>",
         "legendgroup": "LinGreedy - incremental - ALS embeddings",
         "line": {
          "color": "#FF97FF",
          "dash": "solid"
         },
         "marker": {
          "symbol": "circle"
         },
         "mode": "lines",
         "name": "LinGreedy - incremental - ALS embeddings",
         "orientation": "v",
         "showlegend": true,
         "type": "scatter",
         "x": [
          0,
          0.1,
          0.2,
          0.3,
          0.4,
          0.5,
          0.6,
          0.7,
          0.8,
          0.9,
          1
         ],
         "xaxis": "x",
         "y": [
          0.0749574105621805,
          0.06984667802385,
          0.0766609880749574,
          0.0817717206132879,
          0.0851788756388415,
          0.0851788756388415,
          0.1022146507666098,
          0.1039182282793867,
          0.1022146507666098,
          0.1124361158432708,
          0.1124361158432708
         ],
         "yaxis": "y"
        },
        {
         "hovertemplate": "algorithm=LinGreedy - incremental - BPR embeddings<br>train_size=%{x}<br>hr=%{y}<extra></extra>",
         "legendgroup": "LinGreedy - incremental - BPR embeddings",
         "line": {
          "color": "#FECB52",
          "dash": "solid"
         },
         "marker": {
          "symbol": "circle"
         },
         "mode": "lines",
         "name": "LinGreedy - incremental - BPR embeddings",
         "orientation": "v",
         "showlegend": true,
         "type": "scatter",
         "x": [
          0,
          0.1,
          0.2,
          0.3,
          0.4,
          0.5,
          0.6,
          0.7,
          0.8,
          0.9,
          1
         ],
         "xaxis": "x",
         "y": [
          0.0766609880749574,
          0.0749574105621805,
          0.080068143100511,
          0.0851788756388415,
          0.080068143100511,
          0.080068143100511,
          0.0817717206132879,
          0.0766609880749574,
          0.0732538330494037,
          0.0783645655877342,
          0.0936967632027257
         ],
         "yaxis": "y"
        }
       ],
       "layout": {
        "legend": {
         "title": {
          "text": "algorithm"
         },
         "tracegroupgap": 0
        },
        "template": {
         "data": {
          "bar": [
           {
            "error_x": {
             "color": "#2a3f5f"
            },
            "error_y": {
             "color": "#2a3f5f"
            },
            "marker": {
             "line": {
              "color": "#E5ECF6",
              "width": 0.5
             },
             "pattern": {
              "fillmode": "overlay",
              "size": 10,
              "solidity": 0.2
             }
            },
            "type": "bar"
           }
          ],
          "barpolar": [
           {
            "marker": {
             "line": {
              "color": "#E5ECF6",
              "width": 0.5
             },
             "pattern": {
              "fillmode": "overlay",
              "size": 10,
              "solidity": 0.2
             }
            },
            "type": "barpolar"
           }
          ],
          "carpet": [
           {
            "aaxis": {
             "endlinecolor": "#2a3f5f",
             "gridcolor": "white",
             "linecolor": "white",
             "minorgridcolor": "white",
             "startlinecolor": "#2a3f5f"
            },
            "baxis": {
             "endlinecolor": "#2a3f5f",
             "gridcolor": "white",
             "linecolor": "white",
             "minorgridcolor": "white",
             "startlinecolor": "#2a3f5f"
            },
            "type": "carpet"
           }
          ],
          "choropleth": [
           {
            "colorbar": {
             "outlinewidth": 0,
             "ticks": ""
            },
            "type": "choropleth"
           }
          ],
          "contour": [
           {
            "colorbar": {
             "outlinewidth": 0,
             "ticks": ""
            },
            "colorscale": [
             [
              0,
              "#0d0887"
             ],
             [
              0.1111111111111111,
              "#46039f"
             ],
             [
              0.2222222222222222,
              "#7201a8"
             ],
             [
              0.3333333333333333,
              "#9c179e"
             ],
             [
              0.4444444444444444,
              "#bd3786"
             ],
             [
              0.5555555555555556,
              "#d8576b"
             ],
             [
              0.6666666666666666,
              "#ed7953"
             ],
             [
              0.7777777777777778,
              "#fb9f3a"
             ],
             [
              0.8888888888888888,
              "#fdca26"
             ],
             [
              1,
              "#f0f921"
             ]
            ],
            "type": "contour"
           }
          ],
          "contourcarpet": [
           {
            "colorbar": {
             "outlinewidth": 0,
             "ticks": ""
            },
            "type": "contourcarpet"
           }
          ],
          "heatmap": [
           {
            "colorbar": {
             "outlinewidth": 0,
             "ticks": ""
            },
            "colorscale": [
             [
              0,
              "#0d0887"
             ],
             [
              0.1111111111111111,
              "#46039f"
             ],
             [
              0.2222222222222222,
              "#7201a8"
             ],
             [
              0.3333333333333333,
              "#9c179e"
             ],
             [
              0.4444444444444444,
              "#bd3786"
             ],
             [
              0.5555555555555556,
              "#d8576b"
             ],
             [
              0.6666666666666666,
              "#ed7953"
             ],
             [
              0.7777777777777778,
              "#fb9f3a"
             ],
             [
              0.8888888888888888,
              "#fdca26"
             ],
             [
              1,
              "#f0f921"
             ]
            ],
            "type": "heatmap"
           }
          ],
          "heatmapgl": [
           {
            "colorbar": {
             "outlinewidth": 0,
             "ticks": ""
            },
            "colorscale": [
             [
              0,
              "#0d0887"
             ],
             [
              0.1111111111111111,
              "#46039f"
             ],
             [
              0.2222222222222222,
              "#7201a8"
             ],
             [
              0.3333333333333333,
              "#9c179e"
             ],
             [
              0.4444444444444444,
              "#bd3786"
             ],
             [
              0.5555555555555556,
              "#d8576b"
             ],
             [
              0.6666666666666666,
              "#ed7953"
             ],
             [
              0.7777777777777778,
              "#fb9f3a"
             ],
             [
              0.8888888888888888,
              "#fdca26"
             ],
             [
              1,
              "#f0f921"
             ]
            ],
            "type": "heatmapgl"
           }
          ],
          "histogram": [
           {
            "marker": {
             "pattern": {
              "fillmode": "overlay",
              "size": 10,
              "solidity": 0.2
             }
            },
            "type": "histogram"
           }
          ],
          "histogram2d": [
           {
            "colorbar": {
             "outlinewidth": 0,
             "ticks": ""
            },
            "colorscale": [
             [
              0,
              "#0d0887"
             ],
             [
              0.1111111111111111,
              "#46039f"
             ],
             [
              0.2222222222222222,
              "#7201a8"
             ],
             [
              0.3333333333333333,
              "#9c179e"
             ],
             [
              0.4444444444444444,
              "#bd3786"
             ],
             [
              0.5555555555555556,
              "#d8576b"
             ],
             [
              0.6666666666666666,
              "#ed7953"
             ],
             [
              0.7777777777777778,
              "#fb9f3a"
             ],
             [
              0.8888888888888888,
              "#fdca26"
             ],
             [
              1,
              "#f0f921"
             ]
            ],
            "type": "histogram2d"
           }
          ],
          "histogram2dcontour": [
           {
            "colorbar": {
             "outlinewidth": 0,
             "ticks": ""
            },
            "colorscale": [
             [
              0,
              "#0d0887"
             ],
             [
              0.1111111111111111,
              "#46039f"
             ],
             [
              0.2222222222222222,
              "#7201a8"
             ],
             [
              0.3333333333333333,
              "#9c179e"
             ],
             [
              0.4444444444444444,
              "#bd3786"
             ],
             [
              0.5555555555555556,
              "#d8576b"
             ],
             [
              0.6666666666666666,
              "#ed7953"
             ],
             [
              0.7777777777777778,
              "#fb9f3a"
             ],
             [
              0.8888888888888888,
              "#fdca26"
             ],
             [
              1,
              "#f0f921"
             ]
            ],
            "type": "histogram2dcontour"
           }
          ],
          "mesh3d": [
           {
            "colorbar": {
             "outlinewidth": 0,
             "ticks": ""
            },
            "type": "mesh3d"
           }
          ],
          "parcoords": [
           {
            "line": {
             "colorbar": {
              "outlinewidth": 0,
              "ticks": ""
             }
            },
            "type": "parcoords"
           }
          ],
          "pie": [
           {
            "automargin": true,
            "type": "pie"
           }
          ],
          "scatter": [
           {
            "fillpattern": {
             "fillmode": "overlay",
             "size": 10,
             "solidity": 0.2
            },
            "type": "scatter"
           }
          ],
          "scatter3d": [
           {
            "line": {
             "colorbar": {
              "outlinewidth": 0,
              "ticks": ""
             }
            },
            "marker": {
             "colorbar": {
              "outlinewidth": 0,
              "ticks": ""
             }
            },
            "type": "scatter3d"
           }
          ],
          "scattercarpet": [
           {
            "marker": {
             "colorbar": {
              "outlinewidth": 0,
              "ticks": ""
             }
            },
            "type": "scattercarpet"
           }
          ],
          "scattergeo": [
           {
            "marker": {
             "colorbar": {
              "outlinewidth": 0,
              "ticks": ""
             }
            },
            "type": "scattergeo"
           }
          ],
          "scattergl": [
           {
            "marker": {
             "colorbar": {
              "outlinewidth": 0,
              "ticks": ""
             }
            },
            "type": "scattergl"
           }
          ],
          "scattermapbox": [
           {
            "marker": {
             "colorbar": {
              "outlinewidth": 0,
              "ticks": ""
             }
            },
            "type": "scattermapbox"
           }
          ],
          "scatterpolar": [
           {
            "marker": {
             "colorbar": {
              "outlinewidth": 0,
              "ticks": ""
             }
            },
            "type": "scatterpolar"
           }
          ],
          "scatterpolargl": [
           {
            "marker": {
             "colorbar": {
              "outlinewidth": 0,
              "ticks": ""
             }
            },
            "type": "scatterpolargl"
           }
          ],
          "scatterternary": [
           {
            "marker": {
             "colorbar": {
              "outlinewidth": 0,
              "ticks": ""
             }
            },
            "type": "scatterternary"
           }
          ],
          "surface": [
           {
            "colorbar": {
             "outlinewidth": 0,
             "ticks": ""
            },
            "colorscale": [
             [
              0,
              "#0d0887"
             ],
             [
              0.1111111111111111,
              "#46039f"
             ],
             [
              0.2222222222222222,
              "#7201a8"
             ],
             [
              0.3333333333333333,
              "#9c179e"
             ],
             [
              0.4444444444444444,
              "#bd3786"
             ],
             [
              0.5555555555555556,
              "#d8576b"
             ],
             [
              0.6666666666666666,
              "#ed7953"
             ],
             [
              0.7777777777777778,
              "#fb9f3a"
             ],
             [
              0.8888888888888888,
              "#fdca26"
             ],
             [
              1,
              "#f0f921"
             ]
            ],
            "type": "surface"
           }
          ],
          "table": [
           {
            "cells": {
             "fill": {
              "color": "#EBF0F8"
             },
             "line": {
              "color": "white"
             }
            },
            "header": {
             "fill": {
              "color": "#C8D4E3"
             },
             "line": {
              "color": "white"
             }
            },
            "type": "table"
           }
          ]
         },
         "layout": {
          "annotationdefaults": {
           "arrowcolor": "#2a3f5f",
           "arrowhead": 0,
           "arrowwidth": 1
          },
          "autotypenumbers": "strict",
          "coloraxis": {
           "colorbar": {
            "outlinewidth": 0,
            "ticks": ""
           }
          },
          "colorscale": {
           "diverging": [
            [
             0,
             "#8e0152"
            ],
            [
             0.1,
             "#c51b7d"
            ],
            [
             0.2,
             "#de77ae"
            ],
            [
             0.3,
             "#f1b6da"
            ],
            [
             0.4,
             "#fde0ef"
            ],
            [
             0.5,
             "#f7f7f7"
            ],
            [
             0.6,
             "#e6f5d0"
            ],
            [
             0.7,
             "#b8e186"
            ],
            [
             0.8,
             "#7fbc41"
            ],
            [
             0.9,
             "#4d9221"
            ],
            [
             1,
             "#276419"
            ]
           ],
           "sequential": [
            [
             0,
             "#0d0887"
            ],
            [
             0.1111111111111111,
             "#46039f"
            ],
            [
             0.2222222222222222,
             "#7201a8"
            ],
            [
             0.3333333333333333,
             "#9c179e"
            ],
            [
             0.4444444444444444,
             "#bd3786"
            ],
            [
             0.5555555555555556,
             "#d8576b"
            ],
            [
             0.6666666666666666,
             "#ed7953"
            ],
            [
             0.7777777777777778,
             "#fb9f3a"
            ],
            [
             0.8888888888888888,
             "#fdca26"
            ],
            [
             1,
             "#f0f921"
            ]
           ],
           "sequentialminus": [
            [
             0,
             "#0d0887"
            ],
            [
             0.1111111111111111,
             "#46039f"
            ],
            [
             0.2222222222222222,
             "#7201a8"
            ],
            [
             0.3333333333333333,
             "#9c179e"
            ],
            [
             0.4444444444444444,
             "#bd3786"
            ],
            [
             0.5555555555555556,
             "#d8576b"
            ],
            [
             0.6666666666666666,
             "#ed7953"
            ],
            [
             0.7777777777777778,
             "#fb9f3a"
            ],
            [
             0.8888888888888888,
             "#fdca26"
            ],
            [
             1,
             "#f0f921"
            ]
           ]
          },
          "colorway": [
           "#636efa",
           "#EF553B",
           "#00cc96",
           "#ab63fa",
           "#FFA15A",
           "#19d3f3",
           "#FF6692",
           "#B6E880",
           "#FF97FF",
           "#FECB52"
          ],
          "font": {
           "color": "#2a3f5f"
          },
          "geo": {
           "bgcolor": "white",
           "lakecolor": "white",
           "landcolor": "#E5ECF6",
           "showlakes": true,
           "showland": true,
           "subunitcolor": "white"
          },
          "hoverlabel": {
           "align": "left"
          },
          "hovermode": "closest",
          "mapbox": {
           "style": "light"
          },
          "paper_bgcolor": "white",
          "plot_bgcolor": "#E5ECF6",
          "polar": {
           "angularaxis": {
            "gridcolor": "white",
            "linecolor": "white",
            "ticks": ""
           },
           "bgcolor": "#E5ECF6",
           "radialaxis": {
            "gridcolor": "white",
            "linecolor": "white",
            "ticks": ""
           }
          },
          "scene": {
           "xaxis": {
            "backgroundcolor": "#E5ECF6",
            "gridcolor": "white",
            "gridwidth": 2,
            "linecolor": "white",
            "showbackground": true,
            "ticks": "",
            "zerolinecolor": "white"
           },
           "yaxis": {
            "backgroundcolor": "#E5ECF6",
            "gridcolor": "white",
            "gridwidth": 2,
            "linecolor": "white",
            "showbackground": true,
            "ticks": "",
            "zerolinecolor": "white"
           },
           "zaxis": {
            "backgroundcolor": "#E5ECF6",
            "gridcolor": "white",
            "gridwidth": 2,
            "linecolor": "white",
            "showbackground": true,
            "ticks": "",
            "zerolinecolor": "white"
           }
          },
          "shapedefaults": {
           "line": {
            "color": "#2a3f5f"
           }
          },
          "ternary": {
           "aaxis": {
            "gridcolor": "white",
            "linecolor": "white",
            "ticks": ""
           },
           "baxis": {
            "gridcolor": "white",
            "linecolor": "white",
            "ticks": ""
           },
           "bgcolor": "#E5ECF6",
           "caxis": {
            "gridcolor": "white",
            "linecolor": "white",
            "ticks": ""
           }
          },
          "title": {
           "x": 0.05
          },
          "xaxis": {
           "automargin": true,
           "gridcolor": "white",
           "linecolor": "white",
           "ticks": "",
           "title": {
            "standoff": 15
           },
           "zerolinecolor": "white",
           "zerolinewidth": 2
          },
          "yaxis": {
           "automargin": true,
           "gridcolor": "white",
           "linecolor": "white",
           "ticks": "",
           "title": {
            "standoff": 15
           },
           "zerolinecolor": "white",
           "zerolinewidth": 2
          }
         }
        },
        "title": {
         "text": "HR x Train size"
        },
        "xaxis": {
         "anchor": "y",
         "domain": [
          0,
          1
         ],
         "title": {
          "text": "train_size"
         }
        },
        "yaxis": {
         "anchor": "x",
         "domain": [
          0,
          1
         ],
         "title": {
          "text": "hr"
         }
        }
       }
      }
     },
     "metadata": {},
     "output_type": "display_data"
    }
   ],
   "source": [
    "fig = px.line(df_results, x=\"train_size\", y=\"hr\", color='algorithm', title='HR x Train size')\n",
    "fig.show()\n",
    "fig.write_html('results-v5/hr_x_train_size.html')"
   ]
  }
 ],
 "metadata": {
  "kernelspec": {
   "display_name": "RLRS-rllib",
   "language": "python",
   "name": "python3"
  },
  "language_info": {
   "codemirror_mode": {
    "name": "ipython",
    "version": 3
   },
   "file_extension": ".py",
   "mimetype": "text/x-python",
   "name": "python",
   "nbconvert_exporter": "python",
   "pygments_lexer": "ipython3",
   "version": "3.8.16"
  }
 },
 "nbformat": 4,
 "nbformat_minor": 2
}
