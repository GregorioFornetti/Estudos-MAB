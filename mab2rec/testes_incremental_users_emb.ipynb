{
 "cells": [
  {
   "cell_type": "code",
   "execution_count": 1,
   "metadata": {},
   "outputs": [],
   "source": [
    "import pandas as pd\n",
    "import numpy as np"
   ]
  },
  {
   "cell_type": "code",
   "execution_count": 2,
   "metadata": {},
   "outputs": [
    {
     "data": {
      "text/html": [
       "<div>\n",
       "<style scoped>\n",
       "    .dataframe tbody tr th:only-of-type {\n",
       "        vertical-align: middle;\n",
       "    }\n",
       "\n",
       "    .dataframe tbody tr th {\n",
       "        vertical-align: top;\n",
       "    }\n",
       "\n",
       "    .dataframe thead th {\n",
       "        text-align: right;\n",
       "    }\n",
       "</style>\n",
       "<table border=\"1\" class=\"dataframe\">\n",
       "  <thead>\n",
       "    <tr style=\"text-align: right;\">\n",
       "      <th></th>\n",
       "      <th>user_id</th>\n",
       "      <th>item_id</th>\n",
       "    </tr>\n",
       "  </thead>\n",
       "  <tbody>\n",
       "    <tr>\n",
       "      <th>0</th>\n",
       "      <td>1</td>\n",
       "      <td>0</td>\n",
       "    </tr>\n",
       "    <tr>\n",
       "      <th>1</th>\n",
       "      <td>2</td>\n",
       "      <td>0</td>\n",
       "    </tr>\n",
       "    <tr>\n",
       "      <th>2</th>\n",
       "      <td>1</td>\n",
       "      <td>4</td>\n",
       "    </tr>\n",
       "    <tr>\n",
       "      <th>3</th>\n",
       "      <td>1</td>\n",
       "      <td>1</td>\n",
       "    </tr>\n",
       "    <tr>\n",
       "      <th>4</th>\n",
       "      <td>3</td>\n",
       "      <td>4</td>\n",
       "    </tr>\n",
       "    <tr>\n",
       "      <th>5</th>\n",
       "      <td>2</td>\n",
       "      <td>1</td>\n",
       "    </tr>\n",
       "    <tr>\n",
       "      <th>6</th>\n",
       "      <td>4</td>\n",
       "      <td>0</td>\n",
       "    </tr>\n",
       "    <tr>\n",
       "      <th>7</th>\n",
       "      <td>5</td>\n",
       "      <td>4</td>\n",
       "    </tr>\n",
       "    <tr>\n",
       "      <th>8</th>\n",
       "      <td>2</td>\n",
       "      <td>4</td>\n",
       "    </tr>\n",
       "    <tr>\n",
       "      <th>9</th>\n",
       "      <td>4</td>\n",
       "      <td>4</td>\n",
       "    </tr>\n",
       "    <tr>\n",
       "      <th>10</th>\n",
       "      <td>4</td>\n",
       "      <td>2</td>\n",
       "    </tr>\n",
       "  </tbody>\n",
       "</table>\n",
       "</div>"
      ],
      "text/plain": [
       "    user_id  item_id\n",
       "0         1        0\n",
       "1         2        0\n",
       "2         1        4\n",
       "3         1        1\n",
       "4         3        4\n",
       "5         2        1\n",
       "6         4        0\n",
       "7         5        4\n",
       "8         2        4\n",
       "9         4        4\n",
       "10        4        2"
      ]
     },
     "execution_count": 2,
     "metadata": {},
     "output_type": "execute_result"
    }
   ],
   "source": [
    "interactions_example = pd.DataFrame([\n",
    "    {\n",
    "        \"user_id\": 1,\n",
    "        \"item_id\": 0\n",
    "    },\n",
    "    {\n",
    "        \"user_id\": 2,\n",
    "        \"item_id\": 0\n",
    "    },\n",
    "    {\n",
    "        \"user_id\": 1,\n",
    "        \"item_id\": 4\n",
    "    },\n",
    "    {\n",
    "        \"user_id\": 1,\n",
    "        \"item_id\": 1\n",
    "    },\n",
    "    {\n",
    "        \"user_id\": 3,\n",
    "        \"item_id\": 4\n",
    "    },\n",
    "    {\n",
    "        \"user_id\": 2,\n",
    "        \"item_id\": 1\n",
    "    },\n",
    "    {\n",
    "        \"user_id\": 4,\n",
    "        \"item_id\": 0\n",
    "    },\n",
    "    {\n",
    "        \"user_id\": 5,\n",
    "        \"item_id\": 4\n",
    "    },\n",
    "    {\n",
    "        \"user_id\": 2,\n",
    "        \"item_id\": 4\n",
    "    },\n",
    "    {\n",
    "        \"user_id\": 4,\n",
    "        \"item_id\": 4\n",
    "    },\n",
    "    {\n",
    "        \"user_id\": 4,\n",
    "        \"item_id\": 2\n",
    "    }\n",
    "])\n",
    "interactions_example"
   ]
  },
  {
   "cell_type": "code",
   "execution_count": 3,
   "metadata": {},
   "outputs": [],
   "source": [
    "users_embeddings = [\n",
    "    [0, 0, 0, 0, 0],\n",
    "    [1, 1, 1, 1, 1],\n",
    "    [2, 2, 2, 2, 2],\n",
    "    [3, 3, 3, 3, 3],\n",
    "    [4, 4, 4, 4, 4],\n",
    "    [5, 5, 5, 5, 5]\n",
    "]"
   ]
  },
  {
   "cell_type": "code",
   "execution_count": 4,
   "metadata": {},
   "outputs": [],
   "source": [
    "users_embeddings = np.array(users_embeddings)"
   ]
  },
  {
   "cell_type": "code",
   "execution_count": 5,
   "metadata": {},
   "outputs": [
    {
     "data": {
      "text/plain": [
       "[array([1, 1, 1, 1, 1]),\n",
       " array([2, 2, 2, 2, 2]),\n",
       " array([1, 1, 1, 1, 1]),\n",
       " array([1, 1, 1, 1, 1]),\n",
       " array([3, 3, 3, 3, 3]),\n",
       " array([2, 2, 2, 2, 2]),\n",
       " array([4, 4, 4, 4, 4]),\n",
       " array([5, 5, 5, 5, 5]),\n",
       " array([2, 2, 2, 2, 2]),\n",
       " array([4, 4, 4, 4, 4]),\n",
       " array([4, 4, 4, 4, 4])]"
      ]
     },
     "execution_count": 5,
     "metadata": {},
     "output_type": "execute_result"
    }
   ],
   "source": [
    "contexts = []\n",
    "\n",
    "for i, row in interactions_example.iterrows():\n",
    "    user_id = row[\"user_id\"]\n",
    "    item_id = row[\"item_id\"]\n",
    "    \n",
    "    contexts.append(users_embeddings[user_id])\n",
    "\n",
    "contexts"
   ]
  },
  {
   "cell_type": "code",
   "execution_count": 6,
   "metadata": {},
   "outputs": [
    {
     "data": {
      "text/html": [
       "<div>\n",
       "<style scoped>\n",
       "    .dataframe tbody tr th:only-of-type {\n",
       "        vertical-align: middle;\n",
       "    }\n",
       "\n",
       "    .dataframe tbody tr th {\n",
       "        vertical-align: top;\n",
       "    }\n",
       "\n",
       "    .dataframe thead th {\n",
       "        text-align: right;\n",
       "    }\n",
       "</style>\n",
       "<table border=\"1\" class=\"dataframe\">\n",
       "  <thead>\n",
       "    <tr style=\"text-align: right;\">\n",
       "      <th></th>\n",
       "      <th>user_id</th>\n",
       "      <th>item_id</th>\n",
       "      <th>context</th>\n",
       "    </tr>\n",
       "  </thead>\n",
       "  <tbody>\n",
       "    <tr>\n",
       "      <th>0</th>\n",
       "      <td>1</td>\n",
       "      <td>0</td>\n",
       "      <td>[1, 1, 1, 1, 1]</td>\n",
       "    </tr>\n",
       "    <tr>\n",
       "      <th>1</th>\n",
       "      <td>2</td>\n",
       "      <td>0</td>\n",
       "      <td>[2, 2, 2, 2, 2]</td>\n",
       "    </tr>\n",
       "    <tr>\n",
       "      <th>2</th>\n",
       "      <td>1</td>\n",
       "      <td>4</td>\n",
       "      <td>[1, 1, 1, 1, 1]</td>\n",
       "    </tr>\n",
       "    <tr>\n",
       "      <th>3</th>\n",
       "      <td>1</td>\n",
       "      <td>1</td>\n",
       "      <td>[1, 1, 1, 1, 1]</td>\n",
       "    </tr>\n",
       "    <tr>\n",
       "      <th>4</th>\n",
       "      <td>3</td>\n",
       "      <td>4</td>\n",
       "      <td>[3, 3, 3, 3, 3]</td>\n",
       "    </tr>\n",
       "    <tr>\n",
       "      <th>5</th>\n",
       "      <td>2</td>\n",
       "      <td>1</td>\n",
       "      <td>[2, 2, 2, 2, 2]</td>\n",
       "    </tr>\n",
       "    <tr>\n",
       "      <th>6</th>\n",
       "      <td>4</td>\n",
       "      <td>0</td>\n",
       "      <td>[4, 4, 4, 4, 4]</td>\n",
       "    </tr>\n",
       "    <tr>\n",
       "      <th>7</th>\n",
       "      <td>5</td>\n",
       "      <td>4</td>\n",
       "      <td>[5, 5, 5, 5, 5]</td>\n",
       "    </tr>\n",
       "    <tr>\n",
       "      <th>8</th>\n",
       "      <td>2</td>\n",
       "      <td>4</td>\n",
       "      <td>[2, 2, 2, 2, 2]</td>\n",
       "    </tr>\n",
       "    <tr>\n",
       "      <th>9</th>\n",
       "      <td>4</td>\n",
       "      <td>4</td>\n",
       "      <td>[4, 4, 4, 4, 4]</td>\n",
       "    </tr>\n",
       "    <tr>\n",
       "      <th>10</th>\n",
       "      <td>4</td>\n",
       "      <td>2</td>\n",
       "      <td>[4, 4, 4, 4, 4]</td>\n",
       "    </tr>\n",
       "  </tbody>\n",
       "</table>\n",
       "</div>"
      ],
      "text/plain": [
       "    user_id  item_id          context\n",
       "0         1        0  [1, 1, 1, 1, 1]\n",
       "1         2        0  [2, 2, 2, 2, 2]\n",
       "2         1        4  [1, 1, 1, 1, 1]\n",
       "3         1        1  [1, 1, 1, 1, 1]\n",
       "4         3        4  [3, 3, 3, 3, 3]\n",
       "5         2        1  [2, 2, 2, 2, 2]\n",
       "6         4        0  [4, 4, 4, 4, 4]\n",
       "7         5        4  [5, 5, 5, 5, 5]\n",
       "8         2        4  [2, 2, 2, 2, 2]\n",
       "9         4        4  [4, 4, 4, 4, 4]\n",
       "10        4        2  [4, 4, 4, 4, 4]"
      ]
     },
     "execution_count": 6,
     "metadata": {},
     "output_type": "execute_result"
    }
   ],
   "source": [
    "interactions_example['context'] = contexts\n",
    "interactions_example"
   ]
  },
  {
   "cell_type": "markdown",
   "metadata": {},
   "source": [
    "## Testando os modelos MAB usando embeddings de usuários"
   ]
  },
  {
   "cell_type": "code",
   "execution_count": 7,
   "metadata": {},
   "outputs": [],
   "source": [
    "from sklearn.preprocessing import LabelEncoder\n",
    "from scipy.sparse import csr_matrix\n",
    "import plotly.express as px\n",
    "import time\n",
    "import os\n",
    "import implicit\n",
    "from mab2rec import BanditRecommender, LearningPolicy\n",
    "\n",
    "train_data = \"../data/ml100k/data_train.csv\"\n",
    "test_data = \"../data/ml100k/data_test.csv\""
   ]
  },
  {
   "cell_type": "code",
   "execution_count": 8,
   "metadata": {},
   "outputs": [],
   "source": [
    "FACTORS = 10"
   ]
  },
  {
   "cell_type": "code",
   "execution_count": 9,
   "metadata": {},
   "outputs": [],
   "source": [
    "\n",
    "def train_embeddings_model(Model, df, num_users, num_items, generate_embeddings=False):\n",
    "    sparse_matrix = csr_matrix((df['response'], (df['user_id'], df['item_id'])), shape=(num_users, num_items))\n",
    "\n",
    "    model = Model(factors=FACTORS, random_state=1, num_threads=1)\n",
    "    model.fit(sparse_matrix)\n",
    "\n",
    "    if not generate_embeddings:\n",
    "        return model, sparse_matrix\n",
    "    \n",
    "    # # Não precisamos mais do código abaixo, ele funcina para embeddings de usuário, não de itens\n",
    "    # user_features_list = []\n",
    "\n",
    "    # for user_id in df['user_id'].unique():\n",
    "    #    user_factors = model.user_factors[user_id][:FACTORS]  # O BPR coloca 1 no final dos vetores latentes ?\n",
    "    #    user_features_list.append([user_id] + list(user_factors))\n",
    "\n",
    "    # df_user_features = pd.DataFrame(user_features_list, columns=['user_id'] + [f'u{i}' for i in range(FACTORS)])\n",
    "\n",
    "    return model, sparse_matrix, model.user_factors"
   ]
  },
  {
   "cell_type": "code",
   "execution_count": 10,
   "metadata": {},
   "outputs": [],
   "source": [
    "\n",
    "def test_embeddings_model(model, sparse_matrix, df_test):\n",
    "    all_recs = []\n",
    "\n",
    "    start_time = time.time()\n",
    "    hits = 0\n",
    "    for _, interaction in df_test.iterrows():\n",
    "        ids_recs, _ = model.recommend(userid=interaction['user_id'], user_items=sparse_matrix[interaction['user_id']], N=10)\n",
    "        if interaction['item_id'] in ids_recs:\n",
    "            hits += 1\n",
    "        all_recs.append(ids_recs.tolist())\n",
    "    \n",
    "    recs_df = pd.DataFrame({\n",
    "        'interaction_number': [i for i in range(len(df_test))],\n",
    "        'user_id': df_test['user_id'],\n",
    "        'item_id': df_test['item_id'],\n",
    "        'recommendations': all_recs\n",
    "    })\n",
    "    \n",
    "    return hits, hits/len(df_test), time.time() - start_time, recs_df"
   ]
  },
  {
   "cell_type": "code",
   "execution_count": 11,
   "metadata": {},
   "outputs": [],
   "source": [
    "\n",
    "def train_mab(mab_algo, df_train_with_contexts, context_col):\n",
    "    contexts = np.array(df_train_with_contexts[context_col].tolist())\n",
    "    mab_algo.fit(\n",
    "        decisions=df_train_with_contexts['item_id'],\n",
    "        rewards=df_train_with_contexts['response'],\n",
    "        contexts=contexts\n",
    "    )"
   ]
  },
  {
   "cell_type": "code",
   "execution_count": 12,
   "metadata": {},
   "outputs": [],
   "source": [
    "\n",
    "def test_non_incremental(mab_algo, contexts_col, df_test, interactions_by_user):\n",
    "    start_time = time.time()\n",
    "    hits = 0\n",
    "\n",
    "    # contexts = df_test.merge(user_features, how='left', on='user_id').drop(columns=['user_id', 'item_id', 'response']).values\n",
    "    contexts = np.array(df_test[contexts_col].tolist())\n",
    "    filters = df_test.merge(interactions_by_user, how='left', on='user_id').drop(columns=['user_id', 'item_id', 'response', 'als_context', 'bpr_context']).values.squeeze(axis=1) \n",
    "\n",
    "    recomendations = mab_algo.recommend(contexts, filters)\n",
    "\n",
    "    df_test = df_test.reset_index(drop=True)\n",
    "\n",
    "    hits = 0\n",
    "    for i, interaction in df_test.iterrows():\n",
    "        if interaction['item_id'] in recomendations[i]:\n",
    "            hits += 1\n",
    "    \n",
    "    recs_df = pd.DataFrame({\n",
    "        'interaction_number': [i for i in range(len(df_test))],\n",
    "        'user_id': df_test['user_id'],\n",
    "        'item_id': df_test['item_id'],\n",
    "        'recommendations': recomendations\n",
    "    })\n",
    "\n",
    "    return hits, hits/len(df_test), time.time() - start_time, recs_df"
   ]
  },
  {
   "cell_type": "code",
   "execution_count": 13,
   "metadata": {},
   "outputs": [],
   "source": [
    "def group_interactions_by_user(interactions_df):\n",
    "    interactions_by_user = interactions_df\\\n",
    "                        .groupby('user_id')[['item_id']]\\\n",
    "                        .apply(lambda df_user: df_user['item_id'].tolist())\\\n",
    "                        .reset_index(name='interactions')\n",
    "    interactions_by_user = interactions_by_user.reset_index(drop=True)\n",
    "    return interactions_by_user"
   ]
  },
  {
   "cell_type": "code",
   "execution_count": 14,
   "metadata": {},
   "outputs": [],
   "source": [
    "def create_contexts_list(interactions_df, users_embeddings):\n",
    "    contexts = []\n",
    "\n",
    "    for _, row in interactions_df.iterrows():\n",
    "        user_id = row[\"user_id\"]\n",
    "        contexts.append(users_embeddings[user_id][:FACTORS])\n",
    "\n",
    "    return contexts"
   ]
  },
  {
   "cell_type": "code",
   "execution_count": 15,
   "metadata": {},
   "outputs": [],
   "source": [
    "\n",
    "def test(test_size, train_initial_size, train_extra_increment_step_size):\n",
    "    '''\n",
    "    - `test_size`: define o tamanho da partição de teste no train/test split inicial. Por exemplo, se for escolhido 0.1 (10%), a partição de teste terá 10% das interações e a partição de treino terá 90% das interações. O tamanho da partição de teste passará ainda por um filtro com o tamanho do treino inicial, definido no próximo parâmetro.\n",
    "    - `train_initial_size`: define o tamanho inicial que será usado para treino dos modelos. Esse tamanho é uma porcentagem da partição de treino, por exemplo, 0.5 (50%) quer dizer que o treino será feito inicialmente com 50% das interações separadas para treino. Vale ressaltar que essa porcentagem é relacionada apenas à partição de treino, então, se temos uma partição de treino de 0.9 (90%) e o “train_initial_size” é definido como 0.5 (50%), então, teremos 45% (0.9 * 0.5) das interações todas para o treino inicial. Com a base de treino separada com essa porcentagem inicial, a base de teste passara por um filtro, removendo todas as interações com itens ou usuários que nunca foram vistos nesse treino inicial.\n",
    "    - `train_extra_increment_step_size`: define a porcentagem do \"treinamento extra\" que será usado. No início a base de dados é separada em treino inicial (train_initial_size), \"treinamento extra\" e teste. O \"treinamento extra\", assim como o teste, passa por um filtro para remover interações com itens ou usuários que nunca foram vistos no treino inicial. Após o treino inicial, o \"treinamento extra\" é usado para treinar os modelos de embeddings e os modelos de bandit. O \"treinamento extra\" é incrementado a cada iteração, de acordo com o valor desse parâmetro. Por exemplo, se o `train_extra_increment_step_size` é 0.1 (10%), então, a cada iteração, 10% das interações são adicionadas ao treino, até que todo o \"treinamento extra\" seja usado.\n",
    "    '''\n",
    "    results = []\n",
    "    df_recs = pd.DataFrame(columns=['algorithm', 'interaction_number', 'user_id', 'item_id', 'recommendations'])\n",
    "    df_train = pd.read_csv(train_data)\n",
    "    df_test = pd.read_csv(test_data)\n",
    "\n",
    "    df_full = pd.concat([df_train, df_test])\n",
    "\n",
    "    df_full['user_id'] = LabelEncoder().fit_transform(df_full['user_id'])\n",
    "    df_full['item_id'] = LabelEncoder().fit_transform(df_full['item_id'])\n",
    "\n",
    "    num_users = df_full['user_id'].nunique()\n",
    "    num_items = df_full['item_id'].nunique()\n",
    "\n",
    "    split_index = int(len(df_full) * (1 - test_size))\n",
    "    df_train_full = df_full[:split_index]\n",
    "    df_test = df_full[split_index:]\n",
    "\n",
    "    initial_df_train = df_train_full[:int(len(df_train_full) * train_initial_size)]\n",
    "    extra_df_train = df_train_full[int(len(df_train_full) * train_initial_size):]\n",
    "    extra_df_train = extra_df_train[(extra_df_train['user_id'].isin(initial_df_train['user_id'])) & (extra_df_train['item_id'].isin(initial_df_train['item_id']))]\n",
    "    extra_df_train = extra_df_train.reset_index(drop=True)\n",
    "\n",
    "    df_test = df_test[(df_test['user_id'].isin(initial_df_train['user_id'])) & (df_test['item_id'].isin(initial_df_train['item_id']))]\n",
    "    df_test = df_test.reset_index(drop=True)\n",
    "    df_test_for_evaluation = df_test[df_test['response'] == 1]\n",
    "    df_test_for_evaluation = df_test_for_evaluation.reset_index(drop=True)\n",
    "\n",
    "    print('Generating ALS embeddings')\n",
    "    ALS_model, _, ALS_user_embeddings = train_embeddings_model(implicit.als.AlternatingLeastSquares, initial_df_train, num_users, num_items, generate_embeddings=True)\n",
    "\n",
    "    print('Generating BPR embeddings')\n",
    "    BPR_model, _, BPR_user_embeddings = train_embeddings_model(implicit.bpr.BayesianPersonalizedRanking, initial_df_train, num_users, num_items, generate_embeddings=True)\n",
    "\n",
    "    # MUDANCAS AQUI\n",
    "    df_full_new = pd.concat([initial_df_train, extra_df_train, df_test_for_evaluation])\n",
    "    als_contexts = create_contexts_list(df_full_new, ALS_user_embeddings)\n",
    "    bpr_contexts = create_contexts_list(df_full_new, BPR_user_embeddings)\n",
    "\n",
    "    initial_df_train['als_context'] = als_contexts[:len(initial_df_train)]\n",
    "    initial_df_train['bpr_context'] = bpr_contexts[:len(initial_df_train)]\n",
    "\n",
    "    extra_df_train['als_context'] = als_contexts[len(initial_df_train):len(initial_df_train) + len(extra_df_train)]\n",
    "    extra_df_train['bpr_context'] = bpr_contexts[len(initial_df_train):len(initial_df_train) + len(extra_df_train)]\n",
    "\n",
    "    df_test_for_evaluation['als_context'] = als_contexts[len(initial_df_train) + len(extra_df_train):]\n",
    "    df_test_for_evaluation['bpr_context'] = bpr_contexts[len(initial_df_train) + len(extra_df_train):]\n",
    "    # FIM DAS MUDANÇAS\n",
    "\n",
    "    def save_algo_result(algo_name, hits, hr, spent_time, df_recs_algo, current_extra_train_size):\n",
    "        df_recs_algo['algorithm'] = algo_name\n",
    "        df_recs_algo['train_size'] = current_extra_train_size\n",
    "        df_recs_new = pd.concat([df_recs, df_recs_algo])\n",
    "        results.append({'algorithm': algo_name, 'hits': hits, 'hr': hr, 'time': spent_time, 'train_size': current_extra_train_size})\n",
    "        return df_recs_new\n",
    "\n",
    "    current_extra_train_size = 0\n",
    "    while current_extra_train_size <= 1:\n",
    "        print(f\"Current extra train size: {current_extra_train_size}\")\n",
    "\n",
    "        current_df_train = pd.concat([initial_df_train, extra_df_train[:int(len(extra_df_train) * current_extra_train_size)]])\n",
    "        interactions_by_user = group_interactions_by_user(current_df_train)  # MUDANÇA AQUI\n",
    "\n",
    "        # -------------- ALS -----------------\n",
    "        print('Training ALS')\n",
    "        ALS_model, sparse_matrix = train_embeddings_model(implicit.als.AlternatingLeastSquares, current_df_train, num_users, num_items)\n",
    "\n",
    "        print('Testing ALS')\n",
    "        hits, hr, spent_time, df_recs_als = test_embeddings_model(ALS_model, sparse_matrix, df_test_for_evaluation)\n",
    "        df_recs = save_algo_result('ALS', hits, hr, spent_time, df_recs_als, current_extra_train_size)\n",
    "\n",
    "        # -------------- BPR -----------------\n",
    "        print('Training BPR')\n",
    "        BPR_model, sparse_matrix = train_embeddings_model(implicit.bpr.BayesianPersonalizedRanking, current_df_train, num_users, num_items)\n",
    "\n",
    "        print('Testing BPR')\n",
    "        hits, hr, spent_time, df_recs_bpr = test_embeddings_model(BPR_model, sparse_matrix, df_test_for_evaluation)\n",
    "        df_recs = save_algo_result('BPR', hits, hr, spent_time, df_recs_bpr, current_extra_train_size)\n",
    "\n",
    "        # ------ LinUCB - ALS embeddings -------\n",
    "        print('Training LinUCB - ALS embeddings')\n",
    "        linUCB_model = BanditRecommender(learning_policy=LearningPolicy.LinUCB(alpha=0.1), top_k=10)\n",
    "        train_mab(linUCB_model, current_df_train, 'als_context')  # Mudança no treinamento dos MAB\n",
    "\n",
    "        print('Testing LinUCB - ALS embeddings')\n",
    "        hits, hr, spent_time, df_recs_linUCB = test_non_incremental(linUCB_model, 'als_context', df_test_for_evaluation, interactions_by_user)\n",
    "        df_recs = save_algo_result('LinUCB - ALS embeddings', hits, hr, spent_time, df_recs_linUCB, current_extra_train_size)\n",
    "\n",
    "\n",
    "        # ------ LinUCB - BPR embeddings -------\n",
    "        print('Training LinUCB - BPR embeddings')\n",
    "        linUCB_model = BanditRecommender(learning_policy=LearningPolicy.LinUCB(alpha=0.1), top_k=10)\n",
    "        train_mab(linUCB_model, current_df_train, 'bpr_context')\n",
    "\n",
    "        print('Testing LinUCB - BPR embeddings')\n",
    "        hits, hr, spent_time, df_recs_linUCB = test_non_incremental(linUCB_model, 'bpr_context', df_test_for_evaluation, interactions_by_user)\n",
    "        df_recs = save_algo_result('LinUCB - BPR embeddings', hits, hr, spent_time, df_recs_linUCB, current_extra_train_size)\n",
    "\n",
    "        # ------ LinGreedy - ALS embeddings -------\n",
    "        print('Training LinGreedy - ALS embeddings')\n",
    "        linGreedy_model = BanditRecommender(learning_policy=LearningPolicy.LinGreedy(epsilon=0.01), top_k=10)\n",
    "        train_mab(linGreedy_model, current_df_train, 'als_context')\n",
    "\n",
    "        print('Testing LinGreedy - ALS embeddings')\n",
    "        hits, hr, spent_time, df_recs_linGreedy = test_non_incremental(linGreedy_model, 'als_context', df_test_for_evaluation, interactions_by_user)\n",
    "        df_recs = save_algo_result('LinGreedy - ALS embeddings', hits, hr, spent_time, df_recs_linGreedy, current_extra_train_size)\n",
    "\n",
    "\n",
    "        # ------ LinGreedy - BPR embeddings -------\n",
    "        print('Training LinGreedy - BPR embeddings')\n",
    "        linGreedy_model = BanditRecommender(learning_policy=LearningPolicy.LinGreedy(epsilon=0.01), top_k=10)\n",
    "        train_mab(linGreedy_model, current_df_train, 'bpr_context')\n",
    "\n",
    "        print('Testing LinGreedy - BPR embeddings')\n",
    "        hits, hr, spent_time, df_recs_linGreedy = test_non_incremental(linGreedy_model, 'bpr_context', df_test_for_evaluation, interactions_by_user)\n",
    "        df_recs = save_algo_result('LinGreedy - BPR embeddings', hits, hr, spent_time, df_recs_linGreedy, current_extra_train_size)\n",
    "        \n",
    "        # Incrementando o tamanho do treino para próxima iteração\n",
    "        current_extra_train_size = round(current_extra_train_size + train_extra_increment_step_size, 2)\n",
    "    \n",
    "    save_path = f'results-v8/'\n",
    "    if not os.path.exists(save_path):\n",
    "        os.makedirs(save_path)\n",
    "\n",
    "    df_results = pd.DataFrame(results)\n",
    "    df_results = df_results.astype({'hits': int, 'hr': float, 'time': float})\n",
    "    df_results['test_size'] = round(test_size, 2)\n",
    "    df_results['test_interactions'] = len(df_test_for_evaluation)\n",
    "\n",
    "    df_results.to_csv(f'{save_path}/results.csv', index=False)\n",
    "    df_recs.to_csv(f'{save_path}/recs.csv', index=False)"
   ]
  },
  {
   "cell_type": "code",
   "execution_count": 16,
   "metadata": {},
   "outputs": [
    {
     "name": "stdout",
     "output_type": "stream",
     "text": [
      "Generating ALS embeddings\n"
     ]
    },
    {
     "data": {
      "application/vnd.jupyter.widget-view+json": {
       "model_id": "20970927ef0e4b829ce976070d8e7907",
       "version_major": 2,
       "version_minor": 0
      },
      "text/plain": [
       "  0%|          | 0/15 [00:00<?, ?it/s]"
      ]
     },
     "metadata": {},
     "output_type": "display_data"
    },
    {
     "name": "stdout",
     "output_type": "stream",
     "text": [
      "Generating BPR embeddings\n"
     ]
    },
    {
     "data": {
      "application/vnd.jupyter.widget-view+json": {
       "model_id": "7db06a1fb54e472d99f2a8daac6023bb",
       "version_major": 2,
       "version_minor": 0
      },
      "text/plain": [
       "  0%|          | 0/100 [00:00<?, ?it/s]"
      ]
     },
     "metadata": {},
     "output_type": "display_data"
    },
    {
     "name": "stdout",
     "output_type": "stream",
     "text": [
      "Current extra train size: 0\n",
      "Training ALS\n"
     ]
    },
    {
     "name": "stderr",
     "output_type": "stream",
     "text": [
      "C:\\Users\\gregf\\AppData\\Local\\Temp\\ipykernel_20664\\2425623891.py:45: SettingWithCopyWarning: \n",
      "A value is trying to be set on a copy of a slice from a DataFrame.\n",
      "Try using .loc[row_indexer,col_indexer] = value instead\n",
      "\n",
      "See the caveats in the documentation: https://pandas.pydata.org/pandas-docs/stable/user_guide/indexing.html#returning-a-view-versus-a-copy\n",
      "  initial_df_train['als_context'] = als_contexts[:len(initial_df_train)]\n",
      "C:\\Users\\gregf\\AppData\\Local\\Temp\\ipykernel_20664\\2425623891.py:46: SettingWithCopyWarning: \n",
      "A value is trying to be set on a copy of a slice from a DataFrame.\n",
      "Try using .loc[row_indexer,col_indexer] = value instead\n",
      "\n",
      "See the caveats in the documentation: https://pandas.pydata.org/pandas-docs/stable/user_guide/indexing.html#returning-a-view-versus-a-copy\n",
      "  initial_df_train['bpr_context'] = bpr_contexts[:len(initial_df_train)]\n"
     ]
    },
    {
     "data": {
      "application/vnd.jupyter.widget-view+json": {
       "model_id": "cd6b99966a24433797a6e6f16054bfb6",
       "version_major": 2,
       "version_minor": 0
      },
      "text/plain": [
       "  0%|          | 0/15 [00:00<?, ?it/s]"
      ]
     },
     "metadata": {},
     "output_type": "display_data"
    },
    {
     "name": "stdout",
     "output_type": "stream",
     "text": [
      "Testing ALS\n",
      "Training BPR\n"
     ]
    },
    {
     "data": {
      "application/vnd.jupyter.widget-view+json": {
       "model_id": "74a6776785e749199ef672e20b3aa4cd",
       "version_major": 2,
       "version_minor": 0
      },
      "text/plain": [
       "  0%|          | 0/100 [00:00<?, ?it/s]"
      ]
     },
     "metadata": {},
     "output_type": "display_data"
    },
    {
     "name": "stdout",
     "output_type": "stream",
     "text": [
      "Testing BPR\n",
      "Training LinUCB - ALS embeddings\n",
      "Testing LinUCB - ALS embeddings\n",
      "Training LinUCB - BPR embeddings\n",
      "Testing LinUCB - BPR embeddings\n",
      "Training LinGreedy - ALS embeddings\n",
      "Testing LinGreedy - ALS embeddings\n",
      "Training LinGreedy - BPR embeddings\n",
      "Testing LinGreedy - BPR embeddings\n",
      "Current extra train size: 0.1\n",
      "Training ALS\n"
     ]
    },
    {
     "data": {
      "application/vnd.jupyter.widget-view+json": {
       "model_id": "c2e0385778cb48218ccc158069c9b6b8",
       "version_major": 2,
       "version_minor": 0
      },
      "text/plain": [
       "  0%|          | 0/15 [00:00<?, ?it/s]"
      ]
     },
     "metadata": {},
     "output_type": "display_data"
    },
    {
     "name": "stdout",
     "output_type": "stream",
     "text": [
      "Testing ALS\n",
      "Training BPR\n"
     ]
    },
    {
     "data": {
      "application/vnd.jupyter.widget-view+json": {
       "model_id": "1898c939f2144583a508d16c5a241176",
       "version_major": 2,
       "version_minor": 0
      },
      "text/plain": [
       "  0%|          | 0/100 [00:00<?, ?it/s]"
      ]
     },
     "metadata": {},
     "output_type": "display_data"
    },
    {
     "name": "stdout",
     "output_type": "stream",
     "text": [
      "Testing BPR\n",
      "Training LinUCB - ALS embeddings\n",
      "Testing LinUCB - ALS embeddings\n",
      "Training LinUCB - BPR embeddings\n",
      "Testing LinUCB - BPR embeddings\n",
      "Training LinGreedy - ALS embeddings\n",
      "Testing LinGreedy - ALS embeddings\n",
      "Training LinGreedy - BPR embeddings\n",
      "Testing LinGreedy - BPR embeddings\n",
      "Current extra train size: 0.2\n",
      "Training ALS\n"
     ]
    },
    {
     "data": {
      "application/vnd.jupyter.widget-view+json": {
       "model_id": "f9aaea3b6cbc4f4897648d1ab0bf678f",
       "version_major": 2,
       "version_minor": 0
      },
      "text/plain": [
       "  0%|          | 0/15 [00:00<?, ?it/s]"
      ]
     },
     "metadata": {},
     "output_type": "display_data"
    },
    {
     "name": "stdout",
     "output_type": "stream",
     "text": [
      "Testing ALS\n",
      "Training BPR\n"
     ]
    },
    {
     "data": {
      "application/vnd.jupyter.widget-view+json": {
       "model_id": "64d36a5681ff4e74bdba2821794b5bd0",
       "version_major": 2,
       "version_minor": 0
      },
      "text/plain": [
       "  0%|          | 0/100 [00:00<?, ?it/s]"
      ]
     },
     "metadata": {},
     "output_type": "display_data"
    },
    {
     "name": "stdout",
     "output_type": "stream",
     "text": [
      "Testing BPR\n",
      "Training LinUCB - ALS embeddings\n",
      "Testing LinUCB - ALS embeddings\n",
      "Training LinUCB - BPR embeddings\n",
      "Testing LinUCB - BPR embeddings\n",
      "Training LinGreedy - ALS embeddings\n",
      "Testing LinGreedy - ALS embeddings\n",
      "Training LinGreedy - BPR embeddings\n",
      "Testing LinGreedy - BPR embeddings\n",
      "Current extra train size: 0.3\n",
      "Training ALS\n"
     ]
    },
    {
     "data": {
      "application/vnd.jupyter.widget-view+json": {
       "model_id": "fc30277f4e0a4d65b4eee61069f74a6b",
       "version_major": 2,
       "version_minor": 0
      },
      "text/plain": [
       "  0%|          | 0/15 [00:00<?, ?it/s]"
      ]
     },
     "metadata": {},
     "output_type": "display_data"
    },
    {
     "name": "stdout",
     "output_type": "stream",
     "text": [
      "Testing ALS\n",
      "Training BPR\n"
     ]
    },
    {
     "data": {
      "application/vnd.jupyter.widget-view+json": {
       "model_id": "036e3fe75c83400a850d2ac2422929ea",
       "version_major": 2,
       "version_minor": 0
      },
      "text/plain": [
       "  0%|          | 0/100 [00:00<?, ?it/s]"
      ]
     },
     "metadata": {},
     "output_type": "display_data"
    },
    {
     "name": "stdout",
     "output_type": "stream",
     "text": [
      "Testing BPR\n",
      "Training LinUCB - ALS embeddings\n",
      "Testing LinUCB - ALS embeddings\n",
      "Training LinUCB - BPR embeddings\n",
      "Testing LinUCB - BPR embeddings\n",
      "Training LinGreedy - ALS embeddings\n",
      "Testing LinGreedy - ALS embeddings\n",
      "Training LinGreedy - BPR embeddings\n",
      "Testing LinGreedy - BPR embeddings\n",
      "Current extra train size: 0.4\n",
      "Training ALS\n"
     ]
    },
    {
     "data": {
      "application/vnd.jupyter.widget-view+json": {
       "model_id": "f74bbfb7055f4c2aa2d0a96e12cf99ca",
       "version_major": 2,
       "version_minor": 0
      },
      "text/plain": [
       "  0%|          | 0/15 [00:00<?, ?it/s]"
      ]
     },
     "metadata": {},
     "output_type": "display_data"
    },
    {
     "name": "stdout",
     "output_type": "stream",
     "text": [
      "Testing ALS\n",
      "Training BPR\n"
     ]
    },
    {
     "data": {
      "application/vnd.jupyter.widget-view+json": {
       "model_id": "b6f0f881e1624a789e0f0a8521511d86",
       "version_major": 2,
       "version_minor": 0
      },
      "text/plain": [
       "  0%|          | 0/100 [00:00<?, ?it/s]"
      ]
     },
     "metadata": {},
     "output_type": "display_data"
    },
    {
     "name": "stdout",
     "output_type": "stream",
     "text": [
      "Testing BPR\n",
      "Training LinUCB - ALS embeddings\n",
      "Testing LinUCB - ALS embeddings\n",
      "Training LinUCB - BPR embeddings\n",
      "Testing LinUCB - BPR embeddings\n",
      "Training LinGreedy - ALS embeddings\n",
      "Testing LinGreedy - ALS embeddings\n",
      "Training LinGreedy - BPR embeddings\n",
      "Testing LinGreedy - BPR embeddings\n",
      "Current extra train size: 0.5\n",
      "Training ALS\n"
     ]
    },
    {
     "data": {
      "application/vnd.jupyter.widget-view+json": {
       "model_id": "05fe8aebd9314c7ea488951ae64ad07f",
       "version_major": 2,
       "version_minor": 0
      },
      "text/plain": [
       "  0%|          | 0/15 [00:00<?, ?it/s]"
      ]
     },
     "metadata": {},
     "output_type": "display_data"
    },
    {
     "name": "stdout",
     "output_type": "stream",
     "text": [
      "Testing ALS\n",
      "Training BPR\n"
     ]
    },
    {
     "data": {
      "application/vnd.jupyter.widget-view+json": {
       "model_id": "fab35a3d0e5c49c18cddf468faacaedc",
       "version_major": 2,
       "version_minor": 0
      },
      "text/plain": [
       "  0%|          | 0/100 [00:00<?, ?it/s]"
      ]
     },
     "metadata": {},
     "output_type": "display_data"
    },
    {
     "name": "stdout",
     "output_type": "stream",
     "text": [
      "Testing BPR\n",
      "Training LinUCB - ALS embeddings\n",
      "Testing LinUCB - ALS embeddings\n",
      "Training LinUCB - BPR embeddings\n",
      "Testing LinUCB - BPR embeddings\n",
      "Training LinGreedy - ALS embeddings\n",
      "Testing LinGreedy - ALS embeddings\n",
      "Training LinGreedy - BPR embeddings\n",
      "Testing LinGreedy - BPR embeddings\n",
      "Current extra train size: 0.6\n",
      "Training ALS\n"
     ]
    },
    {
     "data": {
      "application/vnd.jupyter.widget-view+json": {
       "model_id": "466d0034e36c4517902d67db7742688f",
       "version_major": 2,
       "version_minor": 0
      },
      "text/plain": [
       "  0%|          | 0/15 [00:00<?, ?it/s]"
      ]
     },
     "metadata": {},
     "output_type": "display_data"
    },
    {
     "name": "stdout",
     "output_type": "stream",
     "text": [
      "Testing ALS\n",
      "Training BPR\n"
     ]
    },
    {
     "data": {
      "application/vnd.jupyter.widget-view+json": {
       "model_id": "6f63b8174a3a474484b0ff653af728cf",
       "version_major": 2,
       "version_minor": 0
      },
      "text/plain": [
       "  0%|          | 0/100 [00:00<?, ?it/s]"
      ]
     },
     "metadata": {},
     "output_type": "display_data"
    },
    {
     "name": "stdout",
     "output_type": "stream",
     "text": [
      "Testing BPR\n",
      "Training LinUCB - ALS embeddings\n",
      "Testing LinUCB - ALS embeddings\n",
      "Training LinUCB - BPR embeddings\n",
      "Testing LinUCB - BPR embeddings\n",
      "Training LinGreedy - ALS embeddings\n",
      "Testing LinGreedy - ALS embeddings\n",
      "Training LinGreedy - BPR embeddings\n",
      "Testing LinGreedy - BPR embeddings\n",
      "Current extra train size: 0.7\n",
      "Training ALS\n"
     ]
    },
    {
     "data": {
      "application/vnd.jupyter.widget-view+json": {
       "model_id": "d9daa690500a417e8e7fad1266f99ef8",
       "version_major": 2,
       "version_minor": 0
      },
      "text/plain": [
       "  0%|          | 0/15 [00:00<?, ?it/s]"
      ]
     },
     "metadata": {},
     "output_type": "display_data"
    },
    {
     "name": "stdout",
     "output_type": "stream",
     "text": [
      "Testing ALS\n",
      "Training BPR\n"
     ]
    },
    {
     "data": {
      "application/vnd.jupyter.widget-view+json": {
       "model_id": "1f668878c8dc4fbb9b4e6b13281be577",
       "version_major": 2,
       "version_minor": 0
      },
      "text/plain": [
       "  0%|          | 0/100 [00:00<?, ?it/s]"
      ]
     },
     "metadata": {},
     "output_type": "display_data"
    },
    {
     "name": "stdout",
     "output_type": "stream",
     "text": [
      "Testing BPR\n",
      "Training LinUCB - ALS embeddings\n",
      "Testing LinUCB - ALS embeddings\n",
      "Training LinUCB - BPR embeddings\n",
      "Testing LinUCB - BPR embeddings\n",
      "Training LinGreedy - ALS embeddings\n",
      "Testing LinGreedy - ALS embeddings\n",
      "Training LinGreedy - BPR embeddings\n",
      "Testing LinGreedy - BPR embeddings\n",
      "Current extra train size: 0.8\n",
      "Training ALS\n"
     ]
    },
    {
     "data": {
      "application/vnd.jupyter.widget-view+json": {
       "model_id": "5a02ae7bf9b54e898eb64fe7a1473c8f",
       "version_major": 2,
       "version_minor": 0
      },
      "text/plain": [
       "  0%|          | 0/15 [00:00<?, ?it/s]"
      ]
     },
     "metadata": {},
     "output_type": "display_data"
    },
    {
     "name": "stdout",
     "output_type": "stream",
     "text": [
      "Testing ALS\n",
      "Training BPR\n"
     ]
    },
    {
     "data": {
      "application/vnd.jupyter.widget-view+json": {
       "model_id": "fe0fba615fdd43bd8264aae467ba594d",
       "version_major": 2,
       "version_minor": 0
      },
      "text/plain": [
       "  0%|          | 0/100 [00:00<?, ?it/s]"
      ]
     },
     "metadata": {},
     "output_type": "display_data"
    },
    {
     "name": "stdout",
     "output_type": "stream",
     "text": [
      "Testing BPR\n",
      "Training LinUCB - ALS embeddings\n",
      "Testing LinUCB - ALS embeddings\n",
      "Training LinUCB - BPR embeddings\n",
      "Testing LinUCB - BPR embeddings\n",
      "Training LinGreedy - ALS embeddings\n",
      "Testing LinGreedy - ALS embeddings\n",
      "Training LinGreedy - BPR embeddings\n",
      "Testing LinGreedy - BPR embeddings\n",
      "Current extra train size: 0.9\n",
      "Training ALS\n"
     ]
    },
    {
     "data": {
      "application/vnd.jupyter.widget-view+json": {
       "model_id": "35fae40149bb474bb522c05744033b58",
       "version_major": 2,
       "version_minor": 0
      },
      "text/plain": [
       "  0%|          | 0/15 [00:00<?, ?it/s]"
      ]
     },
     "metadata": {},
     "output_type": "display_data"
    },
    {
     "name": "stdout",
     "output_type": "stream",
     "text": [
      "Testing ALS\n",
      "Training BPR\n"
     ]
    },
    {
     "data": {
      "application/vnd.jupyter.widget-view+json": {
       "model_id": "e850163e29fc4831a29962d48408544e",
       "version_major": 2,
       "version_minor": 0
      },
      "text/plain": [
       "  0%|          | 0/100 [00:00<?, ?it/s]"
      ]
     },
     "metadata": {},
     "output_type": "display_data"
    },
    {
     "name": "stdout",
     "output_type": "stream",
     "text": [
      "Testing BPR\n",
      "Training LinUCB - ALS embeddings\n",
      "Testing LinUCB - ALS embeddings\n",
      "Training LinUCB - BPR embeddings\n",
      "Testing LinUCB - BPR embeddings\n",
      "Training LinGreedy - ALS embeddings\n",
      "Testing LinGreedy - ALS embeddings\n",
      "Training LinGreedy - BPR embeddings\n",
      "Testing LinGreedy - BPR embeddings\n",
      "Current extra train size: 1.0\n",
      "Training ALS\n"
     ]
    },
    {
     "data": {
      "application/vnd.jupyter.widget-view+json": {
       "model_id": "e9f2738138b04eaea81196b5ce26286c",
       "version_major": 2,
       "version_minor": 0
      },
      "text/plain": [
       "  0%|          | 0/15 [00:00<?, ?it/s]"
      ]
     },
     "metadata": {},
     "output_type": "display_data"
    },
    {
     "name": "stdout",
     "output_type": "stream",
     "text": [
      "Testing ALS\n",
      "Training BPR\n"
     ]
    },
    {
     "data": {
      "application/vnd.jupyter.widget-view+json": {
       "model_id": "932379c2f0994ef9bccb5f0a0dc581bf",
       "version_major": 2,
       "version_minor": 0
      },
      "text/plain": [
       "  0%|          | 0/100 [00:00<?, ?it/s]"
      ]
     },
     "metadata": {},
     "output_type": "display_data"
    },
    {
     "name": "stdout",
     "output_type": "stream",
     "text": [
      "Testing BPR\n",
      "Training LinUCB - ALS embeddings\n",
      "Testing LinUCB - ALS embeddings\n",
      "Training LinUCB - BPR embeddings\n",
      "Testing LinUCB - BPR embeddings\n",
      "Training LinGreedy - ALS embeddings\n",
      "Testing LinGreedy - ALS embeddings\n",
      "Training LinGreedy - BPR embeddings\n",
      "Testing LinGreedy - BPR embeddings\n"
     ]
    }
   ],
   "source": [
    "test(test_size=0.1, train_initial_size=0.5, train_extra_increment_step_size=0.1)"
   ]
  },
  {
   "cell_type": "code",
   "execution_count": 17,
   "metadata": {},
   "outputs": [],
   "source": [
    "df_results = pd.read_csv('results-v8/results.csv')"
   ]
  },
  {
   "cell_type": "code",
   "execution_count": 18,
   "metadata": {},
   "outputs": [],
   "source": [
    "def remove_incremental(df_results):\n",
    "    new_df = df_results[(~df_results['algorithm'].str.contains('incremental') | df_results['algorithm'].str.contains('non-incremental'))]\n",
    "    new_df['algorithm'] = new_df['algorithm'].str.replace(' - non-incremental', '')\n",
    "    return new_df"
   ]
  },
  {
   "cell_type": "code",
   "execution_count": 19,
   "metadata": {},
   "outputs": [],
   "source": [
    "def transform_in_upper_and_lower_bounds(df_results, algo_names):\n",
    "    train_sizes = sorted(df_results['train_size'].unique().tolist())\n",
    "    min_train_size = train_sizes[0]\n",
    "    max_train_size = train_sizes[-1]\n",
    "    qnt_train_sizes = len(train_sizes)\n",
    "\n",
    "    for algo_name in algo_names:\n",
    "        algo_row_lower = df_results[(df_results['algorithm'] == algo_name) & (df_results['train_size'] == min_train_size)]\n",
    "        df_lower = pd.DataFrame({\n",
    "            'algorithm': [f'{algo_name} lower'] * qnt_train_sizes,\n",
    "            'hits': [algo_row_lower['hits'].values[0]] * qnt_train_sizes,\n",
    "            'hr': [algo_row_lower['hr'].values[0]] * qnt_train_sizes,\n",
    "            'time': [algo_row_lower['time'].values[0]] * qnt_train_sizes,\n",
    "            'train_size': train_sizes,\n",
    "            'test_size': [algo_row_lower['test_size'].values[0]] * qnt_train_sizes,\n",
    "            'test_interactions': [algo_row_lower['test_interactions'].values[0]] * qnt_train_sizes\n",
    "        })\n",
    "        df_results = pd.concat([df_results, df_lower])\n",
    "\n",
    "        algo_row_upper = df_results[(df_results['algorithm'] == algo_name) & (df_results['train_size'] == max_train_size)]\n",
    "        df_upper = pd.DataFrame({\n",
    "            'algorithm': [f'{algo_name} upper'] * qnt_train_sizes,\n",
    "            'hits': [algo_row_upper['hits'].values[0]] * qnt_train_sizes,\n",
    "            'hr': [algo_row_upper['hr'].values[0]] * qnt_train_sizes,\n",
    "            'time': [algo_row_upper['time'].values[0]] * qnt_train_sizes,\n",
    "            'train_size': train_sizes,\n",
    "            'test_size': [algo_row_upper['test_size'].values[0]] * qnt_train_sizes,\n",
    "            'test_interactions': [algo_row_upper['test_interactions'].values[0]] * qnt_train_sizes\n",
    "        })\n",
    "        df_results = pd.concat([df_results, df_upper])\n",
    "\n",
    "        df_results = df_results[df_results['algorithm'] != algo_name]\n",
    "    \n",
    "    return df_results"
   ]
  },
  {
   "cell_type": "code",
   "execution_count": 20,
   "metadata": {},
   "outputs": [],
   "source": [
    "import plotly.graph_objects as go\n",
    "\n",
    "def plot_results(df_results, save_root):\n",
    "    df_results = remove_incremental(df_results)\n",
    "    df_results = transform_in_upper_and_lower_bounds(df_results, ['ALS', 'BPR'])\n",
    "\n",
    "    algos_configs = {\n",
    "        'ALS upper': {'color': 'blue', 'dash': 'dash'},\n",
    "        'ALS lower': {'color': 'blue', 'dash': 'dash'},\n",
    "        'BPR upper': {'color': 'red', 'dash': 'dash'},\n",
    "        'BPR lower': {'color': 'red', 'dash': 'dash'},\n",
    "        'LinUCB - ALS embeddings': {'color': 'green', 'dash': 'solid'},\n",
    "        'LinUCB - BPR embeddings': {'color': 'purple', 'dash': 'solid'},\n",
    "        'LinGreedy - ALS embeddings': {'color': 'orange', 'dash': 'solid'},\n",
    "        'LinGreedy - BPR embeddings': {'color': 'pink', 'dash': 'solid'}\n",
    "    }\n",
    "\n",
    "    fig = go.Figure()\n",
    "    for algo_name, config in algos_configs.items():\n",
    "        df_algo = df_results[df_results['algorithm'] == algo_name]\n",
    "        fig.add_trace(go.Scatter(x=df_algo['train_size'], y=df_algo['hr'], mode='lines', name=algo_name, line=dict(color=config['color'], dash=config['dash'])))\n",
    "    \n",
    "    fig.update_layout(title='HR x Train size', xaxis_title='Train size', yaxis_title='HR')\n",
    "    fig.show()\n",
    "\n",
    "    fig.write_html(f'{save_root}/hr_x_train_size.html')\n",
    "    fig.write_image(f'{save_root}/hr_x_train_size.png')"
   ]
  },
  {
   "cell_type": "code",
   "execution_count": 30,
   "metadata": {},
   "outputs": [
    {
     "data": {
      "application/vnd.plotly.v1+json": {
       "config": {
        "plotlyServerURL": "https://plot.ly"
       },
       "data": [
        {
         "line": {
          "color": "blue",
          "dash": "dash"
         },
         "mode": "lines",
         "name": "ALS upper",
         "type": "scatter",
         "x": [
          0,
          0.1,
          0.2,
          0.3,
          0.4,
          0.5,
          0.6,
          0.7,
          0.8,
          0.9,
          1
         ],
         "y": [
          0.1277683134582623,
          0.1277683134582623,
          0.1277683134582623,
          0.1277683134582623,
          0.1277683134582623,
          0.1277683134582623,
          0.1277683134582623,
          0.1277683134582623,
          0.1277683134582623,
          0.1277683134582623,
          0.1277683134582623
         ]
        },
        {
         "line": {
          "color": "blue",
          "dash": "dash"
         },
         "mode": "lines",
         "name": "ALS lower",
         "type": "scatter",
         "x": [
          0,
          0.1,
          0.2,
          0.3,
          0.4,
          0.5,
          0.6,
          0.7,
          0.8,
          0.9,
          1
         ],
         "y": [
          0.1073253833049403,
          0.1073253833049403,
          0.1073253833049403,
          0.1073253833049403,
          0.1073253833049403,
          0.1073253833049403,
          0.1073253833049403,
          0.1073253833049403,
          0.1073253833049403,
          0.1073253833049403,
          0.1073253833049403
         ]
        },
        {
         "line": {
          "color": "red",
          "dash": "dash"
         },
         "mode": "lines",
         "name": "BPR upper",
         "type": "scatter",
         "x": [
          0,
          0.1,
          0.2,
          0.3,
          0.4,
          0.5,
          0.6,
          0.7,
          0.8,
          0.9,
          1
         ],
         "y": [
          0.0834752981260647,
          0.0834752981260647,
          0.0834752981260647,
          0.0834752981260647,
          0.0834752981260647,
          0.0834752981260647,
          0.0834752981260647,
          0.0834752981260647,
          0.0834752981260647,
          0.0834752981260647,
          0.0834752981260647
         ]
        },
        {
         "line": {
          "color": "red",
          "dash": "dash"
         },
         "mode": "lines",
         "name": "BPR lower",
         "type": "scatter",
         "x": [
          0,
          0.1,
          0.2,
          0.3,
          0.4,
          0.5,
          0.6,
          0.7,
          0.8,
          0.9,
          1
         ],
         "y": [
          0.0732538330494037,
          0.0732538330494037,
          0.0732538330494037,
          0.0732538330494037,
          0.0732538330494037,
          0.0732538330494037,
          0.0732538330494037,
          0.0732538330494037,
          0.0732538330494037,
          0.0732538330494037,
          0.0732538330494037
         ]
        },
        {
         "line": {
          "color": "green",
          "dash": "solid"
         },
         "mode": "lines",
         "name": "LinUCB - ALS embeddings",
         "type": "scatter",
         "x": [
          0,
          0.1,
          0.2,
          0.3,
          0.4,
          0.5,
          0.6,
          0.7,
          0.8,
          0.9,
          1
         ],
         "y": [
          0.06984667802385,
          0.06984667802385,
          0.0664395229982964,
          0.0817717206132879,
          0.0851788756388415,
          0.0851788756388415,
          0.0988074957410562,
          0.0971039182282793,
          0.1039182282793867,
          0.1090289608177172,
          0.110732538330494
         ]
        },
        {
         "line": {
          "color": "purple",
          "dash": "solid"
         },
         "mode": "lines",
         "name": "LinUCB - BPR embeddings",
         "type": "scatter",
         "x": [
          0,
          0.1,
          0.2,
          0.3,
          0.4,
          0.5,
          0.6,
          0.7,
          0.8,
          0.9,
          1
         ],
         "y": [
          0.0732538330494037,
          0.0766609880749574,
          0.0749574105621805,
          0.0851788756388415,
          0.0749574105621805,
          0.0783645655877342,
          0.0817717206132879,
          0.0783645655877342,
          0.0868824531516184,
          0.0868824531516184,
          0.0885860306643952
         ]
        },
        {
         "line": {
          "color": "orange",
          "dash": "solid"
         },
         "mode": "lines",
         "name": "LinGreedy - ALS embeddings",
         "type": "scatter",
         "x": [
          0,
          0.1,
          0.2,
          0.3,
          0.4,
          0.5,
          0.6,
          0.7,
          0.8,
          0.9,
          1
         ],
         "y": [
          0.0732538330494037,
          0.0749574105621805,
          0.0749574105621805,
          0.0834752981260647,
          0.0954003407155025,
          0.0885860306643952,
          0.1056218057921635,
          0.1073253833049403,
          0.110732538330494,
          0.1141396933560477,
          0.1124361158432708
         ]
        },
        {
         "line": {
          "color": "pink",
          "dash": "solid"
         },
         "mode": "lines",
         "name": "LinGreedy - BPR embeddings",
         "type": "scatter",
         "x": [
          0,
          0.1,
          0.2,
          0.3,
          0.4,
          0.5,
          0.6,
          0.7,
          0.8,
          0.9,
          1
         ],
         "y": [
          0.0732538330494037,
          0.0817717206132879,
          0.0749574105621805,
          0.0851788756388415,
          0.0766609880749574,
          0.0766609880749574,
          0.0834752981260647,
          0.0783645655877342,
          0.0868824531516184,
          0.0885860306643952,
          0.0919931856899489
         ]
        }
       ],
       "layout": {
        "template": {
         "data": {
          "bar": [
           {
            "error_x": {
             "color": "#2a3f5f"
            },
            "error_y": {
             "color": "#2a3f5f"
            },
            "marker": {
             "line": {
              "color": "#E5ECF6",
              "width": 0.5
             },
             "pattern": {
              "fillmode": "overlay",
              "size": 10,
              "solidity": 0.2
             }
            },
            "type": "bar"
           }
          ],
          "barpolar": [
           {
            "marker": {
             "line": {
              "color": "#E5ECF6",
              "width": 0.5
             },
             "pattern": {
              "fillmode": "overlay",
              "size": 10,
              "solidity": 0.2
             }
            },
            "type": "barpolar"
           }
          ],
          "carpet": [
           {
            "aaxis": {
             "endlinecolor": "#2a3f5f",
             "gridcolor": "white",
             "linecolor": "white",
             "minorgridcolor": "white",
             "startlinecolor": "#2a3f5f"
            },
            "baxis": {
             "endlinecolor": "#2a3f5f",
             "gridcolor": "white",
             "linecolor": "white",
             "minorgridcolor": "white",
             "startlinecolor": "#2a3f5f"
            },
            "type": "carpet"
           }
          ],
          "choropleth": [
           {
            "colorbar": {
             "outlinewidth": 0,
             "ticks": ""
            },
            "type": "choropleth"
           }
          ],
          "contour": [
           {
            "colorbar": {
             "outlinewidth": 0,
             "ticks": ""
            },
            "colorscale": [
             [
              0,
              "#0d0887"
             ],
             [
              0.1111111111111111,
              "#46039f"
             ],
             [
              0.2222222222222222,
              "#7201a8"
             ],
             [
              0.3333333333333333,
              "#9c179e"
             ],
             [
              0.4444444444444444,
              "#bd3786"
             ],
             [
              0.5555555555555556,
              "#d8576b"
             ],
             [
              0.6666666666666666,
              "#ed7953"
             ],
             [
              0.7777777777777778,
              "#fb9f3a"
             ],
             [
              0.8888888888888888,
              "#fdca26"
             ],
             [
              1,
              "#f0f921"
             ]
            ],
            "type": "contour"
           }
          ],
          "contourcarpet": [
           {
            "colorbar": {
             "outlinewidth": 0,
             "ticks": ""
            },
            "type": "contourcarpet"
           }
          ],
          "heatmap": [
           {
            "colorbar": {
             "outlinewidth": 0,
             "ticks": ""
            },
            "colorscale": [
             [
              0,
              "#0d0887"
             ],
             [
              0.1111111111111111,
              "#46039f"
             ],
             [
              0.2222222222222222,
              "#7201a8"
             ],
             [
              0.3333333333333333,
              "#9c179e"
             ],
             [
              0.4444444444444444,
              "#bd3786"
             ],
             [
              0.5555555555555556,
              "#d8576b"
             ],
             [
              0.6666666666666666,
              "#ed7953"
             ],
             [
              0.7777777777777778,
              "#fb9f3a"
             ],
             [
              0.8888888888888888,
              "#fdca26"
             ],
             [
              1,
              "#f0f921"
             ]
            ],
            "type": "heatmap"
           }
          ],
          "heatmapgl": [
           {
            "colorbar": {
             "outlinewidth": 0,
             "ticks": ""
            },
            "colorscale": [
             [
              0,
              "#0d0887"
             ],
             [
              0.1111111111111111,
              "#46039f"
             ],
             [
              0.2222222222222222,
              "#7201a8"
             ],
             [
              0.3333333333333333,
              "#9c179e"
             ],
             [
              0.4444444444444444,
              "#bd3786"
             ],
             [
              0.5555555555555556,
              "#d8576b"
             ],
             [
              0.6666666666666666,
              "#ed7953"
             ],
             [
              0.7777777777777778,
              "#fb9f3a"
             ],
             [
              0.8888888888888888,
              "#fdca26"
             ],
             [
              1,
              "#f0f921"
             ]
            ],
            "type": "heatmapgl"
           }
          ],
          "histogram": [
           {
            "marker": {
             "pattern": {
              "fillmode": "overlay",
              "size": 10,
              "solidity": 0.2
             }
            },
            "type": "histogram"
           }
          ],
          "histogram2d": [
           {
            "colorbar": {
             "outlinewidth": 0,
             "ticks": ""
            },
            "colorscale": [
             [
              0,
              "#0d0887"
             ],
             [
              0.1111111111111111,
              "#46039f"
             ],
             [
              0.2222222222222222,
              "#7201a8"
             ],
             [
              0.3333333333333333,
              "#9c179e"
             ],
             [
              0.4444444444444444,
              "#bd3786"
             ],
             [
              0.5555555555555556,
              "#d8576b"
             ],
             [
              0.6666666666666666,
              "#ed7953"
             ],
             [
              0.7777777777777778,
              "#fb9f3a"
             ],
             [
              0.8888888888888888,
              "#fdca26"
             ],
             [
              1,
              "#f0f921"
             ]
            ],
            "type": "histogram2d"
           }
          ],
          "histogram2dcontour": [
           {
            "colorbar": {
             "outlinewidth": 0,
             "ticks": ""
            },
            "colorscale": [
             [
              0,
              "#0d0887"
             ],
             [
              0.1111111111111111,
              "#46039f"
             ],
             [
              0.2222222222222222,
              "#7201a8"
             ],
             [
              0.3333333333333333,
              "#9c179e"
             ],
             [
              0.4444444444444444,
              "#bd3786"
             ],
             [
              0.5555555555555556,
              "#d8576b"
             ],
             [
              0.6666666666666666,
              "#ed7953"
             ],
             [
              0.7777777777777778,
              "#fb9f3a"
             ],
             [
              0.8888888888888888,
              "#fdca26"
             ],
             [
              1,
              "#f0f921"
             ]
            ],
            "type": "histogram2dcontour"
           }
          ],
          "mesh3d": [
           {
            "colorbar": {
             "outlinewidth": 0,
             "ticks": ""
            },
            "type": "mesh3d"
           }
          ],
          "parcoords": [
           {
            "line": {
             "colorbar": {
              "outlinewidth": 0,
              "ticks": ""
             }
            },
            "type": "parcoords"
           }
          ],
          "pie": [
           {
            "automargin": true,
            "type": "pie"
           }
          ],
          "scatter": [
           {
            "fillpattern": {
             "fillmode": "overlay",
             "size": 10,
             "solidity": 0.2
            },
            "type": "scatter"
           }
          ],
          "scatter3d": [
           {
            "line": {
             "colorbar": {
              "outlinewidth": 0,
              "ticks": ""
             }
            },
            "marker": {
             "colorbar": {
              "outlinewidth": 0,
              "ticks": ""
             }
            },
            "type": "scatter3d"
           }
          ],
          "scattercarpet": [
           {
            "marker": {
             "colorbar": {
              "outlinewidth": 0,
              "ticks": ""
             }
            },
            "type": "scattercarpet"
           }
          ],
          "scattergeo": [
           {
            "marker": {
             "colorbar": {
              "outlinewidth": 0,
              "ticks": ""
             }
            },
            "type": "scattergeo"
           }
          ],
          "scattergl": [
           {
            "marker": {
             "colorbar": {
              "outlinewidth": 0,
              "ticks": ""
             }
            },
            "type": "scattergl"
           }
          ],
          "scattermapbox": [
           {
            "marker": {
             "colorbar": {
              "outlinewidth": 0,
              "ticks": ""
             }
            },
            "type": "scattermapbox"
           }
          ],
          "scatterpolar": [
           {
            "marker": {
             "colorbar": {
              "outlinewidth": 0,
              "ticks": ""
             }
            },
            "type": "scatterpolar"
           }
          ],
          "scatterpolargl": [
           {
            "marker": {
             "colorbar": {
              "outlinewidth": 0,
              "ticks": ""
             }
            },
            "type": "scatterpolargl"
           }
          ],
          "scatterternary": [
           {
            "marker": {
             "colorbar": {
              "outlinewidth": 0,
              "ticks": ""
             }
            },
            "type": "scatterternary"
           }
          ],
          "surface": [
           {
            "colorbar": {
             "outlinewidth": 0,
             "ticks": ""
            },
            "colorscale": [
             [
              0,
              "#0d0887"
             ],
             [
              0.1111111111111111,
              "#46039f"
             ],
             [
              0.2222222222222222,
              "#7201a8"
             ],
             [
              0.3333333333333333,
              "#9c179e"
             ],
             [
              0.4444444444444444,
              "#bd3786"
             ],
             [
              0.5555555555555556,
              "#d8576b"
             ],
             [
              0.6666666666666666,
              "#ed7953"
             ],
             [
              0.7777777777777778,
              "#fb9f3a"
             ],
             [
              0.8888888888888888,
              "#fdca26"
             ],
             [
              1,
              "#f0f921"
             ]
            ],
            "type": "surface"
           }
          ],
          "table": [
           {
            "cells": {
             "fill": {
              "color": "#EBF0F8"
             },
             "line": {
              "color": "white"
             }
            },
            "header": {
             "fill": {
              "color": "#C8D4E3"
             },
             "line": {
              "color": "white"
             }
            },
            "type": "table"
           }
          ]
         },
         "layout": {
          "annotationdefaults": {
           "arrowcolor": "#2a3f5f",
           "arrowhead": 0,
           "arrowwidth": 1
          },
          "autotypenumbers": "strict",
          "coloraxis": {
           "colorbar": {
            "outlinewidth": 0,
            "ticks": ""
           }
          },
          "colorscale": {
           "diverging": [
            [
             0,
             "#8e0152"
            ],
            [
             0.1,
             "#c51b7d"
            ],
            [
             0.2,
             "#de77ae"
            ],
            [
             0.3,
             "#f1b6da"
            ],
            [
             0.4,
             "#fde0ef"
            ],
            [
             0.5,
             "#f7f7f7"
            ],
            [
             0.6,
             "#e6f5d0"
            ],
            [
             0.7,
             "#b8e186"
            ],
            [
             0.8,
             "#7fbc41"
            ],
            [
             0.9,
             "#4d9221"
            ],
            [
             1,
             "#276419"
            ]
           ],
           "sequential": [
            [
             0,
             "#0d0887"
            ],
            [
             0.1111111111111111,
             "#46039f"
            ],
            [
             0.2222222222222222,
             "#7201a8"
            ],
            [
             0.3333333333333333,
             "#9c179e"
            ],
            [
             0.4444444444444444,
             "#bd3786"
            ],
            [
             0.5555555555555556,
             "#d8576b"
            ],
            [
             0.6666666666666666,
             "#ed7953"
            ],
            [
             0.7777777777777778,
             "#fb9f3a"
            ],
            [
             0.8888888888888888,
             "#fdca26"
            ],
            [
             1,
             "#f0f921"
            ]
           ],
           "sequentialminus": [
            [
             0,
             "#0d0887"
            ],
            [
             0.1111111111111111,
             "#46039f"
            ],
            [
             0.2222222222222222,
             "#7201a8"
            ],
            [
             0.3333333333333333,
             "#9c179e"
            ],
            [
             0.4444444444444444,
             "#bd3786"
            ],
            [
             0.5555555555555556,
             "#d8576b"
            ],
            [
             0.6666666666666666,
             "#ed7953"
            ],
            [
             0.7777777777777778,
             "#fb9f3a"
            ],
            [
             0.8888888888888888,
             "#fdca26"
            ],
            [
             1,
             "#f0f921"
            ]
           ]
          },
          "colorway": [
           "#636efa",
           "#EF553B",
           "#00cc96",
           "#ab63fa",
           "#FFA15A",
           "#19d3f3",
           "#FF6692",
           "#B6E880",
           "#FF97FF",
           "#FECB52"
          ],
          "font": {
           "color": "#2a3f5f"
          },
          "geo": {
           "bgcolor": "white",
           "lakecolor": "white",
           "landcolor": "#E5ECF6",
           "showlakes": true,
           "showland": true,
           "subunitcolor": "white"
          },
          "hoverlabel": {
           "align": "left"
          },
          "hovermode": "closest",
          "mapbox": {
           "style": "light"
          },
          "paper_bgcolor": "white",
          "plot_bgcolor": "#E5ECF6",
          "polar": {
           "angularaxis": {
            "gridcolor": "white",
            "linecolor": "white",
            "ticks": ""
           },
           "bgcolor": "#E5ECF6",
           "radialaxis": {
            "gridcolor": "white",
            "linecolor": "white",
            "ticks": ""
           }
          },
          "scene": {
           "xaxis": {
            "backgroundcolor": "#E5ECF6",
            "gridcolor": "white",
            "gridwidth": 2,
            "linecolor": "white",
            "showbackground": true,
            "ticks": "",
            "zerolinecolor": "white"
           },
           "yaxis": {
            "backgroundcolor": "#E5ECF6",
            "gridcolor": "white",
            "gridwidth": 2,
            "linecolor": "white",
            "showbackground": true,
            "ticks": "",
            "zerolinecolor": "white"
           },
           "zaxis": {
            "backgroundcolor": "#E5ECF6",
            "gridcolor": "white",
            "gridwidth": 2,
            "linecolor": "white",
            "showbackground": true,
            "ticks": "",
            "zerolinecolor": "white"
           }
          },
          "shapedefaults": {
           "line": {
            "color": "#2a3f5f"
           }
          },
          "ternary": {
           "aaxis": {
            "gridcolor": "white",
            "linecolor": "white",
            "ticks": ""
           },
           "baxis": {
            "gridcolor": "white",
            "linecolor": "white",
            "ticks": ""
           },
           "bgcolor": "#E5ECF6",
           "caxis": {
            "gridcolor": "white",
            "linecolor": "white",
            "ticks": ""
           }
          },
          "title": {
           "x": 0.05
          },
          "xaxis": {
           "automargin": true,
           "gridcolor": "white",
           "linecolor": "white",
           "ticks": "",
           "title": {
            "standoff": 15
           },
           "zerolinecolor": "white",
           "zerolinewidth": 2
          },
          "yaxis": {
           "automargin": true,
           "gridcolor": "white",
           "linecolor": "white",
           "ticks": "",
           "title": {
            "standoff": 15
           },
           "zerolinecolor": "white",
           "zerolinewidth": 2
          }
         }
        },
        "title": {
         "text": "HR x Train size"
        },
        "xaxis": {
         "title": {
          "text": "Train size"
         }
        },
        "yaxis": {
         "title": {
          "text": "HR"
         }
        }
       }
      }
     },
     "metadata": {},
     "output_type": "display_data"
    }
   ],
   "source": [
    "plot_results(df_results, 'results-v8')"
   ]
  },
  {
   "cell_type": "code",
   "execution_count": 22,
   "metadata": {},
   "outputs": [
    {
     "data": {
      "application/vnd.plotly.v1+json": {
       "config": {
        "plotlyServerURL": "https://plot.ly"
       },
       "data": [
        {
         "hovertemplate": "algorithm=ALS<br>train_size=%{x}<br>hr=%{y}<extra></extra>",
         "legendgroup": "ALS",
         "line": {
          "color": "#636efa",
          "dash": "solid"
         },
         "marker": {
          "symbol": "circle"
         },
         "mode": "lines",
         "name": "ALS",
         "orientation": "v",
         "showlegend": true,
         "type": "scatter",
         "x": [
          0,
          0.1,
          0.2,
          0.3,
          0.4,
          0.5,
          0.6,
          0.7,
          0.8,
          0.9,
          1
         ],
         "xaxis": "x",
         "y": [
          0.1073253833049403,
          0.120954003407155,
          0.1226575809199318,
          0.1277683134582623,
          0.1260647359454855,
          0.120954003407155,
          0.1124361158432708,
          0.1175468483816013,
          0.1192504258943781,
          0.1294718909710391,
          0.1277683134582623
         ],
         "yaxis": "y"
        },
        {
         "hovertemplate": "algorithm=BPR<br>train_size=%{x}<br>hr=%{y}<extra></extra>",
         "legendgroup": "BPR",
         "line": {
          "color": "#EF553B",
          "dash": "solid"
         },
         "marker": {
          "symbol": "circle"
         },
         "mode": "lines",
         "name": "BPR",
         "orientation": "v",
         "showlegend": true,
         "type": "scatter",
         "x": [
          0,
          0.1,
          0.2,
          0.3,
          0.4,
          0.5,
          0.6,
          0.7,
          0.8,
          0.9,
          1
         ],
         "xaxis": "x",
         "y": [
          0.0732538330494037,
          0.0664395229982964,
          0.0715502555366269,
          0.0630323679727427,
          0.059625212947189,
          0.0613287904599659,
          0.0664395229982964,
          0.06984667802385,
          0.06984667802385,
          0.0664395229982964,
          0.0834752981260647
         ],
         "yaxis": "y"
        },
        {
         "hovertemplate": "algorithm=LinUCB - ALS embeddings<br>train_size=%{x}<br>hr=%{y}<extra></extra>",
         "legendgroup": "LinUCB - ALS embeddings",
         "line": {
          "color": "#00cc96",
          "dash": "solid"
         },
         "marker": {
          "symbol": "circle"
         },
         "mode": "lines",
         "name": "LinUCB - ALS embeddings",
         "orientation": "v",
         "showlegend": true,
         "type": "scatter",
         "x": [
          0,
          0.1,
          0.2,
          0.3,
          0.4,
          0.5,
          0.6,
          0.7,
          0.8,
          0.9,
          1
         ],
         "xaxis": "x",
         "y": [
          0.06984667802385,
          0.06984667802385,
          0.0664395229982964,
          0.0817717206132879,
          0.0851788756388415,
          0.0851788756388415,
          0.0988074957410562,
          0.0971039182282793,
          0.1039182282793867,
          0.1090289608177172,
          0.110732538330494
         ],
         "yaxis": "y"
        },
        {
         "hovertemplate": "algorithm=LinUCB - BPR embeddings<br>train_size=%{x}<br>hr=%{y}<extra></extra>",
         "legendgroup": "LinUCB - BPR embeddings",
         "line": {
          "color": "#ab63fa",
          "dash": "solid"
         },
         "marker": {
          "symbol": "circle"
         },
         "mode": "lines",
         "name": "LinUCB - BPR embeddings",
         "orientation": "v",
         "showlegend": true,
         "type": "scatter",
         "x": [
          0,
          0.1,
          0.2,
          0.3,
          0.4,
          0.5,
          0.6,
          0.7,
          0.8,
          0.9,
          1
         ],
         "xaxis": "x",
         "y": [
          0.0732538330494037,
          0.0766609880749574,
          0.0749574105621805,
          0.0851788756388415,
          0.0749574105621805,
          0.0783645655877342,
          0.0817717206132879,
          0.0783645655877342,
          0.0868824531516184,
          0.0868824531516184,
          0.0885860306643952
         ],
         "yaxis": "y"
        },
        {
         "hovertemplate": "algorithm=LinGreedy - ALS embeddings<br>train_size=%{x}<br>hr=%{y}<extra></extra>",
         "legendgroup": "LinGreedy - ALS embeddings",
         "line": {
          "color": "#FFA15A",
          "dash": "solid"
         },
         "marker": {
          "symbol": "circle"
         },
         "mode": "lines",
         "name": "LinGreedy - ALS embeddings",
         "orientation": "v",
         "showlegend": true,
         "type": "scatter",
         "x": [
          0,
          0.1,
          0.2,
          0.3,
          0.4,
          0.5,
          0.6,
          0.7,
          0.8,
          0.9,
          1
         ],
         "xaxis": "x",
         "y": [
          0.0732538330494037,
          0.0749574105621805,
          0.0749574105621805,
          0.0834752981260647,
          0.0954003407155025,
          0.0885860306643952,
          0.1056218057921635,
          0.1073253833049403,
          0.110732538330494,
          0.1141396933560477,
          0.1124361158432708
         ],
         "yaxis": "y"
        },
        {
         "hovertemplate": "algorithm=LinGreedy - BPR embeddings<br>train_size=%{x}<br>hr=%{y}<extra></extra>",
         "legendgroup": "LinGreedy - BPR embeddings",
         "line": {
          "color": "#19d3f3",
          "dash": "solid"
         },
         "marker": {
          "symbol": "circle"
         },
         "mode": "lines",
         "name": "LinGreedy - BPR embeddings",
         "orientation": "v",
         "showlegend": true,
         "type": "scatter",
         "x": [
          0,
          0.1,
          0.2,
          0.3,
          0.4,
          0.5,
          0.6,
          0.7,
          0.8,
          0.9,
          1
         ],
         "xaxis": "x",
         "y": [
          0.0732538330494037,
          0.0817717206132879,
          0.0749574105621805,
          0.0851788756388415,
          0.0766609880749574,
          0.0766609880749574,
          0.0834752981260647,
          0.0783645655877342,
          0.0868824531516184,
          0.0885860306643952,
          0.0919931856899489
         ],
         "yaxis": "y"
        }
       ],
       "layout": {
        "legend": {
         "title": {
          "text": "algorithm"
         },
         "tracegroupgap": 0
        },
        "template": {
         "data": {
          "bar": [
           {
            "error_x": {
             "color": "#2a3f5f"
            },
            "error_y": {
             "color": "#2a3f5f"
            },
            "marker": {
             "line": {
              "color": "#E5ECF6",
              "width": 0.5
             },
             "pattern": {
              "fillmode": "overlay",
              "size": 10,
              "solidity": 0.2
             }
            },
            "type": "bar"
           }
          ],
          "barpolar": [
           {
            "marker": {
             "line": {
              "color": "#E5ECF6",
              "width": 0.5
             },
             "pattern": {
              "fillmode": "overlay",
              "size": 10,
              "solidity": 0.2
             }
            },
            "type": "barpolar"
           }
          ],
          "carpet": [
           {
            "aaxis": {
             "endlinecolor": "#2a3f5f",
             "gridcolor": "white",
             "linecolor": "white",
             "minorgridcolor": "white",
             "startlinecolor": "#2a3f5f"
            },
            "baxis": {
             "endlinecolor": "#2a3f5f",
             "gridcolor": "white",
             "linecolor": "white",
             "minorgridcolor": "white",
             "startlinecolor": "#2a3f5f"
            },
            "type": "carpet"
           }
          ],
          "choropleth": [
           {
            "colorbar": {
             "outlinewidth": 0,
             "ticks": ""
            },
            "type": "choropleth"
           }
          ],
          "contour": [
           {
            "colorbar": {
             "outlinewidth": 0,
             "ticks": ""
            },
            "colorscale": [
             [
              0,
              "#0d0887"
             ],
             [
              0.1111111111111111,
              "#46039f"
             ],
             [
              0.2222222222222222,
              "#7201a8"
             ],
             [
              0.3333333333333333,
              "#9c179e"
             ],
             [
              0.4444444444444444,
              "#bd3786"
             ],
             [
              0.5555555555555556,
              "#d8576b"
             ],
             [
              0.6666666666666666,
              "#ed7953"
             ],
             [
              0.7777777777777778,
              "#fb9f3a"
             ],
             [
              0.8888888888888888,
              "#fdca26"
             ],
             [
              1,
              "#f0f921"
             ]
            ],
            "type": "contour"
           }
          ],
          "contourcarpet": [
           {
            "colorbar": {
             "outlinewidth": 0,
             "ticks": ""
            },
            "type": "contourcarpet"
           }
          ],
          "heatmap": [
           {
            "colorbar": {
             "outlinewidth": 0,
             "ticks": ""
            },
            "colorscale": [
             [
              0,
              "#0d0887"
             ],
             [
              0.1111111111111111,
              "#46039f"
             ],
             [
              0.2222222222222222,
              "#7201a8"
             ],
             [
              0.3333333333333333,
              "#9c179e"
             ],
             [
              0.4444444444444444,
              "#bd3786"
             ],
             [
              0.5555555555555556,
              "#d8576b"
             ],
             [
              0.6666666666666666,
              "#ed7953"
             ],
             [
              0.7777777777777778,
              "#fb9f3a"
             ],
             [
              0.8888888888888888,
              "#fdca26"
             ],
             [
              1,
              "#f0f921"
             ]
            ],
            "type": "heatmap"
           }
          ],
          "heatmapgl": [
           {
            "colorbar": {
             "outlinewidth": 0,
             "ticks": ""
            },
            "colorscale": [
             [
              0,
              "#0d0887"
             ],
             [
              0.1111111111111111,
              "#46039f"
             ],
             [
              0.2222222222222222,
              "#7201a8"
             ],
             [
              0.3333333333333333,
              "#9c179e"
             ],
             [
              0.4444444444444444,
              "#bd3786"
             ],
             [
              0.5555555555555556,
              "#d8576b"
             ],
             [
              0.6666666666666666,
              "#ed7953"
             ],
             [
              0.7777777777777778,
              "#fb9f3a"
             ],
             [
              0.8888888888888888,
              "#fdca26"
             ],
             [
              1,
              "#f0f921"
             ]
            ],
            "type": "heatmapgl"
           }
          ],
          "histogram": [
           {
            "marker": {
             "pattern": {
              "fillmode": "overlay",
              "size": 10,
              "solidity": 0.2
             }
            },
            "type": "histogram"
           }
          ],
          "histogram2d": [
           {
            "colorbar": {
             "outlinewidth": 0,
             "ticks": ""
            },
            "colorscale": [
             [
              0,
              "#0d0887"
             ],
             [
              0.1111111111111111,
              "#46039f"
             ],
             [
              0.2222222222222222,
              "#7201a8"
             ],
             [
              0.3333333333333333,
              "#9c179e"
             ],
             [
              0.4444444444444444,
              "#bd3786"
             ],
             [
              0.5555555555555556,
              "#d8576b"
             ],
             [
              0.6666666666666666,
              "#ed7953"
             ],
             [
              0.7777777777777778,
              "#fb9f3a"
             ],
             [
              0.8888888888888888,
              "#fdca26"
             ],
             [
              1,
              "#f0f921"
             ]
            ],
            "type": "histogram2d"
           }
          ],
          "histogram2dcontour": [
           {
            "colorbar": {
             "outlinewidth": 0,
             "ticks": ""
            },
            "colorscale": [
             [
              0,
              "#0d0887"
             ],
             [
              0.1111111111111111,
              "#46039f"
             ],
             [
              0.2222222222222222,
              "#7201a8"
             ],
             [
              0.3333333333333333,
              "#9c179e"
             ],
             [
              0.4444444444444444,
              "#bd3786"
             ],
             [
              0.5555555555555556,
              "#d8576b"
             ],
             [
              0.6666666666666666,
              "#ed7953"
             ],
             [
              0.7777777777777778,
              "#fb9f3a"
             ],
             [
              0.8888888888888888,
              "#fdca26"
             ],
             [
              1,
              "#f0f921"
             ]
            ],
            "type": "histogram2dcontour"
           }
          ],
          "mesh3d": [
           {
            "colorbar": {
             "outlinewidth": 0,
             "ticks": ""
            },
            "type": "mesh3d"
           }
          ],
          "parcoords": [
           {
            "line": {
             "colorbar": {
              "outlinewidth": 0,
              "ticks": ""
             }
            },
            "type": "parcoords"
           }
          ],
          "pie": [
           {
            "automargin": true,
            "type": "pie"
           }
          ],
          "scatter": [
           {
            "fillpattern": {
             "fillmode": "overlay",
             "size": 10,
             "solidity": 0.2
            },
            "type": "scatter"
           }
          ],
          "scatter3d": [
           {
            "line": {
             "colorbar": {
              "outlinewidth": 0,
              "ticks": ""
             }
            },
            "marker": {
             "colorbar": {
              "outlinewidth": 0,
              "ticks": ""
             }
            },
            "type": "scatter3d"
           }
          ],
          "scattercarpet": [
           {
            "marker": {
             "colorbar": {
              "outlinewidth": 0,
              "ticks": ""
             }
            },
            "type": "scattercarpet"
           }
          ],
          "scattergeo": [
           {
            "marker": {
             "colorbar": {
              "outlinewidth": 0,
              "ticks": ""
             }
            },
            "type": "scattergeo"
           }
          ],
          "scattergl": [
           {
            "marker": {
             "colorbar": {
              "outlinewidth": 0,
              "ticks": ""
             }
            },
            "type": "scattergl"
           }
          ],
          "scattermapbox": [
           {
            "marker": {
             "colorbar": {
              "outlinewidth": 0,
              "ticks": ""
             }
            },
            "type": "scattermapbox"
           }
          ],
          "scatterpolar": [
           {
            "marker": {
             "colorbar": {
              "outlinewidth": 0,
              "ticks": ""
             }
            },
            "type": "scatterpolar"
           }
          ],
          "scatterpolargl": [
           {
            "marker": {
             "colorbar": {
              "outlinewidth": 0,
              "ticks": ""
             }
            },
            "type": "scatterpolargl"
           }
          ],
          "scatterternary": [
           {
            "marker": {
             "colorbar": {
              "outlinewidth": 0,
              "ticks": ""
             }
            },
            "type": "scatterternary"
           }
          ],
          "surface": [
           {
            "colorbar": {
             "outlinewidth": 0,
             "ticks": ""
            },
            "colorscale": [
             [
              0,
              "#0d0887"
             ],
             [
              0.1111111111111111,
              "#46039f"
             ],
             [
              0.2222222222222222,
              "#7201a8"
             ],
             [
              0.3333333333333333,
              "#9c179e"
             ],
             [
              0.4444444444444444,
              "#bd3786"
             ],
             [
              0.5555555555555556,
              "#d8576b"
             ],
             [
              0.6666666666666666,
              "#ed7953"
             ],
             [
              0.7777777777777778,
              "#fb9f3a"
             ],
             [
              0.8888888888888888,
              "#fdca26"
             ],
             [
              1,
              "#f0f921"
             ]
            ],
            "type": "surface"
           }
          ],
          "table": [
           {
            "cells": {
             "fill": {
              "color": "#EBF0F8"
             },
             "line": {
              "color": "white"
             }
            },
            "header": {
             "fill": {
              "color": "#C8D4E3"
             },
             "line": {
              "color": "white"
             }
            },
            "type": "table"
           }
          ]
         },
         "layout": {
          "annotationdefaults": {
           "arrowcolor": "#2a3f5f",
           "arrowhead": 0,
           "arrowwidth": 1
          },
          "autotypenumbers": "strict",
          "coloraxis": {
           "colorbar": {
            "outlinewidth": 0,
            "ticks": ""
           }
          },
          "colorscale": {
           "diverging": [
            [
             0,
             "#8e0152"
            ],
            [
             0.1,
             "#c51b7d"
            ],
            [
             0.2,
             "#de77ae"
            ],
            [
             0.3,
             "#f1b6da"
            ],
            [
             0.4,
             "#fde0ef"
            ],
            [
             0.5,
             "#f7f7f7"
            ],
            [
             0.6,
             "#e6f5d0"
            ],
            [
             0.7,
             "#b8e186"
            ],
            [
             0.8,
             "#7fbc41"
            ],
            [
             0.9,
             "#4d9221"
            ],
            [
             1,
             "#276419"
            ]
           ],
           "sequential": [
            [
             0,
             "#0d0887"
            ],
            [
             0.1111111111111111,
             "#46039f"
            ],
            [
             0.2222222222222222,
             "#7201a8"
            ],
            [
             0.3333333333333333,
             "#9c179e"
            ],
            [
             0.4444444444444444,
             "#bd3786"
            ],
            [
             0.5555555555555556,
             "#d8576b"
            ],
            [
             0.6666666666666666,
             "#ed7953"
            ],
            [
             0.7777777777777778,
             "#fb9f3a"
            ],
            [
             0.8888888888888888,
             "#fdca26"
            ],
            [
             1,
             "#f0f921"
            ]
           ],
           "sequentialminus": [
            [
             0,
             "#0d0887"
            ],
            [
             0.1111111111111111,
             "#46039f"
            ],
            [
             0.2222222222222222,
             "#7201a8"
            ],
            [
             0.3333333333333333,
             "#9c179e"
            ],
            [
             0.4444444444444444,
             "#bd3786"
            ],
            [
             0.5555555555555556,
             "#d8576b"
            ],
            [
             0.6666666666666666,
             "#ed7953"
            ],
            [
             0.7777777777777778,
             "#fb9f3a"
            ],
            [
             0.8888888888888888,
             "#fdca26"
            ],
            [
             1,
             "#f0f921"
            ]
           ]
          },
          "colorway": [
           "#636efa",
           "#EF553B",
           "#00cc96",
           "#ab63fa",
           "#FFA15A",
           "#19d3f3",
           "#FF6692",
           "#B6E880",
           "#FF97FF",
           "#FECB52"
          ],
          "font": {
           "color": "#2a3f5f"
          },
          "geo": {
           "bgcolor": "white",
           "lakecolor": "white",
           "landcolor": "#E5ECF6",
           "showlakes": true,
           "showland": true,
           "subunitcolor": "white"
          },
          "hoverlabel": {
           "align": "left"
          },
          "hovermode": "closest",
          "mapbox": {
           "style": "light"
          },
          "paper_bgcolor": "white",
          "plot_bgcolor": "#E5ECF6",
          "polar": {
           "angularaxis": {
            "gridcolor": "white",
            "linecolor": "white",
            "ticks": ""
           },
           "bgcolor": "#E5ECF6",
           "radialaxis": {
            "gridcolor": "white",
            "linecolor": "white",
            "ticks": ""
           }
          },
          "scene": {
           "xaxis": {
            "backgroundcolor": "#E5ECF6",
            "gridcolor": "white",
            "gridwidth": 2,
            "linecolor": "white",
            "showbackground": true,
            "ticks": "",
            "zerolinecolor": "white"
           },
           "yaxis": {
            "backgroundcolor": "#E5ECF6",
            "gridcolor": "white",
            "gridwidth": 2,
            "linecolor": "white",
            "showbackground": true,
            "ticks": "",
            "zerolinecolor": "white"
           },
           "zaxis": {
            "backgroundcolor": "#E5ECF6",
            "gridcolor": "white",
            "gridwidth": 2,
            "linecolor": "white",
            "showbackground": true,
            "ticks": "",
            "zerolinecolor": "white"
           }
          },
          "shapedefaults": {
           "line": {
            "color": "#2a3f5f"
           }
          },
          "ternary": {
           "aaxis": {
            "gridcolor": "white",
            "linecolor": "white",
            "ticks": ""
           },
           "baxis": {
            "gridcolor": "white",
            "linecolor": "white",
            "ticks": ""
           },
           "bgcolor": "#E5ECF6",
           "caxis": {
            "gridcolor": "white",
            "linecolor": "white",
            "ticks": ""
           }
          },
          "title": {
           "x": 0.05
          },
          "xaxis": {
           "automargin": true,
           "gridcolor": "white",
           "linecolor": "white",
           "ticks": "",
           "title": {
            "standoff": 15
           },
           "zerolinecolor": "white",
           "zerolinewidth": 2
          },
          "yaxis": {
           "automargin": true,
           "gridcolor": "white",
           "linecolor": "white",
           "ticks": "",
           "title": {
            "standoff": 15
           },
           "zerolinecolor": "white",
           "zerolinewidth": 2
          }
         }
        },
        "title": {
         "text": "HR x Train size"
        },
        "xaxis": {
         "anchor": "y",
         "domain": [
          0,
          1
         ],
         "title": {
          "text": "train_size"
         }
        },
        "yaxis": {
         "anchor": "x",
         "domain": [
          0,
          1
         ],
         "title": {
          "text": "hr"
         }
        }
       }
      }
     },
     "metadata": {},
     "output_type": "display_data"
    }
   ],
   "source": [
    "fig = px.line(df_results, x=\"train_size\", y=\"hr\", color='algorithm', title='HR x Train size')\n",
    "fig.show()\n",
    "fig.write_html('results-v8/hr_x_train_size.html')"
   ]
  },
  {
   "cell_type": "code",
   "execution_count": 23,
   "metadata": {},
   "outputs": [],
   "source": [
    "df_train = pd.read_csv(train_data)\n",
    "df_test = pd.read_csv(test_data)\n",
    "\n",
    "df_full = pd.concat([df_train, df_test])\n",
    "\n",
    "df_full['user_id'] = LabelEncoder().fit_transform(df_full['user_id'])\n",
    "df_full['item_id'] = LabelEncoder().fit_transform(df_full['item_id'])\n",
    "\n",
    "num_users = df_full['user_id'].nunique()\n",
    "num_items = df_full['item_id'].nunique()\n",
    "\n",
    "split_index = int(len(df_full) * (1 - 0.1))\n",
    "df_train_full = df_full[:split_index]\n",
    "df_test = df_full[split_index:]\n",
    "\n",
    "initial_df_train = df_train_full[:int(len(df_train_full) * 0.5)]\n",
    "extra_df_train = df_train_full[int(len(df_train_full) * 0.5):]\n",
    "extra_df_train = extra_df_train[(extra_df_train['user_id'].isin(initial_df_train['user_id'])) & (extra_df_train['item_id'].isin(initial_df_train['item_id']))]\n",
    "extra_df_train = extra_df_train.reset_index(drop=True)\n",
    "\n",
    "df_test = df_test[(df_test['user_id'].isin(initial_df_train['user_id'])) & (df_test['item_id'].isin(initial_df_train['item_id']))]\n",
    "df_test = df_test.reset_index(drop=True)\n",
    "df_test_for_evaluation = df_test[df_test['response'] == 1]\n",
    "df_test_for_evaluation = df_test_for_evaluation.reset_index(drop=True)"
   ]
  },
  {
   "cell_type": "code",
   "execution_count": 24,
   "metadata": {},
   "outputs": [],
   "source": [
    "def train_embeddings_model_2(Model, df, num_users, num_items, generate_embeddings=False):\n",
    "    sparse_matrix = csr_matrix((df['response'], (df['user_id'], df['item_id'])), shape=(num_users, num_items))\n",
    "\n",
    "    model = Model(factors=FACTORS, random_state=1, num_threads=1)\n",
    "    model.fit(sparse_matrix)\n",
    "\n",
    "    if not generate_embeddings:\n",
    "        return model, sparse_matrix\n",
    "    \n",
    "    user_features_list = []\n",
    "\n",
    "    for user_id in df['user_id'].unique():\n",
    "        user_factors = model.user_factors[user_id][:FACTORS]  # O BPR coloca 1 no final dos vetores latentes ?\n",
    "        user_features_list.append([user_id] + list(user_factors))\n",
    "\n",
    "    df_user_features = pd.DataFrame(user_features_list, columns=['user_id'] + [f'u{i}' for i in range(FACTORS)])\n",
    "\n",
    "    return model, sparse_matrix, df_user_features"
   ]
  },
  {
   "cell_type": "code",
   "execution_count": 25,
   "metadata": {},
   "outputs": [
    {
     "data": {
      "application/vnd.jupyter.widget-view+json": {
       "model_id": "ba16d6fa4a194bfeb91531e38aa9e6f2",
       "version_major": 2,
       "version_minor": 0
      },
      "text/plain": [
       "  0%|          | 0/100 [00:00<?, ?it/s]"
      ]
     },
     "metadata": {},
     "output_type": "display_data"
    }
   ],
   "source": [
    "\n",
    "BPR_model_2, _, BPR_user_embeddings_2 = train_embeddings_model_2(implicit.bpr.BayesianPersonalizedRanking, initial_df_train, num_users, num_items, generate_embeddings=True)"
   ]
  },
  {
   "cell_type": "code",
   "execution_count": 26,
   "metadata": {},
   "outputs": [
    {
     "data": {
      "application/vnd.jupyter.widget-view+json": {
       "model_id": "e34b705ed4ba421b90225bbda6cc4106",
       "version_major": 2,
       "version_minor": 0
      },
      "text/plain": [
       "  0%|          | 0/100 [00:00<?, ?it/s]"
      ]
     },
     "metadata": {},
     "output_type": "display_data"
    }
   ],
   "source": [
    "BPR_model_1, _, BPR_user_embeddings_1 = train_embeddings_model(implicit.bpr.BayesianPersonalizedRanking, initial_df_train, num_users, num_items, generate_embeddings=True)"
   ]
  },
  {
   "cell_type": "code",
   "execution_count": 27,
   "metadata": {},
   "outputs": [
    {
     "name": "stdout",
     "output_type": "stream",
     "text": [
      "     user_id        u0        u1        u2        u3        u4        u5  \\\n",
      "0        842 -0.536855  0.481539 -0.160632 -0.491842  0.103912 -0.698853   \n",
      "1        143  0.924427 -0.817791  0.529629 -0.099200  0.961876  0.031626   \n",
      "2        600 -0.133694  0.055763 -0.445509 -0.671046  0.047867 -0.383721   \n",
      "3        750  0.540528  0.274020 -0.151650 -0.954779  0.299716 -0.138047   \n",
      "4        200  0.300035 -0.325023 -0.109484  0.090175  0.270867 -0.383262   \n",
      "..       ...       ...       ...       ...       ...       ...       ...   \n",
      "886      844 -0.085878  0.066151  0.046355  0.021990  0.118320  0.040757   \n",
      "887      318 -0.067304  0.020279  0.043138  0.026810  0.127318  0.067234   \n",
      "888      201 -0.306380 -0.172767 -0.150878 -0.275612  0.153251  0.234951   \n",
      "889      244  0.235490 -0.060085 -0.167495  0.067258  0.136094 -0.070922   \n",
      "890       33  0.081267  0.038718  0.064978  0.046665 -0.088733 -0.189391   \n",
      "\n",
      "           u6        u7        u8        u9  \n",
      "0   -0.700794 -0.894281  0.494751 -0.081034  \n",
      "1   -0.011938 -0.065336  0.237476 -0.073117  \n",
      "2    0.523811 -0.422157 -0.283484 -0.340286  \n",
      "3    0.225964 -0.208484 -0.079159  0.227114  \n",
      "4   -0.732010 -0.382828  0.676535  0.194925  \n",
      "..        ...       ...       ...       ...  \n",
      "886 -0.008230  0.293546  0.252613 -0.072523  \n",
      "887  0.022858  0.329984  0.306899 -0.061046  \n",
      "888 -0.007669 -0.660895 -0.332941 -0.040259  \n",
      "889  0.117722 -0.072911  0.086328 -0.022871  \n",
      "890 -0.012040  0.404147  0.372099 -0.090835  \n",
      "\n",
      "[891 rows x 11 columns]\n"
     ]
    }
   ],
   "source": [
    "print(BPR_user_embeddings_2)"
   ]
  },
  {
   "cell_type": "code",
   "execution_count": 28,
   "metadata": {},
   "outputs": [
    {
     "name": "stdout",
     "output_type": "stream",
     "text": [
      "[[ 0.30444112  0.0427892  -0.08306112 ... -0.3396445  -0.1433266\n",
      "   1.        ]\n",
      " [ 0.01803787 -0.17496848  0.05106271 ...  0.5784036   0.2413053\n",
      "   1.        ]\n",
      " [-0.14094338  0.21060374  0.2189908  ...  0.5008001  -0.30252734\n",
      "   1.        ]\n",
      " ...\n",
      " [ 0.          0.          0.         ...  0.          0.\n",
      "   1.        ]\n",
      " [ 0.11114974 -0.3199083  -0.10890112 ... -0.06483436  0.01914932\n",
      "   1.        ]\n",
      " [-0.1033766  -0.13300698 -0.42545766 ... -0.8582284  -0.35504812\n",
      "   1.        ]]\n"
     ]
    }
   ],
   "source": [
    "print(BPR_user_embeddings_1)"
   ]
  },
  {
   "cell_type": "code",
   "execution_count": 29,
   "metadata": {},
   "outputs": [
    {
     "name": "stdout",
     "output_type": "stream",
     "text": [
      "(943, 11)\n"
     ]
    }
   ],
   "source": [
    "print(BPR_user_embeddings_1.shape)"
   ]
  }
 ],
 "metadata": {
  "kernelspec": {
   "display_name": "RLRS-rllib",
   "language": "python",
   "name": "python3"
  },
  "language_info": {
   "codemirror_mode": {
    "name": "ipython",
    "version": 3
   },
   "file_extension": ".py",
   "mimetype": "text/x-python",
   "name": "python",
   "nbconvert_exporter": "python",
   "pygments_lexer": "ipython3",
   "version": "3.8.16"
  }
 },
 "nbformat": 4,
 "nbformat_minor": 2
}
