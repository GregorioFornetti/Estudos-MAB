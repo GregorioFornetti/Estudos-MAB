{
 "cells": [
  {
   "cell_type": "code",
   "execution_count": 24,
   "metadata": {},
   "outputs": [],
   "source": [
    "import pandas as pd\n",
    "import numpy as np\n",
    "FACTORS = 5"
   ]
  },
  {
   "cell_type": "code",
   "execution_count": 25,
   "metadata": {},
   "outputs": [
    {
     "data": {
      "text/html": [
       "<div>\n",
       "<style scoped>\n",
       "    .dataframe tbody tr th:only-of-type {\n",
       "        vertical-align: middle;\n",
       "    }\n",
       "\n",
       "    .dataframe tbody tr th {\n",
       "        vertical-align: top;\n",
       "    }\n",
       "\n",
       "    .dataframe thead th {\n",
       "        text-align: right;\n",
       "    }\n",
       "</style>\n",
       "<table border=\"1\" class=\"dataframe\">\n",
       "  <thead>\n",
       "    <tr style=\"text-align: right;\">\n",
       "      <th></th>\n",
       "      <th>user_id</th>\n",
       "      <th>item_id</th>\n",
       "    </tr>\n",
       "  </thead>\n",
       "  <tbody>\n",
       "    <tr>\n",
       "      <th>0</th>\n",
       "      <td>1</td>\n",
       "      <td>0</td>\n",
       "    </tr>\n",
       "    <tr>\n",
       "      <th>1</th>\n",
       "      <td>2</td>\n",
       "      <td>0</td>\n",
       "    </tr>\n",
       "    <tr>\n",
       "      <th>2</th>\n",
       "      <td>1</td>\n",
       "      <td>4</td>\n",
       "    </tr>\n",
       "    <tr>\n",
       "      <th>3</th>\n",
       "      <td>1</td>\n",
       "      <td>1</td>\n",
       "    </tr>\n",
       "    <tr>\n",
       "      <th>4</th>\n",
       "      <td>3</td>\n",
       "      <td>4</td>\n",
       "    </tr>\n",
       "    <tr>\n",
       "      <th>5</th>\n",
       "      <td>2</td>\n",
       "      <td>1</td>\n",
       "    </tr>\n",
       "    <tr>\n",
       "      <th>6</th>\n",
       "      <td>4</td>\n",
       "      <td>0</td>\n",
       "    </tr>\n",
       "    <tr>\n",
       "      <th>7</th>\n",
       "      <td>5</td>\n",
       "      <td>4</td>\n",
       "    </tr>\n",
       "    <tr>\n",
       "      <th>8</th>\n",
       "      <td>2</td>\n",
       "      <td>4</td>\n",
       "    </tr>\n",
       "    <tr>\n",
       "      <th>9</th>\n",
       "      <td>4</td>\n",
       "      <td>4</td>\n",
       "    </tr>\n",
       "    <tr>\n",
       "      <th>10</th>\n",
       "      <td>4</td>\n",
       "      <td>2</td>\n",
       "    </tr>\n",
       "  </tbody>\n",
       "</table>\n",
       "</div>"
      ],
      "text/plain": [
       "    user_id  item_id\n",
       "0         1        0\n",
       "1         2        0\n",
       "2         1        4\n",
       "3         1        1\n",
       "4         3        4\n",
       "5         2        1\n",
       "6         4        0\n",
       "7         5        4\n",
       "8         2        4\n",
       "9         4        4\n",
       "10        4        2"
      ]
     },
     "execution_count": 25,
     "metadata": {},
     "output_type": "execute_result"
    }
   ],
   "source": [
    "interactions_example = pd.DataFrame([\n",
    "    {\n",
    "        \"user_id\": 1,\n",
    "        \"item_id\": 0\n",
    "    },\n",
    "    {\n",
    "        \"user_id\": 2,\n",
    "        \"item_id\": 0\n",
    "    },\n",
    "    {\n",
    "        \"user_id\": 1,\n",
    "        \"item_id\": 4\n",
    "    },\n",
    "    {\n",
    "        \"user_id\": 1,\n",
    "        \"item_id\": 1\n",
    "    },\n",
    "    {\n",
    "        \"user_id\": 3,\n",
    "        \"item_id\": 4\n",
    "    },\n",
    "    {\n",
    "        \"user_id\": 2,\n",
    "        \"item_id\": 1\n",
    "    },\n",
    "    {\n",
    "        \"user_id\": 4,\n",
    "        \"item_id\": 0\n",
    "    },\n",
    "    {\n",
    "        \"user_id\": 5,\n",
    "        \"item_id\": 4\n",
    "    },\n",
    "    {\n",
    "        \"user_id\": 2,\n",
    "        \"item_id\": 4\n",
    "    },\n",
    "    {\n",
    "        \"user_id\": 4,\n",
    "        \"item_id\": 4\n",
    "    },\n",
    "    {\n",
    "        \"user_id\": 4,\n",
    "        \"item_id\": 2\n",
    "    }\n",
    "])\n",
    "interactions_example"
   ]
  },
  {
   "cell_type": "code",
   "execution_count": 26,
   "metadata": {},
   "outputs": [
    {
     "data": {
      "text/plain": [
       "[[1, 1, 1, 1, 1],\n",
       " [2, 2, 2, 2, 2],\n",
       " [3, 3, 3, 3, 3],\n",
       " [4, 4, 4, 4, 4],\n",
       " [5, 5, 5, 5, 5]]"
      ]
     },
     "execution_count": 26,
     "metadata": {},
     "output_type": "execute_result"
    }
   ],
   "source": [
    "items_embeddings = [\n",
    "    [1, 1, 1, 1, 1],\n",
    "    [2, 2, 2, 2, 2],\n",
    "    [3, 3, 3, 3, 3],\n",
    "    [4, 4, 4, 4, 4],\n",
    "    [5, 5, 5, 5, 5]\n",
    "]\n",
    "items_embeddings"
   ]
  },
  {
   "cell_type": "code",
   "execution_count": 27,
   "metadata": {},
   "outputs": [],
   "source": [
    "items_embeddings = np.array(items_embeddings)"
   ]
  },
  {
   "cell_type": "code",
   "execution_count": 28,
   "metadata": {},
   "outputs": [],
   "source": [
    "users_embeddings = [\n",
    "    [0, 0, 0, 0, 0],\n",
    "    [1, 1, 1, 1, 1],\n",
    "    [2, 2, 2, 2, 2],\n",
    "    [3, 3, 3, 3, 3],\n",
    "    [4, 4, 4, 4, 4],\n",
    "    [5, 5, 5, 5, 5]\n",
    "]"
   ]
  },
  {
   "cell_type": "code",
   "execution_count": 29,
   "metadata": {},
   "outputs": [],
   "source": [
    "users_embeddings = np.array(users_embeddings)"
   ]
  },
  {
   "cell_type": "code",
   "execution_count": 30,
   "metadata": {},
   "outputs": [],
   "source": [
    "def create_contexts_list_items_mean(interactions_df, items_embeddings):\n",
    "    users_current_info = {}\n",
    "    contexts = []\n",
    "\n",
    "    for _, row in interactions_df.iterrows():\n",
    "        user_id = row[\"user_id\"]\n",
    "        item_id = row[\"item_id\"]\n",
    "\n",
    "        if user_id not in users_current_info:\n",
    "            users_current_info[user_id] = {\n",
    "                'acum_emb': np.zeros((FACTORS, )),\n",
    "                'count': 0\n",
    "            }\n",
    "        \n",
    "        contexts.append(users_current_info[user_id]['acum_emb'] / max(1, users_current_info[user_id]['count']))\n",
    "\n",
    "        users_current_info[user_id]['acum_emb'] += items_embeddings[item_id][:FACTORS]\n",
    "        users_current_info[user_id]['count'] += 1\n",
    "\n",
    "    return contexts"
   ]
  },
  {
   "cell_type": "code",
   "execution_count": 31,
   "metadata": {},
   "outputs": [],
   "source": [
    "def create_contexts_list_items_concat(interactions_df, items_embeddings, window_size):\n",
    "    users_current_info = {}\n",
    "    contexts = []\n",
    "\n",
    "    for _, row in interactions_df.iterrows():\n",
    "        user_id = row[\"user_id\"]\n",
    "        item_id = row[\"item_id\"]\n",
    "\n",
    "        if user_id not in users_current_info:\n",
    "            users_current_info[user_id] = np.zeros((window_size, FACTORS))\n",
    "        \n",
    "        contexts.append(users_current_info[user_id].flatten())\n",
    "\n",
    "        users_current_info[user_id][1:] = users_current_info[user_id][:-1]\n",
    "        users_current_info[user_id][0] = items_embeddings[item_id][:FACTORS]\n",
    "\n",
    "    return contexts"
   ]
  },
  {
   "cell_type": "code",
   "execution_count": 32,
   "metadata": {},
   "outputs": [],
   "source": [
    "def create_contexts_list_user(interactions_df, users_embeddings):\n",
    "    contexts = []\n",
    "\n",
    "    for _, row in interactions_df.iterrows():\n",
    "        user_id = row[\"user_id\"]\n",
    "        contexts.append(users_embeddings[user_id][:FACTORS])\n",
    "\n",
    "    return contexts"
   ]
  },
  {
   "cell_type": "code",
   "execution_count": 33,
   "metadata": {},
   "outputs": [
    {
     "data": {
      "text/plain": [
       "0     [1, 1, 1, 1, 1]\n",
       "1     [2, 2, 2, 2, 2]\n",
       "2     [1, 1, 1, 1, 1]\n",
       "3     [1, 1, 1, 1, 1]\n",
       "4     [3, 3, 3, 3, 3]\n",
       "5     [2, 2, 2, 2, 2]\n",
       "6     [4, 4, 4, 4, 4]\n",
       "7     [5, 5, 5, 5, 5]\n",
       "8     [2, 2, 2, 2, 2]\n",
       "9     [4, 4, 4, 4, 4]\n",
       "10    [4, 4, 4, 4, 4]\n",
       "Name: user_emb, dtype: object"
      ]
     },
     "execution_count": 33,
     "metadata": {},
     "output_type": "execute_result"
    }
   ],
   "source": [
    "interactions_example['user_emb'] = create_contexts_list_user(interactions_example, users_embeddings)\n",
    "interactions_example['user_emb']"
   ]
  },
  {
   "cell_type": "code",
   "execution_count": 34,
   "metadata": {},
   "outputs": [
    {
     "data": {
      "text/plain": [
       "0     [0.0, 0.0, 0.0, 0.0, 0.0]\n",
       "1     [0.0, 0.0, 0.0, 0.0, 0.0]\n",
       "2     [1.0, 1.0, 1.0, 1.0, 1.0]\n",
       "3     [3.0, 3.0, 3.0, 3.0, 3.0]\n",
       "4     [0.0, 0.0, 0.0, 0.0, 0.0]\n",
       "5     [1.0, 1.0, 1.0, 1.0, 1.0]\n",
       "6     [0.0, 0.0, 0.0, 0.0, 0.0]\n",
       "7     [0.0, 0.0, 0.0, 0.0, 0.0]\n",
       "8     [1.5, 1.5, 1.5, 1.5, 1.5]\n",
       "9     [1.0, 1.0, 1.0, 1.0, 1.0]\n",
       "10    [3.0, 3.0, 3.0, 3.0, 3.0]\n",
       "Name: item_emb_mean, dtype: object"
      ]
     },
     "execution_count": 34,
     "metadata": {},
     "output_type": "execute_result"
    }
   ],
   "source": [
    "interactions_example['item_emb_mean'] = create_contexts_list_items_mean(interactions_example, items_embeddings)\n",
    "interactions_example['item_emb_mean']"
   ]
  },
  {
   "cell_type": "code",
   "execution_count": 35,
   "metadata": {},
   "outputs": [
    {
     "data": {
      "text/plain": [
       "0     [0.0, 0.0, 0.0, 0.0, 0.0, 0.0, 0.0, 0.0, 0.0, ...\n",
       "1     [0.0, 0.0, 0.0, 0.0, 0.0, 0.0, 0.0, 0.0, 0.0, ...\n",
       "2     [1.0, 1.0, 1.0, 1.0, 1.0, 0.0, 0.0, 0.0, 0.0, ...\n",
       "3     [5.0, 5.0, 5.0, 5.0, 5.0, 1.0, 1.0, 1.0, 1.0, ...\n",
       "4     [0.0, 0.0, 0.0, 0.0, 0.0, 0.0, 0.0, 0.0, 0.0, ...\n",
       "5     [1.0, 1.0, 1.0, 1.0, 1.0, 0.0, 0.0, 0.0, 0.0, ...\n",
       "6     [0.0, 0.0, 0.0, 0.0, 0.0, 0.0, 0.0, 0.0, 0.0, ...\n",
       "7     [0.0, 0.0, 0.0, 0.0, 0.0, 0.0, 0.0, 0.0, 0.0, ...\n",
       "8     [2.0, 2.0, 2.0, 2.0, 2.0, 1.0, 1.0, 1.0, 1.0, ...\n",
       "9     [1.0, 1.0, 1.0, 1.0, 1.0, 0.0, 0.0, 0.0, 0.0, ...\n",
       "10    [5.0, 5.0, 5.0, 5.0, 5.0, 1.0, 1.0, 1.0, 1.0, ...\n",
       "Name: item_emb_concat, dtype: object"
      ]
     },
     "execution_count": 35,
     "metadata": {},
     "output_type": "execute_result"
    }
   ],
   "source": [
    "interactions_example['item_emb_concat'] = create_contexts_list_items_concat(interactions_example, items_embeddings, 3)\n",
    "interactions_example['item_emb_concat']"
   ]
  },
  {
   "cell_type": "code",
   "execution_count": 36,
   "metadata": {},
   "outputs": [],
   "source": [
    "def get_concat_context(interactions, context_cols):\n",
    "    # Concat multiple array columns into a single array column\n",
    "    return np.array(interactions[context_cols].apply(lambda x: np.concatenate(x), axis=1).tolist())"
   ]
  },
  {
   "cell_type": "code",
   "execution_count": 37,
   "metadata": {},
   "outputs": [
    {
     "data": {
      "text/plain": [
       "array([[0. , 0. , 0. , 0. , 0. , 1. , 1. , 1. , 1. , 1. ],\n",
       "       [0. , 0. , 0. , 0. , 0. , 2. , 2. , 2. , 2. , 2. ],\n",
       "       [1. , 1. , 1. , 1. , 1. , 1. , 1. , 1. , 1. , 1. ],\n",
       "       [3. , 3. , 3. , 3. , 3. , 1. , 1. , 1. , 1. , 1. ],\n",
       "       [0. , 0. , 0. , 0. , 0. , 3. , 3. , 3. , 3. , 3. ],\n",
       "       [1. , 1. , 1. , 1. , 1. , 2. , 2. , 2. , 2. , 2. ],\n",
       "       [0. , 0. , 0. , 0. , 0. , 4. , 4. , 4. , 4. , 4. ],\n",
       "       [0. , 0. , 0. , 0. , 0. , 5. , 5. , 5. , 5. , 5. ],\n",
       "       [1.5, 1.5, 1.5, 1.5, 1.5, 2. , 2. , 2. , 2. , 2. ],\n",
       "       [1. , 1. , 1. , 1. , 1. , 4. , 4. , 4. , 4. , 4. ],\n",
       "       [3. , 3. , 3. , 3. , 3. , 4. , 4. , 4. , 4. , 4. ]])"
      ]
     },
     "execution_count": 37,
     "metadata": {},
     "output_type": "execute_result"
    }
   ],
   "source": [
    "get_concat_context(interactions_example, ['item_emb_mean', 'user_emb'])"
   ]
  },
  {
   "cell_type": "markdown",
   "metadata": {},
   "source": [
    "## Testando os modelos MAB usando concatenações de diferentes formas de fazer o contexto"
   ]
  },
  {
   "cell_type": "code",
   "execution_count": 38,
   "metadata": {},
   "outputs": [],
   "source": [
    "from sklearn.preprocessing import LabelEncoder\n",
    "from scipy.sparse import csr_matrix\n",
    "import plotly.express as px\n",
    "import time\n",
    "import os\n",
    "import implicit\n",
    "from mab2rec import BanditRecommender, LearningPolicy\n",
    "\n",
    "train_data = \"../data/ml100k/data_train.csv\"\n",
    "test_data = \"../data/ml100k/data_test.csv\""
   ]
  },
  {
   "cell_type": "code",
   "execution_count": 39,
   "metadata": {},
   "outputs": [],
   "source": [
    "FACTORS = 10"
   ]
  },
  {
   "cell_type": "code",
   "execution_count": 40,
   "metadata": {},
   "outputs": [],
   "source": [
    "\n",
    "def train_embeddings_model(Model, df, num_users, num_items, generate_embeddings=False):\n",
    "    sparse_matrix = csr_matrix((df['response'], (df['user_id'], df['item_id'])), shape=(num_users, num_items))\n",
    "\n",
    "    model = Model(factors=FACTORS, random_state=1, num_threads=1)\n",
    "    model.fit(sparse_matrix)\n",
    "\n",
    "    if not generate_embeddings:\n",
    "        return model, sparse_matrix\n",
    "    \n",
    "    # # Não precisamos mais do código abaixo, ele funcina para embeddings de usuário, não de itens\n",
    "    # user_features_list = []\n",
    "\n",
    "    # for user_id in df['user_id'].unique():\n",
    "    #    user_factors = model.user_factors[user_id][:FACTORS]  # O BPR coloca 1 no final dos vetores latentes ?\n",
    "    #    user_features_list.append([user_id] + list(user_factors))\n",
    "\n",
    "    # df_user_features = pd.DataFrame(user_features_list, columns=['user_id'] + [f'u{i}' for i in range(FACTORS)])\n",
    "\n",
    "    return model, sparse_matrix, model.item_factors, model.user_factors"
   ]
  },
  {
   "cell_type": "code",
   "execution_count": 41,
   "metadata": {},
   "outputs": [],
   "source": [
    "\n",
    "def test_embeddings_model(model, sparse_matrix, df_test):\n",
    "    all_recs = []\n",
    "\n",
    "    start_time = time.time()\n",
    "    hits = 0\n",
    "    for _, interaction in df_test.iterrows():\n",
    "        ids_recs, _ = model.recommend(userid=interaction['user_id'], user_items=sparse_matrix[interaction['user_id']], N=10)\n",
    "        if interaction['item_id'] in ids_recs:\n",
    "            hits += 1\n",
    "        all_recs.append(ids_recs.tolist())\n",
    "    \n",
    "    recs_df = pd.DataFrame({\n",
    "        'interaction_number': [i for i in range(len(df_test))],\n",
    "        'user_id': df_test['user_id'],\n",
    "        'item_id': df_test['item_id'],\n",
    "        'recommendations': all_recs\n",
    "    })\n",
    "    \n",
    "    return hits, hits/len(df_test), time.time() - start_time, recs_df"
   ]
  },
  {
   "cell_type": "code",
   "execution_count": 42,
   "metadata": {},
   "outputs": [],
   "source": [
    "\n",
    "def train_mab(mab_algo, df_train_with_contexts, contexts_col):\n",
    "    contexts = get_concat_context(df_train_with_contexts, contexts_col)\n",
    "    mab_algo.fit(\n",
    "        decisions=df_train_with_contexts['item_id'],\n",
    "        rewards=df_train_with_contexts['response'],\n",
    "        contexts=contexts\n",
    "    )"
   ]
  },
  {
   "cell_type": "code",
   "execution_count": 43,
   "metadata": {},
   "outputs": [],
   "source": [
    "\n",
    "def test_non_incremental(mab_algo, contexts_col, df_test, interactions_by_user):\n",
    "    start_time = time.time()\n",
    "    hits = 0\n",
    "\n",
    "    # contexts = df_test.merge(user_features, how='left', on='user_id').drop(columns=['user_id', 'item_id', 'response']).values\n",
    "    # contexts = np.array(df_test[contexts_col].tolist())\n",
    "    contexts = get_concat_context(df_test, contexts_col)\n",
    "    filters = df_test.merge(interactions_by_user, how='left', on='user_id')[['interactions']].values.squeeze(axis=1) \n",
    "\n",
    "    recomendations = mab_algo.recommend(contexts, filters)\n",
    "\n",
    "    df_test = df_test.reset_index(drop=True)\n",
    "\n",
    "    hits = 0\n",
    "    for i, interaction in df_test.iterrows():\n",
    "        if interaction['item_id'] in recomendations[i]:\n",
    "            hits += 1\n",
    "    \n",
    "    recs_df = pd.DataFrame({\n",
    "        'interaction_number': [i for i in range(len(df_test))],\n",
    "        'user_id': df_test['user_id'],\n",
    "        'item_id': df_test['item_id'],\n",
    "        'recommendations': recomendations\n",
    "    })\n",
    "\n",
    "    return hits, hits/len(df_test), time.time() - start_time, recs_df"
   ]
  },
  {
   "cell_type": "code",
   "execution_count": 44,
   "metadata": {},
   "outputs": [],
   "source": [
    "def group_interactions_by_user(interactions_df):\n",
    "    interactions_by_user = interactions_df\\\n",
    "                        .groupby('user_id')[['item_id']]\\\n",
    "                        .apply(lambda df_user: df_user['item_id'].tolist())\\\n",
    "                        .reset_index(name='interactions')\n",
    "    interactions_by_user = interactions_by_user.reset_index(drop=True)\n",
    "    return interactions_by_user"
   ]
  },
  {
   "cell_type": "code",
   "execution_count": 55,
   "metadata": {},
   "outputs": [],
   "source": [
    "\n",
    "def test(test_size, train_initial_size, train_extra_increment_step_size, windows_sizes):\n",
    "    '''\n",
    "    - `test_size`: define o tamanho da partição de teste no train/test split inicial. Por exemplo, se for escolhido 0.1 (10%), a partição de teste terá 10% das interações e a partição de treino terá 90% das interações. O tamanho da partição de teste passará ainda por um filtro com o tamanho do treino inicial, definido no próximo parâmetro.\n",
    "    - `train_initial_size`: define o tamanho inicial que será usado para treino dos modelos. Esse tamanho é uma porcentagem da partição de treino, por exemplo, 0.5 (50%) quer dizer que o treino será feito inicialmente com 50% das interações separadas para treino. Vale ressaltar que essa porcentagem é relacionada apenas à partição de treino, então, se temos uma partição de treino de 0.9 (90%) e o “train_initial_size” é definido como 0.5 (50%), então, teremos 45% (0.9 * 0.5) das interações todas para o treino inicial. Com a base de treino separada com essa porcentagem inicial, a base de teste passara por um filtro, removendo todas as interações com itens ou usuários que nunca foram vistos nesse treino inicial.\n",
    "    - `train_extra_increment_step_size`: define a porcentagem do \"treinamento extra\" que será usado. No início a base de dados é separada em treino inicial (train_initial_size), \"treinamento extra\" e teste. O \"treinamento extra\", assim como o teste, passa por um filtro para remover interações com itens ou usuários que nunca foram vistos no treino inicial. Após o treino inicial, o \"treinamento extra\" é usado para treinar os modelos de embeddings e os modelos de bandit. O \"treinamento extra\" é incrementado a cada iteração, de acordo com o valor desse parâmetro. Por exemplo, se o `train_extra_increment_step_size` é 0.1 (10%), então, a cada iteração, 10% das interações são adicionadas ao treino, até que todo o \"treinamento extra\" seja usado.\n",
    "    - `windows_sizes`: tamanho das janelas de contextos que serão usadas para teste. Por exemplo, se for passado [3, 5, 7], as janelas de tamanho de 3, 5 e 7 serão usadas como contexto para treinar os modelos de MAB (gerando resultados diferentes para cada tamanho de janela).\n",
    "    '''\n",
    "    results = []\n",
    "    df_recs = pd.DataFrame(columns=['algorithm', 'interaction_number', 'user_id', 'item_id', 'recommendations'])\n",
    "    df_train = pd.read_csv(train_data)\n",
    "    df_test = pd.read_csv(test_data)\n",
    "\n",
    "    df_full = pd.concat([df_train, df_test])\n",
    "\n",
    "    df_full['user_id'] = LabelEncoder().fit_transform(df_full['user_id'])\n",
    "    df_full['item_id'] = LabelEncoder().fit_transform(df_full['item_id'])\n",
    "\n",
    "    num_users = df_full['user_id'].nunique()\n",
    "    num_items = df_full['item_id'].nunique()\n",
    "\n",
    "    split_index = int(len(df_full) * (1 - test_size))\n",
    "    df_train_full = df_full[:split_index]\n",
    "    df_test = df_full[split_index:]\n",
    "\n",
    "    initial_df_train = df_train_full[:int(len(df_train_full) * train_initial_size)]\n",
    "    extra_df_train = df_train_full[int(len(df_train_full) * train_initial_size):]\n",
    "    extra_df_train = extra_df_train[(extra_df_train['user_id'].isin(initial_df_train['user_id'])) & (extra_df_train['item_id'].isin(initial_df_train['item_id']))]\n",
    "    extra_df_train = extra_df_train.reset_index(drop=True)\n",
    "\n",
    "    df_test = df_test[(df_test['user_id'].isin(initial_df_train['user_id'])) & (df_test['item_id'].isin(initial_df_train['item_id']))]\n",
    "    df_test = df_test.reset_index(drop=True)\n",
    "    df_test_for_evaluation = df_test[df_test['response'] == 1]\n",
    "    df_test_for_evaluation = df_test_for_evaluation.reset_index(drop=True)\n",
    "\n",
    "    print('Generating ALS embeddings')\n",
    "    ALS_model, _, ALS_item_embeddings, ALS_user_embeddings = train_embeddings_model(implicit.als.AlternatingLeastSquares, initial_df_train, num_users, num_items, generate_embeddings=True)\n",
    "\n",
    "    print('Generating BPR embeddings')\n",
    "    BPR_model, _, BPR_item_embeddings, BPR_user_embeddings = train_embeddings_model(implicit.bpr.BayesianPersonalizedRanking, initial_df_train, num_users, num_items, generate_embeddings=True)\n",
    "\n",
    "    for window_size in windows_sizes:\n",
    "        print(f'Generating contexts for window size of {window_size} (contat items emb)')\n",
    "        df_full_new = pd.concat([initial_df_train, extra_df_train, df_test_for_evaluation])\n",
    "        als_contexts = create_contexts_list_items_concat(df_full_new, ALS_item_embeddings, window_size)\n",
    "        bpr_contexts = create_contexts_list_items_concat(df_full_new, BPR_item_embeddings, window_size)\n",
    "\n",
    "        initial_df_train[f'als_context_item_concat_{window_size}'] = als_contexts[:len(initial_df_train)]\n",
    "        initial_df_train[f'bpr_context_item_concat_{window_size}'] = bpr_contexts[:len(initial_df_train)]\n",
    "\n",
    "        extra_df_train[f'als_context_item_concat_{window_size}'] = als_contexts[len(initial_df_train):len(initial_df_train) + len(extra_df_train)]\n",
    "        extra_df_train[f'bpr_context_item_concat_{window_size}'] = bpr_contexts[len(initial_df_train):len(initial_df_train) + len(extra_df_train)]\n",
    "\n",
    "        df_test_for_evaluation[f'als_context_item_concat_{window_size}'] = als_contexts[len(initial_df_train) + len(extra_df_train):]\n",
    "        df_test_for_evaluation[f'bpr_context_item_concat_{window_size}'] = bpr_contexts[len(initial_df_train) + len(extra_df_train):]\n",
    "\n",
    "    print('Generating contexts for user embeddings')\n",
    "    df_full_new = pd.concat([initial_df_train, extra_df_train, df_test_for_evaluation])\n",
    "    als_contexts = create_contexts_list_user(df_full_new, ALS_user_embeddings)\n",
    "    bpr_contexts = create_contexts_list_user(df_full_new, BPR_user_embeddings)\n",
    "\n",
    "    initial_df_train['als_context_user'] = als_contexts[:len(initial_df_train)]\n",
    "    initial_df_train['bpr_context_user'] = bpr_contexts[:len(initial_df_train)]\n",
    "\n",
    "    extra_df_train['als_context_user'] = als_contexts[len(initial_df_train):len(initial_df_train) + len(extra_df_train)]\n",
    "    extra_df_train['bpr_context_user'] = bpr_contexts[len(initial_df_train):len(initial_df_train) + len(extra_df_train)]\n",
    "\n",
    "    df_test_for_evaluation['als_context_user'] = als_contexts[len(initial_df_train) + len(extra_df_train):]\n",
    "    df_test_for_evaluation['bpr_context_user'] = bpr_contexts[len(initial_df_train) + len(extra_df_train):]\n",
    "\n",
    "    print('Generating contexts for item mean embeddings')\n",
    "    df_full_new = pd.concat([initial_df_train, extra_df_train, df_test_for_evaluation])\n",
    "    als_contexts = create_contexts_list_items_mean(df_full_new, ALS_item_embeddings)\n",
    "    bpr_contexts = create_contexts_list_items_mean(df_full_new, BPR_item_embeddings)\n",
    "\n",
    "    initial_df_train['als_context_items_mean'] = als_contexts[:len(initial_df_train)]\n",
    "    initial_df_train['bpr_context_items_mean'] = bpr_contexts[:len(initial_df_train)]\n",
    "\n",
    "    extra_df_train['als_context_items_mean'] = als_contexts[len(initial_df_train):len(initial_df_train) + len(extra_df_train)]\n",
    "    extra_df_train['bpr_context_items_mean'] = bpr_contexts[len(initial_df_train):len(initial_df_train) + len(extra_df_train)]\n",
    "\n",
    "    df_test_for_evaluation['als_context_items_mean'] = als_contexts[len(initial_df_train) + len(extra_df_train):]\n",
    "    df_test_for_evaluation['bpr_context_items_mean'] = bpr_contexts[len(initial_df_train) + len(extra_df_train):]\n",
    "\n",
    "    algos_dict = {\n",
    "        'item_concat-item_mean': {\n",
    "            'item_concat': True,\n",
    "            'item_mean': True,\n",
    "            'user': False\n",
    "        },\n",
    "        'item_concat-user': {\n",
    "            'item_concat': True,\n",
    "            'item_mean': False,\n",
    "            'user': True\n",
    "        },\n",
    "        'item_mean-user': {\n",
    "            'item_concat': False,\n",
    "            'item_mean': True,\n",
    "            'user': True\n",
    "        },\n",
    "        'all': {\n",
    "            'item_concat': True,\n",
    "            'item_mean': True,\n",
    "            'user': True\n",
    "        }\n",
    "    }\n",
    "\n",
    "    for algo_name, _ in algos_dict.items():\n",
    "        algos_dict[algo_name]['results'] = []\n",
    "        algos_dict[algo_name]['df_recs'] = pd.DataFrame(columns=['algorithm', 'interaction_number', 'user_id', 'item_id', 'recommendations'])\n",
    "\n",
    "    def save_algo_result(algo_name, hits, hr, spent_time, df_recs_algo, current_extra_train_size, results):\n",
    "        df_recs_algo['algorithm'] = algo_name\n",
    "        df_recs_algo['train_size'] = current_extra_train_size\n",
    "        df_recs_new = pd.concat([df_recs, df_recs_algo])\n",
    "        results.append({'algorithm': algo_name, 'hits': hits, 'hr': hr, 'time': spent_time, 'train_size': current_extra_train_size})\n",
    "        return df_recs_new\n",
    "\n",
    "    current_extra_train_size = 0\n",
    "    while current_extra_train_size <= 1:\n",
    "        print(f\"Current extra train size: {current_extra_train_size}\")\n",
    "\n",
    "        current_df_train = pd.concat([initial_df_train, extra_df_train[:int(len(extra_df_train) * current_extra_train_size)]])\n",
    "        interactions_by_user = group_interactions_by_user(current_df_train)  # MUDANÇA AQUI\n",
    "\n",
    "        # -------------- ALS -----------------\n",
    "        print('Training ALS')\n",
    "        ALS_model, sparse_matrix = train_embeddings_model(implicit.als.AlternatingLeastSquares, current_df_train, num_users, num_items)\n",
    "\n",
    "        print('Testing ALS')\n",
    "        hits, hr, spent_time, df_recs_als = test_embeddings_model(ALS_model, sparse_matrix, df_test_for_evaluation)\n",
    "        df_recs = save_algo_result('ALS', hits, hr, spent_time, df_recs_als, current_extra_train_size, results)\n",
    "\n",
    "        # -------------- BPR -----------------\n",
    "        print('Training BPR')\n",
    "        BPR_model, sparse_matrix = train_embeddings_model(implicit.bpr.BayesianPersonalizedRanking, current_df_train, num_users, num_items)\n",
    "\n",
    "        print('Testing BPR')\n",
    "        hits, hr, spent_time, df_recs_bpr = test_embeddings_model(BPR_model, sparse_matrix, df_test_for_evaluation)\n",
    "        df_recs = save_algo_result('BPR', hits, hr, spent_time, df_recs_bpr, current_extra_train_size, results)\n",
    "        \n",
    "        for algo_name, algo_dict in algos_dict.items():\n",
    "            if algo_dict['item_concat']:\n",
    "                windows = windows_sizes\n",
    "            else:\n",
    "                windows = [None]\n",
    "            \n",
    "            for window_size in windows:\n",
    "                als_embeddings_cols = []\n",
    "                bpr_embeddings_cols = []\n",
    "                print_extra = f' - {algo_name}'\n",
    "                algo_name_extra = ''\n",
    "                if algo_dict['item_concat']:\n",
    "                    als_embeddings_cols.append(f'als_context_item_concat_{window_size}')\n",
    "                    bpr_embeddings_cols.append(f'bpr_context_item_concat_{window_size}')\n",
    "                    print_extra = f' - {algo_name} - {window_size}'\n",
    "                    algo_name_extra = f' - {window_size}'\n",
    "                if algo_dict['item_mean']:\n",
    "                    als_embeddings_cols.append('als_context_items_mean')\n",
    "                    bpr_embeddings_cols.append('bpr_context_items_mean')\n",
    "                if algo_dict['user']:\n",
    "                    als_embeddings_cols.append('als_context_user')\n",
    "                    bpr_embeddings_cols.append('bpr_context_user')\n",
    "                \n",
    "                # ------ LinUCB - ALS embeddings -------\n",
    "                print(f'Training LinUCB - ALS embeddings{print_extra}')\n",
    "                linUCB_model = BanditRecommender(learning_policy=LearningPolicy.LinUCB(alpha=0.1), top_k=10)\n",
    "                train_mab(linUCB_model, current_df_train, als_embeddings_cols)  # Mudança no treinamento dos MAB\n",
    "\n",
    "                print(f'Testing LinUCB - ALS embeddings{print_extra}')\n",
    "                hits, hr, spent_time, df_recs_linUCB = test_non_incremental(linUCB_model, als_embeddings_cols, df_test_for_evaluation, interactions_by_user)\n",
    "                algo_dict['df_recs'] = save_algo_result(f'LinUCB - ALS embeddings{algo_name_extra}', hits, hr, spent_time, df_recs_linUCB, current_extra_train_size, algo_dict['results'])\n",
    "\n",
    "\n",
    "                # ------ LinUCB - BPR embeddings -------\n",
    "                print(f'Training LinUCB - BPR embeddings{print_extra}')\n",
    "                linUCB_model = BanditRecommender(learning_policy=LearningPolicy.LinUCB(alpha=0.1), top_k=10)\n",
    "                train_mab(linUCB_model, current_df_train, bpr_embeddings_cols)\n",
    "\n",
    "                print(f'Testing LinUCB - BPR embeddings{print_extra}')\n",
    "                hits, hr, spent_time, df_recs_linUCB = test_non_incremental(linUCB_model, bpr_embeddings_cols, df_test_for_evaluation, interactions_by_user)\n",
    "                algo_dict['df_recs'] = save_algo_result(f'LinUCB - BPR embeddings{algo_name_extra}', hits, hr, spent_time, df_recs_linUCB, current_extra_train_size, algo_dict['results'])\n",
    "\n",
    "                # ------ LinGreedy - ALS embeddings -------\n",
    "                print(f'Training LinGreedy - ALS embeddings{print_extra}')\n",
    "                linGreedy_model = BanditRecommender(learning_policy=LearningPolicy.LinGreedy(epsilon=0.01), top_k=10)\n",
    "                train_mab(linGreedy_model, current_df_train, als_embeddings_cols)\n",
    "\n",
    "                print(f'Testing LinGreedy - ALS embeddings{print_extra}')\n",
    "                hits, hr, spent_time, df_recs_linGreedy = test_non_incremental(linGreedy_model, als_embeddings_cols, df_test_for_evaluation, interactions_by_user)\n",
    "                algo_dict['df_recs'] = save_algo_result(f'LinGreedy - ALS embeddings{algo_name_extra}', hits, hr, spent_time, df_recs_linGreedy, current_extra_train_size, algo_dict['results'])\n",
    "\n",
    "\n",
    "                # ------ LinGreedy - BPR embeddings -------\n",
    "                print(f'Training LinGreedy - BPR embeddings{print_extra}')\n",
    "                linGreedy_model = BanditRecommender(learning_policy=LearningPolicy.LinGreedy(epsilon=0.01), top_k=10)\n",
    "                train_mab(linGreedy_model, current_df_train, bpr_embeddings_cols)\n",
    "\n",
    "                print(f'Testing LinGreedy - BPR embeddings{print_extra}')\n",
    "                hits, hr, spent_time, df_recs_linGreedy = test_non_incremental(linGreedy_model, bpr_embeddings_cols, df_test_for_evaluation, interactions_by_user)\n",
    "                algo_dict['df_recs'] = save_algo_result(f'LinGreedy - BPR embeddings{algo_name_extra}', hits, hr, spent_time, df_recs_linGreedy, current_extra_train_size, algo_dict['results'])\n",
    "        \n",
    "        # Incrementando o tamanho do treino para próxima iteração\n",
    "        current_extra_train_size = round(current_extra_train_size + train_extra_increment_step_size, 2)\n",
    "    \n",
    "    save_path = f'results-v9/'\n",
    "    if not os.path.exists(save_path):\n",
    "        os.makedirs(save_path)\n",
    "\n",
    "    df_results_als_bpr = pd.DataFrame(results)\n",
    "    for algo_name, algo_dict in algos_dict.items():\n",
    "        df_results_final = pd.DataFrame(algo_dict['results'])\n",
    "        df_results_final = pd.concat([df_results_final, df_results_als_bpr])\n",
    "        df_results_final = df_results_final.astype({'hits': int, 'hr': float, 'time': float})\n",
    "        df_results_final['test_size'] = round(test_size, 2)\n",
    "        df_results_final['test_interactions'] = len(df_test_for_evaluation)\n",
    "\n",
    "        df_results_final.to_csv(f'{save_path}/results-{algo_name}.csv', index=False)\n",
    "\n",
    "        df_recs_final = pd.concat([df_recs, algo_dict['df_recs']])\n",
    "        df_recs_final.to_csv(f'{save_path}/recs-{algo_name}.csv', index=False)"
   ]
  },
  {
   "cell_type": "code",
   "execution_count": 56,
   "metadata": {},
   "outputs": [
    {
     "name": "stdout",
     "output_type": "stream",
     "text": [
      "Generating ALS embeddings\n"
     ]
    },
    {
     "data": {
      "application/vnd.jupyter.widget-view+json": {
       "model_id": "58dbbce09194409090a7e17784de4d27",
       "version_major": 2,
       "version_minor": 0
      },
      "text/plain": [
       "  0%|          | 0/15 [00:00<?, ?it/s]"
      ]
     },
     "metadata": {},
     "output_type": "display_data"
    },
    {
     "name": "stdout",
     "output_type": "stream",
     "text": [
      "Generating BPR embeddings\n"
     ]
    },
    {
     "data": {
      "application/vnd.jupyter.widget-view+json": {
       "model_id": "52ac1eae9e5b4814a55e10e7b7bf685e",
       "version_major": 2,
       "version_minor": 0
      },
      "text/plain": [
       "  0%|          | 0/100 [00:00<?, ?it/s]"
      ]
     },
     "metadata": {},
     "output_type": "display_data"
    },
    {
     "name": "stdout",
     "output_type": "stream",
     "text": [
      "Generating contexts for window size of 1 (contat items emb)\n"
     ]
    },
    {
     "name": "stderr",
     "output_type": "stream",
     "text": [
      "C:\\Users\\gregf\\AppData\\Local\\Temp\\ipykernel_9612\\30702991.py:47: SettingWithCopyWarning:\n",
      "\n",
      "\n",
      "A value is trying to be set on a copy of a slice from a DataFrame.\n",
      "Try using .loc[row_indexer,col_indexer] = value instead\n",
      "\n",
      "See the caveats in the documentation: https://pandas.pydata.org/pandas-docs/stable/user_guide/indexing.html#returning-a-view-versus-a-copy\n",
      "\n",
      "C:\\Users\\gregf\\AppData\\Local\\Temp\\ipykernel_9612\\30702991.py:48: SettingWithCopyWarning:\n",
      "\n",
      "\n",
      "A value is trying to be set on a copy of a slice from a DataFrame.\n",
      "Try using .loc[row_indexer,col_indexer] = value instead\n",
      "\n",
      "See the caveats in the documentation: https://pandas.pydata.org/pandas-docs/stable/user_guide/indexing.html#returning-a-view-versus-a-copy\n",
      "\n"
     ]
    },
    {
     "name": "stdout",
     "output_type": "stream",
     "text": [
      "Generating contexts for window size of 2 (contat items emb)\n"
     ]
    },
    {
     "name": "stderr",
     "output_type": "stream",
     "text": [
      "C:\\Users\\gregf\\AppData\\Local\\Temp\\ipykernel_9612\\30702991.py:47: SettingWithCopyWarning:\n",
      "\n",
      "\n",
      "A value is trying to be set on a copy of a slice from a DataFrame.\n",
      "Try using .loc[row_indexer,col_indexer] = value instead\n",
      "\n",
      "See the caveats in the documentation: https://pandas.pydata.org/pandas-docs/stable/user_guide/indexing.html#returning-a-view-versus-a-copy\n",
      "\n",
      "C:\\Users\\gregf\\AppData\\Local\\Temp\\ipykernel_9612\\30702991.py:48: SettingWithCopyWarning:\n",
      "\n",
      "\n",
      "A value is trying to be set on a copy of a slice from a DataFrame.\n",
      "Try using .loc[row_indexer,col_indexer] = value instead\n",
      "\n",
      "See the caveats in the documentation: https://pandas.pydata.org/pandas-docs/stable/user_guide/indexing.html#returning-a-view-versus-a-copy\n",
      "\n"
     ]
    },
    {
     "name": "stdout",
     "output_type": "stream",
     "text": [
      "Generating contexts for window size of 3 (contat items emb)\n"
     ]
    },
    {
     "name": "stderr",
     "output_type": "stream",
     "text": [
      "C:\\Users\\gregf\\AppData\\Local\\Temp\\ipykernel_9612\\30702991.py:47: SettingWithCopyWarning:\n",
      "\n",
      "\n",
      "A value is trying to be set on a copy of a slice from a DataFrame.\n",
      "Try using .loc[row_indexer,col_indexer] = value instead\n",
      "\n",
      "See the caveats in the documentation: https://pandas.pydata.org/pandas-docs/stable/user_guide/indexing.html#returning-a-view-versus-a-copy\n",
      "\n",
      "C:\\Users\\gregf\\AppData\\Local\\Temp\\ipykernel_9612\\30702991.py:48: SettingWithCopyWarning:\n",
      "\n",
      "\n",
      "A value is trying to be set on a copy of a slice from a DataFrame.\n",
      "Try using .loc[row_indexer,col_indexer] = value instead\n",
      "\n",
      "See the caveats in the documentation: https://pandas.pydata.org/pandas-docs/stable/user_guide/indexing.html#returning-a-view-versus-a-copy\n",
      "\n"
     ]
    },
    {
     "name": "stdout",
     "output_type": "stream",
     "text": [
      "Generating contexts for window size of 4 (contat items emb)\n"
     ]
    },
    {
     "name": "stderr",
     "output_type": "stream",
     "text": [
      "C:\\Users\\gregf\\AppData\\Local\\Temp\\ipykernel_9612\\30702991.py:47: SettingWithCopyWarning:\n",
      "\n",
      "\n",
      "A value is trying to be set on a copy of a slice from a DataFrame.\n",
      "Try using .loc[row_indexer,col_indexer] = value instead\n",
      "\n",
      "See the caveats in the documentation: https://pandas.pydata.org/pandas-docs/stable/user_guide/indexing.html#returning-a-view-versus-a-copy\n",
      "\n",
      "C:\\Users\\gregf\\AppData\\Local\\Temp\\ipykernel_9612\\30702991.py:48: SettingWithCopyWarning:\n",
      "\n",
      "\n",
      "A value is trying to be set on a copy of a slice from a DataFrame.\n",
      "Try using .loc[row_indexer,col_indexer] = value instead\n",
      "\n",
      "See the caveats in the documentation: https://pandas.pydata.org/pandas-docs/stable/user_guide/indexing.html#returning-a-view-versus-a-copy\n",
      "\n"
     ]
    },
    {
     "name": "stdout",
     "output_type": "stream",
     "text": [
      "Generating contexts for window size of 5 (contat items emb)\n"
     ]
    },
    {
     "name": "stderr",
     "output_type": "stream",
     "text": [
      "C:\\Users\\gregf\\AppData\\Local\\Temp\\ipykernel_9612\\30702991.py:47: SettingWithCopyWarning:\n",
      "\n",
      "\n",
      "A value is trying to be set on a copy of a slice from a DataFrame.\n",
      "Try using .loc[row_indexer,col_indexer] = value instead\n",
      "\n",
      "See the caveats in the documentation: https://pandas.pydata.org/pandas-docs/stable/user_guide/indexing.html#returning-a-view-versus-a-copy\n",
      "\n",
      "C:\\Users\\gregf\\AppData\\Local\\Temp\\ipykernel_9612\\30702991.py:48: SettingWithCopyWarning:\n",
      "\n",
      "\n",
      "A value is trying to be set on a copy of a slice from a DataFrame.\n",
      "Try using .loc[row_indexer,col_indexer] = value instead\n",
      "\n",
      "See the caveats in the documentation: https://pandas.pydata.org/pandas-docs/stable/user_guide/indexing.html#returning-a-view-versus-a-copy\n",
      "\n"
     ]
    },
    {
     "name": "stdout",
     "output_type": "stream",
     "text": [
      "Generating contexts for window size of 6 (contat items emb)\n"
     ]
    },
    {
     "name": "stderr",
     "output_type": "stream",
     "text": [
      "C:\\Users\\gregf\\AppData\\Local\\Temp\\ipykernel_9612\\30702991.py:47: SettingWithCopyWarning:\n",
      "\n",
      "\n",
      "A value is trying to be set on a copy of a slice from a DataFrame.\n",
      "Try using .loc[row_indexer,col_indexer] = value instead\n",
      "\n",
      "See the caveats in the documentation: https://pandas.pydata.org/pandas-docs/stable/user_guide/indexing.html#returning-a-view-versus-a-copy\n",
      "\n",
      "C:\\Users\\gregf\\AppData\\Local\\Temp\\ipykernel_9612\\30702991.py:48: SettingWithCopyWarning:\n",
      "\n",
      "\n",
      "A value is trying to be set on a copy of a slice from a DataFrame.\n",
      "Try using .loc[row_indexer,col_indexer] = value instead\n",
      "\n",
      "See the caveats in the documentation: https://pandas.pydata.org/pandas-docs/stable/user_guide/indexing.html#returning-a-view-versus-a-copy\n",
      "\n"
     ]
    },
    {
     "name": "stdout",
     "output_type": "stream",
     "text": [
      "Generating contexts for window size of 7 (contat items emb)\n"
     ]
    },
    {
     "name": "stderr",
     "output_type": "stream",
     "text": [
      "C:\\Users\\gregf\\AppData\\Local\\Temp\\ipykernel_9612\\30702991.py:47: SettingWithCopyWarning:\n",
      "\n",
      "\n",
      "A value is trying to be set on a copy of a slice from a DataFrame.\n",
      "Try using .loc[row_indexer,col_indexer] = value instead\n",
      "\n",
      "See the caveats in the documentation: https://pandas.pydata.org/pandas-docs/stable/user_guide/indexing.html#returning-a-view-versus-a-copy\n",
      "\n",
      "C:\\Users\\gregf\\AppData\\Local\\Temp\\ipykernel_9612\\30702991.py:48: SettingWithCopyWarning:\n",
      "\n",
      "\n",
      "A value is trying to be set on a copy of a slice from a DataFrame.\n",
      "Try using .loc[row_indexer,col_indexer] = value instead\n",
      "\n",
      "See the caveats in the documentation: https://pandas.pydata.org/pandas-docs/stable/user_guide/indexing.html#returning-a-view-versus-a-copy\n",
      "\n"
     ]
    },
    {
     "name": "stdout",
     "output_type": "stream",
     "text": [
      "Generating contexts for window size of 8 (contat items emb)\n"
     ]
    },
    {
     "name": "stderr",
     "output_type": "stream",
     "text": [
      "C:\\Users\\gregf\\AppData\\Local\\Temp\\ipykernel_9612\\30702991.py:47: SettingWithCopyWarning:\n",
      "\n",
      "\n",
      "A value is trying to be set on a copy of a slice from a DataFrame.\n",
      "Try using .loc[row_indexer,col_indexer] = value instead\n",
      "\n",
      "See the caveats in the documentation: https://pandas.pydata.org/pandas-docs/stable/user_guide/indexing.html#returning-a-view-versus-a-copy\n",
      "\n",
      "C:\\Users\\gregf\\AppData\\Local\\Temp\\ipykernel_9612\\30702991.py:48: SettingWithCopyWarning:\n",
      "\n",
      "\n",
      "A value is trying to be set on a copy of a slice from a DataFrame.\n",
      "Try using .loc[row_indexer,col_indexer] = value instead\n",
      "\n",
      "See the caveats in the documentation: https://pandas.pydata.org/pandas-docs/stable/user_guide/indexing.html#returning-a-view-versus-a-copy\n",
      "\n"
     ]
    },
    {
     "name": "stdout",
     "output_type": "stream",
     "text": [
      "Generating contexts for window size of 9 (contat items emb)\n"
     ]
    },
    {
     "name": "stderr",
     "output_type": "stream",
     "text": [
      "C:\\Users\\gregf\\AppData\\Local\\Temp\\ipykernel_9612\\30702991.py:47: SettingWithCopyWarning:\n",
      "\n",
      "\n",
      "A value is trying to be set on a copy of a slice from a DataFrame.\n",
      "Try using .loc[row_indexer,col_indexer] = value instead\n",
      "\n",
      "See the caveats in the documentation: https://pandas.pydata.org/pandas-docs/stable/user_guide/indexing.html#returning-a-view-versus-a-copy\n",
      "\n",
      "C:\\Users\\gregf\\AppData\\Local\\Temp\\ipykernel_9612\\30702991.py:48: SettingWithCopyWarning:\n",
      "\n",
      "\n",
      "A value is trying to be set on a copy of a slice from a DataFrame.\n",
      "Try using .loc[row_indexer,col_indexer] = value instead\n",
      "\n",
      "See the caveats in the documentation: https://pandas.pydata.org/pandas-docs/stable/user_guide/indexing.html#returning-a-view-versus-a-copy\n",
      "\n"
     ]
    },
    {
     "name": "stdout",
     "output_type": "stream",
     "text": [
      "Generating contexts for window size of 10 (contat items emb)\n"
     ]
    },
    {
     "name": "stderr",
     "output_type": "stream",
     "text": [
      "C:\\Users\\gregf\\AppData\\Local\\Temp\\ipykernel_9612\\30702991.py:47: SettingWithCopyWarning:\n",
      "\n",
      "\n",
      "A value is trying to be set on a copy of a slice from a DataFrame.\n",
      "Try using .loc[row_indexer,col_indexer] = value instead\n",
      "\n",
      "See the caveats in the documentation: https://pandas.pydata.org/pandas-docs/stable/user_guide/indexing.html#returning-a-view-versus-a-copy\n",
      "\n",
      "C:\\Users\\gregf\\AppData\\Local\\Temp\\ipykernel_9612\\30702991.py:48: SettingWithCopyWarning:\n",
      "\n",
      "\n",
      "A value is trying to be set on a copy of a slice from a DataFrame.\n",
      "Try using .loc[row_indexer,col_indexer] = value instead\n",
      "\n",
      "See the caveats in the documentation: https://pandas.pydata.org/pandas-docs/stable/user_guide/indexing.html#returning-a-view-versus-a-copy\n",
      "\n"
     ]
    },
    {
     "name": "stdout",
     "output_type": "stream",
     "text": [
      "Generating contexts for user embeddings\n"
     ]
    },
    {
     "name": "stderr",
     "output_type": "stream",
     "text": [
      "C:\\Users\\gregf\\AppData\\Local\\Temp\\ipykernel_9612\\30702991.py:61: SettingWithCopyWarning:\n",
      "\n",
      "\n",
      "A value is trying to be set on a copy of a slice from a DataFrame.\n",
      "Try using .loc[row_indexer,col_indexer] = value instead\n",
      "\n",
      "See the caveats in the documentation: https://pandas.pydata.org/pandas-docs/stable/user_guide/indexing.html#returning-a-view-versus-a-copy\n",
      "\n",
      "C:\\Users\\gregf\\AppData\\Local\\Temp\\ipykernel_9612\\30702991.py:62: SettingWithCopyWarning:\n",
      "\n",
      "\n",
      "A value is trying to be set on a copy of a slice from a DataFrame.\n",
      "Try using .loc[row_indexer,col_indexer] = value instead\n",
      "\n",
      "See the caveats in the documentation: https://pandas.pydata.org/pandas-docs/stable/user_guide/indexing.html#returning-a-view-versus-a-copy\n",
      "\n"
     ]
    },
    {
     "name": "stdout",
     "output_type": "stream",
     "text": [
      "Generating contexts for item mean embeddings\n",
      "Current extra train size: 0\n",
      "Training ALS\n"
     ]
    },
    {
     "name": "stderr",
     "output_type": "stream",
     "text": [
      "C:\\Users\\gregf\\AppData\\Local\\Temp\\ipykernel_9612\\30702991.py:75: SettingWithCopyWarning:\n",
      "\n",
      "\n",
      "A value is trying to be set on a copy of a slice from a DataFrame.\n",
      "Try using .loc[row_indexer,col_indexer] = value instead\n",
      "\n",
      "See the caveats in the documentation: https://pandas.pydata.org/pandas-docs/stable/user_guide/indexing.html#returning-a-view-versus-a-copy\n",
      "\n",
      "C:\\Users\\gregf\\AppData\\Local\\Temp\\ipykernel_9612\\30702991.py:76: SettingWithCopyWarning:\n",
      "\n",
      "\n",
      "A value is trying to be set on a copy of a slice from a DataFrame.\n",
      "Try using .loc[row_indexer,col_indexer] = value instead\n",
      "\n",
      "See the caveats in the documentation: https://pandas.pydata.org/pandas-docs/stable/user_guide/indexing.html#returning-a-view-versus-a-copy\n",
      "\n"
     ]
    },
    {
     "data": {
      "application/vnd.jupyter.widget-view+json": {
       "model_id": "7abc8b9e883b40ce88205ac1255a69f3",
       "version_major": 2,
       "version_minor": 0
      },
      "text/plain": [
       "  0%|          | 0/15 [00:00<?, ?it/s]"
      ]
     },
     "metadata": {},
     "output_type": "display_data"
    },
    {
     "name": "stdout",
     "output_type": "stream",
     "text": [
      "Testing ALS\n",
      "Training BPR\n"
     ]
    },
    {
     "data": {
      "application/vnd.jupyter.widget-view+json": {
       "model_id": "87de228bb8b343d0b2589310fc4b49f5",
       "version_major": 2,
       "version_minor": 0
      },
      "text/plain": [
       "  0%|          | 0/100 [00:00<?, ?it/s]"
      ]
     },
     "metadata": {},
     "output_type": "display_data"
    },
    {
     "name": "stdout",
     "output_type": "stream",
     "text": [
      "Testing BPR\n",
      "Training LinUCB - ALS embeddings - item_concat-item_mean - 1\n",
      "Testing LinUCB - ALS embeddings - item_concat-item_mean - 1\n",
      "Training LinUCB - BPR embeddings - item_concat-item_mean - 1\n",
      "Testing LinUCB - BPR embeddings - item_concat-item_mean - 1\n",
      "Training LinGreedy - ALS embeddings - item_concat-item_mean - 1\n",
      "Testing LinGreedy - ALS embeddings - item_concat-item_mean - 1\n",
      "Training LinGreedy - BPR embeddings - item_concat-item_mean - 1\n",
      "Testing LinGreedy - BPR embeddings - item_concat-item_mean - 1\n",
      "Training LinUCB - ALS embeddings - item_concat-item_mean - 2\n",
      "Testing LinUCB - ALS embeddings - item_concat-item_mean - 2\n",
      "Training LinUCB - BPR embeddings - item_concat-item_mean - 2\n",
      "Testing LinUCB - BPR embeddings - item_concat-item_mean - 2\n",
      "Training LinGreedy - ALS embeddings - item_concat-item_mean - 2\n",
      "Testing LinGreedy - ALS embeddings - item_concat-item_mean - 2\n",
      "Training LinGreedy - BPR embeddings - item_concat-item_mean - 2\n",
      "Testing LinGreedy - BPR embeddings - item_concat-item_mean - 2\n",
      "Training LinUCB - ALS embeddings - item_concat-item_mean - 3\n",
      "Testing LinUCB - ALS embeddings - item_concat-item_mean - 3\n",
      "Training LinUCB - BPR embeddings - item_concat-item_mean - 3\n",
      "Testing LinUCB - BPR embeddings - item_concat-item_mean - 3\n",
      "Training LinGreedy - ALS embeddings - item_concat-item_mean - 3\n",
      "Testing LinGreedy - ALS embeddings - item_concat-item_mean - 3\n",
      "Training LinGreedy - BPR embeddings - item_concat-item_mean - 3\n",
      "Testing LinGreedy - BPR embeddings - item_concat-item_mean - 3\n",
      "Training LinUCB - ALS embeddings - item_concat-item_mean - 4\n",
      "Testing LinUCB - ALS embeddings - item_concat-item_mean - 4\n",
      "Training LinUCB - BPR embeddings - item_concat-item_mean - 4\n",
      "Testing LinUCB - BPR embeddings - item_concat-item_mean - 4\n",
      "Training LinGreedy - ALS embeddings - item_concat-item_mean - 4\n",
      "Testing LinGreedy - ALS embeddings - item_concat-item_mean - 4\n",
      "Training LinGreedy - BPR embeddings - item_concat-item_mean - 4\n",
      "Testing LinGreedy - BPR embeddings - item_concat-item_mean - 4\n",
      "Training LinUCB - ALS embeddings - item_concat-item_mean - 5\n",
      "Testing LinUCB - ALS embeddings - item_concat-item_mean - 5\n",
      "Training LinUCB - BPR embeddings - item_concat-item_mean - 5\n",
      "Testing LinUCB - BPR embeddings - item_concat-item_mean - 5\n",
      "Training LinGreedy - ALS embeddings - item_concat-item_mean - 5\n",
      "Testing LinGreedy - ALS embeddings - item_concat-item_mean - 5\n",
      "Training LinGreedy - BPR embeddings - item_concat-item_mean - 5\n",
      "Testing LinGreedy - BPR embeddings - item_concat-item_mean - 5\n",
      "Training LinUCB - ALS embeddings - item_concat-item_mean - 6\n",
      "Testing LinUCB - ALS embeddings - item_concat-item_mean - 6\n",
      "Training LinUCB - BPR embeddings - item_concat-item_mean - 6\n",
      "Testing LinUCB - BPR embeddings - item_concat-item_mean - 6\n",
      "Training LinGreedy - ALS embeddings - item_concat-item_mean - 6\n",
      "Testing LinGreedy - ALS embeddings - item_concat-item_mean - 6\n",
      "Training LinGreedy - BPR embeddings - item_concat-item_mean - 6\n",
      "Testing LinGreedy - BPR embeddings - item_concat-item_mean - 6\n",
      "Training LinUCB - ALS embeddings - item_concat-item_mean - 7\n",
      "Testing LinUCB - ALS embeddings - item_concat-item_mean - 7\n",
      "Training LinUCB - BPR embeddings - item_concat-item_mean - 7\n",
      "Testing LinUCB - BPR embeddings - item_concat-item_mean - 7\n",
      "Training LinGreedy - ALS embeddings - item_concat-item_mean - 7\n",
      "Testing LinGreedy - ALS embeddings - item_concat-item_mean - 7\n",
      "Training LinGreedy - BPR embeddings - item_concat-item_mean - 7\n",
      "Testing LinGreedy - BPR embeddings - item_concat-item_mean - 7\n",
      "Training LinUCB - ALS embeddings - item_concat-item_mean - 8\n",
      "Testing LinUCB - ALS embeddings - item_concat-item_mean - 8\n",
      "Training LinUCB - BPR embeddings - item_concat-item_mean - 8\n",
      "Testing LinUCB - BPR embeddings - item_concat-item_mean - 8\n",
      "Training LinGreedy - ALS embeddings - item_concat-item_mean - 8\n",
      "Testing LinGreedy - ALS embeddings - item_concat-item_mean - 8\n",
      "Training LinGreedy - BPR embeddings - item_concat-item_mean - 8\n",
      "Testing LinGreedy - BPR embeddings - item_concat-item_mean - 8\n",
      "Training LinUCB - ALS embeddings - item_concat-item_mean - 9\n",
      "Testing LinUCB - ALS embeddings - item_concat-item_mean - 9\n",
      "Training LinUCB - BPR embeddings - item_concat-item_mean - 9\n",
      "Testing LinUCB - BPR embeddings - item_concat-item_mean - 9\n",
      "Training LinGreedy - ALS embeddings - item_concat-item_mean - 9\n",
      "Testing LinGreedy - ALS embeddings - item_concat-item_mean - 9\n",
      "Training LinGreedy - BPR embeddings - item_concat-item_mean - 9\n",
      "Testing LinGreedy - BPR embeddings - item_concat-item_mean - 9\n",
      "Training LinUCB - ALS embeddings - item_concat-item_mean - 10\n",
      "Testing LinUCB - ALS embeddings - item_concat-item_mean - 10\n",
      "Training LinUCB - BPR embeddings - item_concat-item_mean - 10\n",
      "Testing LinUCB - BPR embeddings - item_concat-item_mean - 10\n",
      "Training LinGreedy - ALS embeddings - item_concat-item_mean - 10\n",
      "Testing LinGreedy - ALS embeddings - item_concat-item_mean - 10\n",
      "Training LinGreedy - BPR embeddings - item_concat-item_mean - 10\n",
      "Testing LinGreedy - BPR embeddings - item_concat-item_mean - 10\n",
      "Training LinUCB - ALS embeddings - item_concat-user - 1\n",
      "Testing LinUCB - ALS embeddings - item_concat-user - 1\n",
      "Training LinUCB - BPR embeddings - item_concat-user - 1\n",
      "Testing LinUCB - BPR embeddings - item_concat-user - 1\n",
      "Training LinGreedy - ALS embeddings - item_concat-user - 1\n",
      "Testing LinGreedy - ALS embeddings - item_concat-user - 1\n",
      "Training LinGreedy - BPR embeddings - item_concat-user - 1\n",
      "Testing LinGreedy - BPR embeddings - item_concat-user - 1\n",
      "Training LinUCB - ALS embeddings - item_concat-user - 2\n",
      "Testing LinUCB - ALS embeddings - item_concat-user - 2\n",
      "Training LinUCB - BPR embeddings - item_concat-user - 2\n",
      "Testing LinUCB - BPR embeddings - item_concat-user - 2\n",
      "Training LinGreedy - ALS embeddings - item_concat-user - 2\n",
      "Testing LinGreedy - ALS embeddings - item_concat-user - 2\n",
      "Training LinGreedy - BPR embeddings - item_concat-user - 2\n",
      "Testing LinGreedy - BPR embeddings - item_concat-user - 2\n",
      "Training LinUCB - ALS embeddings - item_concat-user - 3\n",
      "Testing LinUCB - ALS embeddings - item_concat-user - 3\n",
      "Training LinUCB - BPR embeddings - item_concat-user - 3\n",
      "Testing LinUCB - BPR embeddings - item_concat-user - 3\n",
      "Training LinGreedy - ALS embeddings - item_concat-user - 3\n",
      "Testing LinGreedy - ALS embeddings - item_concat-user - 3\n",
      "Training LinGreedy - BPR embeddings - item_concat-user - 3\n",
      "Testing LinGreedy - BPR embeddings - item_concat-user - 3\n",
      "Training LinUCB - ALS embeddings - item_concat-user - 4\n",
      "Testing LinUCB - ALS embeddings - item_concat-user - 4\n",
      "Training LinUCB - BPR embeddings - item_concat-user - 4\n",
      "Testing LinUCB - BPR embeddings - item_concat-user - 4\n",
      "Training LinGreedy - ALS embeddings - item_concat-user - 4\n",
      "Testing LinGreedy - ALS embeddings - item_concat-user - 4\n",
      "Training LinGreedy - BPR embeddings - item_concat-user - 4\n",
      "Testing LinGreedy - BPR embeddings - item_concat-user - 4\n",
      "Training LinUCB - ALS embeddings - item_concat-user - 5\n",
      "Testing LinUCB - ALS embeddings - item_concat-user - 5\n",
      "Training LinUCB - BPR embeddings - item_concat-user - 5\n",
      "Testing LinUCB - BPR embeddings - item_concat-user - 5\n",
      "Training LinGreedy - ALS embeddings - item_concat-user - 5\n",
      "Testing LinGreedy - ALS embeddings - item_concat-user - 5\n",
      "Training LinGreedy - BPR embeddings - item_concat-user - 5\n",
      "Testing LinGreedy - BPR embeddings - item_concat-user - 5\n",
      "Training LinUCB - ALS embeddings - item_concat-user - 6\n",
      "Testing LinUCB - ALS embeddings - item_concat-user - 6\n",
      "Training LinUCB - BPR embeddings - item_concat-user - 6\n",
      "Testing LinUCB - BPR embeddings - item_concat-user - 6\n",
      "Training LinGreedy - ALS embeddings - item_concat-user - 6\n",
      "Testing LinGreedy - ALS embeddings - item_concat-user - 6\n",
      "Training LinGreedy - BPR embeddings - item_concat-user - 6\n",
      "Testing LinGreedy - BPR embeddings - item_concat-user - 6\n",
      "Training LinUCB - ALS embeddings - item_concat-user - 7\n",
      "Testing LinUCB - ALS embeddings - item_concat-user - 7\n",
      "Training LinUCB - BPR embeddings - item_concat-user - 7\n",
      "Testing LinUCB - BPR embeddings - item_concat-user - 7\n",
      "Training LinGreedy - ALS embeddings - item_concat-user - 7\n",
      "Testing LinGreedy - ALS embeddings - item_concat-user - 7\n",
      "Training LinGreedy - BPR embeddings - item_concat-user - 7\n",
      "Testing LinGreedy - BPR embeddings - item_concat-user - 7\n",
      "Training LinUCB - ALS embeddings - item_concat-user - 8\n",
      "Testing LinUCB - ALS embeddings - item_concat-user - 8\n",
      "Training LinUCB - BPR embeddings - item_concat-user - 8\n",
      "Testing LinUCB - BPR embeddings - item_concat-user - 8\n",
      "Training LinGreedy - ALS embeddings - item_concat-user - 8\n",
      "Testing LinGreedy - ALS embeddings - item_concat-user - 8\n",
      "Training LinGreedy - BPR embeddings - item_concat-user - 8\n",
      "Testing LinGreedy - BPR embeddings - item_concat-user - 8\n",
      "Training LinUCB - ALS embeddings - item_concat-user - 9\n",
      "Testing LinUCB - ALS embeddings - item_concat-user - 9\n",
      "Training LinUCB - BPR embeddings - item_concat-user - 9\n",
      "Testing LinUCB - BPR embeddings - item_concat-user - 9\n",
      "Training LinGreedy - ALS embeddings - item_concat-user - 9\n",
      "Testing LinGreedy - ALS embeddings - item_concat-user - 9\n",
      "Training LinGreedy - BPR embeddings - item_concat-user - 9\n",
      "Testing LinGreedy - BPR embeddings - item_concat-user - 9\n",
      "Training LinUCB - ALS embeddings - item_concat-user - 10\n",
      "Testing LinUCB - ALS embeddings - item_concat-user - 10\n",
      "Training LinUCB - BPR embeddings - item_concat-user - 10\n",
      "Testing LinUCB - BPR embeddings - item_concat-user - 10\n",
      "Training LinGreedy - ALS embeddings - item_concat-user - 10\n",
      "Testing LinGreedy - ALS embeddings - item_concat-user - 10\n",
      "Training LinGreedy - BPR embeddings - item_concat-user - 10\n",
      "Testing LinGreedy - BPR embeddings - item_concat-user - 10\n",
      "Training LinUCB - ALS embeddings - item_mean-user\n",
      "Testing LinUCB - ALS embeddings - item_mean-user\n",
      "Training LinUCB - BPR embeddings - item_mean-user\n",
      "Testing LinUCB - BPR embeddings - item_mean-user\n",
      "Training LinGreedy - ALS embeddings - item_mean-user\n",
      "Testing LinGreedy - ALS embeddings - item_mean-user\n",
      "Training LinGreedy - BPR embeddings - item_mean-user\n",
      "Testing LinGreedy - BPR embeddings - item_mean-user\n",
      "Training LinUCB - ALS embeddings - all - 1\n",
      "Testing LinUCB - ALS embeddings - all - 1\n",
      "Training LinUCB - BPR embeddings - all - 1\n",
      "Testing LinUCB - BPR embeddings - all - 1\n",
      "Training LinGreedy - ALS embeddings - all - 1\n",
      "Testing LinGreedy - ALS embeddings - all - 1\n",
      "Training LinGreedy - BPR embeddings - all - 1\n",
      "Testing LinGreedy - BPR embeddings - all - 1\n",
      "Training LinUCB - ALS embeddings - all - 2\n",
      "Testing LinUCB - ALS embeddings - all - 2\n",
      "Training LinUCB - BPR embeddings - all - 2\n",
      "Testing LinUCB - BPR embeddings - all - 2\n",
      "Training LinGreedy - ALS embeddings - all - 2\n",
      "Testing LinGreedy - ALS embeddings - all - 2\n",
      "Training LinGreedy - BPR embeddings - all - 2\n",
      "Testing LinGreedy - BPR embeddings - all - 2\n",
      "Training LinUCB - ALS embeddings - all - 3\n",
      "Testing LinUCB - ALS embeddings - all - 3\n",
      "Training LinUCB - BPR embeddings - all - 3\n",
      "Testing LinUCB - BPR embeddings - all - 3\n",
      "Training LinGreedy - ALS embeddings - all - 3\n",
      "Testing LinGreedy - ALS embeddings - all - 3\n",
      "Training LinGreedy - BPR embeddings - all - 3\n",
      "Testing LinGreedy - BPR embeddings - all - 3\n",
      "Training LinUCB - ALS embeddings - all - 4\n",
      "Testing LinUCB - ALS embeddings - all - 4\n",
      "Training LinUCB - BPR embeddings - all - 4\n",
      "Testing LinUCB - BPR embeddings - all - 4\n",
      "Training LinGreedy - ALS embeddings - all - 4\n",
      "Testing LinGreedy - ALS embeddings - all - 4\n",
      "Training LinGreedy - BPR embeddings - all - 4\n",
      "Testing LinGreedy - BPR embeddings - all - 4\n",
      "Training LinUCB - ALS embeddings - all - 5\n",
      "Testing LinUCB - ALS embeddings - all - 5\n",
      "Training LinUCB - BPR embeddings - all - 5\n",
      "Testing LinUCB - BPR embeddings - all - 5\n",
      "Training LinGreedy - ALS embeddings - all - 5\n",
      "Testing LinGreedy - ALS embeddings - all - 5\n",
      "Training LinGreedy - BPR embeddings - all - 5\n",
      "Testing LinGreedy - BPR embeddings - all - 5\n",
      "Training LinUCB - ALS embeddings - all - 6\n",
      "Testing LinUCB - ALS embeddings - all - 6\n",
      "Training LinUCB - BPR embeddings - all - 6\n",
      "Testing LinUCB - BPR embeddings - all - 6\n",
      "Training LinGreedy - ALS embeddings - all - 6\n",
      "Testing LinGreedy - ALS embeddings - all - 6\n",
      "Training LinGreedy - BPR embeddings - all - 6\n",
      "Testing LinGreedy - BPR embeddings - all - 6\n",
      "Training LinUCB - ALS embeddings - all - 7\n",
      "Testing LinUCB - ALS embeddings - all - 7\n",
      "Training LinUCB - BPR embeddings - all - 7\n",
      "Testing LinUCB - BPR embeddings - all - 7\n",
      "Training LinGreedy - ALS embeddings - all - 7\n",
      "Testing LinGreedy - ALS embeddings - all - 7\n",
      "Training LinGreedy - BPR embeddings - all - 7\n",
      "Testing LinGreedy - BPR embeddings - all - 7\n",
      "Training LinUCB - ALS embeddings - all - 8\n",
      "Testing LinUCB - ALS embeddings - all - 8\n",
      "Training LinUCB - BPR embeddings - all - 8\n",
      "Testing LinUCB - BPR embeddings - all - 8\n",
      "Training LinGreedy - ALS embeddings - all - 8\n",
      "Testing LinGreedy - ALS embeddings - all - 8\n",
      "Training LinGreedy - BPR embeddings - all - 8\n",
      "Testing LinGreedy - BPR embeddings - all - 8\n",
      "Training LinUCB - ALS embeddings - all - 9\n",
      "Testing LinUCB - ALS embeddings - all - 9\n",
      "Training LinUCB - BPR embeddings - all - 9\n",
      "Testing LinUCB - BPR embeddings - all - 9\n",
      "Training LinGreedy - ALS embeddings - all - 9\n",
      "Testing LinGreedy - ALS embeddings - all - 9\n",
      "Training LinGreedy - BPR embeddings - all - 9\n",
      "Testing LinGreedy - BPR embeddings - all - 9\n",
      "Training LinUCB - ALS embeddings - all - 10\n",
      "Testing LinUCB - ALS embeddings - all - 10\n",
      "Training LinUCB - BPR embeddings - all - 10\n",
      "Testing LinUCB - BPR embeddings - all - 10\n",
      "Training LinGreedy - ALS embeddings - all - 10\n",
      "Testing LinGreedy - ALS embeddings - all - 10\n",
      "Training LinGreedy - BPR embeddings - all - 10\n",
      "Testing LinGreedy - BPR embeddings - all - 10\n",
      "Current extra train size: 0.1\n",
      "Training ALS\n"
     ]
    },
    {
     "data": {
      "application/vnd.jupyter.widget-view+json": {
       "model_id": "6333eb1f759f492c961899b1966c21ce",
       "version_major": 2,
       "version_minor": 0
      },
      "text/plain": [
       "  0%|          | 0/15 [00:00<?, ?it/s]"
      ]
     },
     "metadata": {},
     "output_type": "display_data"
    },
    {
     "name": "stdout",
     "output_type": "stream",
     "text": [
      "Testing ALS\n",
      "Training BPR\n"
     ]
    },
    {
     "data": {
      "application/vnd.jupyter.widget-view+json": {
       "model_id": "03aed5ca64de4ab1b2bbe902ad27a90b",
       "version_major": 2,
       "version_minor": 0
      },
      "text/plain": [
       "  0%|          | 0/100 [00:00<?, ?it/s]"
      ]
     },
     "metadata": {},
     "output_type": "display_data"
    },
    {
     "name": "stdout",
     "output_type": "stream",
     "text": [
      "Testing BPR\n",
      "Training LinUCB - ALS embeddings - item_concat-item_mean - 1\n",
      "Testing LinUCB - ALS embeddings - item_concat-item_mean - 1\n",
      "Training LinUCB - BPR embeddings - item_concat-item_mean - 1\n",
      "Testing LinUCB - BPR embeddings - item_concat-item_mean - 1\n",
      "Training LinGreedy - ALS embeddings - item_concat-item_mean - 1\n",
      "Testing LinGreedy - ALS embeddings - item_concat-item_mean - 1\n",
      "Training LinGreedy - BPR embeddings - item_concat-item_mean - 1\n",
      "Testing LinGreedy - BPR embeddings - item_concat-item_mean - 1\n",
      "Training LinUCB - ALS embeddings - item_concat-item_mean - 2\n",
      "Testing LinUCB - ALS embeddings - item_concat-item_mean - 2\n",
      "Training LinUCB - BPR embeddings - item_concat-item_mean - 2\n",
      "Testing LinUCB - BPR embeddings - item_concat-item_mean - 2\n",
      "Training LinGreedy - ALS embeddings - item_concat-item_mean - 2\n",
      "Testing LinGreedy - ALS embeddings - item_concat-item_mean - 2\n",
      "Training LinGreedy - BPR embeddings - item_concat-item_mean - 2\n",
      "Testing LinGreedy - BPR embeddings - item_concat-item_mean - 2\n",
      "Training LinUCB - ALS embeddings - item_concat-item_mean - 3\n",
      "Testing LinUCB - ALS embeddings - item_concat-item_mean - 3\n",
      "Training LinUCB - BPR embeddings - item_concat-item_mean - 3\n",
      "Testing LinUCB - BPR embeddings - item_concat-item_mean - 3\n",
      "Training LinGreedy - ALS embeddings - item_concat-item_mean - 3\n",
      "Testing LinGreedy - ALS embeddings - item_concat-item_mean - 3\n",
      "Training LinGreedy - BPR embeddings - item_concat-item_mean - 3\n",
      "Testing LinGreedy - BPR embeddings - item_concat-item_mean - 3\n",
      "Training LinUCB - ALS embeddings - item_concat-item_mean - 4\n",
      "Testing LinUCB - ALS embeddings - item_concat-item_mean - 4\n",
      "Training LinUCB - BPR embeddings - item_concat-item_mean - 4\n",
      "Testing LinUCB - BPR embeddings - item_concat-item_mean - 4\n",
      "Training LinGreedy - ALS embeddings - item_concat-item_mean - 4\n",
      "Testing LinGreedy - ALS embeddings - item_concat-item_mean - 4\n",
      "Training LinGreedy - BPR embeddings - item_concat-item_mean - 4\n",
      "Testing LinGreedy - BPR embeddings - item_concat-item_mean - 4\n",
      "Training LinUCB - ALS embeddings - item_concat-item_mean - 5\n",
      "Testing LinUCB - ALS embeddings - item_concat-item_mean - 5\n",
      "Training LinUCB - BPR embeddings - item_concat-item_mean - 5\n",
      "Testing LinUCB - BPR embeddings - item_concat-item_mean - 5\n",
      "Training LinGreedy - ALS embeddings - item_concat-item_mean - 5\n",
      "Testing LinGreedy - ALS embeddings - item_concat-item_mean - 5\n",
      "Training LinGreedy - BPR embeddings - item_concat-item_mean - 5\n",
      "Testing LinGreedy - BPR embeddings - item_concat-item_mean - 5\n",
      "Training LinUCB - ALS embeddings - item_concat-item_mean - 6\n",
      "Testing LinUCB - ALS embeddings - item_concat-item_mean - 6\n",
      "Training LinUCB - BPR embeddings - item_concat-item_mean - 6\n",
      "Testing LinUCB - BPR embeddings - item_concat-item_mean - 6\n",
      "Training LinGreedy - ALS embeddings - item_concat-item_mean - 6\n",
      "Testing LinGreedy - ALS embeddings - item_concat-item_mean - 6\n",
      "Training LinGreedy - BPR embeddings - item_concat-item_mean - 6\n",
      "Testing LinGreedy - BPR embeddings - item_concat-item_mean - 6\n",
      "Training LinUCB - ALS embeddings - item_concat-item_mean - 7\n",
      "Testing LinUCB - ALS embeddings - item_concat-item_mean - 7\n",
      "Training LinUCB - BPR embeddings - item_concat-item_mean - 7\n",
      "Testing LinUCB - BPR embeddings - item_concat-item_mean - 7\n",
      "Training LinGreedy - ALS embeddings - item_concat-item_mean - 7\n",
      "Testing LinGreedy - ALS embeddings - item_concat-item_mean - 7\n",
      "Training LinGreedy - BPR embeddings - item_concat-item_mean - 7\n",
      "Testing LinGreedy - BPR embeddings - item_concat-item_mean - 7\n",
      "Training LinUCB - ALS embeddings - item_concat-item_mean - 8\n",
      "Testing LinUCB - ALS embeddings - item_concat-item_mean - 8\n",
      "Training LinUCB - BPR embeddings - item_concat-item_mean - 8\n",
      "Testing LinUCB - BPR embeddings - item_concat-item_mean - 8\n",
      "Training LinGreedy - ALS embeddings - item_concat-item_mean - 8\n",
      "Testing LinGreedy - ALS embeddings - item_concat-item_mean - 8\n",
      "Training LinGreedy - BPR embeddings - item_concat-item_mean - 8\n",
      "Testing LinGreedy - BPR embeddings - item_concat-item_mean - 8\n",
      "Training LinUCB - ALS embeddings - item_concat-item_mean - 9\n",
      "Testing LinUCB - ALS embeddings - item_concat-item_mean - 9\n",
      "Training LinUCB - BPR embeddings - item_concat-item_mean - 9\n",
      "Testing LinUCB - BPR embeddings - item_concat-item_mean - 9\n",
      "Training LinGreedy - ALS embeddings - item_concat-item_mean - 9\n",
      "Testing LinGreedy - ALS embeddings - item_concat-item_mean - 9\n",
      "Training LinGreedy - BPR embeddings - item_concat-item_mean - 9\n",
      "Testing LinGreedy - BPR embeddings - item_concat-item_mean - 9\n",
      "Training LinUCB - ALS embeddings - item_concat-item_mean - 10\n",
      "Testing LinUCB - ALS embeddings - item_concat-item_mean - 10\n",
      "Training LinUCB - BPR embeddings - item_concat-item_mean - 10\n",
      "Testing LinUCB - BPR embeddings - item_concat-item_mean - 10\n",
      "Training LinGreedy - ALS embeddings - item_concat-item_mean - 10\n",
      "Testing LinGreedy - ALS embeddings - item_concat-item_mean - 10\n",
      "Training LinGreedy - BPR embeddings - item_concat-item_mean - 10\n",
      "Testing LinGreedy - BPR embeddings - item_concat-item_mean - 10\n",
      "Training LinUCB - ALS embeddings - item_concat-user - 1\n",
      "Testing LinUCB - ALS embeddings - item_concat-user - 1\n",
      "Training LinUCB - BPR embeddings - item_concat-user - 1\n",
      "Testing LinUCB - BPR embeddings - item_concat-user - 1\n",
      "Training LinGreedy - ALS embeddings - item_concat-user - 1\n",
      "Testing LinGreedy - ALS embeddings - item_concat-user - 1\n",
      "Training LinGreedy - BPR embeddings - item_concat-user - 1\n",
      "Testing LinGreedy - BPR embeddings - item_concat-user - 1\n",
      "Training LinUCB - ALS embeddings - item_concat-user - 2\n",
      "Testing LinUCB - ALS embeddings - item_concat-user - 2\n",
      "Training LinUCB - BPR embeddings - item_concat-user - 2\n",
      "Testing LinUCB - BPR embeddings - item_concat-user - 2\n",
      "Training LinGreedy - ALS embeddings - item_concat-user - 2\n",
      "Testing LinGreedy - ALS embeddings - item_concat-user - 2\n",
      "Training LinGreedy - BPR embeddings - item_concat-user - 2\n",
      "Testing LinGreedy - BPR embeddings - item_concat-user - 2\n",
      "Training LinUCB - ALS embeddings - item_concat-user - 3\n",
      "Testing LinUCB - ALS embeddings - item_concat-user - 3\n",
      "Training LinUCB - BPR embeddings - item_concat-user - 3\n",
      "Testing LinUCB - BPR embeddings - item_concat-user - 3\n",
      "Training LinGreedy - ALS embeddings - item_concat-user - 3\n",
      "Testing LinGreedy - ALS embeddings - item_concat-user - 3\n",
      "Training LinGreedy - BPR embeddings - item_concat-user - 3\n",
      "Testing LinGreedy - BPR embeddings - item_concat-user - 3\n",
      "Training LinUCB - ALS embeddings - item_concat-user - 4\n",
      "Testing LinUCB - ALS embeddings - item_concat-user - 4\n",
      "Training LinUCB - BPR embeddings - item_concat-user - 4\n",
      "Testing LinUCB - BPR embeddings - item_concat-user - 4\n",
      "Training LinGreedy - ALS embeddings - item_concat-user - 4\n",
      "Testing LinGreedy - ALS embeddings - item_concat-user - 4\n",
      "Training LinGreedy - BPR embeddings - item_concat-user - 4\n",
      "Testing LinGreedy - BPR embeddings - item_concat-user - 4\n",
      "Training LinUCB - ALS embeddings - item_concat-user - 5\n",
      "Testing LinUCB - ALS embeddings - item_concat-user - 5\n",
      "Training LinUCB - BPR embeddings - item_concat-user - 5\n",
      "Testing LinUCB - BPR embeddings - item_concat-user - 5\n",
      "Training LinGreedy - ALS embeddings - item_concat-user - 5\n",
      "Testing LinGreedy - ALS embeddings - item_concat-user - 5\n",
      "Training LinGreedy - BPR embeddings - item_concat-user - 5\n",
      "Testing LinGreedy - BPR embeddings - item_concat-user - 5\n",
      "Training LinUCB - ALS embeddings - item_concat-user - 6\n",
      "Testing LinUCB - ALS embeddings - item_concat-user - 6\n",
      "Training LinUCB - BPR embeddings - item_concat-user - 6\n",
      "Testing LinUCB - BPR embeddings - item_concat-user - 6\n",
      "Training LinGreedy - ALS embeddings - item_concat-user - 6\n",
      "Testing LinGreedy - ALS embeddings - item_concat-user - 6\n",
      "Training LinGreedy - BPR embeddings - item_concat-user - 6\n",
      "Testing LinGreedy - BPR embeddings - item_concat-user - 6\n",
      "Training LinUCB - ALS embeddings - item_concat-user - 7\n",
      "Testing LinUCB - ALS embeddings - item_concat-user - 7\n",
      "Training LinUCB - BPR embeddings - item_concat-user - 7\n",
      "Testing LinUCB - BPR embeddings - item_concat-user - 7\n",
      "Training LinGreedy - ALS embeddings - item_concat-user - 7\n",
      "Testing LinGreedy - ALS embeddings - item_concat-user - 7\n",
      "Training LinGreedy - BPR embeddings - item_concat-user - 7\n",
      "Testing LinGreedy - BPR embeddings - item_concat-user - 7\n",
      "Training LinUCB - ALS embeddings - item_concat-user - 8\n",
      "Testing LinUCB - ALS embeddings - item_concat-user - 8\n",
      "Training LinUCB - BPR embeddings - item_concat-user - 8\n",
      "Testing LinUCB - BPR embeddings - item_concat-user - 8\n",
      "Training LinGreedy - ALS embeddings - item_concat-user - 8\n",
      "Testing LinGreedy - ALS embeddings - item_concat-user - 8\n",
      "Training LinGreedy - BPR embeddings - item_concat-user - 8\n",
      "Testing LinGreedy - BPR embeddings - item_concat-user - 8\n",
      "Training LinUCB - ALS embeddings - item_concat-user - 9\n",
      "Testing LinUCB - ALS embeddings - item_concat-user - 9\n",
      "Training LinUCB - BPR embeddings - item_concat-user - 9\n",
      "Testing LinUCB - BPR embeddings - item_concat-user - 9\n",
      "Training LinGreedy - ALS embeddings - item_concat-user - 9\n",
      "Testing LinGreedy - ALS embeddings - item_concat-user - 9\n",
      "Training LinGreedy - BPR embeddings - item_concat-user - 9\n",
      "Testing LinGreedy - BPR embeddings - item_concat-user - 9\n",
      "Training LinUCB - ALS embeddings - item_concat-user - 10\n",
      "Testing LinUCB - ALS embeddings - item_concat-user - 10\n",
      "Training LinUCB - BPR embeddings - item_concat-user - 10\n",
      "Testing LinUCB - BPR embeddings - item_concat-user - 10\n",
      "Training LinGreedy - ALS embeddings - item_concat-user - 10\n",
      "Testing LinGreedy - ALS embeddings - item_concat-user - 10\n",
      "Training LinGreedy - BPR embeddings - item_concat-user - 10\n",
      "Testing LinGreedy - BPR embeddings - item_concat-user - 10\n",
      "Training LinUCB - ALS embeddings - item_mean-user\n",
      "Testing LinUCB - ALS embeddings - item_mean-user\n",
      "Training LinUCB - BPR embeddings - item_mean-user\n",
      "Testing LinUCB - BPR embeddings - item_mean-user\n",
      "Training LinGreedy - ALS embeddings - item_mean-user\n",
      "Testing LinGreedy - ALS embeddings - item_mean-user\n",
      "Training LinGreedy - BPR embeddings - item_mean-user\n",
      "Testing LinGreedy - BPR embeddings - item_mean-user\n",
      "Training LinUCB - ALS embeddings - all - 1\n",
      "Testing LinUCB - ALS embeddings - all - 1\n",
      "Training LinUCB - BPR embeddings - all - 1\n",
      "Testing LinUCB - BPR embeddings - all - 1\n",
      "Training LinGreedy - ALS embeddings - all - 1\n",
      "Testing LinGreedy - ALS embeddings - all - 1\n",
      "Training LinGreedy - BPR embeddings - all - 1\n",
      "Testing LinGreedy - BPR embeddings - all - 1\n",
      "Training LinUCB - ALS embeddings - all - 2\n",
      "Testing LinUCB - ALS embeddings - all - 2\n",
      "Training LinUCB - BPR embeddings - all - 2\n",
      "Testing LinUCB - BPR embeddings - all - 2\n",
      "Training LinGreedy - ALS embeddings - all - 2\n",
      "Testing LinGreedy - ALS embeddings - all - 2\n",
      "Training LinGreedy - BPR embeddings - all - 2\n",
      "Testing LinGreedy - BPR embeddings - all - 2\n",
      "Training LinUCB - ALS embeddings - all - 3\n",
      "Testing LinUCB - ALS embeddings - all - 3\n",
      "Training LinUCB - BPR embeddings - all - 3\n",
      "Testing LinUCB - BPR embeddings - all - 3\n",
      "Training LinGreedy - ALS embeddings - all - 3\n",
      "Testing LinGreedy - ALS embeddings - all - 3\n",
      "Training LinGreedy - BPR embeddings - all - 3\n",
      "Testing LinGreedy - BPR embeddings - all - 3\n",
      "Training LinUCB - ALS embeddings - all - 4\n",
      "Testing LinUCB - ALS embeddings - all - 4\n",
      "Training LinUCB - BPR embeddings - all - 4\n",
      "Testing LinUCB - BPR embeddings - all - 4\n",
      "Training LinGreedy - ALS embeddings - all - 4\n",
      "Testing LinGreedy - ALS embeddings - all - 4\n",
      "Training LinGreedy - BPR embeddings - all - 4\n",
      "Testing LinGreedy - BPR embeddings - all - 4\n",
      "Training LinUCB - ALS embeddings - all - 5\n",
      "Testing LinUCB - ALS embeddings - all - 5\n",
      "Training LinUCB - BPR embeddings - all - 5\n",
      "Testing LinUCB - BPR embeddings - all - 5\n",
      "Training LinGreedy - ALS embeddings - all - 5\n",
      "Testing LinGreedy - ALS embeddings - all - 5\n",
      "Training LinGreedy - BPR embeddings - all - 5\n",
      "Testing LinGreedy - BPR embeddings - all - 5\n",
      "Training LinUCB - ALS embeddings - all - 6\n",
      "Testing LinUCB - ALS embeddings - all - 6\n",
      "Training LinUCB - BPR embeddings - all - 6\n",
      "Testing LinUCB - BPR embeddings - all - 6\n",
      "Training LinGreedy - ALS embeddings - all - 6\n",
      "Testing LinGreedy - ALS embeddings - all - 6\n",
      "Training LinGreedy - BPR embeddings - all - 6\n",
      "Testing LinGreedy - BPR embeddings - all - 6\n",
      "Training LinUCB - ALS embeddings - all - 7\n",
      "Testing LinUCB - ALS embeddings - all - 7\n",
      "Training LinUCB - BPR embeddings - all - 7\n",
      "Testing LinUCB - BPR embeddings - all - 7\n",
      "Training LinGreedy - ALS embeddings - all - 7\n",
      "Testing LinGreedy - ALS embeddings - all - 7\n",
      "Training LinGreedy - BPR embeddings - all - 7\n",
      "Testing LinGreedy - BPR embeddings - all - 7\n",
      "Training LinUCB - ALS embeddings - all - 8\n",
      "Testing LinUCB - ALS embeddings - all - 8\n",
      "Training LinUCB - BPR embeddings - all - 8\n",
      "Testing LinUCB - BPR embeddings - all - 8\n",
      "Training LinGreedy - ALS embeddings - all - 8\n",
      "Testing LinGreedy - ALS embeddings - all - 8\n",
      "Training LinGreedy - BPR embeddings - all - 8\n",
      "Testing LinGreedy - BPR embeddings - all - 8\n",
      "Training LinUCB - ALS embeddings - all - 9\n",
      "Testing LinUCB - ALS embeddings - all - 9\n",
      "Training LinUCB - BPR embeddings - all - 9\n",
      "Testing LinUCB - BPR embeddings - all - 9\n",
      "Training LinGreedy - ALS embeddings - all - 9\n",
      "Testing LinGreedy - ALS embeddings - all - 9\n",
      "Training LinGreedy - BPR embeddings - all - 9\n",
      "Testing LinGreedy - BPR embeddings - all - 9\n",
      "Training LinUCB - ALS embeddings - all - 10\n",
      "Testing LinUCB - ALS embeddings - all - 10\n",
      "Training LinUCB - BPR embeddings - all - 10\n",
      "Testing LinUCB - BPR embeddings - all - 10\n",
      "Training LinGreedy - ALS embeddings - all - 10\n",
      "Testing LinGreedy - ALS embeddings - all - 10\n",
      "Training LinGreedy - BPR embeddings - all - 10\n",
      "Testing LinGreedy - BPR embeddings - all - 10\n",
      "Current extra train size: 0.2\n",
      "Training ALS\n"
     ]
    },
    {
     "data": {
      "application/vnd.jupyter.widget-view+json": {
       "model_id": "fba4650cdc84437bad132a99de922602",
       "version_major": 2,
       "version_minor": 0
      },
      "text/plain": [
       "  0%|          | 0/15 [00:00<?, ?it/s]"
      ]
     },
     "metadata": {},
     "output_type": "display_data"
    },
    {
     "name": "stdout",
     "output_type": "stream",
     "text": [
      "Testing ALS\n",
      "Training BPR\n"
     ]
    },
    {
     "data": {
      "application/vnd.jupyter.widget-view+json": {
       "model_id": "f8bd8fa7cacb45c29a015343dad7bea9",
       "version_major": 2,
       "version_minor": 0
      },
      "text/plain": [
       "  0%|          | 0/100 [00:00<?, ?it/s]"
      ]
     },
     "metadata": {},
     "output_type": "display_data"
    },
    {
     "name": "stdout",
     "output_type": "stream",
     "text": [
      "Testing BPR\n",
      "Training LinUCB - ALS embeddings - item_concat-item_mean - 1\n",
      "Testing LinUCB - ALS embeddings - item_concat-item_mean - 1\n",
      "Training LinUCB - BPR embeddings - item_concat-item_mean - 1\n",
      "Testing LinUCB - BPR embeddings - item_concat-item_mean - 1\n",
      "Training LinGreedy - ALS embeddings - item_concat-item_mean - 1\n",
      "Testing LinGreedy - ALS embeddings - item_concat-item_mean - 1\n",
      "Training LinGreedy - BPR embeddings - item_concat-item_mean - 1\n",
      "Testing LinGreedy - BPR embeddings - item_concat-item_mean - 1\n",
      "Training LinUCB - ALS embeddings - item_concat-item_mean - 2\n",
      "Testing LinUCB - ALS embeddings - item_concat-item_mean - 2\n",
      "Training LinUCB - BPR embeddings - item_concat-item_mean - 2\n",
      "Testing LinUCB - BPR embeddings - item_concat-item_mean - 2\n",
      "Training LinGreedy - ALS embeddings - item_concat-item_mean - 2\n",
      "Testing LinGreedy - ALS embeddings - item_concat-item_mean - 2\n",
      "Training LinGreedy - BPR embeddings - item_concat-item_mean - 2\n",
      "Testing LinGreedy - BPR embeddings - item_concat-item_mean - 2\n",
      "Training LinUCB - ALS embeddings - item_concat-item_mean - 3\n",
      "Testing LinUCB - ALS embeddings - item_concat-item_mean - 3\n",
      "Training LinUCB - BPR embeddings - item_concat-item_mean - 3\n",
      "Testing LinUCB - BPR embeddings - item_concat-item_mean - 3\n",
      "Training LinGreedy - ALS embeddings - item_concat-item_mean - 3\n",
      "Testing LinGreedy - ALS embeddings - item_concat-item_mean - 3\n",
      "Training LinGreedy - BPR embeddings - item_concat-item_mean - 3\n",
      "Testing LinGreedy - BPR embeddings - item_concat-item_mean - 3\n",
      "Training LinUCB - ALS embeddings - item_concat-item_mean - 4\n",
      "Testing LinUCB - ALS embeddings - item_concat-item_mean - 4\n",
      "Training LinUCB - BPR embeddings - item_concat-item_mean - 4\n",
      "Testing LinUCB - BPR embeddings - item_concat-item_mean - 4\n",
      "Training LinGreedy - ALS embeddings - item_concat-item_mean - 4\n",
      "Testing LinGreedy - ALS embeddings - item_concat-item_mean - 4\n",
      "Training LinGreedy - BPR embeddings - item_concat-item_mean - 4\n",
      "Testing LinGreedy - BPR embeddings - item_concat-item_mean - 4\n",
      "Training LinUCB - ALS embeddings - item_concat-item_mean - 5\n",
      "Testing LinUCB - ALS embeddings - item_concat-item_mean - 5\n",
      "Training LinUCB - BPR embeddings - item_concat-item_mean - 5\n",
      "Testing LinUCB - BPR embeddings - item_concat-item_mean - 5\n",
      "Training LinGreedy - ALS embeddings - item_concat-item_mean - 5\n",
      "Testing LinGreedy - ALS embeddings - item_concat-item_mean - 5\n",
      "Training LinGreedy - BPR embeddings - item_concat-item_mean - 5\n",
      "Testing LinGreedy - BPR embeddings - item_concat-item_mean - 5\n",
      "Training LinUCB - ALS embeddings - item_concat-item_mean - 6\n",
      "Testing LinUCB - ALS embeddings - item_concat-item_mean - 6\n",
      "Training LinUCB - BPR embeddings - item_concat-item_mean - 6\n",
      "Testing LinUCB - BPR embeddings - item_concat-item_mean - 6\n",
      "Training LinGreedy - ALS embeddings - item_concat-item_mean - 6\n",
      "Testing LinGreedy - ALS embeddings - item_concat-item_mean - 6\n",
      "Training LinGreedy - BPR embeddings - item_concat-item_mean - 6\n",
      "Testing LinGreedy - BPR embeddings - item_concat-item_mean - 6\n",
      "Training LinUCB - ALS embeddings - item_concat-item_mean - 7\n",
      "Testing LinUCB - ALS embeddings - item_concat-item_mean - 7\n",
      "Training LinUCB - BPR embeddings - item_concat-item_mean - 7\n",
      "Testing LinUCB - BPR embeddings - item_concat-item_mean - 7\n",
      "Training LinGreedy - ALS embeddings - item_concat-item_mean - 7\n",
      "Testing LinGreedy - ALS embeddings - item_concat-item_mean - 7\n",
      "Training LinGreedy - BPR embeddings - item_concat-item_mean - 7\n",
      "Testing LinGreedy - BPR embeddings - item_concat-item_mean - 7\n",
      "Training LinUCB - ALS embeddings - item_concat-item_mean - 8\n",
      "Testing LinUCB - ALS embeddings - item_concat-item_mean - 8\n",
      "Training LinUCB - BPR embeddings - item_concat-item_mean - 8\n",
      "Testing LinUCB - BPR embeddings - item_concat-item_mean - 8\n",
      "Training LinGreedy - ALS embeddings - item_concat-item_mean - 8\n",
      "Testing LinGreedy - ALS embeddings - item_concat-item_mean - 8\n",
      "Training LinGreedy - BPR embeddings - item_concat-item_mean - 8\n",
      "Testing LinGreedy - BPR embeddings - item_concat-item_mean - 8\n",
      "Training LinUCB - ALS embeddings - item_concat-item_mean - 9\n",
      "Testing LinUCB - ALS embeddings - item_concat-item_mean - 9\n",
      "Training LinUCB - BPR embeddings - item_concat-item_mean - 9\n",
      "Testing LinUCB - BPR embeddings - item_concat-item_mean - 9\n",
      "Training LinGreedy - ALS embeddings - item_concat-item_mean - 9\n",
      "Testing LinGreedy - ALS embeddings - item_concat-item_mean - 9\n",
      "Training LinGreedy - BPR embeddings - item_concat-item_mean - 9\n",
      "Testing LinGreedy - BPR embeddings - item_concat-item_mean - 9\n",
      "Training LinUCB - ALS embeddings - item_concat-item_mean - 10\n",
      "Testing LinUCB - ALS embeddings - item_concat-item_mean - 10\n",
      "Training LinUCB - BPR embeddings - item_concat-item_mean - 10\n",
      "Testing LinUCB - BPR embeddings - item_concat-item_mean - 10\n",
      "Training LinGreedy - ALS embeddings - item_concat-item_mean - 10\n",
      "Testing LinGreedy - ALS embeddings - item_concat-item_mean - 10\n",
      "Training LinGreedy - BPR embeddings - item_concat-item_mean - 10\n",
      "Testing LinGreedy - BPR embeddings - item_concat-item_mean - 10\n",
      "Training LinUCB - ALS embeddings - item_concat-user - 1\n",
      "Testing LinUCB - ALS embeddings - item_concat-user - 1\n",
      "Training LinUCB - BPR embeddings - item_concat-user - 1\n",
      "Testing LinUCB - BPR embeddings - item_concat-user - 1\n",
      "Training LinGreedy - ALS embeddings - item_concat-user - 1\n",
      "Testing LinGreedy - ALS embeddings - item_concat-user - 1\n",
      "Training LinGreedy - BPR embeddings - item_concat-user - 1\n",
      "Testing LinGreedy - BPR embeddings - item_concat-user - 1\n",
      "Training LinUCB - ALS embeddings - item_concat-user - 2\n",
      "Testing LinUCB - ALS embeddings - item_concat-user - 2\n",
      "Training LinUCB - BPR embeddings - item_concat-user - 2\n",
      "Testing LinUCB - BPR embeddings - item_concat-user - 2\n",
      "Training LinGreedy - ALS embeddings - item_concat-user - 2\n",
      "Testing LinGreedy - ALS embeddings - item_concat-user - 2\n",
      "Training LinGreedy - BPR embeddings - item_concat-user - 2\n",
      "Testing LinGreedy - BPR embeddings - item_concat-user - 2\n",
      "Training LinUCB - ALS embeddings - item_concat-user - 3\n",
      "Testing LinUCB - ALS embeddings - item_concat-user - 3\n",
      "Training LinUCB - BPR embeddings - item_concat-user - 3\n",
      "Testing LinUCB - BPR embeddings - item_concat-user - 3\n",
      "Training LinGreedy - ALS embeddings - item_concat-user - 3\n",
      "Testing LinGreedy - ALS embeddings - item_concat-user - 3\n",
      "Training LinGreedy - BPR embeddings - item_concat-user - 3\n",
      "Testing LinGreedy - BPR embeddings - item_concat-user - 3\n",
      "Training LinUCB - ALS embeddings - item_concat-user - 4\n",
      "Testing LinUCB - ALS embeddings - item_concat-user - 4\n",
      "Training LinUCB - BPR embeddings - item_concat-user - 4\n",
      "Testing LinUCB - BPR embeddings - item_concat-user - 4\n",
      "Training LinGreedy - ALS embeddings - item_concat-user - 4\n",
      "Testing LinGreedy - ALS embeddings - item_concat-user - 4\n",
      "Training LinGreedy - BPR embeddings - item_concat-user - 4\n",
      "Testing LinGreedy - BPR embeddings - item_concat-user - 4\n",
      "Training LinUCB - ALS embeddings - item_concat-user - 5\n",
      "Testing LinUCB - ALS embeddings - item_concat-user - 5\n",
      "Training LinUCB - BPR embeddings - item_concat-user - 5\n",
      "Testing LinUCB - BPR embeddings - item_concat-user - 5\n",
      "Training LinGreedy - ALS embeddings - item_concat-user - 5\n",
      "Testing LinGreedy - ALS embeddings - item_concat-user - 5\n",
      "Training LinGreedy - BPR embeddings - item_concat-user - 5\n",
      "Testing LinGreedy - BPR embeddings - item_concat-user - 5\n",
      "Training LinUCB - ALS embeddings - item_concat-user - 6\n",
      "Testing LinUCB - ALS embeddings - item_concat-user - 6\n",
      "Training LinUCB - BPR embeddings - item_concat-user - 6\n",
      "Testing LinUCB - BPR embeddings - item_concat-user - 6\n",
      "Training LinGreedy - ALS embeddings - item_concat-user - 6\n",
      "Testing LinGreedy - ALS embeddings - item_concat-user - 6\n",
      "Training LinGreedy - BPR embeddings - item_concat-user - 6\n",
      "Testing LinGreedy - BPR embeddings - item_concat-user - 6\n",
      "Training LinUCB - ALS embeddings - item_concat-user - 7\n",
      "Testing LinUCB - ALS embeddings - item_concat-user - 7\n",
      "Training LinUCB - BPR embeddings - item_concat-user - 7\n",
      "Testing LinUCB - BPR embeddings - item_concat-user - 7\n",
      "Training LinGreedy - ALS embeddings - item_concat-user - 7\n",
      "Testing LinGreedy - ALS embeddings - item_concat-user - 7\n",
      "Training LinGreedy - BPR embeddings - item_concat-user - 7\n",
      "Testing LinGreedy - BPR embeddings - item_concat-user - 7\n",
      "Training LinUCB - ALS embeddings - item_concat-user - 8\n",
      "Testing LinUCB - ALS embeddings - item_concat-user - 8\n",
      "Training LinUCB - BPR embeddings - item_concat-user - 8\n",
      "Testing LinUCB - BPR embeddings - item_concat-user - 8\n",
      "Training LinGreedy - ALS embeddings - item_concat-user - 8\n",
      "Testing LinGreedy - ALS embeddings - item_concat-user - 8\n",
      "Training LinGreedy - BPR embeddings - item_concat-user - 8\n",
      "Testing LinGreedy - BPR embeddings - item_concat-user - 8\n",
      "Training LinUCB - ALS embeddings - item_concat-user - 9\n",
      "Testing LinUCB - ALS embeddings - item_concat-user - 9\n",
      "Training LinUCB - BPR embeddings - item_concat-user - 9\n",
      "Testing LinUCB - BPR embeddings - item_concat-user - 9\n",
      "Training LinGreedy - ALS embeddings - item_concat-user - 9\n",
      "Testing LinGreedy - ALS embeddings - item_concat-user - 9\n",
      "Training LinGreedy - BPR embeddings - item_concat-user - 9\n",
      "Testing LinGreedy - BPR embeddings - item_concat-user - 9\n",
      "Training LinUCB - ALS embeddings - item_concat-user - 10\n",
      "Testing LinUCB - ALS embeddings - item_concat-user - 10\n",
      "Training LinUCB - BPR embeddings - item_concat-user - 10\n",
      "Testing LinUCB - BPR embeddings - item_concat-user - 10\n",
      "Training LinGreedy - ALS embeddings - item_concat-user - 10\n",
      "Testing LinGreedy - ALS embeddings - item_concat-user - 10\n",
      "Training LinGreedy - BPR embeddings - item_concat-user - 10\n",
      "Testing LinGreedy - BPR embeddings - item_concat-user - 10\n",
      "Training LinUCB - ALS embeddings - item_mean-user\n",
      "Testing LinUCB - ALS embeddings - item_mean-user\n",
      "Training LinUCB - BPR embeddings - item_mean-user\n",
      "Testing LinUCB - BPR embeddings - item_mean-user\n",
      "Training LinGreedy - ALS embeddings - item_mean-user\n",
      "Testing LinGreedy - ALS embeddings - item_mean-user\n",
      "Training LinGreedy - BPR embeddings - item_mean-user\n",
      "Testing LinGreedy - BPR embeddings - item_mean-user\n",
      "Training LinUCB - ALS embeddings - all - 1\n",
      "Testing LinUCB - ALS embeddings - all - 1\n",
      "Training LinUCB - BPR embeddings - all - 1\n",
      "Testing LinUCB - BPR embeddings - all - 1\n",
      "Training LinGreedy - ALS embeddings - all - 1\n",
      "Testing LinGreedy - ALS embeddings - all - 1\n",
      "Training LinGreedy - BPR embeddings - all - 1\n",
      "Testing LinGreedy - BPR embeddings - all - 1\n",
      "Training LinUCB - ALS embeddings - all - 2\n",
      "Testing LinUCB - ALS embeddings - all - 2\n",
      "Training LinUCB - BPR embeddings - all - 2\n",
      "Testing LinUCB - BPR embeddings - all - 2\n",
      "Training LinGreedy - ALS embeddings - all - 2\n",
      "Testing LinGreedy - ALS embeddings - all - 2\n",
      "Training LinGreedy - BPR embeddings - all - 2\n",
      "Testing LinGreedy - BPR embeddings - all - 2\n",
      "Training LinUCB - ALS embeddings - all - 3\n",
      "Testing LinUCB - ALS embeddings - all - 3\n",
      "Training LinUCB - BPR embeddings - all - 3\n",
      "Testing LinUCB - BPR embeddings - all - 3\n",
      "Training LinGreedy - ALS embeddings - all - 3\n",
      "Testing LinGreedy - ALS embeddings - all - 3\n",
      "Training LinGreedy - BPR embeddings - all - 3\n",
      "Testing LinGreedy - BPR embeddings - all - 3\n",
      "Training LinUCB - ALS embeddings - all - 4\n",
      "Testing LinUCB - ALS embeddings - all - 4\n",
      "Training LinUCB - BPR embeddings - all - 4\n",
      "Testing LinUCB - BPR embeddings - all - 4\n",
      "Training LinGreedy - ALS embeddings - all - 4\n",
      "Testing LinGreedy - ALS embeddings - all - 4\n",
      "Training LinGreedy - BPR embeddings - all - 4\n",
      "Testing LinGreedy - BPR embeddings - all - 4\n",
      "Training LinUCB - ALS embeddings - all - 5\n",
      "Testing LinUCB - ALS embeddings - all - 5\n",
      "Training LinUCB - BPR embeddings - all - 5\n",
      "Testing LinUCB - BPR embeddings - all - 5\n",
      "Training LinGreedy - ALS embeddings - all - 5\n",
      "Testing LinGreedy - ALS embeddings - all - 5\n",
      "Training LinGreedy - BPR embeddings - all - 5\n",
      "Testing LinGreedy - BPR embeddings - all - 5\n",
      "Training LinUCB - ALS embeddings - all - 6\n",
      "Testing LinUCB - ALS embeddings - all - 6\n",
      "Training LinUCB - BPR embeddings - all - 6\n",
      "Testing LinUCB - BPR embeddings - all - 6\n",
      "Training LinGreedy - ALS embeddings - all - 6\n",
      "Testing LinGreedy - ALS embeddings - all - 6\n",
      "Training LinGreedy - BPR embeddings - all - 6\n",
      "Testing LinGreedy - BPR embeddings - all - 6\n",
      "Training LinUCB - ALS embeddings - all - 7\n",
      "Testing LinUCB - ALS embeddings - all - 7\n",
      "Training LinUCB - BPR embeddings - all - 7\n",
      "Testing LinUCB - BPR embeddings - all - 7\n",
      "Training LinGreedy - ALS embeddings - all - 7\n",
      "Testing LinGreedy - ALS embeddings - all - 7\n",
      "Training LinGreedy - BPR embeddings - all - 7\n",
      "Testing LinGreedy - BPR embeddings - all - 7\n",
      "Training LinUCB - ALS embeddings - all - 8\n",
      "Testing LinUCB - ALS embeddings - all - 8\n",
      "Training LinUCB - BPR embeddings - all - 8\n",
      "Testing LinUCB - BPR embeddings - all - 8\n",
      "Training LinGreedy - ALS embeddings - all - 8\n",
      "Testing LinGreedy - ALS embeddings - all - 8\n",
      "Training LinGreedy - BPR embeddings - all - 8\n",
      "Testing LinGreedy - BPR embeddings - all - 8\n",
      "Training LinUCB - ALS embeddings - all - 9\n",
      "Testing LinUCB - ALS embeddings - all - 9\n",
      "Training LinUCB - BPR embeddings - all - 9\n",
      "Testing LinUCB - BPR embeddings - all - 9\n",
      "Training LinGreedy - ALS embeddings - all - 9\n",
      "Testing LinGreedy - ALS embeddings - all - 9\n",
      "Training LinGreedy - BPR embeddings - all - 9\n",
      "Testing LinGreedy - BPR embeddings - all - 9\n",
      "Training LinUCB - ALS embeddings - all - 10\n",
      "Testing LinUCB - ALS embeddings - all - 10\n",
      "Training LinUCB - BPR embeddings - all - 10\n",
      "Testing LinUCB - BPR embeddings - all - 10\n",
      "Training LinGreedy - ALS embeddings - all - 10\n",
      "Testing LinGreedy - ALS embeddings - all - 10\n",
      "Training LinGreedy - BPR embeddings - all - 10\n",
      "Testing LinGreedy - BPR embeddings - all - 10\n",
      "Current extra train size: 0.3\n",
      "Training ALS\n"
     ]
    },
    {
     "data": {
      "application/vnd.jupyter.widget-view+json": {
       "model_id": "5b4445d094284fb9bf6f5a52b7a7689e",
       "version_major": 2,
       "version_minor": 0
      },
      "text/plain": [
       "  0%|          | 0/15 [00:00<?, ?it/s]"
      ]
     },
     "metadata": {},
     "output_type": "display_data"
    },
    {
     "name": "stdout",
     "output_type": "stream",
     "text": [
      "Testing ALS\n",
      "Training BPR\n"
     ]
    },
    {
     "data": {
      "application/vnd.jupyter.widget-view+json": {
       "model_id": "a16bf1da412e48fe81ca6e8efab5e3a2",
       "version_major": 2,
       "version_minor": 0
      },
      "text/plain": [
       "  0%|          | 0/100 [00:00<?, ?it/s]"
      ]
     },
     "metadata": {},
     "output_type": "display_data"
    },
    {
     "name": "stdout",
     "output_type": "stream",
     "text": [
      "Testing BPR\n",
      "Training LinUCB - ALS embeddings - item_concat-item_mean - 1\n",
      "Testing LinUCB - ALS embeddings - item_concat-item_mean - 1\n",
      "Training LinUCB - BPR embeddings - item_concat-item_mean - 1\n",
      "Testing LinUCB - BPR embeddings - item_concat-item_mean - 1\n",
      "Training LinGreedy - ALS embeddings - item_concat-item_mean - 1\n",
      "Testing LinGreedy - ALS embeddings - item_concat-item_mean - 1\n",
      "Training LinGreedy - BPR embeddings - item_concat-item_mean - 1\n",
      "Testing LinGreedy - BPR embeddings - item_concat-item_mean - 1\n",
      "Training LinUCB - ALS embeddings - item_concat-item_mean - 2\n",
      "Testing LinUCB - ALS embeddings - item_concat-item_mean - 2\n",
      "Training LinUCB - BPR embeddings - item_concat-item_mean - 2\n",
      "Testing LinUCB - BPR embeddings - item_concat-item_mean - 2\n",
      "Training LinGreedy - ALS embeddings - item_concat-item_mean - 2\n",
      "Testing LinGreedy - ALS embeddings - item_concat-item_mean - 2\n",
      "Training LinGreedy - BPR embeddings - item_concat-item_mean - 2\n",
      "Testing LinGreedy - BPR embeddings - item_concat-item_mean - 2\n",
      "Training LinUCB - ALS embeddings - item_concat-item_mean - 3\n",
      "Testing LinUCB - ALS embeddings - item_concat-item_mean - 3\n",
      "Training LinUCB - BPR embeddings - item_concat-item_mean - 3\n",
      "Testing LinUCB - BPR embeddings - item_concat-item_mean - 3\n",
      "Training LinGreedy - ALS embeddings - item_concat-item_mean - 3\n",
      "Testing LinGreedy - ALS embeddings - item_concat-item_mean - 3\n",
      "Training LinGreedy - BPR embeddings - item_concat-item_mean - 3\n",
      "Testing LinGreedy - BPR embeddings - item_concat-item_mean - 3\n",
      "Training LinUCB - ALS embeddings - item_concat-item_mean - 4\n",
      "Testing LinUCB - ALS embeddings - item_concat-item_mean - 4\n",
      "Training LinUCB - BPR embeddings - item_concat-item_mean - 4\n",
      "Testing LinUCB - BPR embeddings - item_concat-item_mean - 4\n",
      "Training LinGreedy - ALS embeddings - item_concat-item_mean - 4\n",
      "Testing LinGreedy - ALS embeddings - item_concat-item_mean - 4\n",
      "Training LinGreedy - BPR embeddings - item_concat-item_mean - 4\n",
      "Testing LinGreedy - BPR embeddings - item_concat-item_mean - 4\n",
      "Training LinUCB - ALS embeddings - item_concat-item_mean - 5\n",
      "Testing LinUCB - ALS embeddings - item_concat-item_mean - 5\n",
      "Training LinUCB - BPR embeddings - item_concat-item_mean - 5\n",
      "Testing LinUCB - BPR embeddings - item_concat-item_mean - 5\n",
      "Training LinGreedy - ALS embeddings - item_concat-item_mean - 5\n",
      "Testing LinGreedy - ALS embeddings - item_concat-item_mean - 5\n",
      "Training LinGreedy - BPR embeddings - item_concat-item_mean - 5\n",
      "Testing LinGreedy - BPR embeddings - item_concat-item_mean - 5\n",
      "Training LinUCB - ALS embeddings - item_concat-item_mean - 6\n",
      "Testing LinUCB - ALS embeddings - item_concat-item_mean - 6\n",
      "Training LinUCB - BPR embeddings - item_concat-item_mean - 6\n",
      "Testing LinUCB - BPR embeddings - item_concat-item_mean - 6\n",
      "Training LinGreedy - ALS embeddings - item_concat-item_mean - 6\n",
      "Testing LinGreedy - ALS embeddings - item_concat-item_mean - 6\n",
      "Training LinGreedy - BPR embeddings - item_concat-item_mean - 6\n",
      "Testing LinGreedy - BPR embeddings - item_concat-item_mean - 6\n",
      "Training LinUCB - ALS embeddings - item_concat-item_mean - 7\n",
      "Testing LinUCB - ALS embeddings - item_concat-item_mean - 7\n",
      "Training LinUCB - BPR embeddings - item_concat-item_mean - 7\n",
      "Testing LinUCB - BPR embeddings - item_concat-item_mean - 7\n",
      "Training LinGreedy - ALS embeddings - item_concat-item_mean - 7\n",
      "Testing LinGreedy - ALS embeddings - item_concat-item_mean - 7\n",
      "Training LinGreedy - BPR embeddings - item_concat-item_mean - 7\n",
      "Testing LinGreedy - BPR embeddings - item_concat-item_mean - 7\n",
      "Training LinUCB - ALS embeddings - item_concat-item_mean - 8\n",
      "Testing LinUCB - ALS embeddings - item_concat-item_mean - 8\n",
      "Training LinUCB - BPR embeddings - item_concat-item_mean - 8\n",
      "Testing LinUCB - BPR embeddings - item_concat-item_mean - 8\n",
      "Training LinGreedy - ALS embeddings - item_concat-item_mean - 8\n",
      "Testing LinGreedy - ALS embeddings - item_concat-item_mean - 8\n",
      "Training LinGreedy - BPR embeddings - item_concat-item_mean - 8\n",
      "Testing LinGreedy - BPR embeddings - item_concat-item_mean - 8\n",
      "Training LinUCB - ALS embeddings - item_concat-item_mean - 9\n",
      "Testing LinUCB - ALS embeddings - item_concat-item_mean - 9\n",
      "Training LinUCB - BPR embeddings - item_concat-item_mean - 9\n",
      "Testing LinUCB - BPR embeddings - item_concat-item_mean - 9\n",
      "Training LinGreedy - ALS embeddings - item_concat-item_mean - 9\n",
      "Testing LinGreedy - ALS embeddings - item_concat-item_mean - 9\n",
      "Training LinGreedy - BPR embeddings - item_concat-item_mean - 9\n",
      "Testing LinGreedy - BPR embeddings - item_concat-item_mean - 9\n",
      "Training LinUCB - ALS embeddings - item_concat-item_mean - 10\n",
      "Testing LinUCB - ALS embeddings - item_concat-item_mean - 10\n",
      "Training LinUCB - BPR embeddings - item_concat-item_mean - 10\n",
      "Testing LinUCB - BPR embeddings - item_concat-item_mean - 10\n",
      "Training LinGreedy - ALS embeddings - item_concat-item_mean - 10\n",
      "Testing LinGreedy - ALS embeddings - item_concat-item_mean - 10\n",
      "Training LinGreedy - BPR embeddings - item_concat-item_mean - 10\n",
      "Testing LinGreedy - BPR embeddings - item_concat-item_mean - 10\n",
      "Training LinUCB - ALS embeddings - item_concat-user - 1\n",
      "Testing LinUCB - ALS embeddings - item_concat-user - 1\n",
      "Training LinUCB - BPR embeddings - item_concat-user - 1\n",
      "Testing LinUCB - BPR embeddings - item_concat-user - 1\n",
      "Training LinGreedy - ALS embeddings - item_concat-user - 1\n",
      "Testing LinGreedy - ALS embeddings - item_concat-user - 1\n",
      "Training LinGreedy - BPR embeddings - item_concat-user - 1\n",
      "Testing LinGreedy - BPR embeddings - item_concat-user - 1\n",
      "Training LinUCB - ALS embeddings - item_concat-user - 2\n",
      "Testing LinUCB - ALS embeddings - item_concat-user - 2\n",
      "Training LinUCB - BPR embeddings - item_concat-user - 2\n",
      "Testing LinUCB - BPR embeddings - item_concat-user - 2\n",
      "Training LinGreedy - ALS embeddings - item_concat-user - 2\n",
      "Testing LinGreedy - ALS embeddings - item_concat-user - 2\n",
      "Training LinGreedy - BPR embeddings - item_concat-user - 2\n",
      "Testing LinGreedy - BPR embeddings - item_concat-user - 2\n",
      "Training LinUCB - ALS embeddings - item_concat-user - 3\n",
      "Testing LinUCB - ALS embeddings - item_concat-user - 3\n",
      "Training LinUCB - BPR embeddings - item_concat-user - 3\n",
      "Testing LinUCB - BPR embeddings - item_concat-user - 3\n",
      "Training LinGreedy - ALS embeddings - item_concat-user - 3\n",
      "Testing LinGreedy - ALS embeddings - item_concat-user - 3\n",
      "Training LinGreedy - BPR embeddings - item_concat-user - 3\n",
      "Testing LinGreedy - BPR embeddings - item_concat-user - 3\n",
      "Training LinUCB - ALS embeddings - item_concat-user - 4\n",
      "Testing LinUCB - ALS embeddings - item_concat-user - 4\n",
      "Training LinUCB - BPR embeddings - item_concat-user - 4\n",
      "Testing LinUCB - BPR embeddings - item_concat-user - 4\n",
      "Training LinGreedy - ALS embeddings - item_concat-user - 4\n",
      "Testing LinGreedy - ALS embeddings - item_concat-user - 4\n",
      "Training LinGreedy - BPR embeddings - item_concat-user - 4\n",
      "Testing LinGreedy - BPR embeddings - item_concat-user - 4\n",
      "Training LinUCB - ALS embeddings - item_concat-user - 5\n",
      "Testing LinUCB - ALS embeddings - item_concat-user - 5\n",
      "Training LinUCB - BPR embeddings - item_concat-user - 5\n",
      "Testing LinUCB - BPR embeddings - item_concat-user - 5\n",
      "Training LinGreedy - ALS embeddings - item_concat-user - 5\n",
      "Testing LinGreedy - ALS embeddings - item_concat-user - 5\n",
      "Training LinGreedy - BPR embeddings - item_concat-user - 5\n",
      "Testing LinGreedy - BPR embeddings - item_concat-user - 5\n",
      "Training LinUCB - ALS embeddings - item_concat-user - 6\n",
      "Testing LinUCB - ALS embeddings - item_concat-user - 6\n",
      "Training LinUCB - BPR embeddings - item_concat-user - 6\n",
      "Testing LinUCB - BPR embeddings - item_concat-user - 6\n",
      "Training LinGreedy - ALS embeddings - item_concat-user - 6\n",
      "Testing LinGreedy - ALS embeddings - item_concat-user - 6\n",
      "Training LinGreedy - BPR embeddings - item_concat-user - 6\n",
      "Testing LinGreedy - BPR embeddings - item_concat-user - 6\n",
      "Training LinUCB - ALS embeddings - item_concat-user - 7\n",
      "Testing LinUCB - ALS embeddings - item_concat-user - 7\n",
      "Training LinUCB - BPR embeddings - item_concat-user - 7\n",
      "Testing LinUCB - BPR embeddings - item_concat-user - 7\n",
      "Training LinGreedy - ALS embeddings - item_concat-user - 7\n",
      "Testing LinGreedy - ALS embeddings - item_concat-user - 7\n",
      "Training LinGreedy - BPR embeddings - item_concat-user - 7\n",
      "Testing LinGreedy - BPR embeddings - item_concat-user - 7\n",
      "Training LinUCB - ALS embeddings - item_concat-user - 8\n",
      "Testing LinUCB - ALS embeddings - item_concat-user - 8\n",
      "Training LinUCB - BPR embeddings - item_concat-user - 8\n",
      "Testing LinUCB - BPR embeddings - item_concat-user - 8\n",
      "Training LinGreedy - ALS embeddings - item_concat-user - 8\n",
      "Testing LinGreedy - ALS embeddings - item_concat-user - 8\n",
      "Training LinGreedy - BPR embeddings - item_concat-user - 8\n",
      "Testing LinGreedy - BPR embeddings - item_concat-user - 8\n",
      "Training LinUCB - ALS embeddings - item_concat-user - 9\n",
      "Testing LinUCB - ALS embeddings - item_concat-user - 9\n",
      "Training LinUCB - BPR embeddings - item_concat-user - 9\n",
      "Testing LinUCB - BPR embeddings - item_concat-user - 9\n",
      "Training LinGreedy - ALS embeddings - item_concat-user - 9\n",
      "Testing LinGreedy - ALS embeddings - item_concat-user - 9\n",
      "Training LinGreedy - BPR embeddings - item_concat-user - 9\n",
      "Testing LinGreedy - BPR embeddings - item_concat-user - 9\n",
      "Training LinUCB - ALS embeddings - item_concat-user - 10\n",
      "Testing LinUCB - ALS embeddings - item_concat-user - 10\n",
      "Training LinUCB - BPR embeddings - item_concat-user - 10\n",
      "Testing LinUCB - BPR embeddings - item_concat-user - 10\n",
      "Training LinGreedy - ALS embeddings - item_concat-user - 10\n",
      "Testing LinGreedy - ALS embeddings - item_concat-user - 10\n",
      "Training LinGreedy - BPR embeddings - item_concat-user - 10\n",
      "Testing LinGreedy - BPR embeddings - item_concat-user - 10\n",
      "Training LinUCB - ALS embeddings - item_mean-user\n",
      "Testing LinUCB - ALS embeddings - item_mean-user\n",
      "Training LinUCB - BPR embeddings - item_mean-user\n",
      "Testing LinUCB - BPR embeddings - item_mean-user\n",
      "Training LinGreedy - ALS embeddings - item_mean-user\n",
      "Testing LinGreedy - ALS embeddings - item_mean-user\n",
      "Training LinGreedy - BPR embeddings - item_mean-user\n",
      "Testing LinGreedy - BPR embeddings - item_mean-user\n",
      "Training LinUCB - ALS embeddings - all - 1\n",
      "Testing LinUCB - ALS embeddings - all - 1\n",
      "Training LinUCB - BPR embeddings - all - 1\n",
      "Testing LinUCB - BPR embeddings - all - 1\n",
      "Training LinGreedy - ALS embeddings - all - 1\n",
      "Testing LinGreedy - ALS embeddings - all - 1\n",
      "Training LinGreedy - BPR embeddings - all - 1\n",
      "Testing LinGreedy - BPR embeddings - all - 1\n",
      "Training LinUCB - ALS embeddings - all - 2\n",
      "Testing LinUCB - ALS embeddings - all - 2\n",
      "Training LinUCB - BPR embeddings - all - 2\n",
      "Testing LinUCB - BPR embeddings - all - 2\n",
      "Training LinGreedy - ALS embeddings - all - 2\n",
      "Testing LinGreedy - ALS embeddings - all - 2\n",
      "Training LinGreedy - BPR embeddings - all - 2\n",
      "Testing LinGreedy - BPR embeddings - all - 2\n",
      "Training LinUCB - ALS embeddings - all - 3\n",
      "Testing LinUCB - ALS embeddings - all - 3\n",
      "Training LinUCB - BPR embeddings - all - 3\n",
      "Testing LinUCB - BPR embeddings - all - 3\n",
      "Training LinGreedy - ALS embeddings - all - 3\n",
      "Testing LinGreedy - ALS embeddings - all - 3\n",
      "Training LinGreedy - BPR embeddings - all - 3\n",
      "Testing LinGreedy - BPR embeddings - all - 3\n",
      "Training LinUCB - ALS embeddings - all - 4\n",
      "Testing LinUCB - ALS embeddings - all - 4\n",
      "Training LinUCB - BPR embeddings - all - 4\n",
      "Testing LinUCB - BPR embeddings - all - 4\n",
      "Training LinGreedy - ALS embeddings - all - 4\n",
      "Testing LinGreedy - ALS embeddings - all - 4\n",
      "Training LinGreedy - BPR embeddings - all - 4\n",
      "Testing LinGreedy - BPR embeddings - all - 4\n",
      "Training LinUCB - ALS embeddings - all - 5\n",
      "Testing LinUCB - ALS embeddings - all - 5\n",
      "Training LinUCB - BPR embeddings - all - 5\n",
      "Testing LinUCB - BPR embeddings - all - 5\n",
      "Training LinGreedy - ALS embeddings - all - 5\n",
      "Testing LinGreedy - ALS embeddings - all - 5\n",
      "Training LinGreedy - BPR embeddings - all - 5\n",
      "Testing LinGreedy - BPR embeddings - all - 5\n",
      "Training LinUCB - ALS embeddings - all - 6\n",
      "Testing LinUCB - ALS embeddings - all - 6\n",
      "Training LinUCB - BPR embeddings - all - 6\n",
      "Testing LinUCB - BPR embeddings - all - 6\n",
      "Training LinGreedy - ALS embeddings - all - 6\n",
      "Testing LinGreedy - ALS embeddings - all - 6\n",
      "Training LinGreedy - BPR embeddings - all - 6\n",
      "Testing LinGreedy - BPR embeddings - all - 6\n",
      "Training LinUCB - ALS embeddings - all - 7\n",
      "Testing LinUCB - ALS embeddings - all - 7\n",
      "Training LinUCB - BPR embeddings - all - 7\n",
      "Testing LinUCB - BPR embeddings - all - 7\n",
      "Training LinGreedy - ALS embeddings - all - 7\n",
      "Testing LinGreedy - ALS embeddings - all - 7\n",
      "Training LinGreedy - BPR embeddings - all - 7\n",
      "Testing LinGreedy - BPR embeddings - all - 7\n",
      "Training LinUCB - ALS embeddings - all - 8\n",
      "Testing LinUCB - ALS embeddings - all - 8\n",
      "Training LinUCB - BPR embeddings - all - 8\n",
      "Testing LinUCB - BPR embeddings - all - 8\n",
      "Training LinGreedy - ALS embeddings - all - 8\n",
      "Testing LinGreedy - ALS embeddings - all - 8\n",
      "Training LinGreedy - BPR embeddings - all - 8\n",
      "Testing LinGreedy - BPR embeddings - all - 8\n",
      "Training LinUCB - ALS embeddings - all - 9\n",
      "Testing LinUCB - ALS embeddings - all - 9\n",
      "Training LinUCB - BPR embeddings - all - 9\n",
      "Testing LinUCB - BPR embeddings - all - 9\n",
      "Training LinGreedy - ALS embeddings - all - 9\n",
      "Testing LinGreedy - ALS embeddings - all - 9\n",
      "Training LinGreedy - BPR embeddings - all - 9\n",
      "Testing LinGreedy - BPR embeddings - all - 9\n",
      "Training LinUCB - ALS embeddings - all - 10\n",
      "Testing LinUCB - ALS embeddings - all - 10\n",
      "Training LinUCB - BPR embeddings - all - 10\n",
      "Testing LinUCB - BPR embeddings - all - 10\n",
      "Training LinGreedy - ALS embeddings - all - 10\n",
      "Testing LinGreedy - ALS embeddings - all - 10\n",
      "Training LinGreedy - BPR embeddings - all - 10\n",
      "Testing LinGreedy - BPR embeddings - all - 10\n",
      "Current extra train size: 0.4\n",
      "Training ALS\n"
     ]
    },
    {
     "data": {
      "application/vnd.jupyter.widget-view+json": {
       "model_id": "f5e21314e9184bf78335ff109e4e846f",
       "version_major": 2,
       "version_minor": 0
      },
      "text/plain": [
       "  0%|          | 0/15 [00:00<?, ?it/s]"
      ]
     },
     "metadata": {},
     "output_type": "display_data"
    },
    {
     "name": "stdout",
     "output_type": "stream",
     "text": [
      "Testing ALS\n",
      "Training BPR\n"
     ]
    },
    {
     "data": {
      "application/vnd.jupyter.widget-view+json": {
       "model_id": "c79d799127bb4f3b9ab64f37fcafa01e",
       "version_major": 2,
       "version_minor": 0
      },
      "text/plain": [
       "  0%|          | 0/100 [00:00<?, ?it/s]"
      ]
     },
     "metadata": {},
     "output_type": "display_data"
    },
    {
     "name": "stdout",
     "output_type": "stream",
     "text": [
      "Testing BPR\n",
      "Training LinUCB - ALS embeddings - item_concat-item_mean - 1\n",
      "Testing LinUCB - ALS embeddings - item_concat-item_mean - 1\n",
      "Training LinUCB - BPR embeddings - item_concat-item_mean - 1\n",
      "Testing LinUCB - BPR embeddings - item_concat-item_mean - 1\n",
      "Training LinGreedy - ALS embeddings - item_concat-item_mean - 1\n",
      "Testing LinGreedy - ALS embeddings - item_concat-item_mean - 1\n",
      "Training LinGreedy - BPR embeddings - item_concat-item_mean - 1\n",
      "Testing LinGreedy - BPR embeddings - item_concat-item_mean - 1\n",
      "Training LinUCB - ALS embeddings - item_concat-item_mean - 2\n",
      "Testing LinUCB - ALS embeddings - item_concat-item_mean - 2\n",
      "Training LinUCB - BPR embeddings - item_concat-item_mean - 2\n",
      "Testing LinUCB - BPR embeddings - item_concat-item_mean - 2\n",
      "Training LinGreedy - ALS embeddings - item_concat-item_mean - 2\n",
      "Testing LinGreedy - ALS embeddings - item_concat-item_mean - 2\n",
      "Training LinGreedy - BPR embeddings - item_concat-item_mean - 2\n",
      "Testing LinGreedy - BPR embeddings - item_concat-item_mean - 2\n",
      "Training LinUCB - ALS embeddings - item_concat-item_mean - 3\n",
      "Testing LinUCB - ALS embeddings - item_concat-item_mean - 3\n",
      "Training LinUCB - BPR embeddings - item_concat-item_mean - 3\n",
      "Testing LinUCB - BPR embeddings - item_concat-item_mean - 3\n",
      "Training LinGreedy - ALS embeddings - item_concat-item_mean - 3\n",
      "Testing LinGreedy - ALS embeddings - item_concat-item_mean - 3\n",
      "Training LinGreedy - BPR embeddings - item_concat-item_mean - 3\n",
      "Testing LinGreedy - BPR embeddings - item_concat-item_mean - 3\n",
      "Training LinUCB - ALS embeddings - item_concat-item_mean - 4\n",
      "Testing LinUCB - ALS embeddings - item_concat-item_mean - 4\n",
      "Training LinUCB - BPR embeddings - item_concat-item_mean - 4\n",
      "Testing LinUCB - BPR embeddings - item_concat-item_mean - 4\n",
      "Training LinGreedy - ALS embeddings - item_concat-item_mean - 4\n",
      "Testing LinGreedy - ALS embeddings - item_concat-item_mean - 4\n",
      "Training LinGreedy - BPR embeddings - item_concat-item_mean - 4\n",
      "Testing LinGreedy - BPR embeddings - item_concat-item_mean - 4\n",
      "Training LinUCB - ALS embeddings - item_concat-item_mean - 5\n",
      "Testing LinUCB - ALS embeddings - item_concat-item_mean - 5\n",
      "Training LinUCB - BPR embeddings - item_concat-item_mean - 5\n",
      "Testing LinUCB - BPR embeddings - item_concat-item_mean - 5\n",
      "Training LinGreedy - ALS embeddings - item_concat-item_mean - 5\n",
      "Testing LinGreedy - ALS embeddings - item_concat-item_mean - 5\n",
      "Training LinGreedy - BPR embeddings - item_concat-item_mean - 5\n",
      "Testing LinGreedy - BPR embeddings - item_concat-item_mean - 5\n",
      "Training LinUCB - ALS embeddings - item_concat-item_mean - 6\n",
      "Testing LinUCB - ALS embeddings - item_concat-item_mean - 6\n",
      "Training LinUCB - BPR embeddings - item_concat-item_mean - 6\n",
      "Testing LinUCB - BPR embeddings - item_concat-item_mean - 6\n",
      "Training LinGreedy - ALS embeddings - item_concat-item_mean - 6\n",
      "Testing LinGreedy - ALS embeddings - item_concat-item_mean - 6\n",
      "Training LinGreedy - BPR embeddings - item_concat-item_mean - 6\n",
      "Testing LinGreedy - BPR embeddings - item_concat-item_mean - 6\n",
      "Training LinUCB - ALS embeddings - item_concat-item_mean - 7\n",
      "Testing LinUCB - ALS embeddings - item_concat-item_mean - 7\n",
      "Training LinUCB - BPR embeddings - item_concat-item_mean - 7\n",
      "Testing LinUCB - BPR embeddings - item_concat-item_mean - 7\n",
      "Training LinGreedy - ALS embeddings - item_concat-item_mean - 7\n",
      "Testing LinGreedy - ALS embeddings - item_concat-item_mean - 7\n",
      "Training LinGreedy - BPR embeddings - item_concat-item_mean - 7\n",
      "Testing LinGreedy - BPR embeddings - item_concat-item_mean - 7\n",
      "Training LinUCB - ALS embeddings - item_concat-item_mean - 8\n",
      "Testing LinUCB - ALS embeddings - item_concat-item_mean - 8\n",
      "Training LinUCB - BPR embeddings - item_concat-item_mean - 8\n",
      "Testing LinUCB - BPR embeddings - item_concat-item_mean - 8\n",
      "Training LinGreedy - ALS embeddings - item_concat-item_mean - 8\n",
      "Testing LinGreedy - ALS embeddings - item_concat-item_mean - 8\n",
      "Training LinGreedy - BPR embeddings - item_concat-item_mean - 8\n",
      "Testing LinGreedy - BPR embeddings - item_concat-item_mean - 8\n",
      "Training LinUCB - ALS embeddings - item_concat-item_mean - 9\n",
      "Testing LinUCB - ALS embeddings - item_concat-item_mean - 9\n",
      "Training LinUCB - BPR embeddings - item_concat-item_mean - 9\n",
      "Testing LinUCB - BPR embeddings - item_concat-item_mean - 9\n",
      "Training LinGreedy - ALS embeddings - item_concat-item_mean - 9\n",
      "Testing LinGreedy - ALS embeddings - item_concat-item_mean - 9\n",
      "Training LinGreedy - BPR embeddings - item_concat-item_mean - 9\n",
      "Testing LinGreedy - BPR embeddings - item_concat-item_mean - 9\n",
      "Training LinUCB - ALS embeddings - item_concat-item_mean - 10\n",
      "Testing LinUCB - ALS embeddings - item_concat-item_mean - 10\n",
      "Training LinUCB - BPR embeddings - item_concat-item_mean - 10\n",
      "Testing LinUCB - BPR embeddings - item_concat-item_mean - 10\n",
      "Training LinGreedy - ALS embeddings - item_concat-item_mean - 10\n",
      "Testing LinGreedy - ALS embeddings - item_concat-item_mean - 10\n",
      "Training LinGreedy - BPR embeddings - item_concat-item_mean - 10\n",
      "Testing LinGreedy - BPR embeddings - item_concat-item_mean - 10\n",
      "Training LinUCB - ALS embeddings - item_concat-user - 1\n",
      "Testing LinUCB - ALS embeddings - item_concat-user - 1\n",
      "Training LinUCB - BPR embeddings - item_concat-user - 1\n",
      "Testing LinUCB - BPR embeddings - item_concat-user - 1\n",
      "Training LinGreedy - ALS embeddings - item_concat-user - 1\n",
      "Testing LinGreedy - ALS embeddings - item_concat-user - 1\n",
      "Training LinGreedy - BPR embeddings - item_concat-user - 1\n",
      "Testing LinGreedy - BPR embeddings - item_concat-user - 1\n",
      "Training LinUCB - ALS embeddings - item_concat-user - 2\n",
      "Testing LinUCB - ALS embeddings - item_concat-user - 2\n",
      "Training LinUCB - BPR embeddings - item_concat-user - 2\n",
      "Testing LinUCB - BPR embeddings - item_concat-user - 2\n",
      "Training LinGreedy - ALS embeddings - item_concat-user - 2\n",
      "Testing LinGreedy - ALS embeddings - item_concat-user - 2\n",
      "Training LinGreedy - BPR embeddings - item_concat-user - 2\n",
      "Testing LinGreedy - BPR embeddings - item_concat-user - 2\n",
      "Training LinUCB - ALS embeddings - item_concat-user - 3\n",
      "Testing LinUCB - ALS embeddings - item_concat-user - 3\n",
      "Training LinUCB - BPR embeddings - item_concat-user - 3\n",
      "Testing LinUCB - BPR embeddings - item_concat-user - 3\n",
      "Training LinGreedy - ALS embeddings - item_concat-user - 3\n",
      "Testing LinGreedy - ALS embeddings - item_concat-user - 3\n",
      "Training LinGreedy - BPR embeddings - item_concat-user - 3\n",
      "Testing LinGreedy - BPR embeddings - item_concat-user - 3\n",
      "Training LinUCB - ALS embeddings - item_concat-user - 4\n",
      "Testing LinUCB - ALS embeddings - item_concat-user - 4\n",
      "Training LinUCB - BPR embeddings - item_concat-user - 4\n",
      "Testing LinUCB - BPR embeddings - item_concat-user - 4\n",
      "Training LinGreedy - ALS embeddings - item_concat-user - 4\n",
      "Testing LinGreedy - ALS embeddings - item_concat-user - 4\n",
      "Training LinGreedy - BPR embeddings - item_concat-user - 4\n",
      "Testing LinGreedy - BPR embeddings - item_concat-user - 4\n",
      "Training LinUCB - ALS embeddings - item_concat-user - 5\n",
      "Testing LinUCB - ALS embeddings - item_concat-user - 5\n",
      "Training LinUCB - BPR embeddings - item_concat-user - 5\n",
      "Testing LinUCB - BPR embeddings - item_concat-user - 5\n",
      "Training LinGreedy - ALS embeddings - item_concat-user - 5\n",
      "Testing LinGreedy - ALS embeddings - item_concat-user - 5\n",
      "Training LinGreedy - BPR embeddings - item_concat-user - 5\n",
      "Testing LinGreedy - BPR embeddings - item_concat-user - 5\n",
      "Training LinUCB - ALS embeddings - item_concat-user - 6\n",
      "Testing LinUCB - ALS embeddings - item_concat-user - 6\n",
      "Training LinUCB - BPR embeddings - item_concat-user - 6\n",
      "Testing LinUCB - BPR embeddings - item_concat-user - 6\n",
      "Training LinGreedy - ALS embeddings - item_concat-user - 6\n",
      "Testing LinGreedy - ALS embeddings - item_concat-user - 6\n",
      "Training LinGreedy - BPR embeddings - item_concat-user - 6\n",
      "Testing LinGreedy - BPR embeddings - item_concat-user - 6\n",
      "Training LinUCB - ALS embeddings - item_concat-user - 7\n",
      "Testing LinUCB - ALS embeddings - item_concat-user - 7\n",
      "Training LinUCB - BPR embeddings - item_concat-user - 7\n",
      "Testing LinUCB - BPR embeddings - item_concat-user - 7\n",
      "Training LinGreedy - ALS embeddings - item_concat-user - 7\n",
      "Testing LinGreedy - ALS embeddings - item_concat-user - 7\n",
      "Training LinGreedy - BPR embeddings - item_concat-user - 7\n",
      "Testing LinGreedy - BPR embeddings - item_concat-user - 7\n",
      "Training LinUCB - ALS embeddings - item_concat-user - 8\n",
      "Testing LinUCB - ALS embeddings - item_concat-user - 8\n",
      "Training LinUCB - BPR embeddings - item_concat-user - 8\n",
      "Testing LinUCB - BPR embeddings - item_concat-user - 8\n",
      "Training LinGreedy - ALS embeddings - item_concat-user - 8\n",
      "Testing LinGreedy - ALS embeddings - item_concat-user - 8\n",
      "Training LinGreedy - BPR embeddings - item_concat-user - 8\n",
      "Testing LinGreedy - BPR embeddings - item_concat-user - 8\n",
      "Training LinUCB - ALS embeddings - item_concat-user - 9\n",
      "Testing LinUCB - ALS embeddings - item_concat-user - 9\n",
      "Training LinUCB - BPR embeddings - item_concat-user - 9\n",
      "Testing LinUCB - BPR embeddings - item_concat-user - 9\n",
      "Training LinGreedy - ALS embeddings - item_concat-user - 9\n",
      "Testing LinGreedy - ALS embeddings - item_concat-user - 9\n",
      "Training LinGreedy - BPR embeddings - item_concat-user - 9\n",
      "Testing LinGreedy - BPR embeddings - item_concat-user - 9\n",
      "Training LinUCB - ALS embeddings - item_concat-user - 10\n",
      "Testing LinUCB - ALS embeddings - item_concat-user - 10\n",
      "Training LinUCB - BPR embeddings - item_concat-user - 10\n",
      "Testing LinUCB - BPR embeddings - item_concat-user - 10\n",
      "Training LinGreedy - ALS embeddings - item_concat-user - 10\n",
      "Testing LinGreedy - ALS embeddings - item_concat-user - 10\n",
      "Training LinGreedy - BPR embeddings - item_concat-user - 10\n",
      "Testing LinGreedy - BPR embeddings - item_concat-user - 10\n",
      "Training LinUCB - ALS embeddings - item_mean-user\n",
      "Testing LinUCB - ALS embeddings - item_mean-user\n",
      "Training LinUCB - BPR embeddings - item_mean-user\n",
      "Testing LinUCB - BPR embeddings - item_mean-user\n",
      "Training LinGreedy - ALS embeddings - item_mean-user\n",
      "Testing LinGreedy - ALS embeddings - item_mean-user\n",
      "Training LinGreedy - BPR embeddings - item_mean-user\n",
      "Testing LinGreedy - BPR embeddings - item_mean-user\n",
      "Training LinUCB - ALS embeddings - all - 1\n",
      "Testing LinUCB - ALS embeddings - all - 1\n",
      "Training LinUCB - BPR embeddings - all - 1\n",
      "Testing LinUCB - BPR embeddings - all - 1\n",
      "Training LinGreedy - ALS embeddings - all - 1\n",
      "Testing LinGreedy - ALS embeddings - all - 1\n",
      "Training LinGreedy - BPR embeddings - all - 1\n",
      "Testing LinGreedy - BPR embeddings - all - 1\n",
      "Training LinUCB - ALS embeddings - all - 2\n",
      "Testing LinUCB - ALS embeddings - all - 2\n",
      "Training LinUCB - BPR embeddings - all - 2\n",
      "Testing LinUCB - BPR embeddings - all - 2\n",
      "Training LinGreedy - ALS embeddings - all - 2\n",
      "Testing LinGreedy - ALS embeddings - all - 2\n",
      "Training LinGreedy - BPR embeddings - all - 2\n",
      "Testing LinGreedy - BPR embeddings - all - 2\n",
      "Training LinUCB - ALS embeddings - all - 3\n",
      "Testing LinUCB - ALS embeddings - all - 3\n",
      "Training LinUCB - BPR embeddings - all - 3\n",
      "Testing LinUCB - BPR embeddings - all - 3\n",
      "Training LinGreedy - ALS embeddings - all - 3\n",
      "Testing LinGreedy - ALS embeddings - all - 3\n",
      "Training LinGreedy - BPR embeddings - all - 3\n",
      "Testing LinGreedy - BPR embeddings - all - 3\n",
      "Training LinUCB - ALS embeddings - all - 4\n",
      "Testing LinUCB - ALS embeddings - all - 4\n",
      "Training LinUCB - BPR embeddings - all - 4\n",
      "Testing LinUCB - BPR embeddings - all - 4\n",
      "Training LinGreedy - ALS embeddings - all - 4\n",
      "Testing LinGreedy - ALS embeddings - all - 4\n",
      "Training LinGreedy - BPR embeddings - all - 4\n",
      "Testing LinGreedy - BPR embeddings - all - 4\n",
      "Training LinUCB - ALS embeddings - all - 5\n",
      "Testing LinUCB - ALS embeddings - all - 5\n",
      "Training LinUCB - BPR embeddings - all - 5\n",
      "Testing LinUCB - BPR embeddings - all - 5\n",
      "Training LinGreedy - ALS embeddings - all - 5\n",
      "Testing LinGreedy - ALS embeddings - all - 5\n",
      "Training LinGreedy - BPR embeddings - all - 5\n",
      "Testing LinGreedy - BPR embeddings - all - 5\n",
      "Training LinUCB - ALS embeddings - all - 6\n",
      "Testing LinUCB - ALS embeddings - all - 6\n",
      "Training LinUCB - BPR embeddings - all - 6\n",
      "Testing LinUCB - BPR embeddings - all - 6\n",
      "Training LinGreedy - ALS embeddings - all - 6\n",
      "Testing LinGreedy - ALS embeddings - all - 6\n",
      "Training LinGreedy - BPR embeddings - all - 6\n",
      "Testing LinGreedy - BPR embeddings - all - 6\n",
      "Training LinUCB - ALS embeddings - all - 7\n",
      "Testing LinUCB - ALS embeddings - all - 7\n",
      "Training LinUCB - BPR embeddings - all - 7\n",
      "Testing LinUCB - BPR embeddings - all - 7\n",
      "Training LinGreedy - ALS embeddings - all - 7\n",
      "Testing LinGreedy - ALS embeddings - all - 7\n",
      "Training LinGreedy - BPR embeddings - all - 7\n",
      "Testing LinGreedy - BPR embeddings - all - 7\n",
      "Training LinUCB - ALS embeddings - all - 8\n",
      "Testing LinUCB - ALS embeddings - all - 8\n",
      "Training LinUCB - BPR embeddings - all - 8\n",
      "Testing LinUCB - BPR embeddings - all - 8\n",
      "Training LinGreedy - ALS embeddings - all - 8\n",
      "Testing LinGreedy - ALS embeddings - all - 8\n",
      "Training LinGreedy - BPR embeddings - all - 8\n",
      "Testing LinGreedy - BPR embeddings - all - 8\n",
      "Training LinUCB - ALS embeddings - all - 9\n",
      "Testing LinUCB - ALS embeddings - all - 9\n",
      "Training LinUCB - BPR embeddings - all - 9\n",
      "Testing LinUCB - BPR embeddings - all - 9\n",
      "Training LinGreedy - ALS embeddings - all - 9\n",
      "Testing LinGreedy - ALS embeddings - all - 9\n",
      "Training LinGreedy - BPR embeddings - all - 9\n",
      "Testing LinGreedy - BPR embeddings - all - 9\n",
      "Training LinUCB - ALS embeddings - all - 10\n",
      "Testing LinUCB - ALS embeddings - all - 10\n",
      "Training LinUCB - BPR embeddings - all - 10\n",
      "Testing LinUCB - BPR embeddings - all - 10\n",
      "Training LinGreedy - ALS embeddings - all - 10\n",
      "Testing LinGreedy - ALS embeddings - all - 10\n",
      "Training LinGreedy - BPR embeddings - all - 10\n",
      "Testing LinGreedy - BPR embeddings - all - 10\n",
      "Current extra train size: 0.5\n",
      "Training ALS\n"
     ]
    },
    {
     "data": {
      "application/vnd.jupyter.widget-view+json": {
       "model_id": "692793fad8db444f99f0c2b3c2f87a0f",
       "version_major": 2,
       "version_minor": 0
      },
      "text/plain": [
       "  0%|          | 0/15 [00:00<?, ?it/s]"
      ]
     },
     "metadata": {},
     "output_type": "display_data"
    },
    {
     "name": "stdout",
     "output_type": "stream",
     "text": [
      "Testing ALS\n",
      "Training BPR\n"
     ]
    },
    {
     "data": {
      "application/vnd.jupyter.widget-view+json": {
       "model_id": "49647e48cad346cab3477c0a62e8001b",
       "version_major": 2,
       "version_minor": 0
      },
      "text/plain": [
       "  0%|          | 0/100 [00:00<?, ?it/s]"
      ]
     },
     "metadata": {},
     "output_type": "display_data"
    },
    {
     "name": "stdout",
     "output_type": "stream",
     "text": [
      "Testing BPR\n",
      "Training LinUCB - ALS embeddings - item_concat-item_mean - 1\n",
      "Testing LinUCB - ALS embeddings - item_concat-item_mean - 1\n",
      "Training LinUCB - BPR embeddings - item_concat-item_mean - 1\n",
      "Testing LinUCB - BPR embeddings - item_concat-item_mean - 1\n",
      "Training LinGreedy - ALS embeddings - item_concat-item_mean - 1\n",
      "Testing LinGreedy - ALS embeddings - item_concat-item_mean - 1\n",
      "Training LinGreedy - BPR embeddings - item_concat-item_mean - 1\n",
      "Testing LinGreedy - BPR embeddings - item_concat-item_mean - 1\n",
      "Training LinUCB - ALS embeddings - item_concat-item_mean - 2\n",
      "Testing LinUCB - ALS embeddings - item_concat-item_mean - 2\n",
      "Training LinUCB - BPR embeddings - item_concat-item_mean - 2\n",
      "Testing LinUCB - BPR embeddings - item_concat-item_mean - 2\n",
      "Training LinGreedy - ALS embeddings - item_concat-item_mean - 2\n",
      "Testing LinGreedy - ALS embeddings - item_concat-item_mean - 2\n",
      "Training LinGreedy - BPR embeddings - item_concat-item_mean - 2\n",
      "Testing LinGreedy - BPR embeddings - item_concat-item_mean - 2\n",
      "Training LinUCB - ALS embeddings - item_concat-item_mean - 3\n",
      "Testing LinUCB - ALS embeddings - item_concat-item_mean - 3\n",
      "Training LinUCB - BPR embeddings - item_concat-item_mean - 3\n",
      "Testing LinUCB - BPR embeddings - item_concat-item_mean - 3\n",
      "Training LinGreedy - ALS embeddings - item_concat-item_mean - 3\n",
      "Testing LinGreedy - ALS embeddings - item_concat-item_mean - 3\n",
      "Training LinGreedy - BPR embeddings - item_concat-item_mean - 3\n",
      "Testing LinGreedy - BPR embeddings - item_concat-item_mean - 3\n",
      "Training LinUCB - ALS embeddings - item_concat-item_mean - 4\n",
      "Testing LinUCB - ALS embeddings - item_concat-item_mean - 4\n",
      "Training LinUCB - BPR embeddings - item_concat-item_mean - 4\n",
      "Testing LinUCB - BPR embeddings - item_concat-item_mean - 4\n",
      "Training LinGreedy - ALS embeddings - item_concat-item_mean - 4\n",
      "Testing LinGreedy - ALS embeddings - item_concat-item_mean - 4\n",
      "Training LinGreedy - BPR embeddings - item_concat-item_mean - 4\n",
      "Testing LinGreedy - BPR embeddings - item_concat-item_mean - 4\n",
      "Training LinUCB - ALS embeddings - item_concat-item_mean - 5\n",
      "Testing LinUCB - ALS embeddings - item_concat-item_mean - 5\n",
      "Training LinUCB - BPR embeddings - item_concat-item_mean - 5\n",
      "Testing LinUCB - BPR embeddings - item_concat-item_mean - 5\n",
      "Training LinGreedy - ALS embeddings - item_concat-item_mean - 5\n",
      "Testing LinGreedy - ALS embeddings - item_concat-item_mean - 5\n",
      "Training LinGreedy - BPR embeddings - item_concat-item_mean - 5\n",
      "Testing LinGreedy - BPR embeddings - item_concat-item_mean - 5\n",
      "Training LinUCB - ALS embeddings - item_concat-item_mean - 6\n",
      "Testing LinUCB - ALS embeddings - item_concat-item_mean - 6\n",
      "Training LinUCB - BPR embeddings - item_concat-item_mean - 6\n",
      "Testing LinUCB - BPR embeddings - item_concat-item_mean - 6\n",
      "Training LinGreedy - ALS embeddings - item_concat-item_mean - 6\n",
      "Testing LinGreedy - ALS embeddings - item_concat-item_mean - 6\n",
      "Training LinGreedy - BPR embeddings - item_concat-item_mean - 6\n",
      "Testing LinGreedy - BPR embeddings - item_concat-item_mean - 6\n",
      "Training LinUCB - ALS embeddings - item_concat-item_mean - 7\n",
      "Testing LinUCB - ALS embeddings - item_concat-item_mean - 7\n",
      "Training LinUCB - BPR embeddings - item_concat-item_mean - 7\n",
      "Testing LinUCB - BPR embeddings - item_concat-item_mean - 7\n",
      "Training LinGreedy - ALS embeddings - item_concat-item_mean - 7\n",
      "Testing LinGreedy - ALS embeddings - item_concat-item_mean - 7\n",
      "Training LinGreedy - BPR embeddings - item_concat-item_mean - 7\n",
      "Testing LinGreedy - BPR embeddings - item_concat-item_mean - 7\n",
      "Training LinUCB - ALS embeddings - item_concat-item_mean - 8\n",
      "Testing LinUCB - ALS embeddings - item_concat-item_mean - 8\n",
      "Training LinUCB - BPR embeddings - item_concat-item_mean - 8\n",
      "Testing LinUCB - BPR embeddings - item_concat-item_mean - 8\n",
      "Training LinGreedy - ALS embeddings - item_concat-item_mean - 8\n",
      "Testing LinGreedy - ALS embeddings - item_concat-item_mean - 8\n",
      "Training LinGreedy - BPR embeddings - item_concat-item_mean - 8\n",
      "Testing LinGreedy - BPR embeddings - item_concat-item_mean - 8\n",
      "Training LinUCB - ALS embeddings - item_concat-item_mean - 9\n",
      "Testing LinUCB - ALS embeddings - item_concat-item_mean - 9\n",
      "Training LinUCB - BPR embeddings - item_concat-item_mean - 9\n",
      "Testing LinUCB - BPR embeddings - item_concat-item_mean - 9\n",
      "Training LinGreedy - ALS embeddings - item_concat-item_mean - 9\n",
      "Testing LinGreedy - ALS embeddings - item_concat-item_mean - 9\n",
      "Training LinGreedy - BPR embeddings - item_concat-item_mean - 9\n",
      "Testing LinGreedy - BPR embeddings - item_concat-item_mean - 9\n",
      "Training LinUCB - ALS embeddings - item_concat-item_mean - 10\n",
      "Testing LinUCB - ALS embeddings - item_concat-item_mean - 10\n",
      "Training LinUCB - BPR embeddings - item_concat-item_mean - 10\n",
      "Testing LinUCB - BPR embeddings - item_concat-item_mean - 10\n",
      "Training LinGreedy - ALS embeddings - item_concat-item_mean - 10\n",
      "Testing LinGreedy - ALS embeddings - item_concat-item_mean - 10\n",
      "Training LinGreedy - BPR embeddings - item_concat-item_mean - 10\n",
      "Testing LinGreedy - BPR embeddings - item_concat-item_mean - 10\n",
      "Training LinUCB - ALS embeddings - item_concat-user - 1\n",
      "Testing LinUCB - ALS embeddings - item_concat-user - 1\n",
      "Training LinUCB - BPR embeddings - item_concat-user - 1\n",
      "Testing LinUCB - BPR embeddings - item_concat-user - 1\n",
      "Training LinGreedy - ALS embeddings - item_concat-user - 1\n",
      "Testing LinGreedy - ALS embeddings - item_concat-user - 1\n",
      "Training LinGreedy - BPR embeddings - item_concat-user - 1\n",
      "Testing LinGreedy - BPR embeddings - item_concat-user - 1\n",
      "Training LinUCB - ALS embeddings - item_concat-user - 2\n",
      "Testing LinUCB - ALS embeddings - item_concat-user - 2\n",
      "Training LinUCB - BPR embeddings - item_concat-user - 2\n",
      "Testing LinUCB - BPR embeddings - item_concat-user - 2\n",
      "Training LinGreedy - ALS embeddings - item_concat-user - 2\n",
      "Testing LinGreedy - ALS embeddings - item_concat-user - 2\n",
      "Training LinGreedy - BPR embeddings - item_concat-user - 2\n",
      "Testing LinGreedy - BPR embeddings - item_concat-user - 2\n",
      "Training LinUCB - ALS embeddings - item_concat-user - 3\n",
      "Testing LinUCB - ALS embeddings - item_concat-user - 3\n",
      "Training LinUCB - BPR embeddings - item_concat-user - 3\n",
      "Testing LinUCB - BPR embeddings - item_concat-user - 3\n",
      "Training LinGreedy - ALS embeddings - item_concat-user - 3\n",
      "Testing LinGreedy - ALS embeddings - item_concat-user - 3\n",
      "Training LinGreedy - BPR embeddings - item_concat-user - 3\n",
      "Testing LinGreedy - BPR embeddings - item_concat-user - 3\n",
      "Training LinUCB - ALS embeddings - item_concat-user - 4\n",
      "Testing LinUCB - ALS embeddings - item_concat-user - 4\n",
      "Training LinUCB - BPR embeddings - item_concat-user - 4\n",
      "Testing LinUCB - BPR embeddings - item_concat-user - 4\n",
      "Training LinGreedy - ALS embeddings - item_concat-user - 4\n",
      "Testing LinGreedy - ALS embeddings - item_concat-user - 4\n",
      "Training LinGreedy - BPR embeddings - item_concat-user - 4\n",
      "Testing LinGreedy - BPR embeddings - item_concat-user - 4\n",
      "Training LinUCB - ALS embeddings - item_concat-user - 5\n",
      "Testing LinUCB - ALS embeddings - item_concat-user - 5\n",
      "Training LinUCB - BPR embeddings - item_concat-user - 5\n",
      "Testing LinUCB - BPR embeddings - item_concat-user - 5\n",
      "Training LinGreedy - ALS embeddings - item_concat-user - 5\n",
      "Testing LinGreedy - ALS embeddings - item_concat-user - 5\n",
      "Training LinGreedy - BPR embeddings - item_concat-user - 5\n",
      "Testing LinGreedy - BPR embeddings - item_concat-user - 5\n",
      "Training LinUCB - ALS embeddings - item_concat-user - 6\n",
      "Testing LinUCB - ALS embeddings - item_concat-user - 6\n",
      "Training LinUCB - BPR embeddings - item_concat-user - 6\n",
      "Testing LinUCB - BPR embeddings - item_concat-user - 6\n",
      "Training LinGreedy - ALS embeddings - item_concat-user - 6\n",
      "Testing LinGreedy - ALS embeddings - item_concat-user - 6\n",
      "Training LinGreedy - BPR embeddings - item_concat-user - 6\n",
      "Testing LinGreedy - BPR embeddings - item_concat-user - 6\n",
      "Training LinUCB - ALS embeddings - item_concat-user - 7\n",
      "Testing LinUCB - ALS embeddings - item_concat-user - 7\n",
      "Training LinUCB - BPR embeddings - item_concat-user - 7\n",
      "Testing LinUCB - BPR embeddings - item_concat-user - 7\n",
      "Training LinGreedy - ALS embeddings - item_concat-user - 7\n",
      "Testing LinGreedy - ALS embeddings - item_concat-user - 7\n",
      "Training LinGreedy - BPR embeddings - item_concat-user - 7\n",
      "Testing LinGreedy - BPR embeddings - item_concat-user - 7\n",
      "Training LinUCB - ALS embeddings - item_concat-user - 8\n",
      "Testing LinUCB - ALS embeddings - item_concat-user - 8\n",
      "Training LinUCB - BPR embeddings - item_concat-user - 8\n",
      "Testing LinUCB - BPR embeddings - item_concat-user - 8\n",
      "Training LinGreedy - ALS embeddings - item_concat-user - 8\n",
      "Testing LinGreedy - ALS embeddings - item_concat-user - 8\n",
      "Training LinGreedy - BPR embeddings - item_concat-user - 8\n",
      "Testing LinGreedy - BPR embeddings - item_concat-user - 8\n",
      "Training LinUCB - ALS embeddings - item_concat-user - 9\n",
      "Testing LinUCB - ALS embeddings - item_concat-user - 9\n",
      "Training LinUCB - BPR embeddings - item_concat-user - 9\n",
      "Testing LinUCB - BPR embeddings - item_concat-user - 9\n",
      "Training LinGreedy - ALS embeddings - item_concat-user - 9\n",
      "Testing LinGreedy - ALS embeddings - item_concat-user - 9\n",
      "Training LinGreedy - BPR embeddings - item_concat-user - 9\n",
      "Testing LinGreedy - BPR embeddings - item_concat-user - 9\n",
      "Training LinUCB - ALS embeddings - item_concat-user - 10\n",
      "Testing LinUCB - ALS embeddings - item_concat-user - 10\n",
      "Training LinUCB - BPR embeddings - item_concat-user - 10\n",
      "Testing LinUCB - BPR embeddings - item_concat-user - 10\n",
      "Training LinGreedy - ALS embeddings - item_concat-user - 10\n",
      "Testing LinGreedy - ALS embeddings - item_concat-user - 10\n",
      "Training LinGreedy - BPR embeddings - item_concat-user - 10\n",
      "Testing LinGreedy - BPR embeddings - item_concat-user - 10\n",
      "Training LinUCB - ALS embeddings - item_mean-user\n",
      "Testing LinUCB - ALS embeddings - item_mean-user\n",
      "Training LinUCB - BPR embeddings - item_mean-user\n",
      "Testing LinUCB - BPR embeddings - item_mean-user\n",
      "Training LinGreedy - ALS embeddings - item_mean-user\n",
      "Testing LinGreedy - ALS embeddings - item_mean-user\n",
      "Training LinGreedy - BPR embeddings - item_mean-user\n",
      "Testing LinGreedy - BPR embeddings - item_mean-user\n",
      "Training LinUCB - ALS embeddings - all - 1\n",
      "Testing LinUCB - ALS embeddings - all - 1\n",
      "Training LinUCB - BPR embeddings - all - 1\n",
      "Testing LinUCB - BPR embeddings - all - 1\n",
      "Training LinGreedy - ALS embeddings - all - 1\n",
      "Testing LinGreedy - ALS embeddings - all - 1\n",
      "Training LinGreedy - BPR embeddings - all - 1\n",
      "Testing LinGreedy - BPR embeddings - all - 1\n",
      "Training LinUCB - ALS embeddings - all - 2\n",
      "Testing LinUCB - ALS embeddings - all - 2\n",
      "Training LinUCB - BPR embeddings - all - 2\n",
      "Testing LinUCB - BPR embeddings - all - 2\n",
      "Training LinGreedy - ALS embeddings - all - 2\n",
      "Testing LinGreedy - ALS embeddings - all - 2\n",
      "Training LinGreedy - BPR embeddings - all - 2\n",
      "Testing LinGreedy - BPR embeddings - all - 2\n",
      "Training LinUCB - ALS embeddings - all - 3\n",
      "Testing LinUCB - ALS embeddings - all - 3\n",
      "Training LinUCB - BPR embeddings - all - 3\n",
      "Testing LinUCB - BPR embeddings - all - 3\n",
      "Training LinGreedy - ALS embeddings - all - 3\n",
      "Testing LinGreedy - ALS embeddings - all - 3\n",
      "Training LinGreedy - BPR embeddings - all - 3\n",
      "Testing LinGreedy - BPR embeddings - all - 3\n",
      "Training LinUCB - ALS embeddings - all - 4\n",
      "Testing LinUCB - ALS embeddings - all - 4\n",
      "Training LinUCB - BPR embeddings - all - 4\n",
      "Testing LinUCB - BPR embeddings - all - 4\n",
      "Training LinGreedy - ALS embeddings - all - 4\n",
      "Testing LinGreedy - ALS embeddings - all - 4\n",
      "Training LinGreedy - BPR embeddings - all - 4\n",
      "Testing LinGreedy - BPR embeddings - all - 4\n",
      "Training LinUCB - ALS embeddings - all - 5\n",
      "Testing LinUCB - ALS embeddings - all - 5\n",
      "Training LinUCB - BPR embeddings - all - 5\n",
      "Testing LinUCB - BPR embeddings - all - 5\n",
      "Training LinGreedy - ALS embeddings - all - 5\n",
      "Testing LinGreedy - ALS embeddings - all - 5\n",
      "Training LinGreedy - BPR embeddings - all - 5\n",
      "Testing LinGreedy - BPR embeddings - all - 5\n",
      "Training LinUCB - ALS embeddings - all - 6\n",
      "Testing LinUCB - ALS embeddings - all - 6\n",
      "Training LinUCB - BPR embeddings - all - 6\n",
      "Testing LinUCB - BPR embeddings - all - 6\n",
      "Training LinGreedy - ALS embeddings - all - 6\n",
      "Testing LinGreedy - ALS embeddings - all - 6\n",
      "Training LinGreedy - BPR embeddings - all - 6\n",
      "Testing LinGreedy - BPR embeddings - all - 6\n",
      "Training LinUCB - ALS embeddings - all - 7\n",
      "Testing LinUCB - ALS embeddings - all - 7\n",
      "Training LinUCB - BPR embeddings - all - 7\n",
      "Testing LinUCB - BPR embeddings - all - 7\n",
      "Training LinGreedy - ALS embeddings - all - 7\n",
      "Testing LinGreedy - ALS embeddings - all - 7\n",
      "Training LinGreedy - BPR embeddings - all - 7\n",
      "Testing LinGreedy - BPR embeddings - all - 7\n",
      "Training LinUCB - ALS embeddings - all - 8\n",
      "Testing LinUCB - ALS embeddings - all - 8\n",
      "Training LinUCB - BPR embeddings - all - 8\n",
      "Testing LinUCB - BPR embeddings - all - 8\n",
      "Training LinGreedy - ALS embeddings - all - 8\n",
      "Testing LinGreedy - ALS embeddings - all - 8\n",
      "Training LinGreedy - BPR embeddings - all - 8\n",
      "Testing LinGreedy - BPR embeddings - all - 8\n",
      "Training LinUCB - ALS embeddings - all - 9\n",
      "Testing LinUCB - ALS embeddings - all - 9\n",
      "Training LinUCB - BPR embeddings - all - 9\n",
      "Testing LinUCB - BPR embeddings - all - 9\n",
      "Training LinGreedy - ALS embeddings - all - 9\n",
      "Testing LinGreedy - ALS embeddings - all - 9\n",
      "Training LinGreedy - BPR embeddings - all - 9\n",
      "Testing LinGreedy - BPR embeddings - all - 9\n",
      "Training LinUCB - ALS embeddings - all - 10\n",
      "Testing LinUCB - ALS embeddings - all - 10\n",
      "Training LinUCB - BPR embeddings - all - 10\n",
      "Testing LinUCB - BPR embeddings - all - 10\n",
      "Training LinGreedy - ALS embeddings - all - 10\n",
      "Testing LinGreedy - ALS embeddings - all - 10\n",
      "Training LinGreedy - BPR embeddings - all - 10\n",
      "Testing LinGreedy - BPR embeddings - all - 10\n",
      "Current extra train size: 0.6\n",
      "Training ALS\n"
     ]
    },
    {
     "data": {
      "application/vnd.jupyter.widget-view+json": {
       "model_id": "1289ada9e8af455081b406f33afe9eeb",
       "version_major": 2,
       "version_minor": 0
      },
      "text/plain": [
       "  0%|          | 0/15 [00:00<?, ?it/s]"
      ]
     },
     "metadata": {},
     "output_type": "display_data"
    },
    {
     "name": "stdout",
     "output_type": "stream",
     "text": [
      "Testing ALS\n",
      "Training BPR\n"
     ]
    },
    {
     "data": {
      "application/vnd.jupyter.widget-view+json": {
       "model_id": "b87b8611e3114586964c8e656482c733",
       "version_major": 2,
       "version_minor": 0
      },
      "text/plain": [
       "  0%|          | 0/100 [00:00<?, ?it/s]"
      ]
     },
     "metadata": {},
     "output_type": "display_data"
    },
    {
     "name": "stdout",
     "output_type": "stream",
     "text": [
      "Testing BPR\n",
      "Training LinUCB - ALS embeddings - item_concat-item_mean - 1\n",
      "Testing LinUCB - ALS embeddings - item_concat-item_mean - 1\n",
      "Training LinUCB - BPR embeddings - item_concat-item_mean - 1\n",
      "Testing LinUCB - BPR embeddings - item_concat-item_mean - 1\n",
      "Training LinGreedy - ALS embeddings - item_concat-item_mean - 1\n",
      "Testing LinGreedy - ALS embeddings - item_concat-item_mean - 1\n",
      "Training LinGreedy - BPR embeddings - item_concat-item_mean - 1\n",
      "Testing LinGreedy - BPR embeddings - item_concat-item_mean - 1\n",
      "Training LinUCB - ALS embeddings - item_concat-item_mean - 2\n",
      "Testing LinUCB - ALS embeddings - item_concat-item_mean - 2\n",
      "Training LinUCB - BPR embeddings - item_concat-item_mean - 2\n",
      "Testing LinUCB - BPR embeddings - item_concat-item_mean - 2\n",
      "Training LinGreedy - ALS embeddings - item_concat-item_mean - 2\n",
      "Testing LinGreedy - ALS embeddings - item_concat-item_mean - 2\n",
      "Training LinGreedy - BPR embeddings - item_concat-item_mean - 2\n",
      "Testing LinGreedy - BPR embeddings - item_concat-item_mean - 2\n",
      "Training LinUCB - ALS embeddings - item_concat-item_mean - 3\n",
      "Testing LinUCB - ALS embeddings - item_concat-item_mean - 3\n",
      "Training LinUCB - BPR embeddings - item_concat-item_mean - 3\n",
      "Testing LinUCB - BPR embeddings - item_concat-item_mean - 3\n",
      "Training LinGreedy - ALS embeddings - item_concat-item_mean - 3\n",
      "Testing LinGreedy - ALS embeddings - item_concat-item_mean - 3\n",
      "Training LinGreedy - BPR embeddings - item_concat-item_mean - 3\n",
      "Testing LinGreedy - BPR embeddings - item_concat-item_mean - 3\n",
      "Training LinUCB - ALS embeddings - item_concat-item_mean - 4\n",
      "Testing LinUCB - ALS embeddings - item_concat-item_mean - 4\n",
      "Training LinUCB - BPR embeddings - item_concat-item_mean - 4\n",
      "Testing LinUCB - BPR embeddings - item_concat-item_mean - 4\n",
      "Training LinGreedy - ALS embeddings - item_concat-item_mean - 4\n",
      "Testing LinGreedy - ALS embeddings - item_concat-item_mean - 4\n",
      "Training LinGreedy - BPR embeddings - item_concat-item_mean - 4\n",
      "Testing LinGreedy - BPR embeddings - item_concat-item_mean - 4\n",
      "Training LinUCB - ALS embeddings - item_concat-item_mean - 5\n",
      "Testing LinUCB - ALS embeddings - item_concat-item_mean - 5\n",
      "Training LinUCB - BPR embeddings - item_concat-item_mean - 5\n",
      "Testing LinUCB - BPR embeddings - item_concat-item_mean - 5\n",
      "Training LinGreedy - ALS embeddings - item_concat-item_mean - 5\n",
      "Testing LinGreedy - ALS embeddings - item_concat-item_mean - 5\n",
      "Training LinGreedy - BPR embeddings - item_concat-item_mean - 5\n",
      "Testing LinGreedy - BPR embeddings - item_concat-item_mean - 5\n",
      "Training LinUCB - ALS embeddings - item_concat-item_mean - 6\n",
      "Testing LinUCB - ALS embeddings - item_concat-item_mean - 6\n",
      "Training LinUCB - BPR embeddings - item_concat-item_mean - 6\n",
      "Testing LinUCB - BPR embeddings - item_concat-item_mean - 6\n",
      "Training LinGreedy - ALS embeddings - item_concat-item_mean - 6\n",
      "Testing LinGreedy - ALS embeddings - item_concat-item_mean - 6\n",
      "Training LinGreedy - BPR embeddings - item_concat-item_mean - 6\n",
      "Testing LinGreedy - BPR embeddings - item_concat-item_mean - 6\n",
      "Training LinUCB - ALS embeddings - item_concat-item_mean - 7\n",
      "Testing LinUCB - ALS embeddings - item_concat-item_mean - 7\n",
      "Training LinUCB - BPR embeddings - item_concat-item_mean - 7\n",
      "Testing LinUCB - BPR embeddings - item_concat-item_mean - 7\n",
      "Training LinGreedy - ALS embeddings - item_concat-item_mean - 7\n",
      "Testing LinGreedy - ALS embeddings - item_concat-item_mean - 7\n",
      "Training LinGreedy - BPR embeddings - item_concat-item_mean - 7\n",
      "Testing LinGreedy - BPR embeddings - item_concat-item_mean - 7\n",
      "Training LinUCB - ALS embeddings - item_concat-item_mean - 8\n",
      "Testing LinUCB - ALS embeddings - item_concat-item_mean - 8\n",
      "Training LinUCB - BPR embeddings - item_concat-item_mean - 8\n",
      "Testing LinUCB - BPR embeddings - item_concat-item_mean - 8\n",
      "Training LinGreedy - ALS embeddings - item_concat-item_mean - 8\n",
      "Testing LinGreedy - ALS embeddings - item_concat-item_mean - 8\n",
      "Training LinGreedy - BPR embeddings - item_concat-item_mean - 8\n",
      "Testing LinGreedy - BPR embeddings - item_concat-item_mean - 8\n",
      "Training LinUCB - ALS embeddings - item_concat-item_mean - 9\n",
      "Testing LinUCB - ALS embeddings - item_concat-item_mean - 9\n",
      "Training LinUCB - BPR embeddings - item_concat-item_mean - 9\n",
      "Testing LinUCB - BPR embeddings - item_concat-item_mean - 9\n",
      "Training LinGreedy - ALS embeddings - item_concat-item_mean - 9\n",
      "Testing LinGreedy - ALS embeddings - item_concat-item_mean - 9\n",
      "Training LinGreedy - BPR embeddings - item_concat-item_mean - 9\n",
      "Testing LinGreedy - BPR embeddings - item_concat-item_mean - 9\n",
      "Training LinUCB - ALS embeddings - item_concat-item_mean - 10\n",
      "Testing LinUCB - ALS embeddings - item_concat-item_mean - 10\n",
      "Training LinUCB - BPR embeddings - item_concat-item_mean - 10\n",
      "Testing LinUCB - BPR embeddings - item_concat-item_mean - 10\n",
      "Training LinGreedy - ALS embeddings - item_concat-item_mean - 10\n",
      "Testing LinGreedy - ALS embeddings - item_concat-item_mean - 10\n",
      "Training LinGreedy - BPR embeddings - item_concat-item_mean - 10\n",
      "Testing LinGreedy - BPR embeddings - item_concat-item_mean - 10\n",
      "Training LinUCB - ALS embeddings - item_concat-user - 1\n",
      "Testing LinUCB - ALS embeddings - item_concat-user - 1\n",
      "Training LinUCB - BPR embeddings - item_concat-user - 1\n",
      "Testing LinUCB - BPR embeddings - item_concat-user - 1\n",
      "Training LinGreedy - ALS embeddings - item_concat-user - 1\n",
      "Testing LinGreedy - ALS embeddings - item_concat-user - 1\n",
      "Training LinGreedy - BPR embeddings - item_concat-user - 1\n",
      "Testing LinGreedy - BPR embeddings - item_concat-user - 1\n",
      "Training LinUCB - ALS embeddings - item_concat-user - 2\n",
      "Testing LinUCB - ALS embeddings - item_concat-user - 2\n",
      "Training LinUCB - BPR embeddings - item_concat-user - 2\n",
      "Testing LinUCB - BPR embeddings - item_concat-user - 2\n",
      "Training LinGreedy - ALS embeddings - item_concat-user - 2\n",
      "Testing LinGreedy - ALS embeddings - item_concat-user - 2\n",
      "Training LinGreedy - BPR embeddings - item_concat-user - 2\n",
      "Testing LinGreedy - BPR embeddings - item_concat-user - 2\n",
      "Training LinUCB - ALS embeddings - item_concat-user - 3\n",
      "Testing LinUCB - ALS embeddings - item_concat-user - 3\n",
      "Training LinUCB - BPR embeddings - item_concat-user - 3\n",
      "Testing LinUCB - BPR embeddings - item_concat-user - 3\n",
      "Training LinGreedy - ALS embeddings - item_concat-user - 3\n",
      "Testing LinGreedy - ALS embeddings - item_concat-user - 3\n",
      "Training LinGreedy - BPR embeddings - item_concat-user - 3\n",
      "Testing LinGreedy - BPR embeddings - item_concat-user - 3\n",
      "Training LinUCB - ALS embeddings - item_concat-user - 4\n",
      "Testing LinUCB - ALS embeddings - item_concat-user - 4\n",
      "Training LinUCB - BPR embeddings - item_concat-user - 4\n",
      "Testing LinUCB - BPR embeddings - item_concat-user - 4\n",
      "Training LinGreedy - ALS embeddings - item_concat-user - 4\n",
      "Testing LinGreedy - ALS embeddings - item_concat-user - 4\n",
      "Training LinGreedy - BPR embeddings - item_concat-user - 4\n",
      "Testing LinGreedy - BPR embeddings - item_concat-user - 4\n",
      "Training LinUCB - ALS embeddings - item_concat-user - 5\n",
      "Testing LinUCB - ALS embeddings - item_concat-user - 5\n",
      "Training LinUCB - BPR embeddings - item_concat-user - 5\n",
      "Testing LinUCB - BPR embeddings - item_concat-user - 5\n",
      "Training LinGreedy - ALS embeddings - item_concat-user - 5\n",
      "Testing LinGreedy - ALS embeddings - item_concat-user - 5\n",
      "Training LinGreedy - BPR embeddings - item_concat-user - 5\n",
      "Testing LinGreedy - BPR embeddings - item_concat-user - 5\n",
      "Training LinUCB - ALS embeddings - item_concat-user - 6\n",
      "Testing LinUCB - ALS embeddings - item_concat-user - 6\n",
      "Training LinUCB - BPR embeddings - item_concat-user - 6\n",
      "Testing LinUCB - BPR embeddings - item_concat-user - 6\n",
      "Training LinGreedy - ALS embeddings - item_concat-user - 6\n",
      "Testing LinGreedy - ALS embeddings - item_concat-user - 6\n",
      "Training LinGreedy - BPR embeddings - item_concat-user - 6\n",
      "Testing LinGreedy - BPR embeddings - item_concat-user - 6\n",
      "Training LinUCB - ALS embeddings - item_concat-user - 7\n",
      "Testing LinUCB - ALS embeddings - item_concat-user - 7\n",
      "Training LinUCB - BPR embeddings - item_concat-user - 7\n",
      "Testing LinUCB - BPR embeddings - item_concat-user - 7\n",
      "Training LinGreedy - ALS embeddings - item_concat-user - 7\n",
      "Testing LinGreedy - ALS embeddings - item_concat-user - 7\n",
      "Training LinGreedy - BPR embeddings - item_concat-user - 7\n",
      "Testing LinGreedy - BPR embeddings - item_concat-user - 7\n",
      "Training LinUCB - ALS embeddings - item_concat-user - 8\n",
      "Testing LinUCB - ALS embeddings - item_concat-user - 8\n",
      "Training LinUCB - BPR embeddings - item_concat-user - 8\n",
      "Testing LinUCB - BPR embeddings - item_concat-user - 8\n",
      "Training LinGreedy - ALS embeddings - item_concat-user - 8\n",
      "Testing LinGreedy - ALS embeddings - item_concat-user - 8\n",
      "Training LinGreedy - BPR embeddings - item_concat-user - 8\n",
      "Testing LinGreedy - BPR embeddings - item_concat-user - 8\n",
      "Training LinUCB - ALS embeddings - item_concat-user - 9\n",
      "Testing LinUCB - ALS embeddings - item_concat-user - 9\n",
      "Training LinUCB - BPR embeddings - item_concat-user - 9\n",
      "Testing LinUCB - BPR embeddings - item_concat-user - 9\n",
      "Training LinGreedy - ALS embeddings - item_concat-user - 9\n",
      "Testing LinGreedy - ALS embeddings - item_concat-user - 9\n",
      "Training LinGreedy - BPR embeddings - item_concat-user - 9\n",
      "Testing LinGreedy - BPR embeddings - item_concat-user - 9\n",
      "Training LinUCB - ALS embeddings - item_concat-user - 10\n",
      "Testing LinUCB - ALS embeddings - item_concat-user - 10\n",
      "Training LinUCB - BPR embeddings - item_concat-user - 10\n",
      "Testing LinUCB - BPR embeddings - item_concat-user - 10\n",
      "Training LinGreedy - ALS embeddings - item_concat-user - 10\n",
      "Testing LinGreedy - ALS embeddings - item_concat-user - 10\n",
      "Training LinGreedy - BPR embeddings - item_concat-user - 10\n",
      "Testing LinGreedy - BPR embeddings - item_concat-user - 10\n",
      "Training LinUCB - ALS embeddings - item_mean-user\n",
      "Testing LinUCB - ALS embeddings - item_mean-user\n",
      "Training LinUCB - BPR embeddings - item_mean-user\n",
      "Testing LinUCB - BPR embeddings - item_mean-user\n",
      "Training LinGreedy - ALS embeddings - item_mean-user\n",
      "Testing LinGreedy - ALS embeddings - item_mean-user\n",
      "Training LinGreedy - BPR embeddings - item_mean-user\n",
      "Testing LinGreedy - BPR embeddings - item_mean-user\n",
      "Training LinUCB - ALS embeddings - all - 1\n",
      "Testing LinUCB - ALS embeddings - all - 1\n",
      "Training LinUCB - BPR embeddings - all - 1\n",
      "Testing LinUCB - BPR embeddings - all - 1\n",
      "Training LinGreedy - ALS embeddings - all - 1\n",
      "Testing LinGreedy - ALS embeddings - all - 1\n",
      "Training LinGreedy - BPR embeddings - all - 1\n",
      "Testing LinGreedy - BPR embeddings - all - 1\n",
      "Training LinUCB - ALS embeddings - all - 2\n",
      "Testing LinUCB - ALS embeddings - all - 2\n",
      "Training LinUCB - BPR embeddings - all - 2\n",
      "Testing LinUCB - BPR embeddings - all - 2\n",
      "Training LinGreedy - ALS embeddings - all - 2\n",
      "Testing LinGreedy - ALS embeddings - all - 2\n",
      "Training LinGreedy - BPR embeddings - all - 2\n",
      "Testing LinGreedy - BPR embeddings - all - 2\n",
      "Training LinUCB - ALS embeddings - all - 3\n",
      "Testing LinUCB - ALS embeddings - all - 3\n",
      "Training LinUCB - BPR embeddings - all - 3\n",
      "Testing LinUCB - BPR embeddings - all - 3\n",
      "Training LinGreedy - ALS embeddings - all - 3\n",
      "Testing LinGreedy - ALS embeddings - all - 3\n",
      "Training LinGreedy - BPR embeddings - all - 3\n",
      "Testing LinGreedy - BPR embeddings - all - 3\n",
      "Training LinUCB - ALS embeddings - all - 4\n",
      "Testing LinUCB - ALS embeddings - all - 4\n",
      "Training LinUCB - BPR embeddings - all - 4\n",
      "Testing LinUCB - BPR embeddings - all - 4\n",
      "Training LinGreedy - ALS embeddings - all - 4\n",
      "Testing LinGreedy - ALS embeddings - all - 4\n",
      "Training LinGreedy - BPR embeddings - all - 4\n",
      "Testing LinGreedy - BPR embeddings - all - 4\n",
      "Training LinUCB - ALS embeddings - all - 5\n",
      "Testing LinUCB - ALS embeddings - all - 5\n",
      "Training LinUCB - BPR embeddings - all - 5\n",
      "Testing LinUCB - BPR embeddings - all - 5\n",
      "Training LinGreedy - ALS embeddings - all - 5\n",
      "Testing LinGreedy - ALS embeddings - all - 5\n",
      "Training LinGreedy - BPR embeddings - all - 5\n",
      "Testing LinGreedy - BPR embeddings - all - 5\n",
      "Training LinUCB - ALS embeddings - all - 6\n",
      "Testing LinUCB - ALS embeddings - all - 6\n",
      "Training LinUCB - BPR embeddings - all - 6\n",
      "Testing LinUCB - BPR embeddings - all - 6\n",
      "Training LinGreedy - ALS embeddings - all - 6\n",
      "Testing LinGreedy - ALS embeddings - all - 6\n",
      "Training LinGreedy - BPR embeddings - all - 6\n",
      "Testing LinGreedy - BPR embeddings - all - 6\n",
      "Training LinUCB - ALS embeddings - all - 7\n",
      "Testing LinUCB - ALS embeddings - all - 7\n",
      "Training LinUCB - BPR embeddings - all - 7\n",
      "Testing LinUCB - BPR embeddings - all - 7\n",
      "Training LinGreedy - ALS embeddings - all - 7\n",
      "Testing LinGreedy - ALS embeddings - all - 7\n",
      "Training LinGreedy - BPR embeddings - all - 7\n",
      "Testing LinGreedy - BPR embeddings - all - 7\n",
      "Training LinUCB - ALS embeddings - all - 8\n",
      "Testing LinUCB - ALS embeddings - all - 8\n",
      "Training LinUCB - BPR embeddings - all - 8\n",
      "Testing LinUCB - BPR embeddings - all - 8\n",
      "Training LinGreedy - ALS embeddings - all - 8\n",
      "Testing LinGreedy - ALS embeddings - all - 8\n",
      "Training LinGreedy - BPR embeddings - all - 8\n",
      "Testing LinGreedy - BPR embeddings - all - 8\n",
      "Training LinUCB - ALS embeddings - all - 9\n",
      "Testing LinUCB - ALS embeddings - all - 9\n",
      "Training LinUCB - BPR embeddings - all - 9\n",
      "Testing LinUCB - BPR embeddings - all - 9\n",
      "Training LinGreedy - ALS embeddings - all - 9\n",
      "Testing LinGreedy - ALS embeddings - all - 9\n",
      "Training LinGreedy - BPR embeddings - all - 9\n",
      "Testing LinGreedy - BPR embeddings - all - 9\n",
      "Training LinUCB - ALS embeddings - all - 10\n",
      "Testing LinUCB - ALS embeddings - all - 10\n",
      "Training LinUCB - BPR embeddings - all - 10\n",
      "Testing LinUCB - BPR embeddings - all - 10\n",
      "Training LinGreedy - ALS embeddings - all - 10\n",
      "Testing LinGreedy - ALS embeddings - all - 10\n",
      "Training LinGreedy - BPR embeddings - all - 10\n",
      "Testing LinGreedy - BPR embeddings - all - 10\n",
      "Current extra train size: 0.7\n",
      "Training ALS\n"
     ]
    },
    {
     "data": {
      "application/vnd.jupyter.widget-view+json": {
       "model_id": "930dbfbb404743f390c1d3bf026e4b7f",
       "version_major": 2,
       "version_minor": 0
      },
      "text/plain": [
       "  0%|          | 0/15 [00:00<?, ?it/s]"
      ]
     },
     "metadata": {},
     "output_type": "display_data"
    },
    {
     "name": "stdout",
     "output_type": "stream",
     "text": [
      "Testing ALS\n",
      "Training BPR\n"
     ]
    },
    {
     "data": {
      "application/vnd.jupyter.widget-view+json": {
       "model_id": "2b5a0a6543b447be858fc163445bc7f3",
       "version_major": 2,
       "version_minor": 0
      },
      "text/plain": [
       "  0%|          | 0/100 [00:00<?, ?it/s]"
      ]
     },
     "metadata": {},
     "output_type": "display_data"
    },
    {
     "name": "stdout",
     "output_type": "stream",
     "text": [
      "Testing BPR\n",
      "Training LinUCB - ALS embeddings - item_concat-item_mean - 1\n",
      "Testing LinUCB - ALS embeddings - item_concat-item_mean - 1\n",
      "Training LinUCB - BPR embeddings - item_concat-item_mean - 1\n",
      "Testing LinUCB - BPR embeddings - item_concat-item_mean - 1\n",
      "Training LinGreedy - ALS embeddings - item_concat-item_mean - 1\n",
      "Testing LinGreedy - ALS embeddings - item_concat-item_mean - 1\n",
      "Training LinGreedy - BPR embeddings - item_concat-item_mean - 1\n",
      "Testing LinGreedy - BPR embeddings - item_concat-item_mean - 1\n",
      "Training LinUCB - ALS embeddings - item_concat-item_mean - 2\n",
      "Testing LinUCB - ALS embeddings - item_concat-item_mean - 2\n",
      "Training LinUCB - BPR embeddings - item_concat-item_mean - 2\n",
      "Testing LinUCB - BPR embeddings - item_concat-item_mean - 2\n",
      "Training LinGreedy - ALS embeddings - item_concat-item_mean - 2\n",
      "Testing LinGreedy - ALS embeddings - item_concat-item_mean - 2\n",
      "Training LinGreedy - BPR embeddings - item_concat-item_mean - 2\n",
      "Testing LinGreedy - BPR embeddings - item_concat-item_mean - 2\n",
      "Training LinUCB - ALS embeddings - item_concat-item_mean - 3\n",
      "Testing LinUCB - ALS embeddings - item_concat-item_mean - 3\n",
      "Training LinUCB - BPR embeddings - item_concat-item_mean - 3\n",
      "Testing LinUCB - BPR embeddings - item_concat-item_mean - 3\n",
      "Training LinGreedy - ALS embeddings - item_concat-item_mean - 3\n",
      "Testing LinGreedy - ALS embeddings - item_concat-item_mean - 3\n",
      "Training LinGreedy - BPR embeddings - item_concat-item_mean - 3\n",
      "Testing LinGreedy - BPR embeddings - item_concat-item_mean - 3\n",
      "Training LinUCB - ALS embeddings - item_concat-item_mean - 4\n",
      "Testing LinUCB - ALS embeddings - item_concat-item_mean - 4\n",
      "Training LinUCB - BPR embeddings - item_concat-item_mean - 4\n",
      "Testing LinUCB - BPR embeddings - item_concat-item_mean - 4\n",
      "Training LinGreedy - ALS embeddings - item_concat-item_mean - 4\n",
      "Testing LinGreedy - ALS embeddings - item_concat-item_mean - 4\n",
      "Training LinGreedy - BPR embeddings - item_concat-item_mean - 4\n",
      "Testing LinGreedy - BPR embeddings - item_concat-item_mean - 4\n",
      "Training LinUCB - ALS embeddings - item_concat-item_mean - 5\n",
      "Testing LinUCB - ALS embeddings - item_concat-item_mean - 5\n",
      "Training LinUCB - BPR embeddings - item_concat-item_mean - 5\n",
      "Testing LinUCB - BPR embeddings - item_concat-item_mean - 5\n",
      "Training LinGreedy - ALS embeddings - item_concat-item_mean - 5\n",
      "Testing LinGreedy - ALS embeddings - item_concat-item_mean - 5\n",
      "Training LinGreedy - BPR embeddings - item_concat-item_mean - 5\n",
      "Testing LinGreedy - BPR embeddings - item_concat-item_mean - 5\n",
      "Training LinUCB - ALS embeddings - item_concat-item_mean - 6\n",
      "Testing LinUCB - ALS embeddings - item_concat-item_mean - 6\n",
      "Training LinUCB - BPR embeddings - item_concat-item_mean - 6\n",
      "Testing LinUCB - BPR embeddings - item_concat-item_mean - 6\n",
      "Training LinGreedy - ALS embeddings - item_concat-item_mean - 6\n",
      "Testing LinGreedy - ALS embeddings - item_concat-item_mean - 6\n",
      "Training LinGreedy - BPR embeddings - item_concat-item_mean - 6\n",
      "Testing LinGreedy - BPR embeddings - item_concat-item_mean - 6\n",
      "Training LinUCB - ALS embeddings - item_concat-item_mean - 7\n",
      "Testing LinUCB - ALS embeddings - item_concat-item_mean - 7\n",
      "Training LinUCB - BPR embeddings - item_concat-item_mean - 7\n",
      "Testing LinUCB - BPR embeddings - item_concat-item_mean - 7\n",
      "Training LinGreedy - ALS embeddings - item_concat-item_mean - 7\n",
      "Testing LinGreedy - ALS embeddings - item_concat-item_mean - 7\n",
      "Training LinGreedy - BPR embeddings - item_concat-item_mean - 7\n",
      "Testing LinGreedy - BPR embeddings - item_concat-item_mean - 7\n",
      "Training LinUCB - ALS embeddings - item_concat-item_mean - 8\n",
      "Testing LinUCB - ALS embeddings - item_concat-item_mean - 8\n",
      "Training LinUCB - BPR embeddings - item_concat-item_mean - 8\n",
      "Testing LinUCB - BPR embeddings - item_concat-item_mean - 8\n",
      "Training LinGreedy - ALS embeddings - item_concat-item_mean - 8\n",
      "Testing LinGreedy - ALS embeddings - item_concat-item_mean - 8\n",
      "Training LinGreedy - BPR embeddings - item_concat-item_mean - 8\n",
      "Testing LinGreedy - BPR embeddings - item_concat-item_mean - 8\n",
      "Training LinUCB - ALS embeddings - item_concat-item_mean - 9\n",
      "Testing LinUCB - ALS embeddings - item_concat-item_mean - 9\n",
      "Training LinUCB - BPR embeddings - item_concat-item_mean - 9\n",
      "Testing LinUCB - BPR embeddings - item_concat-item_mean - 9\n",
      "Training LinGreedy - ALS embeddings - item_concat-item_mean - 9\n",
      "Testing LinGreedy - ALS embeddings - item_concat-item_mean - 9\n",
      "Training LinGreedy - BPR embeddings - item_concat-item_mean - 9\n",
      "Testing LinGreedy - BPR embeddings - item_concat-item_mean - 9\n",
      "Training LinUCB - ALS embeddings - item_concat-item_mean - 10\n",
      "Testing LinUCB - ALS embeddings - item_concat-item_mean - 10\n",
      "Training LinUCB - BPR embeddings - item_concat-item_mean - 10\n",
      "Testing LinUCB - BPR embeddings - item_concat-item_mean - 10\n",
      "Training LinGreedy - ALS embeddings - item_concat-item_mean - 10\n",
      "Testing LinGreedy - ALS embeddings - item_concat-item_mean - 10\n",
      "Training LinGreedy - BPR embeddings - item_concat-item_mean - 10\n",
      "Testing LinGreedy - BPR embeddings - item_concat-item_mean - 10\n",
      "Training LinUCB - ALS embeddings - item_concat-user - 1\n",
      "Testing LinUCB - ALS embeddings - item_concat-user - 1\n",
      "Training LinUCB - BPR embeddings - item_concat-user - 1\n",
      "Testing LinUCB - BPR embeddings - item_concat-user - 1\n",
      "Training LinGreedy - ALS embeddings - item_concat-user - 1\n",
      "Testing LinGreedy - ALS embeddings - item_concat-user - 1\n",
      "Training LinGreedy - BPR embeddings - item_concat-user - 1\n",
      "Testing LinGreedy - BPR embeddings - item_concat-user - 1\n",
      "Training LinUCB - ALS embeddings - item_concat-user - 2\n",
      "Testing LinUCB - ALS embeddings - item_concat-user - 2\n",
      "Training LinUCB - BPR embeddings - item_concat-user - 2\n",
      "Testing LinUCB - BPR embeddings - item_concat-user - 2\n",
      "Training LinGreedy - ALS embeddings - item_concat-user - 2\n",
      "Testing LinGreedy - ALS embeddings - item_concat-user - 2\n",
      "Training LinGreedy - BPR embeddings - item_concat-user - 2\n",
      "Testing LinGreedy - BPR embeddings - item_concat-user - 2\n",
      "Training LinUCB - ALS embeddings - item_concat-user - 3\n",
      "Testing LinUCB - ALS embeddings - item_concat-user - 3\n",
      "Training LinUCB - BPR embeddings - item_concat-user - 3\n",
      "Testing LinUCB - BPR embeddings - item_concat-user - 3\n",
      "Training LinGreedy - ALS embeddings - item_concat-user - 3\n",
      "Testing LinGreedy - ALS embeddings - item_concat-user - 3\n",
      "Training LinGreedy - BPR embeddings - item_concat-user - 3\n",
      "Testing LinGreedy - BPR embeddings - item_concat-user - 3\n",
      "Training LinUCB - ALS embeddings - item_concat-user - 4\n",
      "Testing LinUCB - ALS embeddings - item_concat-user - 4\n",
      "Training LinUCB - BPR embeddings - item_concat-user - 4\n",
      "Testing LinUCB - BPR embeddings - item_concat-user - 4\n",
      "Training LinGreedy - ALS embeddings - item_concat-user - 4\n",
      "Testing LinGreedy - ALS embeddings - item_concat-user - 4\n",
      "Training LinGreedy - BPR embeddings - item_concat-user - 4\n",
      "Testing LinGreedy - BPR embeddings - item_concat-user - 4\n",
      "Training LinUCB - ALS embeddings - item_concat-user - 5\n",
      "Testing LinUCB - ALS embeddings - item_concat-user - 5\n",
      "Training LinUCB - BPR embeddings - item_concat-user - 5\n",
      "Testing LinUCB - BPR embeddings - item_concat-user - 5\n",
      "Training LinGreedy - ALS embeddings - item_concat-user - 5\n",
      "Testing LinGreedy - ALS embeddings - item_concat-user - 5\n",
      "Training LinGreedy - BPR embeddings - item_concat-user - 5\n",
      "Testing LinGreedy - BPR embeddings - item_concat-user - 5\n",
      "Training LinUCB - ALS embeddings - item_concat-user - 6\n",
      "Testing LinUCB - ALS embeddings - item_concat-user - 6\n",
      "Training LinUCB - BPR embeddings - item_concat-user - 6\n",
      "Testing LinUCB - BPR embeddings - item_concat-user - 6\n",
      "Training LinGreedy - ALS embeddings - item_concat-user - 6\n",
      "Testing LinGreedy - ALS embeddings - item_concat-user - 6\n",
      "Training LinGreedy - BPR embeddings - item_concat-user - 6\n",
      "Testing LinGreedy - BPR embeddings - item_concat-user - 6\n",
      "Training LinUCB - ALS embeddings - item_concat-user - 7\n",
      "Testing LinUCB - ALS embeddings - item_concat-user - 7\n",
      "Training LinUCB - BPR embeddings - item_concat-user - 7\n",
      "Testing LinUCB - BPR embeddings - item_concat-user - 7\n",
      "Training LinGreedy - ALS embeddings - item_concat-user - 7\n",
      "Testing LinGreedy - ALS embeddings - item_concat-user - 7\n",
      "Training LinGreedy - BPR embeddings - item_concat-user - 7\n",
      "Testing LinGreedy - BPR embeddings - item_concat-user - 7\n",
      "Training LinUCB - ALS embeddings - item_concat-user - 8\n",
      "Testing LinUCB - ALS embeddings - item_concat-user - 8\n",
      "Training LinUCB - BPR embeddings - item_concat-user - 8\n",
      "Testing LinUCB - BPR embeddings - item_concat-user - 8\n",
      "Training LinGreedy - ALS embeddings - item_concat-user - 8\n",
      "Testing LinGreedy - ALS embeddings - item_concat-user - 8\n",
      "Training LinGreedy - BPR embeddings - item_concat-user - 8\n",
      "Testing LinGreedy - BPR embeddings - item_concat-user - 8\n",
      "Training LinUCB - ALS embeddings - item_concat-user - 9\n",
      "Testing LinUCB - ALS embeddings - item_concat-user - 9\n",
      "Training LinUCB - BPR embeddings - item_concat-user - 9\n",
      "Testing LinUCB - BPR embeddings - item_concat-user - 9\n",
      "Training LinGreedy - ALS embeddings - item_concat-user - 9\n",
      "Testing LinGreedy - ALS embeddings - item_concat-user - 9\n",
      "Training LinGreedy - BPR embeddings - item_concat-user - 9\n",
      "Testing LinGreedy - BPR embeddings - item_concat-user - 9\n",
      "Training LinUCB - ALS embeddings - item_concat-user - 10\n",
      "Testing LinUCB - ALS embeddings - item_concat-user - 10\n",
      "Training LinUCB - BPR embeddings - item_concat-user - 10\n",
      "Testing LinUCB - BPR embeddings - item_concat-user - 10\n",
      "Training LinGreedy - ALS embeddings - item_concat-user - 10\n",
      "Testing LinGreedy - ALS embeddings - item_concat-user - 10\n",
      "Training LinGreedy - BPR embeddings - item_concat-user - 10\n",
      "Testing LinGreedy - BPR embeddings - item_concat-user - 10\n",
      "Training LinUCB - ALS embeddings - item_mean-user\n",
      "Testing LinUCB - ALS embeddings - item_mean-user\n",
      "Training LinUCB - BPR embeddings - item_mean-user\n",
      "Testing LinUCB - BPR embeddings - item_mean-user\n",
      "Training LinGreedy - ALS embeddings - item_mean-user\n",
      "Testing LinGreedy - ALS embeddings - item_mean-user\n",
      "Training LinGreedy - BPR embeddings - item_mean-user\n",
      "Testing LinGreedy - BPR embeddings - item_mean-user\n",
      "Training LinUCB - ALS embeddings - all - 1\n",
      "Testing LinUCB - ALS embeddings - all - 1\n",
      "Training LinUCB - BPR embeddings - all - 1\n",
      "Testing LinUCB - BPR embeddings - all - 1\n",
      "Training LinGreedy - ALS embeddings - all - 1\n",
      "Testing LinGreedy - ALS embeddings - all - 1\n",
      "Training LinGreedy - BPR embeddings - all - 1\n",
      "Testing LinGreedy - BPR embeddings - all - 1\n",
      "Training LinUCB - ALS embeddings - all - 2\n",
      "Testing LinUCB - ALS embeddings - all - 2\n",
      "Training LinUCB - BPR embeddings - all - 2\n",
      "Testing LinUCB - BPR embeddings - all - 2\n",
      "Training LinGreedy - ALS embeddings - all - 2\n",
      "Testing LinGreedy - ALS embeddings - all - 2\n",
      "Training LinGreedy - BPR embeddings - all - 2\n",
      "Testing LinGreedy - BPR embeddings - all - 2\n",
      "Training LinUCB - ALS embeddings - all - 3\n",
      "Testing LinUCB - ALS embeddings - all - 3\n",
      "Training LinUCB - BPR embeddings - all - 3\n",
      "Testing LinUCB - BPR embeddings - all - 3\n",
      "Training LinGreedy - ALS embeddings - all - 3\n",
      "Testing LinGreedy - ALS embeddings - all - 3\n",
      "Training LinGreedy - BPR embeddings - all - 3\n",
      "Testing LinGreedy - BPR embeddings - all - 3\n",
      "Training LinUCB - ALS embeddings - all - 4\n",
      "Testing LinUCB - ALS embeddings - all - 4\n",
      "Training LinUCB - BPR embeddings - all - 4\n",
      "Testing LinUCB - BPR embeddings - all - 4\n",
      "Training LinGreedy - ALS embeddings - all - 4\n",
      "Testing LinGreedy - ALS embeddings - all - 4\n",
      "Training LinGreedy - BPR embeddings - all - 4\n",
      "Testing LinGreedy - BPR embeddings - all - 4\n",
      "Training LinUCB - ALS embeddings - all - 5\n",
      "Testing LinUCB - ALS embeddings - all - 5\n",
      "Training LinUCB - BPR embeddings - all - 5\n",
      "Testing LinUCB - BPR embeddings - all - 5\n",
      "Training LinGreedy - ALS embeddings - all - 5\n",
      "Testing LinGreedy - ALS embeddings - all - 5\n",
      "Training LinGreedy - BPR embeddings - all - 5\n",
      "Testing LinGreedy - BPR embeddings - all - 5\n",
      "Training LinUCB - ALS embeddings - all - 6\n",
      "Testing LinUCB - ALS embeddings - all - 6\n",
      "Training LinUCB - BPR embeddings - all - 6\n",
      "Testing LinUCB - BPR embeddings - all - 6\n",
      "Training LinGreedy - ALS embeddings - all - 6\n",
      "Testing LinGreedy - ALS embeddings - all - 6\n",
      "Training LinGreedy - BPR embeddings - all - 6\n",
      "Testing LinGreedy - BPR embeddings - all - 6\n",
      "Training LinUCB - ALS embeddings - all - 7\n",
      "Testing LinUCB - ALS embeddings - all - 7\n",
      "Training LinUCB - BPR embeddings - all - 7\n",
      "Testing LinUCB - BPR embeddings - all - 7\n",
      "Training LinGreedy - ALS embeddings - all - 7\n",
      "Testing LinGreedy - ALS embeddings - all - 7\n",
      "Training LinGreedy - BPR embeddings - all - 7\n",
      "Testing LinGreedy - BPR embeddings - all - 7\n",
      "Training LinUCB - ALS embeddings - all - 8\n",
      "Testing LinUCB - ALS embeddings - all - 8\n",
      "Training LinUCB - BPR embeddings - all - 8\n",
      "Testing LinUCB - BPR embeddings - all - 8\n",
      "Training LinGreedy - ALS embeddings - all - 8\n",
      "Testing LinGreedy - ALS embeddings - all - 8\n",
      "Training LinGreedy - BPR embeddings - all - 8\n",
      "Testing LinGreedy - BPR embeddings - all - 8\n",
      "Training LinUCB - ALS embeddings - all - 9\n",
      "Testing LinUCB - ALS embeddings - all - 9\n",
      "Training LinUCB - BPR embeddings - all - 9\n",
      "Testing LinUCB - BPR embeddings - all - 9\n",
      "Training LinGreedy - ALS embeddings - all - 9\n",
      "Testing LinGreedy - ALS embeddings - all - 9\n",
      "Training LinGreedy - BPR embeddings - all - 9\n",
      "Testing LinGreedy - BPR embeddings - all - 9\n",
      "Training LinUCB - ALS embeddings - all - 10\n",
      "Testing LinUCB - ALS embeddings - all - 10\n",
      "Training LinUCB - BPR embeddings - all - 10\n",
      "Testing LinUCB - BPR embeddings - all - 10\n",
      "Training LinGreedy - ALS embeddings - all - 10\n",
      "Testing LinGreedy - ALS embeddings - all - 10\n",
      "Training LinGreedy - BPR embeddings - all - 10\n",
      "Testing LinGreedy - BPR embeddings - all - 10\n",
      "Current extra train size: 0.8\n",
      "Training ALS\n"
     ]
    },
    {
     "data": {
      "application/vnd.jupyter.widget-view+json": {
       "model_id": "a0aa3f459f5b43da81934e5699b382cb",
       "version_major": 2,
       "version_minor": 0
      },
      "text/plain": [
       "  0%|          | 0/15 [00:00<?, ?it/s]"
      ]
     },
     "metadata": {},
     "output_type": "display_data"
    },
    {
     "name": "stdout",
     "output_type": "stream",
     "text": [
      "Testing ALS\n",
      "Training BPR\n"
     ]
    },
    {
     "data": {
      "application/vnd.jupyter.widget-view+json": {
       "model_id": "65cf5851501a4972b6bb3dc3de94cd28",
       "version_major": 2,
       "version_minor": 0
      },
      "text/plain": [
       "  0%|          | 0/100 [00:00<?, ?it/s]"
      ]
     },
     "metadata": {},
     "output_type": "display_data"
    },
    {
     "name": "stdout",
     "output_type": "stream",
     "text": [
      "Testing BPR\n",
      "Training LinUCB - ALS embeddings - item_concat-item_mean - 1\n",
      "Testing LinUCB - ALS embeddings - item_concat-item_mean - 1\n",
      "Training LinUCB - BPR embeddings - item_concat-item_mean - 1\n",
      "Testing LinUCB - BPR embeddings - item_concat-item_mean - 1\n",
      "Training LinGreedy - ALS embeddings - item_concat-item_mean - 1\n",
      "Testing LinGreedy - ALS embeddings - item_concat-item_mean - 1\n",
      "Training LinGreedy - BPR embeddings - item_concat-item_mean - 1\n",
      "Testing LinGreedy - BPR embeddings - item_concat-item_mean - 1\n",
      "Training LinUCB - ALS embeddings - item_concat-item_mean - 2\n",
      "Testing LinUCB - ALS embeddings - item_concat-item_mean - 2\n",
      "Training LinUCB - BPR embeddings - item_concat-item_mean - 2\n",
      "Testing LinUCB - BPR embeddings - item_concat-item_mean - 2\n",
      "Training LinGreedy - ALS embeddings - item_concat-item_mean - 2\n",
      "Testing LinGreedy - ALS embeddings - item_concat-item_mean - 2\n",
      "Training LinGreedy - BPR embeddings - item_concat-item_mean - 2\n",
      "Testing LinGreedy - BPR embeddings - item_concat-item_mean - 2\n",
      "Training LinUCB - ALS embeddings - item_concat-item_mean - 3\n",
      "Testing LinUCB - ALS embeddings - item_concat-item_mean - 3\n",
      "Training LinUCB - BPR embeddings - item_concat-item_mean - 3\n",
      "Testing LinUCB - BPR embeddings - item_concat-item_mean - 3\n",
      "Training LinGreedy - ALS embeddings - item_concat-item_mean - 3\n",
      "Testing LinGreedy - ALS embeddings - item_concat-item_mean - 3\n",
      "Training LinGreedy - BPR embeddings - item_concat-item_mean - 3\n",
      "Testing LinGreedy - BPR embeddings - item_concat-item_mean - 3\n",
      "Training LinUCB - ALS embeddings - item_concat-item_mean - 4\n",
      "Testing LinUCB - ALS embeddings - item_concat-item_mean - 4\n",
      "Training LinUCB - BPR embeddings - item_concat-item_mean - 4\n",
      "Testing LinUCB - BPR embeddings - item_concat-item_mean - 4\n",
      "Training LinGreedy - ALS embeddings - item_concat-item_mean - 4\n",
      "Testing LinGreedy - ALS embeddings - item_concat-item_mean - 4\n",
      "Training LinGreedy - BPR embeddings - item_concat-item_mean - 4\n",
      "Testing LinGreedy - BPR embeddings - item_concat-item_mean - 4\n",
      "Training LinUCB - ALS embeddings - item_concat-item_mean - 5\n",
      "Testing LinUCB - ALS embeddings - item_concat-item_mean - 5\n",
      "Training LinUCB - BPR embeddings - item_concat-item_mean - 5\n",
      "Testing LinUCB - BPR embeddings - item_concat-item_mean - 5\n",
      "Training LinGreedy - ALS embeddings - item_concat-item_mean - 5\n",
      "Testing LinGreedy - ALS embeddings - item_concat-item_mean - 5\n",
      "Training LinGreedy - BPR embeddings - item_concat-item_mean - 5\n",
      "Testing LinGreedy - BPR embeddings - item_concat-item_mean - 5\n",
      "Training LinUCB - ALS embeddings - item_concat-item_mean - 6\n",
      "Testing LinUCB - ALS embeddings - item_concat-item_mean - 6\n",
      "Training LinUCB - BPR embeddings - item_concat-item_mean - 6\n",
      "Testing LinUCB - BPR embeddings - item_concat-item_mean - 6\n",
      "Training LinGreedy - ALS embeddings - item_concat-item_mean - 6\n",
      "Testing LinGreedy - ALS embeddings - item_concat-item_mean - 6\n",
      "Training LinGreedy - BPR embeddings - item_concat-item_mean - 6\n",
      "Testing LinGreedy - BPR embeddings - item_concat-item_mean - 6\n",
      "Training LinUCB - ALS embeddings - item_concat-item_mean - 7\n",
      "Testing LinUCB - ALS embeddings - item_concat-item_mean - 7\n",
      "Training LinUCB - BPR embeddings - item_concat-item_mean - 7\n",
      "Testing LinUCB - BPR embeddings - item_concat-item_mean - 7\n",
      "Training LinGreedy - ALS embeddings - item_concat-item_mean - 7\n",
      "Testing LinGreedy - ALS embeddings - item_concat-item_mean - 7\n",
      "Training LinGreedy - BPR embeddings - item_concat-item_mean - 7\n",
      "Testing LinGreedy - BPR embeddings - item_concat-item_mean - 7\n",
      "Training LinUCB - ALS embeddings - item_concat-item_mean - 8\n",
      "Testing LinUCB - ALS embeddings - item_concat-item_mean - 8\n",
      "Training LinUCB - BPR embeddings - item_concat-item_mean - 8\n",
      "Testing LinUCB - BPR embeddings - item_concat-item_mean - 8\n",
      "Training LinGreedy - ALS embeddings - item_concat-item_mean - 8\n",
      "Testing LinGreedy - ALS embeddings - item_concat-item_mean - 8\n",
      "Training LinGreedy - BPR embeddings - item_concat-item_mean - 8\n",
      "Testing LinGreedy - BPR embeddings - item_concat-item_mean - 8\n",
      "Training LinUCB - ALS embeddings - item_concat-item_mean - 9\n",
      "Testing LinUCB - ALS embeddings - item_concat-item_mean - 9\n",
      "Training LinUCB - BPR embeddings - item_concat-item_mean - 9\n",
      "Testing LinUCB - BPR embeddings - item_concat-item_mean - 9\n",
      "Training LinGreedy - ALS embeddings - item_concat-item_mean - 9\n",
      "Testing LinGreedy - ALS embeddings - item_concat-item_mean - 9\n",
      "Training LinGreedy - BPR embeddings - item_concat-item_mean - 9\n",
      "Testing LinGreedy - BPR embeddings - item_concat-item_mean - 9\n",
      "Training LinUCB - ALS embeddings - item_concat-item_mean - 10\n",
      "Testing LinUCB - ALS embeddings - item_concat-item_mean - 10\n",
      "Training LinUCB - BPR embeddings - item_concat-item_mean - 10\n",
      "Testing LinUCB - BPR embeddings - item_concat-item_mean - 10\n",
      "Training LinGreedy - ALS embeddings - item_concat-item_mean - 10\n",
      "Testing LinGreedy - ALS embeddings - item_concat-item_mean - 10\n",
      "Training LinGreedy - BPR embeddings - item_concat-item_mean - 10\n",
      "Testing LinGreedy - BPR embeddings - item_concat-item_mean - 10\n",
      "Training LinUCB - ALS embeddings - item_concat-user - 1\n",
      "Testing LinUCB - ALS embeddings - item_concat-user - 1\n",
      "Training LinUCB - BPR embeddings - item_concat-user - 1\n",
      "Testing LinUCB - BPR embeddings - item_concat-user - 1\n",
      "Training LinGreedy - ALS embeddings - item_concat-user - 1\n",
      "Testing LinGreedy - ALS embeddings - item_concat-user - 1\n",
      "Training LinGreedy - BPR embeddings - item_concat-user - 1\n",
      "Testing LinGreedy - BPR embeddings - item_concat-user - 1\n",
      "Training LinUCB - ALS embeddings - item_concat-user - 2\n",
      "Testing LinUCB - ALS embeddings - item_concat-user - 2\n",
      "Training LinUCB - BPR embeddings - item_concat-user - 2\n",
      "Testing LinUCB - BPR embeddings - item_concat-user - 2\n",
      "Training LinGreedy - ALS embeddings - item_concat-user - 2\n",
      "Testing LinGreedy - ALS embeddings - item_concat-user - 2\n",
      "Training LinGreedy - BPR embeddings - item_concat-user - 2\n",
      "Testing LinGreedy - BPR embeddings - item_concat-user - 2\n",
      "Training LinUCB - ALS embeddings - item_concat-user - 3\n",
      "Testing LinUCB - ALS embeddings - item_concat-user - 3\n",
      "Training LinUCB - BPR embeddings - item_concat-user - 3\n",
      "Testing LinUCB - BPR embeddings - item_concat-user - 3\n",
      "Training LinGreedy - ALS embeddings - item_concat-user - 3\n",
      "Testing LinGreedy - ALS embeddings - item_concat-user - 3\n",
      "Training LinGreedy - BPR embeddings - item_concat-user - 3\n",
      "Testing LinGreedy - BPR embeddings - item_concat-user - 3\n",
      "Training LinUCB - ALS embeddings - item_concat-user - 4\n",
      "Testing LinUCB - ALS embeddings - item_concat-user - 4\n",
      "Training LinUCB - BPR embeddings - item_concat-user - 4\n",
      "Testing LinUCB - BPR embeddings - item_concat-user - 4\n",
      "Training LinGreedy - ALS embeddings - item_concat-user - 4\n",
      "Testing LinGreedy - ALS embeddings - item_concat-user - 4\n",
      "Training LinGreedy - BPR embeddings - item_concat-user - 4\n",
      "Testing LinGreedy - BPR embeddings - item_concat-user - 4\n",
      "Training LinUCB - ALS embeddings - item_concat-user - 5\n",
      "Testing LinUCB - ALS embeddings - item_concat-user - 5\n",
      "Training LinUCB - BPR embeddings - item_concat-user - 5\n",
      "Testing LinUCB - BPR embeddings - item_concat-user - 5\n",
      "Training LinGreedy - ALS embeddings - item_concat-user - 5\n",
      "Testing LinGreedy - ALS embeddings - item_concat-user - 5\n",
      "Training LinGreedy - BPR embeddings - item_concat-user - 5\n",
      "Testing LinGreedy - BPR embeddings - item_concat-user - 5\n",
      "Training LinUCB - ALS embeddings - item_concat-user - 6\n",
      "Testing LinUCB - ALS embeddings - item_concat-user - 6\n",
      "Training LinUCB - BPR embeddings - item_concat-user - 6\n",
      "Testing LinUCB - BPR embeddings - item_concat-user - 6\n",
      "Training LinGreedy - ALS embeddings - item_concat-user - 6\n",
      "Testing LinGreedy - ALS embeddings - item_concat-user - 6\n",
      "Training LinGreedy - BPR embeddings - item_concat-user - 6\n",
      "Testing LinGreedy - BPR embeddings - item_concat-user - 6\n",
      "Training LinUCB - ALS embeddings - item_concat-user - 7\n",
      "Testing LinUCB - ALS embeddings - item_concat-user - 7\n",
      "Training LinUCB - BPR embeddings - item_concat-user - 7\n",
      "Testing LinUCB - BPR embeddings - item_concat-user - 7\n",
      "Training LinGreedy - ALS embeddings - item_concat-user - 7\n",
      "Testing LinGreedy - ALS embeddings - item_concat-user - 7\n",
      "Training LinGreedy - BPR embeddings - item_concat-user - 7\n",
      "Testing LinGreedy - BPR embeddings - item_concat-user - 7\n",
      "Training LinUCB - ALS embeddings - item_concat-user - 8\n",
      "Testing LinUCB - ALS embeddings - item_concat-user - 8\n",
      "Training LinUCB - BPR embeddings - item_concat-user - 8\n",
      "Testing LinUCB - BPR embeddings - item_concat-user - 8\n",
      "Training LinGreedy - ALS embeddings - item_concat-user - 8\n",
      "Testing LinGreedy - ALS embeddings - item_concat-user - 8\n",
      "Training LinGreedy - BPR embeddings - item_concat-user - 8\n",
      "Testing LinGreedy - BPR embeddings - item_concat-user - 8\n",
      "Training LinUCB - ALS embeddings - item_concat-user - 9\n",
      "Testing LinUCB - ALS embeddings - item_concat-user - 9\n",
      "Training LinUCB - BPR embeddings - item_concat-user - 9\n",
      "Testing LinUCB - BPR embeddings - item_concat-user - 9\n",
      "Training LinGreedy - ALS embeddings - item_concat-user - 9\n",
      "Testing LinGreedy - ALS embeddings - item_concat-user - 9\n",
      "Training LinGreedy - BPR embeddings - item_concat-user - 9\n",
      "Testing LinGreedy - BPR embeddings - item_concat-user - 9\n",
      "Training LinUCB - ALS embeddings - item_concat-user - 10\n",
      "Testing LinUCB - ALS embeddings - item_concat-user - 10\n",
      "Training LinUCB - BPR embeddings - item_concat-user - 10\n",
      "Testing LinUCB - BPR embeddings - item_concat-user - 10\n",
      "Training LinGreedy - ALS embeddings - item_concat-user - 10\n",
      "Testing LinGreedy - ALS embeddings - item_concat-user - 10\n",
      "Training LinGreedy - BPR embeddings - item_concat-user - 10\n",
      "Testing LinGreedy - BPR embeddings - item_concat-user - 10\n",
      "Training LinUCB - ALS embeddings - item_mean-user\n",
      "Testing LinUCB - ALS embeddings - item_mean-user\n",
      "Training LinUCB - BPR embeddings - item_mean-user\n",
      "Testing LinUCB - BPR embeddings - item_mean-user\n",
      "Training LinGreedy - ALS embeddings - item_mean-user\n",
      "Testing LinGreedy - ALS embeddings - item_mean-user\n",
      "Training LinGreedy - BPR embeddings - item_mean-user\n",
      "Testing LinGreedy - BPR embeddings - item_mean-user\n",
      "Training LinUCB - ALS embeddings - all - 1\n",
      "Testing LinUCB - ALS embeddings - all - 1\n",
      "Training LinUCB - BPR embeddings - all - 1\n",
      "Testing LinUCB - BPR embeddings - all - 1\n",
      "Training LinGreedy - ALS embeddings - all - 1\n",
      "Testing LinGreedy - ALS embeddings - all - 1\n",
      "Training LinGreedy - BPR embeddings - all - 1\n",
      "Testing LinGreedy - BPR embeddings - all - 1\n",
      "Training LinUCB - ALS embeddings - all - 2\n",
      "Testing LinUCB - ALS embeddings - all - 2\n",
      "Training LinUCB - BPR embeddings - all - 2\n",
      "Testing LinUCB - BPR embeddings - all - 2\n",
      "Training LinGreedy - ALS embeddings - all - 2\n",
      "Testing LinGreedy - ALS embeddings - all - 2\n",
      "Training LinGreedy - BPR embeddings - all - 2\n",
      "Testing LinGreedy - BPR embeddings - all - 2\n",
      "Training LinUCB - ALS embeddings - all - 3\n",
      "Testing LinUCB - ALS embeddings - all - 3\n",
      "Training LinUCB - BPR embeddings - all - 3\n",
      "Testing LinUCB - BPR embeddings - all - 3\n",
      "Training LinGreedy - ALS embeddings - all - 3\n",
      "Testing LinGreedy - ALS embeddings - all - 3\n",
      "Training LinGreedy - BPR embeddings - all - 3\n",
      "Testing LinGreedy - BPR embeddings - all - 3\n",
      "Training LinUCB - ALS embeddings - all - 4\n",
      "Testing LinUCB - ALS embeddings - all - 4\n",
      "Training LinUCB - BPR embeddings - all - 4\n",
      "Testing LinUCB - BPR embeddings - all - 4\n",
      "Training LinGreedy - ALS embeddings - all - 4\n",
      "Testing LinGreedy - ALS embeddings - all - 4\n",
      "Training LinGreedy - BPR embeddings - all - 4\n",
      "Testing LinGreedy - BPR embeddings - all - 4\n",
      "Training LinUCB - ALS embeddings - all - 5\n",
      "Testing LinUCB - ALS embeddings - all - 5\n",
      "Training LinUCB - BPR embeddings - all - 5\n",
      "Testing LinUCB - BPR embeddings - all - 5\n",
      "Training LinGreedy - ALS embeddings - all - 5\n",
      "Testing LinGreedy - ALS embeddings - all - 5\n",
      "Training LinGreedy - BPR embeddings - all - 5\n",
      "Testing LinGreedy - BPR embeddings - all - 5\n",
      "Training LinUCB - ALS embeddings - all - 6\n",
      "Testing LinUCB - ALS embeddings - all - 6\n",
      "Training LinUCB - BPR embeddings - all - 6\n",
      "Testing LinUCB - BPR embeddings - all - 6\n",
      "Training LinGreedy - ALS embeddings - all - 6\n",
      "Testing LinGreedy - ALS embeddings - all - 6\n",
      "Training LinGreedy - BPR embeddings - all - 6\n",
      "Testing LinGreedy - BPR embeddings - all - 6\n",
      "Training LinUCB - ALS embeddings - all - 7\n",
      "Testing LinUCB - ALS embeddings - all - 7\n",
      "Training LinUCB - BPR embeddings - all - 7\n",
      "Testing LinUCB - BPR embeddings - all - 7\n",
      "Training LinGreedy - ALS embeddings - all - 7\n",
      "Testing LinGreedy - ALS embeddings - all - 7\n",
      "Training LinGreedy - BPR embeddings - all - 7\n",
      "Testing LinGreedy - BPR embeddings - all - 7\n",
      "Training LinUCB - ALS embeddings - all - 8\n",
      "Testing LinUCB - ALS embeddings - all - 8\n",
      "Training LinUCB - BPR embeddings - all - 8\n",
      "Testing LinUCB - BPR embeddings - all - 8\n",
      "Training LinGreedy - ALS embeddings - all - 8\n",
      "Testing LinGreedy - ALS embeddings - all - 8\n",
      "Training LinGreedy - BPR embeddings - all - 8\n",
      "Testing LinGreedy - BPR embeddings - all - 8\n",
      "Training LinUCB - ALS embeddings - all - 9\n",
      "Testing LinUCB - ALS embeddings - all - 9\n",
      "Training LinUCB - BPR embeddings - all - 9\n",
      "Testing LinUCB - BPR embeddings - all - 9\n",
      "Training LinGreedy - ALS embeddings - all - 9\n",
      "Testing LinGreedy - ALS embeddings - all - 9\n",
      "Training LinGreedy - BPR embeddings - all - 9\n",
      "Testing LinGreedy - BPR embeddings - all - 9\n",
      "Training LinUCB - ALS embeddings - all - 10\n",
      "Testing LinUCB - ALS embeddings - all - 10\n",
      "Training LinUCB - BPR embeddings - all - 10\n",
      "Testing LinUCB - BPR embeddings - all - 10\n",
      "Training LinGreedy - ALS embeddings - all - 10\n",
      "Testing LinGreedy - ALS embeddings - all - 10\n",
      "Training LinGreedy - BPR embeddings - all - 10\n",
      "Testing LinGreedy - BPR embeddings - all - 10\n",
      "Current extra train size: 0.9\n",
      "Training ALS\n"
     ]
    },
    {
     "data": {
      "application/vnd.jupyter.widget-view+json": {
       "model_id": "1538f689afcf4bba97b01ebe7cb94e16",
       "version_major": 2,
       "version_minor": 0
      },
      "text/plain": [
       "  0%|          | 0/15 [00:00<?, ?it/s]"
      ]
     },
     "metadata": {},
     "output_type": "display_data"
    },
    {
     "name": "stdout",
     "output_type": "stream",
     "text": [
      "Testing ALS\n",
      "Training BPR\n"
     ]
    },
    {
     "data": {
      "application/vnd.jupyter.widget-view+json": {
       "model_id": "57b2fa902958423e9c4de7389bf23046",
       "version_major": 2,
       "version_minor": 0
      },
      "text/plain": [
       "  0%|          | 0/100 [00:00<?, ?it/s]"
      ]
     },
     "metadata": {},
     "output_type": "display_data"
    },
    {
     "name": "stdout",
     "output_type": "stream",
     "text": [
      "Testing BPR\n",
      "Training LinUCB - ALS embeddings - item_concat-item_mean - 1\n",
      "Testing LinUCB - ALS embeddings - item_concat-item_mean - 1\n",
      "Training LinUCB - BPR embeddings - item_concat-item_mean - 1\n",
      "Testing LinUCB - BPR embeddings - item_concat-item_mean - 1\n",
      "Training LinGreedy - ALS embeddings - item_concat-item_mean - 1\n",
      "Testing LinGreedy - ALS embeddings - item_concat-item_mean - 1\n",
      "Training LinGreedy - BPR embeddings - item_concat-item_mean - 1\n",
      "Testing LinGreedy - BPR embeddings - item_concat-item_mean - 1\n",
      "Training LinUCB - ALS embeddings - item_concat-item_mean - 2\n",
      "Testing LinUCB - ALS embeddings - item_concat-item_mean - 2\n",
      "Training LinUCB - BPR embeddings - item_concat-item_mean - 2\n",
      "Testing LinUCB - BPR embeddings - item_concat-item_mean - 2\n",
      "Training LinGreedy - ALS embeddings - item_concat-item_mean - 2\n",
      "Testing LinGreedy - ALS embeddings - item_concat-item_mean - 2\n",
      "Training LinGreedy - BPR embeddings - item_concat-item_mean - 2\n",
      "Testing LinGreedy - BPR embeddings - item_concat-item_mean - 2\n",
      "Training LinUCB - ALS embeddings - item_concat-item_mean - 3\n",
      "Testing LinUCB - ALS embeddings - item_concat-item_mean - 3\n",
      "Training LinUCB - BPR embeddings - item_concat-item_mean - 3\n",
      "Testing LinUCB - BPR embeddings - item_concat-item_mean - 3\n",
      "Training LinGreedy - ALS embeddings - item_concat-item_mean - 3\n",
      "Testing LinGreedy - ALS embeddings - item_concat-item_mean - 3\n",
      "Training LinGreedy - BPR embeddings - item_concat-item_mean - 3\n",
      "Testing LinGreedy - BPR embeddings - item_concat-item_mean - 3\n",
      "Training LinUCB - ALS embeddings - item_concat-item_mean - 4\n",
      "Testing LinUCB - ALS embeddings - item_concat-item_mean - 4\n",
      "Training LinUCB - BPR embeddings - item_concat-item_mean - 4\n",
      "Testing LinUCB - BPR embeddings - item_concat-item_mean - 4\n",
      "Training LinGreedy - ALS embeddings - item_concat-item_mean - 4\n",
      "Testing LinGreedy - ALS embeddings - item_concat-item_mean - 4\n",
      "Training LinGreedy - BPR embeddings - item_concat-item_mean - 4\n",
      "Testing LinGreedy - BPR embeddings - item_concat-item_mean - 4\n",
      "Training LinUCB - ALS embeddings - item_concat-item_mean - 5\n",
      "Testing LinUCB - ALS embeddings - item_concat-item_mean - 5\n",
      "Training LinUCB - BPR embeddings - item_concat-item_mean - 5\n",
      "Testing LinUCB - BPR embeddings - item_concat-item_mean - 5\n",
      "Training LinGreedy - ALS embeddings - item_concat-item_mean - 5\n",
      "Testing LinGreedy - ALS embeddings - item_concat-item_mean - 5\n",
      "Training LinGreedy - BPR embeddings - item_concat-item_mean - 5\n",
      "Testing LinGreedy - BPR embeddings - item_concat-item_mean - 5\n",
      "Training LinUCB - ALS embeddings - item_concat-item_mean - 6\n",
      "Testing LinUCB - ALS embeddings - item_concat-item_mean - 6\n",
      "Training LinUCB - BPR embeddings - item_concat-item_mean - 6\n",
      "Testing LinUCB - BPR embeddings - item_concat-item_mean - 6\n",
      "Training LinGreedy - ALS embeddings - item_concat-item_mean - 6\n",
      "Testing LinGreedy - ALS embeddings - item_concat-item_mean - 6\n",
      "Training LinGreedy - BPR embeddings - item_concat-item_mean - 6\n",
      "Testing LinGreedy - BPR embeddings - item_concat-item_mean - 6\n",
      "Training LinUCB - ALS embeddings - item_concat-item_mean - 7\n",
      "Testing LinUCB - ALS embeddings - item_concat-item_mean - 7\n",
      "Training LinUCB - BPR embeddings - item_concat-item_mean - 7\n",
      "Testing LinUCB - BPR embeddings - item_concat-item_mean - 7\n",
      "Training LinGreedy - ALS embeddings - item_concat-item_mean - 7\n",
      "Testing LinGreedy - ALS embeddings - item_concat-item_mean - 7\n",
      "Training LinGreedy - BPR embeddings - item_concat-item_mean - 7\n",
      "Testing LinGreedy - BPR embeddings - item_concat-item_mean - 7\n",
      "Training LinUCB - ALS embeddings - item_concat-item_mean - 8\n",
      "Testing LinUCB - ALS embeddings - item_concat-item_mean - 8\n",
      "Training LinUCB - BPR embeddings - item_concat-item_mean - 8\n",
      "Testing LinUCB - BPR embeddings - item_concat-item_mean - 8\n",
      "Training LinGreedy - ALS embeddings - item_concat-item_mean - 8\n",
      "Testing LinGreedy - ALS embeddings - item_concat-item_mean - 8\n",
      "Training LinGreedy - BPR embeddings - item_concat-item_mean - 8\n",
      "Testing LinGreedy - BPR embeddings - item_concat-item_mean - 8\n",
      "Training LinUCB - ALS embeddings - item_concat-item_mean - 9\n",
      "Testing LinUCB - ALS embeddings - item_concat-item_mean - 9\n",
      "Training LinUCB - BPR embeddings - item_concat-item_mean - 9\n",
      "Testing LinUCB - BPR embeddings - item_concat-item_mean - 9\n",
      "Training LinGreedy - ALS embeddings - item_concat-item_mean - 9\n",
      "Testing LinGreedy - ALS embeddings - item_concat-item_mean - 9\n",
      "Training LinGreedy - BPR embeddings - item_concat-item_mean - 9\n",
      "Testing LinGreedy - BPR embeddings - item_concat-item_mean - 9\n",
      "Training LinUCB - ALS embeddings - item_concat-item_mean - 10\n",
      "Testing LinUCB - ALS embeddings - item_concat-item_mean - 10\n",
      "Training LinUCB - BPR embeddings - item_concat-item_mean - 10\n",
      "Testing LinUCB - BPR embeddings - item_concat-item_mean - 10\n",
      "Training LinGreedy - ALS embeddings - item_concat-item_mean - 10\n",
      "Testing LinGreedy - ALS embeddings - item_concat-item_mean - 10\n",
      "Training LinGreedy - BPR embeddings - item_concat-item_mean - 10\n",
      "Testing LinGreedy - BPR embeddings - item_concat-item_mean - 10\n",
      "Training LinUCB - ALS embeddings - item_concat-user - 1\n",
      "Testing LinUCB - ALS embeddings - item_concat-user - 1\n",
      "Training LinUCB - BPR embeddings - item_concat-user - 1\n",
      "Testing LinUCB - BPR embeddings - item_concat-user - 1\n",
      "Training LinGreedy - ALS embeddings - item_concat-user - 1\n",
      "Testing LinGreedy - ALS embeddings - item_concat-user - 1\n",
      "Training LinGreedy - BPR embeddings - item_concat-user - 1\n",
      "Testing LinGreedy - BPR embeddings - item_concat-user - 1\n",
      "Training LinUCB - ALS embeddings - item_concat-user - 2\n",
      "Testing LinUCB - ALS embeddings - item_concat-user - 2\n",
      "Training LinUCB - BPR embeddings - item_concat-user - 2\n",
      "Testing LinUCB - BPR embeddings - item_concat-user - 2\n",
      "Training LinGreedy - ALS embeddings - item_concat-user - 2\n",
      "Testing LinGreedy - ALS embeddings - item_concat-user - 2\n",
      "Training LinGreedy - BPR embeddings - item_concat-user - 2\n",
      "Testing LinGreedy - BPR embeddings - item_concat-user - 2\n",
      "Training LinUCB - ALS embeddings - item_concat-user - 3\n",
      "Testing LinUCB - ALS embeddings - item_concat-user - 3\n",
      "Training LinUCB - BPR embeddings - item_concat-user - 3\n",
      "Testing LinUCB - BPR embeddings - item_concat-user - 3\n",
      "Training LinGreedy - ALS embeddings - item_concat-user - 3\n",
      "Testing LinGreedy - ALS embeddings - item_concat-user - 3\n",
      "Training LinGreedy - BPR embeddings - item_concat-user - 3\n",
      "Testing LinGreedy - BPR embeddings - item_concat-user - 3\n",
      "Training LinUCB - ALS embeddings - item_concat-user - 4\n",
      "Testing LinUCB - ALS embeddings - item_concat-user - 4\n",
      "Training LinUCB - BPR embeddings - item_concat-user - 4\n",
      "Testing LinUCB - BPR embeddings - item_concat-user - 4\n",
      "Training LinGreedy - ALS embeddings - item_concat-user - 4\n",
      "Testing LinGreedy - ALS embeddings - item_concat-user - 4\n",
      "Training LinGreedy - BPR embeddings - item_concat-user - 4\n",
      "Testing LinGreedy - BPR embeddings - item_concat-user - 4\n",
      "Training LinUCB - ALS embeddings - item_concat-user - 5\n",
      "Testing LinUCB - ALS embeddings - item_concat-user - 5\n",
      "Training LinUCB - BPR embeddings - item_concat-user - 5\n",
      "Testing LinUCB - BPR embeddings - item_concat-user - 5\n",
      "Training LinGreedy - ALS embeddings - item_concat-user - 5\n",
      "Testing LinGreedy - ALS embeddings - item_concat-user - 5\n",
      "Training LinGreedy - BPR embeddings - item_concat-user - 5\n",
      "Testing LinGreedy - BPR embeddings - item_concat-user - 5\n",
      "Training LinUCB - ALS embeddings - item_concat-user - 6\n",
      "Testing LinUCB - ALS embeddings - item_concat-user - 6\n",
      "Training LinUCB - BPR embeddings - item_concat-user - 6\n",
      "Testing LinUCB - BPR embeddings - item_concat-user - 6\n",
      "Training LinGreedy - ALS embeddings - item_concat-user - 6\n",
      "Testing LinGreedy - ALS embeddings - item_concat-user - 6\n",
      "Training LinGreedy - BPR embeddings - item_concat-user - 6\n",
      "Testing LinGreedy - BPR embeddings - item_concat-user - 6\n",
      "Training LinUCB - ALS embeddings - item_concat-user - 7\n",
      "Testing LinUCB - ALS embeddings - item_concat-user - 7\n",
      "Training LinUCB - BPR embeddings - item_concat-user - 7\n",
      "Testing LinUCB - BPR embeddings - item_concat-user - 7\n",
      "Training LinGreedy - ALS embeddings - item_concat-user - 7\n",
      "Testing LinGreedy - ALS embeddings - item_concat-user - 7\n",
      "Training LinGreedy - BPR embeddings - item_concat-user - 7\n",
      "Testing LinGreedy - BPR embeddings - item_concat-user - 7\n",
      "Training LinUCB - ALS embeddings - item_concat-user - 8\n",
      "Testing LinUCB - ALS embeddings - item_concat-user - 8\n",
      "Training LinUCB - BPR embeddings - item_concat-user - 8\n",
      "Testing LinUCB - BPR embeddings - item_concat-user - 8\n",
      "Training LinGreedy - ALS embeddings - item_concat-user - 8\n",
      "Testing LinGreedy - ALS embeddings - item_concat-user - 8\n",
      "Training LinGreedy - BPR embeddings - item_concat-user - 8\n",
      "Testing LinGreedy - BPR embeddings - item_concat-user - 8\n",
      "Training LinUCB - ALS embeddings - item_concat-user - 9\n",
      "Testing LinUCB - ALS embeddings - item_concat-user - 9\n",
      "Training LinUCB - BPR embeddings - item_concat-user - 9\n",
      "Testing LinUCB - BPR embeddings - item_concat-user - 9\n",
      "Training LinGreedy - ALS embeddings - item_concat-user - 9\n",
      "Testing LinGreedy - ALS embeddings - item_concat-user - 9\n",
      "Training LinGreedy - BPR embeddings - item_concat-user - 9\n",
      "Testing LinGreedy - BPR embeddings - item_concat-user - 9\n",
      "Training LinUCB - ALS embeddings - item_concat-user - 10\n",
      "Testing LinUCB - ALS embeddings - item_concat-user - 10\n",
      "Training LinUCB - BPR embeddings - item_concat-user - 10\n",
      "Testing LinUCB - BPR embeddings - item_concat-user - 10\n",
      "Training LinGreedy - ALS embeddings - item_concat-user - 10\n",
      "Testing LinGreedy - ALS embeddings - item_concat-user - 10\n",
      "Training LinGreedy - BPR embeddings - item_concat-user - 10\n",
      "Testing LinGreedy - BPR embeddings - item_concat-user - 10\n",
      "Training LinUCB - ALS embeddings - item_mean-user\n",
      "Testing LinUCB - ALS embeddings - item_mean-user\n",
      "Training LinUCB - BPR embeddings - item_mean-user\n",
      "Testing LinUCB - BPR embeddings - item_mean-user\n",
      "Training LinGreedy - ALS embeddings - item_mean-user\n",
      "Testing LinGreedy - ALS embeddings - item_mean-user\n",
      "Training LinGreedy - BPR embeddings - item_mean-user\n",
      "Testing LinGreedy - BPR embeddings - item_mean-user\n",
      "Training LinUCB - ALS embeddings - all - 1\n",
      "Testing LinUCB - ALS embeddings - all - 1\n",
      "Training LinUCB - BPR embeddings - all - 1\n",
      "Testing LinUCB - BPR embeddings - all - 1\n",
      "Training LinGreedy - ALS embeddings - all - 1\n",
      "Testing LinGreedy - ALS embeddings - all - 1\n",
      "Training LinGreedy - BPR embeddings - all - 1\n",
      "Testing LinGreedy - BPR embeddings - all - 1\n",
      "Training LinUCB - ALS embeddings - all - 2\n",
      "Testing LinUCB - ALS embeddings - all - 2\n",
      "Training LinUCB - BPR embeddings - all - 2\n",
      "Testing LinUCB - BPR embeddings - all - 2\n",
      "Training LinGreedy - ALS embeddings - all - 2\n",
      "Testing LinGreedy - ALS embeddings - all - 2\n",
      "Training LinGreedy - BPR embeddings - all - 2\n",
      "Testing LinGreedy - BPR embeddings - all - 2\n",
      "Training LinUCB - ALS embeddings - all - 3\n",
      "Testing LinUCB - ALS embeddings - all - 3\n",
      "Training LinUCB - BPR embeddings - all - 3\n",
      "Testing LinUCB - BPR embeddings - all - 3\n",
      "Training LinGreedy - ALS embeddings - all - 3\n",
      "Testing LinGreedy - ALS embeddings - all - 3\n",
      "Training LinGreedy - BPR embeddings - all - 3\n",
      "Testing LinGreedy - BPR embeddings - all - 3\n",
      "Training LinUCB - ALS embeddings - all - 4\n",
      "Testing LinUCB - ALS embeddings - all - 4\n",
      "Training LinUCB - BPR embeddings - all - 4\n",
      "Testing LinUCB - BPR embeddings - all - 4\n",
      "Training LinGreedy - ALS embeddings - all - 4\n",
      "Testing LinGreedy - ALS embeddings - all - 4\n",
      "Training LinGreedy - BPR embeddings - all - 4\n",
      "Testing LinGreedy - BPR embeddings - all - 4\n",
      "Training LinUCB - ALS embeddings - all - 5\n",
      "Testing LinUCB - ALS embeddings - all - 5\n",
      "Training LinUCB - BPR embeddings - all - 5\n",
      "Testing LinUCB - BPR embeddings - all - 5\n",
      "Training LinGreedy - ALS embeddings - all - 5\n",
      "Testing LinGreedy - ALS embeddings - all - 5\n",
      "Training LinGreedy - BPR embeddings - all - 5\n",
      "Testing LinGreedy - BPR embeddings - all - 5\n",
      "Training LinUCB - ALS embeddings - all - 6\n",
      "Testing LinUCB - ALS embeddings - all - 6\n",
      "Training LinUCB - BPR embeddings - all - 6\n",
      "Testing LinUCB - BPR embeddings - all - 6\n",
      "Training LinGreedy - ALS embeddings - all - 6\n",
      "Testing LinGreedy - ALS embeddings - all - 6\n",
      "Training LinGreedy - BPR embeddings - all - 6\n",
      "Testing LinGreedy - BPR embeddings - all - 6\n",
      "Training LinUCB - ALS embeddings - all - 7\n",
      "Testing LinUCB - ALS embeddings - all - 7\n",
      "Training LinUCB - BPR embeddings - all - 7\n",
      "Testing LinUCB - BPR embeddings - all - 7\n",
      "Training LinGreedy - ALS embeddings - all - 7\n",
      "Testing LinGreedy - ALS embeddings - all - 7\n",
      "Training LinGreedy - BPR embeddings - all - 7\n",
      "Testing LinGreedy - BPR embeddings - all - 7\n",
      "Training LinUCB - ALS embeddings - all - 8\n",
      "Testing LinUCB - ALS embeddings - all - 8\n",
      "Training LinUCB - BPR embeddings - all - 8\n",
      "Testing LinUCB - BPR embeddings - all - 8\n",
      "Training LinGreedy - ALS embeddings - all - 8\n",
      "Testing LinGreedy - ALS embeddings - all - 8\n",
      "Training LinGreedy - BPR embeddings - all - 8\n",
      "Testing LinGreedy - BPR embeddings - all - 8\n",
      "Training LinUCB - ALS embeddings - all - 9\n",
      "Testing LinUCB - ALS embeddings - all - 9\n",
      "Training LinUCB - BPR embeddings - all - 9\n",
      "Testing LinUCB - BPR embeddings - all - 9\n",
      "Training LinGreedy - ALS embeddings - all - 9\n",
      "Testing LinGreedy - ALS embeddings - all - 9\n",
      "Training LinGreedy - BPR embeddings - all - 9\n",
      "Testing LinGreedy - BPR embeddings - all - 9\n",
      "Training LinUCB - ALS embeddings - all - 10\n",
      "Testing LinUCB - ALS embeddings - all - 10\n",
      "Training LinUCB - BPR embeddings - all - 10\n",
      "Testing LinUCB - BPR embeddings - all - 10\n",
      "Training LinGreedy - ALS embeddings - all - 10\n",
      "Testing LinGreedy - ALS embeddings - all - 10\n",
      "Training LinGreedy - BPR embeddings - all - 10\n",
      "Testing LinGreedy - BPR embeddings - all - 10\n",
      "Current extra train size: 1.0\n",
      "Training ALS\n"
     ]
    },
    {
     "data": {
      "application/vnd.jupyter.widget-view+json": {
       "model_id": "2790751c52084ee38a7e7265ca317497",
       "version_major": 2,
       "version_minor": 0
      },
      "text/plain": [
       "  0%|          | 0/15 [00:00<?, ?it/s]"
      ]
     },
     "metadata": {},
     "output_type": "display_data"
    },
    {
     "name": "stdout",
     "output_type": "stream",
     "text": [
      "Testing ALS\n",
      "Training BPR\n"
     ]
    },
    {
     "data": {
      "application/vnd.jupyter.widget-view+json": {
       "model_id": "776a65882ee047bf89dbcacaafbde202",
       "version_major": 2,
       "version_minor": 0
      },
      "text/plain": [
       "  0%|          | 0/100 [00:00<?, ?it/s]"
      ]
     },
     "metadata": {},
     "output_type": "display_data"
    },
    {
     "name": "stdout",
     "output_type": "stream",
     "text": [
      "Testing BPR\n",
      "Training LinUCB - ALS embeddings - item_concat-item_mean - 1\n",
      "Testing LinUCB - ALS embeddings - item_concat-item_mean - 1\n",
      "Training LinUCB - BPR embeddings - item_concat-item_mean - 1\n",
      "Testing LinUCB - BPR embeddings - item_concat-item_mean - 1\n",
      "Training LinGreedy - ALS embeddings - item_concat-item_mean - 1\n",
      "Testing LinGreedy - ALS embeddings - item_concat-item_mean - 1\n",
      "Training LinGreedy - BPR embeddings - item_concat-item_mean - 1\n",
      "Testing LinGreedy - BPR embeddings - item_concat-item_mean - 1\n",
      "Training LinUCB - ALS embeddings - item_concat-item_mean - 2\n",
      "Testing LinUCB - ALS embeddings - item_concat-item_mean - 2\n",
      "Training LinUCB - BPR embeddings - item_concat-item_mean - 2\n",
      "Testing LinUCB - BPR embeddings - item_concat-item_mean - 2\n",
      "Training LinGreedy - ALS embeddings - item_concat-item_mean - 2\n",
      "Testing LinGreedy - ALS embeddings - item_concat-item_mean - 2\n",
      "Training LinGreedy - BPR embeddings - item_concat-item_mean - 2\n",
      "Testing LinGreedy - BPR embeddings - item_concat-item_mean - 2\n",
      "Training LinUCB - ALS embeddings - item_concat-item_mean - 3\n",
      "Testing LinUCB - ALS embeddings - item_concat-item_mean - 3\n",
      "Training LinUCB - BPR embeddings - item_concat-item_mean - 3\n",
      "Testing LinUCB - BPR embeddings - item_concat-item_mean - 3\n",
      "Training LinGreedy - ALS embeddings - item_concat-item_mean - 3\n",
      "Testing LinGreedy - ALS embeddings - item_concat-item_mean - 3\n",
      "Training LinGreedy - BPR embeddings - item_concat-item_mean - 3\n",
      "Testing LinGreedy - BPR embeddings - item_concat-item_mean - 3\n",
      "Training LinUCB - ALS embeddings - item_concat-item_mean - 4\n",
      "Testing LinUCB - ALS embeddings - item_concat-item_mean - 4\n",
      "Training LinUCB - BPR embeddings - item_concat-item_mean - 4\n",
      "Testing LinUCB - BPR embeddings - item_concat-item_mean - 4\n",
      "Training LinGreedy - ALS embeddings - item_concat-item_mean - 4\n",
      "Testing LinGreedy - ALS embeddings - item_concat-item_mean - 4\n",
      "Training LinGreedy - BPR embeddings - item_concat-item_mean - 4\n",
      "Testing LinGreedy - BPR embeddings - item_concat-item_mean - 4\n",
      "Training LinUCB - ALS embeddings - item_concat-item_mean - 5\n",
      "Testing LinUCB - ALS embeddings - item_concat-item_mean - 5\n",
      "Training LinUCB - BPR embeddings - item_concat-item_mean - 5\n",
      "Testing LinUCB - BPR embeddings - item_concat-item_mean - 5\n",
      "Training LinGreedy - ALS embeddings - item_concat-item_mean - 5\n",
      "Testing LinGreedy - ALS embeddings - item_concat-item_mean - 5\n",
      "Training LinGreedy - BPR embeddings - item_concat-item_mean - 5\n",
      "Testing LinGreedy - BPR embeddings - item_concat-item_mean - 5\n",
      "Training LinUCB - ALS embeddings - item_concat-item_mean - 6\n",
      "Testing LinUCB - ALS embeddings - item_concat-item_mean - 6\n",
      "Training LinUCB - BPR embeddings - item_concat-item_mean - 6\n",
      "Testing LinUCB - BPR embeddings - item_concat-item_mean - 6\n",
      "Training LinGreedy - ALS embeddings - item_concat-item_mean - 6\n",
      "Testing LinGreedy - ALS embeddings - item_concat-item_mean - 6\n",
      "Training LinGreedy - BPR embeddings - item_concat-item_mean - 6\n",
      "Testing LinGreedy - BPR embeddings - item_concat-item_mean - 6\n",
      "Training LinUCB - ALS embeddings - item_concat-item_mean - 7\n",
      "Testing LinUCB - ALS embeddings - item_concat-item_mean - 7\n",
      "Training LinUCB - BPR embeddings - item_concat-item_mean - 7\n",
      "Testing LinUCB - BPR embeddings - item_concat-item_mean - 7\n",
      "Training LinGreedy - ALS embeddings - item_concat-item_mean - 7\n",
      "Testing LinGreedy - ALS embeddings - item_concat-item_mean - 7\n",
      "Training LinGreedy - BPR embeddings - item_concat-item_mean - 7\n",
      "Testing LinGreedy - BPR embeddings - item_concat-item_mean - 7\n",
      "Training LinUCB - ALS embeddings - item_concat-item_mean - 8\n",
      "Testing LinUCB - ALS embeddings - item_concat-item_mean - 8\n",
      "Training LinUCB - BPR embeddings - item_concat-item_mean - 8\n",
      "Testing LinUCB - BPR embeddings - item_concat-item_mean - 8\n",
      "Training LinGreedy - ALS embeddings - item_concat-item_mean - 8\n",
      "Testing LinGreedy - ALS embeddings - item_concat-item_mean - 8\n",
      "Training LinGreedy - BPR embeddings - item_concat-item_mean - 8\n",
      "Testing LinGreedy - BPR embeddings - item_concat-item_mean - 8\n",
      "Training LinUCB - ALS embeddings - item_concat-item_mean - 9\n",
      "Testing LinUCB - ALS embeddings - item_concat-item_mean - 9\n",
      "Training LinUCB - BPR embeddings - item_concat-item_mean - 9\n",
      "Testing LinUCB - BPR embeddings - item_concat-item_mean - 9\n",
      "Training LinGreedy - ALS embeddings - item_concat-item_mean - 9\n",
      "Testing LinGreedy - ALS embeddings - item_concat-item_mean - 9\n",
      "Training LinGreedy - BPR embeddings - item_concat-item_mean - 9\n",
      "Testing LinGreedy - BPR embeddings - item_concat-item_mean - 9\n",
      "Training LinUCB - ALS embeddings - item_concat-item_mean - 10\n",
      "Testing LinUCB - ALS embeddings - item_concat-item_mean - 10\n",
      "Training LinUCB - BPR embeddings - item_concat-item_mean - 10\n",
      "Testing LinUCB - BPR embeddings - item_concat-item_mean - 10\n",
      "Training LinGreedy - ALS embeddings - item_concat-item_mean - 10\n",
      "Testing LinGreedy - ALS embeddings - item_concat-item_mean - 10\n",
      "Training LinGreedy - BPR embeddings - item_concat-item_mean - 10\n",
      "Testing LinGreedy - BPR embeddings - item_concat-item_mean - 10\n",
      "Training LinUCB - ALS embeddings - item_concat-user - 1\n",
      "Testing LinUCB - ALS embeddings - item_concat-user - 1\n",
      "Training LinUCB - BPR embeddings - item_concat-user - 1\n",
      "Testing LinUCB - BPR embeddings - item_concat-user - 1\n",
      "Training LinGreedy - ALS embeddings - item_concat-user - 1\n",
      "Testing LinGreedy - ALS embeddings - item_concat-user - 1\n",
      "Training LinGreedy - BPR embeddings - item_concat-user - 1\n",
      "Testing LinGreedy - BPR embeddings - item_concat-user - 1\n",
      "Training LinUCB - ALS embeddings - item_concat-user - 2\n",
      "Testing LinUCB - ALS embeddings - item_concat-user - 2\n",
      "Training LinUCB - BPR embeddings - item_concat-user - 2\n",
      "Testing LinUCB - BPR embeddings - item_concat-user - 2\n",
      "Training LinGreedy - ALS embeddings - item_concat-user - 2\n",
      "Testing LinGreedy - ALS embeddings - item_concat-user - 2\n",
      "Training LinGreedy - BPR embeddings - item_concat-user - 2\n",
      "Testing LinGreedy - BPR embeddings - item_concat-user - 2\n",
      "Training LinUCB - ALS embeddings - item_concat-user - 3\n",
      "Testing LinUCB - ALS embeddings - item_concat-user - 3\n",
      "Training LinUCB - BPR embeddings - item_concat-user - 3\n",
      "Testing LinUCB - BPR embeddings - item_concat-user - 3\n",
      "Training LinGreedy - ALS embeddings - item_concat-user - 3\n",
      "Testing LinGreedy - ALS embeddings - item_concat-user - 3\n",
      "Training LinGreedy - BPR embeddings - item_concat-user - 3\n",
      "Testing LinGreedy - BPR embeddings - item_concat-user - 3\n",
      "Training LinUCB - ALS embeddings - item_concat-user - 4\n",
      "Testing LinUCB - ALS embeddings - item_concat-user - 4\n",
      "Training LinUCB - BPR embeddings - item_concat-user - 4\n",
      "Testing LinUCB - BPR embeddings - item_concat-user - 4\n",
      "Training LinGreedy - ALS embeddings - item_concat-user - 4\n",
      "Testing LinGreedy - ALS embeddings - item_concat-user - 4\n",
      "Training LinGreedy - BPR embeddings - item_concat-user - 4\n",
      "Testing LinGreedy - BPR embeddings - item_concat-user - 4\n",
      "Training LinUCB - ALS embeddings - item_concat-user - 5\n",
      "Testing LinUCB - ALS embeddings - item_concat-user - 5\n",
      "Training LinUCB - BPR embeddings - item_concat-user - 5\n",
      "Testing LinUCB - BPR embeddings - item_concat-user - 5\n",
      "Training LinGreedy - ALS embeddings - item_concat-user - 5\n",
      "Testing LinGreedy - ALS embeddings - item_concat-user - 5\n",
      "Training LinGreedy - BPR embeddings - item_concat-user - 5\n",
      "Testing LinGreedy - BPR embeddings - item_concat-user - 5\n",
      "Training LinUCB - ALS embeddings - item_concat-user - 6\n",
      "Testing LinUCB - ALS embeddings - item_concat-user - 6\n",
      "Training LinUCB - BPR embeddings - item_concat-user - 6\n",
      "Testing LinUCB - BPR embeddings - item_concat-user - 6\n",
      "Training LinGreedy - ALS embeddings - item_concat-user - 6\n",
      "Testing LinGreedy - ALS embeddings - item_concat-user - 6\n",
      "Training LinGreedy - BPR embeddings - item_concat-user - 6\n",
      "Testing LinGreedy - BPR embeddings - item_concat-user - 6\n",
      "Training LinUCB - ALS embeddings - item_concat-user - 7\n",
      "Testing LinUCB - ALS embeddings - item_concat-user - 7\n",
      "Training LinUCB - BPR embeddings - item_concat-user - 7\n",
      "Testing LinUCB - BPR embeddings - item_concat-user - 7\n",
      "Training LinGreedy - ALS embeddings - item_concat-user - 7\n",
      "Testing LinGreedy - ALS embeddings - item_concat-user - 7\n",
      "Training LinGreedy - BPR embeddings - item_concat-user - 7\n",
      "Testing LinGreedy - BPR embeddings - item_concat-user - 7\n",
      "Training LinUCB - ALS embeddings - item_concat-user - 8\n",
      "Testing LinUCB - ALS embeddings - item_concat-user - 8\n",
      "Training LinUCB - BPR embeddings - item_concat-user - 8\n",
      "Testing LinUCB - BPR embeddings - item_concat-user - 8\n",
      "Training LinGreedy - ALS embeddings - item_concat-user - 8\n",
      "Testing LinGreedy - ALS embeddings - item_concat-user - 8\n",
      "Training LinGreedy - BPR embeddings - item_concat-user - 8\n",
      "Testing LinGreedy - BPR embeddings - item_concat-user - 8\n",
      "Training LinUCB - ALS embeddings - item_concat-user - 9\n",
      "Testing LinUCB - ALS embeddings - item_concat-user - 9\n",
      "Training LinUCB - BPR embeddings - item_concat-user - 9\n",
      "Testing LinUCB - BPR embeddings - item_concat-user - 9\n",
      "Training LinGreedy - ALS embeddings - item_concat-user - 9\n",
      "Testing LinGreedy - ALS embeddings - item_concat-user - 9\n",
      "Training LinGreedy - BPR embeddings - item_concat-user - 9\n",
      "Testing LinGreedy - BPR embeddings - item_concat-user - 9\n",
      "Training LinUCB - ALS embeddings - item_concat-user - 10\n",
      "Testing LinUCB - ALS embeddings - item_concat-user - 10\n",
      "Training LinUCB - BPR embeddings - item_concat-user - 10\n",
      "Testing LinUCB - BPR embeddings - item_concat-user - 10\n",
      "Training LinGreedy - ALS embeddings - item_concat-user - 10\n",
      "Testing LinGreedy - ALS embeddings - item_concat-user - 10\n",
      "Training LinGreedy - BPR embeddings - item_concat-user - 10\n",
      "Testing LinGreedy - BPR embeddings - item_concat-user - 10\n",
      "Training LinUCB - ALS embeddings - item_mean-user\n",
      "Testing LinUCB - ALS embeddings - item_mean-user\n",
      "Training LinUCB - BPR embeddings - item_mean-user\n",
      "Testing LinUCB - BPR embeddings - item_mean-user\n",
      "Training LinGreedy - ALS embeddings - item_mean-user\n",
      "Testing LinGreedy - ALS embeddings - item_mean-user\n",
      "Training LinGreedy - BPR embeddings - item_mean-user\n",
      "Testing LinGreedy - BPR embeddings - item_mean-user\n",
      "Training LinUCB - ALS embeddings - all - 1\n",
      "Testing LinUCB - ALS embeddings - all - 1\n",
      "Training LinUCB - BPR embeddings - all - 1\n",
      "Testing LinUCB - BPR embeddings - all - 1\n",
      "Training LinGreedy - ALS embeddings - all - 1\n",
      "Testing LinGreedy - ALS embeddings - all - 1\n",
      "Training LinGreedy - BPR embeddings - all - 1\n",
      "Testing LinGreedy - BPR embeddings - all - 1\n",
      "Training LinUCB - ALS embeddings - all - 2\n",
      "Testing LinUCB - ALS embeddings - all - 2\n",
      "Training LinUCB - BPR embeddings - all - 2\n",
      "Testing LinUCB - BPR embeddings - all - 2\n",
      "Training LinGreedy - ALS embeddings - all - 2\n",
      "Testing LinGreedy - ALS embeddings - all - 2\n",
      "Training LinGreedy - BPR embeddings - all - 2\n",
      "Testing LinGreedy - BPR embeddings - all - 2\n",
      "Training LinUCB - ALS embeddings - all - 3\n",
      "Testing LinUCB - ALS embeddings - all - 3\n",
      "Training LinUCB - BPR embeddings - all - 3\n",
      "Testing LinUCB - BPR embeddings - all - 3\n",
      "Training LinGreedy - ALS embeddings - all - 3\n",
      "Testing LinGreedy - ALS embeddings - all - 3\n",
      "Training LinGreedy - BPR embeddings - all - 3\n",
      "Testing LinGreedy - BPR embeddings - all - 3\n",
      "Training LinUCB - ALS embeddings - all - 4\n",
      "Testing LinUCB - ALS embeddings - all - 4\n",
      "Training LinUCB - BPR embeddings - all - 4\n",
      "Testing LinUCB - BPR embeddings - all - 4\n",
      "Training LinGreedy - ALS embeddings - all - 4\n",
      "Testing LinGreedy - ALS embeddings - all - 4\n",
      "Training LinGreedy - BPR embeddings - all - 4\n",
      "Testing LinGreedy - BPR embeddings - all - 4\n",
      "Training LinUCB - ALS embeddings - all - 5\n",
      "Testing LinUCB - ALS embeddings - all - 5\n",
      "Training LinUCB - BPR embeddings - all - 5\n",
      "Testing LinUCB - BPR embeddings - all - 5\n",
      "Training LinGreedy - ALS embeddings - all - 5\n",
      "Testing LinGreedy - ALS embeddings - all - 5\n",
      "Training LinGreedy - BPR embeddings - all - 5\n",
      "Testing LinGreedy - BPR embeddings - all - 5\n",
      "Training LinUCB - ALS embeddings - all - 6\n",
      "Testing LinUCB - ALS embeddings - all - 6\n",
      "Training LinUCB - BPR embeddings - all - 6\n",
      "Testing LinUCB - BPR embeddings - all - 6\n",
      "Training LinGreedy - ALS embeddings - all - 6\n",
      "Testing LinGreedy - ALS embeddings - all - 6\n",
      "Training LinGreedy - BPR embeddings - all - 6\n",
      "Testing LinGreedy - BPR embeddings - all - 6\n",
      "Training LinUCB - ALS embeddings - all - 7\n",
      "Testing LinUCB - ALS embeddings - all - 7\n",
      "Training LinUCB - BPR embeddings - all - 7\n",
      "Testing LinUCB - BPR embeddings - all - 7\n",
      "Training LinGreedy - ALS embeddings - all - 7\n",
      "Testing LinGreedy - ALS embeddings - all - 7\n",
      "Training LinGreedy - BPR embeddings - all - 7\n",
      "Testing LinGreedy - BPR embeddings - all - 7\n",
      "Training LinUCB - ALS embeddings - all - 8\n",
      "Testing LinUCB - ALS embeddings - all - 8\n",
      "Training LinUCB - BPR embeddings - all - 8\n",
      "Testing LinUCB - BPR embeddings - all - 8\n",
      "Training LinGreedy - ALS embeddings - all - 8\n",
      "Testing LinGreedy - ALS embeddings - all - 8\n",
      "Training LinGreedy - BPR embeddings - all - 8\n",
      "Testing LinGreedy - BPR embeddings - all - 8\n",
      "Training LinUCB - ALS embeddings - all - 9\n",
      "Testing LinUCB - ALS embeddings - all - 9\n",
      "Training LinUCB - BPR embeddings - all - 9\n",
      "Testing LinUCB - BPR embeddings - all - 9\n",
      "Training LinGreedy - ALS embeddings - all - 9\n",
      "Testing LinGreedy - ALS embeddings - all - 9\n",
      "Training LinGreedy - BPR embeddings - all - 9\n",
      "Testing LinGreedy - BPR embeddings - all - 9\n",
      "Training LinUCB - ALS embeddings - all - 10\n",
      "Testing LinUCB - ALS embeddings - all - 10\n",
      "Training LinUCB - BPR embeddings - all - 10\n",
      "Testing LinUCB - BPR embeddings - all - 10\n",
      "Training LinGreedy - ALS embeddings - all - 10\n",
      "Testing LinGreedy - ALS embeddings - all - 10\n",
      "Training LinGreedy - BPR embeddings - all - 10\n",
      "Testing LinGreedy - BPR embeddings - all - 10\n"
     ]
    }
   ],
   "source": [
    "test(test_size=0.1, train_initial_size=0.5, train_extra_increment_step_size=0.1, windows_sizes=[1,2,3,4,5,6,7,8,9,10])"
   ]
  },
  {
   "cell_type": "code",
   "execution_count": 78,
   "metadata": {},
   "outputs": [],
   "source": [
    "df_results = pd.read_csv('results-v9/results-item_concat-item_mean.csv')"
   ]
  },
  {
   "cell_type": "code",
   "execution_count": 79,
   "metadata": {},
   "outputs": [
    {
     "data": {
      "application/vnd.plotly.v1+json": {
       "config": {
        "plotlyServerURL": "https://plot.ly"
       },
       "data": [
        {
         "hovertemplate": "algorithm=LinUCB - ALS embeddings - 1<br>train_size=%{x}<br>hr=%{y}<extra></extra>",
         "legendgroup": "LinUCB - ALS embeddings - 1",
         "line": {
          "color": "#636efa",
          "dash": "solid"
         },
         "marker": {
          "symbol": "circle"
         },
         "mode": "lines",
         "name": "LinUCB - ALS embeddings - 1",
         "orientation": "v",
         "showlegend": true,
         "type": "scatter",
         "x": [
          0,
          0.1,
          0.2,
          0.3,
          0.4,
          0.5,
          0.6,
          0.7,
          0.8,
          0.9,
          1
         ],
         "xaxis": "x",
         "y": [
          0.141396933560477,
          0.141396933560477,
          0.1448040885860306,
          0.1482112436115843,
          0.1499148211243611,
          0.1482112436115843,
          0.1601362862010221,
          0.1533219761499148,
          0.1567291311754685,
          0.1686541737649063,
          0.1737649063032368
         ],
         "yaxis": "y"
        },
        {
         "hovertemplate": "algorithm=LinUCB - BPR embeddings - 1<br>train_size=%{x}<br>hr=%{y}<extra></extra>",
         "legendgroup": "LinUCB - BPR embeddings - 1",
         "line": {
          "color": "#EF553B",
          "dash": "solid"
         },
         "marker": {
          "symbol": "circle"
         },
         "mode": "lines",
         "name": "LinUCB - BPR embeddings - 1",
         "orientation": "v",
         "showlegend": true,
         "type": "scatter",
         "x": [
          0,
          0.1,
          0.2,
          0.3,
          0.4,
          0.5,
          0.6,
          0.7,
          0.8,
          0.9,
          1
         ],
         "xaxis": "x",
         "y": [
          0.0562180579216354,
          0.0647359454855195,
          0.0647359454855195,
          0.0579216354344122,
          0.0613287904599659,
          0.0613287904599659,
          0.0664395229982964,
          0.0732538330494037,
          0.0817717206132879,
          0.080068143100511,
          0.0851788756388415
         ],
         "yaxis": "y"
        },
        {
         "hovertemplate": "algorithm=LinGreedy - ALS embeddings - 1<br>train_size=%{x}<br>hr=%{y}<extra></extra>",
         "legendgroup": "LinGreedy - ALS embeddings - 1",
         "line": {
          "color": "#00cc96",
          "dash": "solid"
         },
         "marker": {
          "symbol": "circle"
         },
         "mode": "lines",
         "name": "LinGreedy - ALS embeddings - 1",
         "orientation": "v",
         "showlegend": true,
         "type": "scatter",
         "x": [
          0,
          0.1,
          0.2,
          0.3,
          0.4,
          0.5,
          0.6,
          0.7,
          0.8,
          0.9,
          1
         ],
         "xaxis": "x",
         "y": [
          0.1431005110732538,
          0.141396933560477,
          0.1431005110732538,
          0.1499148211243611,
          0.1533219761499148,
          0.1465076660988075,
          0.1584327086882453,
          0.151618398637138,
          0.1567291311754685,
          0.1703577512776831,
          0.1754684838160136
         ],
         "yaxis": "y"
        },
        {
         "hovertemplate": "algorithm=LinGreedy - BPR embeddings - 1<br>train_size=%{x}<br>hr=%{y}<extra></extra>",
         "legendgroup": "LinGreedy - BPR embeddings - 1",
         "line": {
          "color": "#ab63fa",
          "dash": "solid"
         },
         "marker": {
          "symbol": "circle"
         },
         "mode": "lines",
         "name": "LinGreedy - BPR embeddings - 1",
         "orientation": "v",
         "showlegend": true,
         "type": "scatter",
         "x": [
          0,
          0.1,
          0.2,
          0.3,
          0.4,
          0.5,
          0.6,
          0.7,
          0.8,
          0.9,
          1
         ],
         "xaxis": "x",
         "y": [
          0.0562180579216354,
          0.0613287904599659,
          0.0647359454855195,
          0.0579216354344122,
          0.0630323679727427,
          0.059625212947189,
          0.0647359454855195,
          0.0766609880749574,
          0.0817717206132879,
          0.0834752981260647,
          0.0919931856899489
         ],
         "yaxis": "y"
        },
        {
         "hovertemplate": "algorithm=LinUCB - ALS embeddings - 2<br>train_size=%{x}<br>hr=%{y}<extra></extra>",
         "legendgroup": "LinUCB - ALS embeddings - 2",
         "line": {
          "color": "#FFA15A",
          "dash": "solid"
         },
         "marker": {
          "symbol": "circle"
         },
         "mode": "lines",
         "name": "LinUCB - ALS embeddings - 2",
         "orientation": "v",
         "showlegend": true,
         "type": "scatter",
         "x": [
          0,
          0.1,
          0.2,
          0.3,
          0.4,
          0.5,
          0.6,
          0.7,
          0.8,
          0.9,
          1
         ],
         "xaxis": "x",
         "y": [
          0.1431005110732538,
          0.1345826235093696,
          0.1396933560477001,
          0.141396933560477,
          0.1396933560477001,
          0.1345826235093696,
          0.1533219761499148,
          0.1567291311754685,
          0.1465076660988075,
          0.1482112436115843,
          0.1533219761499148
         ],
         "yaxis": "y"
        },
        {
         "hovertemplate": "algorithm=LinUCB - BPR embeddings - 2<br>train_size=%{x}<br>hr=%{y}<extra></extra>",
         "legendgroup": "LinUCB - BPR embeddings - 2",
         "line": {
          "color": "#19d3f3",
          "dash": "solid"
         },
         "marker": {
          "symbol": "circle"
         },
         "mode": "lines",
         "name": "LinUCB - BPR embeddings - 2",
         "orientation": "v",
         "showlegend": true,
         "type": "scatter",
         "x": [
          0,
          0.1,
          0.2,
          0.3,
          0.4,
          0.5,
          0.6,
          0.7,
          0.8,
          0.9,
          1
         ],
         "xaxis": "x",
         "y": [
          0.0783645655877342,
          0.0715502555366269,
          0.0715502555366269,
          0.0766609880749574,
          0.0817717206132879,
          0.0868824531516184,
          0.0868824531516184,
          0.0851788756388415,
          0.0885860306643952,
          0.0766609880749574,
          0.0851788756388415
         ],
         "yaxis": "y"
        },
        {
         "hovertemplate": "algorithm=LinGreedy - ALS embeddings - 2<br>train_size=%{x}<br>hr=%{y}<extra></extra>",
         "legendgroup": "LinGreedy - ALS embeddings - 2",
         "line": {
          "color": "#FF6692",
          "dash": "solid"
         },
         "marker": {
          "symbol": "circle"
         },
         "mode": "lines",
         "name": "LinGreedy - ALS embeddings - 2",
         "orientation": "v",
         "showlegend": true,
         "type": "scatter",
         "x": [
          0,
          0.1,
          0.2,
          0.3,
          0.4,
          0.5,
          0.6,
          0.7,
          0.8,
          0.9,
          1
         ],
         "xaxis": "x",
         "y": [
          0.1396933560477001,
          0.1362862010221465,
          0.141396933560477,
          0.141396933560477,
          0.1431005110732538,
          0.1379897785349233,
          0.1533219761499148,
          0.1550255536626916,
          0.1465076660988075,
          0.1499148211243611,
          0.1550255536626916
         ],
         "yaxis": "y"
        },
        {
         "hovertemplate": "algorithm=LinGreedy - BPR embeddings - 2<br>train_size=%{x}<br>hr=%{y}<extra></extra>",
         "legendgroup": "LinGreedy - BPR embeddings - 2",
         "line": {
          "color": "#B6E880",
          "dash": "solid"
         },
         "marker": {
          "symbol": "circle"
         },
         "mode": "lines",
         "name": "LinGreedy - BPR embeddings - 2",
         "orientation": "v",
         "showlegend": true,
         "type": "scatter",
         "x": [
          0,
          0.1,
          0.2,
          0.3,
          0.4,
          0.5,
          0.6,
          0.7,
          0.8,
          0.9,
          1
         ],
         "xaxis": "x",
         "y": [
          0.0783645655877342,
          0.0749574105621805,
          0.0766609880749574,
          0.0749574105621805,
          0.0834752981260647,
          0.0868824531516184,
          0.0868824531516184,
          0.0885860306643952,
          0.0868824531516184,
          0.0783645655877342,
          0.0851788756388415
         ],
         "yaxis": "y"
        },
        {
         "hovertemplate": "algorithm=LinUCB - ALS embeddings - 3<br>train_size=%{x}<br>hr=%{y}<extra></extra>",
         "legendgroup": "LinUCB - ALS embeddings - 3",
         "line": {
          "color": "#FF97FF",
          "dash": "solid"
         },
         "marker": {
          "symbol": "circle"
         },
         "mode": "lines",
         "name": "LinUCB - ALS embeddings - 3",
         "orientation": "v",
         "showlegend": true,
         "type": "scatter",
         "x": [
          0,
          0.1,
          0.2,
          0.3,
          0.4,
          0.5,
          0.6,
          0.7,
          0.8,
          0.9,
          1
         ],
         "xaxis": "x",
         "y": [
          0.1482112436115843,
          0.141396933560477,
          0.141396933560477,
          0.1328790459965928,
          0.131175468483816,
          0.1482112436115843,
          0.1499148211243611,
          0.1567291311754685,
          0.1533219761499148,
          0.1533219761499148,
          0.1499148211243611
         ],
         "yaxis": "y"
        },
        {
         "hovertemplate": "algorithm=LinUCB - BPR embeddings - 3<br>train_size=%{x}<br>hr=%{y}<extra></extra>",
         "legendgroup": "LinUCB - BPR embeddings - 3",
         "line": {
          "color": "#FECB52",
          "dash": "solid"
         },
         "marker": {
          "symbol": "circle"
         },
         "mode": "lines",
         "name": "LinUCB - BPR embeddings - 3",
         "orientation": "v",
         "showlegend": true,
         "type": "scatter",
         "x": [
          0,
          0.1,
          0.2,
          0.3,
          0.4,
          0.5,
          0.6,
          0.7,
          0.8,
          0.9,
          1
         ],
         "xaxis": "x",
         "y": [
          0.0715502555366269,
          0.0664395229982964,
          0.0647359454855195,
          0.0613287904599659,
          0.0681431005110732,
          0.06984667802385,
          0.06984667802385,
          0.06984667802385,
          0.0681431005110732,
          0.06984667802385,
          0.0783645655877342
         ],
         "yaxis": "y"
        },
        {
         "hovertemplate": "algorithm=LinGreedy - ALS embeddings - 3<br>train_size=%{x}<br>hr=%{y}<extra></extra>",
         "legendgroup": "LinGreedy - ALS embeddings - 3",
         "line": {
          "color": "#636efa",
          "dash": "solid"
         },
         "marker": {
          "symbol": "circle"
         },
         "mode": "lines",
         "name": "LinGreedy - ALS embeddings - 3",
         "orientation": "v",
         "showlegend": true,
         "type": "scatter",
         "x": [
          0,
          0.1,
          0.2,
          0.3,
          0.4,
          0.5,
          0.6,
          0.7,
          0.8,
          0.9,
          1
         ],
         "xaxis": "x",
         "y": [
          0.1482112436115843,
          0.141396933560477,
          0.1431005110732538,
          0.131175468483816,
          0.141396933560477,
          0.1550255536626916,
          0.1584327086882453,
          0.1601362862010221,
          0.1584327086882453,
          0.1567291311754685,
          0.1533219761499148
         ],
         "yaxis": "y"
        },
        {
         "hovertemplate": "algorithm=LinGreedy - BPR embeddings - 3<br>train_size=%{x}<br>hr=%{y}<extra></extra>",
         "legendgroup": "LinGreedy - BPR embeddings - 3",
         "line": {
          "color": "#EF553B",
          "dash": "solid"
         },
         "marker": {
          "symbol": "circle"
         },
         "mode": "lines",
         "name": "LinGreedy - BPR embeddings - 3",
         "orientation": "v",
         "showlegend": true,
         "type": "scatter",
         "x": [
          0,
          0.1,
          0.2,
          0.3,
          0.4,
          0.5,
          0.6,
          0.7,
          0.8,
          0.9,
          1
         ],
         "xaxis": "x",
         "y": [
          0.0749574105621805,
          0.0732538330494037,
          0.0630323679727427,
          0.0715502555366269,
          0.0749574105621805,
          0.0783645655877342,
          0.0681431005110732,
          0.0732538330494037,
          0.06984667802385,
          0.0749574105621805,
          0.0834752981260647
         ],
         "yaxis": "y"
        },
        {
         "hovertemplate": "algorithm=LinUCB - ALS embeddings - 4<br>train_size=%{x}<br>hr=%{y}<extra></extra>",
         "legendgroup": "LinUCB - ALS embeddings - 4",
         "line": {
          "color": "#00cc96",
          "dash": "solid"
         },
         "marker": {
          "symbol": "circle"
         },
         "mode": "lines",
         "name": "LinUCB - ALS embeddings - 4",
         "orientation": "v",
         "showlegend": true,
         "type": "scatter",
         "x": [
          0,
          0.1,
          0.2,
          0.3,
          0.4,
          0.5,
          0.6,
          0.7,
          0.8,
          0.9,
          1
         ],
         "xaxis": "x",
         "y": [
          0.1465076660988075,
          0.1379897785349233,
          0.1482112436115843,
          0.1499148211243611,
          0.1465076660988075,
          0.1567291311754685,
          0.151618398637138,
          0.1465076660988075,
          0.1431005110732538,
          0.1465076660988075,
          0.1465076660988075
         ],
         "yaxis": "y"
        },
        {
         "hovertemplate": "algorithm=LinUCB - BPR embeddings - 4<br>train_size=%{x}<br>hr=%{y}<extra></extra>",
         "legendgroup": "LinUCB - BPR embeddings - 4",
         "line": {
          "color": "#ab63fa",
          "dash": "solid"
         },
         "marker": {
          "symbol": "circle"
         },
         "mode": "lines",
         "name": "LinUCB - BPR embeddings - 4",
         "orientation": "v",
         "showlegend": true,
         "type": "scatter",
         "x": [
          0,
          0.1,
          0.2,
          0.3,
          0.4,
          0.5,
          0.6,
          0.7,
          0.8,
          0.9,
          1
         ],
         "xaxis": "x",
         "y": [
          0.0715502555366269,
          0.06984667802385,
          0.0511073253833049,
          0.0630323679727427,
          0.0749574105621805,
          0.0783645655877342,
          0.0766609880749574,
          0.0834752981260647,
          0.0783645655877342,
          0.06984667802385,
          0.0834752981260647
         ],
         "yaxis": "y"
        },
        {
         "hovertemplate": "algorithm=LinGreedy - ALS embeddings - 4<br>train_size=%{x}<br>hr=%{y}<extra></extra>",
         "legendgroup": "LinGreedy - ALS embeddings - 4",
         "line": {
          "color": "#FFA15A",
          "dash": "solid"
         },
         "marker": {
          "symbol": "circle"
         },
         "mode": "lines",
         "name": "LinGreedy - ALS embeddings - 4",
         "orientation": "v",
         "showlegend": true,
         "type": "scatter",
         "x": [
          0,
          0.1,
          0.2,
          0.3,
          0.4,
          0.5,
          0.6,
          0.7,
          0.8,
          0.9,
          1
         ],
         "xaxis": "x",
         "y": [
          0.1448040885860306,
          0.141396933560477,
          0.1499148211243611,
          0.1465076660988075,
          0.1465076660988075,
          0.1567291311754685,
          0.1550255536626916,
          0.1448040885860306,
          0.1465076660988075,
          0.1482112436115843,
          0.1465076660988075
         ],
         "yaxis": "y"
        },
        {
         "hovertemplate": "algorithm=LinGreedy - BPR embeddings - 4<br>train_size=%{x}<br>hr=%{y}<extra></extra>",
         "legendgroup": "LinGreedy - BPR embeddings - 4",
         "line": {
          "color": "#19d3f3",
          "dash": "solid"
         },
         "marker": {
          "symbol": "circle"
         },
         "mode": "lines",
         "name": "LinGreedy - BPR embeddings - 4",
         "orientation": "v",
         "showlegend": true,
         "type": "scatter",
         "x": [
          0,
          0.1,
          0.2,
          0.3,
          0.4,
          0.5,
          0.6,
          0.7,
          0.8,
          0.9,
          1
         ],
         "xaxis": "x",
         "y": [
          0.0766609880749574,
          0.0732538330494037,
          0.059625212947189,
          0.0715502555366269,
          0.0732538330494037,
          0.0885860306643952,
          0.0783645655877342,
          0.0851788756388415,
          0.0783645655877342,
          0.06984667802385,
          0.0868824531516184
         ],
         "yaxis": "y"
        },
        {
         "hovertemplate": "algorithm=LinUCB - ALS embeddings - 5<br>train_size=%{x}<br>hr=%{y}<extra></extra>",
         "legendgroup": "LinUCB - ALS embeddings - 5",
         "line": {
          "color": "#FF6692",
          "dash": "solid"
         },
         "marker": {
          "symbol": "circle"
         },
         "mode": "lines",
         "name": "LinUCB - ALS embeddings - 5",
         "orientation": "v",
         "showlegend": true,
         "type": "scatter",
         "x": [
          0,
          0.1,
          0.2,
          0.3,
          0.4,
          0.5,
          0.6,
          0.7,
          0.8,
          0.9,
          1
         ],
         "xaxis": "x",
         "y": [
          0.141396933560477,
          0.1345826235093696,
          0.1396933560477001,
          0.1396933560477001,
          0.1465076660988075,
          0.1567291311754685,
          0.141396933560477,
          0.1431005110732538,
          0.1448040885860306,
          0.1362862010221465,
          0.1379897785349233
         ],
         "yaxis": "y"
        },
        {
         "hovertemplate": "algorithm=LinUCB - BPR embeddings - 5<br>train_size=%{x}<br>hr=%{y}<extra></extra>",
         "legendgroup": "LinUCB - BPR embeddings - 5",
         "line": {
          "color": "#B6E880",
          "dash": "solid"
         },
         "marker": {
          "symbol": "circle"
         },
         "mode": "lines",
         "name": "LinUCB - BPR embeddings - 5",
         "orientation": "v",
         "showlegend": true,
         "type": "scatter",
         "x": [
          0,
          0.1,
          0.2,
          0.3,
          0.4,
          0.5,
          0.6,
          0.7,
          0.8,
          0.9,
          1
         ],
         "xaxis": "x",
         "y": [
          0.059625212947189,
          0.0630323679727427,
          0.0425894378194207,
          0.0528109028960817,
          0.0494037478705281,
          0.0562180579216354,
          0.0545144804088586,
          0.0732538330494037,
          0.0630323679727427,
          0.0579216354344122,
          0.0732538330494037
         ],
         "yaxis": "y"
        },
        {
         "hovertemplate": "algorithm=LinGreedy - ALS embeddings - 5<br>train_size=%{x}<br>hr=%{y}<extra></extra>",
         "legendgroup": "LinGreedy - ALS embeddings - 5",
         "line": {
          "color": "#FF97FF",
          "dash": "solid"
         },
         "marker": {
          "symbol": "circle"
         },
         "mode": "lines",
         "name": "LinGreedy - ALS embeddings - 5",
         "orientation": "v",
         "showlegend": true,
         "type": "scatter",
         "x": [
          0,
          0.1,
          0.2,
          0.3,
          0.4,
          0.5,
          0.6,
          0.7,
          0.8,
          0.9,
          1
         ],
         "xaxis": "x",
         "y": [
          0.1448040885860306,
          0.1396933560477001,
          0.1448040885860306,
          0.1396933560477001,
          0.1499148211243611,
          0.1601362862010221,
          0.1448040885860306,
          0.1431005110732538,
          0.151618398637138,
          0.1396933560477001,
          0.141396933560477
         ],
         "yaxis": "y"
        },
        {
         "hovertemplate": "algorithm=LinGreedy - BPR embeddings - 5<br>train_size=%{x}<br>hr=%{y}<extra></extra>",
         "legendgroup": "LinGreedy - BPR embeddings - 5",
         "line": {
          "color": "#FECB52",
          "dash": "solid"
         },
         "marker": {
          "symbol": "circle"
         },
         "mode": "lines",
         "name": "LinGreedy - BPR embeddings - 5",
         "orientation": "v",
         "showlegend": true,
         "type": "scatter",
         "x": [
          0,
          0.1,
          0.2,
          0.3,
          0.4,
          0.5,
          0.6,
          0.7,
          0.8,
          0.9,
          1
         ],
         "xaxis": "x",
         "y": [
          0.06984667802385,
          0.0664395229982964,
          0.0442930153321976,
          0.0562180579216354,
          0.0528109028960817,
          0.0613287904599659,
          0.0579216354344122,
          0.0715502555366269,
          0.0630323679727427,
          0.0647359454855195,
          0.0715502555366269
         ],
         "yaxis": "y"
        },
        {
         "hovertemplate": "algorithm=LinUCB - ALS embeddings - 6<br>train_size=%{x}<br>hr=%{y}<extra></extra>",
         "legendgroup": "LinUCB - ALS embeddings - 6",
         "line": {
          "color": "#636efa",
          "dash": "solid"
         },
         "marker": {
          "symbol": "circle"
         },
         "mode": "lines",
         "name": "LinUCB - ALS embeddings - 6",
         "orientation": "v",
         "showlegend": true,
         "type": "scatter",
         "x": [
          0,
          0.1,
          0.2,
          0.3,
          0.4,
          0.5,
          0.6,
          0.7,
          0.8,
          0.9,
          1
         ],
         "xaxis": "x",
         "y": [
          0.1431005110732538,
          0.1431005110732538,
          0.1533219761499148,
          0.1362862010221465,
          0.1379897785349233,
          0.1482112436115843,
          0.1396933560477001,
          0.1448040885860306,
          0.141396933560477,
          0.1396933560477001,
          0.1482112436115843
         ],
         "yaxis": "y"
        },
        {
         "hovertemplate": "algorithm=LinUCB - BPR embeddings - 6<br>train_size=%{x}<br>hr=%{y}<extra></extra>",
         "legendgroup": "LinUCB - BPR embeddings - 6",
         "line": {
          "color": "#EF553B",
          "dash": "solid"
         },
         "marker": {
          "symbol": "circle"
         },
         "mode": "lines",
         "name": "LinUCB - BPR embeddings - 6",
         "orientation": "v",
         "showlegend": true,
         "type": "scatter",
         "x": [
          0,
          0.1,
          0.2,
          0.3,
          0.4,
          0.5,
          0.6,
          0.7,
          0.8,
          0.9,
          1
         ],
         "xaxis": "x",
         "y": [
          0.0766609880749574,
          0.0868824531516184,
          0.0647359454855195,
          0.0766609880749574,
          0.0545144804088586,
          0.0630323679727427,
          0.0562180579216354,
          0.0630323679727427,
          0.06984667802385,
          0.0681431005110732,
          0.0681431005110732
         ],
         "yaxis": "y"
        },
        {
         "hovertemplate": "algorithm=LinGreedy - ALS embeddings - 6<br>train_size=%{x}<br>hr=%{y}<extra></extra>",
         "legendgroup": "LinGreedy - ALS embeddings - 6",
         "line": {
          "color": "#00cc96",
          "dash": "solid"
         },
         "marker": {
          "symbol": "circle"
         },
         "mode": "lines",
         "name": "LinGreedy - ALS embeddings - 6",
         "orientation": "v",
         "showlegend": true,
         "type": "scatter",
         "x": [
          0,
          0.1,
          0.2,
          0.3,
          0.4,
          0.5,
          0.6,
          0.7,
          0.8,
          0.9,
          1
         ],
         "xaxis": "x",
         "y": [
          0.1465076660988075,
          0.1482112436115843,
          0.1533219761499148,
          0.1379897785349233,
          0.1362862010221465,
          0.151618398637138,
          0.1448040885860306,
          0.1465076660988075,
          0.1482112436115843,
          0.1448040885860306,
          0.151618398637138
         ],
         "yaxis": "y"
        },
        {
         "hovertemplate": "algorithm=LinGreedy - BPR embeddings - 6<br>train_size=%{x}<br>hr=%{y}<extra></extra>",
         "legendgroup": "LinGreedy - BPR embeddings - 6",
         "line": {
          "color": "#ab63fa",
          "dash": "solid"
         },
         "marker": {
          "symbol": "circle"
         },
         "mode": "lines",
         "name": "LinGreedy - BPR embeddings - 6",
         "orientation": "v",
         "showlegend": true,
         "type": "scatter",
         "x": [
          0,
          0.1,
          0.2,
          0.3,
          0.4,
          0.5,
          0.6,
          0.7,
          0.8,
          0.9,
          1
         ],
         "xaxis": "x",
         "y": [
          0.0868824531516184,
          0.0885860306643952,
          0.06984667802385,
          0.0834752981260647,
          0.0647359454855195,
          0.0664395229982964,
          0.0579216354344122,
          0.0647359454855195,
          0.0681431005110732,
          0.0664395229982964,
          0.0783645655877342
         ],
         "yaxis": "y"
        },
        {
         "hovertemplate": "algorithm=LinUCB - ALS embeddings - 7<br>train_size=%{x}<br>hr=%{y}<extra></extra>",
         "legendgroup": "LinUCB - ALS embeddings - 7",
         "line": {
          "color": "#FFA15A",
          "dash": "solid"
         },
         "marker": {
          "symbol": "circle"
         },
         "mode": "lines",
         "name": "LinUCB - ALS embeddings - 7",
         "orientation": "v",
         "showlegend": true,
         "type": "scatter",
         "x": [
          0,
          0.1,
          0.2,
          0.3,
          0.4,
          0.5,
          0.6,
          0.7,
          0.8,
          0.9,
          1
         ],
         "xaxis": "x",
         "y": [
          0.141396933560477,
          0.141396933560477,
          0.1448040885860306,
          0.1465076660988075,
          0.1465076660988075,
          0.1567291311754685,
          0.1448040885860306,
          0.1482112436115843,
          0.1550255536626916,
          0.151618398637138,
          0.1482112436115843
         ],
         "yaxis": "y"
        },
        {
         "hovertemplate": "algorithm=LinUCB - BPR embeddings - 7<br>train_size=%{x}<br>hr=%{y}<extra></extra>",
         "legendgroup": "LinUCB - BPR embeddings - 7",
         "line": {
          "color": "#19d3f3",
          "dash": "solid"
         },
         "marker": {
          "symbol": "circle"
         },
         "mode": "lines",
         "name": "LinUCB - BPR embeddings - 7",
         "orientation": "v",
         "showlegend": true,
         "type": "scatter",
         "x": [
          0,
          0.1,
          0.2,
          0.3,
          0.4,
          0.5,
          0.6,
          0.7,
          0.8,
          0.9,
          1
         ],
         "xaxis": "x",
         "y": [
          0.0851788756388415,
          0.0783645655877342,
          0.0613287904599659,
          0.0749574105621805,
          0.0545144804088586,
          0.0749574105621805,
          0.0783645655877342,
          0.0732538330494037,
          0.0630323679727427,
          0.0613287904599659,
          0.0647359454855195
         ],
         "yaxis": "y"
        },
        {
         "hovertemplate": "algorithm=LinGreedy - ALS embeddings - 7<br>train_size=%{x}<br>hr=%{y}<extra></extra>",
         "legendgroup": "LinGreedy - ALS embeddings - 7",
         "line": {
          "color": "#FF6692",
          "dash": "solid"
         },
         "marker": {
          "symbol": "circle"
         },
         "mode": "lines",
         "name": "LinGreedy - ALS embeddings - 7",
         "orientation": "v",
         "showlegend": true,
         "type": "scatter",
         "x": [
          0,
          0.1,
          0.2,
          0.3,
          0.4,
          0.5,
          0.6,
          0.7,
          0.8,
          0.9,
          1
         ],
         "xaxis": "x",
         "y": [
          0.1379897785349233,
          0.1379897785349233,
          0.1499148211243611,
          0.1482112436115843,
          0.1482112436115843,
          0.1584327086882453,
          0.1499148211243611,
          0.1465076660988075,
          0.1584327086882453,
          0.1533219761499148,
          0.1550255536626916
         ],
         "yaxis": "y"
        },
        {
         "hovertemplate": "algorithm=LinGreedy - BPR embeddings - 7<br>train_size=%{x}<br>hr=%{y}<extra></extra>",
         "legendgroup": "LinGreedy - BPR embeddings - 7",
         "line": {
          "color": "#B6E880",
          "dash": "solid"
         },
         "marker": {
          "symbol": "circle"
         },
         "mode": "lines",
         "name": "LinGreedy - BPR embeddings - 7",
         "orientation": "v",
         "showlegend": true,
         "type": "scatter",
         "x": [
          0,
          0.1,
          0.2,
          0.3,
          0.4,
          0.5,
          0.6,
          0.7,
          0.8,
          0.9,
          1
         ],
         "xaxis": "x",
         "y": [
          0.0988074957410562,
          0.0885860306643952,
          0.0749574105621805,
          0.0766609880749574,
          0.06984667802385,
          0.0766609880749574,
          0.0885860306643952,
          0.0766609880749574,
          0.0647359454855195,
          0.059625212947189,
          0.0681431005110732
         ],
         "yaxis": "y"
        },
        {
         "hovertemplate": "algorithm=LinUCB - ALS embeddings - 8<br>train_size=%{x}<br>hr=%{y}<extra></extra>",
         "legendgroup": "LinUCB - ALS embeddings - 8",
         "line": {
          "color": "#FF97FF",
          "dash": "solid"
         },
         "marker": {
          "symbol": "circle"
         },
         "mode": "lines",
         "name": "LinUCB - ALS embeddings - 8",
         "orientation": "v",
         "showlegend": true,
         "type": "scatter",
         "x": [
          0,
          0.1,
          0.2,
          0.3,
          0.4,
          0.5,
          0.6,
          0.7,
          0.8,
          0.9,
          1
         ],
         "xaxis": "x",
         "y": [
          0.141396933560477,
          0.1328790459965928,
          0.1499148211243611,
          0.1431005110732538,
          0.1482112436115843,
          0.1567291311754685,
          0.1533219761499148,
          0.1465076660988075,
          0.1499148211243611,
          0.1345826235093696,
          0.1379897785349233
         ],
         "yaxis": "y"
        },
        {
         "hovertemplate": "algorithm=LinUCB - BPR embeddings - 8<br>train_size=%{x}<br>hr=%{y}<extra></extra>",
         "legendgroup": "LinUCB - BPR embeddings - 8",
         "line": {
          "color": "#FECB52",
          "dash": "solid"
         },
         "marker": {
          "symbol": "circle"
         },
         "mode": "lines",
         "name": "LinUCB - BPR embeddings - 8",
         "orientation": "v",
         "showlegend": true,
         "type": "scatter",
         "x": [
          0,
          0.1,
          0.2,
          0.3,
          0.4,
          0.5,
          0.6,
          0.7,
          0.8,
          0.9,
          1
         ],
         "xaxis": "x",
         "y": [
          0.0817717206132879,
          0.0817717206132879,
          0.0851788756388415,
          0.0868824531516184,
          0.059625212947189,
          0.0664395229982964,
          0.0630323679727427,
          0.0630323679727427,
          0.0613287904599659,
          0.059625212947189,
          0.0579216354344122
         ],
         "yaxis": "y"
        },
        {
         "hovertemplate": "algorithm=LinGreedy - ALS embeddings - 8<br>train_size=%{x}<br>hr=%{y}<extra></extra>",
         "legendgroup": "LinGreedy - ALS embeddings - 8",
         "line": {
          "color": "#636efa",
          "dash": "solid"
         },
         "marker": {
          "symbol": "circle"
         },
         "mode": "lines",
         "name": "LinGreedy - ALS embeddings - 8",
         "orientation": "v",
         "showlegend": true,
         "type": "scatter",
         "x": [
          0,
          0.1,
          0.2,
          0.3,
          0.4,
          0.5,
          0.6,
          0.7,
          0.8,
          0.9,
          1
         ],
         "xaxis": "x",
         "y": [
          0.1448040885860306,
          0.1465076660988075,
          0.151618398637138,
          0.1482112436115843,
          0.1465076660988075,
          0.1550255536626916,
          0.1567291311754685,
          0.1482112436115843,
          0.1533219761499148,
          0.1379897785349233,
          0.141396933560477
         ],
         "yaxis": "y"
        },
        {
         "hovertemplate": "algorithm=LinGreedy - BPR embeddings - 8<br>train_size=%{x}<br>hr=%{y}<extra></extra>",
         "legendgroup": "LinGreedy - BPR embeddings - 8",
         "line": {
          "color": "#EF553B",
          "dash": "solid"
         },
         "marker": {
          "symbol": "circle"
         },
         "mode": "lines",
         "name": "LinGreedy - BPR embeddings - 8",
         "orientation": "v",
         "showlegend": true,
         "type": "scatter",
         "x": [
          0,
          0.1,
          0.2,
          0.3,
          0.4,
          0.5,
          0.6,
          0.7,
          0.8,
          0.9,
          1
         ],
         "xaxis": "x",
         "y": [
          0.0885860306643952,
          0.0851788756388415,
          0.0834752981260647,
          0.0954003407155025,
          0.059625212947189,
          0.0715502555366269,
          0.0664395229982964,
          0.0664395229982964,
          0.0630323679727427,
          0.059625212947189,
          0.0630323679727427
         ],
         "yaxis": "y"
        },
        {
         "hovertemplate": "algorithm=LinUCB - ALS embeddings - 9<br>train_size=%{x}<br>hr=%{y}<extra></extra>",
         "legendgroup": "LinUCB - ALS embeddings - 9",
         "line": {
          "color": "#00cc96",
          "dash": "solid"
         },
         "marker": {
          "symbol": "circle"
         },
         "mode": "lines",
         "name": "LinUCB - ALS embeddings - 9",
         "orientation": "v",
         "showlegend": true,
         "type": "scatter",
         "x": [
          0,
          0.1,
          0.2,
          0.3,
          0.4,
          0.5,
          0.6,
          0.7,
          0.8,
          0.9,
          1
         ],
         "xaxis": "x",
         "y": [
          0.1465076660988075,
          0.1379897785349233,
          0.1448040885860306,
          0.1499148211243611,
          0.1448040885860306,
          0.1533219761499148,
          0.1362862010221465,
          0.1345826235093696,
          0.1448040885860306,
          0.131175468483816,
          0.1448040885860306
         ],
         "yaxis": "y"
        },
        {
         "hovertemplate": "algorithm=LinUCB - BPR embeddings - 9<br>train_size=%{x}<br>hr=%{y}<extra></extra>",
         "legendgroup": "LinUCB - BPR embeddings - 9",
         "line": {
          "color": "#ab63fa",
          "dash": "solid"
         },
         "marker": {
          "symbol": "circle"
         },
         "mode": "lines",
         "name": "LinUCB - BPR embeddings - 9",
         "orientation": "v",
         "showlegend": true,
         "type": "scatter",
         "x": [
          0,
          0.1,
          0.2,
          0.3,
          0.4,
          0.5,
          0.6,
          0.7,
          0.8,
          0.9,
          1
         ],
         "xaxis": "x",
         "y": [
          0.1039182282793867,
          0.090289608177172,
          0.0817717206132879,
          0.0783645655877342,
          0.080068143100511,
          0.0664395229982964,
          0.0681431005110732,
          0.0681431005110732,
          0.0528109028960817,
          0.059625212947189,
          0.0630323679727427
         ],
         "yaxis": "y"
        },
        {
         "hovertemplate": "algorithm=LinGreedy - ALS embeddings - 9<br>train_size=%{x}<br>hr=%{y}<extra></extra>",
         "legendgroup": "LinGreedy - ALS embeddings - 9",
         "line": {
          "color": "#FFA15A",
          "dash": "solid"
         },
         "marker": {
          "symbol": "circle"
         },
         "mode": "lines",
         "name": "LinGreedy - ALS embeddings - 9",
         "orientation": "v",
         "showlegend": true,
         "type": "scatter",
         "x": [
          0,
          0.1,
          0.2,
          0.3,
          0.4,
          0.5,
          0.6,
          0.7,
          0.8,
          0.9,
          1
         ],
         "xaxis": "x",
         "y": [
          0.151618398637138,
          0.1431005110732538,
          0.1465076660988075,
          0.1465076660988075,
          0.1431005110732538,
          0.1550255536626916,
          0.141396933560477,
          0.131175468483816,
          0.1448040885860306,
          0.1362862010221465,
          0.1465076660988075
         ],
         "yaxis": "y"
        },
        {
         "hovertemplate": "algorithm=LinGreedy - BPR embeddings - 9<br>train_size=%{x}<br>hr=%{y}<extra></extra>",
         "legendgroup": "LinGreedy - BPR embeddings - 9",
         "line": {
          "color": "#19d3f3",
          "dash": "solid"
         },
         "marker": {
          "symbol": "circle"
         },
         "mode": "lines",
         "name": "LinGreedy - BPR embeddings - 9",
         "orientation": "v",
         "showlegend": true,
         "type": "scatter",
         "x": [
          0,
          0.1,
          0.2,
          0.3,
          0.4,
          0.5,
          0.6,
          0.7,
          0.8,
          0.9,
          1
         ],
         "xaxis": "x",
         "y": [
          0.1073253833049403,
          0.100511073253833,
          0.0936967632027257,
          0.0971039182282793,
          0.0885860306643952,
          0.0715502555366269,
          0.06984667802385,
          0.0715502555366269,
          0.059625212947189,
          0.0613287904599659,
          0.06984667802385
         ],
         "yaxis": "y"
        },
        {
         "hovertemplate": "algorithm=LinUCB - ALS embeddings - 10<br>train_size=%{x}<br>hr=%{y}<extra></extra>",
         "legendgroup": "LinUCB - ALS embeddings - 10",
         "line": {
          "color": "#FF6692",
          "dash": "solid"
         },
         "marker": {
          "symbol": "circle"
         },
         "mode": "lines",
         "name": "LinUCB - ALS embeddings - 10",
         "orientation": "v",
         "showlegend": true,
         "type": "scatter",
         "x": [
          0,
          0.1,
          0.2,
          0.3,
          0.4,
          0.5,
          0.6,
          0.7,
          0.8,
          0.9,
          1
         ],
         "xaxis": "x",
         "y": [
          0.1277683134582623,
          0.1396933560477001,
          0.1362862010221465,
          0.1379897785349233,
          0.1328790459965928,
          0.1431005110732538,
          0.1396933560477001,
          0.131175468483816,
          0.1362862010221465,
          0.1260647359454855,
          0.1431005110732538
         ],
         "yaxis": "y"
        },
        {
         "hovertemplate": "algorithm=LinUCB - BPR embeddings - 10<br>train_size=%{x}<br>hr=%{y}<extra></extra>",
         "legendgroup": "LinUCB - BPR embeddings - 10",
         "line": {
          "color": "#B6E880",
          "dash": "solid"
         },
         "marker": {
          "symbol": "circle"
         },
         "mode": "lines",
         "name": "LinUCB - BPR embeddings - 10",
         "orientation": "v",
         "showlegend": true,
         "type": "scatter",
         "x": [
          0,
          0.1,
          0.2,
          0.3,
          0.4,
          0.5,
          0.6,
          0.7,
          0.8,
          0.9,
          1
         ],
         "xaxis": "x",
         "y": [
          0.1056218057921635,
          0.0971039182282793,
          0.0851788756388415,
          0.0851788756388415,
          0.0817717206132879,
          0.0766609880749574,
          0.06984667802385,
          0.0647359454855195,
          0.0647359454855195,
          0.06984667802385,
          0.0613287904599659
         ],
         "yaxis": "y"
        },
        {
         "hovertemplate": "algorithm=LinGreedy - ALS embeddings - 10<br>train_size=%{x}<br>hr=%{y}<extra></extra>",
         "legendgroup": "LinGreedy - ALS embeddings - 10",
         "line": {
          "color": "#FF97FF",
          "dash": "solid"
         },
         "marker": {
          "symbol": "circle"
         },
         "mode": "lines",
         "name": "LinGreedy - ALS embeddings - 10",
         "orientation": "v",
         "showlegend": true,
         "type": "scatter",
         "x": [
          0,
          0.1,
          0.2,
          0.3,
          0.4,
          0.5,
          0.6,
          0.7,
          0.8,
          0.9,
          1
         ],
         "xaxis": "x",
         "y": [
          0.1328790459965928,
          0.141396933560477,
          0.1345826235093696,
          0.1345826235093696,
          0.1345826235093696,
          0.1482112436115843,
          0.1448040885860306,
          0.131175468483816,
          0.1396933560477001,
          0.131175468483816,
          0.1499148211243611
         ],
         "yaxis": "y"
        },
        {
         "hovertemplate": "algorithm=LinGreedy - BPR embeddings - 10<br>train_size=%{x}<br>hr=%{y}<extra></extra>",
         "legendgroup": "LinGreedy - BPR embeddings - 10",
         "line": {
          "color": "#FECB52",
          "dash": "solid"
         },
         "marker": {
          "symbol": "circle"
         },
         "mode": "lines",
         "name": "LinGreedy - BPR embeddings - 10",
         "orientation": "v",
         "showlegend": true,
         "type": "scatter",
         "x": [
          0,
          0.1,
          0.2,
          0.3,
          0.4,
          0.5,
          0.6,
          0.7,
          0.8,
          0.9,
          1
         ],
         "xaxis": "x",
         "y": [
          0.1141396933560477,
          0.0971039182282793,
          0.0988074957410562,
          0.0936967632027257,
          0.0971039182282793,
          0.0834752981260647,
          0.0766609880749574,
          0.0766609880749574,
          0.0681431005110732,
          0.0749574105621805,
          0.0715502555366269
         ],
         "yaxis": "y"
        },
        {
         "hovertemplate": "algorithm=ALS<br>train_size=%{x}<br>hr=%{y}<extra></extra>",
         "legendgroup": "ALS",
         "line": {
          "color": "#636efa",
          "dash": "solid"
         },
         "marker": {
          "symbol": "circle"
         },
         "mode": "lines",
         "name": "ALS",
         "orientation": "v",
         "showlegend": true,
         "type": "scatter",
         "x": [
          0,
          0.1,
          0.2,
          0.3,
          0.4,
          0.5,
          0.6,
          0.7,
          0.8,
          0.9,
          1
         ],
         "xaxis": "x",
         "y": [
          0.1073253833049403,
          0.120954003407155,
          0.1226575809199318,
          0.1277683134582623,
          0.1260647359454855,
          0.120954003407155,
          0.1124361158432708,
          0.1175468483816013,
          0.1192504258943781,
          0.1294718909710391,
          0.1277683134582623
         ],
         "yaxis": "y"
        },
        {
         "hovertemplate": "algorithm=BPR<br>train_size=%{x}<br>hr=%{y}<extra></extra>",
         "legendgroup": "BPR",
         "line": {
          "color": "#EF553B",
          "dash": "solid"
         },
         "marker": {
          "symbol": "circle"
         },
         "mode": "lines",
         "name": "BPR",
         "orientation": "v",
         "showlegend": true,
         "type": "scatter",
         "x": [
          0,
          0.1,
          0.2,
          0.3,
          0.4,
          0.5,
          0.6,
          0.7,
          0.8,
          0.9,
          1
         ],
         "xaxis": "x",
         "y": [
          0.0732538330494037,
          0.0664395229982964,
          0.0715502555366269,
          0.0630323679727427,
          0.059625212947189,
          0.0613287904599659,
          0.0664395229982964,
          0.06984667802385,
          0.06984667802385,
          0.0664395229982964,
          0.0834752981260647
         ],
         "yaxis": "y"
        }
       ],
       "layout": {
        "legend": {
         "title": {
          "text": "algorithm"
         },
         "tracegroupgap": 0
        },
        "template": {
         "data": {
          "bar": [
           {
            "error_x": {
             "color": "#2a3f5f"
            },
            "error_y": {
             "color": "#2a3f5f"
            },
            "marker": {
             "line": {
              "color": "#E5ECF6",
              "width": 0.5
             },
             "pattern": {
              "fillmode": "overlay",
              "size": 10,
              "solidity": 0.2
             }
            },
            "type": "bar"
           }
          ],
          "barpolar": [
           {
            "marker": {
             "line": {
              "color": "#E5ECF6",
              "width": 0.5
             },
             "pattern": {
              "fillmode": "overlay",
              "size": 10,
              "solidity": 0.2
             }
            },
            "type": "barpolar"
           }
          ],
          "carpet": [
           {
            "aaxis": {
             "endlinecolor": "#2a3f5f",
             "gridcolor": "white",
             "linecolor": "white",
             "minorgridcolor": "white",
             "startlinecolor": "#2a3f5f"
            },
            "baxis": {
             "endlinecolor": "#2a3f5f",
             "gridcolor": "white",
             "linecolor": "white",
             "minorgridcolor": "white",
             "startlinecolor": "#2a3f5f"
            },
            "type": "carpet"
           }
          ],
          "choropleth": [
           {
            "colorbar": {
             "outlinewidth": 0,
             "ticks": ""
            },
            "type": "choropleth"
           }
          ],
          "contour": [
           {
            "colorbar": {
             "outlinewidth": 0,
             "ticks": ""
            },
            "colorscale": [
             [
              0,
              "#0d0887"
             ],
             [
              0.1111111111111111,
              "#46039f"
             ],
             [
              0.2222222222222222,
              "#7201a8"
             ],
             [
              0.3333333333333333,
              "#9c179e"
             ],
             [
              0.4444444444444444,
              "#bd3786"
             ],
             [
              0.5555555555555556,
              "#d8576b"
             ],
             [
              0.6666666666666666,
              "#ed7953"
             ],
             [
              0.7777777777777778,
              "#fb9f3a"
             ],
             [
              0.8888888888888888,
              "#fdca26"
             ],
             [
              1,
              "#f0f921"
             ]
            ],
            "type": "contour"
           }
          ],
          "contourcarpet": [
           {
            "colorbar": {
             "outlinewidth": 0,
             "ticks": ""
            },
            "type": "contourcarpet"
           }
          ],
          "heatmap": [
           {
            "colorbar": {
             "outlinewidth": 0,
             "ticks": ""
            },
            "colorscale": [
             [
              0,
              "#0d0887"
             ],
             [
              0.1111111111111111,
              "#46039f"
             ],
             [
              0.2222222222222222,
              "#7201a8"
             ],
             [
              0.3333333333333333,
              "#9c179e"
             ],
             [
              0.4444444444444444,
              "#bd3786"
             ],
             [
              0.5555555555555556,
              "#d8576b"
             ],
             [
              0.6666666666666666,
              "#ed7953"
             ],
             [
              0.7777777777777778,
              "#fb9f3a"
             ],
             [
              0.8888888888888888,
              "#fdca26"
             ],
             [
              1,
              "#f0f921"
             ]
            ],
            "type": "heatmap"
           }
          ],
          "heatmapgl": [
           {
            "colorbar": {
             "outlinewidth": 0,
             "ticks": ""
            },
            "colorscale": [
             [
              0,
              "#0d0887"
             ],
             [
              0.1111111111111111,
              "#46039f"
             ],
             [
              0.2222222222222222,
              "#7201a8"
             ],
             [
              0.3333333333333333,
              "#9c179e"
             ],
             [
              0.4444444444444444,
              "#bd3786"
             ],
             [
              0.5555555555555556,
              "#d8576b"
             ],
             [
              0.6666666666666666,
              "#ed7953"
             ],
             [
              0.7777777777777778,
              "#fb9f3a"
             ],
             [
              0.8888888888888888,
              "#fdca26"
             ],
             [
              1,
              "#f0f921"
             ]
            ],
            "type": "heatmapgl"
           }
          ],
          "histogram": [
           {
            "marker": {
             "pattern": {
              "fillmode": "overlay",
              "size": 10,
              "solidity": 0.2
             }
            },
            "type": "histogram"
           }
          ],
          "histogram2d": [
           {
            "colorbar": {
             "outlinewidth": 0,
             "ticks": ""
            },
            "colorscale": [
             [
              0,
              "#0d0887"
             ],
             [
              0.1111111111111111,
              "#46039f"
             ],
             [
              0.2222222222222222,
              "#7201a8"
             ],
             [
              0.3333333333333333,
              "#9c179e"
             ],
             [
              0.4444444444444444,
              "#bd3786"
             ],
             [
              0.5555555555555556,
              "#d8576b"
             ],
             [
              0.6666666666666666,
              "#ed7953"
             ],
             [
              0.7777777777777778,
              "#fb9f3a"
             ],
             [
              0.8888888888888888,
              "#fdca26"
             ],
             [
              1,
              "#f0f921"
             ]
            ],
            "type": "histogram2d"
           }
          ],
          "histogram2dcontour": [
           {
            "colorbar": {
             "outlinewidth": 0,
             "ticks": ""
            },
            "colorscale": [
             [
              0,
              "#0d0887"
             ],
             [
              0.1111111111111111,
              "#46039f"
             ],
             [
              0.2222222222222222,
              "#7201a8"
             ],
             [
              0.3333333333333333,
              "#9c179e"
             ],
             [
              0.4444444444444444,
              "#bd3786"
             ],
             [
              0.5555555555555556,
              "#d8576b"
             ],
             [
              0.6666666666666666,
              "#ed7953"
             ],
             [
              0.7777777777777778,
              "#fb9f3a"
             ],
             [
              0.8888888888888888,
              "#fdca26"
             ],
             [
              1,
              "#f0f921"
             ]
            ],
            "type": "histogram2dcontour"
           }
          ],
          "mesh3d": [
           {
            "colorbar": {
             "outlinewidth": 0,
             "ticks": ""
            },
            "type": "mesh3d"
           }
          ],
          "parcoords": [
           {
            "line": {
             "colorbar": {
              "outlinewidth": 0,
              "ticks": ""
             }
            },
            "type": "parcoords"
           }
          ],
          "pie": [
           {
            "automargin": true,
            "type": "pie"
           }
          ],
          "scatter": [
           {
            "fillpattern": {
             "fillmode": "overlay",
             "size": 10,
             "solidity": 0.2
            },
            "type": "scatter"
           }
          ],
          "scatter3d": [
           {
            "line": {
             "colorbar": {
              "outlinewidth": 0,
              "ticks": ""
             }
            },
            "marker": {
             "colorbar": {
              "outlinewidth": 0,
              "ticks": ""
             }
            },
            "type": "scatter3d"
           }
          ],
          "scattercarpet": [
           {
            "marker": {
             "colorbar": {
              "outlinewidth": 0,
              "ticks": ""
             }
            },
            "type": "scattercarpet"
           }
          ],
          "scattergeo": [
           {
            "marker": {
             "colorbar": {
              "outlinewidth": 0,
              "ticks": ""
             }
            },
            "type": "scattergeo"
           }
          ],
          "scattergl": [
           {
            "marker": {
             "colorbar": {
              "outlinewidth": 0,
              "ticks": ""
             }
            },
            "type": "scattergl"
           }
          ],
          "scattermapbox": [
           {
            "marker": {
             "colorbar": {
              "outlinewidth": 0,
              "ticks": ""
             }
            },
            "type": "scattermapbox"
           }
          ],
          "scatterpolar": [
           {
            "marker": {
             "colorbar": {
              "outlinewidth": 0,
              "ticks": ""
             }
            },
            "type": "scatterpolar"
           }
          ],
          "scatterpolargl": [
           {
            "marker": {
             "colorbar": {
              "outlinewidth": 0,
              "ticks": ""
             }
            },
            "type": "scatterpolargl"
           }
          ],
          "scatterternary": [
           {
            "marker": {
             "colorbar": {
              "outlinewidth": 0,
              "ticks": ""
             }
            },
            "type": "scatterternary"
           }
          ],
          "surface": [
           {
            "colorbar": {
             "outlinewidth": 0,
             "ticks": ""
            },
            "colorscale": [
             [
              0,
              "#0d0887"
             ],
             [
              0.1111111111111111,
              "#46039f"
             ],
             [
              0.2222222222222222,
              "#7201a8"
             ],
             [
              0.3333333333333333,
              "#9c179e"
             ],
             [
              0.4444444444444444,
              "#bd3786"
             ],
             [
              0.5555555555555556,
              "#d8576b"
             ],
             [
              0.6666666666666666,
              "#ed7953"
             ],
             [
              0.7777777777777778,
              "#fb9f3a"
             ],
             [
              0.8888888888888888,
              "#fdca26"
             ],
             [
              1,
              "#f0f921"
             ]
            ],
            "type": "surface"
           }
          ],
          "table": [
           {
            "cells": {
             "fill": {
              "color": "#EBF0F8"
             },
             "line": {
              "color": "white"
             }
            },
            "header": {
             "fill": {
              "color": "#C8D4E3"
             },
             "line": {
              "color": "white"
             }
            },
            "type": "table"
           }
          ]
         },
         "layout": {
          "annotationdefaults": {
           "arrowcolor": "#2a3f5f",
           "arrowhead": 0,
           "arrowwidth": 1
          },
          "autotypenumbers": "strict",
          "coloraxis": {
           "colorbar": {
            "outlinewidth": 0,
            "ticks": ""
           }
          },
          "colorscale": {
           "diverging": [
            [
             0,
             "#8e0152"
            ],
            [
             0.1,
             "#c51b7d"
            ],
            [
             0.2,
             "#de77ae"
            ],
            [
             0.3,
             "#f1b6da"
            ],
            [
             0.4,
             "#fde0ef"
            ],
            [
             0.5,
             "#f7f7f7"
            ],
            [
             0.6,
             "#e6f5d0"
            ],
            [
             0.7,
             "#b8e186"
            ],
            [
             0.8,
             "#7fbc41"
            ],
            [
             0.9,
             "#4d9221"
            ],
            [
             1,
             "#276419"
            ]
           ],
           "sequential": [
            [
             0,
             "#0d0887"
            ],
            [
             0.1111111111111111,
             "#46039f"
            ],
            [
             0.2222222222222222,
             "#7201a8"
            ],
            [
             0.3333333333333333,
             "#9c179e"
            ],
            [
             0.4444444444444444,
             "#bd3786"
            ],
            [
             0.5555555555555556,
             "#d8576b"
            ],
            [
             0.6666666666666666,
             "#ed7953"
            ],
            [
             0.7777777777777778,
             "#fb9f3a"
            ],
            [
             0.8888888888888888,
             "#fdca26"
            ],
            [
             1,
             "#f0f921"
            ]
           ],
           "sequentialminus": [
            [
             0,
             "#0d0887"
            ],
            [
             0.1111111111111111,
             "#46039f"
            ],
            [
             0.2222222222222222,
             "#7201a8"
            ],
            [
             0.3333333333333333,
             "#9c179e"
            ],
            [
             0.4444444444444444,
             "#bd3786"
            ],
            [
             0.5555555555555556,
             "#d8576b"
            ],
            [
             0.6666666666666666,
             "#ed7953"
            ],
            [
             0.7777777777777778,
             "#fb9f3a"
            ],
            [
             0.8888888888888888,
             "#fdca26"
            ],
            [
             1,
             "#f0f921"
            ]
           ]
          },
          "colorway": [
           "#636efa",
           "#EF553B",
           "#00cc96",
           "#ab63fa",
           "#FFA15A",
           "#19d3f3",
           "#FF6692",
           "#B6E880",
           "#FF97FF",
           "#FECB52"
          ],
          "font": {
           "color": "#2a3f5f"
          },
          "geo": {
           "bgcolor": "white",
           "lakecolor": "white",
           "landcolor": "#E5ECF6",
           "showlakes": true,
           "showland": true,
           "subunitcolor": "white"
          },
          "hoverlabel": {
           "align": "left"
          },
          "hovermode": "closest",
          "mapbox": {
           "style": "light"
          },
          "paper_bgcolor": "white",
          "plot_bgcolor": "#E5ECF6",
          "polar": {
           "angularaxis": {
            "gridcolor": "white",
            "linecolor": "white",
            "ticks": ""
           },
           "bgcolor": "#E5ECF6",
           "radialaxis": {
            "gridcolor": "white",
            "linecolor": "white",
            "ticks": ""
           }
          },
          "scene": {
           "xaxis": {
            "backgroundcolor": "#E5ECF6",
            "gridcolor": "white",
            "gridwidth": 2,
            "linecolor": "white",
            "showbackground": true,
            "ticks": "",
            "zerolinecolor": "white"
           },
           "yaxis": {
            "backgroundcolor": "#E5ECF6",
            "gridcolor": "white",
            "gridwidth": 2,
            "linecolor": "white",
            "showbackground": true,
            "ticks": "",
            "zerolinecolor": "white"
           },
           "zaxis": {
            "backgroundcolor": "#E5ECF6",
            "gridcolor": "white",
            "gridwidth": 2,
            "linecolor": "white",
            "showbackground": true,
            "ticks": "",
            "zerolinecolor": "white"
           }
          },
          "shapedefaults": {
           "line": {
            "color": "#2a3f5f"
           }
          },
          "ternary": {
           "aaxis": {
            "gridcolor": "white",
            "linecolor": "white",
            "ticks": ""
           },
           "baxis": {
            "gridcolor": "white",
            "linecolor": "white",
            "ticks": ""
           },
           "bgcolor": "#E5ECF6",
           "caxis": {
            "gridcolor": "white",
            "linecolor": "white",
            "ticks": ""
           }
          },
          "title": {
           "x": 0.05
          },
          "xaxis": {
           "automargin": true,
           "gridcolor": "white",
           "linecolor": "white",
           "ticks": "",
           "title": {
            "standoff": 15
           },
           "zerolinecolor": "white",
           "zerolinewidth": 2
          },
          "yaxis": {
           "automargin": true,
           "gridcolor": "white",
           "linecolor": "white",
           "ticks": "",
           "title": {
            "standoff": 15
           },
           "zerolinecolor": "white",
           "zerolinewidth": 2
          }
         }
        },
        "title": {
         "text": "HR x Train size"
        },
        "xaxis": {
         "anchor": "y",
         "domain": [
          0,
          1
         ],
         "title": {
          "text": "train_size"
         }
        },
        "yaxis": {
         "anchor": "x",
         "domain": [
          0,
          1
         ],
         "title": {
          "text": "hr"
         }
        }
       }
      }
     },
     "metadata": {},
     "output_type": "display_data"
    }
   ],
   "source": [
    "fig = px.line(df_results, x=\"train_size\", y=\"hr\", color='algorithm', title='HR x Train size')\n",
    "fig.show()\n",
    "fig.write_html('results-v9/hr_x_train_size.html')"
   ]
  },
  {
   "cell_type": "code",
   "execution_count": 80,
   "metadata": {},
   "outputs": [
    {
     "data": {
      "text/html": [
       "<div>\n",
       "<style scoped>\n",
       "    .dataframe tbody tr th:only-of-type {\n",
       "        vertical-align: middle;\n",
       "    }\n",
       "\n",
       "    .dataframe tbody tr th {\n",
       "        vertical-align: top;\n",
       "    }\n",
       "\n",
       "    .dataframe thead th {\n",
       "        text-align: right;\n",
       "    }\n",
       "</style>\n",
       "<table border=\"1\" class=\"dataframe\">\n",
       "  <thead>\n",
       "    <tr style=\"text-align: right;\">\n",
       "      <th></th>\n",
       "      <th>algorithm</th>\n",
       "      <th>hits</th>\n",
       "      <th>hr</th>\n",
       "      <th>time</th>\n",
       "      <th>train_size</th>\n",
       "      <th>test_size</th>\n",
       "      <th>test_interactions</th>\n",
       "    </tr>\n",
       "  </thead>\n",
       "  <tbody>\n",
       "    <tr>\n",
       "      <th>0</th>\n",
       "      <td>LinUCB - ALS embeddings - 1</td>\n",
       "      <td>83</td>\n",
       "      <td>0.141397</td>\n",
       "      <td>0.185742</td>\n",
       "      <td>0.0</td>\n",
       "      <td>0.1</td>\n",
       "      <td>587</td>\n",
       "    </tr>\n",
       "    <tr>\n",
       "      <th>1</th>\n",
       "      <td>LinUCB - BPR embeddings - 1</td>\n",
       "      <td>33</td>\n",
       "      <td>0.056218</td>\n",
       "      <td>0.172575</td>\n",
       "      <td>0.0</td>\n",
       "      <td>0.1</td>\n",
       "      <td>587</td>\n",
       "    </tr>\n",
       "    <tr>\n",
       "      <th>2</th>\n",
       "      <td>LinGreedy - ALS embeddings - 1</td>\n",
       "      <td>84</td>\n",
       "      <td>0.143101</td>\n",
       "      <td>0.116841</td>\n",
       "      <td>0.0</td>\n",
       "      <td>0.1</td>\n",
       "      <td>587</td>\n",
       "    </tr>\n",
       "    <tr>\n",
       "      <th>3</th>\n",
       "      <td>LinGreedy - BPR embeddings - 1</td>\n",
       "      <td>33</td>\n",
       "      <td>0.056218</td>\n",
       "      <td>0.117254</td>\n",
       "      <td>0.0</td>\n",
       "      <td>0.1</td>\n",
       "      <td>587</td>\n",
       "    </tr>\n",
       "    <tr>\n",
       "      <th>36</th>\n",
       "      <td>LinUCB - ALS embeddings - 10</td>\n",
       "      <td>75</td>\n",
       "      <td>0.127768</td>\n",
       "      <td>0.294558</td>\n",
       "      <td>0.0</td>\n",
       "      <td>0.1</td>\n",
       "      <td>587</td>\n",
       "    </tr>\n",
       "    <tr>\n",
       "      <th>...</th>\n",
       "      <td>...</td>\n",
       "      <td>...</td>\n",
       "      <td>...</td>\n",
       "      <td>...</td>\n",
       "      <td>...</td>\n",
       "      <td>...</td>\n",
       "      <td>...</td>\n",
       "    </tr>\n",
       "    <tr>\n",
       "      <th>457</th>\n",
       "      <td>BPR</td>\n",
       "      <td>41</td>\n",
       "      <td>0.069847</td>\n",
       "      <td>0.285998</td>\n",
       "      <td>0.8</td>\n",
       "      <td>0.1</td>\n",
       "      <td>587</td>\n",
       "    </tr>\n",
       "    <tr>\n",
       "      <th>458</th>\n",
       "      <td>ALS</td>\n",
       "      <td>76</td>\n",
       "      <td>0.129472</td>\n",
       "      <td>0.292029</td>\n",
       "      <td>0.9</td>\n",
       "      <td>0.1</td>\n",
       "      <td>587</td>\n",
       "    </tr>\n",
       "    <tr>\n",
       "      <th>459</th>\n",
       "      <td>BPR</td>\n",
       "      <td>39</td>\n",
       "      <td>0.066440</td>\n",
       "      <td>0.253030</td>\n",
       "      <td>0.9</td>\n",
       "      <td>0.1</td>\n",
       "      <td>587</td>\n",
       "    </tr>\n",
       "    <tr>\n",
       "      <th>460</th>\n",
       "      <td>ALS</td>\n",
       "      <td>75</td>\n",
       "      <td>0.127768</td>\n",
       "      <td>0.266718</td>\n",
       "      <td>1.0</td>\n",
       "      <td>0.1</td>\n",
       "      <td>587</td>\n",
       "    </tr>\n",
       "    <tr>\n",
       "      <th>461</th>\n",
       "      <td>BPR</td>\n",
       "      <td>49</td>\n",
       "      <td>0.083475</td>\n",
       "      <td>0.222049</td>\n",
       "      <td>1.0</td>\n",
       "      <td>0.1</td>\n",
       "      <td>587</td>\n",
       "    </tr>\n",
       "  </tbody>\n",
       "</table>\n",
       "<p>110 rows × 7 columns</p>\n",
       "</div>"
      ],
      "text/plain": [
       "                          algorithm  hits        hr      time  train_size  \\\n",
       "0       LinUCB - ALS embeddings - 1    83  0.141397  0.185742         0.0   \n",
       "1       LinUCB - BPR embeddings - 1    33  0.056218  0.172575         0.0   \n",
       "2    LinGreedy - ALS embeddings - 1    84  0.143101  0.116841         0.0   \n",
       "3    LinGreedy - BPR embeddings - 1    33  0.056218  0.117254         0.0   \n",
       "36     LinUCB - ALS embeddings - 10    75  0.127768  0.294558         0.0   \n",
       "..                              ...   ...       ...       ...         ...   \n",
       "457                             BPR    41  0.069847  0.285998         0.8   \n",
       "458                             ALS    76  0.129472  0.292029         0.9   \n",
       "459                             BPR    39  0.066440  0.253030         0.9   \n",
       "460                             ALS    75  0.127768  0.266718         1.0   \n",
       "461                             BPR    49  0.083475  0.222049         1.0   \n",
       "\n",
       "     test_size  test_interactions  \n",
       "0          0.1                587  \n",
       "1          0.1                587  \n",
       "2          0.1                587  \n",
       "3          0.1                587  \n",
       "36         0.1                587  \n",
       "..         ...                ...  \n",
       "457        0.1                587  \n",
       "458        0.1                587  \n",
       "459        0.1                587  \n",
       "460        0.1                587  \n",
       "461        0.1                587  \n",
       "\n",
       "[110 rows x 7 columns]"
      ]
     },
     "execution_count": 80,
     "metadata": {},
     "output_type": "execute_result"
    }
   ],
   "source": [
    "df_results = df_results[(df_results['algorithm'].str.contains('1')) | (df_results['algorithm'] == 'ALS') | (df_results['algorithm'] == 'BPR')]\n",
    "df_results"
   ]
  },
  {
   "cell_type": "code",
   "execution_count": 81,
   "metadata": {},
   "outputs": [
    {
     "data": {
      "text/html": [
       "<div>\n",
       "<style scoped>\n",
       "    .dataframe tbody tr th:only-of-type {\n",
       "        vertical-align: middle;\n",
       "    }\n",
       "\n",
       "    .dataframe tbody tr th {\n",
       "        vertical-align: top;\n",
       "    }\n",
       "\n",
       "    .dataframe thead th {\n",
       "        text-align: right;\n",
       "    }\n",
       "</style>\n",
       "<table border=\"1\" class=\"dataframe\">\n",
       "  <thead>\n",
       "    <tr style=\"text-align: right;\">\n",
       "      <th></th>\n",
       "      <th>algorithm</th>\n",
       "      <th>hits</th>\n",
       "      <th>hr</th>\n",
       "      <th>time</th>\n",
       "      <th>train_size</th>\n",
       "      <th>test_size</th>\n",
       "      <th>test_interactions</th>\n",
       "    </tr>\n",
       "  </thead>\n",
       "  <tbody>\n",
       "    <tr>\n",
       "      <th>0</th>\n",
       "      <td>LinUCB - ALS embeddings</td>\n",
       "      <td>83</td>\n",
       "      <td>0.141397</td>\n",
       "      <td>0.185742</td>\n",
       "      <td>0.0</td>\n",
       "      <td>0.1</td>\n",
       "      <td>587</td>\n",
       "    </tr>\n",
       "    <tr>\n",
       "      <th>1</th>\n",
       "      <td>LinUCB - BPR embeddings</td>\n",
       "      <td>33</td>\n",
       "      <td>0.056218</td>\n",
       "      <td>0.172575</td>\n",
       "      <td>0.0</td>\n",
       "      <td>0.1</td>\n",
       "      <td>587</td>\n",
       "    </tr>\n",
       "    <tr>\n",
       "      <th>2</th>\n",
       "      <td>LinGreedy - ALS embeddings</td>\n",
       "      <td>84</td>\n",
       "      <td>0.143101</td>\n",
       "      <td>0.116841</td>\n",
       "      <td>0.0</td>\n",
       "      <td>0.1</td>\n",
       "      <td>587</td>\n",
       "    </tr>\n",
       "    <tr>\n",
       "      <th>3</th>\n",
       "      <td>LinGreedy - BPR embeddings</td>\n",
       "      <td>33</td>\n",
       "      <td>0.056218</td>\n",
       "      <td>0.117254</td>\n",
       "      <td>0.0</td>\n",
       "      <td>0.1</td>\n",
       "      <td>587</td>\n",
       "    </tr>\n",
       "    <tr>\n",
       "      <th>36</th>\n",
       "      <td>LinUCB - ALS embeddings0</td>\n",
       "      <td>75</td>\n",
       "      <td>0.127768</td>\n",
       "      <td>0.294558</td>\n",
       "      <td>0.0</td>\n",
       "      <td>0.1</td>\n",
       "      <td>587</td>\n",
       "    </tr>\n",
       "    <tr>\n",
       "      <th>...</th>\n",
       "      <td>...</td>\n",
       "      <td>...</td>\n",
       "      <td>...</td>\n",
       "      <td>...</td>\n",
       "      <td>...</td>\n",
       "      <td>...</td>\n",
       "      <td>...</td>\n",
       "    </tr>\n",
       "    <tr>\n",
       "      <th>457</th>\n",
       "      <td>BPR</td>\n",
       "      <td>41</td>\n",
       "      <td>0.069847</td>\n",
       "      <td>0.285998</td>\n",
       "      <td>0.8</td>\n",
       "      <td>0.1</td>\n",
       "      <td>587</td>\n",
       "    </tr>\n",
       "    <tr>\n",
       "      <th>458</th>\n",
       "      <td>ALS</td>\n",
       "      <td>76</td>\n",
       "      <td>0.129472</td>\n",
       "      <td>0.292029</td>\n",
       "      <td>0.9</td>\n",
       "      <td>0.1</td>\n",
       "      <td>587</td>\n",
       "    </tr>\n",
       "    <tr>\n",
       "      <th>459</th>\n",
       "      <td>BPR</td>\n",
       "      <td>39</td>\n",
       "      <td>0.066440</td>\n",
       "      <td>0.253030</td>\n",
       "      <td>0.9</td>\n",
       "      <td>0.1</td>\n",
       "      <td>587</td>\n",
       "    </tr>\n",
       "    <tr>\n",
       "      <th>460</th>\n",
       "      <td>ALS</td>\n",
       "      <td>75</td>\n",
       "      <td>0.127768</td>\n",
       "      <td>0.266718</td>\n",
       "      <td>1.0</td>\n",
       "      <td>0.1</td>\n",
       "      <td>587</td>\n",
       "    </tr>\n",
       "    <tr>\n",
       "      <th>461</th>\n",
       "      <td>BPR</td>\n",
       "      <td>49</td>\n",
       "      <td>0.083475</td>\n",
       "      <td>0.222049</td>\n",
       "      <td>1.0</td>\n",
       "      <td>0.1</td>\n",
       "      <td>587</td>\n",
       "    </tr>\n",
       "  </tbody>\n",
       "</table>\n",
       "<p>110 rows × 7 columns</p>\n",
       "</div>"
      ],
      "text/plain": [
       "                      algorithm  hits        hr      time  train_size  \\\n",
       "0       LinUCB - ALS embeddings    83  0.141397  0.185742         0.0   \n",
       "1       LinUCB - BPR embeddings    33  0.056218  0.172575         0.0   \n",
       "2    LinGreedy - ALS embeddings    84  0.143101  0.116841         0.0   \n",
       "3    LinGreedy - BPR embeddings    33  0.056218  0.117254         0.0   \n",
       "36     LinUCB - ALS embeddings0    75  0.127768  0.294558         0.0   \n",
       "..                          ...   ...       ...       ...         ...   \n",
       "457                         BPR    41  0.069847  0.285998         0.8   \n",
       "458                         ALS    76  0.129472  0.292029         0.9   \n",
       "459                         BPR    39  0.066440  0.253030         0.9   \n",
       "460                         ALS    75  0.127768  0.266718         1.0   \n",
       "461                         BPR    49  0.083475  0.222049         1.0   \n",
       "\n",
       "     test_size  test_interactions  \n",
       "0          0.1                587  \n",
       "1          0.1                587  \n",
       "2          0.1                587  \n",
       "3          0.1                587  \n",
       "36         0.1                587  \n",
       "..         ...                ...  \n",
       "457        0.1                587  \n",
       "458        0.1                587  \n",
       "459        0.1                587  \n",
       "460        0.1                587  \n",
       "461        0.1                587  \n",
       "\n",
       "[110 rows x 7 columns]"
      ]
     },
     "execution_count": 81,
     "metadata": {},
     "output_type": "execute_result"
    }
   ],
   "source": [
    "df_results['algorithm'] = df_results['algorithm'].str.replace(' - 1', '')\n",
    "df_results"
   ]
  },
  {
   "cell_type": "code",
   "execution_count": 83,
   "metadata": {},
   "outputs": [],
   "source": [
    "def remove_incremental(df_results):\n",
    "    new_df = df_results[(~df_results['algorithm'].str.contains('incremental') | df_results['algorithm'].str.contains('non-incremental'))]\n",
    "    new_df['algorithm'] = new_df['algorithm'].str.replace(' - non-incremental', '')\n",
    "    return new_df"
   ]
  },
  {
   "cell_type": "code",
   "execution_count": 84,
   "metadata": {},
   "outputs": [],
   "source": [
    "def transform_in_upper_and_lower_bounds(df_results, algo_names):\n",
    "    train_sizes = sorted(df_results['train_size'].unique().tolist())\n",
    "    min_train_size = train_sizes[0]\n",
    "    max_train_size = train_sizes[-1]\n",
    "    qnt_train_sizes = len(train_sizes)\n",
    "\n",
    "    for algo_name in algo_names:\n",
    "        algo_row_lower = df_results[(df_results['algorithm'] == algo_name) & (df_results['train_size'] == min_train_size)]\n",
    "        df_lower = pd.DataFrame({\n",
    "            'algorithm': [f'{algo_name} lower'] * qnt_train_sizes,\n",
    "            'hits': [algo_row_lower['hits'].values[0]] * qnt_train_sizes,\n",
    "            'hr': [algo_row_lower['hr'].values[0]] * qnt_train_sizes,\n",
    "            'time': [algo_row_lower['time'].values[0]] * qnt_train_sizes,\n",
    "            'train_size': train_sizes,\n",
    "            'test_size': [algo_row_lower['test_size'].values[0]] * qnt_train_sizes,\n",
    "            'test_interactions': [algo_row_lower['test_interactions'].values[0]] * qnt_train_sizes\n",
    "        })\n",
    "        df_results = pd.concat([df_results, df_lower])\n",
    "\n",
    "        algo_row_upper = df_results[(df_results['algorithm'] == algo_name) & (df_results['train_size'] == max_train_size)]\n",
    "        df_upper = pd.DataFrame({\n",
    "            'algorithm': [f'{algo_name} upper'] * qnt_train_sizes,\n",
    "            'hits': [algo_row_upper['hits'].values[0]] * qnt_train_sizes,\n",
    "            'hr': [algo_row_upper['hr'].values[0]] * qnt_train_sizes,\n",
    "            'time': [algo_row_upper['time'].values[0]] * qnt_train_sizes,\n",
    "            'train_size': train_sizes,\n",
    "            'test_size': [algo_row_upper['test_size'].values[0]] * qnt_train_sizes,\n",
    "            'test_interactions': [algo_row_upper['test_interactions'].values[0]] * qnt_train_sizes\n",
    "        })\n",
    "        df_results = pd.concat([df_results, df_upper])\n",
    "\n",
    "        df_results = df_results[df_results['algorithm'] != algo_name]\n",
    "    \n",
    "    return df_results"
   ]
  },
  {
   "cell_type": "code",
   "execution_count": 85,
   "metadata": {},
   "outputs": [],
   "source": [
    "import plotly.graph_objects as go\n",
    "\n",
    "def plot_results(df_results, save_root):\n",
    "    df_results = remove_incremental(df_results)\n",
    "    df_results = transform_in_upper_and_lower_bounds(df_results, ['ALS', 'BPR'])\n",
    "\n",
    "    algos_configs = {\n",
    "        'ALS upper': {'color': 'blue', 'dash': 'dash'},\n",
    "        'ALS lower': {'color': 'blue', 'dash': 'dash'},\n",
    "        'BPR upper': {'color': 'red', 'dash': 'dash'},\n",
    "        'BPR lower': {'color': 'red', 'dash': 'dash'},\n",
    "        'LinUCB - ALS embeddings': {'color': 'green', 'dash': 'solid'},\n",
    "        'LinUCB - BPR embeddings': {'color': 'purple', 'dash': 'solid'},\n",
    "        'LinGreedy - ALS embeddings': {'color': 'orange', 'dash': 'solid'},\n",
    "        'LinGreedy - BPR embeddings': {'color': 'pink', 'dash': 'solid'}\n",
    "    }\n",
    "\n",
    "    fig = go.Figure()\n",
    "    for algo_name, config in algos_configs.items():\n",
    "        df_algo = df_results[df_results['algorithm'] == algo_name]\n",
    "        fig.add_trace(go.Scatter(x=df_algo['train_size'], y=df_algo['hr'], mode='lines', name=algo_name, line=dict(color=config['color'], dash=config['dash'])))\n",
    "    \n",
    "    fig.update_layout(title='HR x Train size', xaxis_title='Train size', yaxis_title='HR')\n",
    "    fig.show()\n",
    "\n",
    "    fig.write_html(f'{save_root}/hr_x_train_size.html')\n",
    "    fig.write_image(f'{save_root}/hr_x_train_size.png')"
   ]
  },
  {
   "cell_type": "code",
   "execution_count": 86,
   "metadata": {},
   "outputs": [
    {
     "data": {
      "text/html": [
       "<div>\n",
       "<style scoped>\n",
       "    .dataframe tbody tr th:only-of-type {\n",
       "        vertical-align: middle;\n",
       "    }\n",
       "\n",
       "    .dataframe tbody tr th {\n",
       "        vertical-align: top;\n",
       "    }\n",
       "\n",
       "    .dataframe thead th {\n",
       "        text-align: right;\n",
       "    }\n",
       "</style>\n",
       "<table border=\"1\" class=\"dataframe\">\n",
       "  <thead>\n",
       "    <tr style=\"text-align: right;\">\n",
       "      <th></th>\n",
       "      <th>algorithm</th>\n",
       "      <th>hits</th>\n",
       "      <th>hr</th>\n",
       "      <th>time</th>\n",
       "      <th>train_size</th>\n",
       "      <th>test_size</th>\n",
       "      <th>test_interactions</th>\n",
       "    </tr>\n",
       "  </thead>\n",
       "  <tbody>\n",
       "    <tr>\n",
       "      <th>0</th>\n",
       "      <td>LinUCB - ALS embeddings</td>\n",
       "      <td>83</td>\n",
       "      <td>0.141397</td>\n",
       "      <td>0.185742</td>\n",
       "      <td>0.0</td>\n",
       "      <td>0.1</td>\n",
       "      <td>587</td>\n",
       "    </tr>\n",
       "    <tr>\n",
       "      <th>1</th>\n",
       "      <td>LinUCB - BPR embeddings</td>\n",
       "      <td>33</td>\n",
       "      <td>0.056218</td>\n",
       "      <td>0.172575</td>\n",
       "      <td>0.0</td>\n",
       "      <td>0.1</td>\n",
       "      <td>587</td>\n",
       "    </tr>\n",
       "    <tr>\n",
       "      <th>2</th>\n",
       "      <td>LinGreedy - ALS embeddings</td>\n",
       "      <td>84</td>\n",
       "      <td>0.143101</td>\n",
       "      <td>0.116841</td>\n",
       "      <td>0.0</td>\n",
       "      <td>0.1</td>\n",
       "      <td>587</td>\n",
       "    </tr>\n",
       "    <tr>\n",
       "      <th>3</th>\n",
       "      <td>LinGreedy - BPR embeddings</td>\n",
       "      <td>33</td>\n",
       "      <td>0.056218</td>\n",
       "      <td>0.117254</td>\n",
       "      <td>0.0</td>\n",
       "      <td>0.1</td>\n",
       "      <td>587</td>\n",
       "    </tr>\n",
       "    <tr>\n",
       "      <th>36</th>\n",
       "      <td>LinUCB - ALS embeddings0</td>\n",
       "      <td>75</td>\n",
       "      <td>0.127768</td>\n",
       "      <td>0.294558</td>\n",
       "      <td>0.0</td>\n",
       "      <td>0.1</td>\n",
       "      <td>587</td>\n",
       "    </tr>\n",
       "    <tr>\n",
       "      <th>...</th>\n",
       "      <td>...</td>\n",
       "      <td>...</td>\n",
       "      <td>...</td>\n",
       "      <td>...</td>\n",
       "      <td>...</td>\n",
       "      <td>...</td>\n",
       "      <td>...</td>\n",
       "    </tr>\n",
       "    <tr>\n",
       "      <th>457</th>\n",
       "      <td>BPR</td>\n",
       "      <td>41</td>\n",
       "      <td>0.069847</td>\n",
       "      <td>0.285998</td>\n",
       "      <td>0.8</td>\n",
       "      <td>0.1</td>\n",
       "      <td>587</td>\n",
       "    </tr>\n",
       "    <tr>\n",
       "      <th>458</th>\n",
       "      <td>ALS</td>\n",
       "      <td>76</td>\n",
       "      <td>0.129472</td>\n",
       "      <td>0.292029</td>\n",
       "      <td>0.9</td>\n",
       "      <td>0.1</td>\n",
       "      <td>587</td>\n",
       "    </tr>\n",
       "    <tr>\n",
       "      <th>459</th>\n",
       "      <td>BPR</td>\n",
       "      <td>39</td>\n",
       "      <td>0.066440</td>\n",
       "      <td>0.253030</td>\n",
       "      <td>0.9</td>\n",
       "      <td>0.1</td>\n",
       "      <td>587</td>\n",
       "    </tr>\n",
       "    <tr>\n",
       "      <th>460</th>\n",
       "      <td>ALS</td>\n",
       "      <td>75</td>\n",
       "      <td>0.127768</td>\n",
       "      <td>0.266718</td>\n",
       "      <td>1.0</td>\n",
       "      <td>0.1</td>\n",
       "      <td>587</td>\n",
       "    </tr>\n",
       "    <tr>\n",
       "      <th>461</th>\n",
       "      <td>BPR</td>\n",
       "      <td>49</td>\n",
       "      <td>0.083475</td>\n",
       "      <td>0.222049</td>\n",
       "      <td>1.0</td>\n",
       "      <td>0.1</td>\n",
       "      <td>587</td>\n",
       "    </tr>\n",
       "  </tbody>\n",
       "</table>\n",
       "<p>110 rows × 7 columns</p>\n",
       "</div>"
      ],
      "text/plain": [
       "                      algorithm  hits        hr      time  train_size  \\\n",
       "0       LinUCB - ALS embeddings    83  0.141397  0.185742         0.0   \n",
       "1       LinUCB - BPR embeddings    33  0.056218  0.172575         0.0   \n",
       "2    LinGreedy - ALS embeddings    84  0.143101  0.116841         0.0   \n",
       "3    LinGreedy - BPR embeddings    33  0.056218  0.117254         0.0   \n",
       "36     LinUCB - ALS embeddings0    75  0.127768  0.294558         0.0   \n",
       "..                          ...   ...       ...       ...         ...   \n",
       "457                         BPR    41  0.069847  0.285998         0.8   \n",
       "458                         ALS    76  0.129472  0.292029         0.9   \n",
       "459                         BPR    39  0.066440  0.253030         0.9   \n",
       "460                         ALS    75  0.127768  0.266718         1.0   \n",
       "461                         BPR    49  0.083475  0.222049         1.0   \n",
       "\n",
       "     test_size  test_interactions  \n",
       "0          0.1                587  \n",
       "1          0.1                587  \n",
       "2          0.1                587  \n",
       "3          0.1                587  \n",
       "36         0.1                587  \n",
       "..         ...                ...  \n",
       "457        0.1                587  \n",
       "458        0.1                587  \n",
       "459        0.1                587  \n",
       "460        0.1                587  \n",
       "461        0.1                587  \n",
       "\n",
       "[110 rows x 7 columns]"
      ]
     },
     "metadata": {},
     "output_type": "display_data"
    },
    {
     "data": {
      "application/vnd.plotly.v1+json": {
       "config": {
        "plotlyServerURL": "https://plot.ly"
       },
       "data": [
        {
         "line": {
          "color": "blue",
          "dash": "dash"
         },
         "mode": "lines",
         "name": "ALS upper",
         "type": "scatter",
         "x": [
          0,
          0.1,
          0.2,
          0.3,
          0.4,
          0.5,
          0.6,
          0.7,
          0.8,
          0.9,
          1
         ],
         "y": [
          0.1277683134582623,
          0.1277683134582623,
          0.1277683134582623,
          0.1277683134582623,
          0.1277683134582623,
          0.1277683134582623,
          0.1277683134582623,
          0.1277683134582623,
          0.1277683134582623,
          0.1277683134582623,
          0.1277683134582623
         ]
        },
        {
         "line": {
          "color": "blue",
          "dash": "dash"
         },
         "mode": "lines",
         "name": "ALS lower",
         "type": "scatter",
         "x": [
          0,
          0.1,
          0.2,
          0.3,
          0.4,
          0.5,
          0.6,
          0.7,
          0.8,
          0.9,
          1
         ],
         "y": [
          0.1073253833049403,
          0.1073253833049403,
          0.1073253833049403,
          0.1073253833049403,
          0.1073253833049403,
          0.1073253833049403,
          0.1073253833049403,
          0.1073253833049403,
          0.1073253833049403,
          0.1073253833049403,
          0.1073253833049403
         ]
        },
        {
         "line": {
          "color": "red",
          "dash": "dash"
         },
         "mode": "lines",
         "name": "BPR upper",
         "type": "scatter",
         "x": [
          0,
          0.1,
          0.2,
          0.3,
          0.4,
          0.5,
          0.6,
          0.7,
          0.8,
          0.9,
          1
         ],
         "y": [
          0.0834752981260647,
          0.0834752981260647,
          0.0834752981260647,
          0.0834752981260647,
          0.0834752981260647,
          0.0834752981260647,
          0.0834752981260647,
          0.0834752981260647,
          0.0834752981260647,
          0.0834752981260647,
          0.0834752981260647
         ]
        },
        {
         "line": {
          "color": "red",
          "dash": "dash"
         },
         "mode": "lines",
         "name": "BPR lower",
         "type": "scatter",
         "x": [
          0,
          0.1,
          0.2,
          0.3,
          0.4,
          0.5,
          0.6,
          0.7,
          0.8,
          0.9,
          1
         ],
         "y": [
          0.0732538330494037,
          0.0732538330494037,
          0.0732538330494037,
          0.0732538330494037,
          0.0732538330494037,
          0.0732538330494037,
          0.0732538330494037,
          0.0732538330494037,
          0.0732538330494037,
          0.0732538330494037,
          0.0732538330494037
         ]
        },
        {
         "line": {
          "color": "green",
          "dash": "solid"
         },
         "mode": "lines",
         "name": "LinUCB - ALS embeddings",
         "type": "scatter",
         "x": [
          0,
          0.1,
          0.2,
          0.3,
          0.4,
          0.5,
          0.6,
          0.7,
          0.8,
          0.9,
          1
         ],
         "y": [
          0.141396933560477,
          0.141396933560477,
          0.1448040885860306,
          0.1482112436115843,
          0.1499148211243611,
          0.1482112436115843,
          0.1601362862010221,
          0.1533219761499148,
          0.1567291311754685,
          0.1686541737649063,
          0.1737649063032368
         ]
        },
        {
         "line": {
          "color": "purple",
          "dash": "solid"
         },
         "mode": "lines",
         "name": "LinUCB - BPR embeddings",
         "type": "scatter",
         "x": [
          0,
          0.1,
          0.2,
          0.3,
          0.4,
          0.5,
          0.6,
          0.7,
          0.8,
          0.9,
          1
         ],
         "y": [
          0.0562180579216354,
          0.0647359454855195,
          0.0647359454855195,
          0.0579216354344122,
          0.0613287904599659,
          0.0613287904599659,
          0.0664395229982964,
          0.0732538330494037,
          0.0817717206132879,
          0.080068143100511,
          0.0851788756388415
         ]
        },
        {
         "line": {
          "color": "orange",
          "dash": "solid"
         },
         "mode": "lines",
         "name": "LinGreedy - ALS embeddings",
         "type": "scatter",
         "x": [
          0,
          0.1,
          0.2,
          0.3,
          0.4,
          0.5,
          0.6,
          0.7,
          0.8,
          0.9,
          1
         ],
         "y": [
          0.1431005110732538,
          0.141396933560477,
          0.1431005110732538,
          0.1499148211243611,
          0.1533219761499148,
          0.1465076660988075,
          0.1584327086882453,
          0.151618398637138,
          0.1567291311754685,
          0.1703577512776831,
          0.1754684838160136
         ]
        },
        {
         "line": {
          "color": "pink",
          "dash": "solid"
         },
         "mode": "lines",
         "name": "LinGreedy - BPR embeddings",
         "type": "scatter",
         "x": [
          0,
          0.1,
          0.2,
          0.3,
          0.4,
          0.5,
          0.6,
          0.7,
          0.8,
          0.9,
          1
         ],
         "y": [
          0.0562180579216354,
          0.0613287904599659,
          0.0647359454855195,
          0.0579216354344122,
          0.0630323679727427,
          0.059625212947189,
          0.0647359454855195,
          0.0766609880749574,
          0.0817717206132879,
          0.0834752981260647,
          0.0919931856899489
         ]
        }
       ],
       "layout": {
        "template": {
         "data": {
          "bar": [
           {
            "error_x": {
             "color": "#2a3f5f"
            },
            "error_y": {
             "color": "#2a3f5f"
            },
            "marker": {
             "line": {
              "color": "#E5ECF6",
              "width": 0.5
             },
             "pattern": {
              "fillmode": "overlay",
              "size": 10,
              "solidity": 0.2
             }
            },
            "type": "bar"
           }
          ],
          "barpolar": [
           {
            "marker": {
             "line": {
              "color": "#E5ECF6",
              "width": 0.5
             },
             "pattern": {
              "fillmode": "overlay",
              "size": 10,
              "solidity": 0.2
             }
            },
            "type": "barpolar"
           }
          ],
          "carpet": [
           {
            "aaxis": {
             "endlinecolor": "#2a3f5f",
             "gridcolor": "white",
             "linecolor": "white",
             "minorgridcolor": "white",
             "startlinecolor": "#2a3f5f"
            },
            "baxis": {
             "endlinecolor": "#2a3f5f",
             "gridcolor": "white",
             "linecolor": "white",
             "minorgridcolor": "white",
             "startlinecolor": "#2a3f5f"
            },
            "type": "carpet"
           }
          ],
          "choropleth": [
           {
            "colorbar": {
             "outlinewidth": 0,
             "ticks": ""
            },
            "type": "choropleth"
           }
          ],
          "contour": [
           {
            "colorbar": {
             "outlinewidth": 0,
             "ticks": ""
            },
            "colorscale": [
             [
              0,
              "#0d0887"
             ],
             [
              0.1111111111111111,
              "#46039f"
             ],
             [
              0.2222222222222222,
              "#7201a8"
             ],
             [
              0.3333333333333333,
              "#9c179e"
             ],
             [
              0.4444444444444444,
              "#bd3786"
             ],
             [
              0.5555555555555556,
              "#d8576b"
             ],
             [
              0.6666666666666666,
              "#ed7953"
             ],
             [
              0.7777777777777778,
              "#fb9f3a"
             ],
             [
              0.8888888888888888,
              "#fdca26"
             ],
             [
              1,
              "#f0f921"
             ]
            ],
            "type": "contour"
           }
          ],
          "contourcarpet": [
           {
            "colorbar": {
             "outlinewidth": 0,
             "ticks": ""
            },
            "type": "contourcarpet"
           }
          ],
          "heatmap": [
           {
            "colorbar": {
             "outlinewidth": 0,
             "ticks": ""
            },
            "colorscale": [
             [
              0,
              "#0d0887"
             ],
             [
              0.1111111111111111,
              "#46039f"
             ],
             [
              0.2222222222222222,
              "#7201a8"
             ],
             [
              0.3333333333333333,
              "#9c179e"
             ],
             [
              0.4444444444444444,
              "#bd3786"
             ],
             [
              0.5555555555555556,
              "#d8576b"
             ],
             [
              0.6666666666666666,
              "#ed7953"
             ],
             [
              0.7777777777777778,
              "#fb9f3a"
             ],
             [
              0.8888888888888888,
              "#fdca26"
             ],
             [
              1,
              "#f0f921"
             ]
            ],
            "type": "heatmap"
           }
          ],
          "heatmapgl": [
           {
            "colorbar": {
             "outlinewidth": 0,
             "ticks": ""
            },
            "colorscale": [
             [
              0,
              "#0d0887"
             ],
             [
              0.1111111111111111,
              "#46039f"
             ],
             [
              0.2222222222222222,
              "#7201a8"
             ],
             [
              0.3333333333333333,
              "#9c179e"
             ],
             [
              0.4444444444444444,
              "#bd3786"
             ],
             [
              0.5555555555555556,
              "#d8576b"
             ],
             [
              0.6666666666666666,
              "#ed7953"
             ],
             [
              0.7777777777777778,
              "#fb9f3a"
             ],
             [
              0.8888888888888888,
              "#fdca26"
             ],
             [
              1,
              "#f0f921"
             ]
            ],
            "type": "heatmapgl"
           }
          ],
          "histogram": [
           {
            "marker": {
             "pattern": {
              "fillmode": "overlay",
              "size": 10,
              "solidity": 0.2
             }
            },
            "type": "histogram"
           }
          ],
          "histogram2d": [
           {
            "colorbar": {
             "outlinewidth": 0,
             "ticks": ""
            },
            "colorscale": [
             [
              0,
              "#0d0887"
             ],
             [
              0.1111111111111111,
              "#46039f"
             ],
             [
              0.2222222222222222,
              "#7201a8"
             ],
             [
              0.3333333333333333,
              "#9c179e"
             ],
             [
              0.4444444444444444,
              "#bd3786"
             ],
             [
              0.5555555555555556,
              "#d8576b"
             ],
             [
              0.6666666666666666,
              "#ed7953"
             ],
             [
              0.7777777777777778,
              "#fb9f3a"
             ],
             [
              0.8888888888888888,
              "#fdca26"
             ],
             [
              1,
              "#f0f921"
             ]
            ],
            "type": "histogram2d"
           }
          ],
          "histogram2dcontour": [
           {
            "colorbar": {
             "outlinewidth": 0,
             "ticks": ""
            },
            "colorscale": [
             [
              0,
              "#0d0887"
             ],
             [
              0.1111111111111111,
              "#46039f"
             ],
             [
              0.2222222222222222,
              "#7201a8"
             ],
             [
              0.3333333333333333,
              "#9c179e"
             ],
             [
              0.4444444444444444,
              "#bd3786"
             ],
             [
              0.5555555555555556,
              "#d8576b"
             ],
             [
              0.6666666666666666,
              "#ed7953"
             ],
             [
              0.7777777777777778,
              "#fb9f3a"
             ],
             [
              0.8888888888888888,
              "#fdca26"
             ],
             [
              1,
              "#f0f921"
             ]
            ],
            "type": "histogram2dcontour"
           }
          ],
          "mesh3d": [
           {
            "colorbar": {
             "outlinewidth": 0,
             "ticks": ""
            },
            "type": "mesh3d"
           }
          ],
          "parcoords": [
           {
            "line": {
             "colorbar": {
              "outlinewidth": 0,
              "ticks": ""
             }
            },
            "type": "parcoords"
           }
          ],
          "pie": [
           {
            "automargin": true,
            "type": "pie"
           }
          ],
          "scatter": [
           {
            "fillpattern": {
             "fillmode": "overlay",
             "size": 10,
             "solidity": 0.2
            },
            "type": "scatter"
           }
          ],
          "scatter3d": [
           {
            "line": {
             "colorbar": {
              "outlinewidth": 0,
              "ticks": ""
             }
            },
            "marker": {
             "colorbar": {
              "outlinewidth": 0,
              "ticks": ""
             }
            },
            "type": "scatter3d"
           }
          ],
          "scattercarpet": [
           {
            "marker": {
             "colorbar": {
              "outlinewidth": 0,
              "ticks": ""
             }
            },
            "type": "scattercarpet"
           }
          ],
          "scattergeo": [
           {
            "marker": {
             "colorbar": {
              "outlinewidth": 0,
              "ticks": ""
             }
            },
            "type": "scattergeo"
           }
          ],
          "scattergl": [
           {
            "marker": {
             "colorbar": {
              "outlinewidth": 0,
              "ticks": ""
             }
            },
            "type": "scattergl"
           }
          ],
          "scattermapbox": [
           {
            "marker": {
             "colorbar": {
              "outlinewidth": 0,
              "ticks": ""
             }
            },
            "type": "scattermapbox"
           }
          ],
          "scatterpolar": [
           {
            "marker": {
             "colorbar": {
              "outlinewidth": 0,
              "ticks": ""
             }
            },
            "type": "scatterpolar"
           }
          ],
          "scatterpolargl": [
           {
            "marker": {
             "colorbar": {
              "outlinewidth": 0,
              "ticks": ""
             }
            },
            "type": "scatterpolargl"
           }
          ],
          "scatterternary": [
           {
            "marker": {
             "colorbar": {
              "outlinewidth": 0,
              "ticks": ""
             }
            },
            "type": "scatterternary"
           }
          ],
          "surface": [
           {
            "colorbar": {
             "outlinewidth": 0,
             "ticks": ""
            },
            "colorscale": [
             [
              0,
              "#0d0887"
             ],
             [
              0.1111111111111111,
              "#46039f"
             ],
             [
              0.2222222222222222,
              "#7201a8"
             ],
             [
              0.3333333333333333,
              "#9c179e"
             ],
             [
              0.4444444444444444,
              "#bd3786"
             ],
             [
              0.5555555555555556,
              "#d8576b"
             ],
             [
              0.6666666666666666,
              "#ed7953"
             ],
             [
              0.7777777777777778,
              "#fb9f3a"
             ],
             [
              0.8888888888888888,
              "#fdca26"
             ],
             [
              1,
              "#f0f921"
             ]
            ],
            "type": "surface"
           }
          ],
          "table": [
           {
            "cells": {
             "fill": {
              "color": "#EBF0F8"
             },
             "line": {
              "color": "white"
             }
            },
            "header": {
             "fill": {
              "color": "#C8D4E3"
             },
             "line": {
              "color": "white"
             }
            },
            "type": "table"
           }
          ]
         },
         "layout": {
          "annotationdefaults": {
           "arrowcolor": "#2a3f5f",
           "arrowhead": 0,
           "arrowwidth": 1
          },
          "autotypenumbers": "strict",
          "coloraxis": {
           "colorbar": {
            "outlinewidth": 0,
            "ticks": ""
           }
          },
          "colorscale": {
           "diverging": [
            [
             0,
             "#8e0152"
            ],
            [
             0.1,
             "#c51b7d"
            ],
            [
             0.2,
             "#de77ae"
            ],
            [
             0.3,
             "#f1b6da"
            ],
            [
             0.4,
             "#fde0ef"
            ],
            [
             0.5,
             "#f7f7f7"
            ],
            [
             0.6,
             "#e6f5d0"
            ],
            [
             0.7,
             "#b8e186"
            ],
            [
             0.8,
             "#7fbc41"
            ],
            [
             0.9,
             "#4d9221"
            ],
            [
             1,
             "#276419"
            ]
           ],
           "sequential": [
            [
             0,
             "#0d0887"
            ],
            [
             0.1111111111111111,
             "#46039f"
            ],
            [
             0.2222222222222222,
             "#7201a8"
            ],
            [
             0.3333333333333333,
             "#9c179e"
            ],
            [
             0.4444444444444444,
             "#bd3786"
            ],
            [
             0.5555555555555556,
             "#d8576b"
            ],
            [
             0.6666666666666666,
             "#ed7953"
            ],
            [
             0.7777777777777778,
             "#fb9f3a"
            ],
            [
             0.8888888888888888,
             "#fdca26"
            ],
            [
             1,
             "#f0f921"
            ]
           ],
           "sequentialminus": [
            [
             0,
             "#0d0887"
            ],
            [
             0.1111111111111111,
             "#46039f"
            ],
            [
             0.2222222222222222,
             "#7201a8"
            ],
            [
             0.3333333333333333,
             "#9c179e"
            ],
            [
             0.4444444444444444,
             "#bd3786"
            ],
            [
             0.5555555555555556,
             "#d8576b"
            ],
            [
             0.6666666666666666,
             "#ed7953"
            ],
            [
             0.7777777777777778,
             "#fb9f3a"
            ],
            [
             0.8888888888888888,
             "#fdca26"
            ],
            [
             1,
             "#f0f921"
            ]
           ]
          },
          "colorway": [
           "#636efa",
           "#EF553B",
           "#00cc96",
           "#ab63fa",
           "#FFA15A",
           "#19d3f3",
           "#FF6692",
           "#B6E880",
           "#FF97FF",
           "#FECB52"
          ],
          "font": {
           "color": "#2a3f5f"
          },
          "geo": {
           "bgcolor": "white",
           "lakecolor": "white",
           "landcolor": "#E5ECF6",
           "showlakes": true,
           "showland": true,
           "subunitcolor": "white"
          },
          "hoverlabel": {
           "align": "left"
          },
          "hovermode": "closest",
          "mapbox": {
           "style": "light"
          },
          "paper_bgcolor": "white",
          "plot_bgcolor": "#E5ECF6",
          "polar": {
           "angularaxis": {
            "gridcolor": "white",
            "linecolor": "white",
            "ticks": ""
           },
           "bgcolor": "#E5ECF6",
           "radialaxis": {
            "gridcolor": "white",
            "linecolor": "white",
            "ticks": ""
           }
          },
          "scene": {
           "xaxis": {
            "backgroundcolor": "#E5ECF6",
            "gridcolor": "white",
            "gridwidth": 2,
            "linecolor": "white",
            "showbackground": true,
            "ticks": "",
            "zerolinecolor": "white"
           },
           "yaxis": {
            "backgroundcolor": "#E5ECF6",
            "gridcolor": "white",
            "gridwidth": 2,
            "linecolor": "white",
            "showbackground": true,
            "ticks": "",
            "zerolinecolor": "white"
           },
           "zaxis": {
            "backgroundcolor": "#E5ECF6",
            "gridcolor": "white",
            "gridwidth": 2,
            "linecolor": "white",
            "showbackground": true,
            "ticks": "",
            "zerolinecolor": "white"
           }
          },
          "shapedefaults": {
           "line": {
            "color": "#2a3f5f"
           }
          },
          "ternary": {
           "aaxis": {
            "gridcolor": "white",
            "linecolor": "white",
            "ticks": ""
           },
           "baxis": {
            "gridcolor": "white",
            "linecolor": "white",
            "ticks": ""
           },
           "bgcolor": "#E5ECF6",
           "caxis": {
            "gridcolor": "white",
            "linecolor": "white",
            "ticks": ""
           }
          },
          "title": {
           "x": 0.05
          },
          "xaxis": {
           "automargin": true,
           "gridcolor": "white",
           "linecolor": "white",
           "ticks": "",
           "title": {
            "standoff": 15
           },
           "zerolinecolor": "white",
           "zerolinewidth": 2
          },
          "yaxis": {
           "automargin": true,
           "gridcolor": "white",
           "linecolor": "white",
           "ticks": "",
           "title": {
            "standoff": 15
           },
           "zerolinecolor": "white",
           "zerolinewidth": 2
          }
         }
        },
        "title": {
         "text": "HR x Train size"
        },
        "xaxis": {
         "title": {
          "text": "Train size"
         }
        },
        "yaxis": {
         "title": {
          "text": "HR"
         }
        }
       }
      }
     },
     "metadata": {},
     "output_type": "display_data"
    }
   ],
   "source": [
    "display(df_results)\n",
    "\n",
    "plot_results(df_results, 'results-v9')"
   ]
  }
 ],
 "metadata": {
  "kernelspec": {
   "display_name": "RLRS-rllib",
   "language": "python",
   "name": "python3"
  },
  "language_info": {
   "codemirror_mode": {
    "name": "ipython",
    "version": 3
   },
   "file_extension": ".py",
   "mimetype": "text/x-python",
   "name": "python",
   "nbconvert_exporter": "python",
   "pygments_lexer": "ipython3",
   "version": "3.8.16"
  }
 },
 "nbformat": 4,
 "nbformat_minor": 2
}
