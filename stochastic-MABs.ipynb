{
 "cells": [
  {
   "cell_type": "markdown",
   "metadata": {},
   "source": [
    "# Stochastic MABs"
   ]
  },
  {
   "cell_type": "markdown",
   "metadata": {},
   "source": [
    "É o problema básico de MAB. O algoritmo deve escolher entre K ações em T rodadas. Cada ação está ligada com uma distribuição de recompensa, que não muda ao longo das rodadas. O objetivo é descobrir a ação que traz a maior média de recompensas sem perder muito tempo explorando, obtendo maiores recompensas médias ao longo das T rodadas."
   ]
  },
  {
   "cell_type": "markdown",
   "metadata": {},
   "source": [
    "## Carregando bibliotecas"
   ]
  },
  {
   "cell_type": "code",
   "execution_count": 1,
   "metadata": {},
   "outputs": [],
   "source": [
    "import numpy as np\n",
    "import pandas as pd\n",
    "import matplotlib.pyplot as plt\n",
    "import plotly.express as px\n",
    "from tqdm import tqdm"
   ]
  },
  {
   "cell_type": "markdown",
   "metadata": {},
   "source": [
    "## Definindo constantes"
   ]
  },
  {
   "cell_type": "code",
   "execution_count": 2,
   "metadata": {},
   "outputs": [],
   "source": [
    "SEED = 123\n",
    "NUM_ARMS = 10\n",
    "NUM_ROUNDS = 1000\n",
    "\n",
    "\n",
    "np.random.seed(seed=SEED)"
   ]
  },
  {
   "cell_type": "markdown",
   "metadata": {},
   "source": [
    "## Criando classes básicas"
   ]
  },
  {
   "cell_type": "markdown",
   "metadata": {},
   "source": [
    "### Ambiente"
   ]
  },
  {
   "cell_type": "code",
   "execution_count": 3,
   "metadata": {},
   "outputs": [],
   "source": [
    "class MABEnvironment:\n",
    "    \n",
    "    def __init__(self, num_arms: int):\n",
    "        self.num_arms = num_arms\n",
    "        self.reward_distributions = np.random.uniform(low=0, high=1, size=num_arms)\n",
    "\n",
    "    def step(self, action: int) -> int:\n",
    "        return np.random.choice([0, 1], p=[1-self.reward_distributions[action], self.reward_distributions[action]])\n",
    "\n",
    "    def get_best_arm_reward_prob(self) -> float:\n",
    "        return np.max(self.reward_distributions)\n",
    "    \n",
    "    def get_best_arm_index(self) -> int:\n",
    "        return np.argmax(self.reward_distributions)\n",
    "\n",
    "    def display(self):\n",
    "        best_arm_index = self.get_best_arm_index()\n",
    "\n",
    "        df = pd.DataFrame({\n",
    "            'Arm': [str(x+1) for x in range(self.num_arms)],\n",
    "            'Reward Distribution': self.reward_distributions\n",
    "        })\n",
    "\n",
    "        fig = px.bar(df, x='Arm', y='Reward Distribution', title='Reward Distribution of Arms')\n",
    "        fig['data'][0]['marker']['color'] = ['blue' if x != best_arm_index else 'green' for x in range(self.num_arms)]\n",
    "        fig.show()\n",
    "\n",
    "        display(df)\n",
    "        display(df.describe())\n",
    "\n",
    "env = MABEnvironment(num_arms=NUM_ARMS)"
   ]
  },
  {
   "cell_type": "code",
   "execution_count": 4,
   "metadata": {},
   "outputs": [
    {
     "data": {
      "application/vnd.plotly.v1+json": {
       "config": {
        "plotlyServerURL": "https://plot.ly"
       },
       "data": [
        {
         "alignmentgroup": "True",
         "hovertemplate": "Arm=%{x}<br>Reward Distribution=%{y}<extra></extra>",
         "legendgroup": "",
         "marker": {
          "color": [
           "blue",
           "blue",
           "blue",
           "blue",
           "blue",
           "blue",
           "green",
           "blue",
           "blue",
           "blue"
          ],
          "pattern": {
           "shape": ""
          }
         },
         "name": "",
         "offsetgroup": "",
         "orientation": "v",
         "showlegend": false,
         "textposition": "auto",
         "type": "bar",
         "x": [
          "1",
          "2",
          "3",
          "4",
          "5",
          "6",
          "7",
          "8",
          "9",
          "10"
         ],
         "xaxis": "x",
         "y": [
          0.6964691855978616,
          0.28613933495037946,
          0.2268514535642031,
          0.5513147690828912,
          0.7194689697855631,
          0.42310646012446096,
          0.9807641983846155,
          0.6848297385848633,
          0.48093190148436094,
          0.3921175181941505
         ],
         "yaxis": "y"
        }
       ],
       "layout": {
        "barmode": "relative",
        "legend": {
         "tracegroupgap": 0
        },
        "template": {
         "data": {
          "bar": [
           {
            "error_x": {
             "color": "#2a3f5f"
            },
            "error_y": {
             "color": "#2a3f5f"
            },
            "marker": {
             "line": {
              "color": "#E5ECF6",
              "width": 0.5
             },
             "pattern": {
              "fillmode": "overlay",
              "size": 10,
              "solidity": 0.2
             }
            },
            "type": "bar"
           }
          ],
          "barpolar": [
           {
            "marker": {
             "line": {
              "color": "#E5ECF6",
              "width": 0.5
             },
             "pattern": {
              "fillmode": "overlay",
              "size": 10,
              "solidity": 0.2
             }
            },
            "type": "barpolar"
           }
          ],
          "carpet": [
           {
            "aaxis": {
             "endlinecolor": "#2a3f5f",
             "gridcolor": "white",
             "linecolor": "white",
             "minorgridcolor": "white",
             "startlinecolor": "#2a3f5f"
            },
            "baxis": {
             "endlinecolor": "#2a3f5f",
             "gridcolor": "white",
             "linecolor": "white",
             "minorgridcolor": "white",
             "startlinecolor": "#2a3f5f"
            },
            "type": "carpet"
           }
          ],
          "choropleth": [
           {
            "colorbar": {
             "outlinewidth": 0,
             "ticks": ""
            },
            "type": "choropleth"
           }
          ],
          "contour": [
           {
            "colorbar": {
             "outlinewidth": 0,
             "ticks": ""
            },
            "colorscale": [
             [
              0,
              "#0d0887"
             ],
             [
              0.1111111111111111,
              "#46039f"
             ],
             [
              0.2222222222222222,
              "#7201a8"
             ],
             [
              0.3333333333333333,
              "#9c179e"
             ],
             [
              0.4444444444444444,
              "#bd3786"
             ],
             [
              0.5555555555555556,
              "#d8576b"
             ],
             [
              0.6666666666666666,
              "#ed7953"
             ],
             [
              0.7777777777777778,
              "#fb9f3a"
             ],
             [
              0.8888888888888888,
              "#fdca26"
             ],
             [
              1,
              "#f0f921"
             ]
            ],
            "type": "contour"
           }
          ],
          "contourcarpet": [
           {
            "colorbar": {
             "outlinewidth": 0,
             "ticks": ""
            },
            "type": "contourcarpet"
           }
          ],
          "heatmap": [
           {
            "colorbar": {
             "outlinewidth": 0,
             "ticks": ""
            },
            "colorscale": [
             [
              0,
              "#0d0887"
             ],
             [
              0.1111111111111111,
              "#46039f"
             ],
             [
              0.2222222222222222,
              "#7201a8"
             ],
             [
              0.3333333333333333,
              "#9c179e"
             ],
             [
              0.4444444444444444,
              "#bd3786"
             ],
             [
              0.5555555555555556,
              "#d8576b"
             ],
             [
              0.6666666666666666,
              "#ed7953"
             ],
             [
              0.7777777777777778,
              "#fb9f3a"
             ],
             [
              0.8888888888888888,
              "#fdca26"
             ],
             [
              1,
              "#f0f921"
             ]
            ],
            "type": "heatmap"
           }
          ],
          "heatmapgl": [
           {
            "colorbar": {
             "outlinewidth": 0,
             "ticks": ""
            },
            "colorscale": [
             [
              0,
              "#0d0887"
             ],
             [
              0.1111111111111111,
              "#46039f"
             ],
             [
              0.2222222222222222,
              "#7201a8"
             ],
             [
              0.3333333333333333,
              "#9c179e"
             ],
             [
              0.4444444444444444,
              "#bd3786"
             ],
             [
              0.5555555555555556,
              "#d8576b"
             ],
             [
              0.6666666666666666,
              "#ed7953"
             ],
             [
              0.7777777777777778,
              "#fb9f3a"
             ],
             [
              0.8888888888888888,
              "#fdca26"
             ],
             [
              1,
              "#f0f921"
             ]
            ],
            "type": "heatmapgl"
           }
          ],
          "histogram": [
           {
            "marker": {
             "pattern": {
              "fillmode": "overlay",
              "size": 10,
              "solidity": 0.2
             }
            },
            "type": "histogram"
           }
          ],
          "histogram2d": [
           {
            "colorbar": {
             "outlinewidth": 0,
             "ticks": ""
            },
            "colorscale": [
             [
              0,
              "#0d0887"
             ],
             [
              0.1111111111111111,
              "#46039f"
             ],
             [
              0.2222222222222222,
              "#7201a8"
             ],
             [
              0.3333333333333333,
              "#9c179e"
             ],
             [
              0.4444444444444444,
              "#bd3786"
             ],
             [
              0.5555555555555556,
              "#d8576b"
             ],
             [
              0.6666666666666666,
              "#ed7953"
             ],
             [
              0.7777777777777778,
              "#fb9f3a"
             ],
             [
              0.8888888888888888,
              "#fdca26"
             ],
             [
              1,
              "#f0f921"
             ]
            ],
            "type": "histogram2d"
           }
          ],
          "histogram2dcontour": [
           {
            "colorbar": {
             "outlinewidth": 0,
             "ticks": ""
            },
            "colorscale": [
             [
              0,
              "#0d0887"
             ],
             [
              0.1111111111111111,
              "#46039f"
             ],
             [
              0.2222222222222222,
              "#7201a8"
             ],
             [
              0.3333333333333333,
              "#9c179e"
             ],
             [
              0.4444444444444444,
              "#bd3786"
             ],
             [
              0.5555555555555556,
              "#d8576b"
             ],
             [
              0.6666666666666666,
              "#ed7953"
             ],
             [
              0.7777777777777778,
              "#fb9f3a"
             ],
             [
              0.8888888888888888,
              "#fdca26"
             ],
             [
              1,
              "#f0f921"
             ]
            ],
            "type": "histogram2dcontour"
           }
          ],
          "mesh3d": [
           {
            "colorbar": {
             "outlinewidth": 0,
             "ticks": ""
            },
            "type": "mesh3d"
           }
          ],
          "parcoords": [
           {
            "line": {
             "colorbar": {
              "outlinewidth": 0,
              "ticks": ""
             }
            },
            "type": "parcoords"
           }
          ],
          "pie": [
           {
            "automargin": true,
            "type": "pie"
           }
          ],
          "scatter": [
           {
            "fillpattern": {
             "fillmode": "overlay",
             "size": 10,
             "solidity": 0.2
            },
            "type": "scatter"
           }
          ],
          "scatter3d": [
           {
            "line": {
             "colorbar": {
              "outlinewidth": 0,
              "ticks": ""
             }
            },
            "marker": {
             "colorbar": {
              "outlinewidth": 0,
              "ticks": ""
             }
            },
            "type": "scatter3d"
           }
          ],
          "scattercarpet": [
           {
            "marker": {
             "colorbar": {
              "outlinewidth": 0,
              "ticks": ""
             }
            },
            "type": "scattercarpet"
           }
          ],
          "scattergeo": [
           {
            "marker": {
             "colorbar": {
              "outlinewidth": 0,
              "ticks": ""
             }
            },
            "type": "scattergeo"
           }
          ],
          "scattergl": [
           {
            "marker": {
             "colorbar": {
              "outlinewidth": 0,
              "ticks": ""
             }
            },
            "type": "scattergl"
           }
          ],
          "scattermapbox": [
           {
            "marker": {
             "colorbar": {
              "outlinewidth": 0,
              "ticks": ""
             }
            },
            "type": "scattermapbox"
           }
          ],
          "scatterpolar": [
           {
            "marker": {
             "colorbar": {
              "outlinewidth": 0,
              "ticks": ""
             }
            },
            "type": "scatterpolar"
           }
          ],
          "scatterpolargl": [
           {
            "marker": {
             "colorbar": {
              "outlinewidth": 0,
              "ticks": ""
             }
            },
            "type": "scatterpolargl"
           }
          ],
          "scatterternary": [
           {
            "marker": {
             "colorbar": {
              "outlinewidth": 0,
              "ticks": ""
             }
            },
            "type": "scatterternary"
           }
          ],
          "surface": [
           {
            "colorbar": {
             "outlinewidth": 0,
             "ticks": ""
            },
            "colorscale": [
             [
              0,
              "#0d0887"
             ],
             [
              0.1111111111111111,
              "#46039f"
             ],
             [
              0.2222222222222222,
              "#7201a8"
             ],
             [
              0.3333333333333333,
              "#9c179e"
             ],
             [
              0.4444444444444444,
              "#bd3786"
             ],
             [
              0.5555555555555556,
              "#d8576b"
             ],
             [
              0.6666666666666666,
              "#ed7953"
             ],
             [
              0.7777777777777778,
              "#fb9f3a"
             ],
             [
              0.8888888888888888,
              "#fdca26"
             ],
             [
              1,
              "#f0f921"
             ]
            ],
            "type": "surface"
           }
          ],
          "table": [
           {
            "cells": {
             "fill": {
              "color": "#EBF0F8"
             },
             "line": {
              "color": "white"
             }
            },
            "header": {
             "fill": {
              "color": "#C8D4E3"
             },
             "line": {
              "color": "white"
             }
            },
            "type": "table"
           }
          ]
         },
         "layout": {
          "annotationdefaults": {
           "arrowcolor": "#2a3f5f",
           "arrowhead": 0,
           "arrowwidth": 1
          },
          "autotypenumbers": "strict",
          "coloraxis": {
           "colorbar": {
            "outlinewidth": 0,
            "ticks": ""
           }
          },
          "colorscale": {
           "diverging": [
            [
             0,
             "#8e0152"
            ],
            [
             0.1,
             "#c51b7d"
            ],
            [
             0.2,
             "#de77ae"
            ],
            [
             0.3,
             "#f1b6da"
            ],
            [
             0.4,
             "#fde0ef"
            ],
            [
             0.5,
             "#f7f7f7"
            ],
            [
             0.6,
             "#e6f5d0"
            ],
            [
             0.7,
             "#b8e186"
            ],
            [
             0.8,
             "#7fbc41"
            ],
            [
             0.9,
             "#4d9221"
            ],
            [
             1,
             "#276419"
            ]
           ],
           "sequential": [
            [
             0,
             "#0d0887"
            ],
            [
             0.1111111111111111,
             "#46039f"
            ],
            [
             0.2222222222222222,
             "#7201a8"
            ],
            [
             0.3333333333333333,
             "#9c179e"
            ],
            [
             0.4444444444444444,
             "#bd3786"
            ],
            [
             0.5555555555555556,
             "#d8576b"
            ],
            [
             0.6666666666666666,
             "#ed7953"
            ],
            [
             0.7777777777777778,
             "#fb9f3a"
            ],
            [
             0.8888888888888888,
             "#fdca26"
            ],
            [
             1,
             "#f0f921"
            ]
           ],
           "sequentialminus": [
            [
             0,
             "#0d0887"
            ],
            [
             0.1111111111111111,
             "#46039f"
            ],
            [
             0.2222222222222222,
             "#7201a8"
            ],
            [
             0.3333333333333333,
             "#9c179e"
            ],
            [
             0.4444444444444444,
             "#bd3786"
            ],
            [
             0.5555555555555556,
             "#d8576b"
            ],
            [
             0.6666666666666666,
             "#ed7953"
            ],
            [
             0.7777777777777778,
             "#fb9f3a"
            ],
            [
             0.8888888888888888,
             "#fdca26"
            ],
            [
             1,
             "#f0f921"
            ]
           ]
          },
          "colorway": [
           "#636efa",
           "#EF553B",
           "#00cc96",
           "#ab63fa",
           "#FFA15A",
           "#19d3f3",
           "#FF6692",
           "#B6E880",
           "#FF97FF",
           "#FECB52"
          ],
          "font": {
           "color": "#2a3f5f"
          },
          "geo": {
           "bgcolor": "white",
           "lakecolor": "white",
           "landcolor": "#E5ECF6",
           "showlakes": true,
           "showland": true,
           "subunitcolor": "white"
          },
          "hoverlabel": {
           "align": "left"
          },
          "hovermode": "closest",
          "mapbox": {
           "style": "light"
          },
          "paper_bgcolor": "white",
          "plot_bgcolor": "#E5ECF6",
          "polar": {
           "angularaxis": {
            "gridcolor": "white",
            "linecolor": "white",
            "ticks": ""
           },
           "bgcolor": "#E5ECF6",
           "radialaxis": {
            "gridcolor": "white",
            "linecolor": "white",
            "ticks": ""
           }
          },
          "scene": {
           "xaxis": {
            "backgroundcolor": "#E5ECF6",
            "gridcolor": "white",
            "gridwidth": 2,
            "linecolor": "white",
            "showbackground": true,
            "ticks": "",
            "zerolinecolor": "white"
           },
           "yaxis": {
            "backgroundcolor": "#E5ECF6",
            "gridcolor": "white",
            "gridwidth": 2,
            "linecolor": "white",
            "showbackground": true,
            "ticks": "",
            "zerolinecolor": "white"
           },
           "zaxis": {
            "backgroundcolor": "#E5ECF6",
            "gridcolor": "white",
            "gridwidth": 2,
            "linecolor": "white",
            "showbackground": true,
            "ticks": "",
            "zerolinecolor": "white"
           }
          },
          "shapedefaults": {
           "line": {
            "color": "#2a3f5f"
           }
          },
          "ternary": {
           "aaxis": {
            "gridcolor": "white",
            "linecolor": "white",
            "ticks": ""
           },
           "baxis": {
            "gridcolor": "white",
            "linecolor": "white",
            "ticks": ""
           },
           "bgcolor": "#E5ECF6",
           "caxis": {
            "gridcolor": "white",
            "linecolor": "white",
            "ticks": ""
           }
          },
          "title": {
           "x": 0.05
          },
          "xaxis": {
           "automargin": true,
           "gridcolor": "white",
           "linecolor": "white",
           "ticks": "",
           "title": {
            "standoff": 15
           },
           "zerolinecolor": "white",
           "zerolinewidth": 2
          },
          "yaxis": {
           "automargin": true,
           "gridcolor": "white",
           "linecolor": "white",
           "ticks": "",
           "title": {
            "standoff": 15
           },
           "zerolinecolor": "white",
           "zerolinewidth": 2
          }
         }
        },
        "title": {
         "text": "Reward Distribution of Arms"
        },
        "xaxis": {
         "anchor": "y",
         "domain": [
          0,
          1
         ],
         "title": {
          "text": "Arm"
         }
        },
        "yaxis": {
         "anchor": "x",
         "domain": [
          0,
          1
         ],
         "title": {
          "text": "Reward Distribution"
         }
        }
       }
      }
     },
     "metadata": {},
     "output_type": "display_data"
    },
    {
     "data": {
      "text/html": [
       "<div>\n",
       "<style scoped>\n",
       "    .dataframe tbody tr th:only-of-type {\n",
       "        vertical-align: middle;\n",
       "    }\n",
       "\n",
       "    .dataframe tbody tr th {\n",
       "        vertical-align: top;\n",
       "    }\n",
       "\n",
       "    .dataframe thead th {\n",
       "        text-align: right;\n",
       "    }\n",
       "</style>\n",
       "<table border=\"1\" class=\"dataframe\">\n",
       "  <thead>\n",
       "    <tr style=\"text-align: right;\">\n",
       "      <th></th>\n",
       "      <th>Arm</th>\n",
       "      <th>Reward Distribution</th>\n",
       "    </tr>\n",
       "  </thead>\n",
       "  <tbody>\n",
       "    <tr>\n",
       "      <th>0</th>\n",
       "      <td>1</td>\n",
       "      <td>0.696469</td>\n",
       "    </tr>\n",
       "    <tr>\n",
       "      <th>1</th>\n",
       "      <td>2</td>\n",
       "      <td>0.286139</td>\n",
       "    </tr>\n",
       "    <tr>\n",
       "      <th>2</th>\n",
       "      <td>3</td>\n",
       "      <td>0.226851</td>\n",
       "    </tr>\n",
       "    <tr>\n",
       "      <th>3</th>\n",
       "      <td>4</td>\n",
       "      <td>0.551315</td>\n",
       "    </tr>\n",
       "    <tr>\n",
       "      <th>4</th>\n",
       "      <td>5</td>\n",
       "      <td>0.719469</td>\n",
       "    </tr>\n",
       "    <tr>\n",
       "      <th>5</th>\n",
       "      <td>6</td>\n",
       "      <td>0.423106</td>\n",
       "    </tr>\n",
       "    <tr>\n",
       "      <th>6</th>\n",
       "      <td>7</td>\n",
       "      <td>0.980764</td>\n",
       "    </tr>\n",
       "    <tr>\n",
       "      <th>7</th>\n",
       "      <td>8</td>\n",
       "      <td>0.684830</td>\n",
       "    </tr>\n",
       "    <tr>\n",
       "      <th>8</th>\n",
       "      <td>9</td>\n",
       "      <td>0.480932</td>\n",
       "    </tr>\n",
       "    <tr>\n",
       "      <th>9</th>\n",
       "      <td>10</td>\n",
       "      <td>0.392118</td>\n",
       "    </tr>\n",
       "  </tbody>\n",
       "</table>\n",
       "</div>"
      ],
      "text/plain": [
       "  Arm  Reward Distribution\n",
       "0   1             0.696469\n",
       "1   2             0.286139\n",
       "2   3             0.226851\n",
       "3   4             0.551315\n",
       "4   5             0.719469\n",
       "5   6             0.423106\n",
       "6   7             0.980764\n",
       "7   8             0.684830\n",
       "8   9             0.480932\n",
       "9  10             0.392118"
      ]
     },
     "metadata": {},
     "output_type": "display_data"
    },
    {
     "data": {
      "text/html": [
       "<div>\n",
       "<style scoped>\n",
       "    .dataframe tbody tr th:only-of-type {\n",
       "        vertical-align: middle;\n",
       "    }\n",
       "\n",
       "    .dataframe tbody tr th {\n",
       "        vertical-align: top;\n",
       "    }\n",
       "\n",
       "    .dataframe thead th {\n",
       "        text-align: right;\n",
       "    }\n",
       "</style>\n",
       "<table border=\"1\" class=\"dataframe\">\n",
       "  <thead>\n",
       "    <tr style=\"text-align: right;\">\n",
       "      <th></th>\n",
       "      <th>Reward Distribution</th>\n",
       "    </tr>\n",
       "  </thead>\n",
       "  <tbody>\n",
       "    <tr>\n",
       "      <th>count</th>\n",
       "      <td>10.000000</td>\n",
       "    </tr>\n",
       "    <tr>\n",
       "      <th>mean</th>\n",
       "      <td>0.544199</td>\n",
       "    </tr>\n",
       "    <tr>\n",
       "      <th>std</th>\n",
       "      <td>0.229352</td>\n",
       "    </tr>\n",
       "    <tr>\n",
       "      <th>min</th>\n",
       "      <td>0.226851</td>\n",
       "    </tr>\n",
       "    <tr>\n",
       "      <th>25%</th>\n",
       "      <td>0.399865</td>\n",
       "    </tr>\n",
       "    <tr>\n",
       "      <th>50%</th>\n",
       "      <td>0.516123</td>\n",
       "    </tr>\n",
       "    <tr>\n",
       "      <th>75%</th>\n",
       "      <td>0.693559</td>\n",
       "    </tr>\n",
       "    <tr>\n",
       "      <th>max</th>\n",
       "      <td>0.980764</td>\n",
       "    </tr>\n",
       "  </tbody>\n",
       "</table>\n",
       "</div>"
      ],
      "text/plain": [
       "       Reward Distribution\n",
       "count            10.000000\n",
       "mean              0.544199\n",
       "std               0.229352\n",
       "min               0.226851\n",
       "25%               0.399865\n",
       "50%               0.516123\n",
       "75%               0.693559\n",
       "max               0.980764"
      ]
     },
     "metadata": {},
     "output_type": "display_data"
    }
   ],
   "source": [
    "env.display()"
   ]
  },
  {
   "cell_type": "markdown",
   "metadata": {},
   "source": [
    "### Algoritmo (agente)"
   ]
  },
  {
   "cell_type": "code",
   "execution_count": 5,
   "metadata": {},
   "outputs": [],
   "source": [
    "from abc import ABC, abstractmethod\n",
    "\n",
    "class MABAlgorithm(ABC):\n",
    "    \n",
    "    @abstractmethod\n",
    "    def __init__(self, num_arms: int):\n",
    "        pass\n",
    "\n",
    "    @abstractmethod\n",
    "    def update(self, action: int, reward: int):\n",
    "        pass\n",
    "\n",
    "    @abstractmethod\n",
    "    def select_action(self) -> int:\n",
    "        pass\n",
    "    \n",
    "    def reset(self) -> int:\n",
    "        self.last_action = self.select_action()\n",
    "        return self.last_action\n",
    "    \n",
    "    def step(self, reward: int) -> int:\n",
    "        self.update(self.last_action, reward)\n",
    "        self.last_action = self.select_action()\n",
    "        return self.last_action"
   ]
  },
  {
   "cell_type": "code",
   "execution_count": 6,
   "metadata": {},
   "outputs": [],
   "source": [
    "class Random(MABAlgorithm):\n",
    "        \n",
    "    def __init__(self, num_arms: int):\n",
    "        self.num_arms = num_arms\n",
    "\n",
    "    def update(self, action: int, reward: int):\n",
    "        return\n",
    "\n",
    "    def select_action(self) -> int:\n",
    "        return np.random.choice(range(self.num_arms))"
   ]
  },
  {
   "cell_type": "markdown",
   "metadata": {},
   "source": [
    "### Experimento"
   ]
  },
  {
   "cell_type": "code",
   "execution_count": 7,
   "metadata": {},
   "outputs": [],
   "source": [
    "class MABExperiment:\n",
    "    \n",
    "    def __init__(self, num_arms: int, num_rounds: int, algorithm: MABAlgorithm, environment: MABEnvironment):\n",
    "        self.num_arms = num_arms\n",
    "        self.num_rounds = num_rounds\n",
    "        self.alg = algorithm\n",
    "        self.env = environment\n",
    "\n",
    "    def run(self, plot_graphics: bool=True):\n",
    "        mean_rewards = []\n",
    "        rewards_acum = 0\n",
    "        action = self.alg.reset()\n",
    "        actions_select_count = [0 for _ in range(self.num_arms)]\n",
    "\n",
    "        for i in tqdm(range(1, self.num_rounds + 1)):\n",
    "            actions_select_count[action] += 1\n",
    "            reward = self.env.step(action)\n",
    "            rewards_acum += reward\n",
    "            mean_rewards.append(rewards_acum / i)\n",
    "            action = self.alg.step(reward)\n",
    "        \n",
    "        if plot_graphics:\n",
    "            self.__plot_graphics(mean_rewards, actions_select_count)\n",
    "        \n",
    "        return mean_rewards, actions_select_count\n",
    "    \n",
    "    def __plot_graphics(self, mean_rewards: 'list[float]', actions_select_count: 'list[int]'):\n",
    "        alg_name = self.alg.__class__.__name__\n",
    "        best_reward_prob = self.env.get_best_arm_reward_prob()\n",
    "        best_arm_index = self.env.get_best_arm_index()\n",
    "\n",
    "        df_alg = pd.DataFrame({\n",
    "            'Round': [x+1 for x in range(self.num_rounds)],\n",
    "            'Reward': mean_rewards,\n",
    "            'Type': [alg_name for _ in range(self.num_rounds)]\n",
    "        })\n",
    "\n",
    "        df_best = pd.DataFrame({\n",
    "            'Round': [x+1 for x in range(self.num_rounds)],\n",
    "            'Reward': [best_reward_prob for _ in range(self.num_rounds)],\n",
    "            'Type': ['Best' for _ in range(self.num_rounds)]\n",
    "        })\n",
    "\n",
    "        avg_rewards_per_round_df = pd.concat([df_alg, df_best], ignore_index=True)\n",
    "\n",
    "        fig = px.line(avg_rewards_per_round_df, x=\"Round\", y=\"Reward\", color='Type', title=\"Average Reward per Round\")\n",
    "        fig.show()\n",
    "        \n",
    "        df_actions = pd.DataFrame({\n",
    "            'Arm': [str(x+1) for x in range(self.num_arms)],\n",
    "            'Number of Selections': actions_select_count\n",
    "        })\n",
    "\n",
    "        fig = px.bar(df_actions, x='Arm', y='Number of Selections', title='Number of Selections of Each Arm')\n",
    "        fig['data'][0]['marker']['color'] = ['blue' if x != best_arm_index else 'green' for x in range(self.num_arms)]\n",
    "        fig.show()\n"
   ]
  },
  {
   "cell_type": "code",
   "execution_count": 8,
   "metadata": {},
   "outputs": [
    {
     "name": "stderr",
     "output_type": "stream",
     "text": [
      "100%|██████████| 1000/1000 [00:00<00:00, 17100.69it/s]"
     ]
    },
    {
     "name": "stderr",
     "output_type": "stream",
     "text": [
      "\n"
     ]
    },
    {
     "data": {
      "application/vnd.plotly.v1+json": {
       "config": {
        "plotlyServerURL": "https://plot.ly"
       },
       "data": [
        {
         "hovertemplate": "Type=Random<br>Round=%{x}<br>Reward=%{y}<extra></extra>",
         "legendgroup": "Random",
         "line": {
          "color": "#636efa",
          "dash": "solid"
         },
         "marker": {
          "symbol": "circle"
         },
         "mode": "lines",
         "name": "Random",
         "showlegend": true,
         "type": "scattergl",
         "x": [
          1,
          2,
          3,
          4,
          5,
          6,
          7,
          8,
          9,
          10,
          11,
          12,
          13,
          14,
          15,
          16,
          17,
          18,
          19,
          20,
          21,
          22,
          23,
          24,
          25,
          26,
          27,
          28,
          29,
          30,
          31,
          32,
          33,
          34,
          35,
          36,
          37,
          38,
          39,
          40,
          41,
          42,
          43,
          44,
          45,
          46,
          47,
          48,
          49,
          50,
          51,
          52,
          53,
          54,
          55,
          56,
          57,
          58,
          59,
          60,
          61,
          62,
          63,
          64,
          65,
          66,
          67,
          68,
          69,
          70,
          71,
          72,
          73,
          74,
          75,
          76,
          77,
          78,
          79,
          80,
          81,
          82,
          83,
          84,
          85,
          86,
          87,
          88,
          89,
          90,
          91,
          92,
          93,
          94,
          95,
          96,
          97,
          98,
          99,
          100,
          101,
          102,
          103,
          104,
          105,
          106,
          107,
          108,
          109,
          110,
          111,
          112,
          113,
          114,
          115,
          116,
          117,
          118,
          119,
          120,
          121,
          122,
          123,
          124,
          125,
          126,
          127,
          128,
          129,
          130,
          131,
          132,
          133,
          134,
          135,
          136,
          137,
          138,
          139,
          140,
          141,
          142,
          143,
          144,
          145,
          146,
          147,
          148,
          149,
          150,
          151,
          152,
          153,
          154,
          155,
          156,
          157,
          158,
          159,
          160,
          161,
          162,
          163,
          164,
          165,
          166,
          167,
          168,
          169,
          170,
          171,
          172,
          173,
          174,
          175,
          176,
          177,
          178,
          179,
          180,
          181,
          182,
          183,
          184,
          185,
          186,
          187,
          188,
          189,
          190,
          191,
          192,
          193,
          194,
          195,
          196,
          197,
          198,
          199,
          200,
          201,
          202,
          203,
          204,
          205,
          206,
          207,
          208,
          209,
          210,
          211,
          212,
          213,
          214,
          215,
          216,
          217,
          218,
          219,
          220,
          221,
          222,
          223,
          224,
          225,
          226,
          227,
          228,
          229,
          230,
          231,
          232,
          233,
          234,
          235,
          236,
          237,
          238,
          239,
          240,
          241,
          242,
          243,
          244,
          245,
          246,
          247,
          248,
          249,
          250,
          251,
          252,
          253,
          254,
          255,
          256,
          257,
          258,
          259,
          260,
          261,
          262,
          263,
          264,
          265,
          266,
          267,
          268,
          269,
          270,
          271,
          272,
          273,
          274,
          275,
          276,
          277,
          278,
          279,
          280,
          281,
          282,
          283,
          284,
          285,
          286,
          287,
          288,
          289,
          290,
          291,
          292,
          293,
          294,
          295,
          296,
          297,
          298,
          299,
          300,
          301,
          302,
          303,
          304,
          305,
          306,
          307,
          308,
          309,
          310,
          311,
          312,
          313,
          314,
          315,
          316,
          317,
          318,
          319,
          320,
          321,
          322,
          323,
          324,
          325,
          326,
          327,
          328,
          329,
          330,
          331,
          332,
          333,
          334,
          335,
          336,
          337,
          338,
          339,
          340,
          341,
          342,
          343,
          344,
          345,
          346,
          347,
          348,
          349,
          350,
          351,
          352,
          353,
          354,
          355,
          356,
          357,
          358,
          359,
          360,
          361,
          362,
          363,
          364,
          365,
          366,
          367,
          368,
          369,
          370,
          371,
          372,
          373,
          374,
          375,
          376,
          377,
          378,
          379,
          380,
          381,
          382,
          383,
          384,
          385,
          386,
          387,
          388,
          389,
          390,
          391,
          392,
          393,
          394,
          395,
          396,
          397,
          398,
          399,
          400,
          401,
          402,
          403,
          404,
          405,
          406,
          407,
          408,
          409,
          410,
          411,
          412,
          413,
          414,
          415,
          416,
          417,
          418,
          419,
          420,
          421,
          422,
          423,
          424,
          425,
          426,
          427,
          428,
          429,
          430,
          431,
          432,
          433,
          434,
          435,
          436,
          437,
          438,
          439,
          440,
          441,
          442,
          443,
          444,
          445,
          446,
          447,
          448,
          449,
          450,
          451,
          452,
          453,
          454,
          455,
          456,
          457,
          458,
          459,
          460,
          461,
          462,
          463,
          464,
          465,
          466,
          467,
          468,
          469,
          470,
          471,
          472,
          473,
          474,
          475,
          476,
          477,
          478,
          479,
          480,
          481,
          482,
          483,
          484,
          485,
          486,
          487,
          488,
          489,
          490,
          491,
          492,
          493,
          494,
          495,
          496,
          497,
          498,
          499,
          500,
          501,
          502,
          503,
          504,
          505,
          506,
          507,
          508,
          509,
          510,
          511,
          512,
          513,
          514,
          515,
          516,
          517,
          518,
          519,
          520,
          521,
          522,
          523,
          524,
          525,
          526,
          527,
          528,
          529,
          530,
          531,
          532,
          533,
          534,
          535,
          536,
          537,
          538,
          539,
          540,
          541,
          542,
          543,
          544,
          545,
          546,
          547,
          548,
          549,
          550,
          551,
          552,
          553,
          554,
          555,
          556,
          557,
          558,
          559,
          560,
          561,
          562,
          563,
          564,
          565,
          566,
          567,
          568,
          569,
          570,
          571,
          572,
          573,
          574,
          575,
          576,
          577,
          578,
          579,
          580,
          581,
          582,
          583,
          584,
          585,
          586,
          587,
          588,
          589,
          590,
          591,
          592,
          593,
          594,
          595,
          596,
          597,
          598,
          599,
          600,
          601,
          602,
          603,
          604,
          605,
          606,
          607,
          608,
          609,
          610,
          611,
          612,
          613,
          614,
          615,
          616,
          617,
          618,
          619,
          620,
          621,
          622,
          623,
          624,
          625,
          626,
          627,
          628,
          629,
          630,
          631,
          632,
          633,
          634,
          635,
          636,
          637,
          638,
          639,
          640,
          641,
          642,
          643,
          644,
          645,
          646,
          647,
          648,
          649,
          650,
          651,
          652,
          653,
          654,
          655,
          656,
          657,
          658,
          659,
          660,
          661,
          662,
          663,
          664,
          665,
          666,
          667,
          668,
          669,
          670,
          671,
          672,
          673,
          674,
          675,
          676,
          677,
          678,
          679,
          680,
          681,
          682,
          683,
          684,
          685,
          686,
          687,
          688,
          689,
          690,
          691,
          692,
          693,
          694,
          695,
          696,
          697,
          698,
          699,
          700,
          701,
          702,
          703,
          704,
          705,
          706,
          707,
          708,
          709,
          710,
          711,
          712,
          713,
          714,
          715,
          716,
          717,
          718,
          719,
          720,
          721,
          722,
          723,
          724,
          725,
          726,
          727,
          728,
          729,
          730,
          731,
          732,
          733,
          734,
          735,
          736,
          737,
          738,
          739,
          740,
          741,
          742,
          743,
          744,
          745,
          746,
          747,
          748,
          749,
          750,
          751,
          752,
          753,
          754,
          755,
          756,
          757,
          758,
          759,
          760,
          761,
          762,
          763,
          764,
          765,
          766,
          767,
          768,
          769,
          770,
          771,
          772,
          773,
          774,
          775,
          776,
          777,
          778,
          779,
          780,
          781,
          782,
          783,
          784,
          785,
          786,
          787,
          788,
          789,
          790,
          791,
          792,
          793,
          794,
          795,
          796,
          797,
          798,
          799,
          800,
          801,
          802,
          803,
          804,
          805,
          806,
          807,
          808,
          809,
          810,
          811,
          812,
          813,
          814,
          815,
          816,
          817,
          818,
          819,
          820,
          821,
          822,
          823,
          824,
          825,
          826,
          827,
          828,
          829,
          830,
          831,
          832,
          833,
          834,
          835,
          836,
          837,
          838,
          839,
          840,
          841,
          842,
          843,
          844,
          845,
          846,
          847,
          848,
          849,
          850,
          851,
          852,
          853,
          854,
          855,
          856,
          857,
          858,
          859,
          860,
          861,
          862,
          863,
          864,
          865,
          866,
          867,
          868,
          869,
          870,
          871,
          872,
          873,
          874,
          875,
          876,
          877,
          878,
          879,
          880,
          881,
          882,
          883,
          884,
          885,
          886,
          887,
          888,
          889,
          890,
          891,
          892,
          893,
          894,
          895,
          896,
          897,
          898,
          899,
          900,
          901,
          902,
          903,
          904,
          905,
          906,
          907,
          908,
          909,
          910,
          911,
          912,
          913,
          914,
          915,
          916,
          917,
          918,
          919,
          920,
          921,
          922,
          923,
          924,
          925,
          926,
          927,
          928,
          929,
          930,
          931,
          932,
          933,
          934,
          935,
          936,
          937,
          938,
          939,
          940,
          941,
          942,
          943,
          944,
          945,
          946,
          947,
          948,
          949,
          950,
          951,
          952,
          953,
          954,
          955,
          956,
          957,
          958,
          959,
          960,
          961,
          962,
          963,
          964,
          965,
          966,
          967,
          968,
          969,
          970,
          971,
          972,
          973,
          974,
          975,
          976,
          977,
          978,
          979,
          980,
          981,
          982,
          983,
          984,
          985,
          986,
          987,
          988,
          989,
          990,
          991,
          992,
          993,
          994,
          995,
          996,
          997,
          998,
          999,
          1000
         ],
         "xaxis": "x",
         "y": [
          1,
          0.5,
          0.6666666666666666,
          0.75,
          0.6,
          0.6666666666666666,
          0.5714285714285714,
          0.625,
          0.6666666666666666,
          0.6,
          0.5454545454545454,
          0.5833333333333334,
          0.5384615384615384,
          0.5,
          0.5333333333333333,
          0.5625,
          0.5882352941176471,
          0.6111111111111112,
          0.631578947368421,
          0.65,
          0.6666666666666666,
          0.6363636363636364,
          0.6086956521739131,
          0.5833333333333334,
          0.56,
          0.5384615384615384,
          0.5185185185185185,
          0.5357142857142857,
          0.5172413793103449,
          0.5,
          0.4838709677419355,
          0.5,
          0.5151515151515151,
          0.5294117647058824,
          0.5428571428571428,
          0.5555555555555556,
          0.5405405405405406,
          0.5526315789473685,
          0.5641025641025641,
          0.55,
          0.5365853658536586,
          0.5238095238095238,
          0.5348837209302325,
          0.5227272727272727,
          0.5111111111111111,
          0.5217391304347826,
          0.5319148936170213,
          0.5208333333333334,
          0.5102040816326531,
          0.52,
          0.5294117647058824,
          0.5192307692307693,
          0.5094339622641509,
          0.5,
          0.4909090909090909,
          0.48214285714285715,
          0.49122807017543857,
          0.4827586206896552,
          0.4915254237288136,
          0.48333333333333334,
          0.4918032786885246,
          0.4838709677419355,
          0.49206349206349204,
          0.484375,
          0.47692307692307695,
          0.48484848484848486,
          0.4925373134328358,
          0.5,
          0.4927536231884058,
          0.4857142857142857,
          0.49295774647887325,
          0.4861111111111111,
          0.4931506849315068,
          0.4864864864864865,
          0.49333333333333335,
          0.4868421052631579,
          0.4805194805194805,
          0.47435897435897434,
          0.4810126582278481,
          0.475,
          0.48148148148148145,
          0.47560975609756095,
          0.46987951807228917,
          0.4642857142857143,
          0.47058823529411764,
          0.47674418604651164,
          0.4827586206896552,
          0.48863636363636365,
          0.48314606741573035,
          0.4888888888888889,
          0.4835164835164835,
          0.4891304347826087,
          0.4838709677419355,
          0.4787234042553192,
          0.47368421052631576,
          0.4791666666666667,
          0.4742268041237113,
          0.46938775510204084,
          0.47474747474747475,
          0.48,
          0.4752475247524752,
          0.4803921568627451,
          0.47572815533980584,
          0.47115384615384615,
          0.47619047619047616,
          0.4811320754716981,
          0.4766355140186916,
          0.4722222222222222,
          0.47706422018348627,
          0.4818181818181818,
          0.4864864864864865,
          0.49107142857142855,
          0.48672566371681414,
          0.4824561403508772,
          0.4782608695652174,
          0.47413793103448276,
          0.47863247863247865,
          0.4745762711864407,
          0.4789915966386555,
          0.48333333333333334,
          0.48760330578512395,
          0.48360655737704916,
          0.4878048780487805,
          0.49193548387096775,
          0.488,
          0.48412698412698413,
          0.48031496062992124,
          0.484375,
          0.4883720930232558,
          0.4846153846153846,
          0.48091603053435117,
          0.48484848484848486,
          0.48872180451127817,
          0.48507462686567165,
          0.4888888888888889,
          0.49264705882352944,
          0.49635036496350365,
          0.4927536231884058,
          0.49640287769784175,
          0.5,
          0.49645390070921985,
          0.49295774647887325,
          0.48951048951048953,
          0.4930555555555556,
          0.496551724137931,
          0.5,
          0.4965986394557823,
          0.5,
          0.4966442953020134,
          0.5,
          0.5033112582781457,
          0.506578947368421,
          0.5098039215686274,
          0.512987012987013,
          0.5161290322580645,
          0.5192307692307693,
          0.5222929936305732,
          0.5189873417721519,
          0.5157232704402516,
          0.5125,
          0.515527950310559,
          0.5185185185185185,
          0.5153374233128835,
          0.5121951219512195,
          0.5151515151515151,
          0.5180722891566265,
          0.5209580838323353,
          0.5238095238095238,
          0.5266272189349113,
          0.5294117647058824,
          0.5263157894736842,
          0.5290697674418605,
          0.5260115606936416,
          0.5229885057471264,
          0.52,
          0.5227272727272727,
          0.519774011299435,
          0.5224719101123596,
          0.5251396648044693,
          0.5277777777777778,
          0.5303867403314917,
          0.532967032967033,
          0.5355191256830601,
          0.5380434782608695,
          0.5405405405405406,
          0.543010752688172,
          0.5454545454545454,
          0.5478723404255319,
          0.544973544973545,
          0.5473684210526316,
          0.5497382198952879,
          0.546875,
          0.5440414507772021,
          0.5463917525773195,
          0.5435897435897435,
          0.5459183673469388,
          0.5482233502538071,
          0.5454545454545454,
          0.5477386934673367,
          0.55,
          0.5472636815920398,
          0.5445544554455446,
          0.5467980295566502,
          0.5441176470588235,
          0.5463414634146342,
          0.5436893203883495,
          0.5458937198067633,
          0.5480769230769231,
          0.5502392344497608,
          0.5523809523809524,
          0.5497630331753555,
          0.5518867924528302,
          0.5492957746478874,
          0.5514018691588785,
          0.5488372093023256,
          0.5509259259259259,
          0.5529953917050692,
          0.5504587155963303,
          0.547945205479452,
          0.5454545454545454,
          0.5475113122171946,
          0.545045045045045,
          0.5426008968609866,
          0.5401785714285714,
          0.5377777777777778,
          0.5353982300884956,
          0.5374449339207048,
          0.5394736842105263,
          0.537117903930131,
          0.5391304347826087,
          0.5411255411255411,
          0.5431034482758621,
          0.5450643776824035,
          0.5427350427350427,
          0.5404255319148936,
          0.5423728813559322,
          0.540084388185654,
          0.542016806722689,
          0.5397489539748954,
          0.5375,
          0.5394190871369294,
          0.5413223140495868,
          0.5432098765432098,
          0.5450819672131147,
          0.5469387755102041,
          0.5487804878048781,
          0.5465587044534413,
          0.5483870967741935,
          0.5502008032128514,
          0.552,
          0.549800796812749,
          0.5515873015873016,
          0.5533596837944664,
          0.5551181102362205,
          0.5568627450980392,
          0.5546875,
          0.5525291828793775,
          0.5503875968992248,
          0.5521235521235521,
          0.55,
          0.5478927203065134,
          0.549618320610687,
          0.5513307984790875,
          0.553030303030303,
          0.5547169811320755,
          0.5526315789473685,
          0.5543071161048689,
          0.5559701492537313,
          0.5576208178438662,
          0.5555555555555556,
          0.5571955719557196,
          0.5588235294117647,
          0.5567765567765568,
          0.5583941605839416,
          0.56,
          0.5615942028985508,
          0.5631768953068592,
          0.564748201438849,
          0.5663082437275986,
          0.5642857142857143,
          0.5658362989323843,
          0.5673758865248227,
          0.5653710247349824,
          0.5633802816901409,
          0.5649122807017544,
          0.5664335664335665,
          0.5679442508710801,
          0.5694444444444444,
          0.5709342560553633,
          0.5724137931034483,
          0.570446735395189,
          0.5684931506849316,
          0.5699658703071673,
          0.5680272108843537,
          0.5694915254237288,
          0.5675675675675675,
          0.5656565656565656,
          0.5637583892617449,
          0.5652173913043478,
          0.5666666666666667,
          0.5647840531561462,
          0.5629139072847682,
          0.5643564356435643,
          0.5625,
          0.5606557377049181,
          0.5588235294117647,
          0.5570032573289903,
          0.5551948051948052,
          0.5533980582524272,
          0.5548387096774193,
          0.5562700964630225,
          0.5544871794871795,
          0.5559105431309904,
          0.5573248407643312,
          0.5555555555555556,
          0.5569620253164557,
          0.5583596214511041,
          0.5566037735849056,
          0.554858934169279,
          0.55625,
          0.5545171339563862,
          0.5559006211180124,
          0.5572755417956656,
          0.558641975308642,
          0.56,
          0.558282208588957,
          0.5596330275229358,
          0.5609756097560976,
          0.5623100303951368,
          0.5636363636363636,
          0.5649546827794562,
          0.5632530120481928,
          0.5645645645645646,
          0.5658682634730539,
          0.564179104477612,
          0.5625,
          0.5637982195845698,
          0.5650887573964497,
          0.5663716814159292,
          0.5647058823529412,
          0.5659824046920822,
          0.5672514619883041,
          0.565597667638484,
          0.563953488372093,
          0.5623188405797102,
          0.5606936416184971,
          0.5590778097982709,
          0.5574712643678161,
          0.5558739255014327,
          0.5571428571428572,
          0.5584045584045584,
          0.5596590909090909,
          0.5609065155807366,
          0.5621468926553672,
          0.5633802816901409,
          0.5646067415730337,
          0.5630252100840336,
          0.5642458100558659,
          0.5654596100278552,
          0.5666666666666667,
          0.5678670360110804,
          0.569060773480663,
          0.5702479338842975,
          0.5686813186813187,
          0.5671232876712329,
          0.5655737704918032,
          0.5640326975476839,
          0.5652173913043478,
          0.5663956639566395,
          0.5675675675675675,
          0.568733153638814,
          0.5672043010752689,
          0.5683646112600537,
          0.5668449197860963,
          0.5653333333333334,
          0.5664893617021277,
          0.5649867374005305,
          0.5661375661375662,
          0.5646437994722955,
          0.5657894736842105,
          0.5669291338582677,
          0.5680628272251309,
          0.566579634464752,
          0.5677083333333334,
          0.5688311688311688,
          0.5673575129533679,
          0.5658914728682171,
          0.5670103092783505,
          0.5681233933161953,
          0.5692307692307692,
          0.5677749360613811,
          0.5688775510204082,
          0.5674300254452926,
          0.5685279187817259,
          0.5670886075949367,
          0.5681818181818182,
          0.5667506297229219,
          0.5678391959798995,
          0.5664160401002506,
          0.5675,
          0.5685785536159601,
          0.5671641791044776,
          0.56575682382134,
          0.5643564356435643,
          0.562962962962963,
          0.5640394088669951,
          0.5626535626535627,
          0.5637254901960784,
          0.5647921760391198,
          0.5658536585365853,
          0.5669099756690997,
          0.5655339805825242,
          0.5665859564164649,
          0.5652173913043478,
          0.5662650602409639,
          0.5673076923076923,
          0.5683453237410072,
          0.5669856459330144,
          0.568019093078759,
          0.569047619047619,
          0.5676959619952494,
          0.566350710900474,
          0.5650118203309693,
          0.5660377358490566,
          0.5647058823529412,
          0.5657276995305164,
          0.5667447306791569,
          0.5677570093457944,
          0.5664335664335665,
          0.5674418604651162,
          0.568445475638051,
          0.5671296296296297,
          0.5681293302540416,
          0.5668202764976958,
          0.5678160919540229,
          0.5665137614678899,
          0.5675057208237986,
          0.5684931506849316,
          0.5694760820045558,
          0.5704545454545454,
          0.5691609977324263,
          0.5678733031674208,
          0.5688487584650113,
          0.5698198198198198,
          0.5685393258426966,
          0.5672645739910314,
          0.5682326621923938,
          0.5669642857142857,
          0.5679287305122495,
          0.5688888888888889,
          0.5698447893569845,
          0.5707964601769911,
          0.5717439293598234,
          0.5704845814977973,
          0.5714285714285714,
          0.5701754385964912,
          0.5689277899343544,
          0.5698689956331878,
          0.5686274509803921,
          0.5695652173913044,
          0.5704989154013015,
          0.5714285714285714,
          0.572354211663067,
          0.5711206896551724,
          0.5720430107526882,
          0.572961373390558,
          0.5717344753747323,
          0.5705128205128205,
          0.5714285714285714,
          0.5702127659574469,
          0.5711252653927813,
          0.5720338983050848,
          0.572938689217759,
          0.5738396624472574,
          0.5747368421052632,
          0.5735294117647058,
          0.5744234800838575,
          0.5753138075313807,
          0.5741127348643006,
          0.575,
          0.5758835758835759,
          0.5746887966804979,
          0.5734989648033126,
          0.5743801652892562,
          0.5752577319587628,
          0.5761316872427984,
          0.5770020533880903,
          0.5778688524590164,
          0.5766871165644172,
          0.5755102040816327,
          0.5763747454175153,
          0.5752032520325203,
          0.5740365111561866,
          0.5748987854251012,
          0.5757575757575758,
          0.5766129032258065,
          0.5754527162977867,
          0.5742971887550201,
          0.5751503006012024,
          0.576,
          0.5768463073852296,
          0.5756972111553785,
          0.5765407554671969,
          0.5753968253968254,
          0.5762376237623762,
          0.5770750988142292,
          0.5759368836291914,
          0.5748031496062992,
          0.5736738703339882,
          0.5745098039215686,
          0.5733855185909981,
          0.57421875,
          0.5750487329434698,
          0.5758754863813229,
          0.5766990291262136,
          0.5775193798449613,
          0.5764023210831721,
          0.5752895752895753,
          0.5761078998073218,
          0.575,
          0.5738963531669866,
          0.5747126436781609,
          0.5755258126195029,
          0.5744274809160306,
          0.5733333333333334,
          0.5722433460076045,
          0.573055028462998,
          0.571969696969697,
          0.5708884688090737,
          0.569811320754717,
          0.568738229755179,
          0.5695488721804511,
          0.5703564727954972,
          0.5711610486891385,
          0.5719626168224299,
          0.5708955223880597,
          0.5698324022346368,
          0.570631970260223,
          0.5714285714285714,
          0.5722222222222222,
          0.5730129390018485,
          0.5719557195571956,
          0.572744014732965,
          0.5735294117647058,
          0.5743119266055046,
          0.5732600732600732,
          0.5740402193784278,
          0.5748175182481752,
          0.5737704918032787,
          0.5727272727272728,
          0.573502722323049,
          0.5742753623188406,
          0.5750452079566004,
          0.5740072202166066,
          0.5747747747747748,
          0.5755395683453237,
          0.5763016157989228,
          0.5752688172043011,
          0.5760286225402504,
          0.5767857142857142,
          0.5775401069518716,
          0.5765124555160143,
          0.5754884547069272,
          0.5762411347517731,
          0.5752212389380531,
          0.5759717314487632,
          0.5749559082892416,
          0.5757042253521126,
          0.5746924428822495,
          0.5736842105263158,
          0.574430823117338,
          0.5751748251748252,
          0.5741710296684118,
          0.573170731707317,
          0.5721739130434783,
          0.5711805555555556,
          0.5719237435008665,
          0.5726643598615917,
          0.5716753022452504,
          0.5706896551724138,
          0.5714285714285714,
          0.5721649484536082,
          0.5711835334476844,
          0.5702054794520548,
          0.5692307692307692,
          0.568259385665529,
          0.5672913117546848,
          0.5680272108843537,
          0.567062818336163,
          0.5677966101694916,
          0.5668358714043993,
          0.5675675675675675,
          0.5682967959527825,
          0.569023569023569,
          0.5697478991596638,
          0.5704697986577181,
          0.5711892797319933,
          0.5719063545150501,
          0.5726210350584308,
          0.5733333333333334,
          0.5740432612312812,
          0.574750830564784,
          0.5737976782752903,
          0.5745033112582781,
          0.5752066115702479,
          0.5759075907590759,
          0.5766062602965404,
          0.5756578947368421,
          0.5763546798029556,
          0.5770491803278689,
          0.5777414075286416,
          0.576797385620915,
          0.5774877650897227,
          0.5765472312703583,
          0.5772357723577236,
          0.577922077922078,
          0.5786061588330632,
          0.5776699029126213,
          0.5783521809369951,
          0.5774193548387097,
          0.5764895330112721,
          0.5771704180064309,
          0.5778491171749599,
          0.5785256410256411,
          0.5792,
          0.5798722044728435,
          0.580542264752791,
          0.5812101910828026,
          0.5818759936406995,
          0.5825396825396826,
          0.5832012678288431,
          0.5838607594936709,
          0.5829383886255924,
          0.583596214511041,
          0.5826771653543307,
          0.5817610062893082,
          0.5824175824175825,
          0.5830721003134797,
          0.5837245696400626,
          0.5828125,
          0.5834633385335414,
          0.5825545171339563,
          0.583203732503888,
          0.5822981366459627,
          0.5829457364341085,
          0.5820433436532507,
          0.5811437403400309,
          0.5817901234567902,
          0.5824345146379045,
          0.583076923076923,
          0.5837173579109063,
          0.5843558282208589,
          0.5834609494640123,
          0.5840978593272171,
          0.583206106870229,
          0.5838414634146342,
          0.5829528158295282,
          0.5820668693009119,
          0.582701062215478,
          0.5833333333333334,
          0.583963691376702,
          0.5845921450151057,
          0.5852187028657617,
          0.5858433734939759,
          0.5849624060150376,
          0.5855855855855856,
          0.5862068965517241,
          0.5868263473053892,
          0.5874439461883408,
          0.5880597014925373,
          0.587183308494784,
          0.5877976190476191,
          0.5884101040118871,
          0.5890207715133531,
          0.5881481481481482,
          0.5887573964497042,
          0.5893648449039882,
          0.588495575221239,
          0.5876288659793815,
          0.5882352941176471,
          0.5888399412628488,
          0.5879765395894428,
          0.5885797950219619,
          0.5891812865497076,
          0.5883211678832116,
          0.5874635568513119,
          0.586608442503639,
          0.5857558139534884,
          0.5863570391872278,
          0.5869565217391305,
          0.5875542691751086,
          0.5867052023121387,
          0.5858585858585859,
          0.5864553314121037,
          0.5856115107913669,
          0.5847701149425287,
          0.5853658536585366,
          0.5859598853868195,
          0.586552217453505,
          0.5857142857142857,
          0.5863052781740371,
          0.5868945868945868,
          0.5860597439544808,
          0.5852272727272727,
          0.5858156028368794,
          0.5864022662889519,
          0.5869872701555869,
          0.5861581920903954,
          0.5853314527503526,
          0.5859154929577465,
          0.5850914205344585,
          0.5842696629213483,
          0.5834502103786816,
          0.5840336134453782,
          0.5846153846153846,
          0.5837988826815642,
          0.5843793584379359,
          0.584958217270195,
          0.5855354659248957,
          0.5847222222222223,
          0.5839112343966713,
          0.5844875346260388,
          0.5850622406639004,
          0.585635359116022,
          0.5862068965517241,
          0.5867768595041323,
          0.5873452544704264,
          0.5879120879120879,
          0.5871056241426612,
          0.5863013698630137,
          0.5868673050615595,
          0.5860655737704918,
          0.5866302864938608,
          0.5858310626702997,
          0.5863945578231292,
          0.5855978260869565,
          0.5848032564450475,
          0.5853658536585366,
          0.5859269282814614,
          0.5864864864864865,
          0.5870445344129555,
          0.5862533692722371,
          0.585464333781965,
          0.5860215053763441,
          0.5852348993288591,
          0.5844504021447721,
          0.5850066934404283,
          0.5855614973262032,
          0.5861148197596796,
          0.5853333333333334,
          0.5858854860186418,
          0.5851063829787234,
          0.5856573705179283,
          0.5862068965517241,
          0.5854304635761589,
          0.5846560846560847,
          0.583883751651255,
          0.58311345646438,
          0.5836627140974967,
          0.5842105263157895,
          0.5834428383705651,
          0.5826771653543307,
          0.583224115334207,
          0.5837696335078534,
          0.5830065359477125,
          0.5822454308093995,
          0.5814863102998696,
          0.58203125,
          0.5812743823146944,
          0.5805194805194805,
          0.5810635538261998,
          0.5816062176165803,
          0.5821474773609314,
          0.582687338501292,
          0.5832258064516129,
          0.5837628865979382,
          0.5842985842985843,
          0.583547557840617,
          0.582798459563543,
          0.5833333333333334,
          0.5825864276568502,
          0.5831202046035806,
          0.5823754789272031,
          0.5816326530612245,
          0.5808917197452229,
          0.5814249363867684,
          0.5819567979669632,
          0.5812182741116751,
          0.5804816223067174,
          0.5810126582278481,
          0.5802781289506953,
          0.5795454545454546,
          0.5800756620428752,
          0.5793450881612091,
          0.579874213836478,
          0.5804020100502513,
          0.5809284818067754,
          0.581453634085213,
          0.5807259073842302,
          0.58,
          0.5792759051186017,
          0.5798004987531172,
          0.5790784557907845,
          0.5796019900497512,
          0.5801242236024845,
          0.5806451612903226,
          0.5799256505576208,
          0.5804455445544554,
          0.5797280593325093,
          0.5790123456790124,
          0.5795314426633785,
          0.5788177339901478,
          0.5781057810578106,
          0.5786240786240786,
          0.5791411042944785,
          0.5784313725490197,
          0.5777233782129743,
          0.578239608801956,
          0.5775335775335775,
          0.5768292682926829,
          0.5761266747868453,
          0.5766423357664233,
          0.5771567436208992,
          0.5776699029126213,
          0.5781818181818181,
          0.5786924939467313,
          0.5792019347037485,
          0.5797101449275363,
          0.5790108564535585,
          0.5795180722891566,
          0.5800240673886883,
          0.5793269230769231,
          0.5798319327731093,
          0.580335731414868,
          0.5808383233532934,
          0.5813397129186603,
          0.5806451612903226,
          0.581145584725537,
          0.5816448152562574,
          0.580952380952381,
          0.5802615933412604,
          0.5807600950118765,
          0.5812574139976275,
          0.580568720379147,
          0.5798816568047337,
          0.5791962174940898,
          0.5785123966942148,
          0.5790094339622641,
          0.5783274440518257,
          0.5788235294117647,
          0.5781433607520564,
          0.5786384976525821,
          0.5779601406799532,
          0.5772833723653396,
          0.5766081871345029,
          0.5771028037383178,
          0.5764294049008168,
          0.5757575757575758,
          0.5762514551804424,
          0.5767441860465117,
          0.5772357723577236,
          0.5777262180974478,
          0.578215527230591,
          0.5787037037037037,
          0.5791907514450867,
          0.5796766743648961,
          0.5790080738177624,
          0.5794930875576036,
          0.5799769850402762,
          0.5804597701149425,
          0.5797933409873708,
          0.5802752293577982,
          0.5807560137457045,
          0.580091533180778,
          0.5794285714285714,
          0.5799086757990868,
          0.580387685290764,
          0.5797266514806378,
          0.5802047781569966,
          0.5806818181818182,
          0.5811577752553916,
          0.5804988662131519,
          0.579841449603624,
          0.580316742081448,
          0.5796610169491525,
          0.5801354401805869,
          0.580608793686584,
          0.581081081081081,
          0.5804274465691789,
          0.5797752808988764,
          0.5802469135802469,
          0.5807174887892377,
          0.5811870100783875,
          0.5805369127516778,
          0.5810055865921788,
          0.5803571428571429,
          0.5808249721293199,
          0.5801781737193764,
          0.5806451612903226,
          0.5811111111111111,
          0.5804661487236404,
          0.5798226164079823,
          0.5791805094130675,
          0.5796460176991151,
          0.580110497237569,
          0.5794701986754967,
          0.5799338478500551,
          0.579295154185022,
          0.5797579757975797,
          0.5802197802197803,
          0.5806805708013172,
          0.581140350877193,
          0.5805038335158818,
          0.5798687089715536,
          0.580327868852459,
          0.5807860262008734,
          0.5801526717557252,
          0.579520697167756,
          0.5788900979325353,
          0.5782608695652174,
          0.5787187839305103,
          0.5780911062906724,
          0.5774647887323944,
          0.5768398268398268,
          0.5762162162162162,
          0.5766738660907127,
          0.5760517799352751,
          0.5765086206896551,
          0.5769644779332616,
          0.5774193548387097,
          0.5778732545649838,
          0.5772532188841202,
          0.5766345123258306,
          0.5770877944325482,
          0.5764705882352941,
          0.5769230769230769,
          0.5773745997865528,
          0.5778251599147122,
          0.577209797657082,
          0.5776595744680851,
          0.5781083953241233,
          0.5774946921443737,
          0.5768822905620361,
          0.576271186440678,
          0.5756613756613757,
          0.5761099365750528,
          0.5755015839493136,
          0.5759493670886076,
          0.5763962065331928,
          0.5768421052631579,
          0.5772870662460567,
          0.5766806722689075,
          0.5760755508919203,
          0.5754716981132075,
          0.5759162303664922,
          0.5753138075313807,
          0.5757575757575758,
          0.5762004175365344,
          0.5766423357664233,
          0.5770833333333333,
          0.5764828303850156,
          0.5758835758835759,
          0.5752855659397715,
          0.5757261410788381,
          0.5761658031088083,
          0.5755693581780539,
          0.5760082730093071,
          0.5754132231404959,
          0.5748194014447885,
          0.5752577319587628,
          0.5756951596292482,
          0.5751028806584362,
          0.5755395683453237,
          0.5749486652977412,
          0.5743589743589743,
          0.5737704918032787,
          0.5731832139201638,
          0.5725971370143149,
          0.5720122574055159,
          0.5724489795918367,
          0.5728848114169215,
          0.5733197556008147,
          0.572736520854527,
          0.573170731707317,
          0.5736040609137056,
          0.5740365111561866,
          0.5734549138804458,
          0.5728744939271255,
          0.5722952477249748,
          0.5727272727272728,
          0.5731584258324924,
          0.5725806451612904,
          0.5730110775427996,
          0.5724346076458753,
          0.5728643216080402,
          0.5732931726907631,
          0.5737211634904714,
          0.5731462925851704,
          0.5725725725725725,
          0.573
         ],
         "yaxis": "y"
        },
        {
         "hovertemplate": "Type=Best<br>Round=%{x}<br>Reward=%{y}<extra></extra>",
         "legendgroup": "Best",
         "line": {
          "color": "#EF553B",
          "dash": "solid"
         },
         "marker": {
          "symbol": "circle"
         },
         "mode": "lines",
         "name": "Best",
         "showlegend": true,
         "type": "scattergl",
         "x": [
          1,
          2,
          3,
          4,
          5,
          6,
          7,
          8,
          9,
          10,
          11,
          12,
          13,
          14,
          15,
          16,
          17,
          18,
          19,
          20,
          21,
          22,
          23,
          24,
          25,
          26,
          27,
          28,
          29,
          30,
          31,
          32,
          33,
          34,
          35,
          36,
          37,
          38,
          39,
          40,
          41,
          42,
          43,
          44,
          45,
          46,
          47,
          48,
          49,
          50,
          51,
          52,
          53,
          54,
          55,
          56,
          57,
          58,
          59,
          60,
          61,
          62,
          63,
          64,
          65,
          66,
          67,
          68,
          69,
          70,
          71,
          72,
          73,
          74,
          75,
          76,
          77,
          78,
          79,
          80,
          81,
          82,
          83,
          84,
          85,
          86,
          87,
          88,
          89,
          90,
          91,
          92,
          93,
          94,
          95,
          96,
          97,
          98,
          99,
          100,
          101,
          102,
          103,
          104,
          105,
          106,
          107,
          108,
          109,
          110,
          111,
          112,
          113,
          114,
          115,
          116,
          117,
          118,
          119,
          120,
          121,
          122,
          123,
          124,
          125,
          126,
          127,
          128,
          129,
          130,
          131,
          132,
          133,
          134,
          135,
          136,
          137,
          138,
          139,
          140,
          141,
          142,
          143,
          144,
          145,
          146,
          147,
          148,
          149,
          150,
          151,
          152,
          153,
          154,
          155,
          156,
          157,
          158,
          159,
          160,
          161,
          162,
          163,
          164,
          165,
          166,
          167,
          168,
          169,
          170,
          171,
          172,
          173,
          174,
          175,
          176,
          177,
          178,
          179,
          180,
          181,
          182,
          183,
          184,
          185,
          186,
          187,
          188,
          189,
          190,
          191,
          192,
          193,
          194,
          195,
          196,
          197,
          198,
          199,
          200,
          201,
          202,
          203,
          204,
          205,
          206,
          207,
          208,
          209,
          210,
          211,
          212,
          213,
          214,
          215,
          216,
          217,
          218,
          219,
          220,
          221,
          222,
          223,
          224,
          225,
          226,
          227,
          228,
          229,
          230,
          231,
          232,
          233,
          234,
          235,
          236,
          237,
          238,
          239,
          240,
          241,
          242,
          243,
          244,
          245,
          246,
          247,
          248,
          249,
          250,
          251,
          252,
          253,
          254,
          255,
          256,
          257,
          258,
          259,
          260,
          261,
          262,
          263,
          264,
          265,
          266,
          267,
          268,
          269,
          270,
          271,
          272,
          273,
          274,
          275,
          276,
          277,
          278,
          279,
          280,
          281,
          282,
          283,
          284,
          285,
          286,
          287,
          288,
          289,
          290,
          291,
          292,
          293,
          294,
          295,
          296,
          297,
          298,
          299,
          300,
          301,
          302,
          303,
          304,
          305,
          306,
          307,
          308,
          309,
          310,
          311,
          312,
          313,
          314,
          315,
          316,
          317,
          318,
          319,
          320,
          321,
          322,
          323,
          324,
          325,
          326,
          327,
          328,
          329,
          330,
          331,
          332,
          333,
          334,
          335,
          336,
          337,
          338,
          339,
          340,
          341,
          342,
          343,
          344,
          345,
          346,
          347,
          348,
          349,
          350,
          351,
          352,
          353,
          354,
          355,
          356,
          357,
          358,
          359,
          360,
          361,
          362,
          363,
          364,
          365,
          366,
          367,
          368,
          369,
          370,
          371,
          372,
          373,
          374,
          375,
          376,
          377,
          378,
          379,
          380,
          381,
          382,
          383,
          384,
          385,
          386,
          387,
          388,
          389,
          390,
          391,
          392,
          393,
          394,
          395,
          396,
          397,
          398,
          399,
          400,
          401,
          402,
          403,
          404,
          405,
          406,
          407,
          408,
          409,
          410,
          411,
          412,
          413,
          414,
          415,
          416,
          417,
          418,
          419,
          420,
          421,
          422,
          423,
          424,
          425,
          426,
          427,
          428,
          429,
          430,
          431,
          432,
          433,
          434,
          435,
          436,
          437,
          438,
          439,
          440,
          441,
          442,
          443,
          444,
          445,
          446,
          447,
          448,
          449,
          450,
          451,
          452,
          453,
          454,
          455,
          456,
          457,
          458,
          459,
          460,
          461,
          462,
          463,
          464,
          465,
          466,
          467,
          468,
          469,
          470,
          471,
          472,
          473,
          474,
          475,
          476,
          477,
          478,
          479,
          480,
          481,
          482,
          483,
          484,
          485,
          486,
          487,
          488,
          489,
          490,
          491,
          492,
          493,
          494,
          495,
          496,
          497,
          498,
          499,
          500,
          501,
          502,
          503,
          504,
          505,
          506,
          507,
          508,
          509,
          510,
          511,
          512,
          513,
          514,
          515,
          516,
          517,
          518,
          519,
          520,
          521,
          522,
          523,
          524,
          525,
          526,
          527,
          528,
          529,
          530,
          531,
          532,
          533,
          534,
          535,
          536,
          537,
          538,
          539,
          540,
          541,
          542,
          543,
          544,
          545,
          546,
          547,
          548,
          549,
          550,
          551,
          552,
          553,
          554,
          555,
          556,
          557,
          558,
          559,
          560,
          561,
          562,
          563,
          564,
          565,
          566,
          567,
          568,
          569,
          570,
          571,
          572,
          573,
          574,
          575,
          576,
          577,
          578,
          579,
          580,
          581,
          582,
          583,
          584,
          585,
          586,
          587,
          588,
          589,
          590,
          591,
          592,
          593,
          594,
          595,
          596,
          597,
          598,
          599,
          600,
          601,
          602,
          603,
          604,
          605,
          606,
          607,
          608,
          609,
          610,
          611,
          612,
          613,
          614,
          615,
          616,
          617,
          618,
          619,
          620,
          621,
          622,
          623,
          624,
          625,
          626,
          627,
          628,
          629,
          630,
          631,
          632,
          633,
          634,
          635,
          636,
          637,
          638,
          639,
          640,
          641,
          642,
          643,
          644,
          645,
          646,
          647,
          648,
          649,
          650,
          651,
          652,
          653,
          654,
          655,
          656,
          657,
          658,
          659,
          660,
          661,
          662,
          663,
          664,
          665,
          666,
          667,
          668,
          669,
          670,
          671,
          672,
          673,
          674,
          675,
          676,
          677,
          678,
          679,
          680,
          681,
          682,
          683,
          684,
          685,
          686,
          687,
          688,
          689,
          690,
          691,
          692,
          693,
          694,
          695,
          696,
          697,
          698,
          699,
          700,
          701,
          702,
          703,
          704,
          705,
          706,
          707,
          708,
          709,
          710,
          711,
          712,
          713,
          714,
          715,
          716,
          717,
          718,
          719,
          720,
          721,
          722,
          723,
          724,
          725,
          726,
          727,
          728,
          729,
          730,
          731,
          732,
          733,
          734,
          735,
          736,
          737,
          738,
          739,
          740,
          741,
          742,
          743,
          744,
          745,
          746,
          747,
          748,
          749,
          750,
          751,
          752,
          753,
          754,
          755,
          756,
          757,
          758,
          759,
          760,
          761,
          762,
          763,
          764,
          765,
          766,
          767,
          768,
          769,
          770,
          771,
          772,
          773,
          774,
          775,
          776,
          777,
          778,
          779,
          780,
          781,
          782,
          783,
          784,
          785,
          786,
          787,
          788,
          789,
          790,
          791,
          792,
          793,
          794,
          795,
          796,
          797,
          798,
          799,
          800,
          801,
          802,
          803,
          804,
          805,
          806,
          807,
          808,
          809,
          810,
          811,
          812,
          813,
          814,
          815,
          816,
          817,
          818,
          819,
          820,
          821,
          822,
          823,
          824,
          825,
          826,
          827,
          828,
          829,
          830,
          831,
          832,
          833,
          834,
          835,
          836,
          837,
          838,
          839,
          840,
          841,
          842,
          843,
          844,
          845,
          846,
          847,
          848,
          849,
          850,
          851,
          852,
          853,
          854,
          855,
          856,
          857,
          858,
          859,
          860,
          861,
          862,
          863,
          864,
          865,
          866,
          867,
          868,
          869,
          870,
          871,
          872,
          873,
          874,
          875,
          876,
          877,
          878,
          879,
          880,
          881,
          882,
          883,
          884,
          885,
          886,
          887,
          888,
          889,
          890,
          891,
          892,
          893,
          894,
          895,
          896,
          897,
          898,
          899,
          900,
          901,
          902,
          903,
          904,
          905,
          906,
          907,
          908,
          909,
          910,
          911,
          912,
          913,
          914,
          915,
          916,
          917,
          918,
          919,
          920,
          921,
          922,
          923,
          924,
          925,
          926,
          927,
          928,
          929,
          930,
          931,
          932,
          933,
          934,
          935,
          936,
          937,
          938,
          939,
          940,
          941,
          942,
          943,
          944,
          945,
          946,
          947,
          948,
          949,
          950,
          951,
          952,
          953,
          954,
          955,
          956,
          957,
          958,
          959,
          960,
          961,
          962,
          963,
          964,
          965,
          966,
          967,
          968,
          969,
          970,
          971,
          972,
          973,
          974,
          975,
          976,
          977,
          978,
          979,
          980,
          981,
          982,
          983,
          984,
          985,
          986,
          987,
          988,
          989,
          990,
          991,
          992,
          993,
          994,
          995,
          996,
          997,
          998,
          999,
          1000
         ],
         "xaxis": "x",
         "y": [
          0.9807641983846155,
          0.9807641983846155,
          0.9807641983846155,
          0.9807641983846155,
          0.9807641983846155,
          0.9807641983846155,
          0.9807641983846155,
          0.9807641983846155,
          0.9807641983846155,
          0.9807641983846155,
          0.9807641983846155,
          0.9807641983846155,
          0.9807641983846155,
          0.9807641983846155,
          0.9807641983846155,
          0.9807641983846155,
          0.9807641983846155,
          0.9807641983846155,
          0.9807641983846155,
          0.9807641983846155,
          0.9807641983846155,
          0.9807641983846155,
          0.9807641983846155,
          0.9807641983846155,
          0.9807641983846155,
          0.9807641983846155,
          0.9807641983846155,
          0.9807641983846155,
          0.9807641983846155,
          0.9807641983846155,
          0.9807641983846155,
          0.9807641983846155,
          0.9807641983846155,
          0.9807641983846155,
          0.9807641983846155,
          0.9807641983846155,
          0.9807641983846155,
          0.9807641983846155,
          0.9807641983846155,
          0.9807641983846155,
          0.9807641983846155,
          0.9807641983846155,
          0.9807641983846155,
          0.9807641983846155,
          0.9807641983846155,
          0.9807641983846155,
          0.9807641983846155,
          0.9807641983846155,
          0.9807641983846155,
          0.9807641983846155,
          0.9807641983846155,
          0.9807641983846155,
          0.9807641983846155,
          0.9807641983846155,
          0.9807641983846155,
          0.9807641983846155,
          0.9807641983846155,
          0.9807641983846155,
          0.9807641983846155,
          0.9807641983846155,
          0.9807641983846155,
          0.9807641983846155,
          0.9807641983846155,
          0.9807641983846155,
          0.9807641983846155,
          0.9807641983846155,
          0.9807641983846155,
          0.9807641983846155,
          0.9807641983846155,
          0.9807641983846155,
          0.9807641983846155,
          0.9807641983846155,
          0.9807641983846155,
          0.9807641983846155,
          0.9807641983846155,
          0.9807641983846155,
          0.9807641983846155,
          0.9807641983846155,
          0.9807641983846155,
          0.9807641983846155,
          0.9807641983846155,
          0.9807641983846155,
          0.9807641983846155,
          0.9807641983846155,
          0.9807641983846155,
          0.9807641983846155,
          0.9807641983846155,
          0.9807641983846155,
          0.9807641983846155,
          0.9807641983846155,
          0.9807641983846155,
          0.9807641983846155,
          0.9807641983846155,
          0.9807641983846155,
          0.9807641983846155,
          0.9807641983846155,
          0.9807641983846155,
          0.9807641983846155,
          0.9807641983846155,
          0.9807641983846155,
          0.9807641983846155,
          0.9807641983846155,
          0.9807641983846155,
          0.9807641983846155,
          0.9807641983846155,
          0.9807641983846155,
          0.9807641983846155,
          0.9807641983846155,
          0.9807641983846155,
          0.9807641983846155,
          0.9807641983846155,
          0.9807641983846155,
          0.9807641983846155,
          0.9807641983846155,
          0.9807641983846155,
          0.9807641983846155,
          0.9807641983846155,
          0.9807641983846155,
          0.9807641983846155,
          0.9807641983846155,
          0.9807641983846155,
          0.9807641983846155,
          0.9807641983846155,
          0.9807641983846155,
          0.9807641983846155,
          0.9807641983846155,
          0.9807641983846155,
          0.9807641983846155,
          0.9807641983846155,
          0.9807641983846155,
          0.9807641983846155,
          0.9807641983846155,
          0.9807641983846155,
          0.9807641983846155,
          0.9807641983846155,
          0.9807641983846155,
          0.9807641983846155,
          0.9807641983846155,
          0.9807641983846155,
          0.9807641983846155,
          0.9807641983846155,
          0.9807641983846155,
          0.9807641983846155,
          0.9807641983846155,
          0.9807641983846155,
          0.9807641983846155,
          0.9807641983846155,
          0.9807641983846155,
          0.9807641983846155,
          0.9807641983846155,
          0.9807641983846155,
          0.9807641983846155,
          0.9807641983846155,
          0.9807641983846155,
          0.9807641983846155,
          0.9807641983846155,
          0.9807641983846155,
          0.9807641983846155,
          0.9807641983846155,
          0.9807641983846155,
          0.9807641983846155,
          0.9807641983846155,
          0.9807641983846155,
          0.9807641983846155,
          0.9807641983846155,
          0.9807641983846155,
          0.9807641983846155,
          0.9807641983846155,
          0.9807641983846155,
          0.9807641983846155,
          0.9807641983846155,
          0.9807641983846155,
          0.9807641983846155,
          0.9807641983846155,
          0.9807641983846155,
          0.9807641983846155,
          0.9807641983846155,
          0.9807641983846155,
          0.9807641983846155,
          0.9807641983846155,
          0.9807641983846155,
          0.9807641983846155,
          0.9807641983846155,
          0.9807641983846155,
          0.9807641983846155,
          0.9807641983846155,
          0.9807641983846155,
          0.9807641983846155,
          0.9807641983846155,
          0.9807641983846155,
          0.9807641983846155,
          0.9807641983846155,
          0.9807641983846155,
          0.9807641983846155,
          0.9807641983846155,
          0.9807641983846155,
          0.9807641983846155,
          0.9807641983846155,
          0.9807641983846155,
          0.9807641983846155,
          0.9807641983846155,
          0.9807641983846155,
          0.9807641983846155,
          0.9807641983846155,
          0.9807641983846155,
          0.9807641983846155,
          0.9807641983846155,
          0.9807641983846155,
          0.9807641983846155,
          0.9807641983846155,
          0.9807641983846155,
          0.9807641983846155,
          0.9807641983846155,
          0.9807641983846155,
          0.9807641983846155,
          0.9807641983846155,
          0.9807641983846155,
          0.9807641983846155,
          0.9807641983846155,
          0.9807641983846155,
          0.9807641983846155,
          0.9807641983846155,
          0.9807641983846155,
          0.9807641983846155,
          0.9807641983846155,
          0.9807641983846155,
          0.9807641983846155,
          0.9807641983846155,
          0.9807641983846155,
          0.9807641983846155,
          0.9807641983846155,
          0.9807641983846155,
          0.9807641983846155,
          0.9807641983846155,
          0.9807641983846155,
          0.9807641983846155,
          0.9807641983846155,
          0.9807641983846155,
          0.9807641983846155,
          0.9807641983846155,
          0.9807641983846155,
          0.9807641983846155,
          0.9807641983846155,
          0.9807641983846155,
          0.9807641983846155,
          0.9807641983846155,
          0.9807641983846155,
          0.9807641983846155,
          0.9807641983846155,
          0.9807641983846155,
          0.9807641983846155,
          0.9807641983846155,
          0.9807641983846155,
          0.9807641983846155,
          0.9807641983846155,
          0.9807641983846155,
          0.9807641983846155,
          0.9807641983846155,
          0.9807641983846155,
          0.9807641983846155,
          0.9807641983846155,
          0.9807641983846155,
          0.9807641983846155,
          0.9807641983846155,
          0.9807641983846155,
          0.9807641983846155,
          0.9807641983846155,
          0.9807641983846155,
          0.9807641983846155,
          0.9807641983846155,
          0.9807641983846155,
          0.9807641983846155,
          0.9807641983846155,
          0.9807641983846155,
          0.9807641983846155,
          0.9807641983846155,
          0.9807641983846155,
          0.9807641983846155,
          0.9807641983846155,
          0.9807641983846155,
          0.9807641983846155,
          0.9807641983846155,
          0.9807641983846155,
          0.9807641983846155,
          0.9807641983846155,
          0.9807641983846155,
          0.9807641983846155,
          0.9807641983846155,
          0.9807641983846155,
          0.9807641983846155,
          0.9807641983846155,
          0.9807641983846155,
          0.9807641983846155,
          0.9807641983846155,
          0.9807641983846155,
          0.9807641983846155,
          0.9807641983846155,
          0.9807641983846155,
          0.9807641983846155,
          0.9807641983846155,
          0.9807641983846155,
          0.9807641983846155,
          0.9807641983846155,
          0.9807641983846155,
          0.9807641983846155,
          0.9807641983846155,
          0.9807641983846155,
          0.9807641983846155,
          0.9807641983846155,
          0.9807641983846155,
          0.9807641983846155,
          0.9807641983846155,
          0.9807641983846155,
          0.9807641983846155,
          0.9807641983846155,
          0.9807641983846155,
          0.9807641983846155,
          0.9807641983846155,
          0.9807641983846155,
          0.9807641983846155,
          0.9807641983846155,
          0.9807641983846155,
          0.9807641983846155,
          0.9807641983846155,
          0.9807641983846155,
          0.9807641983846155,
          0.9807641983846155,
          0.9807641983846155,
          0.9807641983846155,
          0.9807641983846155,
          0.9807641983846155,
          0.9807641983846155,
          0.9807641983846155,
          0.9807641983846155,
          0.9807641983846155,
          0.9807641983846155,
          0.9807641983846155,
          0.9807641983846155,
          0.9807641983846155,
          0.9807641983846155,
          0.9807641983846155,
          0.9807641983846155,
          0.9807641983846155,
          0.9807641983846155,
          0.9807641983846155,
          0.9807641983846155,
          0.9807641983846155,
          0.9807641983846155,
          0.9807641983846155,
          0.9807641983846155,
          0.9807641983846155,
          0.9807641983846155,
          0.9807641983846155,
          0.9807641983846155,
          0.9807641983846155,
          0.9807641983846155,
          0.9807641983846155,
          0.9807641983846155,
          0.9807641983846155,
          0.9807641983846155,
          0.9807641983846155,
          0.9807641983846155,
          0.9807641983846155,
          0.9807641983846155,
          0.9807641983846155,
          0.9807641983846155,
          0.9807641983846155,
          0.9807641983846155,
          0.9807641983846155,
          0.9807641983846155,
          0.9807641983846155,
          0.9807641983846155,
          0.9807641983846155,
          0.9807641983846155,
          0.9807641983846155,
          0.9807641983846155,
          0.9807641983846155,
          0.9807641983846155,
          0.9807641983846155,
          0.9807641983846155,
          0.9807641983846155,
          0.9807641983846155,
          0.9807641983846155,
          0.9807641983846155,
          0.9807641983846155,
          0.9807641983846155,
          0.9807641983846155,
          0.9807641983846155,
          0.9807641983846155,
          0.9807641983846155,
          0.9807641983846155,
          0.9807641983846155,
          0.9807641983846155,
          0.9807641983846155,
          0.9807641983846155,
          0.9807641983846155,
          0.9807641983846155,
          0.9807641983846155,
          0.9807641983846155,
          0.9807641983846155,
          0.9807641983846155,
          0.9807641983846155,
          0.9807641983846155,
          0.9807641983846155,
          0.9807641983846155,
          0.9807641983846155,
          0.9807641983846155,
          0.9807641983846155,
          0.9807641983846155,
          0.9807641983846155,
          0.9807641983846155,
          0.9807641983846155,
          0.9807641983846155,
          0.9807641983846155,
          0.9807641983846155,
          0.9807641983846155,
          0.9807641983846155,
          0.9807641983846155,
          0.9807641983846155,
          0.9807641983846155,
          0.9807641983846155,
          0.9807641983846155,
          0.9807641983846155,
          0.9807641983846155,
          0.9807641983846155,
          0.9807641983846155,
          0.9807641983846155,
          0.9807641983846155,
          0.9807641983846155,
          0.9807641983846155,
          0.9807641983846155,
          0.9807641983846155,
          0.9807641983846155,
          0.9807641983846155,
          0.9807641983846155,
          0.9807641983846155,
          0.9807641983846155,
          0.9807641983846155,
          0.9807641983846155,
          0.9807641983846155,
          0.9807641983846155,
          0.9807641983846155,
          0.9807641983846155,
          0.9807641983846155,
          0.9807641983846155,
          0.9807641983846155,
          0.9807641983846155,
          0.9807641983846155,
          0.9807641983846155,
          0.9807641983846155,
          0.9807641983846155,
          0.9807641983846155,
          0.9807641983846155,
          0.9807641983846155,
          0.9807641983846155,
          0.9807641983846155,
          0.9807641983846155,
          0.9807641983846155,
          0.9807641983846155,
          0.9807641983846155,
          0.9807641983846155,
          0.9807641983846155,
          0.9807641983846155,
          0.9807641983846155,
          0.9807641983846155,
          0.9807641983846155,
          0.9807641983846155,
          0.9807641983846155,
          0.9807641983846155,
          0.9807641983846155,
          0.9807641983846155,
          0.9807641983846155,
          0.9807641983846155,
          0.9807641983846155,
          0.9807641983846155,
          0.9807641983846155,
          0.9807641983846155,
          0.9807641983846155,
          0.9807641983846155,
          0.9807641983846155,
          0.9807641983846155,
          0.9807641983846155,
          0.9807641983846155,
          0.9807641983846155,
          0.9807641983846155,
          0.9807641983846155,
          0.9807641983846155,
          0.9807641983846155,
          0.9807641983846155,
          0.9807641983846155,
          0.9807641983846155,
          0.9807641983846155,
          0.9807641983846155,
          0.9807641983846155,
          0.9807641983846155,
          0.9807641983846155,
          0.9807641983846155,
          0.9807641983846155,
          0.9807641983846155,
          0.9807641983846155,
          0.9807641983846155,
          0.9807641983846155,
          0.9807641983846155,
          0.9807641983846155,
          0.9807641983846155,
          0.9807641983846155,
          0.9807641983846155,
          0.9807641983846155,
          0.9807641983846155,
          0.9807641983846155,
          0.9807641983846155,
          0.9807641983846155,
          0.9807641983846155,
          0.9807641983846155,
          0.9807641983846155,
          0.9807641983846155,
          0.9807641983846155,
          0.9807641983846155,
          0.9807641983846155,
          0.9807641983846155,
          0.9807641983846155,
          0.9807641983846155,
          0.9807641983846155,
          0.9807641983846155,
          0.9807641983846155,
          0.9807641983846155,
          0.9807641983846155,
          0.9807641983846155,
          0.9807641983846155,
          0.9807641983846155,
          0.9807641983846155,
          0.9807641983846155,
          0.9807641983846155,
          0.9807641983846155,
          0.9807641983846155,
          0.9807641983846155,
          0.9807641983846155,
          0.9807641983846155,
          0.9807641983846155,
          0.9807641983846155,
          0.9807641983846155,
          0.9807641983846155,
          0.9807641983846155,
          0.9807641983846155,
          0.9807641983846155,
          0.9807641983846155,
          0.9807641983846155,
          0.9807641983846155,
          0.9807641983846155,
          0.9807641983846155,
          0.9807641983846155,
          0.9807641983846155,
          0.9807641983846155,
          0.9807641983846155,
          0.9807641983846155,
          0.9807641983846155,
          0.9807641983846155,
          0.9807641983846155,
          0.9807641983846155,
          0.9807641983846155,
          0.9807641983846155,
          0.9807641983846155,
          0.9807641983846155,
          0.9807641983846155,
          0.9807641983846155,
          0.9807641983846155,
          0.9807641983846155,
          0.9807641983846155,
          0.9807641983846155,
          0.9807641983846155,
          0.9807641983846155,
          0.9807641983846155,
          0.9807641983846155,
          0.9807641983846155,
          0.9807641983846155,
          0.9807641983846155,
          0.9807641983846155,
          0.9807641983846155,
          0.9807641983846155,
          0.9807641983846155,
          0.9807641983846155,
          0.9807641983846155,
          0.9807641983846155,
          0.9807641983846155,
          0.9807641983846155,
          0.9807641983846155,
          0.9807641983846155,
          0.9807641983846155,
          0.9807641983846155,
          0.9807641983846155,
          0.9807641983846155,
          0.9807641983846155,
          0.9807641983846155,
          0.9807641983846155,
          0.9807641983846155,
          0.9807641983846155,
          0.9807641983846155,
          0.9807641983846155,
          0.9807641983846155,
          0.9807641983846155,
          0.9807641983846155,
          0.9807641983846155,
          0.9807641983846155,
          0.9807641983846155,
          0.9807641983846155,
          0.9807641983846155,
          0.9807641983846155,
          0.9807641983846155,
          0.9807641983846155,
          0.9807641983846155,
          0.9807641983846155,
          0.9807641983846155,
          0.9807641983846155,
          0.9807641983846155,
          0.9807641983846155,
          0.9807641983846155,
          0.9807641983846155,
          0.9807641983846155,
          0.9807641983846155,
          0.9807641983846155,
          0.9807641983846155,
          0.9807641983846155,
          0.9807641983846155,
          0.9807641983846155,
          0.9807641983846155,
          0.9807641983846155,
          0.9807641983846155,
          0.9807641983846155,
          0.9807641983846155,
          0.9807641983846155,
          0.9807641983846155,
          0.9807641983846155,
          0.9807641983846155,
          0.9807641983846155,
          0.9807641983846155,
          0.9807641983846155,
          0.9807641983846155,
          0.9807641983846155,
          0.9807641983846155,
          0.9807641983846155,
          0.9807641983846155,
          0.9807641983846155,
          0.9807641983846155,
          0.9807641983846155,
          0.9807641983846155,
          0.9807641983846155,
          0.9807641983846155,
          0.9807641983846155,
          0.9807641983846155,
          0.9807641983846155,
          0.9807641983846155,
          0.9807641983846155,
          0.9807641983846155,
          0.9807641983846155,
          0.9807641983846155,
          0.9807641983846155,
          0.9807641983846155,
          0.9807641983846155,
          0.9807641983846155,
          0.9807641983846155,
          0.9807641983846155,
          0.9807641983846155,
          0.9807641983846155,
          0.9807641983846155,
          0.9807641983846155,
          0.9807641983846155,
          0.9807641983846155,
          0.9807641983846155,
          0.9807641983846155,
          0.9807641983846155,
          0.9807641983846155,
          0.9807641983846155,
          0.9807641983846155,
          0.9807641983846155,
          0.9807641983846155,
          0.9807641983846155,
          0.9807641983846155,
          0.9807641983846155,
          0.9807641983846155,
          0.9807641983846155,
          0.9807641983846155,
          0.9807641983846155,
          0.9807641983846155,
          0.9807641983846155,
          0.9807641983846155,
          0.9807641983846155,
          0.9807641983846155,
          0.9807641983846155,
          0.9807641983846155,
          0.9807641983846155,
          0.9807641983846155,
          0.9807641983846155,
          0.9807641983846155,
          0.9807641983846155,
          0.9807641983846155,
          0.9807641983846155,
          0.9807641983846155,
          0.9807641983846155,
          0.9807641983846155,
          0.9807641983846155,
          0.9807641983846155,
          0.9807641983846155,
          0.9807641983846155,
          0.9807641983846155,
          0.9807641983846155,
          0.9807641983846155,
          0.9807641983846155,
          0.9807641983846155,
          0.9807641983846155,
          0.9807641983846155,
          0.9807641983846155,
          0.9807641983846155,
          0.9807641983846155,
          0.9807641983846155,
          0.9807641983846155,
          0.9807641983846155,
          0.9807641983846155,
          0.9807641983846155,
          0.9807641983846155,
          0.9807641983846155,
          0.9807641983846155,
          0.9807641983846155,
          0.9807641983846155,
          0.9807641983846155,
          0.9807641983846155,
          0.9807641983846155,
          0.9807641983846155,
          0.9807641983846155,
          0.9807641983846155,
          0.9807641983846155,
          0.9807641983846155,
          0.9807641983846155,
          0.9807641983846155,
          0.9807641983846155,
          0.9807641983846155,
          0.9807641983846155,
          0.9807641983846155,
          0.9807641983846155,
          0.9807641983846155,
          0.9807641983846155,
          0.9807641983846155,
          0.9807641983846155,
          0.9807641983846155,
          0.9807641983846155,
          0.9807641983846155,
          0.9807641983846155,
          0.9807641983846155,
          0.9807641983846155,
          0.9807641983846155,
          0.9807641983846155,
          0.9807641983846155,
          0.9807641983846155,
          0.9807641983846155,
          0.9807641983846155,
          0.9807641983846155,
          0.9807641983846155,
          0.9807641983846155,
          0.9807641983846155,
          0.9807641983846155,
          0.9807641983846155,
          0.9807641983846155,
          0.9807641983846155,
          0.9807641983846155,
          0.9807641983846155,
          0.9807641983846155,
          0.9807641983846155,
          0.9807641983846155,
          0.9807641983846155,
          0.9807641983846155,
          0.9807641983846155,
          0.9807641983846155,
          0.9807641983846155,
          0.9807641983846155,
          0.9807641983846155,
          0.9807641983846155,
          0.9807641983846155,
          0.9807641983846155,
          0.9807641983846155,
          0.9807641983846155,
          0.9807641983846155,
          0.9807641983846155,
          0.9807641983846155,
          0.9807641983846155,
          0.9807641983846155,
          0.9807641983846155,
          0.9807641983846155,
          0.9807641983846155,
          0.9807641983846155,
          0.9807641983846155,
          0.9807641983846155,
          0.9807641983846155,
          0.9807641983846155,
          0.9807641983846155,
          0.9807641983846155,
          0.9807641983846155,
          0.9807641983846155,
          0.9807641983846155,
          0.9807641983846155,
          0.9807641983846155,
          0.9807641983846155,
          0.9807641983846155,
          0.9807641983846155,
          0.9807641983846155,
          0.9807641983846155,
          0.9807641983846155,
          0.9807641983846155,
          0.9807641983846155,
          0.9807641983846155,
          0.9807641983846155,
          0.9807641983846155,
          0.9807641983846155,
          0.9807641983846155,
          0.9807641983846155,
          0.9807641983846155,
          0.9807641983846155,
          0.9807641983846155,
          0.9807641983846155,
          0.9807641983846155,
          0.9807641983846155,
          0.9807641983846155,
          0.9807641983846155,
          0.9807641983846155,
          0.9807641983846155,
          0.9807641983846155,
          0.9807641983846155,
          0.9807641983846155,
          0.9807641983846155,
          0.9807641983846155,
          0.9807641983846155,
          0.9807641983846155,
          0.9807641983846155,
          0.9807641983846155,
          0.9807641983846155,
          0.9807641983846155,
          0.9807641983846155,
          0.9807641983846155,
          0.9807641983846155,
          0.9807641983846155,
          0.9807641983846155,
          0.9807641983846155,
          0.9807641983846155,
          0.9807641983846155,
          0.9807641983846155,
          0.9807641983846155,
          0.9807641983846155,
          0.9807641983846155,
          0.9807641983846155,
          0.9807641983846155,
          0.9807641983846155,
          0.9807641983846155,
          0.9807641983846155,
          0.9807641983846155,
          0.9807641983846155,
          0.9807641983846155,
          0.9807641983846155,
          0.9807641983846155,
          0.9807641983846155,
          0.9807641983846155,
          0.9807641983846155,
          0.9807641983846155,
          0.9807641983846155,
          0.9807641983846155,
          0.9807641983846155,
          0.9807641983846155,
          0.9807641983846155,
          0.9807641983846155,
          0.9807641983846155,
          0.9807641983846155,
          0.9807641983846155,
          0.9807641983846155,
          0.9807641983846155,
          0.9807641983846155,
          0.9807641983846155,
          0.9807641983846155,
          0.9807641983846155,
          0.9807641983846155,
          0.9807641983846155,
          0.9807641983846155,
          0.9807641983846155,
          0.9807641983846155,
          0.9807641983846155,
          0.9807641983846155,
          0.9807641983846155,
          0.9807641983846155,
          0.9807641983846155,
          0.9807641983846155,
          0.9807641983846155,
          0.9807641983846155,
          0.9807641983846155,
          0.9807641983846155,
          0.9807641983846155,
          0.9807641983846155,
          0.9807641983846155,
          0.9807641983846155,
          0.9807641983846155,
          0.9807641983846155,
          0.9807641983846155,
          0.9807641983846155,
          0.9807641983846155,
          0.9807641983846155,
          0.9807641983846155,
          0.9807641983846155,
          0.9807641983846155,
          0.9807641983846155,
          0.9807641983846155,
          0.9807641983846155,
          0.9807641983846155,
          0.9807641983846155,
          0.9807641983846155,
          0.9807641983846155,
          0.9807641983846155,
          0.9807641983846155,
          0.9807641983846155,
          0.9807641983846155,
          0.9807641983846155,
          0.9807641983846155,
          0.9807641983846155,
          0.9807641983846155,
          0.9807641983846155,
          0.9807641983846155,
          0.9807641983846155,
          0.9807641983846155,
          0.9807641983846155,
          0.9807641983846155,
          0.9807641983846155,
          0.9807641983846155,
          0.9807641983846155,
          0.9807641983846155,
          0.9807641983846155,
          0.9807641983846155,
          0.9807641983846155,
          0.9807641983846155,
          0.9807641983846155,
          0.9807641983846155,
          0.9807641983846155,
          0.9807641983846155,
          0.9807641983846155,
          0.9807641983846155,
          0.9807641983846155,
          0.9807641983846155,
          0.9807641983846155,
          0.9807641983846155,
          0.9807641983846155,
          0.9807641983846155,
          0.9807641983846155,
          0.9807641983846155,
          0.9807641983846155,
          0.9807641983846155,
          0.9807641983846155,
          0.9807641983846155,
          0.9807641983846155,
          0.9807641983846155,
          0.9807641983846155,
          0.9807641983846155,
          0.9807641983846155,
          0.9807641983846155,
          0.9807641983846155,
          0.9807641983846155,
          0.9807641983846155,
          0.9807641983846155,
          0.9807641983846155,
          0.9807641983846155,
          0.9807641983846155,
          0.9807641983846155,
          0.9807641983846155,
          0.9807641983846155,
          0.9807641983846155,
          0.9807641983846155,
          0.9807641983846155,
          0.9807641983846155,
          0.9807641983846155,
          0.9807641983846155,
          0.9807641983846155,
          0.9807641983846155,
          0.9807641983846155,
          0.9807641983846155,
          0.9807641983846155,
          0.9807641983846155,
          0.9807641983846155,
          0.9807641983846155,
          0.9807641983846155,
          0.9807641983846155,
          0.9807641983846155,
          0.9807641983846155,
          0.9807641983846155,
          0.9807641983846155,
          0.9807641983846155,
          0.9807641983846155,
          0.9807641983846155,
          0.9807641983846155,
          0.9807641983846155,
          0.9807641983846155,
          0.9807641983846155,
          0.9807641983846155,
          0.9807641983846155,
          0.9807641983846155,
          0.9807641983846155,
          0.9807641983846155,
          0.9807641983846155,
          0.9807641983846155
         ],
         "yaxis": "y"
        }
       ],
       "layout": {
        "legend": {
         "title": {
          "text": "Type"
         },
         "tracegroupgap": 0
        },
        "template": {
         "data": {
          "bar": [
           {
            "error_x": {
             "color": "#2a3f5f"
            },
            "error_y": {
             "color": "#2a3f5f"
            },
            "marker": {
             "line": {
              "color": "#E5ECF6",
              "width": 0.5
             },
             "pattern": {
              "fillmode": "overlay",
              "size": 10,
              "solidity": 0.2
             }
            },
            "type": "bar"
           }
          ],
          "barpolar": [
           {
            "marker": {
             "line": {
              "color": "#E5ECF6",
              "width": 0.5
             },
             "pattern": {
              "fillmode": "overlay",
              "size": 10,
              "solidity": 0.2
             }
            },
            "type": "barpolar"
           }
          ],
          "carpet": [
           {
            "aaxis": {
             "endlinecolor": "#2a3f5f",
             "gridcolor": "white",
             "linecolor": "white",
             "minorgridcolor": "white",
             "startlinecolor": "#2a3f5f"
            },
            "baxis": {
             "endlinecolor": "#2a3f5f",
             "gridcolor": "white",
             "linecolor": "white",
             "minorgridcolor": "white",
             "startlinecolor": "#2a3f5f"
            },
            "type": "carpet"
           }
          ],
          "choropleth": [
           {
            "colorbar": {
             "outlinewidth": 0,
             "ticks": ""
            },
            "type": "choropleth"
           }
          ],
          "contour": [
           {
            "colorbar": {
             "outlinewidth": 0,
             "ticks": ""
            },
            "colorscale": [
             [
              0,
              "#0d0887"
             ],
             [
              0.1111111111111111,
              "#46039f"
             ],
             [
              0.2222222222222222,
              "#7201a8"
             ],
             [
              0.3333333333333333,
              "#9c179e"
             ],
             [
              0.4444444444444444,
              "#bd3786"
             ],
             [
              0.5555555555555556,
              "#d8576b"
             ],
             [
              0.6666666666666666,
              "#ed7953"
             ],
             [
              0.7777777777777778,
              "#fb9f3a"
             ],
             [
              0.8888888888888888,
              "#fdca26"
             ],
             [
              1,
              "#f0f921"
             ]
            ],
            "type": "contour"
           }
          ],
          "contourcarpet": [
           {
            "colorbar": {
             "outlinewidth": 0,
             "ticks": ""
            },
            "type": "contourcarpet"
           }
          ],
          "heatmap": [
           {
            "colorbar": {
             "outlinewidth": 0,
             "ticks": ""
            },
            "colorscale": [
             [
              0,
              "#0d0887"
             ],
             [
              0.1111111111111111,
              "#46039f"
             ],
             [
              0.2222222222222222,
              "#7201a8"
             ],
             [
              0.3333333333333333,
              "#9c179e"
             ],
             [
              0.4444444444444444,
              "#bd3786"
             ],
             [
              0.5555555555555556,
              "#d8576b"
             ],
             [
              0.6666666666666666,
              "#ed7953"
             ],
             [
              0.7777777777777778,
              "#fb9f3a"
             ],
             [
              0.8888888888888888,
              "#fdca26"
             ],
             [
              1,
              "#f0f921"
             ]
            ],
            "type": "heatmap"
           }
          ],
          "heatmapgl": [
           {
            "colorbar": {
             "outlinewidth": 0,
             "ticks": ""
            },
            "colorscale": [
             [
              0,
              "#0d0887"
             ],
             [
              0.1111111111111111,
              "#46039f"
             ],
             [
              0.2222222222222222,
              "#7201a8"
             ],
             [
              0.3333333333333333,
              "#9c179e"
             ],
             [
              0.4444444444444444,
              "#bd3786"
             ],
             [
              0.5555555555555556,
              "#d8576b"
             ],
             [
              0.6666666666666666,
              "#ed7953"
             ],
             [
              0.7777777777777778,
              "#fb9f3a"
             ],
             [
              0.8888888888888888,
              "#fdca26"
             ],
             [
              1,
              "#f0f921"
             ]
            ],
            "type": "heatmapgl"
           }
          ],
          "histogram": [
           {
            "marker": {
             "pattern": {
              "fillmode": "overlay",
              "size": 10,
              "solidity": 0.2
             }
            },
            "type": "histogram"
           }
          ],
          "histogram2d": [
           {
            "colorbar": {
             "outlinewidth": 0,
             "ticks": ""
            },
            "colorscale": [
             [
              0,
              "#0d0887"
             ],
             [
              0.1111111111111111,
              "#46039f"
             ],
             [
              0.2222222222222222,
              "#7201a8"
             ],
             [
              0.3333333333333333,
              "#9c179e"
             ],
             [
              0.4444444444444444,
              "#bd3786"
             ],
             [
              0.5555555555555556,
              "#d8576b"
             ],
             [
              0.6666666666666666,
              "#ed7953"
             ],
             [
              0.7777777777777778,
              "#fb9f3a"
             ],
             [
              0.8888888888888888,
              "#fdca26"
             ],
             [
              1,
              "#f0f921"
             ]
            ],
            "type": "histogram2d"
           }
          ],
          "histogram2dcontour": [
           {
            "colorbar": {
             "outlinewidth": 0,
             "ticks": ""
            },
            "colorscale": [
             [
              0,
              "#0d0887"
             ],
             [
              0.1111111111111111,
              "#46039f"
             ],
             [
              0.2222222222222222,
              "#7201a8"
             ],
             [
              0.3333333333333333,
              "#9c179e"
             ],
             [
              0.4444444444444444,
              "#bd3786"
             ],
             [
              0.5555555555555556,
              "#d8576b"
             ],
             [
              0.6666666666666666,
              "#ed7953"
             ],
             [
              0.7777777777777778,
              "#fb9f3a"
             ],
             [
              0.8888888888888888,
              "#fdca26"
             ],
             [
              1,
              "#f0f921"
             ]
            ],
            "type": "histogram2dcontour"
           }
          ],
          "mesh3d": [
           {
            "colorbar": {
             "outlinewidth": 0,
             "ticks": ""
            },
            "type": "mesh3d"
           }
          ],
          "parcoords": [
           {
            "line": {
             "colorbar": {
              "outlinewidth": 0,
              "ticks": ""
             }
            },
            "type": "parcoords"
           }
          ],
          "pie": [
           {
            "automargin": true,
            "type": "pie"
           }
          ],
          "scatter": [
           {
            "fillpattern": {
             "fillmode": "overlay",
             "size": 10,
             "solidity": 0.2
            },
            "type": "scatter"
           }
          ],
          "scatter3d": [
           {
            "line": {
             "colorbar": {
              "outlinewidth": 0,
              "ticks": ""
             }
            },
            "marker": {
             "colorbar": {
              "outlinewidth": 0,
              "ticks": ""
             }
            },
            "type": "scatter3d"
           }
          ],
          "scattercarpet": [
           {
            "marker": {
             "colorbar": {
              "outlinewidth": 0,
              "ticks": ""
             }
            },
            "type": "scattercarpet"
           }
          ],
          "scattergeo": [
           {
            "marker": {
             "colorbar": {
              "outlinewidth": 0,
              "ticks": ""
             }
            },
            "type": "scattergeo"
           }
          ],
          "scattergl": [
           {
            "marker": {
             "colorbar": {
              "outlinewidth": 0,
              "ticks": ""
             }
            },
            "type": "scattergl"
           }
          ],
          "scattermapbox": [
           {
            "marker": {
             "colorbar": {
              "outlinewidth": 0,
              "ticks": ""
             }
            },
            "type": "scattermapbox"
           }
          ],
          "scatterpolar": [
           {
            "marker": {
             "colorbar": {
              "outlinewidth": 0,
              "ticks": ""
             }
            },
            "type": "scatterpolar"
           }
          ],
          "scatterpolargl": [
           {
            "marker": {
             "colorbar": {
              "outlinewidth": 0,
              "ticks": ""
             }
            },
            "type": "scatterpolargl"
           }
          ],
          "scatterternary": [
           {
            "marker": {
             "colorbar": {
              "outlinewidth": 0,
              "ticks": ""
             }
            },
            "type": "scatterternary"
           }
          ],
          "surface": [
           {
            "colorbar": {
             "outlinewidth": 0,
             "ticks": ""
            },
            "colorscale": [
             [
              0,
              "#0d0887"
             ],
             [
              0.1111111111111111,
              "#46039f"
             ],
             [
              0.2222222222222222,
              "#7201a8"
             ],
             [
              0.3333333333333333,
              "#9c179e"
             ],
             [
              0.4444444444444444,
              "#bd3786"
             ],
             [
              0.5555555555555556,
              "#d8576b"
             ],
             [
              0.6666666666666666,
              "#ed7953"
             ],
             [
              0.7777777777777778,
              "#fb9f3a"
             ],
             [
              0.8888888888888888,
              "#fdca26"
             ],
             [
              1,
              "#f0f921"
             ]
            ],
            "type": "surface"
           }
          ],
          "table": [
           {
            "cells": {
             "fill": {
              "color": "#EBF0F8"
             },
             "line": {
              "color": "white"
             }
            },
            "header": {
             "fill": {
              "color": "#C8D4E3"
             },
             "line": {
              "color": "white"
             }
            },
            "type": "table"
           }
          ]
         },
         "layout": {
          "annotationdefaults": {
           "arrowcolor": "#2a3f5f",
           "arrowhead": 0,
           "arrowwidth": 1
          },
          "autotypenumbers": "strict",
          "coloraxis": {
           "colorbar": {
            "outlinewidth": 0,
            "ticks": ""
           }
          },
          "colorscale": {
           "diverging": [
            [
             0,
             "#8e0152"
            ],
            [
             0.1,
             "#c51b7d"
            ],
            [
             0.2,
             "#de77ae"
            ],
            [
             0.3,
             "#f1b6da"
            ],
            [
             0.4,
             "#fde0ef"
            ],
            [
             0.5,
             "#f7f7f7"
            ],
            [
             0.6,
             "#e6f5d0"
            ],
            [
             0.7,
             "#b8e186"
            ],
            [
             0.8,
             "#7fbc41"
            ],
            [
             0.9,
             "#4d9221"
            ],
            [
             1,
             "#276419"
            ]
           ],
           "sequential": [
            [
             0,
             "#0d0887"
            ],
            [
             0.1111111111111111,
             "#46039f"
            ],
            [
             0.2222222222222222,
             "#7201a8"
            ],
            [
             0.3333333333333333,
             "#9c179e"
            ],
            [
             0.4444444444444444,
             "#bd3786"
            ],
            [
             0.5555555555555556,
             "#d8576b"
            ],
            [
             0.6666666666666666,
             "#ed7953"
            ],
            [
             0.7777777777777778,
             "#fb9f3a"
            ],
            [
             0.8888888888888888,
             "#fdca26"
            ],
            [
             1,
             "#f0f921"
            ]
           ],
           "sequentialminus": [
            [
             0,
             "#0d0887"
            ],
            [
             0.1111111111111111,
             "#46039f"
            ],
            [
             0.2222222222222222,
             "#7201a8"
            ],
            [
             0.3333333333333333,
             "#9c179e"
            ],
            [
             0.4444444444444444,
             "#bd3786"
            ],
            [
             0.5555555555555556,
             "#d8576b"
            ],
            [
             0.6666666666666666,
             "#ed7953"
            ],
            [
             0.7777777777777778,
             "#fb9f3a"
            ],
            [
             0.8888888888888888,
             "#fdca26"
            ],
            [
             1,
             "#f0f921"
            ]
           ]
          },
          "colorway": [
           "#636efa",
           "#EF553B",
           "#00cc96",
           "#ab63fa",
           "#FFA15A",
           "#19d3f3",
           "#FF6692",
           "#B6E880",
           "#FF97FF",
           "#FECB52"
          ],
          "font": {
           "color": "#2a3f5f"
          },
          "geo": {
           "bgcolor": "white",
           "lakecolor": "white",
           "landcolor": "#E5ECF6",
           "showlakes": true,
           "showland": true,
           "subunitcolor": "white"
          },
          "hoverlabel": {
           "align": "left"
          },
          "hovermode": "closest",
          "mapbox": {
           "style": "light"
          },
          "paper_bgcolor": "white",
          "plot_bgcolor": "#E5ECF6",
          "polar": {
           "angularaxis": {
            "gridcolor": "white",
            "linecolor": "white",
            "ticks": ""
           },
           "bgcolor": "#E5ECF6",
           "radialaxis": {
            "gridcolor": "white",
            "linecolor": "white",
            "ticks": ""
           }
          },
          "scene": {
           "xaxis": {
            "backgroundcolor": "#E5ECF6",
            "gridcolor": "white",
            "gridwidth": 2,
            "linecolor": "white",
            "showbackground": true,
            "ticks": "",
            "zerolinecolor": "white"
           },
           "yaxis": {
            "backgroundcolor": "#E5ECF6",
            "gridcolor": "white",
            "gridwidth": 2,
            "linecolor": "white",
            "showbackground": true,
            "ticks": "",
            "zerolinecolor": "white"
           },
           "zaxis": {
            "backgroundcolor": "#E5ECF6",
            "gridcolor": "white",
            "gridwidth": 2,
            "linecolor": "white",
            "showbackground": true,
            "ticks": "",
            "zerolinecolor": "white"
           }
          },
          "shapedefaults": {
           "line": {
            "color": "#2a3f5f"
           }
          },
          "ternary": {
           "aaxis": {
            "gridcolor": "white",
            "linecolor": "white",
            "ticks": ""
           },
           "baxis": {
            "gridcolor": "white",
            "linecolor": "white",
            "ticks": ""
           },
           "bgcolor": "#E5ECF6",
           "caxis": {
            "gridcolor": "white",
            "linecolor": "white",
            "ticks": ""
           }
          },
          "title": {
           "x": 0.05
          },
          "xaxis": {
           "automargin": true,
           "gridcolor": "white",
           "linecolor": "white",
           "ticks": "",
           "title": {
            "standoff": 15
           },
           "zerolinecolor": "white",
           "zerolinewidth": 2
          },
          "yaxis": {
           "automargin": true,
           "gridcolor": "white",
           "linecolor": "white",
           "ticks": "",
           "title": {
            "standoff": 15
           },
           "zerolinecolor": "white",
           "zerolinewidth": 2
          }
         }
        },
        "title": {
         "text": "Average Reward per Round"
        },
        "xaxis": {
         "anchor": "y",
         "domain": [
          0,
          1
         ],
         "title": {
          "text": "Round"
         }
        },
        "yaxis": {
         "anchor": "x",
         "domain": [
          0,
          1
         ],
         "title": {
          "text": "Reward"
         }
        }
       }
      }
     },
     "metadata": {},
     "output_type": "display_data"
    },
    {
     "data": {
      "application/vnd.plotly.v1+json": {
       "config": {
        "plotlyServerURL": "https://plot.ly"
       },
       "data": [
        {
         "alignmentgroup": "True",
         "hovertemplate": "Arm=%{x}<br>Number of Selections=%{y}<extra></extra>",
         "legendgroup": "",
         "marker": {
          "color": [
           "blue",
           "blue",
           "blue",
           "blue",
           "blue",
           "blue",
           "green",
           "blue",
           "blue",
           "blue"
          ],
          "pattern": {
           "shape": ""
          }
         },
         "name": "",
         "offsetgroup": "",
         "orientation": "v",
         "showlegend": false,
         "textposition": "auto",
         "type": "bar",
         "x": [
          "1",
          "2",
          "3",
          "4",
          "5",
          "6",
          "7",
          "8",
          "9",
          "10"
         ],
         "xaxis": "x",
         "y": [
          97,
          103,
          90,
          95,
          121,
          93,
          110,
          94,
          108,
          89
         ],
         "yaxis": "y"
        }
       ],
       "layout": {
        "barmode": "relative",
        "legend": {
         "tracegroupgap": 0
        },
        "template": {
         "data": {
          "bar": [
           {
            "error_x": {
             "color": "#2a3f5f"
            },
            "error_y": {
             "color": "#2a3f5f"
            },
            "marker": {
             "line": {
              "color": "#E5ECF6",
              "width": 0.5
             },
             "pattern": {
              "fillmode": "overlay",
              "size": 10,
              "solidity": 0.2
             }
            },
            "type": "bar"
           }
          ],
          "barpolar": [
           {
            "marker": {
             "line": {
              "color": "#E5ECF6",
              "width": 0.5
             },
             "pattern": {
              "fillmode": "overlay",
              "size": 10,
              "solidity": 0.2
             }
            },
            "type": "barpolar"
           }
          ],
          "carpet": [
           {
            "aaxis": {
             "endlinecolor": "#2a3f5f",
             "gridcolor": "white",
             "linecolor": "white",
             "minorgridcolor": "white",
             "startlinecolor": "#2a3f5f"
            },
            "baxis": {
             "endlinecolor": "#2a3f5f",
             "gridcolor": "white",
             "linecolor": "white",
             "minorgridcolor": "white",
             "startlinecolor": "#2a3f5f"
            },
            "type": "carpet"
           }
          ],
          "choropleth": [
           {
            "colorbar": {
             "outlinewidth": 0,
             "ticks": ""
            },
            "type": "choropleth"
           }
          ],
          "contour": [
           {
            "colorbar": {
             "outlinewidth": 0,
             "ticks": ""
            },
            "colorscale": [
             [
              0,
              "#0d0887"
             ],
             [
              0.1111111111111111,
              "#46039f"
             ],
             [
              0.2222222222222222,
              "#7201a8"
             ],
             [
              0.3333333333333333,
              "#9c179e"
             ],
             [
              0.4444444444444444,
              "#bd3786"
             ],
             [
              0.5555555555555556,
              "#d8576b"
             ],
             [
              0.6666666666666666,
              "#ed7953"
             ],
             [
              0.7777777777777778,
              "#fb9f3a"
             ],
             [
              0.8888888888888888,
              "#fdca26"
             ],
             [
              1,
              "#f0f921"
             ]
            ],
            "type": "contour"
           }
          ],
          "contourcarpet": [
           {
            "colorbar": {
             "outlinewidth": 0,
             "ticks": ""
            },
            "type": "contourcarpet"
           }
          ],
          "heatmap": [
           {
            "colorbar": {
             "outlinewidth": 0,
             "ticks": ""
            },
            "colorscale": [
             [
              0,
              "#0d0887"
             ],
             [
              0.1111111111111111,
              "#46039f"
             ],
             [
              0.2222222222222222,
              "#7201a8"
             ],
             [
              0.3333333333333333,
              "#9c179e"
             ],
             [
              0.4444444444444444,
              "#bd3786"
             ],
             [
              0.5555555555555556,
              "#d8576b"
             ],
             [
              0.6666666666666666,
              "#ed7953"
             ],
             [
              0.7777777777777778,
              "#fb9f3a"
             ],
             [
              0.8888888888888888,
              "#fdca26"
             ],
             [
              1,
              "#f0f921"
             ]
            ],
            "type": "heatmap"
           }
          ],
          "heatmapgl": [
           {
            "colorbar": {
             "outlinewidth": 0,
             "ticks": ""
            },
            "colorscale": [
             [
              0,
              "#0d0887"
             ],
             [
              0.1111111111111111,
              "#46039f"
             ],
             [
              0.2222222222222222,
              "#7201a8"
             ],
             [
              0.3333333333333333,
              "#9c179e"
             ],
             [
              0.4444444444444444,
              "#bd3786"
             ],
             [
              0.5555555555555556,
              "#d8576b"
             ],
             [
              0.6666666666666666,
              "#ed7953"
             ],
             [
              0.7777777777777778,
              "#fb9f3a"
             ],
             [
              0.8888888888888888,
              "#fdca26"
             ],
             [
              1,
              "#f0f921"
             ]
            ],
            "type": "heatmapgl"
           }
          ],
          "histogram": [
           {
            "marker": {
             "pattern": {
              "fillmode": "overlay",
              "size": 10,
              "solidity": 0.2
             }
            },
            "type": "histogram"
           }
          ],
          "histogram2d": [
           {
            "colorbar": {
             "outlinewidth": 0,
             "ticks": ""
            },
            "colorscale": [
             [
              0,
              "#0d0887"
             ],
             [
              0.1111111111111111,
              "#46039f"
             ],
             [
              0.2222222222222222,
              "#7201a8"
             ],
             [
              0.3333333333333333,
              "#9c179e"
             ],
             [
              0.4444444444444444,
              "#bd3786"
             ],
             [
              0.5555555555555556,
              "#d8576b"
             ],
             [
              0.6666666666666666,
              "#ed7953"
             ],
             [
              0.7777777777777778,
              "#fb9f3a"
             ],
             [
              0.8888888888888888,
              "#fdca26"
             ],
             [
              1,
              "#f0f921"
             ]
            ],
            "type": "histogram2d"
           }
          ],
          "histogram2dcontour": [
           {
            "colorbar": {
             "outlinewidth": 0,
             "ticks": ""
            },
            "colorscale": [
             [
              0,
              "#0d0887"
             ],
             [
              0.1111111111111111,
              "#46039f"
             ],
             [
              0.2222222222222222,
              "#7201a8"
             ],
             [
              0.3333333333333333,
              "#9c179e"
             ],
             [
              0.4444444444444444,
              "#bd3786"
             ],
             [
              0.5555555555555556,
              "#d8576b"
             ],
             [
              0.6666666666666666,
              "#ed7953"
             ],
             [
              0.7777777777777778,
              "#fb9f3a"
             ],
             [
              0.8888888888888888,
              "#fdca26"
             ],
             [
              1,
              "#f0f921"
             ]
            ],
            "type": "histogram2dcontour"
           }
          ],
          "mesh3d": [
           {
            "colorbar": {
             "outlinewidth": 0,
             "ticks": ""
            },
            "type": "mesh3d"
           }
          ],
          "parcoords": [
           {
            "line": {
             "colorbar": {
              "outlinewidth": 0,
              "ticks": ""
             }
            },
            "type": "parcoords"
           }
          ],
          "pie": [
           {
            "automargin": true,
            "type": "pie"
           }
          ],
          "scatter": [
           {
            "fillpattern": {
             "fillmode": "overlay",
             "size": 10,
             "solidity": 0.2
            },
            "type": "scatter"
           }
          ],
          "scatter3d": [
           {
            "line": {
             "colorbar": {
              "outlinewidth": 0,
              "ticks": ""
             }
            },
            "marker": {
             "colorbar": {
              "outlinewidth": 0,
              "ticks": ""
             }
            },
            "type": "scatter3d"
           }
          ],
          "scattercarpet": [
           {
            "marker": {
             "colorbar": {
              "outlinewidth": 0,
              "ticks": ""
             }
            },
            "type": "scattercarpet"
           }
          ],
          "scattergeo": [
           {
            "marker": {
             "colorbar": {
              "outlinewidth": 0,
              "ticks": ""
             }
            },
            "type": "scattergeo"
           }
          ],
          "scattergl": [
           {
            "marker": {
             "colorbar": {
              "outlinewidth": 0,
              "ticks": ""
             }
            },
            "type": "scattergl"
           }
          ],
          "scattermapbox": [
           {
            "marker": {
             "colorbar": {
              "outlinewidth": 0,
              "ticks": ""
             }
            },
            "type": "scattermapbox"
           }
          ],
          "scatterpolar": [
           {
            "marker": {
             "colorbar": {
              "outlinewidth": 0,
              "ticks": ""
             }
            },
            "type": "scatterpolar"
           }
          ],
          "scatterpolargl": [
           {
            "marker": {
             "colorbar": {
              "outlinewidth": 0,
              "ticks": ""
             }
            },
            "type": "scatterpolargl"
           }
          ],
          "scatterternary": [
           {
            "marker": {
             "colorbar": {
              "outlinewidth": 0,
              "ticks": ""
             }
            },
            "type": "scatterternary"
           }
          ],
          "surface": [
           {
            "colorbar": {
             "outlinewidth": 0,
             "ticks": ""
            },
            "colorscale": [
             [
              0,
              "#0d0887"
             ],
             [
              0.1111111111111111,
              "#46039f"
             ],
             [
              0.2222222222222222,
              "#7201a8"
             ],
             [
              0.3333333333333333,
              "#9c179e"
             ],
             [
              0.4444444444444444,
              "#bd3786"
             ],
             [
              0.5555555555555556,
              "#d8576b"
             ],
             [
              0.6666666666666666,
              "#ed7953"
             ],
             [
              0.7777777777777778,
              "#fb9f3a"
             ],
             [
              0.8888888888888888,
              "#fdca26"
             ],
             [
              1,
              "#f0f921"
             ]
            ],
            "type": "surface"
           }
          ],
          "table": [
           {
            "cells": {
             "fill": {
              "color": "#EBF0F8"
             },
             "line": {
              "color": "white"
             }
            },
            "header": {
             "fill": {
              "color": "#C8D4E3"
             },
             "line": {
              "color": "white"
             }
            },
            "type": "table"
           }
          ]
         },
         "layout": {
          "annotationdefaults": {
           "arrowcolor": "#2a3f5f",
           "arrowhead": 0,
           "arrowwidth": 1
          },
          "autotypenumbers": "strict",
          "coloraxis": {
           "colorbar": {
            "outlinewidth": 0,
            "ticks": ""
           }
          },
          "colorscale": {
           "diverging": [
            [
             0,
             "#8e0152"
            ],
            [
             0.1,
             "#c51b7d"
            ],
            [
             0.2,
             "#de77ae"
            ],
            [
             0.3,
             "#f1b6da"
            ],
            [
             0.4,
             "#fde0ef"
            ],
            [
             0.5,
             "#f7f7f7"
            ],
            [
             0.6,
             "#e6f5d0"
            ],
            [
             0.7,
             "#b8e186"
            ],
            [
             0.8,
             "#7fbc41"
            ],
            [
             0.9,
             "#4d9221"
            ],
            [
             1,
             "#276419"
            ]
           ],
           "sequential": [
            [
             0,
             "#0d0887"
            ],
            [
             0.1111111111111111,
             "#46039f"
            ],
            [
             0.2222222222222222,
             "#7201a8"
            ],
            [
             0.3333333333333333,
             "#9c179e"
            ],
            [
             0.4444444444444444,
             "#bd3786"
            ],
            [
             0.5555555555555556,
             "#d8576b"
            ],
            [
             0.6666666666666666,
             "#ed7953"
            ],
            [
             0.7777777777777778,
             "#fb9f3a"
            ],
            [
             0.8888888888888888,
             "#fdca26"
            ],
            [
             1,
             "#f0f921"
            ]
           ],
           "sequentialminus": [
            [
             0,
             "#0d0887"
            ],
            [
             0.1111111111111111,
             "#46039f"
            ],
            [
             0.2222222222222222,
             "#7201a8"
            ],
            [
             0.3333333333333333,
             "#9c179e"
            ],
            [
             0.4444444444444444,
             "#bd3786"
            ],
            [
             0.5555555555555556,
             "#d8576b"
            ],
            [
             0.6666666666666666,
             "#ed7953"
            ],
            [
             0.7777777777777778,
             "#fb9f3a"
            ],
            [
             0.8888888888888888,
             "#fdca26"
            ],
            [
             1,
             "#f0f921"
            ]
           ]
          },
          "colorway": [
           "#636efa",
           "#EF553B",
           "#00cc96",
           "#ab63fa",
           "#FFA15A",
           "#19d3f3",
           "#FF6692",
           "#B6E880",
           "#FF97FF",
           "#FECB52"
          ],
          "font": {
           "color": "#2a3f5f"
          },
          "geo": {
           "bgcolor": "white",
           "lakecolor": "white",
           "landcolor": "#E5ECF6",
           "showlakes": true,
           "showland": true,
           "subunitcolor": "white"
          },
          "hoverlabel": {
           "align": "left"
          },
          "hovermode": "closest",
          "mapbox": {
           "style": "light"
          },
          "paper_bgcolor": "white",
          "plot_bgcolor": "#E5ECF6",
          "polar": {
           "angularaxis": {
            "gridcolor": "white",
            "linecolor": "white",
            "ticks": ""
           },
           "bgcolor": "#E5ECF6",
           "radialaxis": {
            "gridcolor": "white",
            "linecolor": "white",
            "ticks": ""
           }
          },
          "scene": {
           "xaxis": {
            "backgroundcolor": "#E5ECF6",
            "gridcolor": "white",
            "gridwidth": 2,
            "linecolor": "white",
            "showbackground": true,
            "ticks": "",
            "zerolinecolor": "white"
           },
           "yaxis": {
            "backgroundcolor": "#E5ECF6",
            "gridcolor": "white",
            "gridwidth": 2,
            "linecolor": "white",
            "showbackground": true,
            "ticks": "",
            "zerolinecolor": "white"
           },
           "zaxis": {
            "backgroundcolor": "#E5ECF6",
            "gridcolor": "white",
            "gridwidth": 2,
            "linecolor": "white",
            "showbackground": true,
            "ticks": "",
            "zerolinecolor": "white"
           }
          },
          "shapedefaults": {
           "line": {
            "color": "#2a3f5f"
           }
          },
          "ternary": {
           "aaxis": {
            "gridcolor": "white",
            "linecolor": "white",
            "ticks": ""
           },
           "baxis": {
            "gridcolor": "white",
            "linecolor": "white",
            "ticks": ""
           },
           "bgcolor": "#E5ECF6",
           "caxis": {
            "gridcolor": "white",
            "linecolor": "white",
            "ticks": ""
           }
          },
          "title": {
           "x": 0.05
          },
          "xaxis": {
           "automargin": true,
           "gridcolor": "white",
           "linecolor": "white",
           "ticks": "",
           "title": {
            "standoff": 15
           },
           "zerolinecolor": "white",
           "zerolinewidth": 2
          },
          "yaxis": {
           "automargin": true,
           "gridcolor": "white",
           "linecolor": "white",
           "ticks": "",
           "title": {
            "standoff": 15
           },
           "zerolinecolor": "white",
           "zerolinewidth": 2
          }
         }
        },
        "title": {
         "text": "Number of Selections of Each Arm"
        },
        "xaxis": {
         "anchor": "y",
         "domain": [
          0,
          1
         ],
         "title": {
          "text": "Arm"
         }
        },
        "yaxis": {
         "anchor": "x",
         "domain": [
          0,
          1
         ],
         "title": {
          "text": "Number of Selections"
         }
        }
       }
      }
     },
     "metadata": {},
     "output_type": "display_data"
    }
   ],
   "source": [
    "random_results = MABExperiment(\n",
    "    num_arms=NUM_ARMS, \n",
    "    num_rounds=NUM_ROUNDS,\n",
    "    algorithm=Random(NUM_ARMS),\n",
    "    environment=env\n",
    ").run()"
   ]
  },
  {
   "cell_type": "markdown",
   "metadata": {},
   "source": [
    "## Criando e testando os algoritmos"
   ]
  },
  {
   "cell_type": "markdown",
   "metadata": {},
   "source": [
    "### Explore-first"
   ]
  },
  {
   "cell_type": "markdown",
   "metadata": {},
   "source": [
    "Algoritmo bem simples, no início, explora cada ação N vezes. Após isso, na fase de aprofundamento, escolhe a ação que teve os melhores resultados (ou seja, a média de recompensas maior entre todas ações)."
   ]
  },
  {
   "cell_type": "markdown",
   "metadata": {},
   "source": [
    "### Epsilon-Greedy"
   ]
  },
  {
   "cell_type": "markdown",
   "metadata": {},
   "source": []
  }
 ],
 "metadata": {
  "kernelspec": {
   "display_name": "ML",
   "language": "python",
   "name": "python3"
  },
  "language_info": {
   "codemirror_mode": {
    "name": "ipython",
    "version": 3
   },
   "file_extension": ".py",
   "mimetype": "text/x-python",
   "name": "python",
   "nbconvert_exporter": "python",
   "pygments_lexer": "ipython3",
   "version": "3.8.16"
  }
 },
 "nbformat": 4,
 "nbformat_minor": 2
}
